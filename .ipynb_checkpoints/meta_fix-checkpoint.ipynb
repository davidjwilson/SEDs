{
 "cells": [
  {
   "cell_type": "markdown",
   "id": "907c7486-592d-4a77-ba1d-42b9ed9e2965",
   "metadata": {},
   "source": [
    "Updating the SED files for MUSCLES to newer MAST standards - modified from the same notebook for MEATS"
   ]
  },
  {
   "cell_type": "code",
   "execution_count": 2,
   "id": "e11e3f52-2aa8-4db5-9396-5d0af82acd27",
   "metadata": {},
   "outputs": [],
   "source": [
    "import numpy as np\n",
    "import matplotlib.pyplot as plt\n",
    "import astropy.io.fits as fits\n",
    "import os\n",
    "import glob\n",
    "from astropy.table import Table\n",
    "from astropy.io import ascii\n",
    "from astropy.convolution import convolve, Box1DKernel\n",
    "from scipy.interpolate import interp1d\n",
    "\n",
    "import astropy.units as u\n",
    "from astropy import time, coordinates as coord\n",
    "import astropy.constants as const\n",
    "from astropy.modeling import models, fitting\n",
    "from astropy.coordinates import SkyCoord\n",
    "from matplotlib.gridspec import GridSpec\n",
    "from datetime import datetime\n",
    "from astroquery.simbad import Simbad\n",
    "\n",
    "#matplotlib set up\n",
    "%matplotlib inline\n",
    "from matplotlib import rcParams\n",
    "rcParams[\"figure.figsize\"] = (14, 5)\n",
    "rcParams[\"font.size\"] = 20"
   ]
  },
  {
   "cell_type": "code",
   "execution_count": 5,
   "id": "dfe69efa-49b5-4733-8a53-2cab3a7bebff",
   "metadata": {},
   "outputs": [],
   "source": [
    "oldv = 1\n",
    "version = 25 #v25 is now the MUSCLES update, MEATS will have to be v26"
   ]
  },
  {
   "cell_type": "markdown",
   "id": "28ac22e9-b03d-4a29-836d-885e2b5ef536",
   "metadata": {},
   "source": [
    "\n",
    "    STIS spectra\n",
    "\n",
    "DOI = ‘10.17909/T9DG6F’\n",
    "\n",
    "EQUINOX =’2000.2’ or RADESYS = 'ICRS'\n",
    "\n",
    "HLSPID =’MUSCLES’\n",
    "\n",
    "HLSPVER=’V1’\n",
    "\n",
    "LICENSE =’CC BY 4.0’\n",
    "\n",
    "LICENSURL= 'https://creativecommons.org/licenses/by/4.0/'\n",
    "\n",
    "TIMESYS: Character string code (see FITS Standard) for the time scale of time-related keywords. Ex: 'UTC'\n",
    "\n",
    " \n",
    "\n",
    "    Model spectra\n",
    "\n",
    "The same set of metadata is required as STIS data except for EQUINOX/RADESYS and TIMESYS.\n",
    "\n",
    " \n",
    "\n",
    "    SED data \n",
    "\n",
    "The same set of metadata is required as STIS data except for OBSERVAT.\n",
    "\n",
    "MJD-BEG and MJD-END in the primary header. (* see below)\n",
    "\n",
    " \n",
    "\n",
    "    XMM data\n",
    "\n",
    "The same set of metadata is required as STIS data.\n",
    "\n",
    "RA_TARG and DEC_TARG values are missing. Please include the correct RA/Dec values."
   ]
  },
  {
   "cell_type": "code",
   "execution_count": 11,
   "id": "5a6afe22-d187-4070-b5ce-395364b4ddaa",
   "metadata": {},
   "outputs": [
    {
     "name": "stdout",
     "output_type": "stream",
     "text": [
      "['GJ1132' 'GJ15A' 'GJ163' 'GJ649' 'GJ674' 'GJ676A' 'GJ699' 'GJ729' 'GJ849'\n",
      " 'L-980-5' 'LHS-2686' 'TRAPPIST-1']\n",
      "12\n"
     ]
    }
   ],
   "source": [
    "inpath = '/media/david/2tb_ext_hd/hddata/mega_muscles/v24_hlsp/'\n",
    "outpath = '/media/david/2tb_ext_hd/hddata/mega_muscles/v26_hlsp_fixed/'\n",
    "stars = os.listdir(inpath)\n",
    "# print(stars)\n",
    "stars = np.array(stars)\n",
    "# mask = stars != '.ipynb_checkpoints'\n",
    "# print(mask)\n",
    "# stars = stars[mask]\n",
    "star_fix = np.copy(stars)  #change to simbad recognised names\n",
    "for i in range(len(stars)):\n",
    "    if stars[i] == 'L-980-5':\n",
    "        star_fix[i] = 'L 980-5'\n",
    "    if stars[i] == 'LHS-2686':\n",
    "        star_fix[i] = 'LHS 2686'\n",
    "    \n",
    "print(stars)\n",
    "print(len(stars))"
   ]
  },
  {
   "cell_type": "code",
   "execution_count": 12,
   "id": "831d1ac0-f418-4bc7-8f80-662cbac45a50",
   "metadata": {},
   "outputs": [
    {
     "data": {
      "text/html": [
       "<div><i>Table length=12</i>\n",
       "<table id=\"table131701974620432\" class=\"table-striped table-bordered table-condensed\">\n",
       "<thead><tr><th>MAIN_ID</th><th>RA</th><th>DEC</th><th>RA_PREC</th><th>DEC_PREC</th><th>COO_ERR_MAJA</th><th>COO_ERR_MINA</th><th>COO_ERR_ANGLE</th><th>COO_QUAL</th><th>COO_WAVELENGTH</th><th>COO_BIBCODE</th><th>SCRIPT_NUMBER_ID</th></tr></thead>\n",
       "<thead><tr><th></th><th>&quot;h:m:s&quot;</th><th>&quot;d:m:s&quot;</th><th></th><th></th><th>mas</th><th>mas</th><th>deg</th><th></th><th></th><th></th><th></th></tr></thead>\n",
       "<thead><tr><th>object</th><th>str13</th><th>str13</th><th>int16</th><th>int16</th><th>float32</th><th>float32</th><th>int16</th><th>str1</th><th>str1</th><th>object</th><th>int32</th></tr></thead>\n",
       "<tr><td>L  320-124</td><td>10 14 51.7786</td><td>-47 09 24.192</td><td>14</td><td>14</td><td>0.014</td><td>0.015</td><td>90</td><td>A</td><td>O</td><td>2020yCat.1350....0G</td><td>1</td></tr>\n",
       "<tr><td>HD   1326</td><td>00 18 22.8849</td><td>+44 01 22.637</td><td>14</td><td>14</td><td>0.014</td><td>0.010</td><td>90</td><td>A</td><td>O</td><td>2020yCat.1350....0G</td><td>2</td></tr>\n",
       "<tr><td>L  229-91</td><td>04 09 15.6683</td><td>-53 22 25.290</td><td>14</td><td>14</td><td>0.016</td><td>0.017</td><td>90</td><td>A</td><td>O</td><td>2020yCat.1350....0G</td><td>3</td></tr>\n",
       "<tr><td>BD+25  3173</td><td>16 58 08.8496</td><td>+25 44 38.974</td><td>14</td><td>14</td><td>0.016</td><td>0.019</td><td>90</td><td>A</td><td>O</td><td>2020yCat.1350....0G</td><td>4</td></tr>\n",
       "<tr><td>CD-46 11540</td><td>17 28 39.9455</td><td>-46 53 42.688</td><td>14</td><td>14</td><td>0.025</td><td>0.018</td><td>90</td><td>A</td><td>O</td><td>2020yCat.1350....0G</td><td>5</td></tr>\n",
       "<tr><td>CD-51 10924</td><td>17 30 11.2044</td><td>-51 38 13.130</td><td>14</td><td>14</td><td>0.027</td><td>0.023</td><td>90</td><td>A</td><td>O</td><td>2020yCat.1350....0G</td><td>6</td></tr>\n",
       "<tr><td>NAME Barnard&apos;s star</td><td>17 57 48.4984</td><td>+04 41 36.113</td><td>14</td><td>14</td><td>0.026</td><td>0.029</td><td>90</td><td>A</td><td>O</td><td>2020yCat.1350....0G</td><td>7</td></tr>\n",
       "<tr><td>CD-23 14742</td><td>18 49 49.3637</td><td>-23 50 10.447</td><td>14</td><td>14</td><td>0.029</td><td>0.026</td><td>90</td><td>A</td><td>O</td><td>2020yCat.1350....0G</td><td>8</td></tr>\n",
       "<tr><td>BD-05  5715</td><td>22 09 40.3443</td><td>-04 38 26.650</td><td>14</td><td>14</td><td>0.027</td><td>0.028</td><td>90</td><td>A</td><td>O</td><td>2020yCat.1350....0G</td><td>9</td></tr>\n",
       "<tr><td>G 124-27</td><td>14 21 15.1249</td><td>-01 07 19.809</td><td>14</td><td>14</td><td>0.028</td><td>0.026</td><td>90</td><td>A</td><td>O</td><td>2020yCat.1350....0G</td><td>10</td></tr>\n",
       "<tr><td>G 177-25</td><td>13 10 12.6292</td><td>+47 45 18.673</td><td>14</td><td>14</td><td>0.019</td><td>0.023</td><td>90</td><td>A</td><td>O</td><td>2020yCat.1350....0G</td><td>11</td></tr>\n",
       "<tr><td>TRAPPIST-1</td><td>23 06 29.3684</td><td>-05 02 29.037</td><td>14</td><td>14</td><td>0.062</td><td>0.054</td><td>90</td><td>A</td><td>O</td><td>2020yCat.1350....0G</td><td>12</td></tr>\n",
       "</table></div>"
      ],
      "text/plain": [
       "<Table length=12>\n",
       "      MAIN_ID             RA      ...     COO_BIBCODE     SCRIPT_NUMBER_ID\n",
       "                       \"h:m:s\"    ...                                     \n",
       "       object           str13     ...        object            int32      \n",
       "------------------- ------------- ... ------------------- ----------------\n",
       "         L  320-124 10 14 51.7786 ... 2020yCat.1350....0G                1\n",
       "          HD   1326 00 18 22.8849 ... 2020yCat.1350....0G                2\n",
       "          L  229-91 04 09 15.6683 ... 2020yCat.1350....0G                3\n",
       "        BD+25  3173 16 58 08.8496 ... 2020yCat.1350....0G                4\n",
       "        CD-46 11540 17 28 39.9455 ... 2020yCat.1350....0G                5\n",
       "        CD-51 10924 17 30 11.2044 ... 2020yCat.1350....0G                6\n",
       "NAME Barnard's star 17 57 48.4984 ... 2020yCat.1350....0G                7\n",
       "        CD-23 14742 18 49 49.3637 ... 2020yCat.1350....0G                8\n",
       "        BD-05  5715 22 09 40.3443 ... 2020yCat.1350....0G                9\n",
       "           G 124-27 14 21 15.1249 ... 2020yCat.1350....0G               10\n",
       "           G 177-25 13 10 12.6292 ... 2020yCat.1350....0G               11\n",
       "         TRAPPIST-1 23 06 29.3684 ... 2020yCat.1350....0G               12"
      ]
     },
     "execution_count": 12,
     "metadata": {},
     "output_type": "execute_result"
    }
   ],
   "source": [
    "star_list = Simbad.query_objects(star_fix)\n",
    "star_list"
   ]
  },
  {
   "cell_type": "code",
   "execution_count": 15,
   "id": "b3592fd4-480c-4d64-bd10-d9fac013a77a",
   "metadata": {},
   "outputs": [
    {
     "data": {
      "text/plain": [
       "array(['L-980-5', 'LHS-2686', 'TRAPPIST-1'], dtype='<U10')"
      ]
     },
     "execution_count": 15,
     "metadata": {},
     "output_type": "execute_result"
    }
   ],
   "source": [
    "\n",
    "stars[9:]"
   ]
  },
  {
   "cell_type": "code",
   "execution_count": 25,
   "id": "d659ef68-4f05-4b7e-b947-a298becbf00d",
   "metadata": {},
   "outputs": [
    {
     "name": "stdout",
     "output_type": "stream",
     "text": [
      "TRAPPIST-1\n"
     ]
    }
   ],
   "source": [
    "\n",
    "newpath = outpath\n",
    "for star in stars[11:]:\n",
    "    print(star)\n",
    "    newdir = '{}{}'.format(newpath, star)\n",
    "    if not os.path.exists(newdir):\n",
    "       os.makedirs(newdir)\n",
    "    \n",
    "    oldv = 24\n",
    "\n",
    "    starpath = '{}{}/'.format(inpath, star)\n",
    "    specs = np.hstack((glob.glob('{}*stis*.fits'.format(starpath)),glob.glob('{}*cos*.fits'.format(starpath))))\n",
    "    mods = glob.glob('{}*mod*.fits'.format(starpath))\n",
    "    seds = glob.glob('{}*multi*.fits'.format(starpath))\n",
    "    xrays = np.hstack((glob.glob('{}*cxo*.fits'.format(starpath)),glob.glob('{}*xmm*.fits'.format(starpath))))\n",
    "\n",
    "    # print(specs)\n",
    "    # print(mods)\n",
    "    # print(seds)\n",
    "    # print(xrays)\n",
    "    \n",
    "    \n",
    "    starts = []\n",
    "    ends = []\n",
    "\n",
    "    for spec in specs:\n",
    "        hdul = fits.open(spec)\n",
    "        hdr = hdul[0].header\n",
    "        ra, dec = hdr['RA_TARG'], hdr['DEC_TARG']\n",
    "        starts.append(hdr['EXPSTART'])\n",
    "        ends.append(hdr['EXPEND'])\n",
    "        hdr.append(('DOI', '10.17909/T9DG6F'))\n",
    "        hdr.append(('RADESYS' , 'ICRS'))\n",
    "        hdr.append(('TIMESYS', 'UTC'))\n",
    "        hdr.append(('HLSPVER', 'V{}'.format(version)))\n",
    "        hdr.append(('HSLPID', 'MUSCLES'))\n",
    "        hdr.append(('LICENSE','CC BY 4.0'))\n",
    "        hdr.append(('LICENURL', 'https://creativecommons.org/licenses/by/4.0/'))\n",
    "        if hdr['TARGNAME'] == '2MASS-J23062928-0502285':\n",
    "            hdr['TARGNAME'] = 'TRAPPIST-1'\n",
    "        new_name = (os.path.split(spec)[1]).replace('v{}'.format(oldv), 'v{}'.format(version))\n",
    "        savepath = '{}{}/{}'.format(newpath, star, new_name)\n",
    "        hdul.writeto(savepath, overwrite=True)\n",
    "    \n",
    "    for spec in mods:\n",
    "        hdul = fits.open(spec)\n",
    "        hdr = hdul[0].header\n",
    "        hdr.append(('DOI', '10.17909/T9DG6F'))\n",
    "        hdr.append(('HLSPVER', 'V{}'.format(version)))\n",
    "        hdr.append(('HSLPID', 'MUSCLES'))\n",
    "        hdr.append(('LICENSE','CC BY 4.0'))\n",
    "        hdr.append(('LICENURL', 'https://creativecommons.org/licenses/by/4.0/'))\n",
    "        if hdr['TARGNAME'] == '2MASS-J23062928-0502285':\n",
    "            hdr['TARGNAME'] = 'TRAPPIST-1'\n",
    "        new_name = (os.path.split(spec)[1]).replace('v{}'.format(oldv), 'v{}'.format(version))\n",
    "        savepath = '{}{}/{}'.format(newpath, star, new_name)\n",
    "        hdul.writeto(savepath, overwrite=True)\n",
    "    \n",
    "    for spec in xrays:\n",
    "        hdul = fits.open(spec)\n",
    "        hdr = hdul[0].header\n",
    "        starts.append(hdr['EXPSTART'])\n",
    "        ends.append(hdr['EXPEND'])\n",
    "        hdr.append(('RA_TARG', ra))\n",
    "        hdr.append(('DEC_TARG', dec))\n",
    "        hdr.append(('DOI', '10.17909/T9DG6F'))\n",
    "        hdr.append(('RADESYS' , 'ICRS'))\n",
    "        hdr.append(('TIMESYS', 'UTC'))\n",
    "        hdr.append(('HLSPVER', 'V{}'.format(version)))\n",
    "        hdr.append(('HSLPID', 'MUSCLES'))\n",
    "        hdr.append(('LICENSE','CC BY 4.0'))\n",
    "        hdr.append(('LICENURL', 'https://creativecommons.org/licenses/by/4.0/'))\n",
    "        if hdr['TARGNAME'] == '2MASS-J23062928-0502285':\n",
    "            hdr['TARGNAME'] = 'TRAPPIST-1'\n",
    "        new_name = (os.path.split(spec)[1]).replace('v{}'.format(oldv), 'v{}'.format(version))\n",
    "        savepath = '{}{}/{}'.format(newpath, star, new_name)\n",
    "        hdul.writeto(savepath, overwrite=True)\n",
    "    \n",
    "    start = np.min(starts)\n",
    "    end = np.max(ends)\n",
    "    \n",
    "    for spec in seds:\n",
    "        hdul = fits.open(spec)\n",
    "        hdr = hdul[0].header\n",
    "        hdr.append(('MJD-BEG', start))\n",
    "        hdr.append(('MJD-END', end))\n",
    "        hdr.append(('DOI', '10.17909/T9DG6F'))\n",
    "        hdr.append(('RADESYS' , 'ICRS'))\n",
    "        hdr.append(('TIMESYS', 'UTC'))\n",
    "        hdr.append(('HLSPVER', 'V{}'.format(version)))\n",
    "        hdr.append(('HSLPID', 'MUSCLES'))\n",
    "        hdr.append(('LICENSE','CC BY 4.0'))\n",
    "        hdr.append(('LICENURL', 'https://creativecommons.org/licenses/by/4.0/'))\n",
    "        new_name = (os.path.split(spec)[1]).replace('v{}'.format(oldv), 'v{}'.format(version))\n",
    "        for i in hdr:\n",
    "            if hdr[i] in ['mod', 'Mod', 'MOD']:\n",
    "                hdr[i] = 'MODEL'\n",
    "        starname = hdr['TARGNAME']\n",
    "        if starname == 'L-980-5':\n",
    "            starname = 'L 980-5'\n",
    "        elif starname == 'LHS-2686':\n",
    "            starname = 'LHS 2686'\n",
    "        elif starname == '2MASS-J23062928-0502285':\n",
    "            starname = 'TRAPPIST-1'\n",
    "        simtab = Simbad.query_object(starname)\n",
    "        coords = SkyCoord(simtab['RA'][0], simtab['DEC'][0], unit=(u.hourangle, u.deg))\n",
    "        if hdr['TARGNAME'] == '2MASS-J23062928-0502285':\n",
    "            hdr['TARGNAME'] = 'TRAPPIST-1'\n",
    "\n",
    "        hdr['RA_TARG'] = coords.ra.deg\n",
    "        hdr['DEC_TARG'] = coords.dec.deg\n",
    "        \n",
    "      \n",
    "        savepath = '{}{}/{}'.format(newpath, star, new_name)\n",
    "        hdul.writeto(savepath, overwrite=True)\n",
    "print(done)"
   ]
  },
  {
   "cell_type": "code",
   "execution_count": 7,
   "id": "30a2c549-7597-4c12-8cf3-58a52928162f",
   "metadata": {},
   "outputs": [],
   "source": [
    "# Simbad.query_objects(stars)"
   ]
  },
  {
   "cell_type": "code",
   "execution_count": 20,
   "id": "3a035513-4982-4804-b0a6-77faf0d32fa1",
   "metadata": {},
   "outputs": [
    {
     "data": {
      "text/plain": [
       "12"
      ]
     },
     "execution_count": 20,
     "metadata": {},
     "output_type": "execute_result"
    }
   ],
   "source": [
    "len(stars)"
   ]
  },
  {
   "cell_type": "code",
   "execution_count": 21,
   "id": "97366c32-1536-4a35-84eb-ebb987ab3f9b",
   "metadata": {},
   "outputs": [],
   "source": [
    "for i in hdr:\n",
    "    if hdr[i] in ['mod', 'Mod', 'MOD']:\n",
    "        print (i, hdr[i])\n",
    "        hdr[i] = 'MODEL'\n",
    "        print (i, hdr[i])"
   ]
  },
  {
   "cell_type": "code",
   "execution_count": 22,
   "id": "67d2250a-085a-449f-88ea-904102376770",
   "metadata": {},
   "outputs": [
    {
     "data": {
      "text/plain": [
       "SIMPLE  =                    T / conforms to FITS standard                      \n",
       "BITPIX  =                    8 / array data type                                \n",
       "NAXIS   =                    0 / number of array dimensions                     \n",
       "EXTEND  =                    T                                                  \n",
       "TELESCOP= 'MULTI   '                                                            \n",
       "INSTRUME= 'MULTI   '                                                            \n",
       "GRATING = 'MULTI   '                                                            \n",
       "TELESC00= 'HST     '                                                            \n",
       "INSTRU00= 'COS     '                                                            \n",
       "GRATIN00= 'G130M   '                                                            \n",
       "TELESC01= 'HST     '                                                            \n",
       "INSTRU01= 'COS     '                                                            \n",
       "GRATIN01= 'G160M   '                                                            \n",
       "TELESC02= 'HST     '                                                            \n",
       "INSTRU02= 'COS     '                                                            \n",
       "GRATIN02= 'G230L   '                                                            \n",
       "TELESC03= 'MODEL   '                                                            \n",
       "INSTRU03= 'GAP     '                                                            \n",
       "GRATIN03= 'FILL-   '                                                            \n",
       "TELESC04= 'MODEL   '                                                            \n",
       "INSTRU04= 'LYA     '                                                            \n",
       "GRATIN04= 'YOUNG   '                                                            \n",
       "TELESC05= 'HST     '                                                            \n",
       "INSTRU05= 'STS     '                                                            \n",
       "GRATIN05= 'G140M   '                                                            \n",
       "TELESC06= 'MODEL   '                                                            \n",
       "INSTRU06= 'GAP     '                                                            \n",
       "GRATIN06= 'FILL-   '                                                            \n",
       "TELESC07= 'MODEL   '                                                            \n",
       "INSTRU07= 'PHX     '                                                            \n",
       "GRATIN07= '-----   '                                                            \n",
       "TELESC08= 'HST     '                                                            \n",
       "INSTRU08= 'STS     '                                                            \n",
       "GRATIN08= 'G430L   '                                                            \n",
       "TELESC09= 'XMM     '                                                            \n",
       "INSTRU09= 'EPC     '                                                            \n",
       "GRATIN09= 'MULTI   '                                                            \n",
       "TELESC10= 'MODEL   '                                                            \n",
       "INSTRU10= 'APC     '                                                            \n",
       "GRATIN10= '-----   '                                                            \n",
       "TELESC11= 'MODEL   '                                                            \n",
       "INSTRU11= 'DEM     '                                                            \n",
       "GRATIN11= '-----   '                                                            \n",
       "TARGNAME= '2MASS-J23062928-0502285'                                             \n",
       "RA_TARG =    346.6223683333333                                                  \n",
       "DEC_TARG=   -5.041399166666666                                                  \n",
       "PROPOSID=                15071                                                  \n",
       "HLSPNAME= 'Measurements of the Ultraviolet Spectral Characteristics of &'       \n",
       "CONTINUE  'Low-mass Exoplanet Host Stars'                                       \n",
       "HLSPACRN= 'MUSCLES '                                                            \n",
       "HLSPLEAD= 'David J. Wilson'                                                     \n",
       "PR_INV_L= 'Froning '                                                            \n",
       "PR_INV_F= 'Cynthia '                                                            \n",
       "WAVEMIN =   14.100000381469727                                                  \n",
       "WAVEMAX =            9995000.0                                                  \n",
       "WAVEUNIT= 'ang     '                                                            \n",
       "AIRORVAC= 'vac     '                                                            \n",
       "FLUXMIN = -1.6887263046882E-15                                                  \n",
       "FLUXMAX = 2.69229583282721E-14                                                  \n",
       "FLUXUNIT= 'erg/s/cm2/ang'                                                       \n",
       "BOLOFLUX= 1.17061984419824E-10                                                  \n",
       "MJD-BEG =       58102.30507718                                                  \n",
       "MJD-END =       58641.84795161                                                  \n",
       "DOI     = '10.17909/T9DG6F'                                                     \n",
       "RADESYS = 'ICRS    '                                                            \n",
       "TIMESYS = 'UTC     '                                                            \n",
       "HLSPVER = 'V25     '                                                            \n",
       "HSLPID  = 'MUSCLES '                                                            \n",
       "LICENSE = 'CC BY 4.0'                                                           \n",
       "LICENURL= 'https://creativecommons.org/licenses/by/4.0/'                        "
      ]
     },
     "execution_count": 22,
     "metadata": {},
     "output_type": "execute_result"
    }
   ],
   "source": [
    "hdr"
   ]
  },
  {
   "cell_type": "code",
   "execution_count": 11,
   "id": "8d76e4ab-771c-4be1-b2b1-9e00ad5e0b33",
   "metadata": {},
   "outputs": [
    {
     "data": {
      "text/plain": [
       "<SkyCoord (ICRS): (ra, dec) in deg\n",
       "    (107.60025167, -39.09738083)>"
      ]
     },
     "execution_count": 11,
     "metadata": {},
     "output_type": "execute_result"
    }
   ],
   "source": [
    "c = SkyCoord(star_list['RA'][-1], star_list['DEC'][-1], unit=(u.hourangle, u.deg))\n",
    "c"
   ]
  },
  {
   "cell_type": "code",
   "execution_count": 12,
   "id": "9a85fd41-4519-48fc-8e7e-19f3eb158b76",
   "metadata": {},
   "outputs": [
    {
     "data": {
      "text/plain": [
       "-39.09738083333333"
      ]
     },
     "execution_count": 12,
     "metadata": {},
     "output_type": "execute_result"
    }
   ],
   "source": [
    "c.dec.deg\n"
   ]
  },
  {
   "cell_type": "code",
   "execution_count": 24,
   "id": "007980c9-ce40-4ebc-b6ee-d1e4da61dc64",
   "metadata": {},
   "outputs": [
    {
     "name": "stdout",
     "output_type": "stream",
     "text": [
      "GJ1132\n",
      "GJ1132\n",
      "153.71574416666664 -47.15672\n",
      "153.70745911 -47.15446455486\n",
      "GJ1132\n",
      "153.71574416666664 -47.15672\n",
      "153.70745911 -47.15446455486\n",
      "GJ1132\n",
      "153.71574416666664 -47.15672\n",
      "153.70745911 -47.15446455486\n",
      "GJ1132\n",
      "153.71574416666664 -47.15672\n",
      "153.70745911 -47.15446455486\n",
      "GJ15A\n",
      "GJ15A\n",
      "4.595353749999999 44.022954722222224\n",
      "4.616640366617 44.02506857788\n",
      "GJ15A\n",
      "4.595353749999999 44.022954722222224\n",
      "4.616640366617 44.02506857788\n",
      "GJ15A\n",
      "4.595353749999999 44.022954722222224\n",
      "4.616640366617 44.02506857788\n",
      "GJ15A\n",
      "4.595353749999999 44.022954722222224\n",
      "4.616640366617 44.02506857788\n",
      "GJ163\n",
      "GJ163\n",
      "62.31528458333334 -53.373691666666666\n",
      "62.3246788196 -53.37098315066\n",
      "GJ163\n",
      "62.31528458333334 -53.373691666666666\n",
      "62.3246788196 -53.37098315066\n",
      "GJ163\n",
      "62.31528458333334 -53.373691666666666\n",
      "62.3246788196 -53.37098315066\n",
      "GJ163\n",
      "62.31528458333334 -53.373691666666666\n",
      "62.3246788196 -53.37098315066\n",
      "GJ649\n",
      "GJ649\n",
      "254.5368733333333 25.744159444444445\n",
      "254.5362699394 25.74159834526\n",
      "GJ649\n",
      "254.5368733333333 25.744159444444445\n",
      "254.5362699394 25.74159834526\n",
      "GJ649\n",
      "254.5368733333333 25.744159444444445\n",
      "254.5362699394 25.74159834526\n",
      "GJ649\n",
      "254.5368733333333 25.744159444444445\n",
      "254.5362699394 25.74159834526\n",
      "GJ674\n",
      "GJ674\n",
      "262.1664395833333 -46.89519111111111\n",
      "262.1707770504 -46.8996556738\n",
      "GJ674\n",
      "262.1664395833333 -46.89519111111111\n",
      "262.1707770504 -46.8996556738\n",
      "GJ674\n",
      "262.1664395833333 -46.89519111111111\n",
      "262.1707770504 -46.8996556738\n",
      "GJ674\n",
      "262.1664395833333 -46.89519111111111\n",
      "262.1707770504 -46.8996556738\n",
      "GJ676A\n",
      "GJ676A\n",
      "262.54668499999997 -51.63698055555555\n",
      "262.544465882 -51.63796179307\n",
      "GJ676A\n",
      "262.54668499999997 -51.63698055555555\n",
      "262.544465882 -51.63796179307\n",
      "GJ676A\n",
      "262.54668499999997 -51.63698055555555\n",
      "262.544465882 -51.63796179307\n",
      "GJ676A\n",
      "262.54668499999997 -51.63698055555555\n",
      "262.544465882 -51.63796179307\n",
      "GJ699\n",
      "GJ699\n",
      "269.45207666666664 4.693364722222222\n",
      "269.44795218 4.748106390171\n",
      "GJ699\n",
      "269.45207666666664 4.693364722222222\n",
      "269.44795218 4.748106390171\n",
      "GJ699\n",
      "269.45207666666664 4.693364722222222\n",
      "269.44795218 4.748106390171\n",
      "GJ699\n",
      "269.45207666666664 4.693364722222222\n",
      "269.44795218 4.748106390171\n",
      "GJ729\n",
      "GJ729\n",
      "282.4556820833333 -23.836235277777778\n",
      "282.459353107 -23.83720396438\n",
      "GJ729\n",
      "282.4556820833333 -23.836235277777778\n",
      "282.459353107 -23.83720396438\n",
      "GJ729\n",
      "282.4556820833333 -23.836235277777778\n",
      "282.459353107 -23.83720396438\n",
      "GJ729\n",
      "282.4556820833333 -23.836235277777778\n",
      "282.459353107 -23.83720396438\n",
      "GJ849\n",
      "GJ849\n",
      "332.41810124999995 -4.640736111111111\n",
      "332.4242849726 -4.640842087831\n",
      "GJ849\n",
      "332.41810124999995 -4.640736111111111\n",
      "332.4242849726 -4.640842087831\n",
      "GJ849\n",
      "332.41810124999995 -4.640736111111111\n",
      "332.4242849726 -4.640842087831\n",
      "GJ849\n",
      "332.41810124999995 -4.640736111111111\n",
      "332.4242849726 -4.640842087831\n",
      "L-980-5\n",
      "L-980-5\n",
      "215.31302041666663 -1.1221691666666667\n",
      "215.3139366914 -1.125446085679\n",
      "L-980-5\n",
      "215.31302041666663 -1.1221691666666667\n",
      "215.3139366914 -1.125446085679\n",
      "L-980-5\n",
      "215.31302041666663 -1.1221691666666667\n",
      "215.3139366914 -1.125446085679\n",
      "L-980-5\n",
      "215.31302041666663 -1.1221691666666667\n",
      "215.3139366914 -1.125446085679\n",
      "LHS-2686\n",
      "LHS-2686\n",
      "197.55262166666665 47.755186944444446\n",
      "197.547490559 47.75187814127\n",
      "LHS-2686\n",
      "197.55262166666665 47.755186944444446\n",
      "197.547490559 47.75187814127\n",
      "LHS-2686\n",
      "197.55262166666665 47.755186944444446\n",
      "197.547490559 47.75187814127\n",
      "LHS-2686\n",
      "197.55262166666665 47.755186944444446\n",
      "197.547490559 47.75187814127\n",
      "TRAPPIST-1\n",
      "2MASS-J23062928-0502285\n",
      "346.6223683333333 -5.041399166666666\n",
      "346.6271880004 -5.043868302902\n",
      "2MASS-J23062928-0502285\n",
      "346.6223683333333 -5.041399166666666\n",
      "346.6271880004 -5.043868302902\n",
      "2MASS-J23062928-0502285\n",
      "346.6223683333333 -5.041399166666666\n",
      "346.6271880004 -5.043868302902\n",
      "2MASS-J23062928-0502285\n",
      "346.6223683333333 -5.041399166666666\n",
      "346.6271880004 -5.043868302902\n"
     ]
    }
   ],
   "source": [
    "# for star in stars:\n",
    "#     print(star)\n",
    "#     starpath = '{}{}/'.format(inpath, star)\n",
    "#     seds = glob.glob('{}*multi*.fits'.format(starpath))\n",
    "#     for sed in seds:\n",
    "#         hdul = fits.open(sed)\n",
    "#         hdr = hdul[0].header\n",
    "#         starname = hdr['TARGNAME']\n",
    "#         print(starname)\n",
    "#         if starname == 'L-980-5':\n",
    "#             starname = 'L 980-5'\n",
    "#         elif starname == 'LHS-2686':\n",
    "#             starname = 'LHS 2686'\n",
    "#         elif starname == '2MASS-J23062928-0502285':\n",
    "#             starname = 'TRAPPIST-1'\n",
    "#         simtab = Simbad.query_object(starname)\n",
    "#         coords = SkyCoord(simtab['RA'][0], simtab['DEC'][0], unit=(u.hourangle, u.deg))\n",
    "#         print(coords.ra.deg, coords.dec.deg)\n",
    "#         print(hdr['RA_TARG'], hdr['DEC_TARG'])\n",
    "#         # print(startab)"
   ]
  },
  {
   "cell_type": "code",
   "execution_count": 14,
   "id": "6f680c87-0b13-4cb0-a232-6ce36cf5593d",
   "metadata": {},
   "outputs": [],
   "source": [
    "# simtab"
   ]
  },
  {
   "cell_type": "code",
   "execution_count": 15,
   "id": "f3d13618-89a7-4b4b-a5ae-dba82eff66ef",
   "metadata": {},
   "outputs": [],
   "source": [
    "# Simbad.query_object('TOI-134')"
   ]
  },
  {
   "cell_type": "markdown",
   "id": "339be0ba-4474-4f0f-9492-4dc7bee109b6",
   "metadata": {},
   "source": [
    "fix targnames in TRAPPIST-1 files:"
   ]
  },
  {
   "cell_type": "code",
   "execution_count": null,
   "id": "c57779cc-fe1d-4bac-bc08-0b28d99edc77",
   "metadata": {},
   "outputs": [],
   "source": []
  }
 ],
 "metadata": {
  "kernelspec": {
   "display_name": "Python 3 (ipykernel)",
   "language": "python",
   "name": "python3"
  },
  "language_info": {
   "codemirror_mode": {
    "name": "ipython",
    "version": 3
   },
   "file_extension": ".py",
   "mimetype": "text/x-python",
   "name": "python",
   "nbconvert_exporter": "python",
   "pygments_lexer": "ipython3",
   "version": "3.11.9"
  }
 },
 "nbformat": 4,
 "nbformat_minor": 5
}
