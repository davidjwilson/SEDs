{
 "cells": [
  {
   "cell_type": "markdown",
   "metadata": {},
   "source": [
    "Making euv scaling and xray files for all of the MM stars."
   ]
  },
  {
   "cell_type": "code",
   "execution_count": 1,
   "metadata": {},
   "outputs": [],
   "source": [
    "import numpy as np\n",
    "import matplotlib.pyplot as plt\n",
    "import astropy.io.fits as fits\n",
    "import os\n",
    "import glob\n",
    "from astropy.table import Table\n",
    "from astropy.io import ascii\n",
    "import astropy.units as u\n",
    "import astropy.constants as const\n",
    "from scipy.interpolate import interpolate\n",
    "from craftroom import resample\n",
    "\n",
    "#matplotlib set up\n",
    "%matplotlib inline\n",
    "from matplotlib import rcParams\n",
    "rcParams[\"figure.figsize\"] = (14, 5)\n",
    "rcParams[\"font.size\"] = 20\n"
   ]
  },
  {
   "cell_type": "code",
   "execution_count": 2,
   "metadata": {},
   "outputs": [],
   "source": [
    "path = '/media/david/5tb_storage1/muscles/'\n",
    "sv1 = path + 'euv_txt_files/'\n",
    "sv2 = path + 'euv_hlsp/'"
   ]
  },
  {
   "cell_type": "code",
   "execution_count": 3,
   "metadata": {},
   "outputs": [],
   "source": [
    "params = Table.read(path + 'mega_muscles_stellar_parameters.csv')"
   ]
  },
  {
   "cell_type": "code",
   "execution_count": 4,
   "metadata": {},
   "outputs": [],
   "source": [
    "import prepare_euv\n",
    "import prepare_model"
   ]
  },
  {
   "cell_type": "code",
   "execution_count": 5,
   "metadata": {},
   "outputs": [],
   "source": [
    "def euv_estimator(euv_inputs, save_path, star, save=True):\n",
    "    \n",
    "    lya, distance = euv_inputs['lya'], euv_inputs['distance']\n",
    "        \n",
    "    distance_conversion = ((1*u.au.to(u.m))/(distance*u.pc.to(u.m)))**2\n",
    "\n",
    "    lya_1au = lya / distance_conversion\n",
    "\n",
    "    w1 = np.array([100,200,300,400,500,600,700,800,912], dtype=float) #A\n",
    "    w2 = np.array([200,300,400,500,600,700,800,912,1170], dtype=float)\n",
    "    bandwidth = w2-w1\n",
    "\n",
    "    a = np.array([-0.491,-0.548,-0.602,-2.294,-2.098,-1.920,-1.894,-1.811,-1.004], dtype=float)\n",
    "    b = np.array([ 0.,    0.,    0.,    0.258, 0.572, 0.240, 0.518, 0.764, 0.065], dtype=float)\n",
    "\n",
    "    #log(f/lya) = a + b *log(lya)\n",
    "    f = a + b*np.log10(lya_1au)\n",
    " #   print(f[0])\n",
    "\n",
    "   # print('Total EUV=',np.sum(f))\n",
    "    f = (lya_1au * 10**f)/bandwidth\n",
    "  #  print(f[0])\n",
    "\n",
    "\n",
    "    f *= distance_conversion\n",
    "   # print(f[0])\n",
    "\n",
    "    #extrapolate onto 1A grid\n",
    "    wavelength = np.arange((w1[0])+0.5, (w2[-1])+0.5, 1.0)\n",
    "    f_to_interp = np.hstack((f[0], f, f[-1])) #adding extra values onto the ends so the interpolation doesn't make nans\n",
    "    w_to_interp = np.hstack((w1[0], np.mean([w1, w2], axis=0), w2[-1]))\n",
    "    flux = interpolate.interp1d(w_to_interp, f_to_interp, kind='nearest', bounds_error=False)(wavelength)\n",
    "   # print(flux[0])\n",
    "\n",
    "    if os.path.exists(save_path) == False:\n",
    "        os.mkdir(save_path)\n",
    "    if star != '':\n",
    "        star = '{}_'.format(star)\n",
    "    filename = '{}l14euv_lya{}_d{}.txt'.format(star, euv_inputs['lya'], euv_inputs['distance'])\n",
    "    savedat = Table([wavelength, flux], names=['WAVELENGTH', 'FLUX'])\n",
    "    ascii.write(savedat, save_path+filename, overwrite=True)\n",
    "    "
   ]
  },
  {
   "cell_type": "code",
   "execution_count": 6,
   "metadata": {},
   "outputs": [],
   "source": [
    "for row in params:\n",
    "    star = row['Target']\n",
    "    if star != 'Trappist-1':\n",
    "        lya = row['lya_flux']\n",
    "        distance= row['distance']\n",
    "        if lya > 0:\n",
    "            euv_estimator(dict(distance=distance, lya=lya), sv1, star = star.replace(' ',''), )\n",
    "\n",
    "                        \n",
    "            "
   ]
  },
  {
   "cell_type": "code",
   "execution_count": 7,
   "metadata": {},
   "outputs": [
    {
     "data": {
      "image/png": "[encoded data removed]",
      "text/plain": [
       "<Figure size 1008x360 with 1 Axes>"
      ]
     },
     "metadata": {
      "needs_background": "light"
     },
     "output_type": "display_data"
    }
   ],
   "source": [
    "txt_files = glob.glob('{}*.txt'.format(sv1))\n",
    "for sp in txt_files:\n",
    "    data = Table.read(sp, format = 'ascii')\n",
    "    w, f = data['WAVELENGTH'], data['FLUX']\n",
    "    plt.plot(w,f)"
   ]
  },
  {
   "cell_type": "code",
   "execution_count": 8,
   "metadata": {},
   "outputs": [
    {
     "name": "stdout",
     "output_type": "stream",
     "text": [
      "GJ674\n",
      "/media/david/5tb_storage1/muscles/euv_hlsp/\n",
      "Spectrum saved as hlsp_muscles_model_euv-scaling_gj674_na_v1_component-spec.ecsv\n",
      "Spectrum saved as hlsp_muscles_model_euv-scaling_gj674_na_v1_component-spec.fits\n",
      "GJ676A\n",
      "/media/david/5tb_storage1/muscles/euv_hlsp/\n",
      "Spectrum saved as hlsp_muscles_model_euv-scaling_gj676a_na_v1_component-spec.ecsv\n",
      "Spectrum saved as hlsp_muscles_model_euv-scaling_gj676a_na_v1_component-spec.fits\n",
      "GJ649\n",
      "/media/david/5tb_storage1/muscles/euv_hlsp/\n",
      "Spectrum saved as hlsp_muscles_model_euv-scaling_gj649_na_v1_component-spec.ecsv\n",
      "Spectrum saved as hlsp_muscles_model_euv-scaling_gj649_na_v1_component-spec.fits\n",
      "GJ699\n",
      "/media/david/5tb_storage1/muscles/euv_hlsp/\n",
      "Spectrum saved as hlsp_muscles_model_euv-scaling_gj699_na_v1_component-spec.ecsv\n",
      "Spectrum saved as hlsp_muscles_model_euv-scaling_gj699_na_v1_component-spec.fits\n",
      "GJ163\n",
      "/media/david/5tb_storage1/muscles/euv_hlsp/\n",
      "Spectrum saved as hlsp_muscles_model_euv-scaling_gj163_na_v1_component-spec.ecsv\n",
      "Spectrum saved as hlsp_muscles_model_euv-scaling_gj163_na_v1_component-spec.fits\n",
      "GJ849\n",
      "/media/david/5tb_storage1/muscles/euv_hlsp/\n",
      "Spectrum saved as hlsp_muscles_model_euv-scaling_gj849_na_v1_component-spec.ecsv\n",
      "Spectrum saved as hlsp_muscles_model_euv-scaling_gj849_na_v1_component-spec.fits\n",
      "GJ1132\n",
      "/media/david/5tb_storage1/muscles/euv_hlsp/\n",
      "Spectrum saved as hlsp_muscles_model_euv-scaling_gj1132_na_v1_component-spec.ecsv\n",
      "Spectrum saved as hlsp_muscles_model_euv-scaling_gj1132_na_v1_component-spec.fits\n",
      "LHS-2686\n",
      "/media/david/5tb_storage1/muscles/euv_hlsp/\n",
      "Spectrum saved as hlsp_muscles_model_euv-scaling_lhs-2686_na_v1_component-spec.ecsv\n",
      "Spectrum saved as hlsp_muscles_model_euv-scaling_lhs-2686_na_v1_component-spec.fits\n",
      "GJ729\n",
      "/media/david/5tb_storage1/muscles/euv_hlsp/\n",
      "Spectrum saved as hlsp_muscles_model_euv-scaling_gj729_na_v1_component-spec.ecsv\n",
      "Spectrum saved as hlsp_muscles_model_euv-scaling_gj729_na_v1_component-spec.fits\n",
      "GJ15A\n",
      "/media/david/5tb_storage1/muscles/euv_hlsp/\n",
      "Spectrum saved as hlsp_muscles_model_euv-scaling_gj15a_na_v1_component-spec.ecsv\n",
      "Spectrum saved as hlsp_muscles_model_euv-scaling_gj15a_na_v1_component-spec.fits\n"
     ]
    }
   ],
   "source": [
    "stars = ['L-980-5',\n",
    "        'GJ674', \n",
    "        'GJ676A',\n",
    "        'GJ649',\n",
    "        'GJ699',\n",
    "        'GJ163',\n",
    "        'GJ849',\n",
    "        'GJ1132',\n",
    "        'LHS-2686',\n",
    "        'GJ729',\n",
    "        'GJ15A']\n",
    "\n",
    "for star in stars:\n",
    "    if star != 'L-980-5':\n",
    "        print(star)\n",
    "        euvfile = glob.glob('{}{}_l14euv_lya*.txt'.format(sv1, star))[0]\n",
    "        specs = glob.glob('stis_test_output/{}/*ecsv'.format(star))\n",
    "        lya_spec = 'stis_test_output/{0}/hlsp_muscles_hst_stis_{1}_g140m_v1_component-spec.ecsv'.format(star, star.lower())\n",
    "        if lya_spec not in specs:\n",
    "            lya_spec = 'stis_test_output/{0}/hlsp_muscles_hst_stis_{1}_e140m_v1_component-spec.ecsv'.format(star, star.lower())\n",
    "\n",
    "        spec = Table.read(lya_spec)\n",
    "        prepare_model.make_model_spectrum(euvfile, 1, spec ,savepath = sv2, save_ecsv=True, save_fits=True, normfac=1.0, model_name='euv-scaling')\n"
   ]
  },
  {
   "cell_type": "code",
   "execution_count": 9,
   "metadata": {},
   "outputs": [],
   "source": [
    "xpath = '{}xray/'.format(path)\n",
    "xmmpath = '{}xmm/'.format(xpath)\n",
    "cpath = '{}chandra/'.format(xpath)"
   ]
  },
  {
   "cell_type": "code",
   "execution_count": 10,
   "metadata": {},
   "outputs": [],
   "source": [
    "hdul = fits.open('/media/david/5tb_storage1/muscles/xray/chandra/GJ849/20620/primary/acisf20619N001_evt2.fits.gz')"
   ]
  },
  {
   "cell_type": "code",
   "execution_count": 11,
   "metadata": {},
   "outputs": [
    {
     "name": "stdout",
     "output_type": "stream",
     "text": [
      "Filename: /media/david/5tb_storage1/muscles/xray/chandra/GJ849/20620/primary/acisf20619N001_evt2.fits.gz\n",
      "No.    Name      Ver    Type      Cards   Dimensions   Format\n",
      "  0  PRIMARY       1 PrimaryHDU      30   ()      \n",
      "  1  EVENTS        1 BinTableHDU    838   32749R x 19C   [1D, 1I, 1I, 1J, 1I, 1I, 1I, 1I, 1E, 1E, 1E, 1E, 1J, 1J, 1E, 1J, 1I, 1I, 32X]   \n",
      "  2  GTI           7 BinTableHDU     28   1R x 2C   [1D, 1D]   \n"
     ]
    }
   ],
   "source": [
    "hdul.info()"
   ]
  },
  {
   "cell_type": "code",
   "execution_count": 12,
   "metadata": {},
   "outputs": [],
   "source": [
    "#hdul[0].header"
   ]
  },
  {
   "cell_type": "code",
   "execution_count": 13,
   "metadata": {},
   "outputs": [],
   "source": [
    "#hdul[1].header"
   ]
  },
  {
   "cell_type": "code",
   "execution_count": 14,
   "metadata": {},
   "outputs": [],
   "source": [
    "import prepare_chandra\n",
    "import prepare_xmm"
   ]
  },
  {
   "cell_type": "code",
   "execution_count": 25,
   "metadata": {},
   "outputs": [
    {
     "name": "stdout",
     "output_type": "stream",
     "text": [
      "['GJ649', 'GJ674', 'GJ729', 'Trappist-1']\n",
      "Spectrum saved as hlsp_muscles_xmm_epic_gj674_na_v1_component-spec.ecsv\n",
      "Spectrum saved as hlsp_muscles_xmm_epic_gj674_na_v1_component-spec.fits\n",
      "Spectrum saved as hlsp_muscles_xmm_epic_gj649_na_v1_component-spec.ecsv\n",
      "Spectrum saved as hlsp_muscles_xmm_epic_gj649_na_v1_component-spec.fits\n",
      "GJ699\n",
      "Spectrum saved as hlsp_muscles_cxo_acis_gj699_none_v1_component-spec.ecsv\n",
      "Spectrum saved as hlsp_muscles_cxo_acis_gj699_none_v1_component-spec.fits\n",
      "GJ163\n",
      "Spectrum saved as hlsp_muscles_cxo_acis_gj163_none_v1_component-spec.ecsv\n",
      "Spectrum saved as hlsp_muscles_cxo_acis_gj163_none_v1_component-spec.fits\n",
      "GJ849\n",
      "Spectrum saved as hlsp_muscles_cxo_acis_gj699_none_v1_component-spec.ecsv\n",
      "Spectrum saved as hlsp_muscles_cxo_acis_gj699_none_v1_component-spec.fits\n",
      "LHS-2686\n",
      "Spectrum saved as hlsp_muscles_cxo_acis_lhs2686_none_v1_component-spec.ecsv\n",
      "Spectrum saved as hlsp_muscles_cxo_acis_lhs2686_none_v1_component-spec.fits\n",
      "Spectrum saved as hlsp_muscles_xmm_epic_gj729_na_v1_component-spec.ecsv\n",
      "Spectrum saved as hlsp_muscles_xmm_epic_gj729_na_v1_component-spec.fits\n",
      "GJ15A\n",
      "Spectrum saved as hlsp_muscles_cxo_acis_gj15a_none_v1_component-spec.ecsv\n",
      "Spectrum saved as hlsp_muscles_cxo_acis_gj15a_none_v1_component-spec.fits\n"
     ]
    }
   ],
   "source": [
    "xmm_stars = [s[:-5] for s in os.listdir(xmmpath)]\n",
    "print(xmm_stars)\n",
    "\n",
    "for star in stars:\n",
    "    if star in os.listdir(cpath):\n",
    "        \n",
    "        print(star)\n",
    "        evt_path = glob.glob('{}{}/*/primary/*evt2.fits.gz'.format(cpath, star))[0]\n",
    "        prepare_chandra.make_chandra_spectra('{}{}/'.format(cpath, star), evt_path, '{}chandra_hlsp/'.format(path), 1, apec_repo='{}apec_txt/'.format(path), make_apec=True, save_ecsv=True, save_fits=True)\n",
    "    xmmfile = glob.glob('{}{}.fits'.format(xmmpath, star))\n",
    "    if len(xmmfile) > 0: \n",
    "        print(star)\n",
    "        prepare_xmm.make_xmm_spectra(xmmfile[0], '{}xmm_hlsp/'.format(path), 1, apec_repo='{}apec_txt/'.format(path), make_apec=True, save_ecsv=True, save_fits=True)    "
   ]
  },
  {
   "cell_type": "code",
   "execution_count": 24,
   "metadata": {},
   "outputs": [
    {
     "data": {
      "text/plain": [
       "['L-980-5',\n",
       " 'GJ674',\n",
       " 'GJ676A',\n",
       " 'GJ649',\n",
       " 'GJ699',\n",
       " 'GJ163',\n",
       " 'GJ849',\n",
       " 'GJ1132',\n",
       " 'LHS-2686',\n",
       " 'GJ729',\n",
       " 'GJ15A']"
      ]
     },
     "execution_count": 24,
     "metadata": {},
     "output_type": "execute_result"
    }
   ],
   "source": [
    "os.listdir(cpath)\n",
    "stars"
   ]
  },
  {
   "cell_type": "code",
   "execution_count": 16,
   "metadata": {},
   "outputs": [],
   "source": [
    "hdul.close()"
   ]
  },
  {
   "cell_type": "code",
   "execution_count": 17,
   "metadata": {},
   "outputs": [],
   "source": [
    "hdul = fits.open(xmmpath+'GJ649.fits')"
   ]
  },
  {
   "cell_type": "code",
   "execution_count": 18,
   "metadata": {},
   "outputs": [
    {
     "name": "stdout",
     "output_type": "stream",
     "text": [
      "Filename: /media/david/5tb_storage1/muscles/xray/xmm/GJ649.fits\n",
      "No.    Name      Ver    Type      Cards   Dimensions   Format\n",
      "  0  PRIMARY       1 PrimaryHDU      29   ()      \n",
      "  1  Obs Spectrum    1 BinTableHDU     44   37R x 12C   [E, E, E, E, E, E, E, E, E, E, E, E]   \n",
      "  2  Model Spectrum    1 BinTableHDU     21   2401R x 4C   [E, E, E, E]   \n",
      "  3  Light curve    1 BinTableHDU     20   56R x 3C   [E, E, E]   \n"
     ]
    }
   ],
   "source": [
    "hdul.info()"
   ]
  },
  {
   "cell_type": "code",
   "execution_count": 19,
   "metadata": {},
   "outputs": [
    {
     "data": {
      "text/plain": [
       "SIMPLE  =                    T / conforms to FITS standard                      \n",
       "BITPIX  =                    8 / array data type                                \n",
       "NAXIS   =                    0 / number of array dimensions                     \n",
       "EXTEND  =                    T                                                  \n",
       "TARGET  = 'GJ 649  '                                                            \n",
       "OBS_ID  = '0810210401'                                                          \n",
       "HIERARCH pn_FILTER = 'Medium  '                                                 \n",
       "HIERARCH pn_MODE = 'IMAGING '                                                   \n",
       "HIERARCH pn_SUBMODE = 'PrimeSmallWindow'                                        \n",
       "HIERARCH pn_DATE-OBS = '2018-03-03T14:07:42'                                    \n",
       "HIERARCH pn_DATE-END = '2018-03-03T18:42:39'                                    \n",
       "HIERARCH pn_EXP_ID = '0810210401001'                                            \n",
       "HIERARCH pn_DURATION = 16915.0                                                  \n",
       "HIERARCH mos1_FILTER = 'Medium  '                                               \n",
       "HIERARCH mos1_MODE = 'IMAGING '                                                 \n",
       "HIERARCH mos1_SUBMODE = 'PrimePartialW2'                                        \n",
       "HIERARCH mos1_DATE-OBS = '2018-03-03T14:02:13'                                  \n",
       "HIERARCH mos1_DATE-END = '2018-03-03T18:39:49'                                  \n",
       "HIERARCH mos1_EXP_ID = '0810210401002'                                          \n",
       "HIERARCH mos2_FILTER = 'Medium  '                                               \n",
       "HIERARCH mos2_MODE = 'IMAGING '                                                 \n",
       "HIERARCH mos2_SUBMODE = 'PrimePartialW3'                                        \n",
       "HIERARCH mos2_DATE-OBS = '2018-03-03T14:02:44'                                  \n",
       "HIERARCH mos2_DATE-END = '2018-03-03T18:39:55'                                  \n",
       "HIERARCH mos2_EXP_ID = '0810210401003'                                          \n",
       "HIERARCH Spec_ExpTime_pn = 11.5                                                 \n",
       "HIERARCH Spec_ExpTime_mos1 = 16.1                                               \n",
       "HIERARCH Spec_ExpTime_mos2 = 16.4                                               \n",
       "HIERARCH Instrument = 'EPIC    '                                                "
      ]
     },
     "execution_count": 19,
     "metadata": {},
     "output_type": "execute_result"
    }
   ],
   "source": [
    "hdul[0].header"
   ]
  },
  {
   "cell_type": "code",
   "execution_count": 20,
   "metadata": {},
   "outputs": [
    {
     "data": {
      "text/plain": [
       "XTENSION= 'BINTABLE'           / binary table extension                         \n",
       "BITPIX  =                    8 / array data type                                \n",
       "NAXIS   =                    2 / number of array dimensions                     \n",
       "NAXIS1  =                   48 / length of dimension 1                          \n",
       "NAXIS2  =                   37 / length of dimension 2                          \n",
       "PCOUNT  =                    0 / number of group parameters                     \n",
       "GCOUNT  =                    1 / number of groups                               \n",
       "TFIELDS =                   12 / number of table fields                         \n",
       "TTYPE1  = 'Wave    '                                                            \n",
       "TFORM1  = 'E       '                                                            \n",
       "TUNIT1  = 'Angstrom'                                                            \n",
       "TTYPE2  = 'bin_width'                                                           \n",
       "TFORM2  = 'E       '                                                            \n",
       "TUNIT2  = 'Angstrom'                                                            \n",
       "TTYPE3  = 'Rate    '                                                            \n",
       "TFORM3  = 'E       '                                                            \n",
       "TUNIT3  = 'cts s-1 AA-1 cm-2'                                                   \n",
       "TTYPE4  = 'Rate_err'                                                            \n",
       "TFORM4  = 'E       '                                                            \n",
       "TUNIT4  = 'cts s-1 AA-1 cm-2'                                                   \n",
       "TTYPE5  = 'pn_Rate '                                                            \n",
       "TFORM5  = 'E       '                                                            \n",
       "TUNIT5  = 'cts s-1 AA-1 cm-2'                                                   \n",
       "TTYPE6  = 'pn_Rate_err'                                                         \n",
       "TFORM6  = 'E       '                                                            \n",
       "TUNIT6  = 'cts s-1 AA-1 cm-2'                                                   \n",
       "TTYPE7  = 'Flux    '                                                            \n",
       "TFORM7  = 'E       '                                                            \n",
       "TUNIT7  = 'erg s-1 AA-1 cm-2'                                                   \n",
       "TTYPE8  = 'Flux_err'                                                            \n",
       "TFORM8  = 'E       '                                                            \n",
       "TUNIT8  = 'erg s-1 AA-1 cm-2'                                                   \n",
       "TTYPE9  = 'MFlux   '                                                            \n",
       "TFORM9  = 'E       '                                                            \n",
       "TUNIT9  = 'erg s-1 AA-1 cm-2'                                                   \n",
       "TTYPE10 = 'Correction'                                                          \n",
       "TFORM10 = 'E       '                                                            \n",
       "TTYPE11 = 'CFlux   '                                                            \n",
       "TFORM11 = 'E       '                                                            \n",
       "TUNIT11 = 'erg s-1 AA-1 cm-2'                                                   \n",
       "TTYPE12 = 'CFlux_err'                                                           \n",
       "TFORM12 = 'E       '                                                            \n",
       "TUNIT12 = 'erg s-1 AA-1 cm-2'                                                   \n",
       "EXTNAME = 'Obs Spectrum'                                                        "
      ]
     },
     "execution_count": 20,
     "metadata": {},
     "output_type": "execute_result"
    }
   ],
   "source": [
    "hdul[1].header"
   ]
  },
  {
   "cell_type": "code",
   "execution_count": 21,
   "metadata": {},
   "outputs": [
    {
     "name": "stdout",
     "output_type": "stream",
     "text": [
      "GJ674\n",
      "/media/david/5tb_storage1/muscles/apec_hlsp/\n",
      "Spectrum saved as hlsp_muscles_model_apec_gj674_na_v1_component-spec.ecsv\n",
      "Spectrum saved as hlsp_muscles_model_apec_gj674_na_v1_component-spec.fits\n",
      "GJ649\n",
      "/media/david/5tb_storage1/muscles/apec_hlsp/\n",
      "Spectrum saved as hlsp_muscles_model_apec_gj649_na_v1_component-spec.ecsv\n",
      "Spectrum saved as hlsp_muscles_model_apec_gj649_na_v1_component-spec.fits\n",
      "GJ699\n",
      "/media/david/5tb_storage1/muscles/apec_hlsp/\n",
      "Spectrum saved as hlsp_muscles_model_apec_gj699_na_v1_component-spec.ecsv\n",
      "Spectrum saved as hlsp_muscles_model_apec_gj699_na_v1_component-spec.fits\n",
      "GJ163\n",
      "/media/david/5tb_storage1/muscles/apec_hlsp/\n",
      "Spectrum saved as hlsp_muscles_model_apec_gj163_na_v1_component-spec.ecsv\n",
      "Spectrum saved as hlsp_muscles_model_apec_gj163_na_v1_component-spec.fits\n",
      "LHS-2686\n",
      "/media/david/5tb_storage1/muscles/apec_hlsp/\n",
      "Spectrum saved as hlsp_muscles_model_apec_lhs-2686_na_v1_component-spec.ecsv\n",
      "Spectrum saved as hlsp_muscles_model_apec_lhs-2686_na_v1_component-spec.fits\n",
      "GJ729\n",
      "/media/david/5tb_storage1/muscles/apec_hlsp/\n",
      "Spectrum saved as hlsp_muscles_model_apec_gj729_na_v1_component-spec.ecsv\n",
      "Spectrum saved as hlsp_muscles_model_apec_gj729_na_v1_component-spec.fits\n",
      "GJ15A\n",
      "/media/david/5tb_storage1/muscles/apec_hlsp/\n",
      "Spectrum saved as hlsp_muscles_model_apec_gj15a_na_v1_component-spec.ecsv\n",
      "Spectrum saved as hlsp_muscles_model_apec_gj15a_na_v1_component-spec.fits\n"
     ]
    }
   ],
   "source": [
    "for star in stars:\n",
    "    apecfile = glob.glob('{}apec_txt/{}apec.txt'.format(path, star))\n",
    "    if len(apecfile) > 0:\n",
    "        print(star)\n",
    "        specs = glob.glob('stis_test_output/{}/*ecsv'.format(star))\n",
    "        lya_spec = 'stis_test_output/{0}/hlsp_muscles_hst_stis_{1}_g140m_v1_component-spec.ecsv'.format(star, star.lower())\n",
    "        if lya_spec not in specs:\n",
    "            lya_spec = 'stis_test_output/{0}/hlsp_muscles_hst_stis_{1}_e140m_v1_component-spec.ecsv'.format(star, star.lower())\n",
    "\n",
    "        spec = Table.read(lya_spec)\n",
    "        prepare_model.make_model_spectrum(apecfile[0], 1, spec ,savepath = '{}apec_hlsp/'.format(path), save_ecsv=True, save_fits=True, normfac=1.0, model_name='apec')"
   ]
  },
  {
   "cell_type": "markdown",
   "metadata": {},
   "source": [
    "And phoenix models while we're here"
   ]
  },
  {
   "cell_type": "code",
   "execution_count": 22,
   "metadata": {},
   "outputs": [
    {
     "name": "stdout",
     "output_type": "stream",
     "text": [
      "L-980-5\n",
      "/media/david/5tb_storage1/muscles/phoenix_hlsp/\n",
      "Spectrum saved as hlsp_muscles_model_phx_l-980-5_na_v1_component-spec.ecsv\n",
      "Spectrum saved as hlsp_muscles_model_phx_l-980-5_na_v1_component-spec.fits\n",
      "GJ674\n",
      "/media/david/5tb_storage1/muscles/phoenix_hlsp/\n",
      "Spectrum saved as hlsp_muscles_model_phx_gj674_na_v1_component-spec.ecsv\n",
      "Spectrum saved as hlsp_muscles_model_phx_gj674_na_v1_component-spec.fits\n",
      "GJ676A\n",
      "/media/david/5tb_storage1/muscles/phoenix_hlsp/\n",
      "Spectrum saved as hlsp_muscles_model_phx_gj676a_na_v1_component-spec.ecsv\n",
      "Spectrum saved as hlsp_muscles_model_phx_gj676a_na_v1_component-spec.fits\n",
      "GJ649\n",
      "/media/david/5tb_storage1/muscles/phoenix_hlsp/\n",
      "Spectrum saved as hlsp_muscles_model_phx_gj649_na_v1_component-spec.ecsv\n",
      "Spectrum saved as hlsp_muscles_model_phx_gj649_na_v1_component-spec.fits\n",
      "GJ699\n",
      "/media/david/5tb_storage1/muscles/phoenix_hlsp/\n",
      "Spectrum saved as hlsp_muscles_model_phx_gj699_na_v1_component-spec.ecsv\n",
      "Spectrum saved as hlsp_muscles_model_phx_gj699_na_v1_component-spec.fits\n",
      "GJ163\n",
      "/media/david/5tb_storage1/muscles/phoenix_hlsp/\n",
      "Spectrum saved as hlsp_muscles_model_phx_gj163_na_v1_component-spec.ecsv\n",
      "Spectrum saved as hlsp_muscles_model_phx_gj163_na_v1_component-spec.fits\n",
      "GJ849\n",
      "/media/david/5tb_storage1/muscles/phoenix_hlsp/\n",
      "Spectrum saved as hlsp_muscles_model_phx_gj849_na_v1_component-spec.ecsv\n",
      "Spectrum saved as hlsp_muscles_model_phx_gj849_na_v1_component-spec.fits\n",
      "GJ1132\n",
      "/media/david/5tb_storage1/muscles/phoenix_hlsp/\n",
      "Spectrum saved as hlsp_muscles_model_phx_gj1132_na_v1_component-spec.ecsv\n",
      "Spectrum saved as hlsp_muscles_model_phx_gj1132_na_v1_component-spec.fits\n",
      "LHS-2686\n",
      "/media/david/5tb_storage1/muscles/phoenix_hlsp/\n",
      "Spectrum saved as hlsp_muscles_model_phx_lhs-2686_na_v1_component-spec.ecsv\n",
      "Spectrum saved as hlsp_muscles_model_phx_lhs-2686_na_v1_component-spec.fits\n",
      "GJ729\n",
      "/media/david/5tb_storage1/muscles/phoenix_hlsp/\n",
      "Spectrum saved as hlsp_muscles_model_phx_gj729_na_v1_component-spec.ecsv\n",
      "Spectrum saved as hlsp_muscles_model_phx_gj729_na_v1_component-spec.fits\n",
      "GJ15A\n",
      "/media/david/5tb_storage1/muscles/phoenix_hlsp/\n",
      "Spectrum saved as hlsp_muscles_model_phx_gj15a_na_v1_component-spec.ecsv\n",
      "Spectrum saved as hlsp_muscles_model_phx_gj15a_na_v1_component-spec.fits\n"
     ]
    }
   ],
   "source": [
    "for star in stars:\n",
    "    pfile = glob.glob('{}phoenix_models/{}_phoenix_interpolated.ecsv'.format(path, star))\n",
    "    if len(pfile) > 0:\n",
    "        print(star)\n",
    "        specs = glob.glob('stis_test_output/{}/*ecsv'.format(star))\n",
    "        lya_spec = 'stis_test_output/{0}/hlsp_muscles_hst_stis_{1}_g140m_v1_component-spec.ecsv'.format(star, star.lower())\n",
    "        if lya_spec not in specs:\n",
    "            lya_spec = 'stis_test_output/{0}/hlsp_muscles_hst_stis_{1}_e140m_v1_component-spec.ecsv'.format(star, star.lower())\n",
    "\n",
    "        spec = Table.read(lya_spec)\n",
    "        nf = Table.read(pfile[0]).meta['NORMFAC'].value\n",
    "        prepare_model.make_model_spectrum(pfile[0], 1, spec ,savepath = '{}phoenix_hlsp/'.format(path), save_ecsv=True, save_fits=True, normfac=nf, model_name='PHX')"
   ]
  },
  {
   "cell_type": "code",
   "execution_count": null,
   "metadata": {},
   "outputs": [],
   "source": []
  }
 ],
 "metadata": {
  "kernelspec": {
   "display_name": "Python 3",
   "language": "python",
   "name": "python3"
  },
  "language_info": {
   "codemirror_mode": {
    "name": "ipython",
    "version": 3
   },
   "file_extension": ".py",
   "mimetype": "text/x-python",
   "name": "python",
   "nbconvert_exporter": "python",
   "pygments_lexer": "ipython3",
   "version": "3.7.7"
  }
 },
 "nbformat": 4,
 "nbformat_minor": 4
}
