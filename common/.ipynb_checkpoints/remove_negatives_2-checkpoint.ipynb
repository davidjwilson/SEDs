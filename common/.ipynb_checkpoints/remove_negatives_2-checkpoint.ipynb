{
 "cells": [
  {
   "cell_type": "markdown",
   "id": "ab225ad7-467d-471a-8470-376d9c7a51ce",
   "metadata": {},
   "source": [
    "Trying out remove negatives on the finished SEDs."
   ]
  },
  {
   "cell_type": "code",
   "execution_count": 2,
   "id": "ac5e6d7a-90dd-418e-8a32-d8e15263b7e7",
   "metadata": {},
   "outputs": [],
   "source": [
    "import numpy as np\n",
    "import matplotlib.pyplot as plt\n",
    "import astropy.io.fits as fits\n",
    "import os\n",
    "import glob\n",
    "from astropy.table import Table\n",
    "from astropy.io import ascii\n",
    "from astropy.convolution import convolve, Box1DKernel\n",
    "from scipy.interpolate import interp1d\n",
    "from scipy.io.idl import readsav\n",
    "\n",
    "import astropy.units as u\n",
    "from astropy import time, coordinates as coord\n",
    "import astropy.constants as const\n",
    "from astropy.modeling import models, fitting\n",
    "from astropy.coordinates import SkyCoord\n",
    "from matplotlib.gridspec import GridSpec\n",
    "from datetime import datetime\n",
    "from specutils import Spectrum1D\n",
    "import specutils.manipulation\n",
    "\n",
    "#matplotlib set up\n",
    "%matplotlib inline\n",
    "from matplotlib import rcParams\n",
    "rcParams[\"figure.figsize\"] = (14, 5)\n",
    "rcParams[\"font.size\"] = 20"
   ]
  },
  {
   "cell_type": "code",
   "execution_count": 5,
   "id": "512f734d-b1de-499c-a758-983951adca23",
   "metadata": {},
   "outputs": [],
   "source": [
    "path = '/media/david/1tb_storage1/emergency_data/mega_muscles/v01_seds/'"
   ]
  },
  {
   "cell_type": "code",
   "execution_count": 6,
   "id": "1ce12723-f882-4c22-98ab-2fc52da38aa3",
   "metadata": {},
   "outputs": [
    {
     "data": {
      "text/plain": [
       "['/media/david/1tb_storage1/emergency_data/mega_muscles/v01_seds/hlsp_muscles_multi_multi_gj649_broadband_v1_var-res-sed.fits',\n",
       " '/media/david/1tb_storage1/emergency_data/mega_muscles/v01_seds/hlsp_muscles_multi_multi_gj1132_broadband_v1_var-res-sed.fits',\n",
       " '/media/david/1tb_storage1/emergency_data/mega_muscles/v01_seds/hlsp_muscles_multi_multi_gj15a_broadband_v1_var-res-sed.fits',\n",
       " '/media/david/1tb_storage1/emergency_data/mega_muscles/v01_seds/hlsp_muscles_multi_multi_gj163_broadband_v1_var-res-sed.fits',\n",
       " '/media/david/1tb_storage1/emergency_data/mega_muscles/v01_seds/hlsp_muscles_multi_multi_gj674_broadband_v1_var-res-sed.fits',\n",
       " '/media/david/1tb_storage1/emergency_data/mega_muscles/v01_seds/hlsp_muscles_multi_multi_gj676a_broadband_v1_var-res-sed.fits',\n",
       " '/media/david/1tb_storage1/emergency_data/mega_muscles/v01_seds/hlsp_muscles_multi_multi_gj699_broadband_v1_var-res-sed.fits',\n",
       " '/media/david/1tb_storage1/emergency_data/mega_muscles/v01_seds/hlsp_muscles_multi_multi_gj729_broadband_v1_var-res-sed.fits',\n",
       " '/media/david/1tb_storage1/emergency_data/mega_muscles/v01_seds/hlsp_muscles_multi_multi_gj849_broadband_v1_var-res-sed.fits',\n",
       " '/media/david/1tb_storage1/emergency_data/mega_muscles/v01_seds/hlsp_muscles_multi_multi_l-980-5_broadband_v1_var-res-sed.fits',\n",
       " '/media/david/1tb_storage1/emergency_data/mega_muscles/v01_seds/hlsp_muscles_multi_multi_lhs-2686_broadband_v1_var-res-sed.fits',\n",
       " '/media/david/1tb_storage1/emergency_data/mega_muscles/v01_seds/hlsp_muscles_multi_multi_trappist-1_broadband_v1_var-res-sed.fits']"
      ]
     },
     "execution_count": 6,
     "metadata": {},
     "output_type": "execute_result"
    }
   ],
   "source": [
    "specs = glob.glob('{}*var*'.format(path))\n",
    "specs"
   ]
  },
  {
   "cell_type": "code",
   "execution_count": 4,
   "id": "ab9f776e-7ad5-4fe7-b85c-1757807ef819",
   "metadata": {},
   "outputs": [],
   "source": [
    "def remove_negatives(w, f, e):\n",
    "    print(len(f))\n",
    "    wo, fo, eo = w, f, e\n",
    "    nz = len(fo[fo <=0.0])\n",
    "    print(nz)\n",
    "    while nz > 0:\n",
    "        fn = []\n",
    "        wn = []\n",
    "        en = []\n",
    "        inds = []\n",
    "        for i in range(len(fo))[1:-1]:\n",
    "            if fo[i] <= 0.0:\n",
    "                inds.append(i-1)\n",
    "                inds.append(i+1)\n",
    "                weights = 1 / (eo[i-1:i+2]**2)\n",
    "                fn.append(np.average(fo[i-1:i+2],weights=weights))\n",
    "                wn.append(np.mean(wo[i-1:i+2]))\n",
    "                en.append((1 / np.sum(weights, axis=0))**0.5)\n",
    "            else:\n",
    "                wn.append(wo[i])\n",
    "                fn.append(fo[i])\n",
    "                en.append(eo[i])\n",
    "        inds = np.unique(inds)\n",
    "        wn, fn, en = np.array(wn), np.array(fn), np.array(en)\n",
    "        print(len(fn))\n",
    "        wn, fn, en  = np.delete(wn, inds), np.delete(fn, inds), np.delete(en, inds)\n",
    "        print(len(fn))\n",
    "        nz = len(fn[fn <=0.0])\n",
    "        wo, fo, eo =wn, fn, en\n",
    "        print(nz)\n",
    "    return(wn, fn, en)"
   ]
  },
  {
   "cell_type": "code",
   "execution_count": 5,
   "id": "2f931657-96cb-411d-86c2-3768f1deae20",
   "metadata": {},
   "outputs": [
    {
     "name": "stdout",
     "output_type": "stream",
     "text": [
      "GJ649\n",
      "1187383\n",
      "9911\n"
     ]
    },
    {
     "name": "stderr",
     "output_type": "stream",
     "text": [
      "/home/david/anaconda3/envs/astroconda/lib/python3.6/site-packages/ipykernel_launcher.py:15: RuntimeWarning: divide by zero encountered in true_divide\n",
      "  from ipykernel import kernelapp as app\n",
      "/home/david/anaconda3/envs/astroconda/lib/python3.6/site-packages/numpy/lib/function_base.py:412: RuntimeWarning: invalid value encountered in multiply\n",
      "  avg = np.multiply(a, wgt, dtype=result_dtype).sum(axis)/scl\n"
     ]
    },
    {
     "name": "stdout",
     "output_type": "stream",
     "text": [
      "1187381\n",
      "1171723\n",
      "0\n"
     ]
    },
    {
     "data": {
      "image/png": "[encoded data removed]",
      "text/plain": [
       "<Figure size 432x288 with 1 Axes>"
      ]
     },
     "metadata": {
      "needs_background": "light"
     },
     "output_type": "display_data"
    }
   ],
   "source": [
    "stars = []\n",
    "\n",
    "\n",
    "for j, spec in enumerate(specs[0:1]):\n",
    "#     print(spec)\n",
    "#     plt.figure(figsize = (4*len(doublets), 10))\n",
    "#     gs = GridSpec(2, 4)\n",
    "    data = fits.getdata(spec, 1)\n",
    "    star = fits.getheader(spec)['TARGNAME']\n",
    "    print(star)\n",
    "    stars.append(star)\n",
    "    w, f, e, inst = data['WAVELENGTH'], data['FLUX'], data['ERROR'], data['INSTRUMENT']\n",
    "    wn, fn, en = remove_negatives(w, f, e)\n",
    "    plt.plot(w[w< 4000], f[w< 4000])    \n",
    "    plt.plot(wn[wn< 4000], fn[wn< 4000])\n",
    "    plt.yscale('log')\n",
    "    plt.show()\n",
    "    "
   ]
  },
  {
   "cell_type": "code",
   "execution_count": 6,
   "id": "f253d78d-e3f8-40e9-aab7-a3e5d51e5329",
   "metadata": {},
   "outputs": [],
   "source": [
    "# stars = []\n",
    "\n",
    "\n",
    "# doublets = np.array([[1238.821, 1242.804],[1334.524,1335.709],[1393.755,1402.77],[1548.201,1550.772]])\n",
    "# all_lines = doublets.flatten()\n",
    "# names = ['N\\,v', 'C\\,II', 'Si\\,IV', 'C\\,IV']\n",
    "# # dv_guess = np.array(ref_dvs)*u.km/u.s\n",
    "\n",
    "# for j, spec in enumerate(specs):\n",
    "# #     print(spec)\n",
    "#     plt.figure(figsize = (4*len(doublets), 10))\n",
    "#     gs = GridSpec(2, 4)\n",
    "#     data = fits.getdata(spec, 1)\n",
    "#     star = fits.getheader(spec)['TARGNAME']\n",
    "#     print(star)\n",
    "#     stars.append(star)\n",
    "#     w, f, e, inst = data['WAVELENGTH'], data['FLUX'], data['ERROR'], data['INSTRUMENT']\n",
    "#     wn, fn, en = remove_negatives(w, f, e)\n",
    "#     diffs = np.diff(wn[wn < 5700])\n",
    "#     print('n ones', len(diffs[diffs >1]))\n",
    "#     print('int og', np.trapz(f[w < 4000], w[w < 4000]))\n",
    "#     print('int nw', np.trapz(fn[wn < 4000], wn[wn < 4000]))\n",
    "    \n",
    "#     # lines = line_list[(line_list['Likelihood to measure'] == 'High') | (line_list['Likelihood to measure'] == 'Medium')]['Wavelength']\n",
    "\n",
    "#     smooth =7 \n",
    "\n",
    "\n",
    "#     for i, lines in enumerate(doublets):\n",
    "# #         plt.subplot(1, len(doublets) , i+1)\n",
    "#         plt.subplot(gs[0, i])\n",
    "#         if i == 0:\n",
    "#             plt.ylabel('Flux (erg s$^{-1}$ cm$^{-2}$ \\AA$^{-1}$)')\n",
    "# #         start, end = lines[0]-5, lines[1]+5\n",
    "#         mask = (w >= lines[0]-7) & (w <= lines[1]+7)\n",
    "#         maskn = (wn >= lines[0]-7) & (wn <= lines[1]+7)\n",
    "#         if np.median(inst[mask]) in [1, 2, 16]:\n",
    "#             mask = (w >= lines[0]-2) & (w <= lines[1]+2)\n",
    "#             maskn = (wn >= lines[0]-2) & (wn <= lines[1]+2)\n",
    "#         wi, fi, ei = w[mask], f[mask], e[mask]\n",
    "#         wj, fj, ej = wn[maskn], fn[maskn], en[maskn]\n",
    "#         if np.median(inst[mask]) in [1, 2]:\n",
    "#             fi = convolve(fi,Box1DKernel(smooth))\n",
    "#             ei = convolve(ei,Box1DKernel(smooth))/smooth**0.5\n",
    "#             fj = convolve(fj,Box1DKernel(smooth))\n",
    "#             ej = convolve(ej,Box1DKernel(smooth))/smooth**0.5\n",
    "# #         plt.errorbar(wi, fi, yerr =ei, errorevery=5)\n",
    "# #         plt.errorbar(wj, fj, yerr =ej, errorevery=5)\n",
    "#         plt.step(wi, fi, where='mid')\n",
    "#         plt.step(wj, fj, where='mid')\n",
    "        \n",
    "#     #         print(std_guess)\n",
    "    \n",
    "#     plt.subplot(gs[1, :])\n",
    "#     plt.plot(w[w< 4000], f[w< 4000])    \n",
    "#     plt.plot(wn[wn< 4000], fn[wn< 4000])\n",
    "#     plt.yscale('log')\n",
    "#     plt.xlabel('Wavelength (\\AA)')\n",
    "    \n",
    "#     plt.xlim(1100, 3000)\n",
    "#     plt.tight_layout()\n",
    "#     plt.subplots_adjust(wspace=0.2, hspace=0.1)\n",
    "# #     plt.savefig('rv_plots/{}_rv.png'.format(star), dpi=150)\n",
    "# #     plt.savefig('rv_plots/{}_rv.pdf'.format(star), dpi=150)\n",
    "#     plt.show()\n",
    "    \n",
    "#     #     start += step\n"
   ]
  },
  {
   "cell_type": "code",
   "execution_count": 7,
   "id": "d56027e5-fabd-40c3-817b-425c99ec6340",
   "metadata": {},
   "outputs": [],
   "source": [
    "line_list = Table.read('../lines/all_linelist.csv')"
   ]
  },
  {
   "cell_type": "code",
   "execution_count": 8,
   "id": "527c6385-a677-422a-bfbc-eff418f075f7",
   "metadata": {},
   "outputs": [],
   "source": [
    "lines = line_list[(line_list['Likelihood to measure'] == 'High')]['Wavelength']\n"
   ]
  },
  {
   "cell_type": "code",
   "execution_count": 11,
   "id": "23d4a8d2-111f-4971-b59f-8d3fd185bbf7",
   "metadata": {},
   "outputs": [],
   "source": [
    "line_groups = np.array([\n",
    "    [1174.935,1175.265,1175.592,1175.713,1175.713,1175.989,1176.372],\n",
    "    [1206.499],\n",
    "    [1264.737,1265.001],\n",
    "    [1238.821], \n",
    "    [1242.804],\n",
    "    [1294.543],\n",
    "    [1298.918],\n",
    "    [1323.952],\n",
    "    [1334.524],\n",
    "    [1335.709],\n",
    "    [1334.524,1335.709],\n",
    "    [1393.755],\n",
    "    [1402.77],\n",
    "    [1548.201],\n",
    "    [1550.772],\n",
    "    [1640.332,1640.345,1640.375,1640.391,1640.474,1640.49,1640.533],\n",
    "    [1657.268],\n",
    "    [1656.267,1656.926,1657.008,1657.379,1657.907,1658.122],\n",
    "    [1670.787],\n",
    "    [2796.35], \n",
    "     [2803.53]], dtype='object')"
   ]
  },
  {
   "cell_type": "code",
   "execution_count": 10,
   "id": "db2cdaf1-18c2-48be-9e9a-3a9279326b60",
   "metadata": {},
   "outputs": [],
   "source": [
    "\n",
    "\n",
    "def remove_negatives(w, f, e, grouped_lines, dv=0):\n",
    "#     print(len(f))\n",
    "    wo, fo, eo = w, f, e\n",
    "   \n",
    "    nz = len(fo[fo <0.0])\n",
    "#     print(nz)\n",
    "    while nz > 0:\n",
    "        fn = []\n",
    "        wn = []\n",
    "        en = []\n",
    "        inds = []\n",
    "        mask = make_line_mask(wo, grouped_lines, dv=dv)\n",
    "        wl, fl, el = wo[mask], fo[mask], eo[mask] #mask out lines in regions that you use to make average, but still check them for <0s\n",
    "        for i in range(len(fo[1:-2])):\n",
    "            if fo[i] < 0.0:\n",
    "                inds.append(i-1)\n",
    "                inds.append(i+1)\n",
    "#                 weights = 1 / (eo[i-1:i+2]**2)\n",
    "#                 fn.append(np.average(fo[i-1:i+2],weights=weights))\n",
    "#                 wn.append(np.mean(wo[i-1:i+2]))\n",
    "                weights = 1 / (el[i-1:i+2]**2)\n",
    "#                 try:\n",
    "#                     fn.append(np.average(fl[i-1:i+2],weights=weights))\n",
    "#                 except:\n",
    "#                     print('problem')\n",
    "#                     print(wl[i-1:i+2],el[i-1:i+2])\n",
    "                fn.append(np.mean(fl[i-1:i+2]))\n",
    "                wn.append(np.mean(wo[i-1:i+2]))\n",
    "                en.append((1 / np.sum(weights, axis=0))**0.5)\n",
    "            else:\n",
    "                wn.append(wo[i])\n",
    "                fn.append(fo[i])\n",
    "                en.append(eo[i])\n",
    "        inds = np.unique(inds)\n",
    "        inds = inds[np.argsort(inds)]\n",
    "#         print(inds[-1])\n",
    "        if inds[-1] == len(wn):\n",
    "            inds = inds[:-2]\n",
    "#         print(inds[-1])\n",
    "        wn, fn, en = np.array(wn), np.array(fn), np.array(en)\n",
    "#         print(len(fn))\n",
    "        wn, fn, en  = np.delete(wn, inds), np.delete(fn, inds), np.delete(en, inds)\n",
    "#         print(len(fn))\n",
    "        nz = len(fn[fn <0.0])\n",
    "        wo, fo, eo =wn, fn, en\n",
    "#         print(nz)\n",
    "    return(wn, fn, en)\n",
    "\n",
    "def mask_maker(x, pairs, include=True):\n",
    "    \"\"\"\n",
    "    creates a mask for a spectrum that excudes between pairs from an array\n",
    "    \"\"\"\n",
    "    b = pairs[::2]\n",
    "    r = pairs[1::2]\n",
    "    C = np.zeros_like(x,dtype='bool')\n",
    "    for i in range(len(b)):\n",
    "        C |= (x>b[i])&(x<r[i])\n",
    "    if include:\n",
    "        return ~C\n",
    "    else:\n",
    "        return C\n",
    "\n",
    "def make_line_mask(w, grouped_lines, dv=0): \n",
    "    \"\"\"\n",
    "    makes a list of wavelength ranges to cut\n",
    "    \"\"\"\n",
    "    pairs = []\n",
    "    for group in grouped_lines:\n",
    "        group =  dv.to(u.AA, equivalencies=u.doppler_optical(group*u.AA)).value\n",
    "        pairs.append(min(group)-0.5)    \n",
    "        pairs.append(max(group)+0.5)\n",
    "    mask = mask_maker(w, pairs)\n",
    "    return mask"
   ]
  },
  {
   "cell_type": "code",
   "execution_count": 11,
   "id": "7ecb3a1e-ba63-4afa-a634-64b1dfcaefa1",
   "metadata": {},
   "outputs": [],
   "source": [
    "# print(stars)"
   ]
  },
  {
   "cell_type": "code",
   "execution_count": 13,
   "id": "d52c4a77-d0a7-4324-adb1-0a21297ba763",
   "metadata": {},
   "outputs": [],
   "source": [
    "stars = []\n",
    "\n",
    "dvs = np.array([-3.2179626137386097,  40.08741304111106, -8.29172387532275, 36.44496578836573, \n",
    "       -8.496187662426907, -44.461822449302915, -124.3703158406861,12.180515773744279,\n",
    "      -22.9621644919636, 16.10168084165221, 5.910544014529296,-62.558323075720324])*u.km/u.s\n",
    "\n",
    "\n",
    "doublets = np.array([[1238.821, 1242.804],[1334.524,1335.709],[1393.755,1402.77],[1548.201,1550.772]])\n",
    "all_lines = doublets.flatten()\n",
    "names = ['N\\,v', 'C\\,II', 'Si\\,IV', 'C\\,IV']\n",
    "# dv_guess = np.array(ref_dvs)*u.km/u.s\n",
    "\n",
    "# for j, spec in enumerate(specs):\n",
    "# #     print(spec)\n",
    "#     plt.figure(figsize = (4*len(doublets), 10))\n",
    "#     gs = GridSpec(2, 4)\n",
    "#     data = fits.getdata(spec, 1)\n",
    "#     star = fits.getheader(spec)['TARGNAME']\n",
    "#     print(star)\n",
    "#     stars.append(star)\n",
    "#     w, f, e, inst = data['WAVELENGTH'], data['FLUX'], data['ERROR'], data['INSTRUMENT']\n",
    "#     wn, fn, en = remove_negatives(w, f, e, line_groups, dv=dvs[j])\n",
    "#     mask = make_line_mask(w, line_groups, dv=dvs[j])\n",
    "#     wl, fl, el = w[mask], f[mask], e[mask]\n",
    "#     diffs = np.diff(wn[wn < 5700])\n",
    "#     print('n ones', len(diffs[diffs >1]))\n",
    "#     print('int og', np.trapz(f[w < 4000], w[w < 4000]))\n",
    "#     print('int nw', np.trapz(fn[wn < 4000], wn[wn < 4000]))\n",
    "#     print('ratio', np.trapz(f[w < 4000], w[w < 4000])/np.trapz(fn[wn < 4000], wn[wn < 4000]))\n",
    "    \n",
    "#     # lines = line_list[(line_list['Likelihood to measure'] == 'High') | (line_list['Likelihood to measure'] == 'Medium')]['Wavelength']\n",
    "\n",
    "#     smooth =7 \n",
    "\n",
    "\n",
    "#     for i, lines in enumerate(doublets):\n",
    "# #         plt.subplot(1, len(doublets) , i+1)\n",
    "#         plt.subplot(gs[0, i])\n",
    "#         if i == 0:\n",
    "#             plt.ylabel('Flux (erg s$^{-1}$ cm$^{-2}$ \\AA$^{-1}$)')\n",
    "# #         start, end = lines[0]-5, lines[1]+5\n",
    "#         mask = (w >= lines[0]-7) & (w <= lines[1]+7)\n",
    "#         maskn = (wn >= lines[0]-7) & (wn <= lines[1]+7)\n",
    "#         maskl = (wl >= lines[0]-7) & (wl <= lines[1]+7)\n",
    "#         if np.median(inst[mask]) in [1, 2, 16]:\n",
    "#             mask = (w >= lines[0]-2) & (w <= lines[1]+2)\n",
    "#             maskn = (wn >= lines[0]-2) & (wn <= lines[1]+2)\n",
    "#             maskl = (wl >= lines[0]-2) & (wl <= lines[1]+2)\n",
    "            \n",
    "#         wi, fi, ei = w[mask], f[mask], e[mask]\n",
    "#         wj, fj, ej = wn[maskn], fn[maskn], en[maskn]\n",
    "#         wk, fk, ek = wl[maskl], fl[maskl], el[maskl]\n",
    "# #         if np.median(inst[mask]) in [1, 2]:\n",
    "# #             fi = convolve(fi,Box1DKernel(smooth))\n",
    "# #             ei = convolve(ei,Box1DKernel(smooth))/smooth**0.5\n",
    "# #             fj = convolve(fj,Box1DKernel(smooth))\n",
    "# #             ej = convolve(ej,Box1DKernel(smooth))/smooth**0.5\n",
    "# #             fk = convolve(fk,Box1DKernel(smooth))\n",
    "# #             ek = convolve(ek,Box1DKernel(smooth))/smooth**0.5\n",
    "# #         plt.errorbar(wi, fi, yerr =ei, errorevery=5)\n",
    "# #         plt.errorbar(wj, fj, yerr =ej, errorevery=5)\n",
    "#         plt.step(wi, fi, where='mid')\n",
    "#         plt.step(wj, fj, where='mid')\n",
    "# #         plt.step(wk, fk, where='mid')\n",
    "        \n",
    "#     #         print(std_guess)\n",
    "    \n",
    "#     plt.subplot(gs[1, :])\n",
    "#     plt.plot(w[w< 4000], f[w< 4000])    \n",
    "#     plt.plot(wn[wn< 4000], fn[wn< 4000])\n",
    "#     plt.yscale('log')\n",
    "#     plt.xlabel('Wavelength (\\AA)')\n",
    "    \n",
    "#     plt.xlim(1100, 3000)\n",
    "#     plt.tight_layout()\n",
    "#     plt.subplots_adjust(wspace=0.2, hspace=0.1)\n",
    "# #     plt.savefig('rv_plots/{}_rv.png'.format(star), dpi=150)\n",
    "# #     plt.savefig('rv_plots/{}_rv.pdf'.format(star), dpi=150)\n",
    "#     plt.show()\n",
    "    \n",
    "#     #     start += step\n"
   ]
  },
  {
   "cell_type": "markdown",
   "id": "c12acab4-3190-4c08-8917-e254466ed400",
   "metadata": {},
   "source": [
    "Let's make a fake spectrum and test it."
   ]
  },
  {
   "cell_type": "code",
   "execution_count": 13,
   "id": "1358a7c9-89f9-4049-9a03-2762970f3b3a",
   "metadata": {},
   "outputs": [
    {
     "name": "stdout",
     "output_type": "stream",
     "text": [
      "200\n",
      "143\n",
      "-0.6346400382798827\n",
      "15\n",
      "1.4522051505333846\n",
      "13\n",
      "nan\n"
     ]
    },
    {
     "name": "stderr",
     "output_type": "stream",
     "text": [
      "/home/david/anaconda3/envs/astroconda/lib/python3.6/site-packages/numpy/core/fromnumeric.py:3373: RuntimeWarning: Mean of empty slice.\n",
      "  out=out, **kwargs)\n",
      "/home/david/anaconda3/envs/astroconda/lib/python3.6/site-packages/numpy/core/_methods.py:170: RuntimeWarning: invalid value encountered in double_scalars\n",
      "  ret = ret.dtype.type(ret / rcount)\n",
      "/home/david/anaconda3/envs/astroconda/lib/python3.6/site-packages/ipykernel_launcher.py:31: RuntimeWarning: divide by zero encountered in double_scalars\n",
      "/home/david/anaconda3/envs/astroconda/lib/python3.6/site-packages/numpy/core/fromnumeric.py:3373: RuntimeWarning: Mean of empty slice.\n",
      "  out=out, **kwargs)\n",
      "/home/david/anaconda3/envs/astroconda/lib/python3.6/site-packages/numpy/core/_methods.py:170: RuntimeWarning: invalid value encountered in double_scalars\n",
      "  ret = ret.dtype.type(ret / rcount)\n",
      "/home/david/anaconda3/envs/astroconda/lib/python3.6/site-packages/ipykernel_launcher.py:31: RuntimeWarning: divide by zero encountered in double_scalars\n"
     ]
    },
    {
     "data": {
      "text/plain": [
       "[<matplotlib.lines.Line2D at 0x7f423dfaeeb8>]"
      ]
     },
     "execution_count": 13,
     "metadata": {},
     "output_type": "execute_result"
    },
    {
     "data": {
      "image/png": "[encoded data removed]",
      "text/plain": [
       "<Figure size 432x288 with 1 Axes>"
      ]
     },
     "metadata": {
      "needs_background": "light"
     },
     "output_type": "display_data"
    }
   ],
   "source": [
    "\n",
    "# Generate fake data\n",
    "np.random.seed(41)\n",
    "g1 = models.Gaussian1D(2, 1005, 0.1)\n",
    "g2 = models.Gaussian1D(2.5, 1007, 0.1)\n",
    "x = np.linspace(1000, 1010, 200)\n",
    "y = g1(x) + g2(x)+ np.random.normal(-0.17, 0.2, x.shape)\n",
    "z = np.random.normal(0., 0.2, x.shape)\n",
    "\n",
    "plt.step(x, y, where='mid')\n",
    "print(len(y))\n",
    "print(len(y[y<0]))\n",
    "print(np.trapz(y,x))\n",
    "xn, yn, zn = remove_negatives(x, y, z,[[2000]], dv=0*u.km/u.s)\n",
    "\n",
    "plt.step(xn, yn, where='mid')\n",
    "print(len(xn))\n",
    "print(np.trapz(yn,xn))\n",
    "\n",
    "\n",
    "\n",
    "xn, yn, zn = remove_negatives(x, y, z,[[1005],[1007]], dv=0*u.km/u.s)\n",
    "\n",
    "plt.step(xn, yn, where='mid')\n",
    "print(len(xn))\n",
    "print(np.trapz(yn,xn))\n",
    "\n",
    "\n",
    "mask = make_line_mask(x, [[1005],[1007]], dv=0*u.km/u.s)\n",
    "xl, yl, zl = x[mask], y[mask], z[mask]\n",
    "plt.step(xl, yl, where='mid')"
   ]
  },
  {
   "cell_type": "code",
   "execution_count": 14,
   "id": "38e6eef9-c0aa-40a0-9917-a318aaab030c",
   "metadata": {},
   "outputs": [
    {
     "name": "stderr",
     "output_type": "stream",
     "text": [
      "/home/david/anaconda3/envs/astroconda/lib/python3.6/site-packages/numpy/core/fromnumeric.py:3373: RuntimeWarning: Mean of empty slice.\n",
      "  out=out, **kwargs)\n",
      "/home/david/anaconda3/envs/astroconda/lib/python3.6/site-packages/numpy/core/_methods.py:170: RuntimeWarning: invalid value encountered in double_scalars\n",
      "  ret = ret.dtype.type(ret / rcount)\n",
      "/home/david/anaconda3/envs/astroconda/lib/python3.6/site-packages/ipykernel_launcher.py:31: RuntimeWarning: divide by zero encountered in double_scalars\n"
     ]
    },
    {
     "data": {
      "text/plain": [
       "[<matplotlib.lines.Line2D at 0x7f423dfae048>]"
      ]
     },
     "execution_count": 14,
     "metadata": {},
     "output_type": "execute_result"
    },
    {
     "data": {
      "image/png": "[encoded data removed]",
      "text/plain": [
       "<Figure size 432x288 with 1 Axes>"
      ]
     },
     "metadata": {
      "needs_background": "light"
     },
     "output_type": "display_data"
    }
   ],
   "source": [
    "data = fits.getdata(specs[1])\n",
    "w, f, e, inst = data['WAVELENGTH'], data['FLUX'], data['ERROR'], data['INSTRUMENT']\n",
    "# wn, fn, en = remove_negatives(w, f, e, line_groups, dv=dvs[1])\n",
    "\n",
    "lines = [1548.201,1550.772]\n",
    "smooth = 5\n",
    "\n",
    "#         start, end = lines[0]-5, lines[1]+5\n",
    "# mask = (w >= lines[0]-7) & (w <= lines[1]+7)\n",
    "# maskn = (wn >= lines[0]-7) & (wn <= lines[1]+7)\n",
    "# if np.median(inst[mask]) in [1, 2, 16]:\n",
    "mask = (w >= lines[0]-2) & (w <= lines[1]+2)\n",
    "#     maskn = (wn >= lines[0]-2) & (wn <= lines[1]+2)\n",
    "\n",
    "    \n",
    "    \n",
    "wi, fi, ei = w[mask], f[mask], e[mask]\n",
    "fi = convolve(fi,Box1DKernel(smooth))\n",
    "ei = convolve(ei,Box1DKernel(smooth))/smooth**0.5\n",
    "wj, fj, ej = remove_negatives(wi, fi, ei, line_groups, dv=dvs[1])\n",
    "\n",
    "# wj, fj, ej = wn[maskn], fn[maskn], en[maskn]\n",
    "# if np.median(inst[mask]) in [1, 2]:\n",
    "#     fi = convolve(fi,Box1DKernel(smooth))\n",
    "#     ei = convolve(ei,Box1DKernel(smooth))/smooth**0.5\n",
    "#     fj = convolve(fj,Box1DKernel(smooth))\n",
    "#     ej = convolve(ej,Box1DKernel(smooth))/smooth**0.5\n",
    "\n",
    "#         plt.errorbar(wi, fi, yerr =ei, errorevery=5)\n",
    "#         plt.errorbar(wj, fj, yerr =ej, errorevery=5)\n",
    "plt.step(wi, fi, where='mid')\n",
    "plt.step(wj, fj, where='mid')"
   ]
  },
  {
   "cell_type": "code",
   "execution_count": 19,
   "id": "9ca65e7e-85c5-4eb1-9619-fa4e00aa82c2",
   "metadata": {},
   "outputs": [
    {
     "name": "stdout",
     "output_type": "stream",
     "text": [
      "1.1543908117373161e-15\n",
      "36768\n"
     ]
    },
    {
     "ename": "NameError",
     "evalue": "name 'make_line_mask' is not defined",
     "output_type": "error",
     "traceback": [
      "\u001b[0;31m---------------------------------------------------------------------------\u001b[0m",
      "\u001b[0;31mNameError\u001b[0m                                 Traceback (most recent call last)",
      "\u001b[0;32m<ipython-input-19-ffdba3d011c2>\u001b[0m in \u001b[0;36m<module>\u001b[0;34m()\u001b[0m\n\u001b[1;32m     89\u001b[0m \u001b[0;34m\u001b[0m\u001b[0m\n\u001b[1;32m     90\u001b[0m \u001b[0;34m\u001b[0m\u001b[0m\n\u001b[0;32m---> 91\u001b[0;31m \u001b[0mmake_no_negatives\u001b[0m\u001b[0;34m(\u001b[0m\u001b[0mtdata\u001b[0m\u001b[0;34m,\u001b[0m \u001b[0mdv\u001b[0m\u001b[0;34m=\u001b[0m\u001b[0mdvs\u001b[0m\u001b[0;34m[\u001b[0m\u001b[0;36m1\u001b[0m\u001b[0;34m]\u001b[0m\u001b[0;34m)\u001b[0m\u001b[0;34m\u001b[0m\u001b[0;34m\u001b[0m\u001b[0m\n\u001b[0m",
      "\u001b[0;32m<ipython-input-19-ffdba3d011c2>\u001b[0m in \u001b[0;36mmake_no_negatives\u001b[0;34m(data, line_groups, dv)\u001b[0m\n\u001b[1;32m      7\u001b[0m \u001b[0;34m\u001b[0m\u001b[0m\n\u001b[1;32m      8\u001b[0m \u001b[0;34m\u001b[0m\u001b[0m\n\u001b[0;32m----> 9\u001b[0;31m     \u001b[0mwn\u001b[0m\u001b[0;34m,\u001b[0m \u001b[0mfn\u001b[0m\u001b[0;34m,\u001b[0m \u001b[0men\u001b[0m \u001b[0;34m=\u001b[0m \u001b[0mremove_negatives\u001b[0m\u001b[0;34m(\u001b[0m\u001b[0mdata\u001b[0m\u001b[0;34m[\u001b[0m\u001b[0;34m'WAVELENGTH'\u001b[0m\u001b[0;34m]\u001b[0m\u001b[0;34m,\u001b[0m \u001b[0mdata\u001b[0m\u001b[0;34m[\u001b[0m\u001b[0;34m'FLUX'\u001b[0m\u001b[0;34m]\u001b[0m\u001b[0;34m,\u001b[0m \u001b[0mdata\u001b[0m\u001b[0;34m[\u001b[0m\u001b[0;34m'ERROR'\u001b[0m\u001b[0;34m]\u001b[0m\u001b[0;34m,\u001b[0m \u001b[0mline_groups\u001b[0m\u001b[0;34m,\u001b[0m \u001b[0mdv\u001b[0m\u001b[0;34m=\u001b[0m\u001b[0mdv\u001b[0m\u001b[0;34m)\u001b[0m\u001b[0;34m\u001b[0m\u001b[0;34m\u001b[0m\u001b[0m\n\u001b[0m\u001b[1;32m     10\u001b[0m     \u001b[0mplt\u001b[0m\u001b[0;34m.\u001b[0m\u001b[0mplot\u001b[0m\u001b[0;34m(\u001b[0m\u001b[0mwn\u001b[0m\u001b[0;34m,\u001b[0m \u001b[0mfn\u001b[0m\u001b[0;34m)\u001b[0m\u001b[0;34m\u001b[0m\u001b[0;34m\u001b[0m\u001b[0m\n\u001b[1;32m     11\u001b[0m     \u001b[0mplt\u001b[0m\u001b[0;34m.\u001b[0m\u001b[0mxlim\u001b[0m\u001b[0;34m(\u001b[0m\u001b[0;36m1500\u001b[0m\u001b[0;34m,\u001b[0m \u001b[0;36m1600\u001b[0m\u001b[0;34m)\u001b[0m\u001b[0;34m\u001b[0m\u001b[0;34m\u001b[0m\u001b[0m\n",
      "\u001b[0;32m<ipython-input-19-ffdba3d011c2>\u001b[0m in \u001b[0;36mremove_negatives\u001b[0;34m(w, f, e, grouped_lines, dv)\u001b[0m\n\u001b[1;32m     44\u001b[0m         \u001b[0men\u001b[0m \u001b[0;34m=\u001b[0m \u001b[0;34m[\u001b[0m\u001b[0;34m]\u001b[0m\u001b[0;34m\u001b[0m\u001b[0;34m\u001b[0m\u001b[0m\n\u001b[1;32m     45\u001b[0m         \u001b[0minds\u001b[0m \u001b[0;34m=\u001b[0m \u001b[0;34m[\u001b[0m\u001b[0;34m]\u001b[0m\u001b[0;34m\u001b[0m\u001b[0;34m\u001b[0m\u001b[0m\n\u001b[0;32m---> 46\u001b[0;31m         \u001b[0mmask\u001b[0m \u001b[0;34m=\u001b[0m \u001b[0mmake_line_mask\u001b[0m\u001b[0;34m(\u001b[0m\u001b[0mwo\u001b[0m\u001b[0;34m,\u001b[0m \u001b[0mgrouped_lines\u001b[0m\u001b[0;34m,\u001b[0m \u001b[0mdv\u001b[0m\u001b[0;34m=\u001b[0m\u001b[0mdv\u001b[0m\u001b[0;34m)\u001b[0m\u001b[0;34m\u001b[0m\u001b[0;34m\u001b[0m\u001b[0m\n\u001b[0m\u001b[1;32m     47\u001b[0m         \u001b[0mwl\u001b[0m\u001b[0;34m,\u001b[0m \u001b[0mfl\u001b[0m\u001b[0;34m,\u001b[0m \u001b[0mel\u001b[0m \u001b[0;34m=\u001b[0m \u001b[0mwo\u001b[0m\u001b[0;34m[\u001b[0m\u001b[0mmask\u001b[0m\u001b[0;34m]\u001b[0m\u001b[0;34m,\u001b[0m \u001b[0mfo\u001b[0m\u001b[0;34m[\u001b[0m\u001b[0mmask\u001b[0m\u001b[0;34m]\u001b[0m\u001b[0;34m,\u001b[0m \u001b[0meo\u001b[0m\u001b[0;34m[\u001b[0m\u001b[0mmask\u001b[0m\u001b[0;34m]\u001b[0m \u001b[0;31m#mask out lines in regions that you use to make average, but still check them for <0s\u001b[0m\u001b[0;34m\u001b[0m\u001b[0;34m\u001b[0m\u001b[0m\n\u001b[1;32m     48\u001b[0m         \u001b[0;32mfor\u001b[0m \u001b[0mi\u001b[0m \u001b[0;32min\u001b[0m \u001b[0mrange\u001b[0m\u001b[0;34m(\u001b[0m\u001b[0mlen\u001b[0m\u001b[0;34m(\u001b[0m\u001b[0mfo\u001b[0m\u001b[0;34m[\u001b[0m\u001b[0;36m1\u001b[0m\u001b[0;34m:\u001b[0m\u001b[0;34m-\u001b[0m\u001b[0;36m2\u001b[0m\u001b[0;34m]\u001b[0m\u001b[0;34m)\u001b[0m\u001b[0;34m)\u001b[0m\u001b[0;34m:\u001b[0m\u001b[0;34m\u001b[0m\u001b[0;34m\u001b[0m\u001b[0m\n",
      "\u001b[0;31mNameError\u001b[0m: name 'make_line_mask' is not defined"
     ]
    },
    {
     "data": {
      "image/png": "[encoded data removed]",
      "text/plain": [
       "<Figure size 1008x360 with 1 Axes>"
      ]
     },
     "metadata": {
      "needs_background": "light"
     },
     "output_type": "display_data"
    }
   ],
   "source": [
    "def make_no_negatives(data, line_groups=[[10000, 100001]], dv =0*u.km/u.s):\n",
    "    \"\"\"\n",
    "    turn a MM data dictionary (i.e. one that already has all of the columns)\n",
    "    \"\"\"\n",
    "    plt.plot(data['WAVELENGTH'], data['FLUX'])\n",
    "    print(np.trapz(data['FLUX'], data['WAVELENGTH']))\n",
    "    \n",
    "\n",
    "    wn, fn, en = remove_negatives(data['WAVELENGTH'], data['FLUX'], data['ERROR'], line_groups, dv=dv)\n",
    "    plt.plot(wn, fn)\n",
    "    plt.xlim(1500, 1600)\n",
    "    print(np.trapz(fn, wn))\n",
    "\n",
    "# #     print(len(wn))\n",
    "# #     print(np.diff(wn))\n",
    "#     n = len(np.diff(wn)[np.diff(wn) > 1])\n",
    "#     while n > 0: #iterativly adds the mean values in between points with dlambda > 1\n",
    "# #         print(n)\n",
    "#         w1, f1, e1 = wn, fn, en\n",
    "#         for i in range(len(wn)-1):\n",
    "#             if wn[i+1] - wn[i] > 1:\n",
    "#                 weights = 1 / (en[i-1:i+2]**2)\n",
    "#                 f1 = np.append(f1, np.average(fn[i-1:i+2],weights=weights))\n",
    "#                 w1 = np.append(w1, np.mean(wn[i-1:i+2]))\n",
    "#                 e1 = np.append(e1, (1 / np.sum(weights, axis=0))**0.5)\n",
    "#         args = np.argsort(w1)\n",
    "#         wn, fn, en = w1[args], f1[args], e1[args]\n",
    "#         n = len(np.diff(wn)[np.diff(wn) > 1])\n",
    "# #     plt.plot(wn, fn)\n",
    "#     print(np.trapz(fn, wn))\n",
    "    \n",
    "def remove_negatives(w, f, e, grouped_lines, dv=0):\n",
    "#     print(len(f))\n",
    "    wo, fo, eo = w, f, e\n",
    "\n",
    "    nz = len(fo[fo <0.0])\n",
    "    if nz == 0:\n",
    "        wn, fn, en = w, f, e\n",
    "    #     print(nz)\n",
    "    while nz > 1:\n",
    "        print(nz)\n",
    "        fn = []\n",
    "        wn = []\n",
    "        en = []\n",
    "        inds = []\n",
    "        mask = make_line_mask(wo, grouped_lines, dv=dv)\n",
    "        wl, fl, el = wo[mask], fo[mask], eo[mask] #mask out lines in regions that you use to make average, but still check them for <0s \n",
    "        for i in range(len(fo[1:-2])):\n",
    "            if fo[i] < 0.0:\n",
    "                inds.append(i-1)\n",
    "                inds.append(i+1)\n",
    "    #                 weights = 1 / (eo[i-1:i+2]**2)\n",
    "    #                 fn.append(np.average(fo[i-1:i+2],weights=weights))\n",
    "    #                 wn.append(np.mean(wo[i-1:i+2]))\n",
    "                weights = 1 / (el[i-1:i+2]**2)\n",
    "    #                 try:\n",
    "    #                     fn.append(np.average(fl[i-1:i+2],weights=weights))\n",
    "    #                 except:\n",
    "    #                     print('problem')\n",
    "    #                     print(wl[i-1:i+2],el[i-1:i+2])\n",
    "                fn.append(np.mean(fl[i-1:i+2]))\n",
    "#                 if np.isnan(np.mean(fl[i-1:i+2])) == True:\n",
    "#                     print('yes', wo[i], fl[i-1:i+2])\n",
    "                wn.append(np.mean(wo[i-1:i+2]))\n",
    "                en.append((1 / np.sum(weights, axis=0))**0.5)\n",
    "            else:\n",
    "                wn.append(wo[i])\n",
    "                fn.append(fo[i])\n",
    "                en.append(eo[i])\n",
    "        inds = np.unique(inds)\n",
    "        inds = inds[np.argsort(inds)]\n",
    "    #         print(inds[-1])\n",
    "        if inds[-1] == len(wn):\n",
    "            inds = inds[:-2]\n",
    "    #         print(inds[-1])\n",
    "        wn, fn, en = np.array(wn), np.array(fn), np.array(en)\n",
    "    #         print(len(fn))\n",
    "        wn, fn, en  = np.delete(wn, inds), np.delete(fn, inds), np.delete(en, inds)\n",
    "    #         print(len(fn))\n",
    "        nz = len(fn[fn <0.0])\n",
    "        wo, fo, eo = wn, fn, en\n",
    "    #         print(nz)\n",
    "    return(wn, fn, en)\n",
    "                 \n",
    "data = fits.getdata(specs[1])\n",
    "\n",
    "tdata = data[(data['INSTRUMENT']== 1) & (data['ERROR'] != 0.0)] #just the COS spectrum\n",
    "w, f, e, inst = tdata['WAVELENGTH'], tdata['FLUX'], tdata['ERROR'], tdata['INSTRUMENT']\n",
    "\n",
    "\n",
    "make_no_negatives(tdata, dv=dvs[1])"
   ]
  },
  {
   "cell_type": "code",
   "execution_count": 16,
   "id": "0c565d77-947e-48f1-81c2-83fb79179e50",
   "metadata": {},
   "outputs": [
    {
     "name": "stdout",
     "output_type": "stream",
     "text": [
      "../../stuff/muscles_eg/gj176/hlsp_muscles_multi_multi_gj176_broadband_v22_var-res-sed.fits\n",
      "5.244820220434018e-14\n",
      "../../stuff/muscles_eg/gj176/hlsp_muscles_multi_multi_gj176_broadband_v22_adapt-var-res-sed.fits\n",
      "5.5998441138624897e-14\n"
     ]
    },
    {
     "data": {
      "text/plain": [
       "(-1e-16, 5e-16)"
      ]
     },
     "execution_count": 16,
     "metadata": {},
     "output_type": "execute_result"
    },
    {
     "data": {
      "image/png": "[encoded data removed]",
      "text/plain": [
       "<Figure size 432x288 with 1 Axes>"
      ]
     },
     "metadata": {
      "needs_background": "light"
     },
     "output_type": "display_data"
    }
   ],
   "source": [
    "mpath = '../../stuff/muscles_eg/gj176/'\n",
    "mspecs = glob.glob('{}*var*'.format(mpath))\n",
    "mspecs\n",
    "for mspec in mspecs:\n",
    "    print(mspec)\n",
    "    data = fits.getdata(mspec)\n",
    "    data = data[data['INSTRUMENT'] ==1]\n",
    "    w,f = data['WAVELENGTH'], data['FLUX']\n",
    "    plt.step(w,f)\n",
    "    print(np.trapz(f, w))\n",
    "plt.xlim(1400, 1450)\n",
    "plt.ylim(-0.1e-15, 0.5e-15)"
   ]
  },
  {
   "cell_type": "markdown",
   "id": "a393d901-894b-4dc7-84b8-6a1b3019de76",
   "metadata": {},
   "source": [
    "Ok, so I need to split the spectrum into chunks between lines and intergrate them"
   ]
  },
  {
   "cell_type": "code",
   "execution_count": 23,
   "id": "1046aec2-d9b4-45de-99e5-4bdacb781bf2",
   "metadata": {},
   "outputs": [
    {
     "name": "stdout",
     "output_type": "stream",
     "text": [
      "1.1543908117373161e-15\n",
      "8.66597172973187e-14\n"
     ]
    },
    {
     "data": {
      "image/png": "[encoded data removed]",
      "text/plain": [
       "<Figure size 1008x360 with 1 Axes>"
      ]
     },
     "metadata": {
      "needs_background": "light"
     },
     "output_type": "display_data"
    }
   ],
   "source": [
    "def remove_negatives_old(w, f, e):\n",
    "#     print(len(f))\n",
    "    wo, fo, eo = w, f, e\n",
    "    nz = len(fo[fo <0.0])\n",
    "#     print(nz)\n",
    "    if nz <= 1: \n",
    "        wn, fn, en = w, f, e\n",
    "    while nz > 1: #hangs up on last negative value\n",
    "        fn = []\n",
    "        wn = []\n",
    "        en = []\n",
    "        inds = []\n",
    "        for i in range(len(fo)):\n",
    "            if fo[i] <= 0.0:\n",
    "                inds.append(i-1)\n",
    "                inds.append(i+1)\n",
    "                start, end = i-1, i+2\n",
    "                if i == 0: \n",
    "                    start = i\n",
    "                if i == len(fo)-1:\n",
    "                    end = i+1\n",
    "                weights = 1 / (eo[start:end]**2)\n",
    "#                 if sum(weights) == 0:\n",
    "#                     print(i, eo[start:end])\n",
    "#                 fn.append(np.average(fo[start:end],weights=weights))\n",
    "                fn.append(np.mean(fo[start:end]))\n",
    "                wn.append(np.mean(wo[start:end]))\n",
    "                en.append((1 / np.sum(weights, axis=0))**0.5)\n",
    "            else:\n",
    "                wn.append(wo[i])\n",
    "                fn.append(fo[i])\n",
    "                en.append(eo[i])\n",
    "        inds = np.array(inds)\n",
    "        inds = np.unique(inds[(inds >= 0) & (inds < len(fo)-1)])\n",
    "        wn, fn, en = np.array(wn), np.array(fn), np.array(en)\n",
    "#         print(len(fo))\n",
    "        wn, fn, en  = np.delete(wn, inds), np.delete(fn, inds), np.delete(en, inds)\n",
    "        nz = len(fn[fn <0.0])\n",
    "        wo, fo, eo =wn, fn, en\n",
    "        print(np.trapz(fn, wn))\n",
    "#         plt.step(wn, fn)\n",
    "#         plt.show()\n",
    "#         print('new nz', nz)\n",
    "    return(wn[fn >0], fn[fn >0], en[fn >0])\n",
    "#     return(wn, fn, en)\n",
    "\n",
    "\n",
    "def remove_negatives(w0, w1,w, f, e):\n",
    "#     print(len(f))\n",
    "    wo, fo, eo = w, f, e\n",
    "    nz = len(fo[fo <0.0])\n",
    "#     print(nz)\n",
    "    if nz <= 1: \n",
    "        wn, fn, en = w, f, e\n",
    "    while nz > 1: #hangs up on last negative value\n",
    "        fn = []\n",
    "        wn = []\n",
    "        en = []\n",
    "        inds = []\n",
    "        last = 0\n",
    "        for i in range(len(fo)):\n",
    "            if fo[i] <= 0.0 and i > last+2:\n",
    "                inds.append(i-1)\n",
    "                inds.append(i+1)\n",
    "                start, end = i-1, i+2\n",
    "                if i == 0: \n",
    "                    start = i\n",
    "                if i == len(fo)-1:\n",
    "                    end = i+1\n",
    "                weights = 1 / (eo[start:end]**2)\n",
    "                fi = np.sum(f[start:end]*(w1[start:end]-w0[start:end])) / (w1[end-1] - w0[start])\n",
    "                fn.append(fi)\n",
    "#                 fi = np.sum(f*(w1-w0))\n",
    "#     ei = (np.sum(e**2 * (w1-w0)**2))**0.5\n",
    "#                 if sum(weights) == 0:\n",
    "#                     print(i, eo[start:end])\n",
    "#                 fn.append(np.average(fo[start:end],weights=weights))\n",
    "#                 fn.append(np.mean(fo[start:end]))\n",
    "                wn.append((w0[start]+w1[end-1])/2)\n",
    "                en.append((1 / np.sum(weights, axis=0))**0.5)\n",
    "                last = i\n",
    "            else:\n",
    "                wn.append(wo[i])\n",
    "                fn.append(fo[i])\n",
    "                en.append(eo[i])\n",
    "        inds = np.array(inds)\n",
    "        inds = np.unique(inds[(inds >= 0) & (inds < len(fo)-1)])\n",
    "        wn, fn, en = np.array(wn), np.array(fn), np.array(en)\n",
    "#         print(len(fo))\n",
    "        wn, fn, en  = np.delete(wn, inds), np.delete(fn, inds), np.delete(en, inds)\n",
    "        nz = len(fn[fn <0.0])\n",
    "        wo, fo, eo =wn, fn, en\n",
    "#         print(np.trapz(fn, wn))\n",
    "#         plt.step(wn, fn)\n",
    "#         plt.show()\n",
    "#         print('new nz', nz)\n",
    "    return(wn[fn >0], fn[fn >0], en[fn >0])\n",
    "\n",
    "data = fits.getdata(specs[1])\n",
    "\n",
    "tdata = data[(data['INSTRUMENT']== 1) & (data['ERROR'] != 0.0)] #just the COS spectrum\n",
    "w0, w1, w, f, e, inst = tdata['WAVELENGTH0'], tdata['WAVELENGTH1'], tdata['WAVELENGTH'], tdata['FLUX'], tdata['ERROR'], tdata['INSTRUMENT']\n",
    "print(np.trapz(f, w))\n",
    "\n",
    "\n",
    "starts = np.array([group[-1]+0.5 for group in line_groups]) #start of each range to remove negatives from\n",
    "starts = starts[(starts > w[0]) & (starts < w[-1])]\n",
    "starts = dvs[1].to(u.AA, equivalencies=u.doppler_optical(starts*u.AA)).value\n",
    "starts = np.insert(starts, 0, w[0])\n",
    "ends = np.array([group[0]-0.5 for group in line_groups]) #start of each range to remove negatives from\n",
    "end  = dvs[1].to(u.AA, equivalencies=u.doppler_optical(ends*u.AA)).value\n",
    "ends = ends[(ends > w[0]) & (ends < w[-1])]\n",
    "ends = np.append(ends, w[-1])\n",
    "\n",
    "# starts, ends = [1400], [1450]\n",
    "\n",
    "chunks  = np.concatenate((starts, ends))\n",
    "chunks = chunks[np.argsort(chunks)]\n",
    "\n",
    "\n",
    "\n",
    "wnew = np.array([], dtype=float)\n",
    "fnew = np.array([], dtype=float)\n",
    "enew = np.array([], dtype=float)\n",
    "# for start, end in zip(starts, ends):\n",
    "for i in range(len(chunks)-1):\n",
    "    start, end = chunks[i], chunks[i+1]\n",
    "    mask = (w >= start) & (w <= end)\n",
    "    w0i, w1i, wi, fi, ei = w0[mask], w1[mask], w[mask], f[mask], e[mask]\n",
    "    plt.plot(w[mask], f[mask])\n",
    "#     plt.show()\n",
    "    wn, fn, en = remove_negatives(w0i, w1i, wi, fi, ei)\n",
    "    \n",
    "#     plt.step(wn, fn)\n",
    "    wnew= np.concatenate((wnew, wn))\n",
    "    fnew= np.concatenate((fnew, fn))\n",
    "    enew= np.concatenate((enew, en))\n",
    " \n",
    "\n",
    "# mask = make_line_mask(w, line_groups, dv=dvs[1])\n",
    "# wl, fl, el = w[~mask], f[~mask], e[~mask]\n",
    "# # plt.step(wl, fl, zorder=-10)\n",
    "# wnew, fnew, enew = np.array(wnew), np.array(fnew), np.array(enew)\n",
    "\n",
    "# wnew= np.concatenate((wnew, wl))\n",
    "# fnew= np.concatenate((fnew, fl))\n",
    "# enew= np.concatenate((enew, el))\n",
    "\n",
    "args = np.argsort(wnew)\n",
    "wnew, fnew, enew = wnew[args], fnew[args], enew[args]\n",
    "\n",
    "plt.step(wnew, fnew)\n",
    "\n",
    "# print(len(fnew[fnew <0]))\n",
    "\n",
    "# print(len(f))\n",
    "# print(len(fnew))\n",
    "# print(np.trapz(f, w))\n",
    "print(np.trapz(fnew, wnew))\n",
    "    \n",
    "# plt.xlim(1540, 1560)"
   ]
  },
  {
   "cell_type": "code",
   "execution_count": 24,
   "id": "0b968ca0-bbd2-44a4-9f14-d994598d9487",
   "metadata": {},
   "outputs": [
    {
     "data": {
      "text/plain": [
       "0.013320962123344403"
      ]
     },
     "execution_count": 24,
     "metadata": {},
     "output_type": "execute_result"
    }
   ],
   "source": [
    "1.1543908117373161e-15/8.66597172973187e-14"
   ]
  },
  {
   "cell_type": "code",
   "execution_count": 19,
   "id": "f44d3efe-d4f9-4dc5-8b0a-36f4553a021a",
   "metadata": {},
   "outputs": [
    {
     "name": "stdout",
     "output_type": "stream",
     "text": [
      "[1400]\n"
     ]
    }
   ],
   "source": [
    "print(starts)"
   ]
  },
  {
   "cell_type": "code",
   "execution_count": 20,
   "id": "a273f8d4-b676-460b-8ce5-a9247f63e999",
   "metadata": {},
   "outputs": [
    {
     "name": "stdout",
     "output_type": "stream",
     "text": [
      "[1450]\n"
     ]
    }
   ],
   "source": [
    "print(ends)"
   ]
  },
  {
   "cell_type": "markdown",
   "id": "0156e379-fbac-4163-8a93-bbf6592542a5",
   "metadata": {},
   "source": [
    "Ok solved it- trying to do them all at once means that the high points are contributing to multiple flux bin. Need to integrate bins not average as bin sizes are different."
   ]
  },
  {
   "cell_type": "code",
   "execution_count": null,
   "id": "8b90c1cb-c413-47c3-bdf8-c6383fcb673d",
   "metadata": {},
   "outputs": [],
   "source": []
  },
  {
   "cell_type": "code",
   "execution_count": null,
   "id": "94f84772-35f6-4004-b260-4e2571617fcf",
   "metadata": {},
   "outputs": [],
   "source": []
  },
  {
   "cell_type": "code",
   "execution_count": null,
   "id": "61d2f4d3-913e-473c-8d8a-b660722c72ca",
   "metadata": {},
   "outputs": [],
   "source": []
  }
 ],
 "metadata": {
  "kernelspec": {
   "display_name": "Python 3",
   "language": "python",
   "name": "python3"
  },
  "language_info": {
   "codemirror_mode": {
    "name": "ipython",
    "version": 3
   },
   "file_extension": ".py",
   "mimetype": "text/x-python",
   "name": "python",
   "nbconvert_exporter": "python",
   "pygments_lexer": "ipython3",
   "version": "3.6.13"
  }
 },
 "nbformat": 4,
 "nbformat_minor": 5
}
