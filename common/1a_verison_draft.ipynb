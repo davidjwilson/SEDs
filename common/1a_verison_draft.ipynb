{
 "cells": [
  {
   "cell_type": "code",
   "execution_count": 5,
   "id": "f1a84d5b-eee0-4c67-bb41-e077b59736c8",
   "metadata": {},
   "outputs": [],
   "source": [
    "import numpy as np\n",
    "import matplotlib.pyplot as plt\n",
    "import astropy.io.fits as fits\n",
    "import os\n",
    "import glob\n",
    "from astropy.table import Table\n",
    "from astropy.io import ascii\n",
    "import astropy.units as u\n",
    "import astropy.constants as const\n",
    "from scipy.interpolate import interpolate\n",
    "from craftroom import resample\n",
    "# import stistools\n",
    "from astropy.convolution import convolve, Box1DKernel\n",
    "from astropy.modeling import models, fitting\n",
    "from scipy.io.idl import readsav\n",
    "from astropy.convolution import convolve_fft\n",
    "from astropy.convolution import Gaussian1DKernel\n",
    "from matplotlib.gridspec import GridSpec\n",
    "\n",
    "#matplotlib set up\n",
    "%matplotlib inline\n",
    "from matplotlib import rcParams\n",
    "rcParams[\"figure.figsize\"] = (14, 5)\n",
    "rcParams[\"font.size\"] = 20\n"
   ]
  },
  {
   "cell_type": "markdown",
   "id": "7bb3cc79-f363-4ad2-b085-2656b7bb859d",
   "metadata": {},
   "source": [
    "How to make the 1A version. Scipi or craftroom? How to make the instruments combine at the ends."
   ]
  },
  {
   "cell_type": "code",
   "execution_count": 6,
   "id": "96051f27-cca9-4e38-a7e0-3066e9664c4f",
   "metadata": {},
   "outputs": [],
   "source": [
    "data = fits.getdata('/media/david/1tb_storage1/emergency_data/mega_muscles/hlsp/2MASS-J23062928-0502285/components_v1/hlsp_muscles_multi_multi_trappist-1_broadband_v2_var-res-sed.fits',1)"
   ]
  },
  {
   "cell_type": "code",
   "execution_count": 7,
   "id": "284406a7-88c3-4bfb-bd7f-e11c1752efb9",
   "metadata": {},
   "outputs": [
    {
     "data": {
      "text/plain": [
       "[<matplotlib.lines.Line2D at 0x7f0403c79f98>]"
      ]
     },
     "execution_count": 7,
     "metadata": {},
     "output_type": "execute_result"
    },
    {
     "data": {
      "image/png": "[encoded data removed]",
      "text/plain": [
       "<Figure size 1008x360 with 1 Axes>"
      ]
     },
     "metadata": {
      "needs_background": "light"
     },
     "output_type": "display_data"
    }
   ],
   "source": [
    "plt.plot(data['WAVELENGTH'],data['FLUX'])"
   ]
  },
  {
   "cell_type": "code",
   "execution_count": 8,
   "id": "2533e837-ec9d-47e7-bf54-caa8057f1f41",
   "metadata": {},
   "outputs": [],
   "source": [
    "#craftroom or scipy"
   ]
  },
  {
   "cell_type": "code",
   "execution_count": 9,
   "id": "d4181baf-a4b4-4118-837c-e34c8e81afb8",
   "metadata": {},
   "outputs": [],
   "source": [
    "w, f, e = data['WAVELENGTH'],data['FLUX'],data['ERROR']"
   ]
  },
  {
   "cell_type": "code",
   "execution_count": 10,
   "id": "aa3e6125-cabc-45c3-b035-d7a21dc084d6",
   "metadata": {},
   "outputs": [],
   "source": [
    "from craftroom import resample"
   ]
  },
  {
   "cell_type": "code",
   "execution_count": 11,
   "id": "c6ce332b-e906-4ca8-9974-5761fae29e96",
   "metadata": {},
   "outputs": [],
   "source": [
    "import math as mt"
   ]
  },
  {
   "cell_type": "code",
   "execution_count": 12,
   "id": "269390b3-5bc3-4b60-b712-2f4ad500ddb3",
   "metadata": {},
   "outputs": [
    {
     "name": "stdout",
     "output_type": "stream",
     "text": [
      "14.100000381469727 9995000.0\n"
     ]
    }
   ],
   "source": [
    "print(w[0],w[-1])"
   ]
  },
  {
   "cell_type": "code",
   "execution_count": 14,
   "id": "88e62834-1d35-4ba0-9446-b31203b79f1b",
   "metadata": {},
   "outputs": [
    {
     "name": "stdout",
     "output_type": "stream",
     "text": [
      "15 9995000\n"
     ]
    }
   ],
   "source": [
    "start, end= mt.ceil(w[0]), mt.floor(w[-1])\n",
    "print(start,end)"
   ]
  },
  {
   "cell_type": "code",
   "execution_count": 15,
   "id": "2690d9b7-a4c0-484c-96eb-aa78eade09ce",
   "metadata": {},
   "outputs": [],
   "source": [
    "neww = np.arange(start,end+1, 1)"
   ]
  },
  {
   "cell_type": "code",
   "execution_count": 19,
   "id": "50037d9f-e83d-49ad-ab43-ce4e3fa7ce9f",
   "metadata": {},
   "outputs": [],
   "source": [
    "f1 = interpolate.interp1d(w, f, fill_value='extrapolate')(neww)\n",
    "w2, f2 = resample.bintogrid(w, f, newx=neww)"
   ]
  },
  {
   "cell_type": "code",
   "execution_count": 20,
   "id": "60c172b3-a532-4280-93bb-6e438ef20d6d",
   "metadata": {},
   "outputs": [
    {
     "data": {
      "text/plain": [
       "1.170614652905654e-10"
      ]
     },
     "execution_count": 20,
     "metadata": {},
     "output_type": "execute_result"
    }
   ],
   "source": [
    "og = np.trapz(f,w)\n",
    "sp = np.trapz(f1, neww)\n",
    "np.trapz(f2,w2)"
   ]
  },
  {
   "cell_type": "code",
   "execution_count": 21,
   "id": "0358bfb9-87d1-49ba-adee-e28a08021e8f",
   "metadata": {},
   "outputs": [
    {
     "data": {
      "text/plain": [
       "1.1704866534688444e-10"
      ]
     },
     "execution_count": 21,
     "metadata": {},
     "output_type": "execute_result"
    }
   ],
   "source": []
  },
  {
   "cell_type": "code",
   "execution_count": 22,
   "id": "dc634b88-32c5-4732-8805-6850579091b3",
   "metadata": {},
   "outputs": [
    {
     "data": {
      "text/plain": [
       "1.1706070375192362e-10"
      ]
     },
     "execution_count": 22,
     "metadata": {},
     "output_type": "execute_result"
    }
   ],
   "source": []
  },
  {
   "cell_type": "code",
   "execution_count": null,
   "id": "e830cbf5-2195-4c39-93f2-579971ff8de6",
   "metadata": {},
   "outputs": [],
   "source": []
  }
 ],
 "metadata": {
  "kernelspec": {
   "display_name": "Python 3",
   "language": "python",
   "name": "python3"
  },
  "language_info": {
   "codemirror_mode": {
    "name": "ipython",
    "version": 3
   },
   "file_extension": ".py",
   "mimetype": "text/x-python",
   "name": "python",
   "nbconvert_exporter": "python",
   "pygments_lexer": "ipython3",
   "version": "3.6.13"
  }
 },
 "nbformat": 4,
 "nbformat_minor": 5
}
