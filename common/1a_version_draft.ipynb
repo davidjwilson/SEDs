{
 "cells": [
  {
   "cell_type": "code",
   "execution_count": 21,
   "id": "f1a84d5b-eee0-4c67-bb41-e077b59736c8",
   "metadata": {},
   "outputs": [],
   "source": [
    "import numpy as np\n",
    "import matplotlib.pyplot as plt\n",
    "import astropy.io.fits as fits\n",
    "import os\n",
    "import glob\n",
    "from astropy.table import Table\n",
    "from astropy.io import ascii\n",
    "import astropy.units as u\n",
    "import astropy.constants as const\n",
    "from scipy.interpolate import interpolate\n",
    "from craftroom import resample\n",
    "# import stistools\n",
    "from astropy.convolution import convolve, Box1DKernel\n",
    "from astropy.modeling import models, fitting\n",
    "from scipy.io.idl import readsav\n",
    "from astropy.convolution import convolve_fft\n",
    "from astropy.convolution import Gaussian1DKernel\n",
    "from matplotlib.gridspec import GridSpec\n",
    "\n",
    "#matplotlib set up\n",
    "%matplotlib inline\n",
    "from matplotlib import rcParams\n",
    "rcParams[\"figure.figsize\"] = (14, 5)\n",
    "rcParams[\"font.size\"] = 20\n"
   ]
  },
  {
   "cell_type": "markdown",
   "id": "7bb3cc79-f363-4ad2-b085-2656b7bb859d",
   "metadata": {},
   "source": [
    "How to make the 1A version. Scipi or craftroom? How to make the instruments combine at the ends."
   ]
  },
  {
   "cell_type": "code",
   "execution_count": 2,
   "id": "96051f27-cca9-4e38-a7e0-3066e9664c4f",
   "metadata": {},
   "outputs": [],
   "source": [
    "# data = fits.getdata('/media/david/1tb_storage1/emergency_data/mega_muscles/hlsp/2MASS-J23062928-0502285/components_v1/hlsp_muscles_multi_multi_trappist-1_broadband_v2_var-res-sed.fits',1)\n",
    "data= Table.read('test_to_fits/t1_table_test.ecsv')"
   ]
  },
  {
   "cell_type": "code",
   "execution_count": 22,
   "id": "284406a7-88c3-4bfb-bd7f-e11c1752efb9",
   "metadata": {},
   "outputs": [
    {
     "data": {
      "text/plain": [
       "[<matplotlib.lines.Line2D at 0x7fc339e6be80>]"
      ]
     },
     "execution_count": 22,
     "metadata": {},
     "output_type": "execute_result"
    },
    {
     "data": {
      "image/png": "[encoded data removed]",
      "text/plain": [
       "<Figure size 1008x360 with 1 Axes>"
      ]
     },
     "metadata": {
      "needs_background": "light"
     },
     "output_type": "display_data"
    }
   ],
   "source": [
    "plt.plot(data['WAVELENGTH'],data['FLUX'])"
   ]
  },
  {
   "cell_type": "code",
   "execution_count": 4,
   "id": "2533e837-ec9d-47e7-bf54-caa8057f1f41",
   "metadata": {},
   "outputs": [],
   "source": [
    "#craftroom or scipy"
   ]
  },
  {
   "cell_type": "code",
   "execution_count": 5,
   "id": "d4181baf-a4b4-4118-837c-e34c8e81afb8",
   "metadata": {},
   "outputs": [],
   "source": [
    "w, f, e = data['WAVELENGTH'],data['FLUX'],data['ERROR']"
   ]
  },
  {
   "cell_type": "code",
   "execution_count": 6,
   "id": "aa3e6125-cabc-45c3-b035-d7a21dc084d6",
   "metadata": {},
   "outputs": [],
   "source": [
    "from craftroom import resample"
   ]
  },
  {
   "cell_type": "code",
   "execution_count": 7,
   "id": "c6ce332b-e906-4ca8-9974-5761fae29e96",
   "metadata": {},
   "outputs": [],
   "source": [
    "import math as mt"
   ]
  },
  {
   "cell_type": "code",
   "execution_count": 8,
   "id": "269390b3-5bc3-4b60-b712-2f4ad500ddb3",
   "metadata": {},
   "outputs": [
    {
     "name": "stdout",
     "output_type": "stream",
     "text": [
      "14.100000381469727 9995000.0\n"
     ]
    }
   ],
   "source": [
    "print(w[0],w[-1])"
   ]
  },
  {
   "cell_type": "code",
   "execution_count": 9,
   "id": "88e62834-1d35-4ba0-9446-b31203b79f1b",
   "metadata": {},
   "outputs": [
    {
     "name": "stdout",
     "output_type": "stream",
     "text": [
      "15 9995000\n"
     ]
    }
   ],
   "source": [
    "start, end= mt.ceil(w[0]), mt.floor(w[-1])\n",
    "print(start,end)"
   ]
  },
  {
   "cell_type": "code",
   "execution_count": 10,
   "id": "2690d9b7-a4c0-484c-96eb-aa78eade09ce",
   "metadata": {},
   "outputs": [],
   "source": [
    "neww = np.arange(start,end+1, 1)"
   ]
  },
  {
   "cell_type": "code",
   "execution_count": 23,
   "id": "50037d9f-e83d-49ad-ab43-ce4e3fa7ce9f",
   "metadata": {},
   "outputs": [],
   "source": [
    "f1 = interpolate.interp1d(w, f, fill_value='extrapolate')(neww)\n",
    "w2, f2, e2 = resample.bintogrid(w, f, newx=neww, unc= e)"
   ]
  },
  {
   "cell_type": "code",
   "execution_count": 12,
   "id": "60c172b3-a532-4280-93bb-6e438ef20d6d",
   "metadata": {},
   "outputs": [
    {
     "name": "stdout",
     "output_type": "stream",
     "text": [
      "1.170614652905654e-10 1.1704866534688444e-10 1.1706070375192362e-10\n",
      "1.000109355742272\n",
      "1.0000065055019949\n"
     ]
    }
   ],
   "source": [
    "og = np.trapz(f,w)\n",
    "sp = np.trapz(f1, neww)\n",
    "cr =np.trapz(f2,w2)\n",
    "print(og, sp,cr)\n",
    "print(og/sp)\n",
    "print(og/cr)"
   ]
  },
  {
   "cell_type": "code",
   "execution_count": 13,
   "id": "0358bfb9-87d1-49ba-adee-e28a08021e8f",
   "metadata": {},
   "outputs": [
    {
     "data": {
      "text/plain": [
       "('WAVELENGTH',\n",
       " 'WAVELENGTH0',\n",
       " 'WAVELENGTH1',\n",
       " 'FLUX',\n",
       " 'ERROR',\n",
       " 'EXPTIME',\n",
       " 'DQ',\n",
       " 'EXPSTART',\n",
       " 'EXPEND',\n",
       " 'INSTRUMENT',\n",
       " 'NORMFAC',\n",
       " 'BOLOFLUX',\n",
       " 'BOLOERR')"
      ]
     },
     "execution_count": 13,
     "metadata": {},
     "output_type": "execute_result"
    }
   ],
   "source": [
    "data.dtype.names"
   ]
  },
  {
   "cell_type": "code",
   "execution_count": 14,
   "id": "dc634b88-32c5-4732-8805-6850579091b3",
   "metadata": {},
   "outputs": [
    {
     "data": {
      "text/html": [
       "&lt;Column name=&apos;INSTRUMENT&apos; dtype=&apos;int64&apos; length=1178063&gt;\n",
       "<table>\n",
       "<tr><td>2048</td></tr>\n",
       "<tr><td>2048</td></tr>\n",
       "<tr><td>2048</td></tr>\n",
       "<tr><td>2048</td></tr>\n",
       "<tr><td>2048</td></tr>\n",
       "<tr><td>2048</td></tr>\n",
       "<tr><td>2048</td></tr>\n",
       "<tr><td>2048</td></tr>\n",
       "<tr><td>32768</td></tr>\n",
       "<tr><td>32768</td></tr>\n",
       "<tr><td>32768</td></tr>\n",
       "<tr><td>32768</td></tr>\n",
       "<tr><td>...</td></tr>\n",
       "<tr><td>131072</td></tr>\n",
       "<tr><td>131072</td></tr>\n",
       "<tr><td>131072</td></tr>\n",
       "<tr><td>131072</td></tr>\n",
       "<tr><td>131072</td></tr>\n",
       "<tr><td>131072</td></tr>\n",
       "<tr><td>131072</td></tr>\n",
       "<tr><td>131072</td></tr>\n",
       "<tr><td>131072</td></tr>\n",
       "<tr><td>131072</td></tr>\n",
       "<tr><td>131072</td></tr>\n",
       "<tr><td>131072</td></tr>\n",
       "</table>"
      ],
      "text/plain": [
       "<Column name='INSTRUMENT' dtype='int64' length=1178063>\n",
       "  2048\n",
       "  2048\n",
       "  2048\n",
       "  2048\n",
       "  2048\n",
       "  2048\n",
       "  2048\n",
       "  2048\n",
       " 32768\n",
       " 32768\n",
       " 32768\n",
       " 32768\n",
       "   ...\n",
       "131072\n",
       "131072\n",
       "131072\n",
       "131072\n",
       "131072\n",
       "131072\n",
       "131072\n",
       "131072\n",
       "131072\n",
       "131072\n",
       "131072\n",
       "131072"
      ]
     },
     "execution_count": 14,
     "metadata": {},
     "output_type": "execute_result"
    }
   ],
   "source": [
    "data['INSTRUMENT']"
   ]
  },
  {
   "cell_type": "code",
   "execution_count": 15,
   "id": "e830cbf5-2195-4c39-93f2-579971ff8de6",
   "metadata": {},
   "outputs": [],
   "source": [
    "i2 = interpolate.interp1d(w, data['INSTRUMENT'], kind = 'previous')(w2)"
   ]
  },
  {
   "cell_type": "code",
   "execution_count": 16,
   "id": "1f027293-7459-45e0-abee-7e79663951d9",
   "metadata": {},
   "outputs": [
    {
     "name": "stdout",
     "output_type": "stream",
     "text": [
      "79.51000213623047 32768\n",
      "80.0199966430664 32768\n",
      "80.52999877929688 32768\n",
      "81.05000305175781 32768\n",
      "81.58000183105469 32768\n",
      "82.12000274658203 32768\n",
      "82.66000366210938 32768\n",
      "83.20999908447266 32768\n",
      "83.7699966430664 32768\n",
      "84.33000183105469 32768\n",
      "84.9000015258789 32768\n",
      "85.4800033569336 32768\n",
      "86.06999969482422 32768\n",
      "86.66000366210938 32768\n",
      "87.2699966430664 32768\n",
      "87.87999725341797 32768\n",
      "88.5 32768\n",
      "89.12999725341797 32768\n",
      "89.7699966430664 32768\n",
      "90.41999816894531 32768\n",
      "91.08000183105469 32768\n",
      "91.73999786376953 32768\n",
      "92.41999816894531 32768\n",
      "93.11000061035156 32768\n",
      "93.80000305175781 32768\n",
      "94.51000213623047 32768\n",
      "95.2300033569336 32768\n",
      "95.95999908447266 32768\n",
      "96.69999694824219 32768\n",
      "97.44999694824219 32768\n",
      "98.22000122070312 32768\n",
      "98.98999786376953 32768\n",
      "99.77999877929688 32768\n",
      "100.5999984741211 32768\n",
      "101.4000015258789 32768\n",
      "102.19999694824219 32768\n",
      "103.0999984741211 32768\n",
      "103.9000015258789 32768\n",
      "104.80000305175781 32768\n",
      "105.69999694824219 32768\n",
      "106.5999984741211 32768\n",
      "107.5 32768\n",
      "108.4000015258789 32768\n",
      "109.4000015258789 32768\n",
      "110.30000305175781 32768\n",
      "111.30000305175781 32768\n",
      "112.30000305175781 32768\n",
      "113.30000305175781 32768\n",
      "114.4000015258789 32768\n",
      "115.4000015258789 32768\n",
      "116.5 32768\n",
      "117.5999984741211 32768\n",
      "118.69999694824219 32768\n",
      "119.80000305175781 32768\n",
      "119.84699378677912 16777216\n",
      "120.08668777435268 16777216\n",
      "120.32686114990139 16777216\n",
      "120.56751487220119 16777216\n",
      "120.8086499019456 16777216\n",
      "121.05026720174949 16777216\n",
      "121.29236773615298 16777216\n",
      "121.53495247162529 16777216\n",
      "121.77802237656854 16777216\n",
      "122.02157842132168 16777216\n",
      "122.26562157816433 16777216\n",
      "122.51015282132064 16777216\n",
      "122.7551731269633 16777216\n",
      "123.00068347321724 16777216\n",
      "123.24668484016367 16777216\n",
      "123.493178209844 16777216\n",
      "123.74016456626369 16777216\n",
      "123.98764489539622 16777216\n",
      "124.235620185187 16777216\n",
      "124.48409142555738 16777216\n",
      "124.73305960840851 16777216\n",
      "124.98252572762532 16777216\n",
      "125.23249077908058 16777216\n",
      "125.48295576063875 16777216\n",
      "125.73392167216001 16777216\n",
      "125.98538951550434 16777216\n",
      "126.23736029453535 16777216\n",
      "126.48983501512441 16777216\n",
      "126.74281468515467 16777216\n",
      "126.99630031452497 16777216\n",
      "127.25029291515402 16777216\n",
      "127.50479350098433 16777216\n",
      "127.7598030879863 16777216\n",
      "128.01532269416228 16777216\n",
      "128.2713533395506 16777216\n",
      "128.5278960462297 16777216\n",
      "128.78495183832214 16777216\n",
      "129.0425217419988 16777216\n",
      "129.3006067854828 16777216\n",
      "129.55920799905377 16777216\n",
      "129.81832641505187 16777216\n",
      "130.077963067882 16777216\n",
      "130.33811899401778 16777216\n",
      "130.59879523200578 16777216\n",
      "130.85999282246982 16777216\n",
      "131.12171280811475 16777216\n"
     ]
    },
    {
     "data": {
      "text/plain": [
       "[None,\n",
       " None,\n",
       " None,\n",
       " None,\n",
       " None,\n",
       " None,\n",
       " None,\n",
       " None,\n",
       " None,\n",
       " None,\n",
       " None,\n",
       " None,\n",
       " None,\n",
       " None,\n",
       " None,\n",
       " None,\n",
       " None,\n",
       " None,\n",
       " None,\n",
       " None,\n",
       " None,\n",
       " None,\n",
       " None,\n",
       " None,\n",
       " None,\n",
       " None,\n",
       " None,\n",
       " None,\n",
       " None,\n",
       " None,\n",
       " None,\n",
       " None,\n",
       " None,\n",
       " None,\n",
       " None,\n",
       " None,\n",
       " None,\n",
       " None,\n",
       " None,\n",
       " None,\n",
       " None,\n",
       " None,\n",
       " None,\n",
       " None,\n",
       " None,\n",
       " None,\n",
       " None,\n",
       " None,\n",
       " None,\n",
       " None,\n",
       " None,\n",
       " None,\n",
       " None,\n",
       " None,\n",
       " None,\n",
       " None,\n",
       " None,\n",
       " None,\n",
       " None,\n",
       " None,\n",
       " None,\n",
       " None,\n",
       " None,\n",
       " None,\n",
       " None,\n",
       " None,\n",
       " None,\n",
       " None,\n",
       " None,\n",
       " None,\n",
       " None,\n",
       " None,\n",
       " None,\n",
       " None,\n",
       " None,\n",
       " None,\n",
       " None,\n",
       " None,\n",
       " None,\n",
       " None,\n",
       " None,\n",
       " None,\n",
       " None,\n",
       " None,\n",
       " None,\n",
       " None,\n",
       " None,\n",
       " None,\n",
       " None,\n",
       " None,\n",
       " None,\n",
       " None,\n",
       " None,\n",
       " None,\n",
       " None,\n",
       " None,\n",
       " None,\n",
       " None,\n",
       " None,\n",
       " None]"
      ]
     },
     "execution_count": 16,
     "metadata": {},
     "output_type": "execute_result"
    }
   ],
   "source": [
    "[print (wi, ii) for wi, ii in zip(w[100:200], data['INSTRUMENT'][100:200])]"
   ]
  },
  {
   "cell_type": "code",
   "execution_count": 17,
   "id": "7e8f4e3b-e24b-486d-8beb-8cf3018618aa",
   "metadata": {},
   "outputs": [
    {
     "name": "stdout",
     "output_type": "stream",
     "text": [
      "15 2048.0\n",
      "16 2048.0\n",
      "17 2048.0\n",
      "18 2048.0\n",
      "19 2048.0\n",
      "20 2048.0\n",
      "21 2048.0\n",
      "22 2048.0\n",
      "23 2048.0\n",
      "24 2048.0\n",
      "25 2048.0\n",
      "26 2048.0\n",
      "27 2048.0\n",
      "28 2048.0\n",
      "29 2048.0\n",
      "30 2048.0\n",
      "31 2048.0\n",
      "32 2048.0\n",
      "33 2048.0\n",
      "34 2048.0\n",
      "35 2048.0\n",
      "36 2048.0\n",
      "37 2048.0\n",
      "38 2048.0\n",
      "39 2048.0\n",
      "40 2048.0\n",
      "41 2048.0\n",
      "42 2048.0\n",
      "43 2048.0\n",
      "44 2048.0\n",
      "45 2048.0\n",
      "46 2048.0\n",
      "47 2048.0\n",
      "48 2048.0\n",
      "49 2048.0\n",
      "50 2048.0\n",
      "51 32768.0\n",
      "52 32768.0\n",
      "53 32768.0\n",
      "54 32768.0\n",
      "55 32768.0\n",
      "56 32768.0\n",
      "57 32768.0\n",
      "58 32768.0\n",
      "59 32768.0\n",
      "60 32768.0\n",
      "61 32768.0\n",
      "62 32768.0\n",
      "63 32768.0\n",
      "64 32768.0\n"
     ]
    },
    {
     "data": {
      "text/plain": [
       "[None,\n",
       " None,\n",
       " None,\n",
       " None,\n",
       " None,\n",
       " None,\n",
       " None,\n",
       " None,\n",
       " None,\n",
       " None,\n",
       " None,\n",
       " None,\n",
       " None,\n",
       " None,\n",
       " None,\n",
       " None,\n",
       " None,\n",
       " None,\n",
       " None,\n",
       " None,\n",
       " None,\n",
       " None,\n",
       " None,\n",
       " None,\n",
       " None,\n",
       " None,\n",
       " None,\n",
       " None,\n",
       " None,\n",
       " None,\n",
       " None,\n",
       " None,\n",
       " None,\n",
       " None,\n",
       " None,\n",
       " None,\n",
       " None,\n",
       " None,\n",
       " None,\n",
       " None,\n",
       " None,\n",
       " None,\n",
       " None,\n",
       " None,\n",
       " None,\n",
       " None,\n",
       " None,\n",
       " None,\n",
       " None,\n",
       " None]"
      ]
     },
     "execution_count": 17,
     "metadata": {},
     "output_type": "execute_result"
    }
   ],
   "source": [
    "[print (wi, ii) for wi, ii in zip(w2[:50], i2[:50])]"
   ]
  },
  {
   "cell_type": "code",
   "execution_count": 18,
   "id": "98b4debd-0a6f-4b4e-8691-3c990f43fa00",
   "metadata": {},
   "outputs": [],
   "source": [
    "for i in range(len(i2)-1):\n",
    "    if i2[i] != i2[i+1]:\n",
    "        i2[i] = i2[i] + i2[i+1]"
   ]
  },
  {
   "cell_type": "code",
   "execution_count": 19,
   "id": "004e30cb-7afb-41fc-831f-5f37cb1829e3",
   "metadata": {},
   "outputs": [
    {
     "name": "stdout",
     "output_type": "stream",
     "text": [
      "115 32768.0\n",
      "116 32768.0\n",
      "117 32768.0\n",
      "118 32768.0\n",
      "119 16809984.0\n",
      "120 16777216.0\n",
      "121 16777216.0\n",
      "122 16777216.0\n",
      "123 16777216.0\n",
      "124 16777216.0\n",
      "125 16777216.0\n",
      "126 16777216.0\n",
      "127 16777216.0\n",
      "128 16777216.0\n",
      "129 16777216.0\n",
      "130 16777216.0\n",
      "131 16777216.0\n",
      "132 16777216.0\n",
      "133 16777216.0\n",
      "134 16777216.0\n",
      "135 16777216.0\n",
      "136 16777216.0\n",
      "137 16777216.0\n",
      "138 16777216.0\n",
      "139 16777216.0\n",
      "140 16777216.0\n",
      "141 16777216.0\n",
      "142 16777216.0\n",
      "143 16777216.0\n",
      "144 16777216.0\n",
      "145 16777216.0\n",
      "146 16777216.0\n",
      "147 16777216.0\n",
      "148 16777216.0\n",
      "149 16777216.0\n",
      "150 16777216.0\n",
      "151 16777216.0\n",
      "152 16777216.0\n",
      "153 16777216.0\n",
      "154 16777216.0\n",
      "155 16777216.0\n",
      "156 16777216.0\n",
      "157 16777216.0\n",
      "158 16777216.0\n",
      "159 16777216.0\n",
      "160 16777216.0\n",
      "161 16777216.0\n",
      "162 16777216.0\n",
      "163 16777216.0\n",
      "164 16777216.0\n",
      "165 16777216.0\n",
      "166 16777216.0\n",
      "167 16777216.0\n",
      "168 16777216.0\n",
      "169 16777216.0\n",
      "170 16777216.0\n",
      "171 16777216.0\n",
      "172 16777216.0\n",
      "173 16777216.0\n",
      "174 16777216.0\n",
      "175 16777216.0\n",
      "176 16777216.0\n",
      "177 16777216.0\n",
      "178 16777216.0\n",
      "179 16777216.0\n",
      "180 16777216.0\n",
      "181 16777216.0\n",
      "182 16777216.0\n",
      "183 16777216.0\n",
      "184 16777216.0\n",
      "185 16777216.0\n",
      "186 16777216.0\n",
      "187 16777216.0\n",
      "188 16777216.0\n",
      "189 16777216.0\n",
      "190 16777216.0\n",
      "191 16777216.0\n",
      "192 16777216.0\n",
      "193 16777216.0\n",
      "194 16777216.0\n",
      "195 16777216.0\n",
      "196 16777216.0\n",
      "197 16777216.0\n",
      "198 16777216.0\n",
      "199 16777216.0\n",
      "200 16777216.0\n",
      "201 16777216.0\n",
      "202 16777216.0\n",
      "203 16777216.0\n",
      "204 16777216.0\n",
      "205 16777216.0\n",
      "206 16777216.0\n",
      "207 16777216.0\n",
      "208 16777216.0\n",
      "209 16777216.0\n",
      "210 16777216.0\n",
      "211 16777216.0\n",
      "212 16777216.0\n",
      "213 16777216.0\n",
      "214 16777216.0\n"
     ]
    },
    {
     "data": {
      "text/plain": [
       "[None,\n",
       " None,\n",
       " None,\n",
       " None,\n",
       " None,\n",
       " None,\n",
       " None,\n",
       " None,\n",
       " None,\n",
       " None,\n",
       " None,\n",
       " None,\n",
       " None,\n",
       " None,\n",
       " None,\n",
       " None,\n",
       " None,\n",
       " None,\n",
       " None,\n",
       " None,\n",
       " None,\n",
       " None,\n",
       " None,\n",
       " None,\n",
       " None,\n",
       " None,\n",
       " None,\n",
       " None,\n",
       " None,\n",
       " None,\n",
       " None,\n",
       " None,\n",
       " None,\n",
       " None,\n",
       " None,\n",
       " None,\n",
       " None,\n",
       " None,\n",
       " None,\n",
       " None,\n",
       " None,\n",
       " None,\n",
       " None,\n",
       " None,\n",
       " None,\n",
       " None,\n",
       " None,\n",
       " None,\n",
       " None,\n",
       " None,\n",
       " None,\n",
       " None,\n",
       " None,\n",
       " None,\n",
       " None,\n",
       " None,\n",
       " None,\n",
       " None,\n",
       " None,\n",
       " None,\n",
       " None,\n",
       " None,\n",
       " None,\n",
       " None,\n",
       " None,\n",
       " None,\n",
       " None,\n",
       " None,\n",
       " None,\n",
       " None,\n",
       " None,\n",
       " None,\n",
       " None,\n",
       " None,\n",
       " None,\n",
       " None,\n",
       " None,\n",
       " None,\n",
       " None,\n",
       " None,\n",
       " None,\n",
       " None,\n",
       " None,\n",
       " None,\n",
       " None,\n",
       " None,\n",
       " None,\n",
       " None,\n",
       " None,\n",
       " None,\n",
       " None,\n",
       " None,\n",
       " None,\n",
       " None,\n",
       " None,\n",
       " None,\n",
       " None,\n",
       " None,\n",
       " None,\n",
       " None]"
      ]
     },
     "execution_count": 19,
     "metadata": {},
     "output_type": "execute_result"
    }
   ],
   "source": [
    "[print (wi, ii) for wi, ii in zip(w2[100:200], i2[100:200])]"
   ]
  },
  {
   "cell_type": "code",
   "execution_count": 31,
   "id": "0fe15294-8f0d-44d7-9953-0ae640cd2101",
   "metadata": {},
   "outputs": [
    {
     "name": "stdout",
     "output_type": "stream",
     "text": [
      "[200. 200. 170.]\n"
     ]
    }
   ],
   "source": [
    "a = [200, 200, 200, 150]\n",
    "b = [1, 2, 3,4]\n",
    "c = [1.2, 2.4, 3.6]\n",
    "d = interpolate.interp1d(b, a, fill_value='extrapolate')(c)\n",
    "print(d)"
   ]
  },
  {
   "cell_type": "code",
   "execution_count": 37,
   "id": "33f1859e-6b13-4f52-b1bd-dd7cb835a19a",
   "metadata": {},
   "outputs": [
    {
     "data": {
      "image/png": "[encoded data removed]",
      "text/plain": [
       "<Figure size 1008x360 with 1 Axes>"
      ]
     },
     "metadata": {
      "needs_background": "light"
     },
     "output_type": "display_data"
    }
   ],
   "source": [
    "plt.plot(data['WAVELENGTH'], data['EXPSTART'])\n",
    "plt.xscale('log')"
   ]
  },
  {
   "cell_type": "code",
   "execution_count": 53,
   "id": "a626eba9-d586-4e3b-988e-b19ba3374f55",
   "metadata": {},
   "outputs": [
    {
     "name": "stdout",
     "output_type": "stream",
     "text": [
      "[30. 25. 25. 25. 25. 25. 25. 15. 15. 15.]\n",
      "[30. 30. 25. 25. 25. 25. 25. 25. 15. 15.]\n",
      "[30. 25. 25. 25. 25. 25. 25. 15. 15. 15.]\n",
      "[30. 30. 25. 25. 25. 25. 25. 25. 15. 15.]\n",
      "[30. 25. 25. 25. 25. 25. 25. 15. 15. 15.]\n"
     ]
    }
   ],
   "source": [
    "x1 = np.arange(1, 11, 0.1)\n",
    "x2 = np.arange(1, 11, 1)\n",
    "y1 = np.hstack((np.full(10, 30), np.full(60, 25), np.full(30, 15)))\n",
    "up = interpolate.interp1d(x1, y1, kind='next')(x2)\n",
    "down = interpolate.interp1d(x1, y1, kind='previous')(x2)\n",
    "print(up)\n",
    "print(down)\n",
    "print(np.min([up, down], axis=0))\n",
    "print(np.max([up, down], axis=0))\n"
   ]
  },
  {
   "cell_type": "code",
   "execution_count": null,
   "id": "dd89a729-2af6-42d6-99f4-4842369775ab",
   "metadata": {},
   "outputs": [],
   "source": []
  }
 ],
 "metadata": {
  "kernelspec": {
   "display_name": "Python 3",
   "language": "python",
   "name": "python3"
  },
  "language_info": {
   "codemirror_mode": {
    "name": "ipython",
    "version": 3
   },
   "file_extension": ".py",
   "mimetype": "text/x-python",
   "name": "python",
   "nbconvert_exporter": "python",
   "pygments_lexer": "ipython3",
   "version": "3.6.13"
  }
 },
 "nbformat": 4,
 "nbformat_minor": 5
}
