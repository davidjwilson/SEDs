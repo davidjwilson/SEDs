{
 "cells": [
  {
   "cell_type": "code",
   "execution_count": 2,
   "id": "f1a84d5b-eee0-4c67-bb41-e077b59736c8",
   "metadata": {},
   "outputs": [],
   "source": [
    "import numpy as np\n",
    "import matplotlib.pyplot as plt\n",
    "import astropy.io.fits as fits\n",
    "import os\n",
    "import glob\n",
    "from astropy.table import Table\n",
    "from astropy.io import ascii\n",
    "import astropy.units as u\n",
    "import astropy.constants as const\n",
    "from scipy.interpolate import interpolate\n",
    "from craftroom import resample\n",
    "# import stistools\n",
    "from astropy.convolution import convolve, Box1DKernel\n",
    "from astropy.modeling import models, fitting\n",
    "from scipy.io.idl import readsav\n",
    "from astropy.convolution import convolve_fft\n",
    "from astropy.convolution import Gaussian1DKernel\n",
    "from matplotlib.gridspec import GridSpec\n",
    "from astropy.units import cds\n",
    "cds.enable()\n",
    "\n",
    "#matplotlib set up\n",
    "%matplotlib inline\n",
    "from matplotlib import rcParams\n",
    "rcParams[\"figure.figsize\"] = (14, 5)\n",
    "rcParams[\"font.size\"] = 20\n"
   ]
  },
  {
   "cell_type": "markdown",
   "id": "7bb3cc79-f363-4ad2-b085-2656b7bb859d",
   "metadata": {},
   "source": [
    "How to make the 1A version. Scipi or craftroom? How to make the instruments combine at the ends."
   ]
  },
  {
   "cell_type": "code",
   "execution_count": 2,
   "id": "96051f27-cca9-4e38-a7e0-3066e9664c4f",
   "metadata": {},
   "outputs": [],
   "source": [
    "data = fits.getdata('/media/david/1tb_storage1/emergency_data/mega_muscles/v01_seds/hlsp_muscles_multi_multi_gj15a_broadband_v1_var-res-sed.fits',1)\n",
    "# data= Table.read('test_to_fits/t1_table_test.ecsv')\n",
    "data = Table(data, meta=fits.getheader('/media/david/1tb_storage1/emergency_data/mega_muscles/v01_seds/hlsp_muscles_multi_multi_gj15a_broadband_v1_var-res-sed.fits'))"
   ]
  },
  {
   "cell_type": "code",
   "execution_count": 3,
   "id": "284406a7-88c3-4bfb-bd7f-e11c1752efb9",
   "metadata": {},
   "outputs": [
    {
     "data": {
      "text/plain": [
       "[<matplotlib.lines.Line2D at 0x7f0f64e3d710>]"
      ]
     },
     "execution_count": 3,
     "metadata": {},
     "output_type": "execute_result"
    },
    {
     "data": {
      "image/png": "[encoded data removed]",
      "text/plain": [
       "<Figure size 432x288 with 1 Axes>"
      ]
     },
     "metadata": {
      "needs_background": "light"
     },
     "output_type": "display_data"
    }
   ],
   "source": [
    "plt.plot(data['WAVELENGTH'],data['FLUX'])"
   ]
  },
  {
   "cell_type": "code",
   "execution_count": 4,
   "id": "2533e837-ec9d-47e7-bf54-caa8057f1f41",
   "metadata": {},
   "outputs": [],
   "source": [
    "#craftroom or scipy"
   ]
  },
  {
   "cell_type": "code",
   "execution_count": 5,
   "id": "d4181baf-a4b4-4118-837c-e34c8e81afb8",
   "metadata": {},
   "outputs": [],
   "source": [
    "w, f, e = data['WAVELENGTH'],data['FLUX'],data['ERROR']"
   ]
  },
  {
   "cell_type": "code",
   "execution_count": 6,
   "id": "aa3e6125-cabc-45c3-b035-d7a21dc084d6",
   "metadata": {},
   "outputs": [],
   "source": [
    "from craftroom import resample"
   ]
  },
  {
   "cell_type": "code",
   "execution_count": 7,
   "id": "c6ce332b-e906-4ca8-9974-5761fae29e96",
   "metadata": {},
   "outputs": [],
   "source": [
    "import math as mt"
   ]
  },
  {
   "cell_type": "code",
   "execution_count": 8,
   "id": "269390b3-5bc3-4b60-b712-2f4ad500ddb3",
   "metadata": {},
   "outputs": [
    {
     "name": "stdout",
     "output_type": "stream",
     "text": [
      "7.43413401 9995000.0\n"
     ]
    }
   ],
   "source": [
    "print(w[0],w[-1])"
   ]
  },
  {
   "cell_type": "code",
   "execution_count": 9,
   "id": "88e62834-1d35-4ba0-9446-b31203b79f1b",
   "metadata": {},
   "outputs": [
    {
     "name": "stdout",
     "output_type": "stream",
     "text": [
      "8 100000.0\n"
     ]
    }
   ],
   "source": [
    "start, end= mt.ceil(w[0]), mt.floor(w[-1])\n",
    "end = 1e5\n",
    "print(start,end)"
   ]
  },
  {
   "cell_type": "code",
   "execution_count": 10,
   "id": "2690d9b7-a4c0-484c-96eb-aa78eade09ce",
   "metadata": {},
   "outputs": [],
   "source": [
    "neww = np.arange(start,end+1, 1)"
   ]
  },
  {
   "cell_type": "code",
   "execution_count": 11,
   "id": "50037d9f-e83d-49ad-ab43-ce4e3fa7ce9f",
   "metadata": {},
   "outputs": [],
   "source": [
    "f1 = interpolate.interp1d(w, f, fill_value='extrapolate',)(neww)\n",
    "w2, f2 = resample.bintogrid(w, f, newx=neww)"
   ]
  },
  {
   "cell_type": "code",
   "execution_count": 12,
   "id": "bde8fab2-106b-4a1a-a69f-08ec4fe8124e",
   "metadata": {},
   "outputs": [
    {
     "name": "stdout",
     "output_type": "stream",
     "text": [
      "[8.0000e+00 9.0000e+00 1.0000e+01 ... 9.9998e+04 9.9999e+04 1.0000e+05]\n"
     ]
    },
    {
     "data": {
      "image/png": "[encoded data removed]",
      "text/plain": [
       "<Figure size 432x288 with 1 Axes>"
      ]
     },
     "metadata": {
      "needs_background": "light"
     },
     "output_type": "display_data"
    }
   ],
   "source": [
    "print(neww)\n",
    "plt.plot(w2, f2)\n",
    "plt.plot(neww, f1)\n",
    "plt.xscale('log')\n",
    "plt.yscale('log')"
   ]
  },
  {
   "cell_type": "code",
   "execution_count": 13,
   "id": "60c172b3-a532-4280-93bb-6e438ef20d6d",
   "metadata": {},
   "outputs": [
    {
     "name": "stdout",
     "output_type": "stream",
     "text": [
      "5.6072088937185584e-08 5.59358940905702e-08 5.5937035578527885e-08\n",
      "1.0024348381094055\n",
      "1.0024143817644413\n"
     ]
    }
   ],
   "source": [
    "og = np.trapz(f,w)\n",
    "sp = np.trapz(f1, neww)\n",
    "cr =np.trapz(f2,w2)\n",
    "print(og, sp,cr)\n",
    "print(og/sp)\n",
    "print(og/cr)"
   ]
  },
  {
   "cell_type": "code",
   "execution_count": 14,
   "id": "0358bfb9-87d1-49ba-adee-e28a08021e8f",
   "metadata": {},
   "outputs": [
    {
     "data": {
      "text/plain": [
       "('WAVELENGTH',\n",
       " 'WAVELENGTH0',\n",
       " 'WAVELENGTH1',\n",
       " 'FLUX',\n",
       " 'ERROR',\n",
       " 'EXPTIME',\n",
       " 'DQ',\n",
       " 'EXPSTART',\n",
       " 'EXPEND',\n",
       " 'INSTRUMENT',\n",
       " 'NORMFAC',\n",
       " 'BOLOFLUX',\n",
       " 'BOLOERR')"
      ]
     },
     "execution_count": 14,
     "metadata": {},
     "output_type": "execute_result"
    }
   ],
   "source": [
    "data.dtype.names"
   ]
  },
  {
   "cell_type": "code",
   "execution_count": 15,
   "id": "dc634b88-32c5-4732-8805-6850579091b3",
   "metadata": {},
   "outputs": [
    {
     "data": {
      "text/html": [
       "&lt;Column name=&apos;INSTRUMENT&apos; dtype=&apos;int64&apos; length=1196330&gt;\n",
       "<table>\n",
       "<tr><td>8192</td></tr>\n",
       "<tr><td>8192</td></tr>\n",
       "<tr><td>8192</td></tr>\n",
       "<tr><td>8192</td></tr>\n",
       "<tr><td>8192</td></tr>\n",
       "<tr><td>8192</td></tr>\n",
       "<tr><td>8192</td></tr>\n",
       "<tr><td>8192</td></tr>\n",
       "<tr><td>8192</td></tr>\n",
       "<tr><td>32768</td></tr>\n",
       "<tr><td>32768</td></tr>\n",
       "<tr><td>32768</td></tr>\n",
       "<tr><td>...</td></tr>\n",
       "<tr><td>131072</td></tr>\n",
       "<tr><td>131072</td></tr>\n",
       "<tr><td>131072</td></tr>\n",
       "<tr><td>131072</td></tr>\n",
       "<tr><td>131072</td></tr>\n",
       "<tr><td>131072</td></tr>\n",
       "<tr><td>131072</td></tr>\n",
       "<tr><td>131072</td></tr>\n",
       "<tr><td>131072</td></tr>\n",
       "<tr><td>131072</td></tr>\n",
       "<tr><td>131072</td></tr>\n",
       "<tr><td>131072</td></tr>\n",
       "</table>"
      ],
      "text/plain": [
       "<Column name='INSTRUMENT' dtype='int64' length=1196330>\n",
       "  8192\n",
       "  8192\n",
       "  8192\n",
       "  8192\n",
       "  8192\n",
       "  8192\n",
       "  8192\n",
       "  8192\n",
       "  8192\n",
       " 32768\n",
       " 32768\n",
       " 32768\n",
       "   ...\n",
       "131072\n",
       "131072\n",
       "131072\n",
       "131072\n",
       "131072\n",
       "131072\n",
       "131072\n",
       "131072\n",
       "131072\n",
       "131072\n",
       "131072\n",
       "131072"
      ]
     },
     "execution_count": 15,
     "metadata": {},
     "output_type": "execute_result"
    }
   ],
   "source": [
    "data['INSTRUMENT']"
   ]
  },
  {
   "cell_type": "code",
   "execution_count": 16,
   "id": "e830cbf5-2195-4c39-93f2-579971ff8de6",
   "metadata": {},
   "outputs": [],
   "source": [
    "i2 = interpolate.interp1d(w, data['INSTRUMENT'], kind = 'previous')(w2)"
   ]
  },
  {
   "cell_type": "code",
   "execution_count": 17,
   "id": "1f027293-7459-45e0-abee-7e79663951d9",
   "metadata": {},
   "outputs": [
    {
     "name": "stdout",
     "output_type": "stream",
     "text": [
      "151.5 16384\n",
      "152.5 16384\n",
      "153.5 16384\n",
      "154.5 16384\n",
      "155.5 16384\n",
      "156.5 16384\n",
      "157.5 16384\n",
      "158.5 16384\n",
      "159.5 16384\n",
      "160.5 16384\n",
      "161.5 16384\n",
      "162.5 16384\n",
      "163.5 16384\n",
      "164.5 16384\n",
      "165.5 16384\n",
      "166.5 16384\n",
      "167.5 16384\n",
      "168.5 16384\n",
      "169.5 16384\n",
      "170.5 16384\n",
      "171.5 16384\n",
      "172.5 16384\n",
      "173.5 16384\n",
      "174.5 16384\n",
      "175.5 16384\n",
      "176.5 16384\n",
      "177.5 16384\n",
      "178.5 16384\n",
      "179.5 16384\n",
      "180.5 16384\n",
      "181.5 16384\n",
      "182.5 16384\n",
      "183.5 16384\n",
      "184.5 16384\n",
      "185.5 16384\n",
      "186.5 16384\n",
      "187.5 16384\n",
      "188.5 16384\n",
      "189.5 16384\n",
      "190.5 16384\n",
      "191.5 16384\n",
      "192.5 16384\n",
      "193.5 16384\n",
      "194.5 16384\n",
      "195.5 16384\n",
      "196.5 16384\n",
      "197.5 16384\n",
      "198.5 16384\n",
      "199.5 16384\n",
      "200.5 16384\n",
      "201.5 16384\n",
      "202.5 16384\n",
      "203.5 16384\n",
      "204.5 16384\n",
      "205.5 16384\n",
      "206.5 16384\n",
      "207.5 16384\n",
      "208.5 16384\n",
      "209.5 16384\n",
      "210.5 16384\n",
      "211.5 16384\n",
      "212.5 16384\n",
      "213.5 16384\n",
      "214.5 16384\n",
      "215.5 16384\n",
      "216.5 16384\n",
      "217.5 16384\n",
      "218.5 16384\n",
      "219.5 16384\n",
      "220.5 16384\n",
      "221.5 16384\n",
      "222.5 16384\n",
      "223.5 16384\n",
      "224.5 16384\n",
      "225.5 16384\n",
      "226.5 16384\n",
      "227.5 16384\n",
      "228.5 16384\n",
      "229.5 16384\n",
      "230.5 16384\n",
      "231.5 16384\n",
      "232.5 16384\n",
      "233.5 16384\n",
      "234.5 16384\n",
      "235.5 16384\n",
      "236.5 16384\n",
      "237.5 16384\n",
      "238.5 16384\n",
      "239.5 16384\n",
      "240.5 16384\n",
      "241.5 16384\n",
      "242.5 16384\n",
      "243.5 16384\n",
      "244.5 16384\n",
      "245.5 16384\n",
      "246.5 16384\n",
      "247.5 16384\n",
      "248.5 16384\n",
      "249.5 16384\n",
      "250.5 16384\n"
     ]
    },
    {
     "data": {
      "text/plain": [
       "[None,\n",
       " None,\n",
       " None,\n",
       " None,\n",
       " None,\n",
       " None,\n",
       " None,\n",
       " None,\n",
       " None,\n",
       " None,\n",
       " None,\n",
       " None,\n",
       " None,\n",
       " None,\n",
       " None,\n",
       " None,\n",
       " None,\n",
       " None,\n",
       " None,\n",
       " None,\n",
       " None,\n",
       " None,\n",
       " None,\n",
       " None,\n",
       " None,\n",
       " None,\n",
       " None,\n",
       " None,\n",
       " None,\n",
       " None,\n",
       " None,\n",
       " None,\n",
       " None,\n",
       " None,\n",
       " None,\n",
       " None,\n",
       " None,\n",
       " None,\n",
       " None,\n",
       " None,\n",
       " None,\n",
       " None,\n",
       " None,\n",
       " None,\n",
       " None,\n",
       " None,\n",
       " None,\n",
       " None,\n",
       " None,\n",
       " None,\n",
       " None,\n",
       " None,\n",
       " None,\n",
       " None,\n",
       " None,\n",
       " None,\n",
       " None,\n",
       " None,\n",
       " None,\n",
       " None,\n",
       " None,\n",
       " None,\n",
       " None,\n",
       " None,\n",
       " None,\n",
       " None,\n",
       " None,\n",
       " None,\n",
       " None,\n",
       " None,\n",
       " None,\n",
       " None,\n",
       " None,\n",
       " None,\n",
       " None,\n",
       " None,\n",
       " None,\n",
       " None,\n",
       " None,\n",
       " None,\n",
       " None,\n",
       " None,\n",
       " None,\n",
       " None,\n",
       " None,\n",
       " None,\n",
       " None,\n",
       " None,\n",
       " None,\n",
       " None,\n",
       " None,\n",
       " None,\n",
       " None,\n",
       " None,\n",
       " None,\n",
       " None,\n",
       " None,\n",
       " None,\n",
       " None,\n",
       " None]"
      ]
     },
     "execution_count": 17,
     "metadata": {},
     "output_type": "execute_result"
    }
   ],
   "source": [
    "[print (wi, ii) for wi, ii in zip(w[100:200], data['INSTRUMENT'][100:200])]"
   ]
  },
  {
   "cell_type": "code",
   "execution_count": 18,
   "id": "7e8f4e3b-e24b-486d-8beb-8cf3018618aa",
   "metadata": {},
   "outputs": [
    {
     "name": "stdout",
     "output_type": "stream",
     "text": [
      "8.0 8192.0\n",
      "9.0 8192.0\n",
      "10.0 8192.0\n",
      "11.0 8192.0\n",
      "12.0 8192.0\n",
      "13.0 8192.0\n",
      "14.0 8192.0\n",
      "15.0 8192.0\n",
      "16.0 8192.0\n",
      "17.0 8192.0\n",
      "18.0 32768.0\n",
      "19.0 32768.0\n",
      "20.0 32768.0\n",
      "21.0 32768.0\n",
      "22.0 32768.0\n",
      "23.0 32768.0\n",
      "24.0 32768.0\n",
      "25.0 32768.0\n",
      "26.0 32768.0\n",
      "27.0 32768.0\n",
      "28.0 32768.0\n",
      "29.0 32768.0\n",
      "30.0 32768.0\n",
      "31.0 32768.0\n",
      "32.0 32768.0\n",
      "33.0 32768.0\n",
      "34.0 32768.0\n",
      "35.0 32768.0\n",
      "36.0 32768.0\n",
      "37.0 32768.0\n",
      "38.0 32768.0\n",
      "39.0 32768.0\n",
      "40.0 32768.0\n",
      "41.0 32768.0\n",
      "42.0 32768.0\n",
      "43.0 32768.0\n",
      "44.0 32768.0\n",
      "45.0 32768.0\n",
      "46.0 32768.0\n",
      "47.0 32768.0\n",
      "48.0 32768.0\n",
      "49.0 32768.0\n",
      "50.0 32768.0\n",
      "51.0 32768.0\n",
      "52.0 32768.0\n",
      "53.0 32768.0\n",
      "54.0 32768.0\n",
      "55.0 32768.0\n",
      "56.0 32768.0\n",
      "57.0 32768.0\n"
     ]
    },
    {
     "data": {
      "text/plain": [
       "[None,\n",
       " None,\n",
       " None,\n",
       " None,\n",
       " None,\n",
       " None,\n",
       " None,\n",
       " None,\n",
       " None,\n",
       " None,\n",
       " None,\n",
       " None,\n",
       " None,\n",
       " None,\n",
       " None,\n",
       " None,\n",
       " None,\n",
       " None,\n",
       " None,\n",
       " None,\n",
       " None,\n",
       " None,\n",
       " None,\n",
       " None,\n",
       " None,\n",
       " None,\n",
       " None,\n",
       " None,\n",
       " None,\n",
       " None,\n",
       " None,\n",
       " None,\n",
       " None,\n",
       " None,\n",
       " None,\n",
       " None,\n",
       " None,\n",
       " None,\n",
       " None,\n",
       " None,\n",
       " None,\n",
       " None,\n",
       " None,\n",
       " None,\n",
       " None,\n",
       " None,\n",
       " None,\n",
       " None,\n",
       " None,\n",
       " None]"
      ]
     },
     "execution_count": 18,
     "metadata": {},
     "output_type": "execute_result"
    }
   ],
   "source": [
    "[print (wi, ii) for wi, ii in zip(w2[:50], i2[:50])]"
   ]
  },
  {
   "cell_type": "code",
   "execution_count": 19,
   "id": "98b4debd-0a6f-4b4e-8691-3c990f43fa00",
   "metadata": {},
   "outputs": [],
   "source": [
    "for i in range(len(i2)-1):\n",
    "    if i2[i] != i2[i+1]:\n",
    "        i2[i] = i2[i] + i2[i+1]"
   ]
  },
  {
   "cell_type": "code",
   "execution_count": 20,
   "id": "004e30cb-7afb-41fc-831f-5f37cb1829e3",
   "metadata": {},
   "outputs": [
    {
     "name": "stdout",
     "output_type": "stream",
     "text": [
      "108.0 16384.0\n",
      "109.0 16384.0\n",
      "110.0 16384.0\n",
      "111.0 16384.0\n",
      "112.0 16384.0\n",
      "113.0 16384.0\n",
      "114.0 16384.0\n",
      "115.0 16384.0\n",
      "116.0 16384.0\n",
      "117.0 16384.0\n",
      "118.0 16384.0\n",
      "119.0 16384.0\n",
      "120.0 16384.0\n",
      "121.0 16384.0\n",
      "122.0 16384.0\n",
      "123.0 16384.0\n",
      "124.0 16384.0\n",
      "125.0 16384.0\n",
      "126.0 16384.0\n",
      "127.0 16384.0\n",
      "128.0 16384.0\n",
      "129.0 16384.0\n",
      "130.0 16384.0\n",
      "131.0 16384.0\n",
      "132.0 16384.0\n",
      "133.0 16384.0\n",
      "134.0 16384.0\n",
      "135.0 16384.0\n",
      "136.0 16384.0\n",
      "137.0 16384.0\n",
      "138.0 16384.0\n",
      "139.0 16384.0\n",
      "140.0 16384.0\n",
      "141.0 16384.0\n",
      "142.0 16384.0\n",
      "143.0 16384.0\n",
      "144.0 16384.0\n",
      "145.0 16384.0\n",
      "146.0 16384.0\n",
      "147.0 16384.0\n",
      "148.0 16384.0\n",
      "149.0 16384.0\n",
      "150.0 16384.0\n",
      "151.0 16384.0\n",
      "152.0 16384.0\n",
      "153.0 16384.0\n",
      "154.0 16384.0\n",
      "155.0 16384.0\n",
      "156.0 16384.0\n",
      "157.0 16384.0\n",
      "158.0 16384.0\n",
      "159.0 16384.0\n",
      "160.0 16384.0\n",
      "161.0 16384.0\n",
      "162.0 16384.0\n",
      "163.0 16384.0\n",
      "164.0 16384.0\n",
      "165.0 16384.0\n",
      "166.0 16384.0\n",
      "167.0 16384.0\n",
      "168.0 16384.0\n",
      "169.0 16384.0\n",
      "170.0 16384.0\n",
      "171.0 16384.0\n",
      "172.0 16384.0\n",
      "173.0 16384.0\n",
      "174.0 16384.0\n",
      "175.0 16384.0\n",
      "176.0 16384.0\n",
      "177.0 16384.0\n",
      "178.0 16384.0\n",
      "179.0 16384.0\n",
      "180.0 16384.0\n",
      "181.0 16384.0\n",
      "182.0 16384.0\n",
      "183.0 16384.0\n",
      "184.0 16384.0\n",
      "185.0 16384.0\n",
      "186.0 16384.0\n",
      "187.0 16384.0\n",
      "188.0 16384.0\n",
      "189.0 16384.0\n",
      "190.0 16384.0\n",
      "191.0 16384.0\n",
      "192.0 16384.0\n",
      "193.0 16384.0\n",
      "194.0 16384.0\n",
      "195.0 16384.0\n",
      "196.0 16384.0\n",
      "197.0 16384.0\n",
      "198.0 16384.0\n",
      "199.0 16384.0\n",
      "200.0 16384.0\n",
      "201.0 16384.0\n",
      "202.0 16384.0\n",
      "203.0 16384.0\n",
      "204.0 16384.0\n",
      "205.0 16384.0\n",
      "206.0 16384.0\n",
      "207.0 16384.0\n"
     ]
    },
    {
     "data": {
      "text/plain": [
       "[None,\n",
       " None,\n",
       " None,\n",
       " None,\n",
       " None,\n",
       " None,\n",
       " None,\n",
       " None,\n",
       " None,\n",
       " None,\n",
       " None,\n",
       " None,\n",
       " None,\n",
       " None,\n",
       " None,\n",
       " None,\n",
       " None,\n",
       " None,\n",
       " None,\n",
       " None,\n",
       " None,\n",
       " None,\n",
       " None,\n",
       " None,\n",
       " None,\n",
       " None,\n",
       " None,\n",
       " None,\n",
       " None,\n",
       " None,\n",
       " None,\n",
       " None,\n",
       " None,\n",
       " None,\n",
       " None,\n",
       " None,\n",
       " None,\n",
       " None,\n",
       " None,\n",
       " None,\n",
       " None,\n",
       " None,\n",
       " None,\n",
       " None,\n",
       " None,\n",
       " None,\n",
       " None,\n",
       " None,\n",
       " None,\n",
       " None,\n",
       " None,\n",
       " None,\n",
       " None,\n",
       " None,\n",
       " None,\n",
       " None,\n",
       " None,\n",
       " None,\n",
       " None,\n",
       " None,\n",
       " None,\n",
       " None,\n",
       " None,\n",
       " None,\n",
       " None,\n",
       " None,\n",
       " None,\n",
       " None,\n",
       " None,\n",
       " None,\n",
       " None,\n",
       " None,\n",
       " None,\n",
       " None,\n",
       " None,\n",
       " None,\n",
       " None,\n",
       " None,\n",
       " None,\n",
       " None,\n",
       " None,\n",
       " None,\n",
       " None,\n",
       " None,\n",
       " None,\n",
       " None,\n",
       " None,\n",
       " None,\n",
       " None,\n",
       " None,\n",
       " None,\n",
       " None,\n",
       " None,\n",
       " None,\n",
       " None,\n",
       " None,\n",
       " None,\n",
       " None,\n",
       " None,\n",
       " None]"
      ]
     },
     "execution_count": 20,
     "metadata": {},
     "output_type": "execute_result"
    }
   ],
   "source": [
    "[print (wi, ii) for wi, ii in zip(w2[100:200], i2[100:200])]"
   ]
  },
  {
   "cell_type": "code",
   "execution_count": 21,
   "id": "0fe15294-8f0d-44d7-9953-0ae640cd2101",
   "metadata": {},
   "outputs": [
    {
     "name": "stdout",
     "output_type": "stream",
     "text": [
      "[200. 200. 170.]\n"
     ]
    }
   ],
   "source": [
    "a = [200, 200, 200, 150]\n",
    "b = [1, 2, 3,4]\n",
    "c = [1.2, 2.4, 3.6]\n",
    "d = interpolate.interp1d(b, a, fill_value='extrapolate')(c)\n",
    "print(d)"
   ]
  },
  {
   "cell_type": "code",
   "execution_count": 22,
   "id": "33f1859e-6b13-4f52-b1bd-dd7cb835a19a",
   "metadata": {},
   "outputs": [
    {
     "data": {
      "image/png": "[encoded data removed]",
      "text/plain": [
       "<Figure size 432x288 with 1 Axes>"
      ]
     },
     "metadata": {
      "needs_background": "light"
     },
     "output_type": "display_data"
    }
   ],
   "source": [
    "plt.plot(data['WAVELENGTH'], data['EXPSTART'])\n",
    "plt.xscale('log')"
   ]
  },
  {
   "cell_type": "code",
   "execution_count": 23,
   "id": "a626eba9-d586-4e3b-988e-b19ba3374f55",
   "metadata": {},
   "outputs": [
    {
     "name": "stdout",
     "output_type": "stream",
     "text": [
      "[30. 25. 25. 25. 25. 25. 25. 15. 15. 15.]\n",
      "[30. 30. 25. 25. 25. 25. 25. 25. 15. 15.]\n",
      "[30. 25. 25. 25. 25. 25. 25. 15. 15. 15.]\n",
      "[30. 30. 25. 25. 25. 25. 25. 25. 15. 15.]\n",
      "[30. 25. 25. 25. 25. 25. 25. 15. 15. 15.]\n"
     ]
    }
   ],
   "source": [
    "x1 = np.arange(1, 11, 0.1)\n",
    "x2 = np.arange(1, 11, 1)\n",
    "y1 = np.hstack((np.full(10, 30), np.full(60, 25), np.full(30, 15)))\n",
    "up = interpolate.interp1d(x1, y1, kind='next')(x2)\n",
    "down = interpolate.interp1d(x1, y1, kind='previous')(x2)\n",
    "print(up)\n",
    "print(down)\n",
    "print(np.min([up, down], axis=0))\n",
    "print(np.max([up, down], axis=0))\n",
    "print(interpolate.interp1d(x1, y1)(x2))"
   ]
  },
  {
   "cell_type": "code",
   "execution_count": 24,
   "id": "dd89a729-2af6-42d6-99f4-4842369775ab",
   "metadata": {},
   "outputs": [],
   "source": [
    "# data['FLUX']"
   ]
  },
  {
   "cell_type": "code",
   "execution_count": 25,
   "id": "679665d7-d4af-43b3-8345-3114fdc3f933",
   "metadata": {},
   "outputs": [],
   "source": [
    "def sed_to_const_res(sed_table, res=1, start_cut=0, end_cut = 1e5):\n",
    "    \"\"\"\n",
    "    Rebins an SED to a wavelength grid with a bin size of res, default = 1A\n",
    "    \"\"\"\n",
    "    \n",
    "    #wavelength \n",
    "    start, end= mt.ceil(sed_table['WAVELENGTH'][0]), mt.floor(sed_table['WAVELENGTH'][-1])\n",
    "    if start < start_cut: #cut MM SEDs down to 1e5 A\n",
    "        start = start_cut\n",
    "    if end > end_cut:\n",
    "        end = end_cut \n",
    "    \n",
    "    new_wavelength = np.arange(start,end+res, res)\n",
    "    new_w0 = new_wavelength - (0.5 * res)\n",
    "    new_w1 = new_wavelength + (0.5 * res)\n",
    "\n",
    "    #flux\n",
    "    new_wavelength, new_flux = resample.bintogrid(sed_table['WAVELENGTH'], sed_table['FLUX'], newx=new_wavelength)\n",
    "    \n",
    "    #error\n",
    "    new_error =  interpolate.interp1d(sed_table['WAVELENGTH'], sed_table['ERROR'])(new_wavelength)\n",
    "    \n",
    "    #exptime - linear extrapolation is similar to averaged to bin widths\n",
    "    new_exptime = interpolate.interp1d(sed_table['WAVELENGTH'], sed_table['EXPTIME'])(new_wavelength)\n",
    "    \n",
    "    #dq - interploate, then look for unusual values and correct them, summing if the values to either side are different.\n",
    "   \n",
    "    new_dq = interpolate.interp1d(sed_table['WAVELENGTH'], sed_table['DQ'], kind='previous')(new_wavelength)\n",
    "    new_dq = new_dq.astype(int)\n",
    "    \n",
    "    #expstart - minumum expstart in each bin\n",
    "    startups = interpolate.interp1d(sed_table['WAVELENGTH'], sed_table['EXPSTART'], kind='next')(new_wavelength)\n",
    "    startdowns = interpolate.interp1d(sed_table['WAVELENGTH'], sed_table['EXPSTART'], kind='previous')(new_wavelength)\n",
    "    new_expstart = np.min([startups, startdowns], axis=0)\n",
    "    \n",
    "    #expends - maximum expend in each bin\n",
    "    endups = interpolate.interp1d(sed_table['WAVELENGTH'], sed_table['EXPEND'], kind='next')(new_wavelength)\n",
    "    enddowns = interpolate.interp1d(sed_table['WAVELENGTH'], sed_table['EXPEND'], kind='previous')(new_wavelength)\n",
    "    new_expend = np.max([endups, enddowns], axis=0)\n",
    "    \n",
    "    #instrument - as dqs\n",
    "    new_instrument = interpolate.interp1d(sed_table['WAVELENGTH'], sed_table['INSTRUMENT'], kind='previous')(new_wavelength)\n",
    "    new_instrument = new_instrument.astype(int)\n",
    "    \n",
    "    #dq and instrument loop\n",
    "    for i in range(len(new_wavelength))[1:-1]:\n",
    "        if new_dq[i] != new_dq[i+1]:\n",
    "            new_dq[i] = new_dq[i] + new_dq[i+1]\n",
    "        if new_instrument[i] != new_instrument[i+1]:\n",
    "            new_instrument[i] = new_instrument[i] + new_instrument[i+1]\n",
    "    \n",
    "    #normfac - linear extrapolation\n",
    "    new_normfac = interpolate.interp1d(sed_table['WAVELENGTH'], sed_table['NORMFAC'])(new_wavelength)\n",
    "    \n",
    "    #boloflux -use original boloflux for consitency\n",
    "    bolo_int = sed_table.meta['BOLOFLUX']*(u.erg/u.s/u.cm**2)\n",
    "    new_boloflux = (new_flux/bolo_int).value\n",
    "    new_boloerr = (new_error/bolo_int).value\n",
    "    \n",
    "\n",
    "    names = sed_table.dtype.names\n",
    "    new_sed_table = Table([new_wavelength*u.AA, new_w0*u.AA, new_w1*u.AA, new_flux*u.erg/u.s/u.cm**2/u.AA, new_error*u.erg/u.s/u.cm**2/u.AA, new_exptime*u.s, \n",
    "                           new_dq,new_expstart*cds.MJD, new_expend*cds.MJD, new_instrument, new_normfac, new_boloflux*(1/u.AA), new_boloerr*(1/u.AA)], names=names, meta= sed_table.meta)\n",
    "    return new_sed_table\n",
    "          \n",
    "data1a = sed_to_const_res(data)"
   ]
  },
  {
   "cell_type": "code",
   "execution_count": 26,
   "id": "ba858e3a-0569-4937-bc50-575be8db23a4",
   "metadata": {},
   "outputs": [
    {
     "data": {
      "text/html": [
       "<i>Table length=99993</i>\n",
       "<table id=\"table139705819307928\" class=\"table-striped table-bordered table-condensed\">\n",
       "<thead><tr><th>WAVELENGTH</th><th>WAVELENGTH0</th><th>WAVELENGTH1</th><th>FLUX</th><th>ERROR</th><th>EXPTIME</th><th>DQ</th><th>EXPSTART</th><th>EXPEND</th><th>INSTRUMENT</th><th>NORMFAC</th><th>BOLOFLUX</th><th>BOLOERR</th></tr></thead>\n",
       "<thead><tr><th>Angstrom</th><th>Angstrom</th><th>Angstrom</th><th>erg / (Angstrom cm2 s)</th><th>erg / (Angstrom cm2 s)</th><th>s</th><th></th><th>MJD</th><th>MJD</th><th></th><th></th><th>1 / Angstrom</th><th>1 / Angstrom</th></tr></thead>\n",
       "<thead><tr><th>float64</th><th>float64</th><th>float64</th><th>float64</th><th>float64</th><th>float64</th><th>int64</th><th>float64</th><th>float64</th><th>int64</th><th>float64</th><th>float64</th><th>float64</th></tr></thead>\n",
       "<tr><td>8.0</td><td>7.5</td><td>8.5</td><td>1.1508597229336199e-15</td><td>3.89708109539198e-16</td><td>27487.000000057742</td><td>0</td><td>0.0</td><td>0.0</td><td>8192</td><td>1.0</td><td>2.0524645055098004e-08</td><td>6.950126469797955e-09</td></tr>\n",
       "<tr><td>9.0</td><td>8.5</td><td>9.5</td><td>1.808809731287646e-15</td><td>4.044364856507417e-16</td><td>27487.000000057742</td><td>0</td><td>0.0</td><td>0.0</td><td>8192</td><td>1.0</td><td>3.2258647137508236e-08</td><td>7.212795052165968e-09</td></tr>\n",
       "<tr><td>10.0</td><td>9.5</td><td>10.5</td><td>2.086410763588946e-15</td><td>6.220881689652565e-16</td><td>27487.000000057742</td><td>0</td><td>0.0</td><td>0.0</td><td>8192</td><td>1.0</td><td>3.720943526691574e-08</td><td>1.1094435409070419e-08</td></tr>\n",
       "<tr><td>11.0</td><td>10.5</td><td>11.5</td><td>3.0847488413852974e-15</td><td>1.1396820715873355e-15</td><td>27487.000000057742</td><td>0</td><td>0.0</td><td>0.0</td><td>8192</td><td>1.0</td><td>5.5013981106374927e-08</td><td>2.0325300754606434e-08</td></tr>\n",
       "<tr><td>12.0</td><td>11.5</td><td>12.5</td><td>5.480827259116543e-15</td><td>1.6172717300953508e-15</td><td>27487.000000057742</td><td>0</td><td>0.0</td><td>0.0</td><td>8192</td><td>1.0</td><td>9.774608656467953e-08</td><td>2.8842723015136677e-08</td></tr>\n",
       "<tr><td>13.0</td><td>12.5</td><td>13.5</td><td>5.5367406180879865e-15</td><td>1.843457851059328e-15</td><td>27487.000000057742</td><td>0</td><td>0.0</td><td>0.0</td><td>8192</td><td>1.0</td><td>9.87432557451265e-08</td><td>3.287656811081986e-08</td></tr>\n",
       "<tr><td>14.0</td><td>13.5</td><td>14.5</td><td>6.058015573152166e-15</td><td>1.709478779388457e-15</td><td>27487.000000057742</td><td>0</td><td>0.0</td><td>0.0</td><td>8192</td><td>1.0</td><td>1.0803976966042107e-07</td><td>3.048716057829579e-08</td></tr>\n",
       "<tr><td>15.0</td><td>14.5</td><td>15.5</td><td>6.175624300789723e-15</td><td>1.749147120204206e-15</td><td>27487.000000057742</td><td>0</td><td>0.0</td><td>0.0</td><td>8192</td><td>1.0</td><td>1.1013722545111415e-07</td><td>3.119461310178189e-08</td></tr>\n",
       "<tr><td>16.0</td><td>15.5</td><td>16.5</td><td>6.175624300789741e-15</td><td>1.7260087269294974e-15</td><td>27487.000000057742</td><td>0</td><td>0.0</td><td>0.0</td><td>8192</td><td>1.0</td><td>1.1013722545111447e-07</td><td>3.078195871858905e-08</td></tr>\n",
       "<tr><td>...</td><td>...</td><td>...</td><td>...</td><td>...</td><td>...</td><td>...</td><td>...</td><td>...</td><td>...</td><td>...</td><td>...</td><td>...</td></tr>\n",
       "<tr><td>99991.0</td><td>99990.5</td><td>99991.5</td><td>3.955965418560184e-15</td><td>0.0</td><td>0.0</td><td>0</td><td>0.0</td><td>0.0</td><td>131072</td><td>5.938448114743541e-18</td><td>7.05514186031456e-08</td><td>0.0</td></tr>\n",
       "<tr><td>99992.0</td><td>99991.5</td><td>99992.5</td><td>3.988228480004627e-15</td><td>0.0</td><td>0.0</td><td>0</td><td>0.0</td><td>0.0</td><td>131072</td><td>5.938448114743541e-18</td><td>7.112680400533002e-08</td><td>0.0</td></tr>\n",
       "<tr><td>99993.0</td><td>99992.5</td><td>99993.5</td><td>4.003989116175069e-15</td><td>0.0</td><td>0.0</td><td>0</td><td>0.0</td><td>0.0</td><td>131072</td><td>5.938448114743541e-18</td><td>7.140788210441953e-08</td><td>0.0</td></tr>\n",
       "<tr><td>99994.0</td><td>99993.5</td><td>99994.5</td><td>4.057768932062139e-15</td><td>0.0</td><td>0.0</td><td>0</td><td>0.0</td><td>0.0</td><td>131072</td><td>5.938448114743541e-18</td><td>7.23670012830775e-08</td><td>0.0</td></tr>\n",
       "<tr><td>99995.0</td><td>99994.5</td><td>99995.5</td><td>4.066788456521858e-15</td><td>0.0</td><td>0.0</td><td>0</td><td>0.0</td><td>0.0</td><td>131072</td><td>5.938448114743541e-18</td><td>7.252785714970704e-08</td><td>0.0</td></tr>\n",
       "<tr><td>99996.0</td><td>99995.5</td><td>99996.5</td><td>4.121027893661932e-15</td><td>0.0</td><td>0.0</td><td>0</td><td>0.0</td><td>0.0</td><td>131072</td><td>5.938448114743541e-18</td><td>7.349517329876001e-08</td><td>0.0</td></tr>\n",
       "<tr><td>99997.0</td><td>99996.5</td><td>99997.5</td><td>4.124284629465006e-15</td><td>0.0</td><td>0.0</td><td>0</td><td>0.0</td><td>0.0</td><td>131072</td><td>5.938448114743541e-18</td><td>7.35532545271359e-08</td><td>0.0</td></tr>\n",
       "<tr><td>99998.0</td><td>99997.5</td><td>99998.5</td><td>3.985847576269013e-15</td><td>0.0</td><td>0.0</td><td>0</td><td>0.0</td><td>0.0</td><td>131072</td><td>5.938448114743541e-18</td><td>7.108434252795791e-08</td><td>0.0</td></tr>\n",
       "<tr><td>99999.0</td><td>99998.5</td><td>99999.5</td><td>3.886885540667741e-15</td><td>0.0</td><td>0.0</td><td>0</td><td>0.0</td><td>0.0</td><td>131072</td><td>5.938448114743541e-18</td><td>6.931943529020306e-08</td><td>0.0</td></tr>\n",
       "<tr><td>100000.0</td><td>99999.5</td><td>100000.5</td><td>4.112964457641426e-15</td><td>0.0</td><td>0.0</td><td>0</td><td>0.0</td><td>0.0</td><td>131072</td><td>5.938448114743541e-18</td><td>7.335136849010487e-08</td><td>0.0</td></tr>\n",
       "</table>"
      ],
      "text/plain": [
       "<Table length=99993>\n",
       "WAVELENGTH WAVELENGTH0 ...        BOLOFLUX               BOLOERR        \n",
       " Angstrom    Angstrom  ...      1 / Angstrom           1 / Angstrom     \n",
       " float64     float64   ...        float64                float64        \n",
       "---------- ----------- ... ---------------------- ----------------------\n",
       "       8.0         7.5 ... 2.0524645055098004e-08  6.950126469797955e-09\n",
       "       9.0         8.5 ... 3.2258647137508236e-08  7.212795052165968e-09\n",
       "      10.0         9.5 ...  3.720943526691574e-08 1.1094435409070419e-08\n",
       "      11.0        10.5 ... 5.5013981106374927e-08 2.0325300754606434e-08\n",
       "      12.0        11.5 ...  9.774608656467953e-08 2.8842723015136677e-08\n",
       "      13.0        12.5 ...   9.87432557451265e-08  3.287656811081986e-08\n",
       "      14.0        13.5 ... 1.0803976966042107e-07  3.048716057829579e-08\n",
       "      15.0        14.5 ... 1.1013722545111415e-07  3.119461310178189e-08\n",
       "      16.0        15.5 ... 1.1013722545111447e-07  3.078195871858905e-08\n",
       "       ...         ... ...                    ...                    ...\n",
       "   99991.0     99990.5 ...   7.05514186031456e-08                    0.0\n",
       "   99992.0     99991.5 ...  7.112680400533002e-08                    0.0\n",
       "   99993.0     99992.5 ...  7.140788210441953e-08                    0.0\n",
       "   99994.0     99993.5 ...   7.23670012830775e-08                    0.0\n",
       "   99995.0     99994.5 ...  7.252785714970704e-08                    0.0\n",
       "   99996.0     99995.5 ...  7.349517329876001e-08                    0.0\n",
       "   99997.0     99996.5 ...   7.35532545271359e-08                    0.0\n",
       "   99998.0     99997.5 ...  7.108434252795791e-08                    0.0\n",
       "   99999.0     99998.5 ...  6.931943529020306e-08                    0.0\n",
       "  100000.0     99999.5 ...  7.335136849010487e-08                    0.0"
      ]
     },
     "execution_count": 26,
     "metadata": {},
     "output_type": "execute_result"
    }
   ],
   "source": [
    "data1a"
   ]
  },
  {
   "cell_type": "code",
   "execution_count": 27,
   "id": "49ab3fe4-aa84-462e-898a-81eb96b4f5df",
   "metadata": {},
   "outputs": [
    {
     "data": {
      "text/plain": [
       "<matplotlib.lines.Line2D at 0x7f0fcbb94ba8>"
      ]
     },
     "execution_count": 27,
     "metadata": {},
     "output_type": "execute_result"
    },
    {
     "data": {
      "image/png": "[encoded data removed]",
      "text/plain": [
       "<Figure size 432x288 with 1 Axes>"
      ]
     },
     "metadata": {
      "needs_background": "light"
     },
     "output_type": "display_data"
    }
   ],
   "source": [
    "plt.plot(data['WAVELENGTH'][1:], np.diff(data['WAVELENGTH']))\n",
    "plt.yscale('log')\n",
    "plt.xscale('log')\n",
    "plt.axhline(1)"
   ]
  },
  {
   "cell_type": "code",
   "execution_count": 28,
   "id": "4c513338-06ff-4481-bb6c-49f33969cd8a",
   "metadata": {},
   "outputs": [
    {
     "data": {
      "text/plain": [
       "(1e-19, 2.436952466244968e-11)"
      ]
     },
     "execution_count": 28,
     "metadata": {},
     "output_type": "execute_result"
    },
    {
     "data": {
      "image/png": "[encoded data removed]",
      "text/plain": [
       "<Figure size 432x288 with 1 Axes>"
      ]
     },
     "metadata": {
      "needs_background": "light"
     },
     "output_type": "display_data"
    }
   ],
   "source": [
    "plt.plot(data['WAVELENGTH'], data['FLUX'])\n",
    "plt.plot(data1a['WAVELENGTH'], data1a['FLUX'])\n",
    "plt.yscale('log')\n",
    "plt.xscale('log')\n",
    "plt.xlim(10,1e5)\n",
    "plt.ylim(1e-19)"
   ]
  },
  {
   "cell_type": "code",
   "execution_count": 29,
   "id": "82b08516-1220-4d76-89d9-113f8354e20d",
   "metadata": {},
   "outputs": [
    {
     "name": "stdout",
     "output_type": "stream",
     "text": [
      "INSTRUMENT\n",
      "----------\n",
      "        16\n",
      "       256\n",
      "      8192\n",
      "     16384\n",
      "     32768\n",
      "     65536\n",
      "    131072\n",
      "    524288\n",
      "INSTRUMENT\n",
      "----------\n",
      "        16\n",
      "       256\n",
      "      8192\n",
      "     16384\n",
      "     16400\n",
      "     32768\n",
      "     40960\n",
      "     49152\n",
      "     65536\n",
      "     65552\n",
      "    131072\n",
      "    131328\n",
      "    524288\n",
      "    524304\n",
      "    655360\n",
      "   DQ  \n",
      "-------\n",
      "    0.0\n",
      "   16.0\n",
      "   32.0\n",
      "   48.0\n",
      "  256.0\n",
      "  288.0\n",
      "  500.0\n",
      "  512.0\n",
      " 1024.0\n",
      " 1040.0\n",
      "    ...\n",
      "17424.0\n",
      "18432.0\n",
      "18448.0\n",
      "18464.0\n",
      "24576.0\n",
      "24592.0\n",
      "24608.0\n",
      "26624.0\n",
      "32784.0\n",
      "40960.0\n",
      "40992.0\n",
      "Length = 34 rows\n",
      "  DQ \n",
      "-----\n",
      "    0\n",
      "   16\n",
      "   32\n",
      "   48\n",
      "   80\n",
      "  256\n",
      "  272\n",
      "  288\n",
      "  304\n",
      "  500\n",
      "  ...\n",
      "36880\n",
      "36896\n",
      "40960\n",
      "40976\n",
      "40992\n",
      "41008\n",
      "45056\n",
      "49168\n",
      "49184\n",
      "49200\n",
      "57344\n",
      "Length = 71 rows\n"
     ]
    }
   ],
   "source": [
    "print(np.unique(data['INSTRUMENT']))\n",
    "print(np.unique(data1a['INSTRUMENT']))\n",
    "print(np.unique(data['DQ']))\n",
    "print(np.unique(data1a['DQ']))"
   ]
  },
  {
   "cell_type": "code",
   "execution_count": 30,
   "id": "a88c1e4f-8a34-4962-ba38-5320b32aa996",
   "metadata": {},
   "outputs": [
    {
     "data": {
      "text/plain": [
       "(100.0, 120.0)"
      ]
     },
     "execution_count": 30,
     "metadata": {},
     "output_type": "execute_result"
    },
    {
     "data": {
      "image/png": "[encoded data removed]",
      "text/plain": [
       "<Figure size 432x288 with 1 Axes>"
      ]
     },
     "metadata": {
      "needs_background": "light"
     },
     "output_type": "display_data"
    }
   ],
   "source": [
    "plt.step(data1a['WAVELENGTH'], data1a['INSTRUMENT'])\n",
    "# plt.xscale('log')\n",
    "# plt.yscale('log')\n",
    "plt.xlim(100, 120)\n",
    "# plt.ylim(1000, 40000)"
   ]
  },
  {
   "cell_type": "code",
   "execution_count": 31,
   "id": "c82e320e-4879-47af-b642-fd7b277c0284",
   "metadata": {},
   "outputs": [
    {
     "data": {
      "image/png": "[encoded data removed]",
      "text/plain": [
       "<Figure size 432x288 with 1 Axes>"
      ]
     },
     "metadata": {
      "needs_background": "light"
     },
     "output_type": "display_data"
    }
   ],
   "source": [
    "plt.step(data1a['WAVELENGTH'], data1a['INSTRUMENT'])\n",
    "plt.xscale('log')\n",
    "plt.yscale('log')"
   ]
  },
  {
   "cell_type": "code",
   "execution_count": 32,
   "id": "6eca7f69-a16e-45ae-a1d5-8e6926278cd6",
   "metadata": {},
   "outputs": [
    {
     "data": {
      "image/png": "[encoded data removed]",
      "text/plain": [
       "<Figure size 432x288 with 1 Axes>"
      ]
     },
     "metadata": {
      "needs_background": "light"
     },
     "output_type": "display_data"
    }
   ],
   "source": [
    "plt.plot(w,f)\n",
    "et= 0.1*abs(f)\n",
    "\n",
    "# wt, ft, et = resample.bintogrid(w[w > 3000] ,f[w> 3000], newx= neww, unc=et[w>3000])\n",
    "# print(len(wt))\n",
    "# plt.plot(wt, ft)\n",
    "# plt.xscale('log')\n",
    "# plt.yscale('log')"
   ]
  },
  {
   "cell_type": "code",
   "execution_count": 33,
   "id": "cd470330-d7a6-4cc5-9f23-3b94a19fb3a9",
   "metadata": {},
   "outputs": [],
   "source": [
    "from specutils import Spectrum1D\n",
    "from specutils.manipulation import FluxConservingResampler\n",
    "from astropy.nddata import StdDevUncertainty\n"
   ]
  },
  {
   "cell_type": "code",
   "execution_count": 50,
   "id": "20c10358-dd23-4f15-be38-7c59be81e2d8",
   "metadata": {},
   "outputs": [],
   "source": [
    "input_spec = Spectrum1D(spectral_axis=w[w< 5700]*u.AA, flux=f[w< 5700]*u.Unit('erg cm-2 s-1 AA-1') , uncertainty= StdDevUncertainty(e[w< 5700])) "
   ]
  },
  {
   "cell_type": "code",
   "execution_count": 51,
   "id": "32cd5120-546d-4ddc-9cde-ab4163715a7f",
   "metadata": {},
   "outputs": [
    {
     "name": "stderr",
     "output_type": "stream",
     "text": [
      "/home/david/anaconda3/envs/astroconda/lib/python3.6/site-packages/specutils/manipulation/resample.py:204: RuntimeWarning: divide by zero encountered in reciprocal\n",
      "  out_uncertainty = InverseVariance(np.reciprocal(out_variance))\n"
     ]
    }
   ],
   "source": [
    "fluxcon = FluxConservingResampler()\n",
    "new_spec_fluxcon = fluxcon(input_spec, neww[neww< 5700]*u.AA)"
   ]
  },
  {
   "cell_type": "code",
   "execution_count": 52,
   "id": "58b15150-21ed-4999-babe-4e95133c0078",
   "metadata": {},
   "outputs": [
    {
     "data": {
      "text/plain": [
       "array([6.87540429e+30, 5.85674799e+30, 5.22482076e+30, ...,\n",
       "                  inf,            inf,            inf])"
      ]
     },
     "execution_count": 52,
     "metadata": {},
     "output_type": "execute_result"
    }
   ],
   "source": [
    "new_spec_fluxcon.uncertainty.array"
   ]
  },
  {
   "cell_type": "code",
   "execution_count": null,
   "id": "d3c016f9-1d82-45e0-a1b5-fc1cab3df091",
   "metadata": {},
   "outputs": [],
   "source": [
    "plt.step(input_spec.spectral_axis, input_spec.flux)\n",
    "plt.step(new_spec_fluxcon.spectral_axis, new_spec_fluxcon.flux)\n",
    "plt.step(input_spec.spectral_axis, input_spec.uncertainty.array)\n",
    "plt.step(new_spec_fluxcon.spectral_axis, 1/new_spec_fluxcon.uncertainty.array**0.5)\n",
    "plt.yscale('log')\n",
    "plt.xlim(1400, 1410)\n",
    "plt.ylim(1e-17, 1e-12)"
   ]
  },
  {
   "cell_type": "code",
   "execution_count": null,
   "id": "5bc81dcd-7055-4eb5-8bda-1ec6907734a6",
   "metadata": {},
   "outputs": [],
   "source": [
    "plt.plot(data['WAVELENGTH'], data['INSTRUMENT'])\n",
    "plt.xscale('log')\n",
    "plt.yscale('log')\n",
    "plt.xlim(5500, 6000)"
   ]
  },
  {
   "cell_type": "code",
   "execution_count": 54,
   "id": "89d6b871-5a5d-4a0e-a5bb-847f819ce34a",
   "metadata": {},
   "outputs": [
    {
     "data": {
      "text/plain": [
       "array([   8.,    9.,   10., ..., 5697., 5698., 5699.])"
      ]
     },
     "execution_count": 54,
     "metadata": {},
     "output_type": "execute_result"
    }
   ],
   "source": [
    "new_spec_fluxcon.spectral_axis.value"
   ]
  },
  {
   "cell_type": "code",
   "execution_count": 1,
   "id": "694f196c-ab8f-41a1-86ba-717fc02be5b4",
   "metadata": {},
   "outputs": [],
   "source": [
    "import instruments"
   ]
  },
  {
   "cell_type": "code",
   "execution_count": 2,
   "id": "7675031e-2ff7-48b0-8698-348a5e2fd5b2",
   "metadata": {},
   "outputs": [
    {
     "data": {
      "text/plain": [
       "[1024, 16384, 32768, 65536, 131072, 16777216]"
      ]
     },
     "execution_count": 2,
     "metadata": {},
     "output_type": "execute_result"
    }
   ],
   "source": [
    "instruments.getmodelcodes()"
   ]
  },
  {
   "cell_type": "code",
   "execution_count": null,
   "id": "a548cb92-d5c3-4443-83b8-ab5ca49dbb0c",
   "metadata": {},
   "outputs": [],
   "source": []
  }
 ],
 "metadata": {
  "kernelspec": {
   "display_name": "Python 3",
   "language": "python",
   "name": "python3"
  },
  "language_info": {
   "codemirror_mode": {
    "name": "ipython",
    "version": 3
   },
   "file_extension": ".py",
   "mimetype": "text/x-python",
   "name": "python",
   "nbconvert_exporter": "python",
   "pygments_lexer": "ipython3",
   "version": "3.6.13"
  }
 },
 "nbformat": 4,
 "nbformat_minor": 5
}
