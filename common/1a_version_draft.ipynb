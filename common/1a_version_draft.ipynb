{
 "cells": [
  {
   "cell_type": "code",
   "execution_count": 34,
   "id": "f1a84d5b-eee0-4c67-bb41-e077b59736c8",
   "metadata": {},
   "outputs": [],
   "source": [
    "import numpy as np\n",
    "import matplotlib.pyplot as plt\n",
    "import astropy.io.fits as fits\n",
    "import os\n",
    "import glob\n",
    "from astropy.table import Table\n",
    "from astropy.io import ascii\n",
    "import astropy.units as u\n",
    "import astropy.constants as const\n",
    "from scipy.interpolate import interpolate\n",
    "from craftroom import resample\n",
    "# import stistools\n",
    "from astropy.convolution import convolve, Box1DKernel\n",
    "from astropy.modeling import models, fitting\n",
    "from scipy.io.idl import readsav\n",
    "from astropy.convolution import convolve_fft\n",
    "from astropy.convolution import Gaussian1DKernel\n",
    "from matplotlib.gridspec import GridSpec\n",
    "from astropy.units import cds\n",
    "cds.enable()\n",
    "\n",
    "#matplotlib set up\n",
    "%matplotlib inline\n",
    "from matplotlib import rcParams\n",
    "rcParams[\"figure.figsize\"] = (14, 5)\n",
    "rcParams[\"font.size\"] = 20\n"
   ]
  },
  {
   "cell_type": "markdown",
   "id": "7bb3cc79-f363-4ad2-b085-2656b7bb859d",
   "metadata": {},
   "source": [
    "How to make the 1A version. Scipi or craftroom? How to make the instruments combine at the ends."
   ]
  },
  {
   "cell_type": "code",
   "execution_count": 43,
   "id": "96051f27-cca9-4e38-a7e0-3066e9664c4f",
   "metadata": {},
   "outputs": [],
   "source": [
    "data = fits.getdata('/media/david/1tb_storage1/emergency_data/mega_muscles/v01_seds/hlsp_muscles_multi_multi_gj15a_broadband_v1_var-res-sed.fits',1)\n",
    "# data= Table.read('test_to_fits/t1_table_test.ecsv')\n",
    "data = Table(data, meta=fits.getheader('/media/david/1tb_storage1/emergency_data/mega_muscles/v01_seds/hlsp_muscles_multi_multi_gj15a_broadband_v1_var-res-sed.fits'))"
   ]
  },
  {
   "cell_type": "code",
   "execution_count": 41,
   "id": "284406a7-88c3-4bfb-bd7f-e11c1752efb9",
   "metadata": {},
   "outputs": [
    {
     "data": {
      "text/plain": [
       "[<matplotlib.lines.Line2D at 0x7f144f9781d0>]"
      ]
     },
     "execution_count": 41,
     "metadata": {},
     "output_type": "execute_result"
    },
    {
     "data": {
      "image/png": "[encoded data removed]",
      "text/plain": [
       "<Figure size 1008x360 with 1 Axes>"
      ]
     },
     "metadata": {
      "needs_background": "light"
     },
     "output_type": "display_data"
    }
   ],
   "source": [
    "plt.plot(data['WAVELENGTH'],data['FLUX'])"
   ]
  },
  {
   "cell_type": "code",
   "execution_count": 4,
   "id": "2533e837-ec9d-47e7-bf54-caa8057f1f41",
   "metadata": {},
   "outputs": [],
   "source": [
    "#craftroom or scipy"
   ]
  },
  {
   "cell_type": "code",
   "execution_count": 5,
   "id": "d4181baf-a4b4-4118-837c-e34c8e81afb8",
   "metadata": {},
   "outputs": [],
   "source": [
    "w, f, e = data['WAVELENGTH'],data['FLUX'],data['ERROR']"
   ]
  },
  {
   "cell_type": "code",
   "execution_count": 6,
   "id": "aa3e6125-cabc-45c3-b035-d7a21dc084d6",
   "metadata": {},
   "outputs": [],
   "source": [
    "from craftroom import resample"
   ]
  },
  {
   "cell_type": "code",
   "execution_count": 7,
   "id": "c6ce332b-e906-4ca8-9974-5761fae29e96",
   "metadata": {},
   "outputs": [],
   "source": [
    "import math as mt"
   ]
  },
  {
   "cell_type": "code",
   "execution_count": 8,
   "id": "269390b3-5bc3-4b60-b712-2f4ad500ddb3",
   "metadata": {},
   "outputs": [
    {
     "name": "stdout",
     "output_type": "stream",
     "text": [
      "14.100000381469727 9995000.0\n"
     ]
    }
   ],
   "source": [
    "print(w[0],w[-1])"
   ]
  },
  {
   "cell_type": "code",
   "execution_count": 9,
   "id": "88e62834-1d35-4ba0-9446-b31203b79f1b",
   "metadata": {},
   "outputs": [
    {
     "name": "stdout",
     "output_type": "stream",
     "text": [
      "15 100000.0\n"
     ]
    }
   ],
   "source": [
    "start, end= mt.ceil(w[0]), mt.floor(w[-1])\n",
    "end = 1e5\n",
    "print(start,end)"
   ]
  },
  {
   "cell_type": "code",
   "execution_count": 10,
   "id": "2690d9b7-a4c0-484c-96eb-aa78eade09ce",
   "metadata": {},
   "outputs": [],
   "source": [
    "neww = np.arange(start,end+1, 1)"
   ]
  },
  {
   "cell_type": "code",
   "execution_count": 11,
   "id": "50037d9f-e83d-49ad-ab43-ce4e3fa7ce9f",
   "metadata": {},
   "outputs": [],
   "source": [
    "f1 = interpolate.interp1d(w, f, fill_value='extrapolate',)(neww)\n",
    "w2, f2 = resample.bintogrid(w, f, newx=neww)"
   ]
  },
  {
   "cell_type": "code",
   "execution_count": 12,
   "id": "bde8fab2-106b-4a1a-a69f-08ec4fe8124e",
   "metadata": {},
   "outputs": [
    {
     "name": "stdout",
     "output_type": "stream",
     "text": [
      "[1.5000e+01 1.6000e+01 1.7000e+01 ... 9.9998e+04 9.9999e+04 1.0000e+05]\n"
     ]
    },
    {
     "data": {
      "image/png": "[encoded data removed]",
      "text/plain": [
       "<Figure size 432x288 with 1 Axes>"
      ]
     },
     "metadata": {
      "needs_background": "light"
     },
     "output_type": "display_data"
    }
   ],
   "source": [
    "print(neww)\n",
    "plt.plot(w2, f2)\n",
    "plt.plot(neww, f1)\n",
    "plt.xscale('log')\n",
    "plt.yscale('log')"
   ]
  },
  {
   "cell_type": "code",
   "execution_count": 13,
   "id": "60c172b3-a532-4280-93bb-6e438ef20d6d",
   "metadata": {},
   "outputs": [
    {
     "name": "stdout",
     "output_type": "stream",
     "text": [
      "1.170614652905654e-10 1.164818747891401e-10 1.1649391379101026e-10\n",
      "1.0049757999042725\n",
      "1.004871941212082\n"
     ]
    }
   ],
   "source": [
    "og = np.trapz(f,w)\n",
    "sp = np.trapz(f1, neww)\n",
    "cr =np.trapz(f2,w2)\n",
    "print(og, sp,cr)\n",
    "print(og/sp)\n",
    "print(og/cr)"
   ]
  },
  {
   "cell_type": "code",
   "execution_count": 14,
   "id": "0358bfb9-87d1-49ba-adee-e28a08021e8f",
   "metadata": {},
   "outputs": [
    {
     "data": {
      "text/plain": [
       "('WAVELENGTH',\n",
       " 'WAVELENGTH0',\n",
       " 'WAVELENGTH1',\n",
       " 'FLUX',\n",
       " 'ERROR',\n",
       " 'EXPTIME',\n",
       " 'DQ',\n",
       " 'EXPSTART',\n",
       " 'EXPEND',\n",
       " 'INSTRUMENT',\n",
       " 'NORMFAC',\n",
       " 'BOLOFLUX',\n",
       " 'BOLOERR')"
      ]
     },
     "execution_count": 14,
     "metadata": {},
     "output_type": "execute_result"
    }
   ],
   "source": [
    "data.dtype.names"
   ]
  },
  {
   "cell_type": "code",
   "execution_count": 15,
   "id": "dc634b88-32c5-4732-8805-6850579091b3",
   "metadata": {},
   "outputs": [
    {
     "data": {
      "text/html": [
       "&lt;Column name=&apos;INSTRUMENT&apos; dtype=&apos;int64&apos; length=1178063&gt;\n",
       "<table>\n",
       "<tr><td>2048</td></tr>\n",
       "<tr><td>2048</td></tr>\n",
       "<tr><td>2048</td></tr>\n",
       "<tr><td>2048</td></tr>\n",
       "<tr><td>2048</td></tr>\n",
       "<tr><td>2048</td></tr>\n",
       "<tr><td>2048</td></tr>\n",
       "<tr><td>2048</td></tr>\n",
       "<tr><td>32768</td></tr>\n",
       "<tr><td>32768</td></tr>\n",
       "<tr><td>32768</td></tr>\n",
       "<tr><td>32768</td></tr>\n",
       "<tr><td>...</td></tr>\n",
       "<tr><td>131072</td></tr>\n",
       "<tr><td>131072</td></tr>\n",
       "<tr><td>131072</td></tr>\n",
       "<tr><td>131072</td></tr>\n",
       "<tr><td>131072</td></tr>\n",
       "<tr><td>131072</td></tr>\n",
       "<tr><td>131072</td></tr>\n",
       "<tr><td>131072</td></tr>\n",
       "<tr><td>131072</td></tr>\n",
       "<tr><td>131072</td></tr>\n",
       "<tr><td>131072</td></tr>\n",
       "<tr><td>131072</td></tr>\n",
       "</table>"
      ],
      "text/plain": [
       "<Column name='INSTRUMENT' dtype='int64' length=1178063>\n",
       "  2048\n",
       "  2048\n",
       "  2048\n",
       "  2048\n",
       "  2048\n",
       "  2048\n",
       "  2048\n",
       "  2048\n",
       " 32768\n",
       " 32768\n",
       " 32768\n",
       " 32768\n",
       "   ...\n",
       "131072\n",
       "131072\n",
       "131072\n",
       "131072\n",
       "131072\n",
       "131072\n",
       "131072\n",
       "131072\n",
       "131072\n",
       "131072\n",
       "131072\n",
       "131072"
      ]
     },
     "execution_count": 15,
     "metadata": {},
     "output_type": "execute_result"
    }
   ],
   "source": [
    "data['INSTRUMENT']"
   ]
  },
  {
   "cell_type": "code",
   "execution_count": 16,
   "id": "e830cbf5-2195-4c39-93f2-579971ff8de6",
   "metadata": {},
   "outputs": [],
   "source": [
    "i2 = interpolate.interp1d(w, data['INSTRUMENT'], kind = 'previous')(w2)"
   ]
  },
  {
   "cell_type": "code",
   "execution_count": 17,
   "id": "1f027293-7459-45e0-abee-7e79663951d9",
   "metadata": {},
   "outputs": [
    {
     "name": "stdout",
     "output_type": "stream",
     "text": [
      "79.51000213623047 32768\n",
      "80.0199966430664 32768\n",
      "80.52999877929688 32768\n",
      "81.05000305175781 32768\n",
      "81.58000183105469 32768\n",
      "82.12000274658203 32768\n",
      "82.66000366210938 32768\n",
      "83.20999908447266 32768\n",
      "83.7699966430664 32768\n",
      "84.33000183105469 32768\n",
      "84.9000015258789 32768\n",
      "85.4800033569336 32768\n",
      "86.06999969482422 32768\n",
      "86.66000366210938 32768\n",
      "87.2699966430664 32768\n",
      "87.87999725341797 32768\n",
      "88.5 32768\n",
      "89.12999725341797 32768\n",
      "89.7699966430664 32768\n",
      "90.41999816894531 32768\n",
      "91.08000183105469 32768\n",
      "91.73999786376953 32768\n",
      "92.41999816894531 32768\n",
      "93.11000061035156 32768\n",
      "93.80000305175781 32768\n",
      "94.51000213623047 32768\n",
      "95.2300033569336 32768\n",
      "95.95999908447266 32768\n",
      "96.69999694824219 32768\n",
      "97.44999694824219 32768\n",
      "98.22000122070312 32768\n",
      "98.98999786376953 32768\n",
      "99.77999877929688 32768\n",
      "100.5999984741211 32768\n",
      "101.4000015258789 32768\n",
      "102.19999694824219 32768\n",
      "103.0999984741211 32768\n",
      "103.9000015258789 32768\n",
      "104.80000305175781 32768\n",
      "105.69999694824219 32768\n",
      "106.5999984741211 32768\n",
      "107.5 32768\n",
      "108.4000015258789 32768\n",
      "109.4000015258789 32768\n",
      "110.30000305175781 32768\n",
      "111.30000305175781 32768\n",
      "112.30000305175781 32768\n",
      "113.30000305175781 32768\n",
      "114.4000015258789 32768\n",
      "115.4000015258789 32768\n",
      "116.5 32768\n",
      "117.5999984741211 32768\n",
      "118.69999694824219 32768\n",
      "119.80000305175781 32768\n",
      "119.84699378677912 16777216\n",
      "120.08668777435268 16777216\n",
      "120.32686114990139 16777216\n",
      "120.56751487220119 16777216\n",
      "120.8086499019456 16777216\n",
      "121.05026720174949 16777216\n",
      "121.29236773615298 16777216\n",
      "121.53495247162529 16777216\n",
      "121.77802237656854 16777216\n",
      "122.02157842132168 16777216\n",
      "122.26562157816433 16777216\n",
      "122.51015282132064 16777216\n",
      "122.7551731269633 16777216\n",
      "123.00068347321724 16777216\n",
      "123.24668484016367 16777216\n",
      "123.493178209844 16777216\n",
      "123.74016456626369 16777216\n",
      "123.98764489539622 16777216\n",
      "124.235620185187 16777216\n",
      "124.48409142555738 16777216\n",
      "124.73305960840851 16777216\n",
      "124.98252572762532 16777216\n",
      "125.23249077908058 16777216\n",
      "125.48295576063875 16777216\n",
      "125.73392167216001 16777216\n",
      "125.98538951550434 16777216\n",
      "126.23736029453535 16777216\n",
      "126.48983501512441 16777216\n",
      "126.74281468515467 16777216\n",
      "126.99630031452497 16777216\n",
      "127.25029291515402 16777216\n",
      "127.50479350098433 16777216\n",
      "127.7598030879863 16777216\n",
      "128.01532269416228 16777216\n",
      "128.2713533395506 16777216\n",
      "128.5278960462297 16777216\n",
      "128.78495183832214 16777216\n",
      "129.0425217419988 16777216\n",
      "129.3006067854828 16777216\n",
      "129.55920799905377 16777216\n",
      "129.81832641505187 16777216\n",
      "130.077963067882 16777216\n",
      "130.33811899401778 16777216\n",
      "130.59879523200578 16777216\n",
      "130.85999282246982 16777216\n",
      "131.12171280811475 16777216\n"
     ]
    },
    {
     "data": {
      "text/plain": [
       "[None,\n",
       " None,\n",
       " None,\n",
       " None,\n",
       " None,\n",
       " None,\n",
       " None,\n",
       " None,\n",
       " None,\n",
       " None,\n",
       " None,\n",
       " None,\n",
       " None,\n",
       " None,\n",
       " None,\n",
       " None,\n",
       " None,\n",
       " None,\n",
       " None,\n",
       " None,\n",
       " None,\n",
       " None,\n",
       " None,\n",
       " None,\n",
       " None,\n",
       " None,\n",
       " None,\n",
       " None,\n",
       " None,\n",
       " None,\n",
       " None,\n",
       " None,\n",
       " None,\n",
       " None,\n",
       " None,\n",
       " None,\n",
       " None,\n",
       " None,\n",
       " None,\n",
       " None,\n",
       " None,\n",
       " None,\n",
       " None,\n",
       " None,\n",
       " None,\n",
       " None,\n",
       " None,\n",
       " None,\n",
       " None,\n",
       " None,\n",
       " None,\n",
       " None,\n",
       " None,\n",
       " None,\n",
       " None,\n",
       " None,\n",
       " None,\n",
       " None,\n",
       " None,\n",
       " None,\n",
       " None,\n",
       " None,\n",
       " None,\n",
       " None,\n",
       " None,\n",
       " None,\n",
       " None,\n",
       " None,\n",
       " None,\n",
       " None,\n",
       " None,\n",
       " None,\n",
       " None,\n",
       " None,\n",
       " None,\n",
       " None,\n",
       " None,\n",
       " None,\n",
       " None,\n",
       " None,\n",
       " None,\n",
       " None,\n",
       " None,\n",
       " None,\n",
       " None,\n",
       " None,\n",
       " None,\n",
       " None,\n",
       " None,\n",
       " None,\n",
       " None,\n",
       " None,\n",
       " None,\n",
       " None,\n",
       " None,\n",
       " None,\n",
       " None,\n",
       " None,\n",
       " None,\n",
       " None]"
      ]
     },
     "execution_count": 17,
     "metadata": {},
     "output_type": "execute_result"
    }
   ],
   "source": [
    "[print (wi, ii) for wi, ii in zip(w[100:200], data['INSTRUMENT'][100:200])]"
   ]
  },
  {
   "cell_type": "code",
   "execution_count": 18,
   "id": "7e8f4e3b-e24b-486d-8beb-8cf3018618aa",
   "metadata": {},
   "outputs": [
    {
     "name": "stdout",
     "output_type": "stream",
     "text": [
      "15.0 2048.0\n",
      "16.0 2048.0\n",
      "17.0 2048.0\n",
      "18.0 2048.0\n",
      "19.0 2048.0\n",
      "20.0 2048.0\n",
      "21.0 2048.0\n",
      "22.0 2048.0\n",
      "23.0 2048.0\n",
      "24.0 2048.0\n",
      "25.0 2048.0\n",
      "26.0 2048.0\n",
      "27.0 2048.0\n",
      "28.0 2048.0\n",
      "29.0 2048.0\n",
      "30.0 2048.0\n",
      "31.0 2048.0\n",
      "32.0 2048.0\n",
      "33.0 2048.0\n",
      "34.0 2048.0\n",
      "35.0 2048.0\n",
      "36.0 2048.0\n",
      "37.0 2048.0\n",
      "38.0 2048.0\n",
      "39.0 2048.0\n",
      "40.0 2048.0\n",
      "41.0 2048.0\n",
      "42.0 2048.0\n",
      "43.0 2048.0\n",
      "44.0 2048.0\n",
      "45.0 2048.0\n",
      "46.0 2048.0\n",
      "47.0 2048.0\n",
      "48.0 2048.0\n",
      "49.0 2048.0\n",
      "50.0 2048.0\n",
      "51.0 32768.0\n",
      "52.0 32768.0\n",
      "53.0 32768.0\n",
      "54.0 32768.0\n",
      "55.0 32768.0\n",
      "56.0 32768.0\n",
      "57.0 32768.0\n",
      "58.0 32768.0\n",
      "59.0 32768.0\n",
      "60.0 32768.0\n",
      "61.0 32768.0\n",
      "62.0 32768.0\n",
      "63.0 32768.0\n",
      "64.0 32768.0\n"
     ]
    },
    {
     "data": {
      "text/plain": [
       "[None,\n",
       " None,\n",
       " None,\n",
       " None,\n",
       " None,\n",
       " None,\n",
       " None,\n",
       " None,\n",
       " None,\n",
       " None,\n",
       " None,\n",
       " None,\n",
       " None,\n",
       " None,\n",
       " None,\n",
       " None,\n",
       " None,\n",
       " None,\n",
       " None,\n",
       " None,\n",
       " None,\n",
       " None,\n",
       " None,\n",
       " None,\n",
       " None,\n",
       " None,\n",
       " None,\n",
       " None,\n",
       " None,\n",
       " None,\n",
       " None,\n",
       " None,\n",
       " None,\n",
       " None,\n",
       " None,\n",
       " None,\n",
       " None,\n",
       " None,\n",
       " None,\n",
       " None,\n",
       " None,\n",
       " None,\n",
       " None,\n",
       " None,\n",
       " None,\n",
       " None,\n",
       " None,\n",
       " None,\n",
       " None,\n",
       " None]"
      ]
     },
     "execution_count": 18,
     "metadata": {},
     "output_type": "execute_result"
    }
   ],
   "source": [
    "[print (wi, ii) for wi, ii in zip(w2[:50], i2[:50])]"
   ]
  },
  {
   "cell_type": "code",
   "execution_count": 19,
   "id": "98b4debd-0a6f-4b4e-8691-3c990f43fa00",
   "metadata": {},
   "outputs": [],
   "source": [
    "for i in range(len(i2)-1):\n",
    "    if i2[i] != i2[i+1]:\n",
    "        i2[i] = i2[i] + i2[i+1]"
   ]
  },
  {
   "cell_type": "code",
   "execution_count": 20,
   "id": "004e30cb-7afb-41fc-831f-5f37cb1829e3",
   "metadata": {},
   "outputs": [
    {
     "name": "stdout",
     "output_type": "stream",
     "text": [
      "115.0 32768.0\n",
      "116.0 32768.0\n",
      "117.0 32768.0\n",
      "118.0 32768.0\n",
      "119.0 16809984.0\n",
      "120.0 16777216.0\n",
      "121.0 16777216.0\n",
      "122.0 16777216.0\n",
      "123.0 16777216.0\n",
      "124.0 16777216.0\n",
      "125.0 16777216.0\n",
      "126.0 16777216.0\n",
      "127.0 16777216.0\n",
      "128.0 16777216.0\n",
      "129.0 16777216.0\n",
      "130.0 16777216.0\n",
      "131.0 16777216.0\n",
      "132.0 16777216.0\n",
      "133.0 16777216.0\n",
      "134.0 16777216.0\n",
      "135.0 16777216.0\n",
      "136.0 16777216.0\n",
      "137.0 16777216.0\n",
      "138.0 16777216.0\n",
      "139.0 16777216.0\n",
      "140.0 16777216.0\n",
      "141.0 16777216.0\n",
      "142.0 16777216.0\n",
      "143.0 16777216.0\n",
      "144.0 16777216.0\n",
      "145.0 16777216.0\n",
      "146.0 16777216.0\n",
      "147.0 16777216.0\n",
      "148.0 16777216.0\n",
      "149.0 16777216.0\n",
      "150.0 16777216.0\n",
      "151.0 16777216.0\n",
      "152.0 16777216.0\n",
      "153.0 16777216.0\n",
      "154.0 16777216.0\n",
      "155.0 16777216.0\n",
      "156.0 16777216.0\n",
      "157.0 16777216.0\n",
      "158.0 16777216.0\n",
      "159.0 16777216.0\n",
      "160.0 16777216.0\n",
      "161.0 16777216.0\n",
      "162.0 16777216.0\n",
      "163.0 16777216.0\n",
      "164.0 16777216.0\n",
      "165.0 16777216.0\n",
      "166.0 16777216.0\n",
      "167.0 16777216.0\n",
      "168.0 16777216.0\n",
      "169.0 16777216.0\n",
      "170.0 16777216.0\n",
      "171.0 16777216.0\n",
      "172.0 16777216.0\n",
      "173.0 16777216.0\n",
      "174.0 16777216.0\n",
      "175.0 16777216.0\n",
      "176.0 16777216.0\n",
      "177.0 16777216.0\n",
      "178.0 16777216.0\n",
      "179.0 16777216.0\n",
      "180.0 16777216.0\n",
      "181.0 16777216.0\n",
      "182.0 16777216.0\n",
      "183.0 16777216.0\n",
      "184.0 16777216.0\n",
      "185.0 16777216.0\n",
      "186.0 16777216.0\n",
      "187.0 16777216.0\n",
      "188.0 16777216.0\n",
      "189.0 16777216.0\n",
      "190.0 16777216.0\n",
      "191.0 16777216.0\n",
      "192.0 16777216.0\n",
      "193.0 16777216.0\n",
      "194.0 16777216.0\n",
      "195.0 16777216.0\n",
      "196.0 16777216.0\n",
      "197.0 16777216.0\n",
      "198.0 16777216.0\n",
      "199.0 16777216.0\n",
      "200.0 16777216.0\n",
      "201.0 16777216.0\n",
      "202.0 16777216.0\n",
      "203.0 16777216.0\n",
      "204.0 16777216.0\n",
      "205.0 16777216.0\n",
      "206.0 16777216.0\n",
      "207.0 16777216.0\n",
      "208.0 16777216.0\n",
      "209.0 16777216.0\n",
      "210.0 16777216.0\n",
      "211.0 16777216.0\n",
      "212.0 16777216.0\n",
      "213.0 16777216.0\n",
      "214.0 16777216.0\n"
     ]
    },
    {
     "data": {
      "text/plain": [
       "[None,\n",
       " None,\n",
       " None,\n",
       " None,\n",
       " None,\n",
       " None,\n",
       " None,\n",
       " None,\n",
       " None,\n",
       " None,\n",
       " None,\n",
       " None,\n",
       " None,\n",
       " None,\n",
       " None,\n",
       " None,\n",
       " None,\n",
       " None,\n",
       " None,\n",
       " None,\n",
       " None,\n",
       " None,\n",
       " None,\n",
       " None,\n",
       " None,\n",
       " None,\n",
       " None,\n",
       " None,\n",
       " None,\n",
       " None,\n",
       " None,\n",
       " None,\n",
       " None,\n",
       " None,\n",
       " None,\n",
       " None,\n",
       " None,\n",
       " None,\n",
       " None,\n",
       " None,\n",
       " None,\n",
       " None,\n",
       " None,\n",
       " None,\n",
       " None,\n",
       " None,\n",
       " None,\n",
       " None,\n",
       " None,\n",
       " None,\n",
       " None,\n",
       " None,\n",
       " None,\n",
       " None,\n",
       " None,\n",
       " None,\n",
       " None,\n",
       " None,\n",
       " None,\n",
       " None,\n",
       " None,\n",
       " None,\n",
       " None,\n",
       " None,\n",
       " None,\n",
       " None,\n",
       " None,\n",
       " None,\n",
       " None,\n",
       " None,\n",
       " None,\n",
       " None,\n",
       " None,\n",
       " None,\n",
       " None,\n",
       " None,\n",
       " None,\n",
       " None,\n",
       " None,\n",
       " None,\n",
       " None,\n",
       " None,\n",
       " None,\n",
       " None,\n",
       " None,\n",
       " None,\n",
       " None,\n",
       " None,\n",
       " None,\n",
       " None,\n",
       " None,\n",
       " None,\n",
       " None,\n",
       " None,\n",
       " None,\n",
       " None,\n",
       " None,\n",
       " None,\n",
       " None,\n",
       " None]"
      ]
     },
     "execution_count": 20,
     "metadata": {},
     "output_type": "execute_result"
    }
   ],
   "source": [
    "[print (wi, ii) for wi, ii in zip(w2[100:200], i2[100:200])]"
   ]
  },
  {
   "cell_type": "code",
   "execution_count": 21,
   "id": "0fe15294-8f0d-44d7-9953-0ae640cd2101",
   "metadata": {},
   "outputs": [
    {
     "name": "stdout",
     "output_type": "stream",
     "text": [
      "[200. 200. 170.]\n"
     ]
    }
   ],
   "source": [
    "a = [200, 200, 200, 150]\n",
    "b = [1, 2, 3,4]\n",
    "c = [1.2, 2.4, 3.6]\n",
    "d = interpolate.interp1d(b, a, fill_value='extrapolate')(c)\n",
    "print(d)"
   ]
  },
  {
   "cell_type": "code",
   "execution_count": 22,
   "id": "33f1859e-6b13-4f52-b1bd-dd7cb835a19a",
   "metadata": {},
   "outputs": [
    {
     "data": {
      "image/png": "[encoded data removed]",
      "text/plain": [
       "<Figure size 432x288 with 1 Axes>"
      ]
     },
     "metadata": {
      "needs_background": "light"
     },
     "output_type": "display_data"
    }
   ],
   "source": [
    "plt.plot(data['WAVELENGTH'], data['EXPSTART'])\n",
    "plt.xscale('log')"
   ]
  },
  {
   "cell_type": "code",
   "execution_count": 23,
   "id": "a626eba9-d586-4e3b-988e-b19ba3374f55",
   "metadata": {},
   "outputs": [
    {
     "name": "stdout",
     "output_type": "stream",
     "text": [
      "[30. 25. 25. 25. 25. 25. 25. 15. 15. 15.]\n",
      "[30. 30. 25. 25. 25. 25. 25. 25. 15. 15.]\n",
      "[30. 25. 25. 25. 25. 25. 25. 15. 15. 15.]\n",
      "[30. 30. 25. 25. 25. 25. 25. 25. 15. 15.]\n",
      "[30. 25. 25. 25. 25. 25. 25. 15. 15. 15.]\n"
     ]
    }
   ],
   "source": [
    "x1 = np.arange(1, 11, 0.1)\n",
    "x2 = np.arange(1, 11, 1)\n",
    "y1 = np.hstack((np.full(10, 30), np.full(60, 25), np.full(30, 15)))\n",
    "up = interpolate.interp1d(x1, y1, kind='next')(x2)\n",
    "down = interpolate.interp1d(x1, y1, kind='previous')(x2)\n",
    "print(up)\n",
    "print(down)\n",
    "print(np.min([up, down], axis=0))\n",
    "print(np.max([up, down], axis=0))\n",
    "print(interpolate.interp1d(x1, y1)(x2))"
   ]
  },
  {
   "cell_type": "code",
   "execution_count": 24,
   "id": "dd89a729-2af6-42d6-99f4-4842369775ab",
   "metadata": {},
   "outputs": [],
   "source": [
    "# data['FLUX']"
   ]
  },
  {
   "cell_type": "code",
   "execution_count": 51,
   "id": "679665d7-d4af-43b3-8345-3114fdc3f933",
   "metadata": {},
   "outputs": [],
   "source": [
    "def sed_to_const_res(sed_table, res=1, start_cut=0, end_cut = 1e5):\n",
    "    \"\"\"\n",
    "    Rebins an SED to a wavelength grid with a bin size of res, default = 1A\n",
    "    \"\"\"\n",
    "    \n",
    "    #wavelength \n",
    "    start, end= mt.ceil(sed_table['WAVELENGTH'][0]), mt.floor(sed_table['WAVELENGTH'][-1])\n",
    "    if start < start_cut: #cut MM SEDs down to 1e5 A\n",
    "        start = start_cut\n",
    "    if end > end_cut:\n",
    "        end = end_cut \n",
    "    \n",
    "    new_wavelength = np.arange(start,end+res, res)\n",
    "    new_w0 = new_wavelength - (0.5 * res)\n",
    "    new_w1 = new_wavelength + (0.5 * res)\n",
    "\n",
    "    #flux\n",
    "    new_wavelength, new_flux = resample.bintogrid(sed_table['WAVELENGTH'], sed_table['FLUX'], newx=new_wavelength)\n",
    "    \n",
    "    #error\n",
    "    new_error =  interpolate.interp1d(sed_table['WAVELENGTH'], sed_table['ERROR'])(new_wavelength)\n",
    "    \n",
    "    #exptime - linear extrapolation is similar to averaged to bin widths\n",
    "    new_exptime = interpolate.interp1d(sed_table['WAVELENGTH'], sed_table['EXPTIME'])(new_wavelength)\n",
    "    \n",
    "    #dq - interploate, then look for unusual values and correct them, summing if the values to either side are different.\n",
    "   \n",
    "    new_dq = interpolate.interp1d(sed_table['WAVELENGTH'], sed_table['DQ'], kind='previous')(new_wavelength)\n",
    "    new_dq = new_dq.astype(int)\n",
    "    \n",
    "    #expstart - minumum expstart in each bin\n",
    "    startups = interpolate.interp1d(sed_table['WAVELENGTH'], sed_table['EXPSTART'], kind='next')(new_wavelength)\n",
    "    startdowns = interpolate.interp1d(sed_table['WAVELENGTH'], sed_table['EXPSTART'], kind='previous')(new_wavelength)\n",
    "    new_expstart = np.min([startups, startdowns], axis=0)\n",
    "    \n",
    "    #expends - maximum expend in each bin\n",
    "    endups = interpolate.interp1d(sed_table['WAVELENGTH'], sed_table['EXPEND'], kind='next')(new_wavelength)\n",
    "    enddowns = interpolate.interp1d(sed_table['WAVELENGTH'], sed_table['EXPEND'], kind='previous')(new_wavelength)\n",
    "    new_expend = np.max([endups, enddowns], axis=0)\n",
    "    \n",
    "    #instrument - as dqs\n",
    "    new_instrument = interpolate.interp1d(sed_table['WAVELENGTH'], sed_table['INSTRUMENT'], kind='previous')(new_wavelength)\n",
    "    new_instrument = new_instrument.astype(int)\n",
    "    \n",
    "    #dq and instrument loop\n",
    "    for i in range(len(new_wavelength))[1:-1]:\n",
    "        if new_dq[i] != new_dq[i+1]:\n",
    "            new_dq[i] = new_dq[i] + new_dq[i+1]\n",
    "        if new_instrument[i] != new_instrument[i+1]:\n",
    "            new_instrument[i] = new_instrument[i] + new_instrument[i+1]\n",
    "    \n",
    "    #normfac - linear extrapolation\n",
    "    new_normfac = interpolate.interp1d(sed_table['WAVELENGTH'], sed_table['NORMFAC'])(new_wavelength)\n",
    "    \n",
    "    #boloflux -use original boloflux for consitency\n",
    "    bolo_int = sed_table.meta['BOLOFLUX']*(u.erg/u.s/u.cm**2)\n",
    "    new_boloflux = (new_flux/bolo_int).value\n",
    "    new_boloerr = (new_error/bolo_int).value\n",
    "    \n",
    "\n",
    "    names = sed_table.dtype.names\n",
    "    new_sed_table = Table([new_wavelength*u.AA, new_w0*u.AA, new_w1*u.AA, new_flux*u.erg/u.s/u.cm**2/u.AA, new_error*u.erg/u.s/u.cm**2/u.AA, new_exptime*u.s, \n",
    "                           new_dq,new_expstart*cds.MJD, new_expend*cds.MJD, new_instrument, new_normfac, new_boloflux*(1/u.AA), new_boloerr*(1/u.AA)], names=names, meta= sed_table.meta)\n",
    "    return new_sed_table\n",
    "          \n",
    "data1a = sed_to_const_res(data)"
   ]
  },
  {
   "cell_type": "code",
   "execution_count": 38,
   "id": "ba858e3a-0569-4937-bc50-575be8db23a4",
   "metadata": {},
   "outputs": [
    {
     "data": {
      "text/html": [
       "<i>Table length=99986</i>\n",
       "<table id=\"table139725189347480\" class=\"table-striped table-bordered table-condensed\">\n",
       "<thead><tr><th>WAVELENGTH</th><th>WAVELENGTH0</th><th>WAVELENGTH1</th><th>FLUX</th><th>ERROR</th><th>EXPTIME</th><th>DQ</th><th>EXPSTART</th><th>EXPEND</th><th>INSTRUMENT</th><th>NORMFAC</th><th>BOLOFLUX</th><th>BOLOERR</th></tr></thead>\n",
       "<thead><tr><th>Angstrom</th><th>Angstrom</th><th>Angstrom</th><th>erg / (Angstrom cm2 s)</th><th>erg / (Angstrom cm2 s)</th><th>s</th><th></th><th>MJD</th><th>MJD</th><th></th><th></th><th>1 / Angstrom</th><th>1 / Angstrom</th></tr></thead>\n",
       "<thead><tr><th>float64</th><th>float64</th><th>float64</th><th>float64</th><th>float64</th><th>float64</th><th>int64</th><th>float64</th><th>float64</th><th>int64</th><th>float64</th><th>float64</th><th>float64</th></tr></thead>\n",
       "<tr><td>15.0</td><td>14.5</td><td>15.5</td><td>8.531023425328178e-16</td><td>9.669626883006534e-17</td><td>0.0</td><td>0</td><td>0.0</td><td>0.0</td><td>2048</td><td>1.0</td><td>7.2876444901426816e-06</td><td>8.260298860094535e-07</td></tr>\n",
       "<tr><td>16.0</td><td>15.5</td><td>16.5</td><td>8.93218886301558e-16</td><td>1.7808785512825142e-16</td><td>0.0</td><td>0</td><td>0.0</td><td>0.0</td><td>2048</td><td>1.0</td><td>7.630340898983665e-06</td><td>1.5213192034305113e-06</td></tr>\n",
       "<tr><td>17.0</td><td>16.5</td><td>17.5</td><td>7.257597991245535e-16</td><td>3.737463900878686e-16</td><td>0.0</td><td>0</td><td>0.0</td><td>0.0</td><td>2048</td><td>1.0</td><td>6.199818166662282e-06</td><td>3.1927363044719277e-06</td></tr>\n",
       "<tr><td>18.0</td><td>17.5</td><td>18.5</td><td>7.257597991245541e-16</td><td>5.359092891551813e-16</td><td>0.0</td><td>0</td><td>0.0</td><td>0.0</td><td>2048</td><td>1.0</td><td>6.199818166662287e-06</td><td>4.5780162398016135e-06</td></tr>\n",
       "<tr><td>19.0</td><td>18.5</td><td>19.5</td><td>6.71019570353574e-16</td><td>3.9661274294398645e-16</td><td>0.0</td><td>0</td><td>0.0</td><td>0.0</td><td>2048</td><td>1.0</td><td>5.732198624782249e-06</td><td>3.3880725989507286e-06</td></tr>\n",
       "<tr><td>20.0</td><td>19.5</td><td>20.5</td><td>5.080094394838647e-16</td><td>2.573161967327915e-16</td><td>0.0</td><td>0</td><td>0.0</td><td>0.0</td><td>2048</td><td>1.0</td><td>4.339681194173535e-06</td><td>2.198128958099843e-06</td></tr>\n",
       "<tr><td>21.0</td><td>20.5</td><td>21.5</td><td>5.080094394838652e-16</td><td>1.1801965052159656e-16</td><td>0.0</td><td>0</td><td>0.0</td><td>0.0</td><td>2048</td><td>1.0</td><td>4.33968119417354e-06</td><td>1.008185317248958e-06</td></tr>\n",
       "<tr><td>22.0</td><td>21.5</td><td>22.5</td><td>5.079595286452045e-16</td><td>8.164223413611932e-17</td><td>0.0</td><td>0</td><td>0.0</td><td>0.0</td><td>2048</td><td>1.0</td><td>4.33925482979704e-06</td><td>6.974304817855316e-07</td></tr>\n",
       "<tr><td>23.0</td><td>22.5</td><td>23.5</td><td>5.071933761787455e-16</td><td>8.333088568330723e-17</td><td>0.0</td><td>0</td><td>0.0</td><td>0.0</td><td>2048</td><td>1.0</td><td>4.332709956430239e-06</td><td>7.118558227207096e-07</td></tr>\n",
       "<tr><td>...</td><td>...</td><td>...</td><td>...</td><td>...</td><td>...</td><td>...</td><td>...</td><td>...</td><td>...</td><td>...</td><td>...</td><td>...</td></tr>\n",
       "<tr><td>99991.0</td><td>99990.5</td><td>99991.5</td><td>1.6593164712450696e-17</td><td>0.0</td><td>0.0</td><td>0</td><td>0.0</td><td>0.0</td><td>131072</td><td>4.348392303110102e-20</td><td>1.4174745439298738e-07</td><td>0.0</td></tr>\n",
       "<tr><td>99992.0</td><td>99991.5</td><td>99992.5</td><td>1.7629528962160727e-17</td><td>0.0</td><td>0.0</td><td>0</td><td>0.0</td><td>0.0</td><td>131072</td><td>4.348392303110102e-20</td><td>1.5060061753371527e-07</td><td>0.0</td></tr>\n",
       "<tr><td>99993.0</td><td>99992.5</td><td>99993.5</td><td>1.7628189963544157e-17</td><td>0.0</td><td>0.0</td><td>0</td><td>0.0</td><td>0.0</td><td>131072</td><td>4.348392303110102e-20</td><td>1.5058917911020633e-07</td><td>0.0</td></tr>\n",
       "<tr><td>99994.0</td><td>99993.5</td><td>99994.5</td><td>1.7652744820027794e-17</td><td>0.0</td><td>0.0</td><td>0</td><td>0.0</td><td>0.0</td><td>131072</td><td>4.348392303110102e-20</td><td>1.5079893948201349e-07</td><td>0.0</td></tr>\n",
       "<tr><td>99995.0</td><td>99994.5</td><td>99995.5</td><td>1.8296774823662086e-17</td><td>0.0</td><td>0.0</td><td>0</td><td>0.0</td><td>0.0</td><td>131072</td><td>4.348392303110102e-20</td><td>1.5630057917220278e-07</td><td>0.0</td></tr>\n",
       "<tr><td>99996.0</td><td>99995.5</td><td>99996.5</td><td>1.8674534974525253e-17</td><td>0.0</td><td>0.0</td><td>0</td><td>0.0</td><td>0.0</td><td>131072</td><td>4.348392303110102e-20</td><td>1.5952760311151113e-07</td><td>0.0</td></tr>\n",
       "<tr><td>99997.0</td><td>99996.5</td><td>99997.5</td><td>1.8567806962014833e-17</td><td>0.0</td><td>0.0</td><td>0</td><td>0.0</td><td>0.0</td><td>131072</td><td>4.348392303110102e-20</td><td>1.586158768466339e-07</td><td>0.0</td></tr>\n",
       "<tr><td>99998.0</td><td>99997.5</td><td>99998.5</td><td>1.7684081109968293e-17</td><td>0.0</td><td>0.0</td><td>0</td><td>0.0</td><td>0.0</td><td>131072</td><td>4.348392303110102e-20</td><td>1.5106663039005668e-07</td><td>0.0</td></tr>\n",
       "<tr><td>99999.0</td><td>99998.5</td><td>99999.5</td><td>1.7049682797386568e-17</td><td>0.0</td><td>0.0</td><td>0</td><td>0.0</td><td>0.0</td><td>131072</td><td>4.348392303110102e-20</td><td>1.4564726962084842e-07</td><td>0.0</td></tr>\n",
       "<tr><td>100000.0</td><td>99999.5</td><td>100000.5</td><td>1.831252206777841e-17</td><td>0.0</td><td>0.0</td><td>0</td><td>0.0</td><td>0.0</td><td>131072</td><td>4.348392303110102e-20</td><td>1.5643510033232356e-07</td><td>0.0</td></tr>\n",
       "</table>"
      ],
      "text/plain": [
       "<Table length=99986>\n",
       "WAVELENGTH WAVELENGTH0 ...        BOLOFLUX               BOLOERR        \n",
       " Angstrom    Angstrom  ...      1 / Angstrom           1 / Angstrom     \n",
       " float64     float64   ...        float64                float64        \n",
       "---------- ----------- ... ---------------------- ----------------------\n",
       "      15.0        14.5 ... 7.2876444901426816e-06  8.260298860094535e-07\n",
       "      16.0        15.5 ...  7.630340898983665e-06 1.5213192034305113e-06\n",
       "      17.0        16.5 ...  6.199818166662282e-06 3.1927363044719277e-06\n",
       "      18.0        17.5 ...  6.199818166662287e-06 4.5780162398016135e-06\n",
       "      19.0        18.5 ...  5.732198624782249e-06 3.3880725989507286e-06\n",
       "      20.0        19.5 ...  4.339681194173535e-06  2.198128958099843e-06\n",
       "      21.0        20.5 ...   4.33968119417354e-06  1.008185317248958e-06\n",
       "      22.0        21.5 ...   4.33925482979704e-06  6.974304817855316e-07\n",
       "      23.0        22.5 ...  4.332709956430239e-06  7.118558227207096e-07\n",
       "       ...         ... ...                    ...                    ...\n",
       "   99991.0     99990.5 ... 1.4174745439298738e-07                    0.0\n",
       "   99992.0     99991.5 ... 1.5060061753371527e-07                    0.0\n",
       "   99993.0     99992.5 ... 1.5058917911020633e-07                    0.0\n",
       "   99994.0     99993.5 ... 1.5079893948201349e-07                    0.0\n",
       "   99995.0     99994.5 ... 1.5630057917220278e-07                    0.0\n",
       "   99996.0     99995.5 ... 1.5952760311151113e-07                    0.0\n",
       "   99997.0     99996.5 ...  1.586158768466339e-07                    0.0\n",
       "   99998.0     99997.5 ... 1.5106663039005668e-07                    0.0\n",
       "   99999.0     99998.5 ... 1.4564726962084842e-07                    0.0\n",
       "  100000.0     99999.5 ... 1.5643510033232356e-07                    0.0"
      ]
     },
     "execution_count": 38,
     "metadata": {},
     "output_type": "execute_result"
    }
   ],
   "source": [
    "data1a"
   ]
  },
  {
   "cell_type": "code",
   "execution_count": 27,
   "id": "49ab3fe4-aa84-462e-898a-81eb96b4f5df",
   "metadata": {},
   "outputs": [
    {
     "data": {
      "text/plain": [
       "<matplotlib.lines.Line2D at 0x7f141150fa58>"
      ]
     },
     "execution_count": 27,
     "metadata": {},
     "output_type": "execute_result"
    },
    {
     "data": {
      "image/png": "[encoded data removed]",
      "text/plain": [
       "<Figure size 432x288 with 1 Axes>"
      ]
     },
     "metadata": {
      "needs_background": "light"
     },
     "output_type": "display_data"
    }
   ],
   "source": [
    "plt.plot(data['WAVELENGTH'][1:], np.diff(data['WAVELENGTH']))\n",
    "plt.yscale('log')\n",
    "plt.xscale('log')\n",
    "plt.axhline(1)"
   ]
  },
  {
   "cell_type": "code",
   "execution_count": 52,
   "id": "4c513338-06ff-4481-bb6c-49f33969cd8a",
   "metadata": {},
   "outputs": [
    {
     "data": {
      "text/plain": [
       "(1e-19, 2.436952466244968e-11)"
      ]
     },
     "execution_count": 52,
     "metadata": {},
     "output_type": "execute_result"
    },
    {
     "data": {
      "image/png": "[encoded data removed]",
      "text/plain": [
       "<Figure size 1008x360 with 1 Axes>"
      ]
     },
     "metadata": {
      "needs_background": "light"
     },
     "output_type": "display_data"
    }
   ],
   "source": [
    "plt.plot(data['WAVELENGTH'], data['FLUX'])\n",
    "plt.plot(data1a['WAVELENGTH'], data1a['FLUX'])\n",
    "plt.yscale('log')\n",
    "plt.xscale('log')\n",
    "plt.xlim(10,1e5)\n",
    "plt.ylim(1e-19)"
   ]
  },
  {
   "cell_type": "code",
   "execution_count": 53,
   "id": "82b08516-1220-4d76-89d9-113f8354e20d",
   "metadata": {},
   "outputs": [
    {
     "name": "stdout",
     "output_type": "stream",
     "text": [
      "INSTRUMENT\n",
      "----------\n",
      "        16\n",
      "       256\n",
      "      8192\n",
      "     16384\n",
      "     32768\n",
      "     65536\n",
      "    131072\n",
      "    524288\n",
      "INSTRUMENT\n",
      "----------\n",
      "        16\n",
      "       256\n",
      "      8192\n",
      "     16384\n",
      "     16400\n",
      "     32768\n",
      "     40960\n",
      "     49152\n",
      "     65536\n",
      "     65552\n",
      "    131072\n",
      "    131328\n",
      "    524288\n",
      "    524304\n",
      "    524544\n",
      "   DQ  \n",
      "-------\n",
      "    0.0\n",
      "   16.0\n",
      "   32.0\n",
      "   48.0\n",
      "  256.0\n",
      "  288.0\n",
      "  500.0\n",
      "  512.0\n",
      " 1024.0\n",
      " 1040.0\n",
      "    ...\n",
      "17424.0\n",
      "18432.0\n",
      "18448.0\n",
      "18464.0\n",
      "24576.0\n",
      "24592.0\n",
      "24608.0\n",
      "26624.0\n",
      "32784.0\n",
      "40960.0\n",
      "40992.0\n",
      "Length = 34 rows\n",
      "  DQ \n",
      "-----\n",
      "    0\n",
      "   16\n",
      "   32\n",
      "   48\n",
      "   80\n",
      "  256\n",
      "  272\n",
      "  288\n",
      "  304\n",
      "  500\n",
      "  ...\n",
      "36880\n",
      "36896\n",
      "40960\n",
      "40976\n",
      "40992\n",
      "41008\n",
      "45056\n",
      "49168\n",
      "49184\n",
      "49200\n",
      "57344\n",
      "Length = 73 rows\n"
     ]
    }
   ],
   "source": [
    "print(np.unique(data['INSTRUMENT']))\n",
    "print(np.unique(data1a['INSTRUMENT']))\n",
    "print(np.unique(data['DQ']))\n",
    "print(np.unique(data1a['DQ']))"
   ]
  },
  {
   "cell_type": "code",
   "execution_count": 30,
   "id": "a88c1e4f-8a34-4962-ba38-5320b32aa996",
   "metadata": {},
   "outputs": [
    {
     "data": {
      "text/plain": [
       "(100.0, 120.0)"
      ]
     },
     "execution_count": 30,
     "metadata": {},
     "output_type": "execute_result"
    },
    {
     "data": {
      "image/png": "[encoded data removed]",
      "text/plain": [
       "<Figure size 432x288 with 1 Axes>"
      ]
     },
     "metadata": {
      "needs_background": "light"
     },
     "output_type": "display_data"
    }
   ],
   "source": [
    "plt.step(data1a['WAVELENGTH'], data1a['INSTRUMENT'])\n",
    "# plt.xscale('log')\n",
    "# plt.yscale('log')\n",
    "plt.xlim(100, 120)\n",
    "# plt.ylim(1000, 40000)"
   ]
  },
  {
   "cell_type": "code",
   "execution_count": 49,
   "id": "c82e320e-4879-47af-b642-fd7b277c0284",
   "metadata": {},
   "outputs": [
    {
     "data": {
      "image/png": "[encoded data removed]",
      "text/plain": [
       "<Figure size 1008x360 with 1 Axes>"
      ]
     },
     "metadata": {
      "needs_background": "light"
     },
     "output_type": "display_data"
    }
   ],
   "source": [
    "plt.step(data1a['WAVELENGTH'], data1a['INSTRUMENT'])\n",
    "plt.xscale('log')\n",
    "plt.yscale('log')"
   ]
  },
  {
   "cell_type": "code",
   "execution_count": null,
   "id": "31e35558-314b-401f-a19f-0faade30c2c2",
   "metadata": {},
   "outputs": [],
   "source": []
  }
 ],
 "metadata": {
  "kernelspec": {
   "display_name": "Python 3",
   "language": "python",
   "name": "python3"
  },
  "language_info": {
   "codemirror_mode": {
    "name": "ipython",
    "version": 3
   },
   "file_extension": ".py",
   "mimetype": "text/x-python",
   "name": "python",
   "nbconvert_exporter": "python",
   "pygments_lexer": "ipython3",
   "version": "3.6.13"
  }
 },
 "nbformat": 4,
 "nbformat_minor": 5
}
