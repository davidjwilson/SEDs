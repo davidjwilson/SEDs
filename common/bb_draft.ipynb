{
 "cells": [
  {
   "cell_type": "markdown",
   "metadata": {},
   "source": [
    "Try to get Parke's bb code working with MM format."
   ]
  },
  {
   "cell_type": "code",
   "execution_count": 1,
   "metadata": {},
   "outputs": [],
   "source": [
    "import numpy as np\n",
    "import matplotlib.pyplot as plt\n",
    "import glob\n",
    "import astropy.io.fits as fits\n",
    "import os\n",
    "from scipy.io.idl import readsav\n",
    "from astropy.table import Table\n",
    "from astropy.io import ascii\n",
    "import astropy.units as u\n",
    "import astropy.constants as const\n",
    "from astropy.modeling import models, fitting\n",
    "from craftroom import resample\n",
    "from scipy.interpolate import interp1d\n",
    "\n",
    "\n",
    "%matplotlib inline\n",
    "from matplotlib import rcParams\n",
    "rcParams[\"figure.figsize\"] = (14, 5)\n",
    "rcParams[\"font.size\"] = 20"
   ]
  },
  {
   "cell_type": "code",
   "execution_count": 42,
   "metadata": {},
   "outputs": [],
   "source": [
    "sed = Table.read('quicksaves/GJ674_basic.ecsv')"
   ]
  },
  {
   "cell_type": "code",
   "execution_count": 43,
   "metadata": {},
   "outputs": [],
   "source": [
    "sed = sed[np.isnan(sed['FLUX'])==False]"
   ]
  },
  {
   "cell_type": "code",
   "execution_count": 8,
   "metadata": {},
   "outputs": [],
   "source": [
    "star = 'gj_674'"
   ]
  },
  {
   "cell_type": "code",
   "execution_count": 22,
   "metadata": {},
   "outputs": [],
   "source": [
    "\"\"\"def blackbody_fit(star):\n",
    "\n",
    "    phx = io.read(db.findfiles('ir', 'phx', star))[0]\n",
    "\n",
    "    # recursively identify relative maxima until there are fewer than N points\n",
    "    N = 10000\n",
    "    keep = np.arange(len(phx))\n",
    "    while len(keep) > N:\n",
    "        temp, = argrelmax(phx['flux'][keep])\n",
    "        keep = keep[temp]\n",
    "\n",
    "    Teff = rc.starprops['Teff_muscles'][star]\n",
    "    efac = const.h * const.c / const.k_B / (Teff * u.K)\n",
    "    efac  = efac.to(u.angstrom).value\n",
    "    w = (phx['w0'] + phx['w1']) / 2.0\n",
    "    w = w[keep]\n",
    "    planck_shape = 1.0/w**5/(np.exp(efac/w) - 1)\n",
    "    y = phx['flux'][keep]\n",
    "\n",
    "    Sfy = np.sum(planck_shape * y)\n",
    "    Sff = np.sum(planck_shape**2)\n",
    "\n",
    "    norm = Sfy/Sff\n",
    "\n",
    "    return lambda w: norm/w**5/(np.exp(efac/w) - 1)\n",
    "\"\"\"\n",
    "from scipy.signal import argrelmax\n",
    "\n",
    "def blackbody_fit(star, phx, Teff):\n",
    "    \"\"\"Return a function that is a blackbody fit to the phoenix spectrum for the star. The fit is to the unnormalized\n",
    "    phoenix spectrum, so the fit function values must be multiplied by the appropriate normalization factor to match\n",
    "    the normalized spectrum.\"\"\"\n",
    "\n",
    "    \n",
    "    # recursively identify relative maxima until there are fewer than N points\n",
    "    N = 10000\n",
    "    keep = np.arange(len(phx))\n",
    "    while len(keep) > N:\n",
    "        temp, = argrelmax(phx['FLUX'][keep])\n",
    "        keep = keep[temp]\n",
    "\n",
    "    efac = const.h * const.c / const.k_B / (Teff * u.K)\n",
    "    efac  = efac.to(u.angstrom).value\n",
    "    #w = (phx['w0'] + phx['w1']) / 2.0\n",
    "    w = phx['WAVELENGTH']\n",
    "    w = w[keep]\n",
    "    planck_shape = 1.0/w**5/(np.exp(efac/w) - 1)\n",
    "    y = phx['FLUX'][keep]\n",
    "\n",
    "    Sfy = np.sum(planck_shape * y)\n",
    "    Sff = np.sum(planck_shape**2)\n",
    "\n",
    "    norm = Sfy/Sff\n",
    "\n",
    "    return lambda w: norm/w**5/(np.exp(efac/w) - 1)\n"
   ]
  },
  {
   "cell_type": "code",
   "execution_count": 11,
   "metadata": {},
   "outputs": [
    {
     "name": "stdout",
     "output_type": "stream",
     "text": [
      "../gj_674/phoenix_repo/3400_4.5_0.0_0.0_phoenix_interpolated.txt\n"
     ]
    }
   ],
   "source": [
    "phx_path = glob.glob('../'+star+'/phoenix_repo/*')[0]\n",
    "print(phx_path)\n",
    "phx = Table.read(phx_path, format='ascii')"
   ]
  },
  {
   "cell_type": "code",
   "execution_count": 12,
   "metadata": {},
   "outputs": [],
   "source": [
    "teff = 3400"
   ]
  },
  {
   "cell_type": "code",
   "execution_count": 23,
   "metadata": {},
   "outputs": [
    {
     "data": {
      "text/plain": [
       "<function __main__.blackbody_fit.<locals>.<lambda>(w)>"
      ]
     },
     "execution_count": 23,
     "metadata": {},
     "output_type": "execute_result"
    }
   ],
   "source": [
    "blackbody_fit(star, phx, teff)"
   ]
  },
  {
   "cell_type": "code",
   "execution_count": 24,
   "metadata": {},
   "outputs": [],
   "source": [
    "def flux_integral(spectbl, wa=None, wb=None, normed=False):\n",
    "    \"\"\"Compute integral of flux from spectbl values. Result will be in erg/s/cm2.\"\"\"\n",
    "    if normed:\n",
    "        if 'normflux' not in spectbl.colnames:\n",
    "            spectbl = add_normflux(spectbl)\n",
    "\n",
    "    assert wa is None or wa >= spectbl['w0'][0]\n",
    "    assert wb is None or wb <= spectbl['w1'][-1]\n",
    "\n",
    "    if hasattr(wa, '__iter__'):\n",
    "        rng = np.asarray(wa)\n",
    "        if rng.size == 2:\n",
    "            wa, wb = rng\n",
    "        elif rng.size > 2:\n",
    "            results = [flux_integral(spectbl, _rng, normed=normed) for _rng in rng]\n",
    "            fluxes, errs = zip(*results)\n",
    "            return np.sum(fluxes), np.quadsum(errs)\n",
    "\n",
    "    if wa is not None:\n",
    "        spectbl = split_exact(spectbl, wa, 'red')\n",
    "    if wb is not None:\n",
    "        spectbl = split_exact(spectbl, wb, 'blue')\n",
    "\n",
    "    dw = spectbl['w1'] - spectbl['w0']\n",
    "\n",
    "    if normed:\n",
    "        return np.sum(spectbl['normflux'] * dw), mnp.quadsum(spectbl['normerr'] * dw)\n",
    "    else:\n",
    "        return np.sum(spectbl['flux'] * dw), mnp.quadsum(spectbl['error'] * dw)\n",
    "\n",
    "\n",
    "\n",
    "\n",
    "def add_normflux(spectbl):\n",
    "    \"\"\"Add columns to the spectbl that are the bolometric-normalized flux and\n",
    "    associated error.\"\"\"\n",
    "    if 'pan' in spectbl.meta['NAME']:\n",
    "        normfac = bolo_integral(spectbl)\n",
    "    else:\n",
    "        normfac = bolo_integral(spectbl.meta['STAR'])\n",
    "    spectbl['normflux'] = spectbl['flux']/normfac\n",
    "    spectbl['normerr'] = spectbl['error']/normfac\n",
    "    return spectbl\n"
   ]
  },
  {
   "cell_type": "code",
   "execution_count": 46,
   "metadata": {},
   "outputs": [],
   "source": [
    "from scipy.integrate import quad\n",
    "\n",
    "def bolo_integral(pan, star, phx, teff,uplim=np.inf):\n",
    "    \n",
    "    fit_unnormed = blackbody_fit(star, phx, teff)\n",
    "    #normfac = pan[-1]['NORMFAC']\n",
    "    normfac = nf\n",
    "\n",
    "    #Ibody = flux_integral(pan)[0]\n",
    "    Ibody = np.trapz(pan['FLUX'], pan['WAVELENGTH'])\n",
    "    print(Ibody)\n",
    "    Itail = normfac*quad(fit_unnormed, pan['WAVELENGTH'][-1], uplim)[0]\n",
    "    print(Itail)\n",
    "    I = Ibody + Itail\n",
    "\n",
    "    return I\n"
   ]
  },
  {
   "cell_type": "code",
   "execution_count": 47,
   "metadata": {},
   "outputs": [
    {
     "name": "stdout",
     "output_type": "stream",
     "text": [
      "2.1752947424938615e-08\n",
      "-2.388942991094093e-08\n"
     ]
    },
    {
     "data": {
      "text/plain": [
       "-2.136482486002314e-09"
      ]
     },
     "execution_count": 47,
     "metadata": {},
     "output_type": "execute_result"
    }
   ],
   "source": [
    "bolo_integral(sed, star, phx, teff, nf)"
   ]
  },
  {
   "cell_type": "code",
   "execution_count": 45,
   "metadata": {},
   "outputs": [
    {
     "name": "stdout",
     "output_type": "stream",
     "text": [
      "2.92594915532614e-26\n"
     ]
    }
   ],
   "source": [
    "nf = fits.getheader('../gj_674/test_files/components/hlsp_muscles_model_phx_gj674_na_v1_component-spec.fits',0)['NORMFAC']\n",
    "print(nf)"
   ]
  },
  {
   "cell_type": "code",
   "execution_count": null,
   "metadata": {},
   "outputs": [],
   "source": []
  }
 ],
 "metadata": {
  "kernelspec": {
   "display_name": "Python 3",
   "language": "python",
   "name": "python3"
  },
  "language_info": {
   "codemirror_mode": {
    "name": "ipython",
    "version": 3
   },
   "file_extension": ".py",
   "mimetype": "text/x-python",
   "name": "python",
   "nbconvert_exporter": "python",
   "pygments_lexer": "ipython3",
   "version": "3.7.4"
  }
 },
 "nbformat": 4,
 "nbformat_minor": 4
}
