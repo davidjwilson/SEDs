{
 "cells": [
  {
   "cell_type": "markdown",
   "metadata": {},
   "source": [
    "Seeing if we can detect continumn by a deep coadd of all the COS spectra."
   ]
  },
  {
   "cell_type": "code",
   "execution_count": 1,
   "metadata": {},
   "outputs": [],
   "source": [
    "import numpy as np\n",
    "import matplotlib.pyplot as plt\n",
    "import astropy.io.fits as fits\n",
    "import os\n",
    "import glob\n",
    "from scipy.interpolate import interp1d\n",
    "from scipy.io.idl import readsav\n",
    "from astropy.table import Table\n",
    "from astropy.io import ascii\n",
    "import astropy.units as u\n",
    "import astropy.constants as const\n",
    "from astropy.modeling import models, fitting\n",
    "from craftroom import resample\n",
    "\n",
    "\n",
    "#matplotlib set up\n",
    "%matplotlib inline\n",
    "from matplotlib import rcParams\n",
    "rcParams[\"figure.figsize\"] = (14, 5)\n",
    "rcParams[\"font.size\"] = 20"
   ]
  },
  {
   "cell_type": "code",
   "execution_count": 7,
   "metadata": {},
   "outputs": [
    {
     "data": {
      "text/plain": [
       "['/media/david/5tb_storage1/muscles/kf_cos/GJ674_COS130M_Mm1_NOSCL_03apr18.sav',\n",
       " '/media/david/5tb_storage1/muscles/kf_cos/GJ849_G130M_Mm1_NOSCL_10june19.sav',\n",
       " '/media/david/5tb_storage1/muscles/kf_cos/GJ163_COS130M_Mm1_NOSCL_10july2019.sav',\n",
       " '/media/david/5tb_storage1/muscles/kf_cos/GJ649_COS130M_NOSCL_Mm1_06mar18.sav',\n",
       " '/media/david/5tb_storage1/muscles/kf_cos/GJ676A_v2_G130M_Mm1_NOSCL_07apr19.sav',\n",
       " '/media/david/5tb_storage1/muscles/kf_cos/GJ699_G130M_NOSCL_Mm1_04mar19.sav',\n",
       " '/media/david/5tb_storage1/muscles/kf_cos/LHS2686_COS130M_Mm1_NOSCL_01june2019.sav',\n",
       " '/media/david/5tb_storage1/muscles/kf_cos/LP_756_18_COS130M_Mm1_NOSCL_10aug19.sav',\n",
       " '/media/david/5tb_storage1/muscles/kf_cos/L_980_5_G130M_Mm1_NOSCL_14mar19.sav']"
      ]
     },
     "execution_count": 7,
     "metadata": {},
     "output_type": "execute_result"
    }
   ],
   "source": [
    "path = '/media/david/5tb_storage1/muscles/kf_cos/'\n",
    "g130ms = glob.glob('{}*130*'.format(path))\n",
    "g130ms = g130ms[:-1] #removing t1\n",
    "g130ms"
   ]
  },
  {
   "cell_type": "code",
   "execution_count": 10,
   "metadata": {},
   "outputs": [
    {
     "name": "stdout",
     "output_type": "stream",
     "text": [
      "1069.0 1361.99836\n",
      "1132.0 1428.99633\n",
      "1132.0 1428.99633\n",
      "1066.0 1361.99933\n",
      "1066.0 1361.99933\n",
      "1066.0 1361.99933\n",
      "1066.0 1366.9943\n",
      "1131.0 1428.99333\n",
      "1132.0 1428.99633\n"
     ]
    },
    {
     "data": {
      "image/png": "[encoded data removed]",
      "text/plain": [
       "<Figure size 1008x360 with 1 Axes>"
      ]
     },
     "metadata": {
      "needs_background": "light"
     },
     "output_type": "display_data"
    }
   ],
   "source": [
    "for sp in g130ms:\n",
    "    data = readsav(sp)\n",
    "    print(data['wave'][0], data['wave'][-1])\n",
    "    plt.plot(data['wave'], data['flux'])"
   ]
  },
  {
   "cell_type": "code",
   "execution_count": null,
   "metadata": {},
   "outputs": [],
   "source": []
  }
 ],
 "metadata": {
  "kernelspec": {
   "display_name": "Python 3",
   "language": "python",
   "name": "python3"
  },
  "language_info": {
   "codemirror_mode": {
    "name": "ipython",
    "version": 3
   },
   "file_extension": ".py",
   "mimetype": "text/x-python",
   "name": "python",
   "nbconvert_exporter": "python",
   "pygments_lexer": "ipython3",
   "version": "3.6.12"
  }
 },
 "nbformat": 4,
 "nbformat_minor": 4
}
