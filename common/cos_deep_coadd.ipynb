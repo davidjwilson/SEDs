{
 "cells": [
  {
   "cell_type": "markdown",
   "id": "74c9f27f",
   "metadata": {},
   "source": [
    "Deep coadds of all of the COS data to see if we can find a continumm."
   ]
  },
  {
   "cell_type": "code",
   "execution_count": 1,
   "id": "55b40c80",
   "metadata": {},
   "outputs": [],
   "source": [
    "import numpy as np\n",
    "import matplotlib.pyplot as plt\n",
    "import astropy.io.fits as fits\n",
    "import os\n",
    "import glob\n",
    "from astropy.table import Table\n",
    "from astropy.io import ascii\n",
    "from astropy.convolution import convolve, Box1DKernel\n",
    "from scipy.interpolate import interp1d\n",
    "\n",
    "import astropy.units as u\n",
    "from astropy import time, coordinates as coord\n",
    "import astropy.constants as const\n",
    "from astropy.modeling import models, fitting\n",
    "from astropy.coordinates import SkyCoord\n",
    "from matplotlib.gridspec import GridSpec\n",
    "from datetime import datetime\n",
    "from mpl_toolkits.axes_grid1.inset_locator import inset_axes\n",
    "\n",
    "from specutils import Spectrum1D\n",
    "from specutils.manipulation import FluxConservingResampler\n",
    "from astropy.nddata import StdDevUncertainty\n",
    "\n",
    "\n",
    "\n",
    "#matplotlib set up\n",
    "%matplotlib inline\n",
    "from matplotlib import rcParams\n",
    "rcParams[\"figure.figsize\"] = (14, 5)\n",
    "rcParams[\"font.size\"] = 20"
   ]
  },
  {
   "cell_type": "markdown",
   "id": "c8d797b1",
   "metadata": {},
   "source": [
    "Test one- deep coadds of the x1ds (with RV shift?). If that looks bad, try the x2ds."
   ]
  },
  {
   "cell_type": "code",
   "execution_count": 25,
   "id": "5875f9bb",
   "metadata": {},
   "outputs": [],
   "source": [
    "def spectra_adder(f_array, e_array, rcs = True):\n",
    "    \"\"\"\n",
    "    Returns a variance-weighted coadd with standard error of the weighted mean (variance weights, scale corrected).\n",
    "    f_array and e_arrays are collections of flux and error arrays, which should have the same lenth and wavelength scale\n",
    "    \"\"\"\n",
    "    weights = 1 / (e_array**2)\n",
    "    flux = np.average(f_array, axis =0, weights = weights)\n",
    "    var = 1 / np.sum(weights, axis=0)\n",
    "    if rcs:\n",
    "        rcs = np.sum((((flux - f_array)**2) * weights), axis=0) / (len(f_array)-1) #reduced chi-squared\n",
    "        error = (var * rcs)**0.5\n",
    "    else:\n",
    "        error = var**0.5\n",
    "    return flux, error\n",
    "\n",
    "\n",
    "def complicated_spectra_adder(f_array, e_array):\n",
    "    flux = []\n",
    "    error = []\n",
    "    print(len(f_array[0]))\n",
    "    for i in range(len(f_array[0])):    \n",
    "        fcol = f_array[:,i]\n",
    "        # print(len(fcol))\n",
    "        ecol = e_array[:,i]\n",
    "        weights = np.zeros(len(fcol))\n",
    "        for j in range(len(fcol)):\n",
    "            if ecol[j] != 0.0:\n",
    "                weights[j] = 1/(ecol[j]**2)\n",
    "        fi = np.sum(fcol*weights)/np.sum(weights)\n",
    "        flux.append(fi)\n",
    "    return flux\n",
    "                \n",
    "            \n",
    "        \n"
   ]
  },
  {
   "cell_type": "code",
   "execution_count": 17,
   "id": "8af32a0f",
   "metadata": {},
   "outputs": [
    {
     "name": "stdout",
     "output_type": "stream",
     "text": [
      "['/media/david/2tb_ext_hd/hddata/mega_muscles/v10_hlsp/GJ1132/hlsp_muscles_hst_cos_gj1132_g130m_v10_component-spec.fits', '/media/david/2tb_ext_hd/hddata/mega_muscles/v10_hlsp/GJ1132/hlsp_muscles_hst_cos_gj1132_g160m_v10_component-spec.fits', '/media/david/2tb_ext_hd/hddata/mega_muscles/v10_hlsp/GJ163/hlsp_muscles_hst_cos_gj163_g130m_v10_component-spec.fits', '/media/david/2tb_ext_hd/hddata/mega_muscles/v10_hlsp/GJ163/hlsp_muscles_hst_cos_gj163_g160m_v10_component-spec.fits', '/media/david/2tb_ext_hd/hddata/mega_muscles/v10_hlsp/GJ649/hlsp_muscles_hst_cos_gj649_g130m_v10_component-spec.fits', '/media/david/2tb_ext_hd/hddata/mega_muscles/v10_hlsp/GJ674/hlsp_muscles_hst_cos_gj674_g130m_v10_component-spec.fits', '/media/david/2tb_ext_hd/hddata/mega_muscles/v10_hlsp/GJ676A/hlsp_muscles_hst_cos_gj676a_g130m_v10_component-spec.fits', '/media/david/2tb_ext_hd/hddata/mega_muscles/v10_hlsp/GJ699/hlsp_muscles_hst_cos_gj699_g130m_v10_component-spec.fits', '/media/david/2tb_ext_hd/hddata/mega_muscles/v10_hlsp/GJ849/hlsp_muscles_hst_cos_gj849_g130m_v10_component-spec.fits', '/media/david/2tb_ext_hd/hddata/mega_muscles/v10_hlsp/GJ849/hlsp_muscles_hst_cos_gj849_g160m_v10_component-spec.fits', '/media/david/2tb_ext_hd/hddata/mega_muscles/v10_hlsp/L-980-5/hlsp_muscles_hst_cos_l-980-5_g130m_v10_component-spec.fits', '/media/david/2tb_ext_hd/hddata/mega_muscles/v10_hlsp/L-980-5/hlsp_muscles_hst_cos_l-980-5_g160m_v10_component-spec.fits', '/media/david/2tb_ext_hd/hddata/mega_muscles/v10_hlsp/LHS-2686/hlsp_muscles_hst_cos_lhs-2686_g130m_v10_component-spec.fits', '/media/david/2tb_ext_hd/hddata/mega_muscles/v10_hlsp/TRAPPIST-1/hlsp_muscles_hst_cos_trappist-1_g130m_v10_component-spec.fits', '/media/david/2tb_ext_hd/hddata/mega_muscles/v10_hlsp/TRAPPIST-1/hlsp_muscles_hst_cos_trappist-1_g160m_v10_component-spec.fits']\n"
     ]
    }
   ],
   "source": [
    "# path ='/media/david/5tb_storage1/muscles/all_cos/'\n",
    "# x1ds = glob.glob('{}*x1dsum.fits'.format(path))\n",
    "# flts = glob.glob('{}*flt*.fits'.format(path))\n",
    "path = '/media/david/2tb_ext_hd/hddata/mega_muscles/v10_hlsp/'\n",
    "cosspecs = glob.glob('{}*/*cos*g1*.fits'.format(path))\n",
    "print(cosspecs)\n",
    "# print(flts)"
   ]
  },
  {
   "cell_type": "code",
   "execution_count": null,
   "id": "2879a3c2-3e93-4b41-ae57-5db006414eb6",
   "metadata": {},
   "outputs": [],
   "source": []
  },
  {
   "cell_type": "code",
   "execution_count": 18,
   "id": "4cca8e5d",
   "metadata": {},
   "outputs": [],
   "source": [
    "\n",
    "\n",
    "# smooth = 5\n",
    "# for w, f, e in zip([wa, wb],[fa, fb],[ea, eb]):\n",
    "#     f = convolve(f,Box1DKernel(smooth))\n",
    "#     e = convolve(e,Box1DKernel(smooth))/(smooth**0.5)\n",
    "#     plt.plot(w, f)\n",
    "#     plt.plot(w, e)\n",
    "# plt.ylim(-0.3e-16, 1e-16)\n",
    "# # plt.xlim(1100, 1150)\n",
    "# plt.axhline(0, ls='--', c='k', alpha=0.5)"
   ]
  },
  {
   "cell_type": "markdown",
   "id": "182d01e9",
   "metadata": {},
   "source": [
    "Wow. Fit prominent lines?"
   ]
  },
  {
   "cell_type": "code",
   "execution_count": 19,
   "id": "5a69ee4f",
   "metadata": {},
   "outputs": [],
   "source": [
    "# for x in x1ds:\n",
    "#     hdr = fits.getheader(x, 0)\n",
    "#     print(hdr['TARGNAME'])\n",
    "#     print(hdr['CENWAVE'])\n",
    "#     data = fits.getdata(x, 1)\n",
    "#     wa, fa, ea = data[1]['WAVELENGTH'], data[1]['FLUX'], data[1]['ERROR']\n",
    "#     wb, fb, eb = data[0]['WAVELENGTH'], data[0]['FLUX'], data[0]['ERROR']\n",
    "#     fa = convolve(fa,Box1DKernel(smooth))\n",
    "#     ea = convolve(ea,Box1DKernel(smooth))/(smooth**0.5)\n",
    "#     fb = convolve(fb,Box1DKernel(smooth))\n",
    "#     eb = convolve(eb,Box1DKernel(smooth))/(smooth**0.5)\n",
    "# #     plt.subplot(131)\n",
    "# #     plt.plot(wa, fa)\n",
    "#     plt.plot(wa, ea)\n",
    "#     plt.xlim(1200, 1210)\n",
    "#     plt.subplot(132)\n",
    "#     plt.plot(wb, fb)\n",
    "#     plt.plot(wb, eb)\n",
    "#     plt.xlim(1230, 1240)\n",
    "#     plt.subplot(133)\n",
    "#     plt.plot(wb, fb)\n",
    "#     plt.plot(wb, eb)\n",
    "#     plt.xlim(1330, 1340)\n",
    "#     plt.plot(wa, fa)\n",
    "#     plt.plot(wb, fb)\n",
    "#     plt.show()\n",
    "#     print(wa[0], wa[-1])\n",
    "#     print(wb[0], wb[-1])\n",
    "\n",
    "    \n"
   ]
  },
  {
   "cell_type": "markdown",
   "id": "3c5dff81",
   "metadata": {},
   "source": [
    "Need to distance scale them first?"
   ]
  },
  {
   "cell_type": "code",
   "execution_count": 20,
   "id": "b568d8d4",
   "metadata": {},
   "outputs": [],
   "source": [
    "params = Table.read('../optical/stellar_parameters.csv')"
   ]
  },
  {
   "cell_type": "code",
   "execution_count": 21,
   "id": "45962bd3",
   "metadata": {},
   "outputs": [
    {
     "data": {
      "text/html": [
       "<div><i>Table length=12</i>\n",
       "<table id=\"table140062602855504\" class=\"table-striped table-bordered table-condensed\">\n",
       "<thead><tr><th>Target</th><th>RAJ2000</th><th>DEJ2000</th><th>Jmag</th><th>J_e</th><th>Hmag</th><th>H_e</th><th>Kmag</th><th>K_e</th><th>Rmag</th><th>R_e</th><th>spt</th><th>L_bol</th><th>L_bol_e</th><th>Mass</th><th>Mass_e</th><th>Radius</th><th>Radius_e</th><th>Teff</th><th>Teff_e</th><th>parallax</th><th>distance</th><th>P_rot_d</th></tr></thead>\n",
       "<thead><tr><th>str10</th><th>float64</th><th>float64</th><th>float64</th><th>float64</th><th>float64</th><th>float64</th><th>float64</th><th>float64</th><th>float64</th><th>float64</th><th>str4</th><th>float64</th><th>float64</th><th>float64</th><th>float64</th><th>float64</th><th>float64</th><th>int64</th><th>int64</th><th>float64</th><th>float64</th><th>float64</th></tr></thead>\n",
       "<tr><td>GJ 1132</td><td>153.716027</td><td>-47.156796</td><td>9.245</td><td>0.026</td><td>8.666</td><td>0.031</td><td>8.322</td><td>0.027</td><td>13.098</td><td>0.11</td><td>M3.5</td><td>1.67e+31</td><td>5e+29</td><td>0.194</td><td>0.005</td><td>0.215</td><td>0.009</td><td>3196</td><td>72</td><td>83.07</td><td>12.03804021</td><td>126.59</td></tr>\n",
       "<tr><td>GJ 676A</td><td>262.546646</td><td>-51.637012</td><td>6.711</td><td>0.02</td><td>6.082</td><td>0.024</td><td>5.825</td><td>0.029</td><td>8.675</td><td>0.012</td><td>M0</td><td>3.404e+32</td><td>8.3e+30</td><td>0.631</td><td>0.017</td><td>0.62</td><td>0.03</td><td>4014</td><td>94</td><td>63.07</td><td>15.85539876</td><td>41.2</td></tr>\n",
       "<tr><td>GJ 15A</td><td>4.594036</td><td>44.022842</td><td>5.252</td><td>0.264</td><td>4.476</td><td>0.2</td><td>4.018</td><td>0.02</td><td>7.9</td><td>0.012</td><td>M1</td><td>8.61e+31</td><td>7e+29</td><td>0.393</td><td>0.009</td><td>0.385</td><td>0.002</td><td>3601</td><td>12</td><td>280.74</td><td>3.562014676</td><td>-1.0</td></tr>\n",
       "<tr><td>GJ 649</td><td>254.536873</td><td>25.74423</td><td>6.448</td><td>0.021</td><td>5.865</td><td>0.02</td><td>5.624</td><td>0.016</td><td>8.685</td><td>0.012</td><td>M1</td><td>1.674e+32</td><td>1.7e+30</td><td>0.524</td><td>0.012</td><td>0.531</td><td>0.012</td><td>3621</td><td>41</td><td>96.38</td><td>10.3755966</td><td>-1.0</td></tr>\n",
       "<tr><td>GJ 163</td><td>62.315307</td><td>-53.373737</td><td>7.948</td><td>0.026</td><td>7.428</td><td>0.04</td><td>7.135</td><td>0.021</td><td>10.734</td><td>0.012</td><td>M3.5</td><td>8.28e+31</td><td>2.4e+30</td><td>0.405</td><td>0.01</td><td>0.409</td><td>0.017</td><td>3460</td><td>76</td><td>66.59</td><td>15.01726986</td><td>61.0</td></tr>\n",
       "<tr><td>GJ 849</td><td>332.417906</td><td>-4.640765</td><td>6.51</td><td>0.024</td><td>5.899</td><td>0.044</td><td>5.594</td><td>0.017</td><td>9.279</td><td>0.012</td><td>M3.5</td><td>1.105e+32</td><td>1e+30</td><td>0.465</td><td>0.011</td><td>0.464</td><td>0.018</td><td>3492</td><td>70</td><td>113.25</td><td>8.830022075</td><td>39.2</td></tr>\n",
       "<tr><td>GJ 674</td><td>262.166316</td><td>-46.89513</td><td>5.711</td><td>0.019</td><td>5.154</td><td>0.033</td><td>4.855</td><td>0.018</td><td>8.337</td><td>0.012</td><td>M2.5</td><td>6.03e+31</td><td>1.4e+30</td><td>0.353</td><td>0.008</td><td>0.361</td><td>0.012</td><td>3404</td><td>59</td><td>220.24</td><td>4.540501271</td><td>32.9</td></tr>\n",
       "<tr><td>GJ 699</td><td>269.452044</td><td>4.694597</td><td>5.244</td><td>0.02</td><td>4.834</td><td>0.034</td><td>4.524</td><td>0.02</td><td>8.298</td><td>0.012</td><td>M4</td><td>1.3e+31</td><td>2e+29</td><td>0.161</td><td>0.004</td><td>0.187</td><td>0.001</td><td>3223</td><td>17</td><td>548.31</td><td>1.823785815</td><td>130.4</td></tr>\n",
       "<tr><td>L 980-5</td><td>215.313034</td><td>-1.122204</td><td>8.948</td><td>0.03</td><td>8.391</td><td>0.031</td><td>8.093</td><td>0.026</td><td>13.02</td><td>0.15</td><td>M3.5</td><td>2.49e+31</td><td>8e+29</td><td>0.232</td><td>0.006</td><td>0.25</td><td>0.01</td><td>3278</td><td>74</td><td>74.66</td><td>13.39405304</td><td>92.23</td></tr>\n",
       "<tr><td>LHS 2686</td><td>197.552869</td><td>47.755291</td><td>9.584</td><td>0.02</td><td>8.995</td><td>0.017</td><td>8.687</td><td>0.016</td><td>14.249</td><td>0.13</td><td>M5</td><td>1.08e+31</td><td>2e+29</td><td>0.157</td><td>0.004</td><td>0.182</td><td>0.008</td><td>3119</td><td>70</td><td>76.1</td><td>13.14060447</td><td>28.8</td></tr>\n",
       "<tr><td>GJ 729</td><td>282.455404</td><td>-23.836149</td><td>6.222</td><td>0.018</td><td>5.655</td><td>0.034</td><td>5.37</td><td>0.016</td><td>9.278</td><td>0.012</td><td>M3.5</td><td>1.537e+31</td><td>1.8e+29</td><td>0.177</td><td>0.004</td><td>0.2</td><td>0.008</td><td>3248</td><td>68</td><td>336.72</td><td>2.969826562</td><td>2.84</td></tr>\n",
       "<tr><td>Trappist-1</td><td>346.622013</td><td>-5.041274</td><td>11.354</td><td>0.022</td><td>10.718</td><td>0.021</td><td>10.296</td><td>0.023</td><td>16.466</td><td>0.065</td><td>M8</td><td>2.336e+30</td><td>8.5e+28</td><td>0.0898</td><td>0.0025</td><td>0.112</td><td>0.006</td><td>2619</td><td>71</td><td>82.58</td><td>12.10946961</td><td>3.3</td></tr>\n",
       "</table></div>"
      ],
      "text/plain": [
       "<Table length=12>\n",
       "  Target    RAJ2000    DEJ2000     Jmag    J_e     Hmag  ...  Teff Teff_e parallax   distance  P_rot_d\n",
       "  str10     float64    float64   float64 float64 float64 ... int64 int64  float64    float64   float64\n",
       "---------- ---------- ---------- ------- ------- ------- ... ----- ------ -------- ----------- -------\n",
       "   GJ 1132 153.716027 -47.156796   9.245   0.026   8.666 ...  3196     72    83.07 12.03804021  126.59\n",
       "   GJ 676A 262.546646 -51.637012   6.711    0.02   6.082 ...  4014     94    63.07 15.85539876    41.2\n",
       "    GJ 15A   4.594036  44.022842   5.252   0.264   4.476 ...  3601     12   280.74 3.562014676    -1.0\n",
       "    GJ 649 254.536873   25.74423   6.448   0.021   5.865 ...  3621     41    96.38  10.3755966    -1.0\n",
       "    GJ 163  62.315307 -53.373737   7.948   0.026   7.428 ...  3460     76    66.59 15.01726986    61.0\n",
       "    GJ 849 332.417906  -4.640765    6.51   0.024   5.899 ...  3492     70   113.25 8.830022075    39.2\n",
       "    GJ 674 262.166316  -46.89513   5.711   0.019   5.154 ...  3404     59   220.24 4.540501271    32.9\n",
       "    GJ 699 269.452044   4.694597   5.244    0.02   4.834 ...  3223     17   548.31 1.823785815   130.4\n",
       "   L 980-5 215.313034  -1.122204   8.948    0.03   8.391 ...  3278     74    74.66 13.39405304   92.23\n",
       "  LHS 2686 197.552869  47.755291   9.584    0.02   8.995 ...  3119     70     76.1 13.14060447    28.8\n",
       "    GJ 729 282.455404 -23.836149   6.222   0.018   5.655 ...  3248     68   336.72 2.969826562    2.84\n",
       "Trappist-1 346.622013  -5.041274  11.354   0.022  10.718 ...  2619     71    82.58 12.10946961     3.3"
      ]
     },
     "execution_count": 21,
     "metadata": {},
     "output_type": "execute_result"
    }
   ],
   "source": [
    "params"
   ]
  },
  {
   "cell_type": "code",
   "execution_count": 33,
   "id": "6bce53e4",
   "metadata": {},
   "outputs": [
    {
     "name": "stdout",
     "output_type": "stream",
     "text": [
      "['GJ1132' 'GJ676A' 'GJ15A' 'GJ649' 'GJ163' 'GJ849' 'GJ674' 'GJ699'\n",
      " 'L980-5' 'LHS2686' 'GJ729' 'TRAPPIST-1']\n",
      "/media/david/2tb_ext_hd/hddata/mega_muscles/v10_hlsp/GJ1132/hlsp_muscles_hst_cos_gj1132_g130m_v10_component-spec.fits\n",
      "/media/david/2tb_ext_hd/hddata/mega_muscles/v10_hlsp/GJ1132/hlsp_muscles_hst_cos_gj1132_g160m_v10_component-spec.fits\n",
      "/media/david/2tb_ext_hd/hddata/mega_muscles/v10_hlsp/GJ163/hlsp_muscles_hst_cos_gj163_g130m_v10_component-spec.fits\n",
      "/media/david/2tb_ext_hd/hddata/mega_muscles/v10_hlsp/GJ163/hlsp_muscles_hst_cos_gj163_g160m_v10_component-spec.fits\n",
      "/media/david/2tb_ext_hd/hddata/mega_muscles/v10_hlsp/GJ649/hlsp_muscles_hst_cos_gj649_g130m_v10_component-spec.fits\n",
      "/media/david/2tb_ext_hd/hddata/mega_muscles/v10_hlsp/GJ674/hlsp_muscles_hst_cos_gj674_g130m_v10_component-spec.fits\n",
      "/media/david/2tb_ext_hd/hddata/mega_muscles/v10_hlsp/GJ676A/hlsp_muscles_hst_cos_gj676a_g130m_v10_component-spec.fits\n",
      "/media/david/2tb_ext_hd/hddata/mega_muscles/v10_hlsp/GJ699/hlsp_muscles_hst_cos_gj699_g130m_v10_component-spec.fits\n",
      "/media/david/2tb_ext_hd/hddata/mega_muscles/v10_hlsp/GJ849/hlsp_muscles_hst_cos_gj849_g130m_v10_component-spec.fits\n",
      "/media/david/2tb_ext_hd/hddata/mega_muscles/v10_hlsp/GJ849/hlsp_muscles_hst_cos_gj849_g160m_v10_component-spec.fits\n",
      "/media/david/2tb_ext_hd/hddata/mega_muscles/v10_hlsp/L-980-5/hlsp_muscles_hst_cos_l-980-5_g130m_v10_component-spec.fits\n",
      "/media/david/2tb_ext_hd/hddata/mega_muscles/v10_hlsp/L-980-5/hlsp_muscles_hst_cos_l-980-5_g160m_v10_component-spec.fits\n",
      "/media/david/2tb_ext_hd/hddata/mega_muscles/v10_hlsp/LHS-2686/hlsp_muscles_hst_cos_lhs-2686_g130m_v10_component-spec.fits\n",
      "/media/david/2tb_ext_hd/hddata/mega_muscles/v10_hlsp/TRAPPIST-1/hlsp_muscles_hst_cos_trappist-1_g130m_v10_component-spec.fits\n",
      "/media/david/2tb_ext_hd/hddata/mega_muscles/v10_hlsp/TRAPPIST-1/hlsp_muscles_hst_cos_trappist-1_g160m_v10_component-spec.fits\n",
      "64000\n"
     ]
    },
    {
     "name": "stderr",
     "output_type": "stream",
     "text": [
      "/home/david/anaconda3/envs/astroconda/lib/python3.7/site-packages/ipykernel_launcher.py:29: RuntimeWarning: invalid value encountered in double_scalars\n",
      "WARNING: nan_treatment='interpolate', however, NaN values detected post convolution. A contiguous region of NaN values, larger than the kernel size, are present in the input array. Increase the kernel size to avoid this. [astropy.convolution.convolve]\n",
      "WARNING:astropy:nan_treatment='interpolate', however, NaN values detected post convolution. A contiguous region of NaN values, larger than the kernel size, are present in the input array. Increase the kernel size to avoid this.\n"
     ]
    },
    {
     "data": {
      "text/plain": [
       "<matplotlib.lines.Line2D at 0x7f62dd4b3c50>"
      ]
     },
     "execution_count": 33,
     "metadata": {},
     "output_type": "execute_result"
    },
    {
     "data": {
      "image/png": "[encoded data removed]",
      "text/plain": [
       "<Figure size 1008x360 with 1 Axes>"
      ]
     },
     "metadata": {
      "needs_background": "light"
     },
     "output_type": "display_data"
    }
   ],
   "source": [
    "targets = np.array([t.replace(' ', '').upper() for t in np.array(params['Target'])])\n",
    "print(targets)\n",
    "# stars  = []\n",
    "dvs = [40.08741304,-44.46182245,-8.291723875,-3.217962614,36.44496579,-22.96216449,-8.496187662,-124.3703158,16.10168084,5.910544015,12.18051577,-62.55832308]\n",
    "\n",
    "wnew = np.arange(1160, 1800, 0.01)\n",
    "\n",
    "allflux = []\n",
    "allerror = []\n",
    "\n",
    "smooth = 5\n",
    "fluxcon = FluxConservingResampler(extrapolation_treatment='zero_fill')\n",
    "\n",
    "for i, spec in enumerate(cosspecs):\n",
    "    print(spec)\n",
    "    star = fits.getheader(spec)['TARGNAME']\n",
    "    if star == '2MASS-J23062928-0502285':\n",
    "        star = 'TRAPPIST-1'\n",
    "    if star == 'L-980-5':\n",
    "        star = 'L980-5'\n",
    "    if star == 'LHS-2686':\n",
    "        star = 'LHS2686'\n",
    "    arg = np.where(targets == star)[0][0]\n",
    "    dstar = params['distance'][arg]\n",
    "    # print(dstar)\n",
    "    data = fits.getdata(spec, 1)\n",
    "    w, f, e, dq = data['WAVELENGTH'], data['FLUX'], data['ERROR'], data['DQ']\n",
    "    mask = (w > 1160) & ( w < 1210) | (w > 1220) \n",
    "    w, f, e = w[mask], f[mask], e[mask]\n",
    "    # plt.plot(w,f)\n",
    "    # plt.plot(w, e)\n",
    "    # plt.show()\n",
    "    # print(np.diff(w))\n",
    "    # print(len(e[e < 0]))\n",
    "    # w, f, e = w[dq==0], f[dq==0], e[dq==0]\n",
    "    wi = (dvs[arg]*u.km/u.s).to(u.AA,  equivalencies=u.doppler_optical(w*u.AA)).value\n",
    "    fi = f*(dstar/10)**2 #to 10pc\n",
    "    ei = e*(dstar/10)**2 #to 10pc\n",
    "    # plt.plot(wi, fi)\n",
    "    # plt.plot(wi, ei)\n",
    "    # plt.show()\n",
    "    # fi = convolve(fi,Box1DKernel(smooth))\n",
    "    # ei = convolve(ei,Box1DKernel(smooth))/(smooth**0.5)\n",
    "\n",
    "# new_spec_fluxcon = fluxcon(input_spec, neww*u.AA)\n",
    "\n",
    "\n",
    "    # input_spec = Spectrum1D(spectral_axis=(w)*u.AA, flux=f*u.Unit('erg cm-2 s-1 AA-1'),  uncertainty= StdDevUncertainty(e))\n",
    "    # wi = np.arange(w[0], w[-1]+0.01, 0.01)\n",
    "    # new_spec_fluxcon = fluxcon(input_spec, wi*u.AA)\n",
    "    # wi = new_spec_fluxcon.spectral_axis.value\n",
    "    # fi = new_spec_fluxcon.flux.value\n",
    "    # ei = (1/(new_spec_fluxcon.uncertainty.array**0.5))\n",
    "\n",
    "    # start += step\n",
    "    \n",
    "    \n",
    "    \n",
    "    fi = interp1d(wi, fi, bounds_error=False, fill_value=0)(wnew)\n",
    "    ei = interp1d(wi, ei, bounds_error=False, fill_value=0)(wnew) #fine as long as res is similar\n",
    "    # print(len(ei[np.isnan(ei)==True]))\n",
    "    # plt.plot(wnew, fi)\n",
    "    # plt.plot(wnew, ei)\n",
    "    # print(len(ei[ei < 0]))\n",
    "    # plt.show()\n",
    "    \n",
    "    # if spec != '/media/david/2tb_ext_hd/hddata/mega_muscles/v10_hlsp/GJ649/hlsp_muscles_hst_cos_gj649_g130m_v10_component-spec.fits':\n",
    "    allflux.append(fi)\n",
    "    allerror.append(ei)\n",
    "# print(allerror)\n",
    "\n",
    "allflux, allerror = np.array(allflux), np.array(allerror)\n",
    "# print(allflux)\n",
    "# fnew, enew = spectra_adder(allflux, allerror, rcs = False)\n",
    "fnew = complicated_spectra_adder(allflux, allerror)\n",
    "fnew = convolve(fnew,Box1DKernel(20))\n",
    "plt.plot(wnew, fnew)\n",
    "plt.axhline(0, ls ='--', c='C1')\n",
    "# print(fnew)\n",
    "# print(enew)\n",
    "# mask = (wnew < 1210) | (wnew >1220)\n",
    "# plt.plot(wnew[mask], np.mean(allflux, axis=0)[mask])\n",
    "    \n",
    "# plt.yscale('log')\n",
    "    \n",
    "\n",
    "    # stars.append(star)\n",
    "# print(stars)\n",
    "    # dstar = params['distance'][np.where(targets.upper().replace(' ', '') == star)[0]]\n",
    "    # print(star, dstar)"
   ]
  },
  {
   "cell_type": "code",
   "execution_count": 9,
   "id": "a2369a88",
   "metadata": {},
   "outputs": [],
   "source": [
    "# GJ649 , -3.2179626137386097\n",
    "# GJ1132 , 40.08741304111106\n",
    "# GJ15A , -8.29172387532275\n",
    "# GJ163 , 36.44496578836573\n",
    "# GJ674 , -8.496187662426907\n",
    "# GJ676A , -44.461822449302915\n",
    "# GJ699 , -124.3703158406861\n",
    "# GJ729 , 12.180515773744279\n",
    "# GJ849 , -22.9621644919636\n",
    "# L980-5 , 16.10168084165221\n",
    "# LHS2686 , 5.910544014529296\n",
    "# TRAPPIST-1 , -62.558323075720324"
   ]
  },
  {
   "cell_type": "code",
   "execution_count": null,
   "id": "82afea3a-d02b-473d-b713-7f7914f9ae87",
   "metadata": {},
   "outputs": [],
   "source": []
  }
 ],
 "metadata": {
  "kernelspec": {
   "display_name": "Python 3 (ipykernel)",
   "language": "python",
   "name": "python3"
  },
  "language_info": {
   "codemirror_mode": {
    "name": "ipython",
    "version": 3
   },
   "file_extension": ".py",
   "mimetype": "text/x-python",
   "name": "python",
   "nbconvert_exporter": "python",
   "pygments_lexer": "ipython3",
   "version": "3.7.11"
  }
 },
 "nbformat": 4,
 "nbformat_minor": 5
}
