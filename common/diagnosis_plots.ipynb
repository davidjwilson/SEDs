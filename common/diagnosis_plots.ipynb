{
 "cells": [
  {
   "cell_type": "markdown",
   "id": "5f14f78b-0742-4a92-a87b-cfcec8d29722",
   "metadata": {},
   "source": [
    "Plots to check that everything worked..."
   ]
  },
  {
   "cell_type": "code",
   "execution_count": 2,
   "id": "e3941771-a128-4fb9-9b57-c286993b6653",
   "metadata": {},
   "outputs": [],
   "source": [
    "import numpy as np\n",
    "import matplotlib.pyplot as plt\n",
    "import astropy.io.fits as fits\n",
    "import os\n",
    "import glob\n",
    "from astropy.table import Table\n",
    "from astropy.io import ascii\n",
    "import astropy.units as u\n",
    "import astropy.constants as const\n",
    "from matplotlib.gridspec import GridSpec\n",
    "from astropy.units import cds\n",
    "cds.enable()\n",
    "\n",
    "#matplotlib set up\n",
    "%matplotlib inline\n",
    "from matplotlib import rcParams\n",
    "rcParams[\"figure.figsize\"] = (14, 5)\n",
    "rcParams[\"font.size\"] = 20\n"
   ]
  },
  {
   "cell_type": "code",
   "execution_count": 3,
   "id": "4d4085a7-6d80-49f0-bc25-712e19f3e2f3",
   "metadata": {},
   "outputs": [],
   "source": [
    "path = '/media/david/1tb_storage1/emergency_data/mega_muscles/v01_seds/'"
   ]
  },
  {
   "cell_type": "code",
   "execution_count": 4,
   "id": "1dfa17c5-b633-4f19-9b12-97541b7e9777",
   "metadata": {},
   "outputs": [
    {
     "data": {
      "text/plain": [
       "['/media/david/1tb_storage1/emergency_data/mega_muscles/v01_seds/hlsp_muscles_multi_multi_gj649_broadband_v1_var-res-sed.fits',\n",
       " '/media/david/1tb_storage1/emergency_data/mega_muscles/v01_seds/hlsp_muscles_multi_multi_gj1132_broadband_v1_const-res-sed.fits',\n",
       " '/media/david/1tb_storage1/emergency_data/mega_muscles/v01_seds/hlsp_muscles_multi_multi_gj1132_broadband_v1_var-res-sed.fits',\n",
       " '/media/david/1tb_storage1/emergency_data/mega_muscles/v01_seds/hlsp_muscles_multi_multi_gj15a_broadband_v1_const-res-sed.fits',\n",
       " '/media/david/1tb_storage1/emergency_data/mega_muscles/v01_seds/hlsp_muscles_multi_multi_gj15a_broadband_v1_var-res-sed.fits',\n",
       " '/media/david/1tb_storage1/emergency_data/mega_muscles/v01_seds/hlsp_muscles_multi_multi_gj163_broadband_v1_const-res-sed.fits',\n",
       " '/media/david/1tb_storage1/emergency_data/mega_muscles/v01_seds/hlsp_muscles_multi_multi_gj163_broadband_v1_var-res-sed.fits',\n",
       " '/media/david/1tb_storage1/emergency_data/mega_muscles/v01_seds/hlsp_muscles_multi_multi_gj649_broadband_v1_const-res-sed.fits',\n",
       " '/media/david/1tb_storage1/emergency_data/mega_muscles/v01_seds/hlsp_muscles_multi_multi_gj674_broadband_v1_const-res-sed.fits',\n",
       " '/media/david/1tb_storage1/emergency_data/mega_muscles/v01_seds/hlsp_muscles_multi_multi_gj674_broadband_v1_var-res-sed.fits',\n",
       " '/media/david/1tb_storage1/emergency_data/mega_muscles/v01_seds/hlsp_muscles_multi_multi_gj676a_broadband_v1_const-res-sed.fits',\n",
       " '/media/david/1tb_storage1/emergency_data/mega_muscles/v01_seds/hlsp_muscles_multi_multi_gj676a_broadband_v1_var-res-sed.fits',\n",
       " '/media/david/1tb_storage1/emergency_data/mega_muscles/v01_seds/hlsp_muscles_multi_multi_gj699_broadband_v1_const-res-sed.fits',\n",
       " '/media/david/1tb_storage1/emergency_data/mega_muscles/v01_seds/hlsp_muscles_multi_multi_gj699_broadband_v1_var-res-sed.fits',\n",
       " '/media/david/1tb_storage1/emergency_data/mega_muscles/v01_seds/hlsp_muscles_multi_multi_gj729_broadband_v1_const-res-sed.fits',\n",
       " '/media/david/1tb_storage1/emergency_data/mega_muscles/v01_seds/hlsp_muscles_multi_multi_gj729_broadband_v1_var-res-sed.fits',\n",
       " '/media/david/1tb_storage1/emergency_data/mega_muscles/v01_seds/hlsp_muscles_multi_multi_gj849_broadband_v1_const-res-sed.fits',\n",
       " '/media/david/1tb_storage1/emergency_data/mega_muscles/v01_seds/hlsp_muscles_multi_multi_gj849_broadband_v1_var-res-sed.fits',\n",
       " '/media/david/1tb_storage1/emergency_data/mega_muscles/v01_seds/hlsp_muscles_multi_multi_l-980-5_broadband_v1_const-res-sed.fits',\n",
       " '/media/david/1tb_storage1/emergency_data/mega_muscles/v01_seds/hlsp_muscles_multi_multi_l-980-5_broadband_v1_var-res-sed.fits',\n",
       " '/media/david/1tb_storage1/emergency_data/mega_muscles/v01_seds/hlsp_muscles_multi_multi_lhs-2686_broadband_v1_const-res-sed.fits',\n",
       " '/media/david/1tb_storage1/emergency_data/mega_muscles/v01_seds/hlsp_muscles_multi_multi_lhs-2686_broadband_v1_var-res-sed.fits',\n",
       " '/media/david/1tb_storage1/emergency_data/mega_muscles/v01_seds/hlsp_muscles_multi_multi_trappist-1_broadband_v1_const-res-sed.fits',\n",
       " '/media/david/1tb_storage1/emergency_data/mega_muscles/v01_seds/hlsp_muscles_multi_multi_trappist-1_broadband_v1_var-res-sed.fits']"
      ]
     },
     "execution_count": 4,
     "metadata": {},
     "output_type": "execute_result"
    }
   ],
   "source": [
    "all_seds = glob.glob('{}*multi*.fits'.format(path))\n",
    "all_seds"
   ]
  },
  {
   "cell_type": "code",
   "execution_count": 5,
   "id": "e2341926-7a6c-420d-894d-367da2dff757",
   "metadata": {},
   "outputs": [],
   "source": [
    "names = fits.getdata(all_seds[0], 1).names"
   ]
  },
  {
   "cell_type": "code",
   "execution_count": 6,
   "id": "01127abe-7de9-429f-a2a6-7cf64dbf9b9b",
   "metadata": {},
   "outputs": [
    {
     "name": "stdout",
     "output_type": "stream",
     "text": [
      "13\n"
     ]
    }
   ],
   "source": [
    "print(len(names))"
   ]
  },
  {
   "cell_type": "code",
   "execution_count": 7,
   "id": "84337c04-13ed-49bc-8c4e-9b5a035b022a",
   "metadata": {},
   "outputs": [
    {
     "data": {
      "text/plain": [
       "['hlsp_muscles_multi_multi_gj849_broadband_v1_const-res-sed_check.pdf',\n",
       " 'hlsp_muscles_multi_multi_lhs-2686_broadband_v1_const-res-sed_check.pdf',\n",
       " 'hlsp_muscles_multi_multi_gj699_broadband_v1_const-res-sed_check.pdf',\n",
       " 'hlsp_muscles_multi_multi_gj674_broadband_v1_var-res-sed_check.pdf',\n",
       " 'hlsp_muscles_multi_multi_gj729_broadband_v1_const-res-sed_check.pdf',\n",
       " 'hlsp_muscles_multi_multi_gj676a_broadband_v1_var-res-sed_check.pdf',\n",
       " '.ipynb_checkpoints',\n",
       " 'hlsp_muscles_multi_multi_gj849_broadband_v1_var-res-sed_check.pdf',\n",
       " 'hlsp_muscles_multi_multi_gj674_broadband_v1_const-res-sed_check.pdf',\n",
       " 'hlsp_muscles_multi_multi_l-980-5_broadband_v1_var-res-sed_check.pdf',\n",
       " 'hlsp_muscles_multi_multi_gj649_broadband_v1_const-res-sed_check.pdf',\n",
       " 'hlsp_muscles_multi_multi_gj163_broadband_v1_var-res-sed_check.pdf',\n",
       " 'hlsp_muscles_multi_multi_gj699_broadband_v1_var-res-sed_check.pdf',\n",
       " 'hlsp_muscles_multi_multi_gj163_broadband_v1_const-res-sed_check.pdf',\n",
       " 'hlsp_muscles_multi_multi_gj1132_broadband_v1_var-res-sed_check.pdf',\n",
       " 'hlsp_muscles_multi_multi_gj729_broadband_v1_var-res-sed_check.pdf',\n",
       " 'hlsp_muscles_multi_multi_l-980-5_broadband_v1_const-res-sed_check.pdf',\n",
       " 'hlsp_muscles_multi_multi_gj15a_broadband_v1_var-res-sed_check.pdf',\n",
       " 'hlsp_muscles_multi_multi_gj676a_broadband_v1_const-res-sed_check.pdf',\n",
       " 'hlsp_muscles_multi_multi_gj1132_broadband_v1_const-res-sed_check.pdf',\n",
       " 'hlsp_muscles_multi_multi_gj649_broadband_v1_var-res-sed_check.pdf',\n",
       " 'hlsp_muscles_multi_multi_gj15a_broadband_v1_const-res-sed_check.pdf']"
      ]
     },
     "execution_count": 7,
     "metadata": {},
     "output_type": "execute_result"
    }
   ],
   "source": [
    "done = os.listdir('plots/diagnosis_plots/')\n",
    "done"
   ]
  },
  {
   "cell_type": "code",
   "execution_count": 9,
   "id": "bc8b9907-093f-415d-b2c9-20548387794b",
   "metadata": {},
   "outputs": [],
   "source": [
    "# for sed in all_seds:\n",
    "#     plt.figure(figsize=(14, 50))\n",
    "#     filename = os.path.split(sed)[1]\n",
    "#     if '{}_check.pdf'.format(filename[:-5]) not in done:\n",
    "#         data = fits.getdata(sed, 1)\n",
    "#         for i, name in enumerate(names[1:]):\n",
    "#             plt.subplot(12, 1, i+1)\n",
    "#             if i == 0:\n",
    "#                  plt.title(filename.replace('_', ' '))\n",
    "#     #              plt.title(filename)\n",
    "#             plt.step(data['WAVELENGTH'], data[name], where='mid')\n",
    "#             plt.xscale('log')\n",
    "#             if name not in ['EXPTIME', 'EXPSTART', 'EXPEND']:\n",
    "#                 plt.yscale('log')\n",
    "#             if name == 'FLUX':\n",
    "#                 plt.ylim(data[name][-1])\n",
    "#     #         if i == len(names)-2:\n",
    "#             plt.xlabel('WAVELENGTH (\\AA)')\n",
    "#             plt.ylabel(name)\n",
    "#             plt.xlim(5, 1e7)\n",
    "\n",
    "#         plt.tight_layout()\n",
    "#         plt.savefig('plots/diagnosis_plots/{}_check.pdf'.format(filename[:-5]))\n",
    "#     #     plt.show()\n",
    "#         plt.close()"
   ]
  },
  {
   "cell_type": "code",
   "execution_count": null,
   "id": "576ac1ea-542a-43f0-9b06-823aff93f5eb",
   "metadata": {},
   "outputs": [],
   "source": []
  }
 ],
 "metadata": {
  "kernelspec": {
   "display_name": "Python 3",
   "language": "python",
   "name": "python3"
  },
  "language_info": {
   "codemirror_mode": {
    "name": "ipython",
    "version": 3
   },
   "file_extension": ".py",
   "mimetype": "text/x-python",
   "name": "python",
   "nbconvert_exporter": "python",
   "pygments_lexer": "ipython3",
   "version": "3.6.13"
  }
 },
 "nbformat": 4,
 "nbformat_minor": 5
}
