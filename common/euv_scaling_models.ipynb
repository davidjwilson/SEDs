{
 "cells": [
  {
   "cell_type": "markdown",
   "metadata": {},
   "source": [
    "Making euv scaling for all of the MM stars."
   ]
  },
  {
   "cell_type": "code",
   "execution_count": 1,
   "metadata": {},
   "outputs": [],
   "source": [
    "import numpy as np\n",
    "import matplotlib.pyplot as plt\n",
    "import astropy.io.fits as fits\n",
    "import os\n",
    "import glob\n",
    "from astropy.table import Table\n",
    "from astropy.io import ascii\n",
    "import astropy.units as u\n",
    "import astropy.constants as const\n",
    "from scipy.interpolate import interpolate\n",
    "from craftroom import resample\n",
    "\n",
    "#matplotlib set up\n",
    "%matplotlib inline\n",
    "from matplotlib import rcParams\n",
    "rcParams[\"figure.figsize\"] = (14, 5)\n",
    "rcParams[\"font.size\"] = 20\n"
   ]
  },
  {
   "cell_type": "code",
   "execution_count": 2,
   "metadata": {},
   "outputs": [],
   "source": [
    "path = '/media/david/5tb_storage1/muscles/'\n",
    "sv1 = path + 'euv_txt_files/'\n",
    "sv2 = path + 'euv_hlsp/'"
   ]
  },
  {
   "cell_type": "code",
   "execution_count": 6,
   "metadata": {},
   "outputs": [],
   "source": [
    "params = Table.read(path + 'mega_muscles_stellar_parameters.csv')"
   ]
  },
  {
   "cell_type": "code",
   "execution_count": 7,
   "metadata": {},
   "outputs": [],
   "source": [
    "import prepare_euv\n",
    "import prepare_model"
   ]
  },
  {
   "cell_type": "code",
   "execution_count": 26,
   "metadata": {},
   "outputs": [],
   "source": [
    "def euv_estimator(euv_inputs, save_path, star, save=True):\n",
    "    \n",
    "    lya, distance = euv_inputs['lya'], euv_inputs['distance']\n",
    "        \n",
    "    distance_conversion = ((1*u.au.to(u.m))/(distance*u.pc.to(u.m)))**2\n",
    "\n",
    "    lya_1au = lya / distance_conversion\n",
    "\n",
    "    w1 = np.array([100,200,300,400,500,600,700,800,912], dtype=float) #A\n",
    "    w2 = np.array([200,300,400,500,600,700,800,912,1170], dtype=float)\n",
    "    bandwidth = w2-w1\n",
    "\n",
    "    a = np.array([-0.491,-0.548,-0.602,-2.294,-2.098,-1.920,-1.894,-1.811,-1.004], dtype=float)\n",
    "    b = np.array([ 0.,    0.,    0.,    0.258, 0.572, 0.240, 0.518, 0.764, 0.065], dtype=float)\n",
    "\n",
    "    #log(f/lya) = a + b *log(lya)\n",
    "    f = a + b*np.log10(lya_1au)\n",
    " #   print(f[0])\n",
    "\n",
    "   # print('Total EUV=',np.sum(f))\n",
    "    f = (lya_1au * 10**f)/bandwidth\n",
    "  #  print(f[0])\n",
    "\n",
    "\n",
    "    f *= distance_conversion\n",
    "   # print(f[0])\n",
    "\n",
    "    #extrapolate onto 1A grid\n",
    "    wavelength = np.arange((w1[0])+0.5, (w2[-1])+0.5, 1.0)\n",
    "    f_to_interp = np.hstack((f[0], f, f[-1])) #adding extra values onto the ends so the interpolation doesn't make nans\n",
    "    w_to_interp = np.hstack((w1[0], np.mean([w1, w2], axis=0), w2[-1]))\n",
    "    flux = interpolate.interp1d(w_to_interp, f_to_interp, kind='nearest', bounds_error=False)(wavelength)\n",
    "   # print(flux[0])\n",
    "\n",
    "    if os.path.exists(save_path) == False:\n",
    "        os.mkdir(save_path)\n",
    "    if star != '':\n",
    "        star = '{}_'.format(star)\n",
    "    filename = '{}l14euv_lya{}_d{}.txt'.format(star, euv_inputs['lya'], euv_inputs['distance'])\n",
    "    savedat = Table([wavelength, flux], names=['WAVELENGTH', 'FLUX'])\n",
    "    ascii.write(savedat, save_path+filename, overwrite=True)\n",
    "    "
   ]
  },
  {
   "cell_type": "code",
   "execution_count": 27,
   "metadata": {},
   "outputs": [],
   "source": [
    "for row in params:\n",
    "    star = row['Target']\n",
    "    if star != 'Trappist-1':\n",
    "        lya = row['lya_flux']\n",
    "        distance= row['distance']\n",
    "        if lya > 0:\n",
    "            euv_estimator(dict(distance=distance, lya=lya), sv1, star = star.replace(' ',''), )\n",
    "\n",
    "                        \n",
    "            "
   ]
  },
  {
   "cell_type": "code",
   "execution_count": 29,
   "metadata": {},
   "outputs": [
    {
     "data": {
      "image/png": "[encoded data removed]",
      "text/plain": [
       "<Figure size 1008x360 with 1 Axes>"
      ]
     },
     "metadata": {
      "needs_background": "light"
     },
     "output_type": "display_data"
    }
   ],
   "source": [
    "txt_files = glob.glob('{}*.txt'.format(sv1))\n",
    "for sp in txt_files:\n",
    "    data = Table.read(sp, format = 'ascii')\n",
    "    w, f = data['WAVELENGTH'], data['FLUX']\n",
    "    plt.plot(w,f)"
   ]
  },
  {
   "cell_type": "code",
   "execution_count": null,
   "metadata": {},
   "outputs": [],
   "source": []
  }
 ],
 "metadata": {
  "kernelspec": {
   "display_name": "Python 3",
   "language": "python",
   "name": "python3"
  },
  "language_info": {
   "codemirror_mode": {
    "name": "ipython",
    "version": 3
   },
   "file_extension": ".py",
   "mimetype": "text/x-python",
   "name": "python",
   "nbconvert_exporter": "python",
   "pygments_lexer": "ipython3",
   "version": "3.7.7"
  }
 },
 "nbformat": 4,
 "nbformat_minor": 4
}
