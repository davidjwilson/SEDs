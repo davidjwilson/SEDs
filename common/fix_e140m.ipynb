{
 "cells": [
  {
   "cell_type": "markdown",
   "id": "31c0124e",
   "metadata": {},
   "source": [
    "Finding the exposure times for e140m data\n"
   ]
  },
  {
   "cell_type": "code",
   "execution_count": 1,
   "id": "2eb76d17",
   "metadata": {},
   "outputs": [
    {
     "name": "stderr",
     "output_type": "stream",
     "text": [
      "/home/david/anaconda3/envs/astroconda/lib/python3.6/site-packages/stsci/tools/nmpfit.py:10: UserWarning: NMPFIT is deprecated - stsci.tools v 3.5 is the last version to contain it.\n",
      "  warnings.warn(\"NMPFIT is deprecated - stsci.tools v 3.5 is the last version to contain it.\")\n",
      "/home/david/anaconda3/envs/astroconda/lib/python3.6/site-packages/stsci/tools/gfit.py:20: UserWarning: GFIT is deprecated - stsci.tools v 3.4.12 is the last version to contain it.Use astropy.modeling instead.\n",
      "  warnings.warn(\"GFIT is deprecated - stsci.tools v 3.4.12 is the last version to contain it.\"\n"
     ]
    },
    {
     "name": "stdout",
     "output_type": "stream",
     "text": [
      "The following tasks in the stistools package can be run with TEAL:\n",
      "   basic2d      calstis     ocrreject     wavecal        x1d          x2d\n"
     ]
    }
   ],
   "source": [
    "import numpy as np\n",
    "import matplotlib.pyplot as plt\n",
    "import astropy.io.fits as fits\n",
    "import os\n",
    "import glob\n",
    "from astropy.table import Table\n",
    "from astropy.io import ascii\n",
    "import astropy.units as u\n",
    "import astropy.constants as const\n",
    "from scipy.interpolate import interpolate\n",
    "from craftroom import resample\n",
    "import stistools\n",
    "from astropy.convolution import convolve, Box1DKernel\n",
    "from astropy.modeling import models, fitting\n",
    "from scipy.io.idl import readsav\n",
    "\n",
    "\n",
    "#matplotlib set up\n",
    "%matplotlib inline\n",
    "from matplotlib import rcParams\n",
    "rcParams[\"figure.figsize\"] = (14, 5)\n",
    "rcParams[\"font.size\"] = 20\n"
   ]
  },
  {
   "cell_type": "code",
   "execution_count": 4,
   "id": "8ce83aac",
   "metadata": {},
   "outputs": [
    {
     "name": "stdout",
     "output_type": "stream",
     "text": [
      "['/media/david/1tb_storage1/emergency_data/mega_muscles/e140m_fits/odlm08030_x1d.fits', '/media/david/1tb_storage1/emergency_data/mega_muscles/e140m_fits/odlm08040_x1d.fits', '/media/david/1tb_storage1/emergency_data/mega_muscles/e140m_fits/odlm08050_x1d.fits', '/media/david/1tb_storage1/emergency_data/mega_muscles/e140m_fits/odlm08060_x1d.fits', '/media/david/1tb_storage1/emergency_data/mega_muscles/e140m_fits/odlm09030_x1d.fits', '/media/david/1tb_storage1/emergency_data/mega_muscles/e140m_fits/odlm09050_x1d.fits', '/media/david/1tb_storage1/emergency_data/mega_muscles/e140m_fits/odlm09060_x1d.fits', '/media/david/1tb_storage1/emergency_data/mega_muscles/e140m_fits/odlm09040_x1d.fits', '/media/david/1tb_storage1/emergency_data/mega_muscles/e140m_fits/odlm37060_x1d.fits', '/media/david/1tb_storage1/emergency_data/mega_muscles/e140m_fits/odlm37050_x1d.fits', '/media/david/1tb_storage1/emergency_data/mega_muscles/e140m_fits/odlm37030_x1d.fits', '/media/david/1tb_storage1/emergency_data/mega_muscles/e140m_fits/odlm37040_x1d.fits', '/media/david/1tb_storage1/emergency_data/mega_muscles/e140m_fits/odlm38030_x1d.fits', '/media/david/1tb_storage1/emergency_data/mega_muscles/e140m_fits/odlm38040_x1d.fits', '/media/david/1tb_storage1/emergency_data/mega_muscles/e140m_fits/odlm38050_x1d.fits']\n",
      "['ayres_e140m/GJ15A_E140M_coadd.sav', 'ayres_e140m/GJ729_E140M_coadd.sav']\n"
     ]
    }
   ],
   "source": [
    "x1dpath = '/media/david/1tb_storage1/emergency_data/mega_muscles/e140m_fits/'\n",
    "x1ds = glob.glob('{}*x1d.fits'.format(x1dpath))\n",
    "savs = glob.glob('ayres_e140m/*.sav')\n",
    "print(x1ds)\n",
    "print(savs)"
   ]
  },
  {
   "cell_type": "code",
   "execution_count": 5,
   "id": "8ceed70c",
   "metadata": {},
   "outputs": [
    {
     "data": {
      "text/plain": [
       "{'wave': array([1140.55729632, 1140.56962002, 1140.58194347, ..., 1709.4639857 ,\n",
       "        1709.48204626, 1709.50010647]),\n",
       " 'flux': array([0.0000000e+00, 0.0000000e+00, 0.0000000e+00, ..., 4.4734863e-15,\n",
       "        1.3332343e-15, 2.3965514e-15], dtype=float32),\n",
       " 'photerr': array([0.0000000e+00, 0.0000000e+00, 0.0000000e+00, ..., 5.9418730e-15,\n",
       "        5.7681597e-15, 8.0248452e-15], dtype=float32),\n",
       " 'epsilon': array([500, 500, 500, ...,   0,   0,   0], dtype=int16),\n",
       " 'texpt': array([    0.   ,     0.   ,     0.   , ..., 15200.063, 15200.063,\n",
       "         9725.782], dtype=float32),\n",
       " 'xorder': array([129., 129., 129., ...,  87.,  87.,  87.]),\n",
       " 'total_texps': 15200.063,\n",
       " 'total_counts': 139907.4}"
      ]
     },
     "execution_count": 5,
     "metadata": {},
     "output_type": "execute_result"
    }
   ],
   "source": [
    "readsav(savs[0])"
   ]
  },
  {
   "cell_type": "code",
   "execution_count": 7,
   "id": "488435e1",
   "metadata": {},
   "outputs": [
    {
     "data": {
      "image/png": "[encoded data removed]",
      "text/plain": [
       "<Figure size 1008x360 with 1 Axes>"
      ]
     },
     "metadata": {
      "needs_background": "light"
     },
     "output_type": "display_data"
    }
   ],
   "source": [
    "for sav in savs:\n",
    "    data = readsav(sav)\n",
    "    plt.plot(data['wave'], data['texpt'])"
   ]
  },
  {
   "cell_type": "code",
   "execution_count": 8,
   "id": "ca67f6f5",
   "metadata": {},
   "outputs": [
    {
     "name": "stdout",
     "output_type": "stream",
     "text": [
      "['e140m_test/hlsp_muscles_hst_stis_gj729_e140m_v2_component-spec.fits', 'e140m_test/hlsp_muscles_hst_stis_gj15a_e140m_v2_component-spec.fits']\n"
     ]
    }
   ],
   "source": [
    "newfits = glob.glob('e140m_test/*.fits')\n",
    "print(newfits)"
   ]
  },
  {
   "cell_type": "code",
   "execution_count": 17,
   "id": "aa5c8980",
   "metadata": {},
   "outputs": [],
   "source": [
    "hdul = fits.open(newfits[1])"
   ]
  },
  {
   "cell_type": "code",
   "execution_count": 18,
   "id": "bab94352",
   "metadata": {},
   "outputs": [
    {
     "data": {
      "text/plain": [
       "SIMPLE  =                    T / conforms to FITS standard                      \n",
       "BITPIX  =                    8 / array data type                                \n",
       "NAXIS   =                    0 / number of array dimensions                     \n",
       "EXTEND  =                    T                                                  \n",
       "TELESCOP= 'HST     '                                                            \n",
       "INSTRUME= 'STIS    '                                                            \n",
       "GRATING = 'E140M   '                                                            \n",
       "APERTURE= '0.2X0.2 '                                                            \n",
       "TARGNAME= 'GJ15A   '                                                            \n",
       "RA_TARG =       4.616640366617                                                  \n",
       "DEC_TARG=       44.02506857788                                                  \n",
       "PROPOSID=                15071                                                  \n",
       "HLSPNAME= 'Measurements of the Ultraviolet Spectral Characteristics of &'       \n",
       "CONTINUE  'Low-mass Exoplanet Host Stars'                                       \n",
       "HLSPACRN= 'MUSCLES '                                                            \n",
       "HLSPLEAD= 'David J. Wilson'                                                     \n",
       "PR_INV_L= 'Froning '                                                            \n",
       "PR_INV_F= 'Cynthia '                                                            \n",
       "DATE-OBS= '2019-02-12'                                                          \n",
       "EXPSTART=       58526.77534076                                                  \n",
       "EXPEND  =       58530.82344314                                                  \n",
       "EXPTIME =          18061.35025                                                  \n",
       "EXPDEFN = 'SUM     '                                                            \n",
       "EXPMIN  =           819.150625                                                  \n",
       "EXPMAX  =           2737.19325                                                  \n",
       "EXPMED  =          2737.164625                                                  \n",
       "NORMFAC =                  1.0                                                  \n",
       "WAVEMIN =    1140.557296320539                                                  \n",
       "WAVEMAX =     1709.50010646944                                                  \n",
       "WAVEUNIT= 'ang     '                                                            \n",
       "AIRORVAC= 'vac     '                                                            \n",
       "SPECRES =    1395.472611799976                                                  \n",
       "WAVERES =  0.01492564605109692                                                  \n",
       "FLUXMIN = -1.0164446367921E-10                                                  \n",
       "FLUXMAX = 3.56365353892940E-11                                                  \n",
       "FLUXUNIT= 'erg/s/cm2/ang'                                                       "
      ]
     },
     "execution_count": 18,
     "metadata": {},
     "output_type": "execute_result"
    }
   ],
   "source": [
    "hdul[0].header"
   ]
  },
  {
   "cell_type": "code",
   "execution_count": null,
   "id": "a410dc80",
   "metadata": {},
   "outputs": [],
   "source": []
  }
 ],
 "metadata": {
  "kernelspec": {
   "display_name": "Python 3",
   "language": "python",
   "name": "python3"
  },
  "language_info": {
   "codemirror_mode": {
    "name": "ipython",
    "version": 3
   },
   "file_extension": ".py",
   "mimetype": "text/x-python",
   "name": "python",
   "nbconvert_exporter": "python",
   "pygments_lexer": "ipython3",
   "version": "3.6.13"
  }
 },
 "nbformat": 4,
 "nbformat_minor": 5
}
