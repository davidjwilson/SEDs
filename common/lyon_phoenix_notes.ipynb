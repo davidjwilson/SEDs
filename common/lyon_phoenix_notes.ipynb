{
 "cells": [
  {
   "cell_type": "code",
   "execution_count": 83,
   "metadata": {},
   "outputs": [],
   "source": [
    "import numpy as np\n",
    "import matplotlib.pyplot as plt\n",
    "import astropy.io.fits as fits\n",
    "import os\n",
    "import glob\n",
    "from scipy.interpolate import interp1d\n",
    "from scipy.io.idl import readsav\n",
    "from astropy.table import Table\n",
    "from astropy.io import ascii\n",
    "import astropy.units as u\n",
    "from scipy.optimize import leastsq\n",
    "import astropy.constants as const\n",
    "from astropy.convolution import convolve, Box1DKernel\n",
    "from astropy.modeling import models, fitting\n",
    "\n",
    "\n",
    "#matplotlib set up\n",
    "%matplotlib inline\n",
    "from matplotlib import rcParams\n",
    "rcParams[\"figure.figsize\"] = (14, 5)\n",
    "rcParams[\"font.size\"] = 20"
   ]
  },
  {
   "cell_type": "markdown",
   "metadata": {},
   "source": [
    "Note to change \"prepare phoenix\" to use the lyon models"
   ]
  },
  {
   "cell_type": "code",
   "execution_count": 2,
   "metadata": {},
   "outputs": [],
   "source": [
    "from urllib.request import urlretrieve, urlopen"
   ]
  },
  {
   "cell_type": "code",
   "execution_count": 45,
   "metadata": {},
   "outputs": [],
   "source": [
    "def lyon_phxurl(Teff, logg=4.5, repo='ftp'):\n",
    "    \"\"\"\n",
    "    Constructs the URL for the phoenix spectrum file for a star with effective\n",
    "    temperature Teff, log surface gravity logg, metalicity FeH, and alpha\n",
    "    elemnt abundance aM.\n",
    "\n",
    "    Does not check that the URL is actually valid, and digits beyond the\n",
    "    precision of the numbers used in the path will be truncated.\n",
    "    \"\"\"\n",
    "    phoenixbaseurl = 'https://phoenix.ens-lyon.fr/Grids/BT-Settl/CIFIST2011_2015/SPECTRA/'\n",
    "  \n",
    "    name = 'lte{T:05.1f}-{g:3.1f}-0.0a+0.0.BT-Settl.spec.7.xz'.format(T=Teff/100.0, g=logg)\n",
    "    print(name)\n",
    "\n",
    "    if repo == 'ftp':\n",
    "        #folder = 'Z' + zstr + astr + '/'\n",
    "        return phoenixbaseurl + name\n",
    "    else:\n",
    "        return os.path.join(repo, name)\n",
    "\n",
    "def fetchphxfile(Teff, logg, FeH=0.0, aM=0.0, repo='r', source = 'lyon'):\n",
    "    if source == 'lyon':\n",
    "        loc, ftp = [lyon_phxurl(Teff, logg, repo=r) for r in [repo, 'ftp']]\n",
    "    urlretrieve(ftp, loc)"
   ]
  },
  {
   "cell_type": "code",
   "execution_count": 50,
   "metadata": {},
   "outputs": [],
   "source": [
    "#check it works as is\n",
    "repo = 'test_repo/'\n",
    "#fetchphxfile(2500, 5.0, 0.0, 0.0, repo)\n",
    "#good"
   ]
  },
  {
   "cell_type": "code",
   "execution_count": 43,
   "metadata": {},
   "outputs": [
    {
     "data": {
      "text/plain": [
       "'lte025.0-5.0-0.0a+0.0.BT-Settl.spec.7.xz'"
      ]
     },
     "execution_count": 43,
     "metadata": {},
     "output_type": "execute_result"
    }
   ],
   "source": [
    "#lte025.0-5.0-0.0a+0.0.BT-Settl.spec.7.xz\n",
    "Teff = 2500.\n",
    "logg = 5.0\n",
    "name = 'lte{T:05.1f}-{g:3.1f}-0.0a+0.0.BT-Settl.spec.7.xz'.format(T=Teff/100.0, g=logg)\n",
    "name"
   ]
  },
  {
   "cell_type": "code",
   "execution_count": 48,
   "metadata": {},
   "outputs": [
    {
     "name": "stdout",
     "output_type": "stream",
     "text": [
      "lte025.0-5.0-0.0a+0.0.BT-Settl.spec.7.xz\n",
      "lte025.0-5.0-0.0a+0.0.BT-Settl.spec.7.xz\n"
     ]
    }
   ],
   "source": [
    "fetchphxfile(2500, 5.0, 0.0, 0.0, repo='test_repo/')\n",
    "#lte025.0-5.0-0.0a+0.0.BT-Settl.spec.7.xz"
   ]
  },
  {
   "cell_type": "code",
   "execution_count": 47,
   "metadata": {},
   "outputs": [],
   "source": [
    "import lzma"
   ]
  },
  {
   "cell_type": "code",
   "execution_count": 72,
   "metadata": {},
   "outputs": [
    {
     "name": "stdout",
     "output_type": "stream",
     "text": [
      "lte025.0-5.0-0.0a+0.0.BT-Settl.spec.7\n"
     ]
    }
   ],
   "source": [
    "#spec = lzma.open(repo+name,mode='rt', encoding='utf-8')#\n",
    "nameout = name[:-3]\n",
    "print(nameout)\n",
    "with lzma.open(repo+name) as f, open(repo+nameout, 'wb') as fout: #https://stackoverflow.com/a/33718185\n",
    "    file_content = f.read()\n",
    "    fout.write(file_content)"
   ]
  },
  {
   "cell_type": "code",
   "execution_count": 84,
   "metadata": {},
   "outputs": [
    {
     "data": {
      "image/png": "[encoded data removed]",
      "text/plain": [
       "<Figure size 1008x360 with 1 Axes>"
      ]
     },
     "metadata": {
      "needs_background": "light"
     },
     "output_type": "display_data"
    }
   ],
   "source": [
    "wavemin=2000, # in angstroms\n",
    "wavemax=55000\n",
    "DF = -8.\n",
    "\n",
    "ts = [2700.0, 2700.0, 2600.0, 2600.0]\n",
    "gs = [5.0, 5.5, 5.5, 5.0]\n",
    "waves = []\n",
    "fluxes = []\n",
    "spectra = []\n",
    "npSpectra = [repo+nameout]\n",
    "\n",
    "for i, sp in enumerate(npSpectra):\n",
    "    #params = {'Teff':ts[i], 'logg':gs[i], 'FeH':0.0, 'aM':0.0}\n",
    "    phoenixR = ascii.read(sp,format=\"fixed_width_no_header\",col_starts=(0,14),col_ends=(12,25),delimiter=\" \",names=('Wave','Spec'))\n",
    "    #print(len(phoenixR['Wave']))\n",
    "    ph1, jj = np.unique(np.array(phoenixR['Wave']),return_index=True)\n",
    "    phoenix = np.zeros((len(ph1),2))\n",
    "    for kk in range(len(jj)):\n",
    "        phoenix[kk,1] = np.float64(phoenixR['Spec'][jj[kk]].replace(\"D\",\"E\"))\n",
    "    phoenix[:,0] = ph1\n",
    "    ind = np.where( (phoenix[:,0] <= wavemax) & (phoenix[:,0] >= wavemin))[0]  \n",
    "    xraw = phoenix[:,0]\n",
    "    yraw = np.power(10.,phoenix[:,1] + DF)#.tolist()\n",
    "    waves.append(xraw)\n",
    "    fluxes.append(yraw)\n",
    "   # params.update({'flux':yraw})\n",
    "   # spectra.append(params)\n",
    "   # print(len(params['flux']))\n",
    "    #plt.plot(xraw, params['flux'])\n",
    "plt.plot(waves[0], fluxes[0])\n",
    "plt.xscale('log')\n",
    "plt.yscale('log')\n",
    "#ascii.write(Table([waves[0], fluxes[0]]), repo+'test_small.txt', overwrite=True)"
   ]
  },
  {
   "cell_type": "markdown",
   "metadata": {},
   "source": [
    "Can we expand up to 27000? What's the file size difference? Only a few MB in it, let's do it!"
   ]
  },
  {
   "cell_type": "code",
   "execution_count": null,
   "metadata": {},
   "outputs": [],
   "source": []
  }
 ],
 "metadata": {
  "kernelspec": {
   "display_name": "Python 3",
   "language": "python",
   "name": "python3"
  },
  "language_info": {
   "codemirror_mode": {
    "name": "ipython",
    "version": 3
   },
   "file_extension": ".py",
   "mimetype": "text/x-python",
   "name": "python",
   "nbconvert_exporter": "python",
   "pygments_lexer": "ipython3",
   "version": "3.7.5"
  }
 },
 "nbformat": 4,
 "nbformat_minor": 4
}
