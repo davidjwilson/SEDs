{
 "cells": [
  {
   "cell_type": "markdown",
   "id": "a690a626-0044-42b1-acd0-f596b596f027",
   "metadata": {},
   "source": [
    "Remakes SED files with updated Lya and errors on all models"
   ]
  },
  {
   "cell_type": "code",
   "execution_count": 1,
   "id": "c27d47a8-436c-4c63-90c4-9448ca5d9e59",
   "metadata": {
    "tags": []
   },
   "outputs": [
    {
     "name": "stdout",
     "output_type": "stream",
     "text": [
      "The following tasks in the stistools package can be run with TEAL:\n",
      "   basic2d      calstis     ocrreject     wavecal        x1d          x2d\n"
     ]
    },
    {
     "name": "stderr",
     "output_type": "stream",
     "text": [
      "/home/david/anaconda3/envs/stenv/lib/python3.10/site-packages/stsci/tools/nmpfit.py:8: UserWarning: NMPFIT is deprecated - stsci.tools v 3.5 is the last version to contain it.\n",
      "  warnings.warn(\"NMPFIT is deprecated - stsci.tools v 3.5 is the last version to contain it.\")\n",
      "/home/david/anaconda3/envs/stenv/lib/python3.10/site-packages/stsci/tools/gfit.py:18: UserWarning: GFIT is deprecated - stsci.tools v 3.4.12 is the last version to contain it.Use astropy.modeling instead.\n",
      "  warnings.warn(\"GFIT is deprecated - stsci.tools v 3.4.12 is the last version to contain it.\"\n"
     ]
    }
   ],
   "source": [
    "import numpy as np\n",
    "import matplotlib.pyplot as plt\n",
    "import astropy.io.fits as fits\n",
    "import os\n",
    "import glob\n",
    "from astropy.table import Table\n",
    "from astropy.io import ascii\n",
    "import astropy.units as u\n",
    "import astropy.constants as const\n",
    "from scipy.interpolate import interpolate\n",
    "from craftroom import resample\n",
    "import stistools\n",
    "from astropy.convolution import convolve, Box1DKernel\n",
    "from astropy.modeling import models, fitting\n",
    "from scipy.io import readsav\n",
    "\n",
    "\n",
    "#matplotlib set up\n",
    "%matplotlib inline\n",
    "from matplotlib import rcParams\n",
    "rcParams[\"figure.figsize\"] = (14, 5)\n",
    "rcParams[\"font.size\"] = 20\n"
   ]
  },
  {
   "cell_type": "code",
   "execution_count": 2,
   "id": "e64044c7-4053-4dbd-938a-ecd87b856a91",
   "metadata": {
    "tags": []
   },
   "outputs": [],
   "source": [
    "stars =['GJ1132',\n",
    " 'GJ15A',\n",
    " 'GJ163',\n",
    " 'GJ649',\n",
    " 'GJ674',\n",
    " 'GJ676A',\n",
    " 'GJ699',\n",
    " 'GJ729',\n",
    " 'GJ849',\n",
    " 'L-980-5',\n",
    " 'LHS-2686',\n",
    " 'TRAPPIST-1']\n",
    "\n"
   ]
  },
  {
   "cell_type": "markdown",
   "id": "45862fea-584b-4339-bfae-fc6c6c183ed1",
   "metadata": {
    "tags": []
   },
   "source": [
    "Lya. Technique -rather than try to update prepare model here, use the g430L (as they all have it) as the basis and go from there."
   ]
  },
  {
   "cell_type": "code",
   "execution_count": 4,
   "id": "e79dc22b-5169-47f2-ab8e-c3c7f3432657",
   "metadata": {
    "tags": []
   },
   "outputs": [
    {
     "data": {
      "text/plain": [
       "['../new_lya/GJ649_LyA_only_CowanSR_MCMC_results.csv',\n",
       " '../new_lya/GJ674_LyA_only_CowanSR_MCMC_results.csv',\n",
       " '../new_lya/GJ15A_LyA_only_CowanSR_MCMC_results.csv',\n",
       " '../new_lya/GJ729_LyA_only_CowanSR_MCMC_results.csv',\n",
       " '../new_lya/GJ849_LyA_only_CowanSR_MCMC_results.csv',\n",
       " '../new_lya/GJ1132_LyA_only_CowanSR_MCMC_results.csv',\n",
       " '../new_lya/LHS2686_LyA_only_CowanSR_MCMC_results.csv',\n",
       " '../new_lya/GJ676A_LyA_only_CowanSR_MCMC_results.csv',\n",
       " '../new_lya/GJ163_LyA_only_CowanSR_MCMC_results.csv']"
      ]
     },
     "execution_count": 4,
     "metadata": {},
     "output_type": "execute_result"
    }
   ],
   "source": [
    "hlsp_path = '/media/david/2tb_ext_hd/hddata/mega_muscles/v10_hlsp/'\n",
    "path = '../new_lya/'\n",
    "lyas = glob.glob('{}*results.csv'.format(path))\n",
    "lyas"
   ]
  },
  {
   "cell_type": "code",
   "execution_count": 31,
   "id": "081a63c9-7ef4-4e9a-b198-536a80054921",
   "metadata": {
    "tags": []
   },
   "outputs": [],
   "source": [
    "import prepare_model"
   ]
  },
  {
   "cell_type": "code",
   "execution_count": 33,
   "id": "069d616a-1d7a-4a40-9578-51930514f33f",
   "metadata": {
    "tags": []
   },
   "outputs": [],
   "source": [
    "def wavelength_edges(w):\n",
    "    \"\"\"\n",
    "    Calulates w0 and w1\n",
    "    \"\"\"\n",
    "    diff = np.diff(w)\n",
    "    diff0 = np.concatenate((np.array([diff[0]]), diff)) #adds an extravalue to make len(diff) = len(w)\n",
    "    diff1 = np.concatenate((diff, np.array([diff[-1]]))) #adds an extravalue to make len(diff) = len(w)\n",
    "    w0 = w - diff0/2.\n",
    "    w1 = w + diff1/2.\n",
    "    return w0, w1"
   ]
  },
  {
   "cell_type": "code",
   "execution_count": 46,
   "id": "286fdad6-6eda-4109-8a98-9807b73eddb8",
   "metadata": {
    "tags": []
   },
   "outputs": [
    {
     "name": "stdout",
     "output_type": "stream",
     "text": [
      "GJ1132\n",
      "Spectrum saved as hlsp_muscles_model_lya-reconstruction_gj1132_na_v24_component-spec.fits\n",
      "GJ15A\n",
      "Spectrum saved as hlsp_muscles_model_lya-reconstruction_gj15a_na_v24_component-spec.fits\n",
      "GJ163\n",
      "Spectrum saved as hlsp_muscles_model_lya-reconstruction_gj163_na_v24_component-spec.fits\n",
      "GJ649\n",
      "Spectrum saved as hlsp_muscles_model_lya-reconstruction_gj649_na_v24_component-spec.fits\n",
      "GJ674\n",
      "Spectrum saved as hlsp_muscles_model_lya-reconstruction_gj674_na_v24_component-spec.fits\n",
      "GJ676A\n",
      "Spectrum saved as hlsp_muscles_model_lya-reconstruction_gj676a_na_v24_component-spec.fits\n",
      "GJ699\n",
      "Spectrum saved as hlsp_muscles_model_lya-reconstruction_gj699_na_v24_component-spec.fits\n",
      "GJ729\n",
      "Spectrum saved as hlsp_muscles_model_lya-reconstruction_gj729_na_v24_component-spec.fits\n",
      "GJ849\n",
      "Spectrum saved as hlsp_muscles_model_lya-reconstruction_gj849_na_v24_component-spec.fits\n",
      "L-980-5\n",
      "Spectrum saved as hlsp_muscles_model_lya-reconstruction_l-980-5_na_v24_component-spec.fits\n",
      "LHS-2686\n",
      "Spectrum saved as hlsp_muscles_model_lya-reconstruction_lhs-2686_na_v24_component-spec.fits\n",
      "TRAPPIST-1\n",
      "Spectrum saved as hlsp_muscles_model_lya-reconstruction_2mass-j23062928-0502285_na_v24_component-spec.fits\n"
     ]
    }
   ],
   "source": [
    "\n",
    "for star in stars:\n",
    "    print(star)\n",
    "    if star == 'TRAPPIST-1':\n",
    "        data = Table.read('../new_lya/TRAPPIST1_MCMC_results.txt', format='csv')\n",
    "        w, f = data['wave_mm'], data['LyA_intrinsic_profile_median_mm']\n",
    "        e = np.mean([(data['LyA_intrinsic_profile_high_1sig_mm']-f),(f-data['LyA_intrinsic_profile_low_1sig_mm'])], axis=0)\n",
    "        \n",
    "        \n",
    "        \n",
    "    elif star == 'GJ699':\n",
    "        data = Table.read('../new_lya/GJ699_G140M_final_fits.txt', format='csv')\n",
    "        w, f = data['wave'], data['best_fit_intrinsic']\n",
    "        e = np.mean([(data['intrinsic_high_1sig']-f),(f-data['intrinsic_low_1sig'])], axis=0)\n",
    "        \n",
    "    elif star=='L-980-5':\n",
    "        data = Table.read('../new_lya/L980-5_lya_basic.txt', format='csv')\n",
    "        w, f = data['WAVELENGTH'], data['FLUX']\n",
    "        data = Table.read('../new_lya/GJ699_G140M_final_fits.txt', format='csv')\n",
    "        modup = np.median((data['intrinsic_high_1sig']-data['best_fit_intrinsic'])/data['best_fit_intrinsic']) #need for L980-5\n",
    "        moddn = np.median((abs(data['intrinsic_low_1sig']-data['best_fit_intrinsic']))/data['best_fit_intrinsic']) #need for L980-5\n",
    "        e = np.mean([f*modup, f*moddn], axis=0) \n",
    "\n",
    "    else:\n",
    "        data = Table.read('{}{}_LyA_only_CowanSR_MCMC_results.csv'.format(path, star.replace('-', '')))\n",
    "        w, f = data['wave_lya'], data['lya_intrinsic_median']\n",
    "        e = np.mean([(data['lya_intrinsic_high_1sig']-f),(f-data['lya_intrinsic_low_1sig'])], axis=0)\n",
    "        \n",
    "    \n",
    "    g430l = glob.glob('{}{}/*g430l*'.format(hlsp_path, star))[0]\n",
    "    hdr = fits.getheader(g430l, 0)\n",
    "    \n",
    "    w0, w1 = wavelength_edges(w)\n",
    "    \n",
    "    model_data = Table([w*u.AA,w0*u.AA, w1*u.AA, f*u.erg/u.s/u.cm**2/u.AA, e*u.erg/u.s/u.cm**2/u.AA], names=['WAVELENGTH', 'WAVELENGTH0', 'WAVELENGTH1', 'FLUX', 'ERROR'])\n",
    "    savepath = '/media/david/2tb_ext_hd/hddata/mega_muscles/v24_hlsp/{}/'.format(star)\n",
    "\n",
    "    normfac = 1.0\n",
    "    metadata = prepare_model.make_model_metadata(model_data,  normfac, hdr, 'LYA-RECONSTRUCTION')\n",
    "    version =24\n",
    "    prepare_model.model_save_to_fits(model_data, metadata, savepath, version)\n",
    "    \n",
    "    \n",
    "        \n",
    "#     plt.plot(w, f)\n",
    "#     plt.plot(w, e)\n",
    "#     plt.show()\n",
    "\n",
    "    "
   ]
  },
  {
   "cell_type": "markdown",
   "id": "8e33a87c-b913-4e16-9015-7f293334a8a9",
   "metadata": {},
   "source": [
    "PHX - build on optical_model_uncertanties in optical dir "
   ]
  },
  {
   "cell_type": "code",
   "execution_count": 5,
   "id": "4a9aa52a-c85f-4562-ba8d-4c266c39119c",
   "metadata": {
    "tags": []
   },
   "outputs": [],
   "source": [
    "params = Table.read('../optical/stellar_parameters.csv')"
   ]
  },
  {
   "cell_type": "code",
   "execution_count": 29,
   "id": "c3516d37-092e-4b60-9f9b-8b96092612bc",
   "metadata": {
    "tags": []
   },
   "outputs": [],
   "source": [
    "# import prepare_phoenix_svo as pp\n"
   ]
  },
  {
   "cell_type": "code",
   "execution_count": 41,
   "id": "1b9a8a3a-d91d-41b9-9bff-5f20a18e618d",
   "metadata": {
    "tags": []
   },
   "outputs": [],
   "source": [
    "# G = const.G\n",
    "# M = const.M_sun.to(u.kg)\n",
    "# R = const.R_sun.to(u.m)\n",
    "# repo = '/media/david/2tb_ext_hd/hddata/mega_muscles/data-vacuum/'\n",
    "# for row in params:\n",
    "#     star = row['Target']\n",
    "#     star = star.replace(' ', '')\n",
    "#     print(star)\n",
    "#     mass = row['Mass']\n",
    "#     teff = row['Teff']\n",
    "#     teff_e = row['Teff_e']\n",
    "#     radius = row['Radius']\n",
    "#     distance = row['distance']\n",
    "#     savepath = 'new_phx_intermediates/'\n",
    "#     g = ((G*mass*M)/(radius*R)**2).to(u.cm/u.s**2)\n",
    "#     star_params = {'Teff': teff, 'logg': np.log10(g.value), 'FeH': 0.00, 'aM': 0, 'Radius':radius*u.R_sun, 'Distance':distance*u.pc, 'Teff_e':teff_e}\n",
    "#     pw, pf, pe = pp.make_phoenix_spectrum(star, savepath, repo, star_params, save_ecsv=True, plot=False, make_error=True)\n",
    "#     normfac = ((radius*R)/((distance*u.pc).to(u.m)))**2\n",
    "    \n",
    "#     plt.plot(pw, pf)\n",
    "#     plt.plot(pw, pe)\n",
    "#     plt.yscale('log')\n",
    "#     plt.xscale('log')\n",
    "#     plt.show()\n",
    "    \n",
    "\n",
    "\n",
    "\n",
    "\n",
    "\n",
    "\n",
    "\n",
    "# # star_params = {'Teff': teff, 'logg': np.log10(g.value), 'FeH': 0.00, 'aM': 0, 'Radius':radius*u.R_sun, 'Distance':distance*u.pc, 'Teff_e':teff_e}\n",
    "# # pw, pf, pe = pp.make_phoenix_spectrum(star, save_path, repo, star_params, save_ecsv=True, plot=False, make_error=True)\n",
    "# # \n"
   ]
  },
  {
   "cell_type": "code",
   "execution_count": 45,
   "id": "c0c00304-5c2d-48b8-b7f8-6391dc59cd9a",
   "metadata": {
    "tags": []
   },
   "outputs": [
    {
     "name": "stdout",
     "output_type": "stream",
     "text": [
      "Spectrum saved as hlsp_muscles_model_phx_gj1132_na_v24_component-spec.fits\n",
      "Spectrum saved as hlsp_muscles_model_phx_gj15a_na_v24_component-spec.fits\n",
      "Spectrum saved as hlsp_muscles_model_phx_gj163_na_v24_component-spec.fits\n",
      "Spectrum saved as hlsp_muscles_model_phx_gj649_na_v24_component-spec.fits\n",
      "Spectrum saved as hlsp_muscles_model_phx_gj674_na_v24_component-spec.fits\n",
      "Spectrum saved as hlsp_muscles_model_phx_gj676a_na_v24_component-spec.fits\n",
      "Spectrum saved as hlsp_muscles_model_phx_gj699_na_v24_component-spec.fits\n",
      "Spectrum saved as hlsp_muscles_model_phx_gj729_na_v24_component-spec.fits\n",
      "Spectrum saved as hlsp_muscles_model_phx_gj849_na_v24_component-spec.fits\n",
      "Spectrum saved as hlsp_muscles_model_phx_l-980-5_na_v24_component-spec.fits\n",
      "Spectrum saved as hlsp_muscles_model_phx_lhs-2686_na_v24_component-spec.fits\n",
      "Spectrum saved as hlsp_muscles_model_phx_2mass-j23062928-0502285_na_v24_component-spec.fits\n"
     ]
    }
   ],
   "source": [
    "for star in stars:\n",
    "    phx = Table.read('new_phx_intermediates/{}_phoenix_interpolated.ecsv'.format(star))\n",
    "    \n",
    "    g430l = glob.glob('{}{}/*g430l*'.format(hlsp_path, star))[0]\n",
    "    hdr = fits.getheader(g430l, 0)\n",
    "\n",
    "    w0, w1 = wavelength_edges(phx['WAVELENGTH'])\n",
    "    \n",
    "    model_data = Table([phx['WAVELENGTH']*u.AA, w0*u.AA, w1*u.AA, phx['FLUX']*u.erg/u.s/u.cm**2/u.AA,  phx['ERROR']*u.erg/u.s/u.cm**2/u.AA], names=['WAVELENGTH', 'WAVELENGTH0', 'WAVELENGTH1', 'FLUX', 'ERROR'])\n",
    "    savepath = '/media/david/2tb_ext_hd/hddata/mega_muscles/v24_hlsp/{}/'.format(star)\n",
    "    normfac = phx.meta['NORMFAC'].value\n",
    "    metadata = prepare_model.make_model_metadata(model_data,  normfac, hdr, 'PHX')\n",
    "    # savepath = 'new_phx_hlsp/'\n",
    "    version =24\n",
    "    prepare_model.model_save_to_fits(model_data, metadata, savepath, version)"
   ]
  },
  {
   "cell_type": "markdown",
   "id": "22ce4696-14ba-4ed0-89b8-618f5b9c9b34",
   "metadata": {},
   "source": [
    "APEC, already did some work for this... waiting to see if Alex has a table."
   ]
  },
  {
   "cell_type": "markdown",
   "id": "6dc9053b-4fd4-44a5-8d07-2a256eaa0704",
   "metadata": {},
   "source": [
    "Linsky scalings - Lya errors? They have systematic uncertainties as well. Could ignore. Make table of Lya flux and error, will need it for paper anyway"
   ]
  },
  {
   "cell_type": "code",
   "execution_count": 17,
   "id": "8d3af3bc-522b-4f57-b037-7e6e16dab24c",
   "metadata": {
    "tags": []
   },
   "outputs": [],
   "source": [
    "import importlib\n",
    "import linsky_euv"
   ]
  },
  {
   "cell_type": "code",
   "execution_count": 42,
   "id": "b119b480-4d8c-418f-b050-3a7a06c64bc6",
   "metadata": {},
   "outputs": [
    {
     "name": "stdout",
     "output_type": "stream",
     "text": [
      "Spectrum saved as hlsp_muscles_model_euv-scaling_gj1132_na_v24_component-spec.fits\n",
      "Spectrum saved as hlsp_muscles_model_euv-scaling_gj15a_na_v24_component-spec.fits\n",
      "Spectrum saved as hlsp_muscles_model_euv-scaling_gj163_na_v24_component-spec.fits\n",
      "Spectrum saved as hlsp_muscles_model_euv-scaling_gj649_na_v24_component-spec.fits\n",
      "Spectrum saved as hlsp_muscles_model_euv-scaling_gj674_na_v24_component-spec.fits\n",
      "Spectrum saved as hlsp_muscles_model_euv-scaling_gj676a_na_v24_component-spec.fits\n",
      "Spectrum saved as hlsp_muscles_model_euv-scaling_gj699_na_v24_component-spec.fits\n",
      "Spectrum saved as hlsp_muscles_model_euv-scaling_gj729_na_v24_component-spec.fits\n",
      "Spectrum saved as hlsp_muscles_model_euv-scaling_gj849_na_v24_component-spec.fits\n",
      "Spectrum saved as hlsp_muscles_model_euv-scaling_l-980-5_na_v24_component-spec.fits\n",
      "Spectrum saved as hlsp_muscles_model_euv-scaling_lhs-2686_na_v24_component-spec.fits\n",
      "Spectrum saved as hlsp_muscles_model_euv-scaling_2mass-j23062928-0502285_na_v24_component-spec.fits\n"
     ]
    },
    {
     "data": {
      "image/png": "[encoded data removed]",
      "text/plain": [
       "<Figure size 2800x1000 with 1 Axes>"
      ]
     },
     "metadata": {},
     "output_type": "display_data"
    }
   ],
   "source": [
    "importlib.reload(linsky_euv)\n",
    "\n",
    "# hlsp_path = '/media/david/2tb_ext_hd/hddata/mega_muscles/v10_hlsp/'\n",
    "lya_f = []\n",
    "lya_feu = []\n",
    "lya_fel = []\n",
    "lya_n = []\n",
    "lya_neu = []\n",
    "lya_nel = []\n",
    "lya_p = []\n",
    "lya_peu = []\n",
    "lya_pel = []\n",
    "\n",
    "        \n",
    "distances = [12.03804021, 3.562014676, 15.01726986, 10.3755966, 4.540501271, 15.85539876,1.823785815,2.969826562,8.830022075,13.39405304,13.14060447,12.10946961]\n",
    "\n",
    "\n",
    "for i, star in enumerate(stars):\n",
    "    # print(star)\n",
    "    if star == 'TRAPPIST-1':\n",
    "        fi, feu, fel = 1.4e-14, 0.6e-14,0.36e-14\n",
    "        ni, neu, nel = 18.4, 0.1, 0.1\n",
    "        pi, peu, pel = 0.0, 0.0, 0.0\n",
    "        \n",
    "    elif star == 'GJ699':\n",
    "        data = Table.read('../new_lya/GJ699_G140M_final_fits.txt', format='csv')\n",
    "        fi, feu, fel = 1.02e-12, 0.02e-12, 0.02e-12\n",
    "        ni, neu, nel = 17.6, 0.02, 0.02\n",
    "        pi, peu, pel = 0.0, 0.0, 0.0\n",
    "       \n",
    "    elif star=='L-980-5':\n",
    "        data = Table.read('../new_lya/L980-5_lya_basic.txt', format='csv')\n",
    "        fi, feu, fel = 4.4e-14, 0.9e-14, 0.9e-14\n",
    "        ni, neu, nel = 0.0, 0.0, 0.0\n",
    "        pi, peu, pel = 0.0, 0.0, 0.0 \n",
    "        # w, f = data['WAVELENGTH'], data['FLUX']\n",
    "        # data = Table.read('../new_lya/GJ699_G140M_final_fits.txt', format='csv')\n",
    "        # modup = np.median((data['intrinsic_high_1sig']-data['best_fit_intrinsic'])/data['best_fit_intrinsic']) #need for L980-5\n",
    "        # moddn = np.median((abs(data['intrinsic_low_1sig']-data['best_fit_intrinsic']))/data['best_fit_intrinsic']) #need for L980-5\n",
    "        # e = np.mean([f*modup, f*moddn], axis=0) \n",
    "\n",
    "    else:\n",
    "        data = Table.read('{}{}_LyA_only_CowanSR_MCMC_results.csv'.format(path, star.replace('-', '')))\n",
    "        f, n, p = data['lya_intrinsic_fluxes'], data['h1_col value'], data['p value']\n",
    "        fi, feu, fel = f[2], f[3]-f[2], f[2]-f[1]\n",
    "        ni, neu, nel = n[2], n[3]-n[2], n[2]-n[1]\n",
    "        pi, peu, pel = p[2], p[3]-p[2], p[2]-p[1]\n",
    "    lya_f.append(fi)\n",
    "    lya_feu.append(feu)\n",
    "    lya_fel.append(fel)\n",
    "    lya_n.append(ni)\n",
    "    lya_neu.append(neu)\n",
    "    lya_nel.append(nel)\n",
    "    lya_p.append(pi)\n",
    "    lya_peu.append(peu)\n",
    "    lya_pel.append(pel)\n",
    "    \n",
    "    w_euv, f_euv = linsky_euv.euv_estimator(fi, distances[i], star=star)\n",
    "    w_euv, eu_euv = linsky_euv.euv_estimator(fi+feu, distances[i], star=star)\n",
    "    w_euv, el_euv = linsky_euv.euv_estimator(fi-fel, distances[i], star=star)\n",
    "    \n",
    "    e_euv = np.mean([f_euv-el_euv, eu_euv-f_euv], axis=0)\n",
    "    \n",
    "    plt.step(w_euv, f_euv, where='mid')\n",
    "    # mask = np.isnan(f_euv)==True\n",
    "    # plt.scatter(w_euv[mask], w_euv[mask])\n",
    "    # plt.axvline(100)\n",
    "    # plt.axvline(1170)\n",
    "    \n",
    "    \n",
    "    # plt.step(w_euv, e_euv, where='mid')\n",
    "    plt.yscale('log')\n",
    "    \n",
    "    # plt.show()\n",
    "    g430l = glob.glob('{}{}/*g430l*'.format(hlsp_path, star))[0]\n",
    "    hdr = fits.getheader(g430l, 0)\n",
    "\n",
    "    w0, w1 = wavelength_edges(w_euv)\n",
    "    \n",
    "    model_data = Table([w_euv*u.AA,w0*u.AA, w1*u.AA, f_euv*u.erg/u.s/u.cm**2/u.AA,  e_euv*u.erg/u.s/u.cm**2/u.AA], names=['WAVELENGTH', 'WAVELENGTH0', 'WAVELENGTH1', 'FLUX', 'ERROR'])\n",
    "    savepath = '/media/david/2tb_ext_hd/hddata/mega_muscles/v24_hlsp/{}/'.format(star)\n",
    "\n",
    "    normfac = 1.0\n",
    "    metadata = prepare_model.make_model_metadata(model_data,  normfac, hdr, 'euv-scaling')\n",
    "    # savepath = 'new_euv_hlsp/'\n",
    "    version =24\n",
    "    prepare_model.model_save_to_fits(model_data, metadata, savepath, version)\n",
    "    \n",
    "        \n",
    "\n",
    "\n",
    "    "
   ]
  },
  {
   "cell_type": "code",
   "execution_count": 22,
   "id": "7315f61e-995a-4009-a7da-374838beec7d",
   "metadata": {
    "tags": []
   },
   "outputs": [
    {
     "name": "stdout",
     "output_type": "stream",
     "text": [
      "GJ1132 & $0.9^{+0.56}_{-0.23}$ & $17.5^{+0.62}_{-0.88}$ & $1.34^{+0.3}_{-0.24}$ \\\\ \n"
     ]
    },
    {
     "ename": "IndexError",
     "evalue": "list index out of range",
     "output_type": "error",
     "traceback": [
      "\u001b[0;31m---------------------------------------------------------------------------\u001b[0m",
      "\u001b[0;31mIndexError\u001b[0m                                Traceback (most recent call last)",
      "Cell \u001b[0;32mIn[22], line 3\u001b[0m\n\u001b[1;32m      1\u001b[0m \u001b[38;5;28;01mfor\u001b[39;00m i, star \u001b[38;5;129;01min\u001b[39;00m \u001b[38;5;28menumerate\u001b[39m(stars):\n\u001b[1;32m      2\u001b[0m     name \u001b[38;5;241m=\u001b[39m \u001b[38;5;124m'\u001b[39m\u001b[38;5;132;01m{0}\u001b[39;00m\u001b[38;5;124m & \u001b[39m\u001b[38;5;124m'\u001b[39m\u001b[38;5;241m.\u001b[39mformat(star)\n\u001b[0;32m----> 3\u001b[0m     flux \u001b[38;5;241m=\u001b[39m\u001b[38;5;124m'\u001b[39m\u001b[38;5;124m$\u001b[39m\u001b[38;5;132;01m{0:.2g}\u001b[39;00m\u001b[38;5;124m^\u001b[39m\u001b[38;5;124m{{\u001b[39m\u001b[38;5;124m+\u001b[39m\u001b[38;5;132;01m{1:.2g}\u001b[39;00m\u001b[38;5;124m}}_\u001b[39m\u001b[38;5;124m{{\u001b[39m\u001b[38;5;124m-\u001b[39m\u001b[38;5;132;01m{2:.2g}\u001b[39;00m\u001b[38;5;124m}}$ & \u001b[39m\u001b[38;5;124m'\u001b[39m\u001b[38;5;241m.\u001b[39mformat(\u001b[43mlya_f\u001b[49m\u001b[43m[\u001b[49m\u001b[43mi\u001b[49m\u001b[43m]\u001b[49m\u001b[38;5;241m*\u001b[39m\u001b[38;5;241m1e14\u001b[39m, lya_feu[i]\u001b[38;5;241m*\u001b[39m\u001b[38;5;241m1e14\u001b[39m,lya_fel[i]\u001b[38;5;241m*\u001b[39m\u001b[38;5;241m1e14\u001b[39m)\n\u001b[1;32m      4\u001b[0m     ism \u001b[38;5;241m=\u001b[39m \u001b[38;5;124m'\u001b[39m\u001b[38;5;124m$\u001b[39m\u001b[38;5;132;01m{0:.3g}\u001b[39;00m\u001b[38;5;124m^\u001b[39m\u001b[38;5;124m{{\u001b[39m\u001b[38;5;124m+\u001b[39m\u001b[38;5;132;01m{1:.2g}\u001b[39;00m\u001b[38;5;124m}}_\u001b[39m\u001b[38;5;124m{{\u001b[39m\u001b[38;5;124m-\u001b[39m\u001b[38;5;132;01m{2:.2g}\u001b[39;00m\u001b[38;5;124m}}$ & \u001b[39m\u001b[38;5;124m'\u001b[39m\u001b[38;5;241m.\u001b[39mformat(lya_n[i], lya_neu[i],lya_nel[i])\n\u001b[1;32m      5\u001b[0m     sr \u001b[38;5;241m=\u001b[39m \u001b[38;5;124m'\u001b[39m\u001b[38;5;124m$\u001b[39m\u001b[38;5;132;01m{0:.3g}\u001b[39;00m\u001b[38;5;124m^\u001b[39m\u001b[38;5;124m{{\u001b[39m\u001b[38;5;124m+\u001b[39m\u001b[38;5;132;01m{1:.2g}\u001b[39;00m\u001b[38;5;124m}}_\u001b[39m\u001b[38;5;124m{{\u001b[39m\u001b[38;5;124m-\u001b[39m\u001b[38;5;132;01m{2:.2g}\u001b[39;00m\u001b[38;5;124m}}$ \u001b[39m\u001b[38;5;130;01m\\\\\u001b[39;00m\u001b[38;5;124m\\\u001b[39m\u001b[38;5;124m \u001b[39m\u001b[38;5;124m'\u001b[39m\u001b[38;5;241m.\u001b[39mformat(lya_p[i], lya_peu[i],lya_pel[i])\n",
      "\u001b[0;31mIndexError\u001b[0m: list index out of range"
     ]
    }
   ],
   "source": [
    "for i, star in enumerate(stars):\n",
    "    name = '{0} & '.format(star)\n",
    "    flux ='${0:.2g}^{{+{1:.2g}}}_{{-{2:.2g}}}$ & '.format(lya_f[i]*1e14, lya_feu[i]*1e14,lya_fel[i]*1e14)\n",
    "    ism = '${0:.3g}^{{+{1:.2g}}}_{{-{2:.2g}}}$ & '.format(lya_n[i], lya_neu[i],lya_nel[i])\n",
    "    sr = '${0:.3g}^{{+{1:.2g}}}_{{-{2:.2g}}}$ \\\\\\ '.format(lya_p[i], lya_peu[i],lya_pel[i])\n",
    "    \n",
    "    print(name + flux + ism +sr)\n",
    "    \n"
   ]
  },
  {
   "cell_type": "code",
   "execution_count": 23,
   "id": "59621f97-f49c-4075-9e90-a6b8a571b885",
   "metadata": {
    "tags": []
   },
   "outputs": [
    {
     "name": "stdout",
     "output_type": "stream",
     "text": [
      "GJ 1132 12.03804021\n",
      "GJ 676A 15.85539876\n",
      "GJ 15A 3.562014676\n",
      "GJ 649 10.3755966\n",
      "GJ 163 15.01726986\n",
      "GJ 849 8.830022075\n",
      "GJ 674 4.540501271\n",
      "GJ 699 1.823785815\n",
      "L 980-5 13.39405304\n",
      "LHS 2686 13.14060447\n",
      "GJ 729 2.969826562\n",
      "Trappist-1 12.10946961\n"
     ]
    }
   ],
   "source": [
    "for row in params:\n",
    "    print(row['Target'], row['distance'])"
   ]
  },
  {
   "cell_type": "code",
   "execution_count": 24,
   "id": "d156f03b-efff-4434-9904-e87dc63c17de",
   "metadata": {
    "tags": []
   },
   "outputs": [
    {
     "data": {
      "text/plain": [
       "['GJ1132',\n",
       " 'GJ15A',\n",
       " 'GJ163',\n",
       " 'GJ649',\n",
       " 'GJ674',\n",
       " 'GJ676A',\n",
       " 'GJ699',\n",
       " 'GJ729',\n",
       " 'GJ849',\n",
       " 'L-980-5',\n",
       " 'LHS-2686',\n",
       " 'TRAPPIST-1']"
      ]
     },
     "execution_count": 24,
     "metadata": {},
     "output_type": "execute_result"
    }
   ],
   "source": [
    "stars"
   ]
  },
  {
   "cell_type": "code",
   "execution_count": 36,
   "id": "8476ed4d-f56b-45c0-99eb-4775ecafe347",
   "metadata": {
    "tags": []
   },
   "outputs": [
    {
     "name": "stdout",
     "output_type": "stream",
     "text": [
      "5.934 2.4359802954868086 0.4105123517840931 0.33251500494511543\n"
     ]
    }
   ],
   "source": [
    "#estimate errors for l 980-5 using upper limit on count rate\n",
    "rate = 0.86*6.9\n",
    "sqrt = rate**0.5\n",
    "eper = sqrt/rate\n",
    "fx = 0.81\n",
    "e = fx*eper\n",
    "print(rate, sqrt, eper, e)"
   ]
  },
  {
   "cell_type": "code",
   "execution_count": 7,
   "id": "f12a37ac-64b2-444e-899d-405dbabf8d95",
   "metadata": {},
   "outputs": [
    {
     "data": {
      "text/plain": [
       "['../xray/new_apec_specs/GJ676A_apec_errs.ecsv',\n",
       " '../xray/new_apec_specs/GJ649_apec_errs.ecsv',\n",
       " '../xray/new_apec_specs/GJ163_apec_errs.ecsv',\n",
       " '../xray/new_apec_specs/GJ699_apec_errs.ecsv',\n",
       " '../xray/new_apec_specs/TRAPPIST-1_apec_errs.ecsv',\n",
       " '../xray/new_apec_specs/GJ729_apec_errs.ecsv',\n",
       " '../xray/new_apec_specs/GJ15A_apec_errs.ecsv',\n",
       " '../xray/new_apec_specs/GJ1132_apec_errs.ecsv',\n",
       " '../xray/new_apec_specs/GJ674_apec_errs.ecsv',\n",
       " '../xray/new_apec_specs/GJ849_apec_errs.ecsv',\n",
       " '../xray/new_apec_specs/L-980-5_apec_errs.ecsv',\n",
       " '../xray/new_apec_specs/LHS-2686_apec_errs.ecsv']"
      ]
     },
     "execution_count": 7,
     "metadata": {},
     "output_type": "execute_result"
    }
   ],
   "source": [
    "new_apecs = glob.glob('../xray/new_apec_specs/*apec*')\n",
    "new_apecs"
   ]
  },
  {
   "cell_type": "code",
   "execution_count": 41,
   "id": "e7af122e-99b3-41e8-ad03-cb51770cfb6e",
   "metadata": {
    "tags": []
   },
   "outputs": [
    {
     "name": "stdout",
     "output_type": "stream",
     "text": [
      "Spectrum saved as hlsp_muscles_model_apec_gj1132_na_v24_component-spec.fits\n",
      "Spectrum saved as hlsp_muscles_model_apec_gj15a_na_v24_component-spec.fits\n",
      "Spectrum saved as hlsp_muscles_model_apec_gj163_na_v24_component-spec.fits\n",
      "Spectrum saved as hlsp_muscles_model_apec_gj649_na_v24_component-spec.fits\n",
      "Spectrum saved as hlsp_muscles_model_apec_gj674_na_v24_component-spec.fits\n",
      "Spectrum saved as hlsp_muscles_model_apec_gj676a_na_v24_component-spec.fits\n",
      "Spectrum saved as hlsp_muscles_model_apec_gj699_na_v24_component-spec.fits\n",
      "Spectrum saved as hlsp_muscles_model_apec_gj729_na_v24_component-spec.fits\n",
      "Spectrum saved as hlsp_muscles_model_apec_gj849_na_v24_component-spec.fits\n",
      "Spectrum saved as hlsp_muscles_model_apec_l-980-5_na_v24_component-spec.fits\n",
      "Spectrum saved as hlsp_muscles_model_apec_lhs-2686_na_v24_component-spec.fits\n",
      "Spectrum saved as hlsp_muscles_model_apec_2mass-j23062928-0502285_na_v24_component-spec.fits\n"
     ]
    }
   ],
   "source": [
    "for star in stars:\n",
    "    g430l = glob.glob('{}{}/*g430l*'.format(hlsp_path, star))[0]\n",
    "    hdr = fits.getheader(g430l, 0)\n",
    "    \n",
    "    apec = glob.glob('../xray/new_apec_specs/*{}_apec*'.format(star))\n",
    "    model_data = Table.read(apec[0])\n",
    "    \n",
    "    w0, w1 = wavelength_edges(model_data['WAVELENGTH'])\n",
    "    \n",
    "    model_data = Table([model_data['WAVELENGTH']*u.AA,w0*u.AA, w1*u.AA, model_data['FLUX']*u.erg/u.s/u.cm**2/u.AA, model_data['ERROR']*u.erg/u.s/u.cm**2/u.AA], names=['WAVELENGTH', 'WAVELENGTH0', 'WAVELENGTH1', 'FLUX', 'ERROR'])\n",
    "    savepath = '/media/david/2tb_ext_hd/hddata/mega_muscles/v24_hlsp/{}/'.format(star)\n",
    "\n",
    "\n",
    "    normfac = 1.0\n",
    "    metadata = prepare_model.make_model_metadata(model_data,  normfac, hdr, 'apec')\n",
    "    # savepath = 'new_apec_hlsp/'\n",
    "    version =24\n",
    "    prepare_model.model_save_to_fits(model_data, metadata, savepath, version)"
   ]
  },
  {
   "cell_type": "markdown",
   "id": "9b414649-fa3a-4c9b-9d10-b45476bb7208",
   "metadata": {},
   "source": [
    "Last but not least, DEMS. New ones later."
   ]
  },
  {
   "cell_type": "code",
   "execution_count": 13,
   "id": "5f351097-2434-4e60-9e5e-f00f419e5641",
   "metadata": {
    "tags": []
   },
   "outputs": [],
   "source": [
    "# dempaths = ['../trappist-1/dem/trappist-1_dem_table.dat', ]"
   ]
  },
  {
   "cell_type": "code",
   "execution_count": 80,
   "id": "43bbe407-b0d5-4a44-a36d-ab39931af4e7",
   "metadata": {
    "tags": []
   },
   "outputs": [
    {
     "data": {
      "text/plain": [
       "-0.029287063158964344"
      ]
     },
     "execution_count": 80,
     "metadata": {},
     "output_type": "execute_result"
    }
   ],
   "source": [
    "17.72113803571706 - 17.750425098876025"
   ]
  },
  {
   "cell_type": "markdown",
   "id": "891008dc-3a05-4751-b6a5-7960569ea5e5",
   "metadata": {},
   "source": [
    "oops forgot to add W0, W1 to the new models..."
   ]
  },
  {
   "cell_type": "code",
   "execution_count": null,
   "id": "087b141d-d0a6-4e59-b49a-07137ef5a353",
   "metadata": {},
   "outputs": [],
   "source": [
    "new_hlsp_path = '/media/david/2tb_ext_hd/hddata/mega_muscles/v10_hlsp/'\n",
    "for star in stars:\n",
    "    "
   ]
  }
 ],
 "metadata": {
  "kernelspec": {
   "display_name": "Python 3 (ipykernel)",
   "language": "python",
   "name": "python3"
  },
  "language_info": {
   "codemirror_mode": {
    "name": "ipython",
    "version": 3
   },
   "file_extension": ".py",
   "mimetype": "text/x-python",
   "name": "python",
   "nbconvert_exporter": "python",
   "pygments_lexer": "ipython3",
   "version": "3.11.5"
  }
 },
 "nbformat": 4,
 "nbformat_minor": 5
}
