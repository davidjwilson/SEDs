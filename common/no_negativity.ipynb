{
 "cells": [
  {
   "cell_type": "markdown",
   "metadata": {},
   "source": [
    "Making PLs code to remove negative values work in MM"
   ]
  },
  {
   "cell_type": "code",
   "execution_count": 1,
   "metadata": {},
   "outputs": [],
   "source": [
    "import numpy as np\n",
    "import matplotlib.pyplot as plt\n",
    "import astropy.io.fits as fits\n",
    "import os\n",
    "import glob\n",
    "from scipy.interpolate import interp1d\n",
    "from scipy.io.idl import readsav\n",
    "from astropy.table import Table\n",
    "from astropy.io import ascii\n",
    "import astropy.units as u\n",
    "from scipy.optimize import leastsq\n",
    "import astropy.constants as const\n",
    "from craftroom import resample\n",
    "\n",
    "#matplotlib set up\n",
    "%matplotlib inline\n",
    "from matplotlib import rcParams\n",
    "rcParams[\"figure.figsize\"] = (14, 5)\n",
    "rcParams[\"font.size\"] = 20"
   ]
  },
  {
   "cell_type": "code",
   "execution_count": 2,
   "metadata": {},
   "outputs": [],
   "source": [
    "t1data = Table.read('../trappist-1/combined/trappist-1_sed_var_res_v04.ecsv')\n"
   ]
  },
  {
   "cell_type": "code",
   "execution_count": 3,
   "metadata": {},
   "outputs": [],
   "source": [
    "#from utils.py\n",
    "def inranges(values, ranges, inclusive=[False, True]):\n",
    "    \"\"\"Determines whether values are in the supplied list of sorted ranges.\n",
    "\n",
    "    Parameters\n",
    "    ----------\n",
    "    values : 1-D array-like\n",
    "        The values to be checked.\n",
    "    ranges : 1-D or 2-D array-like\n",
    "        The ranges used to check whether values are in or out.\n",
    "        If 2-D, ranges should have dimensions Nx2, where N is the number of\n",
    "        ranges. If 1-D, it should have length 2N. A 2xN array may be used, but\n",
    "        note that it will be assumed to be Nx2 if N == 2.\n",
    "    inclusive : length 2 list of booleans\n",
    "        Whether to treat bounds as inclusive. Because it is the default\n",
    "        behavior of numpy.searchsorted, [False, True] is the default here as\n",
    "        well. Using [False, False] or [True, True] will require roughly triple\n",
    "        computation time.\n",
    "\n",
    "    Returns a boolean array indexing the values that are in the ranges.\n",
    "    \"\"\"\n",
    "    ranges = np.asarray(ranges)\n",
    "    if ranges.ndim == 2:\n",
    "        if ranges.shape[1] != 2:\n",
    "            ranges = ranges.T\n",
    "        ranges = ranges.ravel()\n",
    "\n",
    "    if inclusive == [0, 1]:\n",
    "        return (np.searchsorted(ranges, values) % 2 == 1)\n",
    "    if inclusive == [1, 0]:\n",
    "        return (np.searchsorted(ranges, values, side='right') % 2 == 1)\n",
    "    if inclusive == [1, 1]:\n",
    "        a = (np.searchsorted(ranges, values) % 2 == 1)\n",
    "        b = (np.searchsorted(ranges, values, side='right') % 2 == 1)\n",
    "        return (a | b)\n",
    "    if inclusive == [0, 0]:\n",
    "        a = (np.searchsorted(ranges, values) % 2 == 1)\n",
    "        b = (np.searchsorted(ranges, values, side='right') % 2 == 1)\n",
    "        return (a & b)\n",
    "\n",
    "lyacut = (np.array([-400, 400])/3e5 + 1)*1215.67 #[1209.67,1221.67]\n",
    "band_dv = 100 * u.km/u.s\n",
    "line_centers = {'c2': [1334.532, 1335.708], 'si3': [1206.51], 'si4': [1393.76, 1402.77], 'n5': [1238.821, 1242.804],\n",
    "                'c4': [1548.202, 1550.774], 'mg2':[2796.352, 2803.530],\n",
    "                'he2':[1640.4], 'o1':[1302.17, 1304.86, 1306.03], 'al2':[1670.79],\n",
    "                'c3':[1174.93, 1175.26, 1175.59, 1175.71, 1175.99, 1176.37], 'si2':[1808.00, 1816.92]}\n",
    "def getbands(v0, v1, centers):\n",
    "    fracs = u.Quantity([v0, v1])/const.c\n",
    "    fracs = fracs.decompose().value\n",
    "    centers = np.array(centers)\n",
    "    bands = centers[:, np.newaxis] * (1 + fracs[np.newaxis, :])\n",
    "    if len(bands) > 1:\n",
    "        l, r = bands.T\n",
    "        i_delete, = np.nonzero(r[:-1] >= l[1:])\n",
    "        bands = np.array([np.delete(l, i_delete+1), np.delete(r, i_delete)]).T\n",
    "    return bands\n",
    "\n",
    "def line_band_maker():\n",
    "    line_bands = {}\n",
    "    for key in line_centers:\n",
    "        line_bands[key] = getbands(-band_dv, band_dv, line_centers[key])\n",
    "    line_bands['lya'] = [lyacut]\n",
    "    return line_bands\n",
    "\n",
    "\n",
    "def killnegatives(spectbl, sep_insts=False, quickndirty=False, minSN=None, res_limit=1.0):\n",
    "    \"\"\"\n",
    "    Removes negative bins by summing with adjacent bins until there are no negative bins left. I.e. the resolution in\n",
    "    negative areas is degraded until the flux is no longer negative.\n",
    "\n",
    "    Parameters\n",
    "    ----------\n",
    "    spectbl\n",
    "\n",
    "    Returns\n",
    "    -------\n",
    "    newtbl\n",
    "        A new bare-bones spectbl that has bin edges, flux, and error\n",
    "        WARNING: the obs date, instrument, etc. columns will all get set to default values, as will all of the\n",
    "        metadata except for 'star'\n",
    "    \"\"\"\n",
    "    if not np.any(spectbl['FLUX'] < 0):\n",
    "        return spectbl\n",
    "\n",
    "  #  if sep_insts:\n",
    "   #     return inst_by_inst(spectbl, killnegatives, sep_insts=False, quickndirty=quickndirty, minSN=minSN)\n",
    "\n",
    " #   if hasgaps(spectbl):\n",
    "  #      return gap_by_gap(spectbl, killnegatives, sep_insts=False, quickndirty=quickndirty, minSN=minSN)\n",
    "\n",
    "    w0, w1, f_dsty, e_dsty = [spectbl[s].copy() for s in ['WAVELENGTH0', 'WAVELENGTH1', 'FLUX', 'ERROR']]\n",
    "    line_bands = line_band_maker()\n",
    "    line_bands = np.vstack(line_bands.values())\n",
    "    line_bands = line_bands[np.argsort(line_bands[:,0]), :]\n",
    "    untouchable = inranges(w0, line_bands) | inranges(w1, line_bands)\n",
    "    if minSN is None:\n",
    "        untouchable = untouchable & (f_dsty >= 0)\n",
    "    else:\n",
    "        untouchable = untouchable & (f_dsty/e_dsty >= minSN)\n",
    "    dw = w1 - w0\n",
    "    f, e = f_dsty*dw, e_dsty*dw\n",
    "    v = e**2\n",
    "\n",
    "    # I had this kind of vectorized once, but ultimately I think it just made for terrible readability with little gain in speed\n",
    "    # print \"bad bins remaining:\"\n",
    "    while True:\n",
    "        if minSN is None:\n",
    "            n = np.sum(f < 0)\n",
    "        else:\n",
    "            n = np.sum(f / np.sqrt(v) < minSN)\n",
    "        # print n\n",
    "        if n == 0:\n",
    "            break\n",
    "\n",
    "        # find the worst offending point\n",
    "        imin = np.argmin(f/np.sqrt(v)) if minSN else np.argmin(f)\n",
    "\n",
    "        # integrate bins progressively outward until it no longer offends\n",
    "        i0, i1 = imin-1, imin+1\n",
    "        w0bin, w1bin, fbin, vbin = w0[imin], w1[imin], f[imin], v[imin]\n",
    "        side = 0\n",
    "        while True:\n",
    "            if minSN is None:\n",
    "                if fbin >= 0:\n",
    "                    break\n",
    "            else:\n",
    "                if fbin/sqrt(vbin) >= minSN:\n",
    "                    break\n",
    "\n",
    "            # check if we should stop integrating outward on either side\n",
    "            stop_at_0 = i0 < 0 or untouchable[i0]\n",
    "            stop_at_1 = i1 > len(f)-1 or untouchable[i1]\n",
    "\n",
    "            # if can't integrate further outward, then set fbin to 0 if it is still negative and break\n",
    "            if stop_at_0 and stop_at_1:\n",
    "                if fbin < 0:\n",
    "                    fbin, vbin = 0, 0\n",
    "                break\n",
    "\n",
    "            # else incorporate the next bin\n",
    "            if side == 0 and not stop_at_0:\n",
    "                fbin += f[i0]\n",
    "                vbin += v[i0]\n",
    "                i0 -= 1\n",
    "            elif not stop_at_1:\n",
    "                fbin += f[i1]\n",
    "                vbin += v[i1]\n",
    "                i1 += 1\n",
    "\n",
    "            # switch sides if possible\n",
    "            if stop_at_0:\n",
    "                side = 1\n",
    "            elif stop_at_1:\n",
    "                side = 0\n",
    "            else:\n",
    "                side = not side\n",
    "\n",
    "        # replace the appropriate section of the vectors\n",
    "        bad_block = slice(i0+1, i1)\n",
    "        arrays = w0, w1, f, v, untouchable\n",
    "        wrng = w1[i1-1] - w0[i0+1]\n",
    "        if wrng > res_limit:\n",
    "            w0in = np.arange(w0[i0+1], w1[i1-1], res_limit)\n",
    "            w1in = np.append(w0in[1:], w1[i1-1])\n",
    "            dw = w1in - w0in\n",
    "            fin = fbin*dw/wrng\n",
    "            vin = vbin*dw/wrng\n",
    "            inserts = w0in, w1in, fin, vin, [False]*len(fin)\n",
    "        else:\n",
    "            inserts = w0[i0+1], w1[i1-1], fbin, vbin, False\n",
    "        new_arrays = []\n",
    "        for a, value in zip(arrays, inserts):\n",
    "            a = np.delete(a, bad_block)\n",
    "            a = np.insert(a, i0+1, value)\n",
    "            new_arrays.append(a)\n",
    "        w0, w1, f, v, untouchable = new_arrays\n",
    "\n",
    "    # return a spectbl\n",
    "    dw = w1 - w0\n",
    "    f_dsty, e_dsty = f / dw, np.sqrt(v) / dw\n",
    "    bins = np.array([w0, w1]).T\n",
    "    #print(np.mean(bins, axis=1))\n",
    "    #newspec = rebin(spectbl, bins)\n",
    "    #newspec = spectbl\n",
    "    #newspec['FLUX'] = f_dsty * newspec['FLUX'].unit\n",
    "    #newspec['ERROR'] = e_dsty * newspec['ERROR'].unit\n",
    "    w_dsty = np.mean(bins, axis=1)\n",
    "    return w_dsty, f_dsty, e_dsty\n"
   ]
  },
  {
   "cell_type": "code",
   "execution_count": 4,
   "metadata": {},
   "outputs": [],
   "source": [
    "#w1, f1, e1 = killnegatives(t1data)"
   ]
  },
  {
   "cell_type": "code",
   "execution_count": 5,
   "metadata": {},
   "outputs": [
    {
     "data": {
      "text/plain": [
       "1202472"
      ]
     },
     "execution_count": 5,
     "metadata": {},
     "output_type": "execute_result"
    }
   ],
   "source": [
    "len(t1data['WAVELENGTH'])"
   ]
  },
  {
   "cell_type": "code",
   "execution_count": 6,
   "metadata": {},
   "outputs": [],
   "source": [
    "#plt.step(t1data['WAVELENGTH'], t1data['FLUX'])\n",
    "#plt.step(w1, f1, where='mid')\n",
    "#plt.yscale('log')\n",
    "#plt.xscale('log')"
   ]
  },
  {
   "cell_type": "code",
   "execution_count": 7,
   "metadata": {},
   "outputs": [],
   "source": [
    "#gjdata = Table.read('../gj_674/combined/gj_674_sed_var_res_v3.ecsv')"
   ]
  },
  {
   "cell_type": "code",
   "execution_count": 8,
   "metadata": {},
   "outputs": [],
   "source": [
    "#w2, f2, e2 = killnegatives(gjdata)"
   ]
  },
  {
   "cell_type": "code",
   "execution_count": 9,
   "metadata": {},
   "outputs": [],
   "source": [
    "#plt.step(w2, f2, where='mid')\n",
    "#plt.yscale('log')\n",
    "#plt.xscale('log')"
   ]
  },
  {
   "cell_type": "markdown",
   "metadata": {},
   "source": [
    "This isn't working. Can I do it with smoothing?"
   ]
  },
  {
   "cell_type": "code",
   "execution_count": 10,
   "metadata": {},
   "outputs": [],
   "source": [
    "from astropy.convolution import convolve, Box1DKernel\n"
   ]
  },
  {
   "cell_type": "code",
   "execution_count": 11,
   "metadata": {},
   "outputs": [],
   "source": [
    "w, f, e = t1data['WAVELENGTH'], t1data['FLUX'], t1data['ERROR']"
   ]
  },
  {
   "cell_type": "code",
   "execution_count": 12,
   "metadata": {},
   "outputs": [
    {
     "name": "stdout",
     "output_type": "stream",
     "text": [
      "105\n"
     ]
    }
   ],
   "source": [
    " #nf = convolve(nf,Box1DKernel(smooth))\n",
    "#ne = convolve(ne,Box1DKernel(smooth))/smooth**0.5\n",
    "\n",
    "smooth = 3\n",
    "w1, f1, e1 = w, f, e\n",
    "while np.sum(f1<0) > 0:\n",
    "    sf = convolve(f,Box1DKernel(smooth))\n",
    "    se = convolve(e,Box1DKernel(smooth))/smooth**0.5\n",
    "    for i, fi in enumerate(f1):\n",
    "        if fi < 0:\n",
    "            f1[i], e1[i] = sf[i], se[i]\n",
    "    smooth += 2\n",
    "print(smooth)\n",
    "        \n",
    "    "
   ]
  },
  {
   "cell_type": "code",
   "execution_count": 13,
   "metadata": {},
   "outputs": [
    {
     "data": {
      "image/png": "[encoded data removed]",
      "text/plain": [
       "<Figure size 432x288 with 1 Axes>"
      ]
     },
     "metadata": {
      "needs_background": "light"
     },
     "output_type": "display_data"
    }
   ],
   "source": [
    "plt.step(t1data['WAVELENGTH'], t1data['FLUX'], where='mid')\n",
    "plt.step(w1,f1, where='mid')\n",
    "plt.yscale('log')\n",
    "plt.xscale('log')"
   ]
  },
  {
   "cell_type": "code",
   "execution_count": null,
   "metadata": {},
   "outputs": [],
   "source": []
  },
  {
   "cell_type": "code",
   "execution_count": null,
   "metadata": {},
   "outputs": [],
   "source": []
  }
 ],
 "metadata": {
  "kernelspec": {
   "display_name": "Python 3",
   "language": "python",
   "name": "python3"
  },
  "language_info": {
   "codemirror_mode": {
    "name": "ipython",
    "version": 3
   },
   "file_extension": ".py",
   "mimetype": "text/x-python",
   "name": "python",
   "nbconvert_exporter": "python",
   "pygments_lexer": "ipython3",
   "version": "3.7.3"
  }
 },
 "nbformat": 4,
 "nbformat_minor": 4
}
