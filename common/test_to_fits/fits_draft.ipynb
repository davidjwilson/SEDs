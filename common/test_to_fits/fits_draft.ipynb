{
 "cells": [
  {
   "cell_type": "code",
   "execution_count": 1,
   "id": "b0d58105",
   "metadata": {},
   "outputs": [],
   "source": [
    "import numpy as np\n",
    "import matplotlib.pyplot as plt\n",
    "import astropy.io.fits as fits\n",
    "import os\n",
    "import glob\n",
    "from astropy.table import Table\n",
    "from astropy.io import ascii\n",
    "import astropy.units as u\n",
    "import astropy.constants as const\n",
    "from scipy.interpolate import interpolate\n",
    "from craftroom import resample\n",
    "# import stistools\n",
    "from astropy.convolution import convolve, Box1DKernel\n",
    "from astropy.modeling import models, fitting\n",
    "from scipy.io.idl import readsav\n",
    "from astropy.convolution import convolve_fft\n",
    "from astropy.convolution import Gaussian1DKernel\n",
    "from matplotlib.gridspec import GridSpec\n",
    "\n",
    "#matplotlib set up\n",
    "%matplotlib inline\n",
    "from matplotlib import rcParams\n",
    "rcParams[\"figure.figsize\"] = (14, 5)\n",
    "rcParams[\"font.size\"] = 20\n"
   ]
  },
  {
   "cell_type": "code",
   "execution_count": 2,
   "id": "3c1b8a15",
   "metadata": {},
   "outputs": [],
   "source": [
    "sed = Table.read('t1_table_test.ecsv')"
   ]
  },
  {
   "cell_type": "code",
   "execution_count": 7,
   "id": "6e83e5b2",
   "metadata": {},
   "outputs": [],
   "source": [
    "instlist = np.load('ti_instlist.npy')"
   ]
  },
  {
   "cell_type": "code",
   "execution_count": 8,
   "id": "c0949e71",
   "metadata": {},
   "outputs": [
    {
     "data": {
      "text/plain": [
       "array([       1,        2,        4,     1024,    65536,        8,\n",
       "            256,   131072,     2048,    32768, 16777216])"
      ]
     },
     "execution_count": 8,
     "metadata": {},
     "output_type": "execute_result"
    }
   ],
   "source": [
    "instlist"
   ]
  },
  {
   "cell_type": "code",
   "execution_count": 9,
   "id": "dc8b5efd",
   "metadata": {},
   "outputs": [],
   "source": [
    "egfile = fits.open('/media/david/1tb_storage1/emergency_data/mega_muscles/hlsp_muscles_multi_multi_gj1214_broadband_v22_adapt-const-res-sed.fits')"
   ]
  },
  {
   "cell_type": "code",
   "execution_count": 10,
   "id": "e19b4c16",
   "metadata": {},
   "outputs": [
    {
     "name": "stdout",
     "output_type": "stream",
     "text": [
      "Filename: /media/david/1tb_storage1/emergency_data/mega_muscles/hlsp_muscles_multi_multi_gj1214_broadband_v22_adapt-const-res-sed.fits\n",
      "No.    Name      Ver    Type      Cards   Dimensions   Format\n",
      "  0  PRIMARY       1 PrimaryHDU      50   ()      \n",
      "  1  SPECTRUM      1 BinTableHDU     59   54994R x 13C   [D, D, D, D, D, D, I, D, D, J, D, D, D]   \n",
      "  2  INSTLGND      1 BinTableHDU     32   24R x 5C   [J, 5A, 18A, 6A, 71A]   \n"
     ]
    }
   ],
   "source": [
    "egfile.info()"
   ]
  },
  {
   "cell_type": "code",
   "execution_count": 12,
   "id": "21c914a3",
   "metadata": {},
   "outputs": [
    {
     "data": {
      "text/plain": [
       "SIMPLE  =                    T / conforms to FITS standard                      \n",
       "BITPIX  =                    8 / array data type                                \n",
       "NAXIS   =                    0 / number of array dimensions                     \n",
       "EXTEND  =                    T                                                  \n",
       "TELESCOP= 'MULTI   '                                                            \n",
       "INSTRUME= 'MULTI   '                                                            \n",
       "GRATING = 'MULTI   '                                                            \n",
       "TELESC00= 'MODEL   '                                                            \n",
       "INSTRU00= 'PHX     '                                                            \n",
       "GRATIN00= 'NA      '                                                            \n",
       "TELESC01= 'MODEL   '                                                            \n",
       "INSTRU01= 'EUV-SCALING'                                                         \n",
       "GRATIN01= 'NA      '                                                            \n",
       "TELESC02= 'MODEL   '                                                            \n",
       "INSTRU02= 'APEC    '                                                            \n",
       "GRATIN02= 'NA      '                                                            \n",
       "TELESC03= 'HST     '                                                            \n",
       "INSTRU03= 'STIS    '                                                            \n",
       "GRATIN03= 'G230L   '                                                            \n",
       "TELESC04= 'HST     '                                                            \n",
       "INSTRU04= 'COS     '                                                            \n",
       "GRATIN04= 'G160M   '                                                            \n",
       "TELESC05= 'HST     '                                                            \n",
       "INSTRU05= 'COS     '                                                            \n",
       "GRATIN05= 'G130M   '                                                            \n",
       "TELESC06= 'HST     '                                                            \n",
       "INSTRU06= 'COS     '                                                            \n",
       "GRATIN06= 'G230L   '                                                            \n",
       "TELESC07= 'MODEL   '                                                            \n",
       "INSTRU07= 'LYA-RECONSTRUCTION'                                                  \n",
       "GRATIN07= 'NA      '                                                            \n",
       "TARGNAME= 'GJ1214  '                                                            \n",
       "RA_TARG =            258.82892                                                  \n",
       "DEC_TARG=              4.96381                                                  \n",
       "PROPOSID=                13650                                                  \n",
       "HLSPNAME= 'Measurements of the Ultraviolet Spectral Characteristics of &'       \n",
       "CONTINUE  'Low-mass Exoplanet Host Stars'                                       \n",
       "HLSPACRN= 'MUSCLES '                                                            \n",
       "HLSPLEAD= 'R. O. Parke Loyd'                                                    \n",
       "PR_INV_L= 'France  '                                                            \n",
       "PR_INV_F= 'Kevin   '                                                            \n",
       "WAVEMIN =    5.499443054199219                                                  \n",
       "WAVEMAX =     54998.4994430542                                                  \n",
       "WAVEUNIT= 'ang     '                                                            \n",
       "AIRORVAC= 'vac     '                                                            \n",
       "FLUXMIN =                  0.0                                                  \n",
       "FLUXMAX = 4.99377156711538E-14                                                  \n",
       "FLUXUNIT= 'erg/s/cm2/ang'                                                       \n",
       "BOLOFLUX= 5.58675742172486E-10                                                  \n",
       "LNZ_NORM= 1.51672645230902E-15                                                  \n",
       "LNZ_GAM =    1.287495922117706                                                  "
      ]
     },
     "execution_count": 12,
     "metadata": {},
     "output_type": "execute_result"
    }
   ],
   "source": [
    "egfile[0].header"
   ]
  },
  {
   "cell_type": "code",
   "execution_count": 13,
   "id": "59e13b59",
   "metadata": {},
   "outputs": [
    {
     "data": {
      "text/plain": [
       "XTENSION= 'BINTABLE'           / binary table extension                         \n",
       "BITPIX  =                    8 / array data type                                \n",
       "NAXIS   =                    2 / number of array dimensions                     \n",
       "NAXIS1  =                   94 / length of dimension 1                          \n",
       "NAXIS2  =                54994 / length of dimension 2                          \n",
       "PCOUNT  =                    0 / number of group parameters                     \n",
       "GCOUNT  =                    1 / number of groups                               \n",
       "TFIELDS =                   13 / number of table fields                         \n",
       "EXTNAME = 'SPECTRUM'                                                            \n",
       "EXTNO   =                    2                                                  \n",
       "TDESC1  = 'midpoint of the wavelength bin'                                      \n",
       "TDESC2  = 'left/blue edge of the wavelength bin'                                \n",
       "TDESC3  = 'right/red edge of the wavelength bin'                                \n",
       "TDESC4  = 'average flux over the bin'                                           \n",
       "TDESC5  = 'error on the flux'                                                   \n",
       "TDESC6  = 'cumulative exposure time for the bin'                                \n",
       "TDESC7  = 'data quality flags (HST data only)'                                  \n",
       "TDESC8  = 'modified julian date of start of first exposure'                     \n",
       "TDESC9  = 'modified julian date of end of last exposure'                        \n",
       "TDESC10 = 'bitmask identifying the source instrument(s). See \"instlgnd\" &'      \n",
       "CONTINUE  'extension for a legend.'                                             \n",
       "TDESC11 = 'normalization factor applied to the source spectrum'                 \n",
       "TDESC12 = 'flux density normalized by the bolometric flux'                      \n",
       "TDESC13 = 'error on bolometrically-normalized flux density'                     \n",
       "TTYPE1  = 'WAVELENGTH'                                                          \n",
       "TFORM1  = 'D       '                                                            \n",
       "TUNIT1  = 'Angstrom'                                                            \n",
       "TTYPE2  = 'WAVELENGTH0'                                                         \n",
       "TFORM2  = 'D       '                                                            \n",
       "TUNIT2  = 'Angstrom'                                                            \n",
       "TTYPE3  = 'WAVELENGTH1'                                                         \n",
       "TFORM3  = 'D       '                                                            \n",
       "TUNIT3  = 'Angstrom'                                                            \n",
       "TTYPE4  = 'FLUX    '                                                            \n",
       "TFORM4  = 'D       '                                                            \n",
       "TUNIT4  = 'erg / (Angstrom cm2 s)'                                              \n",
       "TTYPE5  = 'ERROR   '                                                            \n",
       "TFORM5  = 'D       '                                                            \n",
       "TUNIT5  = 'erg / (Angstrom cm2 s)'                                              \n",
       "TTYPE6  = 'EXPTIME '                                                            \n",
       "TFORM6  = 'D       '                                                            \n",
       "TUNIT6  = 's       '                                                            \n",
       "TTYPE7  = 'DQ      '                                                            \n",
       "TFORM7  = 'I       '                                                            \n",
       "TTYPE8  = 'EXPSTART'                                                            \n",
       "TFORM8  = 'D       '                                                            \n",
       "TUNIT8  = 'd       '                                                            \n",
       "TTYPE9  = 'EXPEND  '                                                            \n",
       "TFORM9  = 'D       '                                                            \n",
       "TUNIT9  = 'd       '                                                            \n",
       "TTYPE10 = 'INSTRUMENT'                                                          \n",
       "TFORM10 = 'J       '                                                            \n",
       "TTYPE11 = 'NORMFAC '                                                            \n",
       "TFORM11 = 'D       '                                                            \n",
       "TTYPE12 = 'BOLOFLUX'                                                            \n",
       "TFORM12 = 'D       '                                                            \n",
       "TUNIT12 = '1 / Angstrom'                                                        \n",
       "TTYPE13 = 'BOLOERR '                                                            \n",
       "TFORM13 = 'D       '                                                            \n",
       "TUNIT13 = '1 / Angstrom'                                                        "
      ]
     },
     "execution_count": 13,
     "metadata": {},
     "output_type": "execute_result"
    }
   ],
   "source": [
    "egfile[1].header"
   ]
  },
  {
   "cell_type": "code",
   "execution_count": 15,
   "id": "e48e45d5",
   "metadata": {},
   "outputs": [
    {
     "data": {
      "text/plain": [
       "XTENSION= 'BINTABLE'           / binary table extension                         \n",
       "BITPIX  =                    8 / array data type                                \n",
       "NAXIS   =                    2 / number of array dimensions                     \n",
       "NAXIS1  =                  104 / length of dimension 1                          \n",
       "NAXIS2  =                   24 / length of dimension 2                          \n",
       "PCOUNT  =                    0 / number of group parameters                     \n",
       "GCOUNT  =                    1 / number of groups                               \n",
       "TFIELDS =                    5 / number of table fields                         \n",
       "EXTNO   =                    3                                                  \n",
       "TTYPE1  = 'BITVALUE'                                                            \n",
       "TFORM1  = 'J       '                                                            \n",
       "TTYPE2  = 'TELESCOPE'                                                           \n",
       "TFORM2  = '5A      '                                                            \n",
       "TTYPE3  = 'INSTRUMENT'                                                          \n",
       "TFORM3  = '18A     '                                                            \n",
       "TTYPE4  = 'GRATING '                                                            \n",
       "TFORM4  = '6A      '                                                            \n",
       "TTYPE5  = 'HLSP_FILE'                                                           \n",
       "TFORM5  = '71A     '                                                            \n",
       "EXTNAME = 'INSTLGND'           / extension name                                 \n",
       "COMMENT This extension is a legend for the integer identifiers in the instrument\n",
       "COMMENT  column of the spectrum extension. Instruments are identified by bitwise\n",
       "COMMENT  flags so that any combination of instruments contributing to the data w\n",
       "COMMENT ithin a spectral element can be identified together. For example, if ins\n",
       "COMMENT truments 4 and 16 (100 and 10000 in binary) both contribute to the data \n",
       "COMMENT in a bin, then that bin will have the value 20, or 10100 in binary, to s\n",
       "COMMENT ignify that both instruments 4 and 16 have contributed. This is identica\n",
       "COMMENT l to the handling of bitwise data quality flags.                        \n",
       "COMMENT Not all of these instruments were used to acquire data for this particul\n",
       "COMMENT ar spectrum. Therefore, not all the listed HLSP files will exist in the \n",
       "COMMENT database. Also note that polynomial fits for filling spectral gaps were \n",
       "COMMENT not saved as separate spectra.                                          "
      ]
     },
     "execution_count": 15,
     "metadata": {},
     "output_type": "execute_result"
    }
   ],
   "source": [
    "egfile[2].header"
   ]
  },
  {
   "cell_type": "code",
   "execution_count": 16,
   "id": "53ff4078",
   "metadata": {},
   "outputs": [
    {
     "data": {
      "text/plain": [
       "FITS_rec([(      1, 'HST', 'COS', 'G130M', 'hlsp_muscles_hst_cos_gj1214_g130m_v22_component-spec.fits'),\n",
       "          (      2, 'HST', 'COS', 'G160M', 'hlsp_muscles_hst_cos_gj1214_g160m_v22_component-spec.fits'),\n",
       "          (      4, 'HST', 'COS', 'G230L', 'hlsp_muscles_hst_cos_gj1214_g230l_v22_component-spec.fits'),\n",
       "          (      8, 'HST', 'STIS', 'G140M', 'hlsp_muscles_hst_stis_gj1214_g140m_v22_component-spec.fits'),\n",
       "          (     16, 'HST', 'STIS', 'E140M', 'hlsp_muscles_hst_stis_gj1214_e140m_v22_component-spec.fits'),\n",
       "          (     32, 'HST', 'STIS', 'E230M', 'hlsp_muscles_hst_stis_gj1214_e230m_v22_component-spec.fits'),\n",
       "          (     64, 'HST', 'STIS', 'E230H', 'hlsp_muscles_hst_stis_gj1214_e230h_v22_component-spec.fits'),\n",
       "          (    128, 'HST', 'STIS', 'G230L', 'hlsp_muscles_hst_stis_gj1214_g230l_v22_component-spec.fits'),\n",
       "          (    256, 'HST', 'STIS', 'G430L', 'hlsp_muscles_hst_stis_gj1214_g430l_v22_component-spec.fits'),\n",
       "          (    512, 'HST', 'STIS', 'G430M', 'hlsp_muscles_hst_stis_gj1214_g430m_v22_component-spec.fits'),\n",
       "          (   1024, 'MODEL', 'POLYNOMIAL-FIT', 'NA', 'polynomial fits not separately saved'),\n",
       "          (   2048, 'XMM', 'EPIC', 'MULTI', 'hlsp_muscles_xmm_epic_gj1214_multi_v22_component-spec.fits'),\n",
       "          (   4096, 'XMM', 'EPIC', 'PN', 'hlsp_muscles_xmm_epic_gj1214_pn_v22_component-spec.fits'),\n",
       "          (   8192, 'CXO', 'ACIS', 'NA', 'hlsp_muscles_cxo_acis_gj1214_na_v22_component-spec.fits'),\n",
       "          (  16384, 'MODEL', 'EUV-SCALING', 'NA', 'hlsp_muscles_model_euv-scaling_gj1214_na_v22_component-spec.fits'),\n",
       "          (  32768, 'MODEL', 'APEC', 'NA', 'hlsp_muscles_model_apec_gj1214_na_v22_component-spec.fits'),\n",
       "          (  65536, 'MODEL', 'LYA-RECONSTRUCTION', 'NA', 'hlsp_muscles_model_lya-reconstruction_gj1214_na_v22_component-spec.fits'),\n",
       "          ( 131072, 'MODEL', 'PHX', 'NA', 'hlsp_muscles_model_phx_gj1214_na_v22_component-spec.fits'),\n",
       "          ( 262144, 'OTHER', 'NA', 'NA', 'hlsp_muscles_other_na_gj1214_na_v22_component-spec.fits'),\n",
       "          ( 524288, 'HST', 'STIS', 'G230LB', 'hlsp_muscles_hst_stis_gj1214_g230lb_v22_component-spec.fits'),\n",
       "          (1048576, 'HST', 'STIS', 'G750L', 'hlsp_muscles_hst_stis_gj1214_g750l_v22_component-spec.fits'),\n",
       "          (2097152, 'HST', 'FOS', 'g570H', 'hlsp_muscles_hst_fos_gj1214_g570h_v22_component-spec.fits'),\n",
       "          (4194304, 'HST', 'FOS', 'G780H', 'hlsp_muscles_hst_fos_gj1214_g780h_v22_component-spec.fits'),\n",
       "          (8388608, 'HST', 'COS', 'G140L', 'hlsp_muscles_hst_cos_gj1214_g140l_v22_component-spec.fits')],\n",
       "         dtype=(numpy.record, [('BITVALUE', '>i4'), ('TELESCOPE', 'S5'), ('INSTRUMENT', 'S18'), ('GRATING', 'S6'), ('HLSP_FILE', 'S71')]))"
      ]
     },
     "execution_count": 16,
     "metadata": {},
     "output_type": "execute_result"
    }
   ],
   "source": [
    "egfile[2].data"
   ]
  },
  {
   "cell_type": "code",
   "execution_count": null,
   "id": "9f4a0680",
   "metadata": {},
   "outputs": [],
   "source": []
  }
 ],
 "metadata": {
  "kernelspec": {
   "display_name": "Python 3",
   "language": "python",
   "name": "python3"
  },
  "language_info": {
   "codemirror_mode": {
    "name": "ipython",
    "version": 3
   },
   "file_extension": ".py",
   "mimetype": "text/x-python",
   "name": "python",
   "nbconvert_exporter": "python",
   "pygments_lexer": "ipython3",
   "version": "3.6.13"
  }
 },
 "nbformat": 4,
 "nbformat_minor": 5
}
