{
 "cells": [
  {
   "cell_type": "code",
   "execution_count": 167,
   "metadata": {},
   "outputs": [],
   "source": [
    "import numpy as np\n",
    "import matplotlib.pyplot as plt\n",
    "import glob\n",
    "import astropy.io.fits as fits\n",
    "import os\n",
    "from scipy.io.idl import readsav\n",
    "from astropy.table import Table\n",
    "from astropy.io import ascii\n",
    "import astropy.units as u\n",
    "import astropy.constants as const\n",
    "from astropy.modeling import models, fitting\n",
    "from craftroom import resample\n",
    "from scipy.interpolate import interp1d\n",
    "from astropy.units import cds\n",
    "\n",
    "cds.enable()\n",
    "\n",
    "%matplotlib inline\n",
    "from matplotlib import rcParams\n",
    "rcParams[\"figure.figsize\"] = (14, 5)\n",
    "rcParams[\"font.size\"] = 20"
   ]
  },
  {
   "cell_type": "code",
   "execution_count": 168,
   "metadata": {},
   "outputs": [
    {
     "data": {
      "text/plain": [
       "['hlsp_muscles_hst_stis_gj176_g230l_v22_component-spec.fits',\n",
       " 'hlsp_muscles_hst_cos_gj176_g230l_v22_component-spec.fits',\n",
       " 'hlsp_muscles_model_euv-scaling_gj176_na_v22_component-spec.fits',\n",
       " 'hlsp_muscles_multi_multi_gj176_broadband_v22_adapt-const-res-sed.fits',\n",
       " 'hlsp_muscles_cxo_acis_gj176_na_v22_component-spec.fits',\n",
       " 'hlsp_muscles_hst_cos_gj176_g130m_v22_component-spec.fits',\n",
       " 'hlsp_muscles_model_apec_gj176_na_v22_component-spec.fits',\n",
       " 'hlsp_muscles_multi_multi_gj176_broadband_v22_const-res-sed.fits',\n",
       " 'hlsp_muscles_model_lya-reconstruction_gj176_na_v22_component-spec.fits',\n",
       " 'hlsp_muscles_hst_stis_gj176_g140m_v22_component-spec.fits',\n",
       " 'hlsp_muscles_hst_stis_gj176_g430l_v22_component-spec.fits',\n",
       " 'hlsp_muscles_multi_multi_gj176_broadband_v22_var-res-sed.fits',\n",
       " 'hlsp_muscles_multi_multi_gj176_broadband_v22_adapt-var-res-sed.fits',\n",
       " 'hlsp_muscles_hst_cos_gj176_g160m_v22_component-spec.fits',\n",
       " 'hlsp_muscles_model_phx_gj176_na_v22_component-spec.fits']"
      ]
     },
     "execution_count": 168,
     "metadata": {},
     "output_type": "execute_result"
    }
   ],
   "source": [
    "muscles_path = '../../../stuff/muscles_eg/gj176/'\n",
    "os.listdir(muscles_path)"
   ]
  },
  {
   "cell_type": "code",
   "execution_count": 169,
   "metadata": {},
   "outputs": [],
   "source": [
    "hdul = fits.open(muscles_path+'hlsp_muscles_multi_multi_gj176_broadband_v22_var-res-sed.fits')"
   ]
  },
  {
   "cell_type": "code",
   "execution_count": 170,
   "metadata": {},
   "outputs": [
    {
     "name": "stdout",
     "output_type": "stream",
     "text": [
      "Filename: ../../../stuff/muscles_eg/gj176/hlsp_muscles_multi_multi_gj176_broadband_v22_var-res-sed.fits\n",
      "No.    Name      Ver    Type      Cards   Dimensions   Format\n",
      "  0  PRIMARY       1 PrimaryHDU      53   ()      \n",
      "  1  SPECTRUM      1 BinTableHDU     59   1196260R x 13C   [D, D, D, D, D, D, I, D, D, J, D, D, D]   \n",
      "  2  INSTLGND      1 BinTableHDU     32   24R x 5C   [J, 5A, 18A, 6A, 70A]   \n"
     ]
    }
   ],
   "source": [
    "hdul.info()"
   ]
  },
  {
   "cell_type": "code",
   "execution_count": 171,
   "metadata": {},
   "outputs": [
    {
     "data": {
      "text/plain": [
       "XTENSION= 'BINTABLE'           / binary table extension                         \n",
       "BITPIX  =                    8 / array data type                                \n",
       "NAXIS   =                    2 / number of array dimensions                     \n",
       "NAXIS1  =                  103 / length of dimension 1                          \n",
       "NAXIS2  =                   24 / length of dimension 2                          \n",
       "PCOUNT  =                    0 / number of group parameters                     \n",
       "GCOUNT  =                    1 / number of groups                               \n",
       "TFIELDS =                    5 / number of table fields                         \n",
       "EXTNO   =                    3                                                  \n",
       "TTYPE1  = 'BITVALUE'                                                            \n",
       "TFORM1  = 'J       '                                                            \n",
       "TTYPE2  = 'TELESCOPE'                                                           \n",
       "TFORM2  = '5A      '                                                            \n",
       "TTYPE3  = 'INSTRUMENT'                                                          \n",
       "TFORM3  = '18A     '                                                            \n",
       "TTYPE4  = 'GRATING '                                                            \n",
       "TFORM4  = '6A      '                                                            \n",
       "TTYPE5  = 'HLSP_FILE'                                                           \n",
       "TFORM5  = '70A     '                                                            \n",
       "EXTNAME = 'INSTLGND'           / extension name                                 \n",
       "COMMENT This extension is a legend for the integer identifiers in the instrument\n",
       "COMMENT  column of the spectrum extension. Instruments are identified by bitwise\n",
       "COMMENT  flags so that any combination of instruments contributing to the data w\n",
       "COMMENT ithin a spectral element can be identified together. For example, if ins\n",
       "COMMENT truments 4 and 16 (100 and 10000 in binary) both contribute to the data \n",
       "COMMENT in a bin, then that bin will have the value 20, or 10100 in binary, to s\n",
       "COMMENT ignify that both instruments 4 and 16 have contributed. This is identica\n",
       "COMMENT l to the handling of bitwise data quality flags.                        \n",
       "COMMENT Not all of these instruments were used to acquire data for this particul\n",
       "COMMENT ar spectrum. Therefore, not all the listed HLSP files will exist in the \n",
       "COMMENT database. Also note that polynomial fits for filling spectral gaps were \n",
       "COMMENT not saved as separate spectra.                                          "
      ]
     },
     "execution_count": 171,
     "metadata": {},
     "output_type": "execute_result"
    }
   ],
   "source": [
    "hdul[2].header"
   ]
  },
  {
   "cell_type": "code",
   "execution_count": 172,
   "metadata": {},
   "outputs": [
    {
     "data": {
      "text/plain": [
       "SIMPLE  =                    T / conforms to FITS standard                      \n",
       "BITPIX  =                    8 / array data type                                \n",
       "NAXIS   =                    0 / number of array dimensions                     \n",
       "EXTEND  =                    T                                                  \n",
       "TELESCOP= 'MULTI   '                                                            \n",
       "INSTRUME= 'MULTI   '                                                            \n",
       "GRATING = 'MULTI   '                                                            \n",
       "TELESC00= 'MODEL   '                                                            \n",
       "INSTRU00= 'PHX     '                                                            \n",
       "GRATIN00= 'NA      '                                                            \n",
       "TELESC01= 'MODEL   '                                                            \n",
       "INSTRU01= 'EUV-SCALING'                                                         \n",
       "GRATIN01= 'NA      '                                                            \n",
       "TELESC02= 'MODEL   '                                                            \n",
       "INSTRU02= 'APEC    '                                                            \n",
       "GRATIN02= 'NA      '                                                            \n",
       "TELESC03= 'HST     '                                                            \n",
       "INSTRU03= 'STIS    '                                                            \n",
       "GRATIN03= 'G230L   '                                                            \n",
       "TELESC04= 'HST     '                                                            \n",
       "INSTRU04= 'COS     '                                                            \n",
       "GRATIN04= 'G160M   '                                                            \n",
       "TELESC05= 'HST     '                                                            \n",
       "INSTRU05= 'COS     '                                                            \n",
       "GRATIN05= 'G130M   '                                                            \n",
       "TELESC06= 'HST     '                                                            \n",
       "INSTRU06= 'STIS    '                                                            \n",
       "GRATIN06= 'G430L   '                                                            \n",
       "TELESC07= 'HST     '                                                            \n",
       "INSTRU07= 'COS     '                                                            \n",
       "GRATIN07= 'G230L   '                                                            \n",
       "TELESC08= 'MODEL   '                                                            \n",
       "INSTRU08= 'LYA-RECONSTRUCTION'                                                  \n",
       "GRATIN08= 'NA      '                                                            \n",
       "TARGNAME= 'GJ176   '                                                            \n",
       "RA_TARG =    70.73239599999999                                                  \n",
       "DEC_TARG=            18.958163                                                  \n",
       "PROPOSID=                13650                                                  \n",
       "HLSPNAME= 'Measurements of the Ultraviolet Spectral Characteristics of &'       \n",
       "CONTINUE  'Low-mass Exoplanet Host Stars'                                       \n",
       "HLSPACRN= 'MUSCLES '                                                            \n",
       "HLSPLEAD= 'R. O. Parke Loyd'                                                    \n",
       "PR_INV_L= 'France  '                                                            \n",
       "PR_INV_F= 'Kevin   '                                                            \n",
       "WAVEMIN =    5.000441551208496                                                  \n",
       "WAVEMAX =             54999.75                                                  \n",
       "WAVEUNIT= 'ang     '                                                            \n",
       "AIRORVAC= 'vac     '                                                            \n",
       "FLUXMIN = -7.1025795946309E-15                                                  \n",
       "FLUXMAX = 1.10545481750486E-12                                                  \n",
       "FLUXUNIT= 'erg/s/cm2/ang'                                                       \n",
       "BOLOFLUX= 1.25681772600649E-08                                                  \n",
       "LNZ_NORM= 3.96067166323457E-14                                                  \n",
       "LNZ_GAM =   0.5015959287107679                                                  "
      ]
     },
     "execution_count": 172,
     "metadata": {},
     "output_type": "execute_result"
    }
   ],
   "source": [
    "hdul[0].header"
   ]
  },
  {
   "cell_type": "code",
   "execution_count": 173,
   "metadata": {},
   "outputs": [
    {
     "data": {
      "text/plain": [
       "XTENSION= 'BINTABLE'           / binary table extension                         \n",
       "BITPIX  =                    8 / array data type                                \n",
       "NAXIS   =                    2 / number of array dimensions                     \n",
       "NAXIS1  =                   94 / length of dimension 1                          \n",
       "NAXIS2  =              1196260 / length of dimension 2                          \n",
       "PCOUNT  =                    0 / number of group parameters                     \n",
       "GCOUNT  =                    1 / number of groups                               \n",
       "TFIELDS =                   13 / number of table fields                         \n",
       "EXTNAME = 'SPECTRUM'                                                            \n",
       "EXTNO   =                    2                                                  \n",
       "TDESC1  = 'midpoint of the wavelength bin'                                      \n",
       "TDESC2  = 'left/blue edge of the wavelength bin'                                \n",
       "TDESC3  = 'right/red edge of the wavelength bin'                                \n",
       "TDESC4  = 'average flux over the bin'                                           \n",
       "TDESC5  = 'error on the flux'                                                   \n",
       "TDESC6  = 'cumulative exposure time for the bin'                                \n",
       "TDESC7  = 'data quality flags (HST data only)'                                  \n",
       "TDESC8  = 'modified julian date of start of first exposure'                     \n",
       "TDESC9  = 'modified julian date of end of last exposure'                        \n",
       "TDESC10 = 'bitmask identifying the source instrument(s). See \"instlgnd\" &'      \n",
       "CONTINUE  'extension for a legend.'                                             \n",
       "TDESC11 = 'normalization factor applied to the source spectrum'                 \n",
       "TDESC12 = 'flux density normalized by the bolometric flux'                      \n",
       "TDESC13 = 'error on bolometrically-normalized flux density'                     \n",
       "TTYPE1  = 'WAVELENGTH'                                                          \n",
       "TFORM1  = 'D       '                                                            \n",
       "TUNIT1  = 'Angstrom'                                                            \n",
       "TTYPE2  = 'WAVELENGTH0'                                                         \n",
       "TFORM2  = 'D       '                                                            \n",
       "TUNIT2  = 'Angstrom'                                                            \n",
       "TTYPE3  = 'WAVELENGTH1'                                                         \n",
       "TFORM3  = 'D       '                                                            \n",
       "TUNIT3  = 'Angstrom'                                                            \n",
       "TTYPE4  = 'FLUX    '                                                            \n",
       "TFORM4  = 'D       '                                                            \n",
       "TUNIT4  = 'erg / (Angstrom cm2 s)'                                              \n",
       "TTYPE5  = 'ERROR   '                                                            \n",
       "TFORM5  = 'D       '                                                            \n",
       "TUNIT5  = 'erg / (Angstrom cm2 s)'                                              \n",
       "TTYPE6  = 'EXPTIME '                                                            \n",
       "TFORM6  = 'D       '                                                            \n",
       "TUNIT6  = 's       '                                                            \n",
       "TTYPE7  = 'DQ      '                                                            \n",
       "TFORM7  = 'I       '                                                            \n",
       "TTYPE8  = 'EXPSTART'                                                            \n",
       "TFORM8  = 'D       '                                                            \n",
       "TUNIT8  = 'd       '                                                            \n",
       "TTYPE9  = 'EXPEND  '                                                            \n",
       "TFORM9  = 'D       '                                                            \n",
       "TUNIT9  = 'd       '                                                            \n",
       "TTYPE10 = 'INSTRUMENT'                                                          \n",
       "TFORM10 = 'J       '                                                            \n",
       "TTYPE11 = 'NORMFAC '                                                            \n",
       "TFORM11 = 'D       '                                                            \n",
       "TTYPE12 = 'BOLOFLUX'                                                            \n",
       "TFORM12 = 'D       '                                                            \n",
       "TUNIT12 = '1 / Angstrom'                                                        \n",
       "TTYPE13 = 'BOLOERR '                                                            \n",
       "TFORM13 = 'D       '                                                            \n",
       "TUNIT13 = '1 / Angstrom'                                                        "
      ]
     },
     "execution_count": 173,
     "metadata": {},
     "output_type": "execute_result"
    }
   ],
   "source": [
    "hdul[1].header"
   ]
  },
  {
   "cell_type": "code",
   "execution_count": 174,
   "metadata": {},
   "outputs": [
    {
     "data": {
      "text/plain": [
       "FITS_rec([(      1, 'HST', 'COS', 'G130M', 'hlsp_muscles_hst_cos_gj176_g130m_v22_component-spec.fits'),\n",
       "          (      2, 'HST', 'COS', 'G160M', 'hlsp_muscles_hst_cos_gj176_g160m_v22_component-spec.fits'),\n",
       "          (      4, 'HST', 'COS', 'G230L', 'hlsp_muscles_hst_cos_gj176_g230l_v22_component-spec.fits'),\n",
       "          (      8, 'HST', 'STIS', 'G140M', 'hlsp_muscles_hst_stis_gj176_g140m_v22_component-spec.fits'),\n",
       "          (     16, 'HST', 'STIS', 'E140M', 'hlsp_muscles_hst_stis_gj176_e140m_v22_component-spec.fits'),\n",
       "          (     32, 'HST', 'STIS', 'E230M', 'hlsp_muscles_hst_stis_gj176_e230m_v22_component-spec.fits'),\n",
       "          (     64, 'HST', 'STIS', 'E230H', 'hlsp_muscles_hst_stis_gj176_e230h_v22_component-spec.fits'),\n",
       "          (    128, 'HST', 'STIS', 'G230L', 'hlsp_muscles_hst_stis_gj176_g230l_v22_component-spec.fits'),\n",
       "          (    256, 'HST', 'STIS', 'G430L', 'hlsp_muscles_hst_stis_gj176_g430l_v22_component-spec.fits'),\n",
       "          (    512, 'HST', 'STIS', 'G430M', 'hlsp_muscles_hst_stis_gj176_g430m_v22_component-spec.fits'),\n",
       "          (   1024, 'MODEL', 'POLYNOMIAL-FIT', 'NA', 'polynomial fits not separately saved'),\n",
       "          (   2048, 'XMM', 'EPIC', 'MULTI', 'hlsp_muscles_xmm_epic_gj176_multi_v22_component-spec.fits'),\n",
       "          (   4096, 'XMM', 'EPIC', 'PN', 'hlsp_muscles_xmm_epic_gj176_pn_v22_component-spec.fits'),\n",
       "          (   8192, 'CXO', 'ACIS', 'NA', 'hlsp_muscles_cxo_acis_gj176_na_v22_component-spec.fits'),\n",
       "          (  16384, 'MODEL', 'EUV-SCALING', 'NA', 'hlsp_muscles_model_euv-scaling_gj176_na_v22_component-spec.fits'),\n",
       "          (  32768, 'MODEL', 'APEC', 'NA', 'hlsp_muscles_model_apec_gj176_na_v22_component-spec.fits'),\n",
       "          (  65536, 'MODEL', 'LYA-RECONSTRUCTION', 'NA', 'hlsp_muscles_model_lya-reconstruction_gj176_na_v22_component-spec.fits'),\n",
       "          ( 131072, 'MODEL', 'PHX', 'NA', 'hlsp_muscles_model_phx_gj176_na_v22_component-spec.fits'),\n",
       "          ( 262144, 'OTHER', 'NA', 'NA', 'hlsp_muscles_other_na_gj176_na_v22_component-spec.fits'),\n",
       "          ( 524288, 'HST', 'STIS', 'G230LB', 'hlsp_muscles_hst_stis_gj176_g230lb_v22_component-spec.fits'),\n",
       "          (1048576, 'HST', 'STIS', 'G750L', 'hlsp_muscles_hst_stis_gj176_g750l_v22_component-spec.fits'),\n",
       "          (2097152, 'HST', 'FOS', 'g570H', 'hlsp_muscles_hst_fos_gj176_g570h_v22_component-spec.fits'),\n",
       "          (4194304, 'HST', 'FOS', 'G780H', 'hlsp_muscles_hst_fos_gj176_g780h_v22_component-spec.fits'),\n",
       "          (8388608, 'HST', 'COS', 'G140L', 'hlsp_muscles_hst_cos_gj176_g140l_v22_component-spec.fits')],\n",
       "         dtype=(numpy.record, [('BITVALUE', '>i4'), ('TELESCOPE', 'S5'), ('INSTRUMENT', 'S18'), ('GRATING', 'S6'), ('HLSP_FILE', 'S70')]))"
      ]
     },
     "execution_count": 174,
     "metadata": {},
     "output_type": "execute_result"
    }
   ],
   "source": [
    "hdul[2].data"
   ]
  },
  {
   "cell_type": "code",
   "execution_count": 197,
   "metadata": {},
   "outputs": [],
   "source": [
    "sed = Table.read('t1_table_test.ecsv')"
   ]
  },
  {
   "cell_type": "code",
   "execution_count": 198,
   "metadata": {},
   "outputs": [],
   "source": [
    "instlist = np.load('ti_instlist.npy')"
   ]
  },
  {
   "cell_type": "code",
   "execution_count": 177,
   "metadata": {},
   "outputs": [
    {
     "data": {
      "text/plain": [
       "array([       1,        2,        4,     1024,    65536,        8,\n",
       "            256,   131072,     2048,    32768, 16777216])"
      ]
     },
     "execution_count": 177,
     "metadata": {},
     "output_type": "execute_result"
    }
   ],
   "source": [
    "instlist"
   ]
  },
  {
   "cell_type": "code",
   "execution_count": 178,
   "metadata": {},
   "outputs": [],
   "source": [
    "# instrument_list = [1, 65536, 8, 8388608, 128, 256, 131072, 8192, 32768, 16777216]"
   ]
  },
  {
   "cell_type": "code",
   "execution_count": 199,
   "metadata": {},
   "outputs": [],
   "source": [
    "import instruments"
   ]
  },
  {
   "cell_type": "code",
   "execution_count": 200,
   "metadata": {},
   "outputs": [
    {
     "name": "stdout",
     "output_type": "stream",
     "text": [
      "hst_cos_g130m\n",
      "hst_cos_g160m\n",
      "hst_cos_g230l\n",
      "mod_gap_fill-\n",
      "mod_lya_young\n",
      "hst_sts_g140m\n",
      "hst_sts_g430l\n",
      "mod_phx_-----\n",
      "xmm_epc_multi\n",
      "mod_apc_-----\n",
      "mod_dem_-----\n"
     ]
    }
   ],
   "source": [
    "for inst in instlist:\n",
    "    print(instruments.getinststr(inst))"
   ]
  },
  {
   "cell_type": "code",
   "execution_count": 201,
   "metadata": {},
   "outputs": [
    {
     "name": "stdout",
     "output_type": "stream",
     "text": [
      "['hst', 'hst', 'hst', 'mod', 'mod', 'hst', 'hst', 'mod', 'xmm', 'mod', 'mod'] ['cos', 'cos', 'cos', 'gap', 'lya', 'sts', 'sts', 'phx', 'epc', 'apc', 'dem'] ['g130m', 'g160m', 'g230l', 'fill-', 'young', 'g140m', 'g430l', '-----', 'multi', '-----', '-----']\n"
     ]
    }
   ],
   "source": [
    "telescopes = [instruments.getinststr(inst)[0:3] for inst in instlist]\n",
    "instrus = [instruments.getinststr(inst)[4:7] for inst in instlist]\n",
    "gratings = [instruments.getinststr(inst)[8:] for inst in instlist]\n",
    "print(telescopes, instrus, gratings)"
   ]
  },
  {
   "cell_type": "code",
   "execution_count": 202,
   "metadata": {},
   "outputs": [
    {
     "name": "stdout",
     "output_type": "stream",
     "text": [
      "HST COS G130M\n",
      "HST COS G160M\n",
      "HST COS G230L\n",
      "MODEL POLYNOMIAL-FIT NA\n",
      "MODEL LYA-RECONSTRUCTION NA\n",
      "HST STIS G140M\n",
      "HST STIS G430L\n",
      "MODEL PHX NA\n",
      "XMM EPIC MULTI\n",
      "MODEL APEC NA\n",
      "MODEL DEM NA\n"
     ]
    }
   ],
   "source": [
    "for inst in instlist:\n",
    "    inst_str = instruments.getinststr(inst)\n",
    "    a,b,c = instruments.gethlspname(inst_str)\n",
    "    print(a,b,c)"
   ]
  },
  {
   "cell_type": "code",
   "execution_count": 203,
   "metadata": {},
   "outputs": [],
   "source": [
    "import numpy as np\n",
    "import matplotlib.pyplot as plt\n",
    "import astropy.io.fits as fits\n",
    "from astropy.table import Table\n",
    "from astropy.io import ascii\n",
    "import astropy.units as u\n",
    "from astropy.units import cds\n",
    "import instruments\n",
    "cds.enable()\n",
    "\"\"\"\n",
    "Making hslp standard fits files for Mega-Muscles\n",
    "\"\"\"\n",
    "def make_primary_header(hdr, sed_table, instrument_list):\n",
    "    meta = sed_table.meta\n",
    "    telescopes = [instruments.getinststr(inst)[0:3] for inst in instrument_list]\n",
    "    instrus = [instruments.getinststr(inst)[4:7] for inst in instrument_list]\n",
    "    gratings = [instruments.getinststr(inst)[8:] for inst in instrument_list]\n",
    "    hdr.append(('TELESCOP', 'MULTI'))\n",
    "    hdr.append(('INSTRUME', 'MULTI'))\n",
    "    hdr.append(('GRATING', 'MULTI'))\n",
    "    for i in range(len(telescopes)):\n",
    "        hdr.append(('TELESC{:02.0f}'.format(i), telescopes[i].upper()))\n",
    "        hdr.append(('INSTRU{:02.0f}'.format(i), instrus[i].upper()))\n",
    "        hdr.append(('GRATIN{:02.0f}'.format(i), gratings[i].upper()))\n",
    "    extra_keys =  ['TARGNAME','RA_TARG','DEC_TARG','PROPOSID','HLSPNAME','HLSPACRN','HLSPLEAD','PR_INV_L',\n",
    "                   'PR_INV_F','WAVEMIN','WAVEMAX','WAVEUNIT','AIRORVAC','FLUXMIN',\n",
    "                  'FLUXMAX','FLUXUNIT', 'BOLOFLUX', 'LNZ_NORM','LNZ_GAM']\n",
    "    for key in extra_keys[:-5]: #temporary while I don't have the last ones in there.\n",
    "        hdr.append((key,meta[key]))\n",
    "    return hdr\n",
    "\n",
    "\n",
    "\n",
    "def data_header(hdr):\n",
    "    \"\"\"\n",
    "    Makes the header for the table extension. \n",
    "    \n",
    "    Keywords to add from MUSCLES:\n",
    "\n",
    "    TDESC1  = 'midpoint of the wavelength bin'                                      \n",
    "    TDESC2  = 'left/blue edge of the wavelength bin'                                \n",
    "    TDESC3  = 'right/red edge of the wavelength bin'                                \n",
    "    TDESC4  = 'average flux over the bin'                                           \n",
    "    TDESC5  = 'error on the flux'                                                   \n",
    "    TDESC6  = 'cumulative exposure time for the bin'                                \n",
    "    TDESC7  = 'data quality flags (HST data only)'                                  \n",
    "    TDESC8  = 'modified julian date of start of first exposure'                     \n",
    "    TDESC9  = 'modified julian date of end of last exposure'                        \n",
    "    TDESC10 = 'bitmask identifying the source instrument(s). See \"instlgnd\" & extension for a legend.'                                             \n",
    "    TDESC11 = 'normalization factor applied to the source spectrum'                 \n",
    "    TDESC12 = 'flux density normalized by the bolometric flux'                      \n",
    "    TDESC13 = 'error on bolometrically-normalized flux density'\n",
    "\n",
    "    \"\"\"\n",
    "    new_keywords = ('TDESC1','TDESC2','TDESC3','TDESC4', 'TDESC5',\n",
    "               'TDESC6', 'TDESC7', 'TDESC8', 'TDESC9', 'TDESC10',\n",
    "               'TDESC11','TDESC12','TDESC13') \n",
    "    new_values =  ('midpoint of the wavelength bin',\n",
    "                   'left/blue edge of the wavelength bin',\n",
    "                   'right/red edge of the wavelength bin',\n",
    "                   'average flux over the bin',\n",
    "                   'error on the flux',\n",
    "                   'cumulative exposure time for the bin',\n",
    "                   'data quality flags (HST data only)',\n",
    "                   'modified julian date of start of first exposure',\n",
    "                   'modified julian date of end of last exposure',\n",
    "                   'bitmask identifying the source instrument(s). See \"instlgnd\" & extension for a legend.',\n",
    "                   'normalization factor applied to the source spectrum',\n",
    "                   'flux density normalized by the bolometric flux',\n",
    "                   'error on bolometrically-normalized flux density')\n",
    "    for i, n, v in zip(range(len(new_keywords)), new_keywords, new_values):\n",
    "        hdr.insert(i+8, (new_keywords[i], new_values[i]))\n",
    "    \n",
    "    return hdr\n",
    "\n",
    "\n",
    "def make_data_ext(sed_table):\n",
    "    \"\"\"\n",
    "    The table extension, takes an astropy table \n",
    "    \"\"\"\n",
    "    hdu = fits.table_to_hdu(Table(dict(sed_table)))\n",
    "    hdu.header = data_header(hdu.header)\n",
    "    return hdu\n",
    "\n",
    "\n",
    "def make_primary_ext(sed_table, instrument_list):\n",
    "    \"\"\"\n",
    "    Make the primary header\n",
    "    \"\"\"\n",
    "    primary_hdu = fits.PrimaryHDU()\n",
    "    primary_hdu.header = make_primary_header(primary_hdu.header, sed_table, instrument_list)\n",
    "    return primary_hdu\n",
    "\n",
    "# def make_mm_fits(savepath, sed_table, instrument_list, version,sed_type='var'):\n",
    "#     \"\"\"\n",
    "#     Saves an SED as a Mega-MUSCLES fits file\n",
    "#     \"\"\"\n",
    "#     primary_hdu = make_primary_ext(sed_table, instrument_list)\n",
    "#     data_ext = make_data_ext(sed_table)\n",
    "#     #add instruments here\n",
    "#     star = sed_table.meta['TARGNAME'].lower()\n",
    "#     if star == '2mass-j23062928-0502285':\n",
    "#         star = 'trappist-1'\n",
    "#     file_name = 'hlsp_muscles_multi_multi_{}_broadband_v{}_{}-res-sed'.format(star, version, sed_type)\n",
    "#     hdul = fits.HDUList([primary_hdu, data_ext])\n",
    "#     hdul.writeto('{}{}.fits'.format(savepath,file_name), overwrite=True)\n",
    "#     print('sed saved as {}'.format(file_name))"
   ]
  },
  {
   "cell_type": "code",
   "execution_count": 204,
   "metadata": {},
   "outputs": [],
   "source": [
    "# import make_fits"
   ]
  },
  {
   "cell_type": "code",
   "execution_count": 205,
   "metadata": {},
   "outputs": [
    {
     "data": {
      "text/plain": [
       "XTENSION= 'BINTABLE'           / binary table extension                         \n",
       "BITPIX  =                    8 / array data type                                \n",
       "NAXIS   =                    2 / number of array dimensions                     \n",
       "NAXIS1  =                  104 / length of dimension 1                          \n",
       "NAXIS2  =              1178063 / length of dimension 2                          \n",
       "PCOUNT  =                    0 / number of group parameters                     \n",
       "GCOUNT  =                    1 / number of groups                               \n",
       "TFIELDS =                   13 / number of table fields                         \n",
       "TDESC1  = 'midpoint of the wavelength bin'                                      \n",
       "TDESC2  = 'left/blue edge of the wavelength bin'                                \n",
       "TDESC3  = 'right/red edge of the wavelength bin'                                \n",
       "TDESC4  = 'average flux over the bin'                                           \n",
       "TDESC5  = 'error on the flux'                                                   \n",
       "TDESC6  = 'cumulative exposure time for the bin'                                \n",
       "TDESC7  = 'data quality flags (HST data only)'                                  \n",
       "TDESC8  = 'modified julian date of start of first exposure'                     \n",
       "TDESC9  = 'modified julian date of end of last exposure'                        \n",
       "TDESC10 = 'bitmask identifying the source instrument(s). See \"instlgnd\" & &'    \n",
       "CONTINUE  'extension for a legend.'                                             \n",
       "TDESC11 = 'normalization factor applied to the source spectrum'                 \n",
       "TDESC12 = 'flux density normalized by the bolometric flux'                      \n",
       "TDESC13 = 'error on bolometrically-normalized flux density'                     \n",
       "TTYPE1  = 'WAVELENGTH'                                                          \n",
       "TFORM1  = 'D       '                                                            \n",
       "TUNIT1  = 'Angstrom'                                                            \n",
       "TTYPE2  = 'WAVELENGTH0'                                                         \n",
       "TFORM2  = 'D       '                                                            \n",
       "TUNIT2  = 'Angstrom'                                                            \n",
       "TTYPE3  = 'WAVELENGTH1'                                                         \n",
       "TFORM3  = 'D       '                                                            \n",
       "TUNIT3  = 'Angstrom'                                                            \n",
       "TTYPE4  = 'FLUX    '                                                            \n",
       "TFORM4  = 'D       '                                                            \n",
       "TUNIT4  = 'Angstrom-1 cm-2 erg s-1'                                             \n",
       "TTYPE5  = 'ERROR   '                                                            \n",
       "TFORM5  = 'D       '                                                            \n",
       "TUNIT5  = 'Angstrom-1 cm-2 erg s-1'                                             \n",
       "TTYPE6  = 'EXPTIME '                                                            \n",
       "TFORM6  = 'D       '                                                            \n",
       "TUNIT6  = 's       '                                                            \n",
       "TTYPE7  = 'DQ      '                                                            \n",
       "TFORM7  = 'D       '                                                            \n",
       "TTYPE8  = 'EXPSTART'                                                            \n",
       "TFORM8  = 'D       '                                                            \n",
       "TUNIT8  = 'd       '                                                            \n",
       "TTYPE9  = 'EXPEND  '                                                            \n",
       "TFORM9  = 'D       '                                                            \n",
       "TUNIT9  = 'd       '                                                            \n",
       "TTYPE10 = 'INSTRUMENT'                                                          \n",
       "TFORM10 = 'K       '                                                            \n",
       "TTYPE11 = 'NORMFAC '                                                            \n",
       "TFORM11 = 'D       '                                                            \n",
       "TTYPE12 = 'BOLOFLUX'                                                            \n",
       "TFORM12 = 'D       '                                                            \n",
       "TUNIT12 = 'Angstrom-1'                                                          \n",
       "TTYPE13 = 'BOLOERR '                                                            \n",
       "TFORM13 = 'D       '                                                            \n",
       "TUNIT13 = 'Angstrom-1'                                                          "
      ]
     },
     "execution_count": 205,
     "metadata": {},
     "output_type": "execute_result"
    }
   ],
   "source": [
    "testdata = make_data_ext(Table(dict(sed)))\n",
    "testdata.header"
   ]
  },
  {
   "cell_type": "code",
   "execution_count": 206,
   "metadata": {},
   "outputs": [
    {
     "data": {
      "text/plain": [
       "SIMPLE  =                    T / conforms to FITS standard                      \n",
       "BITPIX  =                    8 / array data type                                \n",
       "NAXIS   =                    0 / number of array dimensions                     \n",
       "EXTEND  =                    T                                                  \n",
       "TELESCOP= 'MULTI   '                                                            \n",
       "INSTRUME= 'MULTI   '                                                            \n",
       "GRATING = 'MULTI   '                                                            \n",
       "TELESC00= 'MODEL   '                                                            \n",
       "INSTRU00= 'PHX     '                                                            \n",
       "GRATIN00= 'NA      '                                                            \n",
       "TELESC01= 'MODEL   '                                                            \n",
       "INSTRU01= 'EUV-SCALING'                                                         \n",
       "GRATIN01= 'NA      '                                                            \n",
       "TELESC02= 'MODEL   '                                                            \n",
       "INSTRU02= 'APEC    '                                                            \n",
       "GRATIN02= 'NA      '                                                            \n",
       "TELESC03= 'HST     '                                                            \n",
       "INSTRU03= 'STIS    '                                                            \n",
       "GRATIN03= 'G230L   '                                                            \n",
       "TELESC04= 'HST     '                                                            \n",
       "INSTRU04= 'COS     '                                                            \n",
       "GRATIN04= 'G160M   '                                                            \n",
       "TELESC05= 'HST     '                                                            \n",
       "INSTRU05= 'COS     '                                                            \n",
       "GRATIN05= 'G130M   '                                                            \n",
       "TELESC06= 'HST     '                                                            \n",
       "INSTRU06= 'STIS    '                                                            \n",
       "GRATIN06= 'G430L   '                                                            \n",
       "TELESC07= 'HST     '                                                            \n",
       "INSTRU07= 'COS     '                                                            \n",
       "GRATIN07= 'G230L   '                                                            \n",
       "TELESC08= 'MODEL   '                                                            \n",
       "INSTRU08= 'LYA-RECONSTRUCTION'                                                  \n",
       "GRATIN08= 'NA      '                                                            \n",
       "TARGNAME= 'GJ176   '                                                            \n",
       "RA_TARG =    70.73239599999999                                                  \n",
       "DEC_TARG=            18.958163                                                  \n",
       "PROPOSID=                13650                                                  \n",
       "HLSPNAME= 'Measurements of the Ultraviolet Spectral Characteristics of &'       \n",
       "CONTINUE  'Low-mass Exoplanet Host Stars'                                       \n",
       "HLSPACRN= 'MUSCLES '                                                            \n",
       "HLSPLEAD= 'R. O. Parke Loyd'                                                    \n",
       "PR_INV_L= 'France  '                                                            \n",
       "PR_INV_F= 'Kevin   '                                                            \n",
       "WAVEMIN =    5.000441551208496                                                  \n",
       "WAVEMAX =             54999.75                                                  \n",
       "WAVEUNIT= 'ang     '                                                            \n",
       "AIRORVAC= 'vac     '                                                            \n",
       "FLUXMIN = -7.1025795946309E-15                                                  \n",
       "FLUXMAX = 1.10545481750486E-12                                                  \n",
       "FLUXUNIT= 'erg/s/cm2/ang'                                                       \n",
       "BOLOFLUX= 1.25681772600649E-08                                                  \n",
       "LNZ_NORM= 3.96067166323457E-14                                                  \n",
       "LNZ_GAM =   0.5015959287107679                                                  "
      ]
     },
     "execution_count": 206,
     "metadata": {},
     "output_type": "execute_result"
    }
   ],
   "source": [
    "hdul[0].header"
   ]
  },
  {
   "cell_type": "code",
   "execution_count": 207,
   "metadata": {},
   "outputs": [],
   "source": [
    "# plt.plot(testdata.data['WAVELENGTH'], testdata.data['FLUX'])"
   ]
  },
  {
   "cell_type": "code",
   "execution_count": 208,
   "metadata": {},
   "outputs": [
    {
     "ename": "TypeError",
     "evalue": "make_primary_ext() missing 2 required positional arguments: 'sed_table' and 'instrument_list'",
     "output_type": "error",
     "traceback": [
      "\u001b[0;31m---------------------------------------------------------------------------\u001b[0m",
      "\u001b[0;31mTypeError\u001b[0m                                 Traceback (most recent call last)",
      "\u001b[0;32m<ipython-input-208-38740f95fcf0>\u001b[0m in \u001b[0;36m<module>\u001b[0;34m\u001b[0m\n\u001b[1;32m     18\u001b[0m \u001b[0;31m#     return hdr\u001b[0m\u001b[0;34m\u001b[0m\u001b[0;34m\u001b[0m\u001b[0;34m\u001b[0m\u001b[0m\n\u001b[1;32m     19\u001b[0m \u001b[0;34m\u001b[0m\u001b[0m\n\u001b[0;32m---> 20\u001b[0;31m \u001b[0mtestpri\u001b[0m \u001b[0;34m=\u001b[0m \u001b[0mmake_primary_ext\u001b[0m\u001b[0;34m(\u001b[0m\u001b[0;34m)\u001b[0m\u001b[0;34m\u001b[0m\u001b[0;34m\u001b[0m\u001b[0m\n\u001b[0m\u001b[1;32m     21\u001b[0m \u001b[0mtestprihdr\u001b[0m \u001b[0;34m=\u001b[0m \u001b[0mmake_primary_header\u001b[0m\u001b[0;34m(\u001b[0m\u001b[0mtestpri\u001b[0m\u001b[0;34m.\u001b[0m\u001b[0mheader\u001b[0m\u001b[0;34m,\u001b[0m \u001b[0msed\u001b[0m\u001b[0;34m,\u001b[0m \u001b[0minstlist\u001b[0m\u001b[0;34m)\u001b[0m\u001b[0;34m\u001b[0m\u001b[0;34m\u001b[0m\u001b[0m\n\u001b[1;32m     22\u001b[0m \u001b[0mtestprihdr\u001b[0m\u001b[0;34m\u001b[0m\u001b[0;34m\u001b[0m\u001b[0m\n",
      "\u001b[0;31mTypeError\u001b[0m: make_primary_ext() missing 2 required positional arguments: 'sed_table' and 'instrument_list'"
     ]
    }
   ],
   "source": [
    "# def make_primary_header(hdr, sed_table, instrument_list):\n",
    "#     meta = sed_table.meta\n",
    "#     telescopes = [instruments.getinststr(inst)[0:3] for inst in instrument_list]\n",
    "#     instrus = [instruments.getinststr(inst)[4:7] for inst in instrument_list]\n",
    "#     gratings = [instruments.getinststr(inst)[8:] for inst in instrument_list]\n",
    "#     hdr.append(('TELESCOP', 'MULTI'))\n",
    "#     hdr.append(('INSTRUME', 'MULTI'))\n",
    "#     hdr.append(('GRATING', 'MULTI'))\n",
    "#     for i in range(len(telescopes)):\n",
    "#         hdr.append(('TELESC{:02.0f}'.format(i), telescopes[i].upper()))\n",
    "#         hdr.append(('INSTRU{:02.0f}'.format(i), instrus[i].upper()))\n",
    "#         hdr.append(('GRATIN{:02.0f}'.format(i), gratings[i].upper()))\n",
    "#     extra_keys =  ['TARGNAME','RA_TARG','DEC_TARG','PROPOSID','HLSPNAME','HLSPACRN','HLSPLEAD','PR_INV_L',\n",
    "#                    'PR_INV_F','WAVEMIN','WAVEMAX','WAVEUNIT','AIRORVAC','FLUXMIN',\n",
    "#                   'FLUXMAX','FLUXUNIT', 'BOLOFLUX', 'LNZ_NORM','LNZ_GAM']\n",
    "#     for key in extra_keys[:-2]: #temporary while I don't have the last ones in there.\n",
    "#         hdr.append((key,meta[key]))\n",
    "#     return hdr\n",
    "        \n",
    "testpri = make_primary_ext()\n",
    "testprihdr = make_primary_header(testpri.header, sed, instlist)\n",
    "testprihdr\n"
   ]
  },
  {
   "cell_type": "code",
   "execution_count": null,
   "metadata": {},
   "outputs": [],
   "source": [
    "sed.meta"
   ]
  },
  {
   "cell_type": "code",
   "execution_count": null,
   "metadata": {},
   "outputs": [],
   "source": [
    "'help{:02.0f}'.format(10)"
   ]
  },
  {
   "cell_type": "code",
   "execution_count": 210,
   "metadata": {},
   "outputs": [
    {
     "data": {
      "text/html": [
       "&lt;Column name=&apos;BOLOFLUX&apos; dtype=&apos;float64&apos; unit=&apos;1 / AA&apos; length=1178063&gt;\n",
       "<table>\n",
       "<tr><td>1.7934159185751851e-06</td></tr>\n",
       "<tr><td>7.93759465374765e-06</td></tr>\n",
       "<tr><td>6.199818166662285e-06</td></tr>\n",
       "<tr><td>4.339681194173539e-06</td></tr>\n",
       "<tr><td>4.332709956430233e-06</td></tr>\n",
       "<tr><td>3.109201655056699e-06</td></tr>\n",
       "<tr><td>2.5256936798742933e-06</td></tr>\n",
       "<tr><td>7.798497883972239e-07</td></tr>\n",
       "<tr><td>6.447314065447829e-07</td></tr>\n",
       "<tr><td>1.3261246722244936e-06</td></tr>\n",
       "<tr><td>1.8216165311731149e-06</td></tr>\n",
       "<tr><td>6.820563585983691e-07</td></tr>\n",
       "<tr><td>...</td></tr>\n",
       "<tr><td>2.1191934076513254e-15</td></tr>\n",
       "<tr><td>2.1150513258781383e-15</td></tr>\n",
       "<tr><td>2.1102852707087776e-15</td></tr>\n",
       "<tr><td>2.1058231839326347e-15</td></tr>\n",
       "<tr><td>2.1145649858692522e-15</td></tr>\n",
       "<tr><td>2.0966450420184576e-15</td></tr>\n",
       "<tr><td>2.0904143945876506e-15</td></tr>\n",
       "<tr><td>2.0774653305183446e-15</td></tr>\n",
       "<tr><td>2.080590335114632e-15</td></tr>\n",
       "<tr><td>2.0793605679363334e-15</td></tr>\n",
       "<tr><td>2.0756065542818585e-15</td></tr>\n",
       "<tr><td>2.0718424542003283e-15</td></tr>\n",
       "</table>"
      ],
      "text/plain": [
       "<Column name='BOLOFLUX' dtype='float64' unit='1 / AA' length=1178063>\n",
       "1.7934159185751851e-06\n",
       "  7.93759465374765e-06\n",
       " 6.199818166662285e-06\n",
       " 4.339681194173539e-06\n",
       " 4.332709956430233e-06\n",
       " 3.109201655056699e-06\n",
       "2.5256936798742933e-06\n",
       " 7.798497883972239e-07\n",
       " 6.447314065447829e-07\n",
       "1.3261246722244936e-06\n",
       "1.8216165311731149e-06\n",
       " 6.820563585983691e-07\n",
       "                   ...\n",
       "2.1191934076513254e-15\n",
       "2.1150513258781383e-15\n",
       "2.1102852707087776e-15\n",
       "2.1058231839326347e-15\n",
       "2.1145649858692522e-15\n",
       "2.0966450420184576e-15\n",
       "2.0904143945876506e-15\n",
       "2.0774653305183446e-15\n",
       " 2.080590335114632e-15\n",
       "2.0793605679363334e-15\n",
       "2.0756065542818585e-15\n",
       "2.0718424542003283e-15"
      ]
     },
     "execution_count": 210,
     "metadata": {},
     "output_type": "execute_result"
    }
   ],
   "source": [
    "sed['BOLOFLUX']"
   ]
  },
  {
   "cell_type": "code",
   "execution_count": 209,
   "metadata": {},
   "outputs": [
    {
     "data": {
      "text/html": [
       "<i>Table length=1178063</i>\n",
       "<table id=\"table139856705546112\" class=\"table-striped table-bordered table-condensed\">\n",
       "<thead><tr><th>WAVELENGTH</th><th>WAVELENGTH0</th><th>WAVELENGTH1</th><th>FLUX</th><th>ERROR</th><th>EXPTIME</th><th>DQ</th><th>EXPSTART</th><th>EXPEND</th><th>INSTRUMENT</th><th>NORMFAC</th><th>BOLOFLUX</th><th>BOLOERR</th></tr></thead>\n",
       "<thead><tr><th>AA</th><th>AA</th><th>AA</th><th>erg / (AA cm2 s)</th><th>erg / (AA cm2 s)</th><th>s</th><th></th><th>MJD</th><th>MJD</th><th></th><th></th><th>1 / AA</th><th>1 / AA</th></tr></thead>\n",
       "<thead><tr><th>float64</th><th>float64</th><th>float64</th><th>float64</th><th>float64</th><th>float64</th><th>float64</th><th>float64</th><th>float64</th><th>int64</th><th>float64</th><th>float64</th><th>float64</th></tr></thead>\n",
       "<tr><td>14.100000381469727</td><td>13.648650169372559</td><td>14.551350593566895</td><td>2.0993989530383652e-16</td><td>6.964753555089106e-17</td><td>0.0</td><td>0.0</td><td>0.0</td><td>0.0</td><td>2048</td><td>1.0</td><td>1.7934159185751851e-06</td><td>5.949655198490354e-07</td></tr>\n",
       "<tr><td>15.6899995803833</td><td>15.34992504119873</td><td>16.030075073242188</td><td>9.291864610502581e-16</td><td>1.1743362718918146e-16</td><td>0.0</td><td>0.0</td><td>0.0</td><td>0.0</td><td>2048</td><td>1.0</td><td>7.93759465374765e-06</td><td>1.0031792007531452e-06</td></tr>\n",
       "<tr><td>17.899999618530273</td><td>17.131500244140625</td><td>18.668498992919922</td><td>7.257597991245539e-16</td><td>5.498389969137163e-16</td><td>0.0</td><td>0.0</td><td>0.0</td><td>0.0</td><td>2048</td><td>1.0</td><td>6.199818166662285e-06</td><td>4.697011057814177e-06</td></tr>\n",
       "<tr><td>21.270000457763672</td><td>20.35675048828125</td><td>22.183250427246094</td><td>5.080094394838651e-16</td><td>8.040951927967547e-17</td><td>0.0</td><td>0.0</td><td>0.0</td><td>0.0</td><td>2048</td><td>1.0</td><td>4.339681194173539e-06</td><td>6.868999895062487e-07</td></tr>\n",
       "<tr><td>25.329999923706055</td><td>24.211999893188477</td><td>26.447999954223633</td><td>5.071933761787448e-16</td><td>8.726544365942118e-17</td><td>0.0</td><td>0.0</td><td>0.0</td><td>0.0</td><td>2048</td><td>1.0</td><td>4.332709956430233e-06</td><td>7.454668659991083e-07</td></tr>\n",
       "<tr><td>31.18000030517578</td><td>29.372249603271484</td><td>32.98775100708008</td><td>3.639677016247883e-16</td><td>6.988422832008944e-17</td><td>0.0</td><td>0.0</td><td>0.0</td><td>0.0</td><td>2048</td><td>1.0</td><td>3.109201655056699e-06</td><td>5.969874727488293e-07</td></tr>\n",
       "<tr><td>38.529998779296875</td><td>36.66299819946289</td><td>40.39699935913086</td><td>2.9566140304120503e-16</td><td>6.026047820140249e-17</td><td>0.0</td><td>0.0</td><td>0.0</td><td>0.0</td><td>2048</td><td>1.0</td><td>2.5256936798742933e-06</td><td>5.147763873604886e-07</td></tr>\n",
       "<tr><td>50.099998474121094</td><td>46.182498931884766</td><td>54.01749801635742</td><td>9.129035893631641e-17</td><td>9.797217337764828e-18</td><td>0.0</td><td>0.0</td><td>0.0</td><td>0.0</td><td>2048</td><td>1.0</td><td>7.798497883972239e-07</td><td>8.369293271228544e-08</td></tr>\n",
       "<tr><td>50.189998626708984</td><td>50.09000015258789</td><td>50.28999710083008</td><td>7.547320316897952e-17</td><td>0.0</td><td>0.0</td><td>0.0</td><td>0.0</td><td>0.0</td><td>32768</td><td>1.0</td><td>6.447314065447829e-07</td><td>0.0</td></tr>\n",
       "<tr><td>...</td><td>...</td><td>...</td><td>...</td><td>...</td><td>...</td><td>...</td><td>...</td><td>...</td><td>...</td><td>...</td><td>...</td><td>...</td></tr>\n",
       "<tr><td>9950000.0</td><td>9947500.0</td><td>9952500.0</td><td>2.47033085970267e-25</td><td>0.0</td><td>0.0</td><td>0.0</td><td>0.0</td><td>0.0</td><td>131072</td><td>4.348392303110102e-20</td><td>2.1102852707087776e-15</td><td>0.0</td></tr>\n",
       "<tr><td>9955000.0</td><td>9952500.0</td><td>9957500.0</td><td>2.4651074755399807e-25</td><td>0.0</td><td>0.0</td><td>0.0</td><td>0.0</td><td>0.0</td><td>131072</td><td>4.348392303110102e-20</td><td>2.1058231839326347e-15</td><td>0.0</td></tr>\n",
       "<tr><td>9960000.0</td><td>9957500.0</td><td>9962500.0</td><td>2.475340756979784e-25</td><td>0.0</td><td>0.0</td><td>0.0</td><td>0.0</td><td>0.0</td><td>131072</td><td>4.348392303110102e-20</td><td>2.1145649858692522e-15</td><td>0.0</td></tr>\n",
       "<tr><td>9965000.0</td><td>9962500.0</td><td>9967500.0</td><td>2.4543634081287973e-25</td><td>0.0</td><td>0.0</td><td>0.0</td><td>0.0</td><td>0.0</td><td>131072</td><td>4.348392303110102e-20</td><td>2.0966450420184576e-15</td><td>0.0</td></tr>\n",
       "<tr><td>9970000.0</td><td>9967500.0</td><td>9972500.0</td><td>2.4470697209492057e-25</td><td>0.0</td><td>0.0</td><td>0.0</td><td>0.0</td><td>0.0</td><td>131072</td><td>4.348392303110102e-20</td><td>2.0904143945876506e-15</td><td>0.0</td></tr>\n",
       "<tr><td>9975000.0</td><td>9972500.0</td><td>9977500.0</td><td>2.431911356808262e-25</td><td>0.0</td><td>0.0</td><td>0.0</td><td>0.0</td><td>0.0</td><td>131072</td><td>4.348392303110102e-20</td><td>2.0774653305183446e-15</td><td>0.0</td></tr>\n",
       "<tr><td>9980000.0</td><td>9977500.0</td><td>9982500.0</td><td>2.4355695329790733e-25</td><td>0.0</td><td>0.0</td><td>0.0</td><td>0.0</td><td>0.0</td><td>131072</td><td>4.348392303110102e-20</td><td>2.080590335114632e-15</td><td>0.0</td></tr>\n",
       "<tr><td>9985000.0</td><td>9982500.0</td><td>9987500.0</td><td>2.4341299495004944e-25</td><td>0.0</td><td>0.0</td><td>0.0</td><td>0.0</td><td>0.0</td><td>131072</td><td>4.348392303110102e-20</td><td>2.0793605679363334e-15</td><td>0.0</td></tr>\n",
       "<tr><td>9990000.0</td><td>9987500.0</td><td>9992500.0</td><td>2.4297354461093585e-25</td><td>0.0</td><td>0.0</td><td>0.0</td><td>0.0</td><td>0.0</td><td>131072</td><td>4.348392303110102e-20</td><td>2.0756065542818585e-15</td><td>0.0</td></tr>\n",
       "<tr><td>9995000.0</td><td>9992500.0</td><td>9997500.0</td><td>2.4253291353989156e-25</td><td>0.0</td><td>0.0</td><td>0.0</td><td>0.0</td><td>0.0</td><td>131072</td><td>4.348392303110102e-20</td><td>2.0718424542003283e-15</td><td>0.0</td></tr>\n",
       "</table>"
      ],
      "text/plain": [
       "<Table length=1178063>\n",
       "    WAVELENGTH        WAVELENGTH0     ...        BOLOERR        \n",
       "        AA                 AA         ...         1 / AA        \n",
       "     float64            float64       ...        float64        \n",
       "------------------ ------------------ ... ----------------------\n",
       "14.100000381469727 13.648650169372559 ...  5.949655198490354e-07\n",
       "  15.6899995803833  15.34992504119873 ... 1.0031792007531452e-06\n",
       "17.899999618530273 17.131500244140625 ...  4.697011057814177e-06\n",
       "21.270000457763672  20.35675048828125 ...  6.868999895062487e-07\n",
       "25.329999923706055 24.211999893188477 ...  7.454668659991083e-07\n",
       " 31.18000030517578 29.372249603271484 ...  5.969874727488293e-07\n",
       "38.529998779296875  36.66299819946289 ...  5.147763873604886e-07\n",
       "50.099998474121094 46.182498931884766 ...  8.369293271228544e-08\n",
       "50.189998626708984  50.09000015258789 ...                    0.0\n",
       "               ...                ... ...                    ...\n",
       "         9950000.0          9947500.0 ...                    0.0\n",
       "         9955000.0          9952500.0 ...                    0.0\n",
       "         9960000.0          9957500.0 ...                    0.0\n",
       "         9965000.0          9962500.0 ...                    0.0\n",
       "         9970000.0          9967500.0 ...                    0.0\n",
       "         9975000.0          9972500.0 ...                    0.0\n",
       "         9980000.0          9977500.0 ...                    0.0\n",
       "         9985000.0          9982500.0 ...                    0.0\n",
       "         9990000.0          9987500.0 ...                    0.0\n",
       "         9995000.0          9992500.0 ...                    0.0"
      ]
     },
     "execution_count": 209,
     "metadata": {},
     "output_type": "execute_result"
    }
   ],
   "source": [
    "sed"
   ]
  },
  {
   "cell_type": "code",
   "execution_count": null,
   "metadata": {},
   "outputs": [],
   "source": []
  }
 ],
 "metadata": {
  "kernelspec": {
   "display_name": "Python (stsci)",
   "language": "python",
   "name": "myenv"
  },
  "language_info": {
   "codemirror_mode": {
    "name": "ipython",
    "version": 3
   },
   "file_extension": ".py",
   "mimetype": "text/x-python",
   "name": "python",
   "nbconvert_exporter": "python",
   "pygments_lexer": "ipython3",
   "version": "3.6.13"
  }
 },
 "nbformat": 4,
 "nbformat_minor": 4
}
