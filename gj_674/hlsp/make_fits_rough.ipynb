{
 "cells": [
  {
   "cell_type": "markdown",
   "metadata": {},
   "source": [
    "Experimenting with makeing a fits file for the hslp"
   ]
  },
  {
   "cell_type": "code",
   "execution_count": 7,
   "metadata": {},
   "outputs": [],
   "source": [
    "import numpy as np\n",
    "import matplotlib.pyplot as plt\n",
    "import glob\n",
    "import astropy.io.fits as fits\n",
    "import os\n",
    "from scipy.io.idl import readsav\n",
    "from astropy.table import Table\n",
    "from astropy.io import ascii\n",
    "import astropy.units as u\n",
    "import astropy.constants as const\n",
    "from astropy.modeling import models, fitting\n",
    "from craftroom import resample\n",
    "from scipy.interpolate import interp1d\n",
    "\n",
    "\n",
    "%matplotlib inline\n",
    "from matplotlib import rcParams\n",
    "rcParams[\"figure.figsize\"] = (14, 5)\n",
    "rcParams[\"font.size\"] = 20"
   ]
  },
  {
   "cell_type": "code",
   "execution_count": 2,
   "metadata": {},
   "outputs": [],
   "source": [
    "ecsv_table = Table.read('../combined/gj_674_sed_var_res_v2.ecsv')"
   ]
  },
  {
   "cell_type": "code",
   "execution_count": 10,
   "metadata": {},
   "outputs": [
    {
     "data": {
      "image/png": "[encoded data removed]",
      "text/plain": [
       "<Figure size 1008x360 with 1 Axes>"
      ]
     },
     "metadata": {
      "needs_background": "light"
     },
     "output_type": "display_data"
    }
   ],
   "source": [
    "plt.plot(ecsv_table['WAVELENGTH'][ecsv_table['FLUX'] >0], ecsv_table['FLUX'][ecsv_table['FLUX'] >0], drawstyle='steps-mid')\n",
    "plt.xscale('log')\n",
    "plt.yscale('log')"
   ]
  },
  {
   "cell_type": "markdown",
   "metadata": {},
   "source": [
    "What's in a MUSCLES fits file?"
   ]
  },
  {
   "cell_type": "code",
   "execution_count": 11,
   "metadata": {},
   "outputs": [],
   "source": [
    "hdul = fits.open('../../../stuff/muscles_eg/gj176/hlsp_muscles_multi_multi_gj176_broadband_v22_var-res-sed.fits')"
   ]
  },
  {
   "cell_type": "code",
   "execution_count": 12,
   "metadata": {},
   "outputs": [
    {
     "name": "stdout",
     "output_type": "stream",
     "text": [
      "Filename: ../../../stuff/muscles_eg/gj176/hlsp_muscles_multi_multi_gj176_broadband_v22_var-res-sed.fits\n",
      "No.    Name      Ver    Type      Cards   Dimensions   Format\n",
      "  0  PRIMARY       1 PrimaryHDU      53   ()      \n",
      "  1  SPECTRUM      1 BinTableHDU     59   1196260R x 13C   [D, D, D, D, D, D, I, D, D, J, D, D, D]   \n",
      "  2  INSTLGND      1 BinTableHDU     32   24R x 5C   [J, 5A, 18A, 6A, 70A]   \n"
     ]
    }
   ],
   "source": [
    "hdul.info()"
   ]
  },
  {
   "cell_type": "code",
   "execution_count": 13,
   "metadata": {},
   "outputs": [
    {
     "data": {
      "text/plain": [
       "SIMPLE  =                    T / conforms to FITS standard                      \n",
       "BITPIX  =                    8 / array data type                                \n",
       "NAXIS   =                    0 / number of array dimensions                     \n",
       "EXTEND  =                    T                                                  \n",
       "TELESCOP= 'MULTI   '                                                            \n",
       "INSTRUME= 'MULTI   '                                                            \n",
       "GRATING = 'MULTI   '                                                            \n",
       "TELESC00= 'MODEL   '                                                            \n",
       "INSTRU00= 'PHX     '                                                            \n",
       "GRATIN00= 'NA      '                                                            \n",
       "TELESC01= 'MODEL   '                                                            \n",
       "INSTRU01= 'EUV-SCALING'                                                         \n",
       "GRATIN01= 'NA      '                                                            \n",
       "TELESC02= 'MODEL   '                                                            \n",
       "INSTRU02= 'APEC    '                                                            \n",
       "GRATIN02= 'NA      '                                                            \n",
       "TELESC03= 'HST     '                                                            \n",
       "INSTRU03= 'STIS    '                                                            \n",
       "GRATIN03= 'G230L   '                                                            \n",
       "TELESC04= 'HST     '                                                            \n",
       "INSTRU04= 'COS     '                                                            \n",
       "GRATIN04= 'G160M   '                                                            \n",
       "TELESC05= 'HST     '                                                            \n",
       "INSTRU05= 'COS     '                                                            \n",
       "GRATIN05= 'G130M   '                                                            \n",
       "TELESC06= 'HST     '                                                            \n",
       "INSTRU06= 'STIS    '                                                            \n",
       "GRATIN06= 'G430L   '                                                            \n",
       "TELESC07= 'HST     '                                                            \n",
       "INSTRU07= 'COS     '                                                            \n",
       "GRATIN07= 'G230L   '                                                            \n",
       "TELESC08= 'MODEL   '                                                            \n",
       "INSTRU08= 'LYA-RECONSTRUCTION'                                                  \n",
       "GRATIN08= 'NA      '                                                            \n",
       "TARGNAME= 'GJ176   '                                                            \n",
       "RA_TARG =    70.73239599999999                                                  \n",
       "DEC_TARG=            18.958163                                                  \n",
       "PROPOSID=                13650                                                  \n",
       "HLSPNAME= 'Measurements of the Ultraviolet Spectral Characteristics of &'       \n",
       "CONTINUE  'Low-mass Exoplanet Host Stars'                                       \n",
       "HLSPACRN= 'MUSCLES '                                                            \n",
       "HLSPLEAD= 'R. O. Parke Loyd'                                                    \n",
       "PR_INV_L= 'France  '                                                            \n",
       "PR_INV_F= 'Kevin   '                                                            \n",
       "WAVEMIN =    5.000441551208496                                                  \n",
       "WAVEMAX =             54999.75                                                  \n",
       "WAVEUNIT= 'ang     '                                                            \n",
       "AIRORVAC= 'vac     '                                                            \n",
       "FLUXMIN = -7.1025795946309E-15                                                  \n",
       "FLUXMAX = 1.10545481750486E-12                                                  \n",
       "FLUXUNIT= 'erg/s/cm2/ang'                                                       \n",
       "BOLOFLUX= 1.25681772600649E-08                                                  \n",
       "LNZ_NORM= 3.96067166323457E-14                                                  \n",
       "LNZ_GAM =   0.5015959287107679                                                  "
      ]
     },
     "execution_count": 13,
     "metadata": {},
     "output_type": "execute_result"
    }
   ],
   "source": [
    "hdul[0].header"
   ]
  },
  {
   "cell_type": "markdown",
   "metadata": {},
   "source": [
    "Ok that looks easy, I can build that from the instrument file. Oh yeah need to do the Bolometric flux."
   ]
  },
  {
   "cell_type": "code",
   "execution_count": null,
   "metadata": {},
   "outputs": [],
   "source": []
  }
 ],
 "metadata": {
  "kernelspec": {
   "display_name": "Python 3",
   "language": "python",
   "name": "python3"
  },
  "language_info": {
   "codemirror_mode": {
    "name": "ipython",
    "version": 3
   },
   "file_extension": ".py",
   "mimetype": "text/x-python",
   "name": "python",
   "nbconvert_exporter": "python",
   "pygments_lexer": "ipython3",
   "version": "3.6.8"
  }
 },
 "nbformat": 4,
 "nbformat_minor": 2
}
