{
 "cells": [
  {
   "cell_type": "markdown",
   "metadata": {},
   "source": [
    "Experimenting with making a fits file for the hslp"
   ]
  },
  {
   "cell_type": "code",
   "execution_count": 3,
   "metadata": {},
   "outputs": [],
   "source": [
    "import numpy as np\n",
    "import matplotlib.pyplot as plt\n",
    "import glob\n",
    "import astropy.io.fits as fits\n",
    "import os\n",
    "from scipy.io.idl import readsav\n",
    "from astropy.table import Table\n",
    "from astropy.io import ascii\n",
    "import astropy.units as u\n",
    "import astropy.constants as const\n",
    "from astropy.modeling import models, fitting\n",
    "from craftroom import resample\n",
    "from scipy.interpolate import interp1d\n",
    "\n",
    "\n",
    "%matplotlib inline\n",
    "from matplotlib import rcParams\n",
    "rcParams[\"figure.figsize\"] = (14, 5)\n",
    "rcParams[\"font.size\"] = 20"
   ]
  },
  {
   "cell_type": "code",
   "execution_count": 2,
   "metadata": {},
   "outputs": [],
   "source": [
    "ecsv_table = Table.read('../combined/gj_674_sed_var_res_v3.ecsv')"
   ]
  },
  {
   "cell_type": "code",
   "execution_count": 5,
   "metadata": {},
   "outputs": [
    {
     "name": "stderr",
     "output_type": "stream",
     "text": [
      "/home/david/anaconda3/lib/python3.6/site-packages/astropy/table/column.py:981: RuntimeWarning: invalid value encountered in greater\n",
      "  return getattr(self.data, op)(other)\n"
     ]
    },
    {
     "data": {
      "image/png": "[encoded data removed]",
      "text/plain": [
       "<Figure size 1008x360 with 1 Axes>"
      ]
     },
     "metadata": {
      "needs_background": "light"
     },
     "output_type": "display_data"
    }
   ],
   "source": [
    "plt.plot(ecsv_table['WAVELENGTH'][ecsv_table['FLUX'] >0], ecsv_table['FLUX'][ecsv_table['FLUX'] >0], drawstyle='steps-mid')\n",
    "plt.xscale('log')\n",
    "plt.yscale('log')"
   ]
  },
  {
   "cell_type": "markdown",
   "metadata": {},
   "source": [
    "What's in a MUSCLES fits file?"
   ]
  },
  {
   "cell_type": "code",
   "execution_count": 6,
   "metadata": {},
   "outputs": [],
   "source": [
    "hdul = fits.open('../../../stuff/muscles_eg/gj176/hlsp_muscles_multi_multi_gj176_broadband_v22_var-res-sed.fits')"
   ]
  },
  {
   "cell_type": "code",
   "execution_count": 7,
   "metadata": {},
   "outputs": [
    {
     "name": "stdout",
     "output_type": "stream",
     "text": [
      "Filename: ../../../stuff/muscles_eg/gj176/hlsp_muscles_multi_multi_gj176_broadband_v22_var-res-sed.fits\n",
      "No.    Name      Ver    Type      Cards   Dimensions   Format\n",
      "  0  PRIMARY       1 PrimaryHDU      53   ()      \n",
      "  1  SPECTRUM      1 BinTableHDU     59   1196260R x 13C   [D, D, D, D, D, D, I, D, D, J, D, D, D]   \n",
      "  2  INSTLGND      1 BinTableHDU     32   24R x 5C   [J, 5A, 18A, 6A, 70A]   \n"
     ]
    }
   ],
   "source": [
    "hdul.info()"
   ]
  },
  {
   "cell_type": "code",
   "execution_count": 8,
   "metadata": {},
   "outputs": [
    {
     "data": {
      "text/plain": [
       "SIMPLE  =                    T / conforms to FITS standard                      \n",
       "BITPIX  =                    8 / array data type                                \n",
       "NAXIS   =                    0 / number of array dimensions                     \n",
       "EXTEND  =                    T                                                  \n",
       "TELESCOP= 'MULTI   '                                                            \n",
       "INSTRUME= 'MULTI   '                                                            \n",
       "GRATING = 'MULTI   '                                                            \n",
       "TELESC00= 'MODEL   '                                                            \n",
       "INSTRU00= 'PHX     '                                                            \n",
       "GRATIN00= 'NA      '                                                            \n",
       "TELESC01= 'MODEL   '                                                            \n",
       "INSTRU01= 'EUV-SCALING'                                                         \n",
       "GRATIN01= 'NA      '                                                            \n",
       "TELESC02= 'MODEL   '                                                            \n",
       "INSTRU02= 'APEC    '                                                            \n",
       "GRATIN02= 'NA      '                                                            \n",
       "TELESC03= 'HST     '                                                            \n",
       "INSTRU03= 'STIS    '                                                            \n",
       "GRATIN03= 'G230L   '                                                            \n",
       "TELESC04= 'HST     '                                                            \n",
       "INSTRU04= 'COS     '                                                            \n",
       "GRATIN04= 'G160M   '                                                            \n",
       "TELESC05= 'HST     '                                                            \n",
       "INSTRU05= 'COS     '                                                            \n",
       "GRATIN05= 'G130M   '                                                            \n",
       "TELESC06= 'HST     '                                                            \n",
       "INSTRU06= 'STIS    '                                                            \n",
       "GRATIN06= 'G430L   '                                                            \n",
       "TELESC07= 'HST     '                                                            \n",
       "INSTRU07= 'COS     '                                                            \n",
       "GRATIN07= 'G230L   '                                                            \n",
       "TELESC08= 'MODEL   '                                                            \n",
       "INSTRU08= 'LYA-RECONSTRUCTION'                                                  \n",
       "GRATIN08= 'NA      '                                                            \n",
       "TARGNAME= 'GJ176   '                                                            \n",
       "RA_TARG =    70.73239599999999                                                  \n",
       "DEC_TARG=            18.958163                                                  \n",
       "PROPOSID=                13650                                                  \n",
       "HLSPNAME= 'Measurements of the Ultraviolet Spectral Characteristics of &'       \n",
       "CONTINUE  'Low-mass Exoplanet Host Stars'                                       \n",
       "HLSPACRN= 'MUSCLES '                                                            \n",
       "HLSPLEAD= 'R. O. Parke Loyd'                                                    \n",
       "PR_INV_L= 'France  '                                                            \n",
       "PR_INV_F= 'Kevin   '                                                            \n",
       "WAVEMIN =    5.000441551208496                                                  \n",
       "WAVEMAX =             54999.75                                                  \n",
       "WAVEUNIT= 'ang     '                                                            \n",
       "AIRORVAC= 'vac     '                                                            \n",
       "FLUXMIN = -7.1025795946309E-15                                                  \n",
       "FLUXMAX = 1.10545481750486E-12                                                  \n",
       "FLUXUNIT= 'erg/s/cm2/ang'                                                       \n",
       "BOLOFLUX= 1.25681772600649E-08                                                  \n",
       "LNZ_NORM= 3.96067166323457E-14                                                  \n",
       "LNZ_GAM =   0.5015959287107679                                                  "
      ]
     },
     "execution_count": 8,
     "metadata": {},
     "output_type": "execute_result"
    }
   ],
   "source": [
    "hdul[0].header"
   ]
  },
  {
   "cell_type": "markdown",
   "metadata": {},
   "source": [
    "Ok that looks easy, I can build that from the instrument file."
   ]
  },
  {
   "cell_type": "code",
   "execution_count": 9,
   "metadata": {},
   "outputs": [
    {
     "data": {
      "text/plain": [
       "XTENSION= 'BINTABLE'           / binary table extension                         \n",
       "BITPIX  =                    8 / array data type                                \n",
       "NAXIS   =                    2 / number of array dimensions                     \n",
       "NAXIS1  =                   94 / length of dimension 1                          \n",
       "NAXIS2  =              1196260 / length of dimension 2                          \n",
       "PCOUNT  =                    0 / number of group parameters                     \n",
       "GCOUNT  =                    1 / number of groups                               \n",
       "TFIELDS =                   13 / number of table fields                         \n",
       "EXTNAME = 'SPECTRUM'                                                            \n",
       "EXTNO   =                    2                                                  \n",
       "TDESC1  = 'midpoint of the wavelength bin'                                      \n",
       "TDESC2  = 'left/blue edge of the wavelength bin'                                \n",
       "TDESC3  = 'right/red edge of the wavelength bin'                                \n",
       "TDESC4  = 'average flux over the bin'                                           \n",
       "TDESC5  = 'error on the flux'                                                   \n",
       "TDESC6  = 'cumulative exposure time for the bin'                                \n",
       "TDESC7  = 'data quality flags (HST data only)'                                  \n",
       "TDESC8  = 'modified julian date of start of first exposure'                     \n",
       "TDESC9  = 'modified julian date of end of last exposure'                        \n",
       "TDESC10 = 'bitmask identifying the source instrument(s). See \"instlgnd\" &'      \n",
       "CONTINUE  'extension for a legend.'                                             \n",
       "TDESC11 = 'normalization factor applied to the source spectrum'                 \n",
       "TDESC12 = 'flux density normalized by the bolometric flux'                      \n",
       "TDESC13 = 'error on bolometrically-normalized flux density'                     \n",
       "TTYPE1  = 'WAVELENGTH'                                                          \n",
       "TFORM1  = 'D       '                                                            \n",
       "TUNIT1  = 'Angstrom'                                                            \n",
       "TTYPE2  = 'WAVELENGTH0'                                                         \n",
       "TFORM2  = 'D       '                                                            \n",
       "TUNIT2  = 'Angstrom'                                                            \n",
       "TTYPE3  = 'WAVELENGTH1'                                                         \n",
       "TFORM3  = 'D       '                                                            \n",
       "TUNIT3  = 'Angstrom'                                                            \n",
       "TTYPE4  = 'FLUX    '                                                            \n",
       "TFORM4  = 'D       '                                                            \n",
       "TUNIT4  = 'erg / (Angstrom cm2 s)'                                              \n",
       "TTYPE5  = 'ERROR   '                                                            \n",
       "TFORM5  = 'D       '                                                            \n",
       "TUNIT5  = 'erg / (Angstrom cm2 s)'                                              \n",
       "TTYPE6  = 'EXPTIME '                                                            \n",
       "TFORM6  = 'D       '                                                            \n",
       "TUNIT6  = 's       '                                                            \n",
       "TTYPE7  = 'DQ      '                                                            \n",
       "TFORM7  = 'I       '                                                            \n",
       "TTYPE8  = 'EXPSTART'                                                            \n",
       "TFORM8  = 'D       '                                                            \n",
       "TUNIT8  = 'd       '                                                            \n",
       "TTYPE9  = 'EXPEND  '                                                            \n",
       "TFORM9  = 'D       '                                                            \n",
       "TUNIT9  = 'd       '                                                            \n",
       "TTYPE10 = 'INSTRUMENT'                                                          \n",
       "TFORM10 = 'J       '                                                            \n",
       "TTYPE11 = 'NORMFAC '                                                            \n",
       "TFORM11 = 'D       '                                                            \n",
       "TTYPE12 = 'BOLOFLUX'                                                            \n",
       "TFORM12 = 'D       '                                                            \n",
       "TUNIT12 = '1 / Angstrom'                                                        \n",
       "TTYPE13 = 'BOLOERR '                                                            \n",
       "TFORM13 = 'D       '                                                            \n",
       "TUNIT13 = '1 / Angstrom'                                                        "
      ]
     },
     "execution_count": 9,
     "metadata": {},
     "output_type": "execute_result"
    }
   ],
   "source": [
    "hdul[1].header"
   ]
  },
  {
   "cell_type": "code",
   "execution_count": 10,
   "metadata": {},
   "outputs": [
    {
     "data": {
      "text/plain": [
       "XTENSION= 'BINTABLE'           / binary table extension                         \n",
       "BITPIX  =                    8 / array data type                                \n",
       "NAXIS   =                    2 / number of array dimensions                     \n",
       "NAXIS1  =                  103 / length of dimension 1                          \n",
       "NAXIS2  =                   24 / length of dimension 2                          \n",
       "PCOUNT  =                    0 / number of group parameters                     \n",
       "GCOUNT  =                    1 / number of groups                               \n",
       "TFIELDS =                    5 / number of table fields                         \n",
       "EXTNO   =                    3                                                  \n",
       "TTYPE1  = 'BITVALUE'                                                            \n",
       "TFORM1  = 'J       '                                                            \n",
       "TTYPE2  = 'TELESCOPE'                                                           \n",
       "TFORM2  = '5A      '                                                            \n",
       "TTYPE3  = 'INSTRUMENT'                                                          \n",
       "TFORM3  = '18A     '                                                            \n",
       "TTYPE4  = 'GRATING '                                                            \n",
       "TFORM4  = '6A      '                                                            \n",
       "TTYPE5  = 'HLSP_FILE'                                                           \n",
       "TFORM5  = '70A     '                                                            \n",
       "EXTNAME = 'INSTLGND'           / extension name                                 \n",
       "COMMENT This extension is a legend for the integer identifiers in the instrument\n",
       "COMMENT  column of the spectrum extension. Instruments are identified by bitwise\n",
       "COMMENT  flags so that any combination of instruments contributing to the data w\n",
       "COMMENT ithin a spectral element can be identified together. For example, if ins\n",
       "COMMENT truments 4 and 16 (100 and 10000 in binary) both contribute to the data \n",
       "COMMENT in a bin, then that bin will have the value 20, or 10100 in binary, to s\n",
       "COMMENT ignify that both instruments 4 and 16 have contributed. This is identica\n",
       "COMMENT l to the handling of bitwise data quality flags.                        \n",
       "COMMENT Not all of these instruments were used to acquire data for this particul\n",
       "COMMENT ar spectrum. Therefore, not all the listed HLSP files will exist in the \n",
       "COMMENT database. Also note that polynomial fits for filling spectral gaps were \n",
       "COMMENT not saved as separate spectra.                                          "
      ]
     },
     "execution_count": 10,
     "metadata": {},
     "output_type": "execute_result"
    }
   ],
   "source": [
    "hdul[2].header"
   ]
  },
  {
   "cell_type": "markdown",
   "metadata": {},
   "source": [
    "making a fake spectrum to experiment with"
   ]
  },
  {
   "cell_type": "code",
   "execution_count": 11,
   "metadata": {},
   "outputs": [
    {
     "data": {
      "text/plain": [
       "[<matplotlib.lines.Line2D at 0x7fef6ef34978>]"
      ]
     },
     "execution_count": 11,
     "metadata": {},
     "output_type": "execute_result"
    },
    {
     "data": {
      "image/png": "[encoded data removed]",
      "text/plain": [
       "<Figure size 1008x360 with 1 Axes>"
      ]
     },
     "metadata": {
      "needs_background": "light"
     },
     "output_type": "display_data"
    }
   ],
   "source": [
    "w = np.arange(100, 5000, 1)\n",
    "f = np.random.random(len(w))\n",
    "plt.plot(w,f)"
   ]
  },
  {
   "cell_type": "code",
   "execution_count": 12,
   "metadata": {},
   "outputs": [],
   "source": [
    "data = Table([w*u.AA, f*u.erg/u.s/u.cm**2/u.AA], names = ['WAVELENGTH', 'FLUX'])"
   ]
  },
  {
   "cell_type": "code",
   "execution_count": 13,
   "metadata": {},
   "outputs": [
    {
     "ename": "OSError",
     "evalue": "File exists: test.fits",
     "output_type": "error",
     "traceback": [
      "\u001b[0;31m---------------------------------------------------------------------------\u001b[0m",
      "\u001b[0;31mOSError\u001b[0m                                   Traceback (most recent call last)",
      "\u001b[0;32m<ipython-input-13-3ebcb3320bf2>\u001b[0m in \u001b[0;36m<module>\u001b[0;34m\u001b[0m\n\u001b[0;32m----> 1\u001b[0;31m \u001b[0mdata\u001b[0m\u001b[0;34m.\u001b[0m\u001b[0mwrite\u001b[0m\u001b[0;34m(\u001b[0m\u001b[0;34m'test.fits'\u001b[0m\u001b[0;34m)\u001b[0m\u001b[0;34m\u001b[0m\u001b[0;34m\u001b[0m\u001b[0m\n\u001b[0m",
      "\u001b[0;32m~/anaconda3/lib/python3.6/site-packages/astropy/table/connect.py\u001b[0m in \u001b[0;36m__call__\u001b[0;34m(self, *args, **kwargs)\u001b[0m\n\u001b[1;32m    112\u001b[0m         \u001b[0minstance\u001b[0m \u001b[0;34m=\u001b[0m \u001b[0mself\u001b[0m\u001b[0;34m.\u001b[0m\u001b[0m_instance\u001b[0m\u001b[0;34m\u001b[0m\u001b[0;34m\u001b[0m\u001b[0m\n\u001b[1;32m    113\u001b[0m         \u001b[0;32mwith\u001b[0m \u001b[0mserialize_method_as\u001b[0m\u001b[0;34m(\u001b[0m\u001b[0minstance\u001b[0m\u001b[0;34m,\u001b[0m \u001b[0mserialize_method\u001b[0m\u001b[0;34m)\u001b[0m\u001b[0;34m:\u001b[0m\u001b[0;34m\u001b[0m\u001b[0;34m\u001b[0m\u001b[0m\n\u001b[0;32m--> 114\u001b[0;31m             \u001b[0mregistry\u001b[0m\u001b[0;34m.\u001b[0m\u001b[0mwrite\u001b[0m\u001b[0;34m(\u001b[0m\u001b[0minstance\u001b[0m\u001b[0;34m,\u001b[0m \u001b[0;34m*\u001b[0m\u001b[0margs\u001b[0m\u001b[0;34m,\u001b[0m \u001b[0;34m**\u001b[0m\u001b[0mkwargs\u001b[0m\u001b[0;34m)\u001b[0m\u001b[0;34m\u001b[0m\u001b[0;34m\u001b[0m\u001b[0m\n\u001b[0m",
      "\u001b[0;32m~/anaconda3/lib/python3.6/site-packages/astropy/io/registry.py\u001b[0m in \u001b[0;36mwrite\u001b[0;34m(data, format, *args, **kwargs)\u001b[0m\n\u001b[1;32m    564\u001b[0m \u001b[0;34m\u001b[0m\u001b[0m\n\u001b[1;32m    565\u001b[0m     \u001b[0mwriter\u001b[0m \u001b[0;34m=\u001b[0m \u001b[0mget_writer\u001b[0m\u001b[0;34m(\u001b[0m\u001b[0mformat\u001b[0m\u001b[0;34m,\u001b[0m \u001b[0mdata\u001b[0m\u001b[0;34m.\u001b[0m\u001b[0m__class__\u001b[0m\u001b[0;34m)\u001b[0m\u001b[0;34m\u001b[0m\u001b[0;34m\u001b[0m\u001b[0m\n\u001b[0;32m--> 566\u001b[0;31m     \u001b[0mwriter\u001b[0m\u001b[0;34m(\u001b[0m\u001b[0mdata\u001b[0m\u001b[0;34m,\u001b[0m \u001b[0;34m*\u001b[0m\u001b[0margs\u001b[0m\u001b[0;34m,\u001b[0m \u001b[0;34m**\u001b[0m\u001b[0mkwargs\u001b[0m\u001b[0;34m)\u001b[0m\u001b[0;34m\u001b[0m\u001b[0;34m\u001b[0m\u001b[0m\n\u001b[0m\u001b[1;32m    567\u001b[0m \u001b[0;34m\u001b[0m\u001b[0m\n\u001b[1;32m    568\u001b[0m \u001b[0;34m\u001b[0m\u001b[0m\n",
      "\u001b[0;32m~/anaconda3/lib/python3.6/site-packages/astropy/io/fits/connect.py\u001b[0m in \u001b[0;36mwrite_table_fits\u001b[0;34m(input, output, overwrite)\u001b[0m\n\u001b[1;32m    392\u001b[0m             \u001b[0mos\u001b[0m\u001b[0;34m.\u001b[0m\u001b[0mremove\u001b[0m\u001b[0;34m(\u001b[0m\u001b[0moutput\u001b[0m\u001b[0;34m)\u001b[0m\u001b[0;34m\u001b[0m\u001b[0;34m\u001b[0m\u001b[0m\n\u001b[1;32m    393\u001b[0m         \u001b[0;32melse\u001b[0m\u001b[0;34m:\u001b[0m\u001b[0;34m\u001b[0m\u001b[0;34m\u001b[0m\u001b[0m\n\u001b[0;32m--> 394\u001b[0;31m             \u001b[0;32mraise\u001b[0m \u001b[0mOSError\u001b[0m\u001b[0;34m(\u001b[0m\u001b[0;34m\"File exists: {0}\"\u001b[0m\u001b[0;34m.\u001b[0m\u001b[0mformat\u001b[0m\u001b[0;34m(\u001b[0m\u001b[0moutput\u001b[0m\u001b[0;34m)\u001b[0m\u001b[0;34m)\u001b[0m\u001b[0;34m\u001b[0m\u001b[0;34m\u001b[0m\u001b[0m\n\u001b[0m\u001b[1;32m    395\u001b[0m \u001b[0;34m\u001b[0m\u001b[0m\n\u001b[1;32m    396\u001b[0m     \u001b[0mtable_hdu\u001b[0m\u001b[0;34m.\u001b[0m\u001b[0mwriteto\u001b[0m\u001b[0;34m(\u001b[0m\u001b[0moutput\u001b[0m\u001b[0;34m)\u001b[0m\u001b[0;34m\u001b[0m\u001b[0;34m\u001b[0m\u001b[0m\n",
      "\u001b[0;31mOSError\u001b[0m: File exists: test.fits"
     ]
    }
   ],
   "source": [
    "data.write('test.fits')"
   ]
  },
  {
   "cell_type": "code",
   "execution_count": 14,
   "metadata": {},
   "outputs": [],
   "source": [
    "hdul = fits.open('test.fits')"
   ]
  },
  {
   "cell_type": "code",
   "execution_count": 15,
   "metadata": {},
   "outputs": [
    {
     "name": "stdout",
     "output_type": "stream",
     "text": [
      "Filename: test.fits\n",
      "No.    Name      Ver    Type      Cards   Dimensions   Format\n",
      "  0  PRIMARY       1 PrimaryHDU       4   ()      \n",
      "  1                1 BinTableHDU     15   4900R x 2C   [D, D]   \n"
     ]
    }
   ],
   "source": [
    "hdul.info()"
   ]
  },
  {
   "cell_type": "code",
   "execution_count": 16,
   "metadata": {},
   "outputs": [
    {
     "data": {
      "text/plain": [
       "XTENSION= 'BINTABLE'           / binary table extension                         \n",
       "BITPIX  =                    8 / array data type                                \n",
       "NAXIS   =                    2 / number of array dimensions                     \n",
       "NAXIS1  =                   16 / length of dimension 1                          \n",
       "NAXIS2  =                 4900 / length of dimension 2                          \n",
       "PCOUNT  =                    0 / number of group parameters                     \n",
       "GCOUNT  =                    1 / number of groups                               \n",
       "TFIELDS =                    2 / number of table fields                         \n",
       "TTYPE1  = 'WAVELENGTH'                                                          \n",
       "TFORM1  = 'D       '                                                            \n",
       "TUNIT1  = 'Angstrom'                                                            \n",
       "TTYPE2  = 'FLUX    '                                                            \n",
       "TFORM2  = 'D       '                                                            \n",
       "TUNIT2  = 'Angstrom-1 cm-2 erg s-1'                                             \n",
       "TEST    = 'hello   '                                                            "
      ]
     },
     "execution_count": 16,
     "metadata": {},
     "output_type": "execute_result"
    }
   ],
   "source": [
    "hdul[1].header"
   ]
  },
  {
   "cell_type": "code",
   "execution_count": 17,
   "metadata": {},
   "outputs": [],
   "source": [
    "data.meta['TEST'] ='hello'"
   ]
  },
  {
   "cell_type": "code",
   "execution_count": 18,
   "metadata": {},
   "outputs": [],
   "source": [
    "hdul.close()"
   ]
  },
  {
   "cell_type": "code",
   "execution_count": 19,
   "metadata": {},
   "outputs": [],
   "source": [
    "data.write('test.fits', overwrite= True)"
   ]
  },
  {
   "cell_type": "code",
   "execution_count": 20,
   "metadata": {},
   "outputs": [],
   "source": [
    "hdul = fits.open('test.fits')"
   ]
  },
  {
   "cell_type": "code",
   "execution_count": 21,
   "metadata": {},
   "outputs": [
    {
     "data": {
      "text/plain": [
       "SIMPLE  =                    T / conforms to FITS standard                      \n",
       "BITPIX  =                    8 / array data type                                \n",
       "NAXIS   =                    0 / number of array dimensions                     \n",
       "EXTEND  =                    T                                                  "
      ]
     },
     "execution_count": 21,
     "metadata": {},
     "output_type": "execute_result"
    }
   ],
   "source": [
    "hdul[0].header"
   ]
  },
  {
   "cell_type": "code",
   "execution_count": 22,
   "metadata": {},
   "outputs": [],
   "source": [
    "hdul[0].header['test'] = 'Hello again'"
   ]
  },
  {
   "cell_type": "code",
   "execution_count": 23,
   "metadata": {},
   "outputs": [
    {
     "data": {
      "text/plain": [
       "SIMPLE  =                    T / conforms to FITS standard                      \n",
       "BITPIX  =                    8 / array data type                                \n",
       "NAXIS   =                    0 / number of array dimensions                     \n",
       "EXTEND  =                    T                                                  \n",
       "TEST    = 'Hello again'                                                         "
      ]
     },
     "execution_count": 23,
     "metadata": {},
     "output_type": "execute_result"
    }
   ],
   "source": [
    "hdul[0].header"
   ]
  },
  {
   "cell_type": "code",
   "execution_count": 24,
   "metadata": {},
   "outputs": [],
   "source": [
    "hdul[0].header['test2'] = 'Hello thrice'"
   ]
  },
  {
   "cell_type": "code",
   "execution_count": 25,
   "metadata": {},
   "outputs": [
    {
     "data": {
      "text/plain": [
       "SIMPLE  =                    T / conforms to FITS standard                      \n",
       "BITPIX  =                    8 / array data type                                \n",
       "NAXIS   =                    0 / number of array dimensions                     \n",
       "EXTEND  =                    T                                                  \n",
       "TEST    = 'Hello again'                                                         \n",
       "TEST2   = 'Hello thrice'                                                        "
      ]
     },
     "execution_count": 25,
     "metadata": {},
     "output_type": "execute_result"
    }
   ],
   "source": [
    "hdul[0].header"
   ]
  },
  {
   "cell_type": "markdown",
   "metadata": {},
   "source": [
    "Looks like what I need is here https://docs.astropy.org/en/stable/io/fits/#creating-a-new-fits-file"
   ]
  },
  {
   "cell_type": "code",
   "execution_count": null,
   "metadata": {},
   "outputs": [],
   "source": []
  },
  {
   "cell_type": "code",
   "execution_count": 26,
   "metadata": {},
   "outputs": [],
   "source": [
    "dat, names = [w*u.AA, f*u.erg/u.s/u.cm**2/u.AA], ['WAVELENGTH', 'FLUX']\n",
    "cols = []\n",
    "for col, name in zip(dat, names):\n",
    "    cols.append(fits.Column(name=name, format ='E', array=col))"
   ]
  },
  {
   "cell_type": "code",
   "execution_count": 27,
   "metadata": {},
   "outputs": [],
   "source": [
    "data = Table([w*u.AA, f*u.erg/u.s/u.cm**2/u.AA], names = ['WAVELENGTH', 'FLUX'])"
   ]
  },
  {
   "cell_type": "code",
   "execution_count": 28,
   "metadata": {},
   "outputs": [],
   "source": [
    "hdu = fits.table_to_hdu(data)"
   ]
  },
  {
   "cell_type": "code",
   "execution_count": 29,
   "metadata": {},
   "outputs": [
    {
     "data": {
      "text/plain": [
       "XTENSION= 'BINTABLE'           / binary table extension                         \n",
       "BITPIX  =                    8 / array data type                                \n",
       "NAXIS   =                    2 / number of array dimensions                     \n",
       "NAXIS1  =                   16 / length of dimension 1                          \n",
       "NAXIS2  =                 4900 / length of dimension 2                          \n",
       "PCOUNT  =                    0 / number of group parameters                     \n",
       "GCOUNT  =                    1 / number of groups                               \n",
       "TFIELDS =                    2 / number of table fields                         \n",
       "TTYPE1  = 'WAVELENGTH'                                                          \n",
       "TFORM1  = 'D       '                                                            \n",
       "TUNIT1  = 'Angstrom'                                                            \n",
       "TTYPE2  = 'FLUX    '                                                            \n",
       "TFORM2  = 'D       '                                                            \n",
       "TUNIT2  = 'Angstrom-1 cm-2 erg s-1'                                             "
      ]
     },
     "execution_count": 29,
     "metadata": {},
     "output_type": "execute_result"
    }
   ],
   "source": [
    "hdu.header"
   ]
  },
  {
   "cell_type": "code",
   "execution_count": 30,
   "metadata": {},
   "outputs": [],
   "source": [
    "hdr = fits.Header()\n",
    "hdr['Line1'] = 'This should be first'\n",
    "hdr['parttwo'] ='Then this one'\n",
    "primary_hdu = fits.PrimaryHDU(header=hdr)"
   ]
  },
  {
   "cell_type": "code",
   "execution_count": 31,
   "metadata": {},
   "outputs": [],
   "source": [
    "hdul2 = fits.HDUList([primary_hdu, hdu])\n",
    "hdul2.writeto('test2.fits', overwrite=True)"
   ]
  },
  {
   "cell_type": "code",
   "execution_count": 32,
   "metadata": {},
   "outputs": [
    {
     "data": {
      "text/plain": [
       "XTENSION= 'BINTABLE'           / binary table extension                         \n",
       "BITPIX  =                    8 / array data type                                \n",
       "NAXIS   =                    2 / number of array dimensions                     \n",
       "NAXIS1  =                   16 / length of dimension 1                          \n",
       "NAXIS2  =                 4900 / length of dimension 2                          \n",
       "PCOUNT  =                    0 / number of group parameters                     \n",
       "GCOUNT  =                    1 / number of groups                               \n",
       "TFIELDS =                    2 / number of table fields                         \n",
       "TTYPE1  = 'WAVELENGTH'                                                          \n",
       "TFORM1  = 'D       '                                                            \n",
       "TUNIT1  = 'Angstrom'                                                            \n",
       "TTYPE2  = 'FLUX    '                                                            \n",
       "TFORM2  = 'D       '                                                            \n",
       "TUNIT2  = 'Angstrom-1 cm-2 erg s-1'                                             "
      ]
     },
     "execution_count": 32,
     "metadata": {},
     "output_type": "execute_result"
    }
   ],
   "source": [
    "fits.getheader('test2.fits',1)"
   ]
  },
  {
   "cell_type": "markdown",
   "metadata": {},
   "source": [
    "Ok, how to add keywords in the right order?"
   ]
  },
  {
   "cell_type": "code",
   "execution_count": 33,
   "metadata": {},
   "outputs": [
    {
     "data": {
      "text/plain": [
       "LINE1   = 'This should be first'                                                \n",
       "PARTTWO = 'Then this one'                                                       "
      ]
     },
     "execution_count": 33,
     "metadata": {},
     "output_type": "execute_result"
    }
   ],
   "source": [
    "hdr"
   ]
  },
  {
   "cell_type": "code",
   "execution_count": 34,
   "metadata": {},
   "outputs": [
    {
     "data": {
      "text/plain": [
       "'This should be first'"
      ]
     },
     "execution_count": 34,
     "metadata": {},
     "output_type": "execute_result"
    }
   ],
   "source": [
    "hdr[0]"
   ]
  },
  {
   "cell_type": "code",
   "execution_count": 35,
   "metadata": {},
   "outputs": [],
   "source": [
    "hdr[0] =' now what'"
   ]
  },
  {
   "cell_type": "code",
   "execution_count": 36,
   "metadata": {},
   "outputs": [],
   "source": [
    "hdr['Adding'] = 'where?'"
   ]
  },
  {
   "cell_type": "code",
   "execution_count": 37,
   "metadata": {},
   "outputs": [],
   "source": [
    "hdr.insert(2, 'Another', 'fixed')"
   ]
  },
  {
   "cell_type": "code",
   "execution_count": 38,
   "metadata": {},
   "outputs": [
    {
     "data": {
      "text/plain": [
       "LINE1   = ' now what'                                                           \n",
       "PARTTWO = 'Then this one'                                                       \n",
       "ANOTHER =                                                                       \n",
       "ADDING  = 'where?  '                                                            "
      ]
     },
     "execution_count": 38,
     "metadata": {},
     "output_type": "execute_result"
    }
   ],
   "source": [
    "hdr"
   ]
  },
  {
   "cell_type": "code",
   "execution_count": 39,
   "metadata": {},
   "outputs": [],
   "source": [
    "del hdr['MIDDLEmaybe?']"
   ]
  },
  {
   "cell_type": "code",
   "execution_count": 40,
   "metadata": {},
   "outputs": [],
   "source": [
    "hdr ['ANOTHER'] = 'good'"
   ]
  },
  {
   "cell_type": "code",
   "execution_count": 41,
   "metadata": {},
   "outputs": [
    {
     "data": {
      "text/plain": [
       "LINE1   = ' now what'                                                           \n",
       "PARTTWO = 'Then this one'                                                       \n",
       "ANOTHER = 'good    '                                                            \n",
       "ADDING  = 'where?  '                                                            "
      ]
     },
     "execution_count": 41,
     "metadata": {},
     "output_type": "execute_result"
    }
   ],
   "source": [
    "hdr"
   ]
  },
  {
   "cell_type": "markdown",
   "metadata": {},
   "source": [
    "Ok, what about the data header?"
   ]
  },
  {
   "cell_type": "code",
   "execution_count": 42,
   "metadata": {},
   "outputs": [],
   "source": [
    "hdr2 = hdu.header"
   ]
  },
  {
   "cell_type": "code",
   "execution_count": 43,
   "metadata": {},
   "outputs": [
    {
     "data": {
      "text/plain": [
       "XTENSION= 'BINTABLE'           / binary table extension                         \n",
       "BITPIX  =                    8 / array data type                                \n",
       "NAXIS   =                    2 / number of array dimensions                     \n",
       "NAXIS1  =                   16 / length of dimension 1                          \n",
       "NAXIS2  =                 4900 / length of dimension 2                          \n",
       "PCOUNT  =                    0 / number of group parameters                     \n",
       "GCOUNT  =                    1 / number of groups                               \n",
       "TFIELDS =                    2 / number of table fields                         \n",
       "TTYPE1  = 'WAVELENGTH'                                                          \n",
       "TFORM1  = 'D       '                                                            \n",
       "TUNIT1  = 'Angstrom'                                                            \n",
       "TTYPE2  = 'FLUX    '                                                            \n",
       "TFORM2  = 'D       '                                                            \n",
       "TUNIT2  = 'Angstrom-1 cm-2 erg s-1'                                             "
      ]
     },
     "execution_count": 43,
     "metadata": {},
     "output_type": "execute_result"
    }
   ],
   "source": [
    "hdr2"
   ]
  },
  {
   "cell_type": "code",
   "execution_count": 44,
   "metadata": {},
   "outputs": [],
   "source": [
    "hdr2['TEST'] = 'oh look'"
   ]
  },
  {
   "cell_type": "code",
   "execution_count": 45,
   "metadata": {},
   "outputs": [
    {
     "data": {
      "text/plain": [
       "XTENSION= 'BINTABLE'           / binary table extension                         \n",
       "BITPIX  =                    8 / array data type                                \n",
       "NAXIS   =                    2 / number of array dimensions                     \n",
       "NAXIS1  =                   16 / length of dimension 1                          \n",
       "NAXIS2  =                 4900 / length of dimension 2                          \n",
       "PCOUNT  =                    0 / number of group parameters                     \n",
       "GCOUNT  =                    1 / number of groups                               \n",
       "TFIELDS =                    2 / number of table fields                         \n",
       "TTYPE1  = 'WAVELENGTH'                                                          \n",
       "TFORM1  = 'D       '                                                            \n",
       "TUNIT1  = 'Angstrom'                                                            \n",
       "TTYPE2  = 'FLUX    '                                                            \n",
       "TFORM2  = 'D       '                                                            \n",
       "TUNIT2  = 'Angstrom-1 cm-2 erg s-1'                                             \n",
       "TEST    = 'oh look '                                                            "
      ]
     },
     "execution_count": 45,
     "metadata": {},
     "output_type": "execute_result"
    }
   ],
   "source": [
    "hdr2"
   ]
  },
  {
   "cell_type": "code",
   "execution_count": 46,
   "metadata": {},
   "outputs": [
    {
     "data": {
      "text/plain": [
       "XTENSION= 'BINTABLE'           / binary table extension                         \n",
       "BITPIX  =                    8 / array data type                                \n",
       "NAXIS   =                    2 / number of array dimensions                     \n",
       "NAXIS1  =                   16 / length of dimension 1                          \n",
       "NAXIS2  =                 4900 / length of dimension 2                          \n",
       "PCOUNT  =                    0 / number of group parameters                     \n",
       "GCOUNT  =                    1 / number of groups                               \n",
       "TFIELDS =                    2 / number of table fields                         \n",
       "ANOTHER =                                                                       \n",
       "AGAIN   =                                                                       \n",
       "TTYPE1  = 'WAVELENGTH'                                                          \n",
       "TFORM1  = 'D       '                                                            \n",
       "TUNIT1  = 'Angstrom'                                                            \n",
       "TTYPE2  = 'FLUX    '                                                            \n",
       "TFORM2  = 'D       '                                                            \n",
       "TUNIT2  = 'Angstrom-1 cm-2 erg s-1'                                             \n",
       "TEST    = 'oh look '                                                            "
      ]
     },
     "execution_count": 46,
     "metadata": {},
     "output_type": "execute_result"
    }
   ],
   "source": [
    "for i, n  in zip((8,9), ('Another', 'again')):\n",
    "    hdr2.insert(i, n)\n",
    "#print(hdr2)\n",
    "hdr2"
   ]
  },
  {
   "cell_type": "code",
   "execution_count": 49,
   "metadata": {},
   "outputs": [],
   "source": [
    "#del hdr2['ANOTHER']\n",
    "#del hdr2['and again']\n",
    "#hdr2"
   ]
  },
  {
   "cell_type": "code",
   "execution_count": 50,
   "metadata": {},
   "outputs": [],
   "source": [
    "hdul = fits.open('../../../stuff/muscles_eg/gj176/hlsp_muscles_multi_multi_gj176_broadband_v22_var-res-sed.fits')"
   ]
  },
  {
   "cell_type": "code",
   "execution_count": 51,
   "metadata": {},
   "outputs": [
    {
     "data": {
      "text/plain": [
       "XTENSION= 'BINTABLE'           / binary table extension                         \n",
       "BITPIX  =                    8 / array data type                                \n",
       "NAXIS   =                    2 / number of array dimensions                     \n",
       "NAXIS1  =                   94 / length of dimension 1                          \n",
       "NAXIS2  =              1196260 / length of dimension 2                          \n",
       "PCOUNT  =                    0 / number of group parameters                     \n",
       "GCOUNT  =                    1 / number of groups                               \n",
       "TFIELDS =                   13 / number of table fields                         \n",
       "EXTNAME = 'SPECTRUM'                                                            \n",
       "EXTNO   =                    2                                                  \n",
       "TDESC1  = 'midpoint of the wavelength bin'                                      \n",
       "TDESC2  = 'left/blue edge of the wavelength bin'                                \n",
       "TDESC3  = 'right/red edge of the wavelength bin'                                \n",
       "TDESC4  = 'average flux over the bin'                                           \n",
       "TDESC5  = 'error on the flux'                                                   \n",
       "TDESC6  = 'cumulative exposure time for the bin'                                \n",
       "TDESC7  = 'data quality flags (HST data only)'                                  \n",
       "TDESC8  = 'modified julian date of start of first exposure'                     \n",
       "TDESC9  = 'modified julian date of end of last exposure'                        \n",
       "TDESC10 = 'bitmask identifying the source instrument(s). See \"instlgnd\" &'      \n",
       "CONTINUE  'extension for a legend.'                                             \n",
       "TDESC11 = 'normalization factor applied to the source spectrum'                 \n",
       "TDESC12 = 'flux density normalized by the bolometric flux'                      \n",
       "TDESC13 = 'error on bolometrically-normalized flux density'                     \n",
       "TTYPE1  = 'WAVELENGTH'                                                          \n",
       "TFORM1  = 'D       '                                                            \n",
       "TUNIT1  = 'Angstrom'                                                            \n",
       "TTYPE2  = 'WAVELENGTH0'                                                         \n",
       "TFORM2  = 'D       '                                                            \n",
       "TUNIT2  = 'Angstrom'                                                            \n",
       "TTYPE3  = 'WAVELENGTH1'                                                         \n",
       "TFORM3  = 'D       '                                                            \n",
       "TUNIT3  = 'Angstrom'                                                            \n",
       "TTYPE4  = 'FLUX    '                                                            \n",
       "TFORM4  = 'D       '                                                            \n",
       "TUNIT4  = 'erg / (Angstrom cm2 s)'                                              \n",
       "TTYPE5  = 'ERROR   '                                                            \n",
       "TFORM5  = 'D       '                                                            \n",
       "TUNIT5  = 'erg / (Angstrom cm2 s)'                                              \n",
       "TTYPE6  = 'EXPTIME '                                                            \n",
       "TFORM6  = 'D       '                                                            \n",
       "TUNIT6  = 's       '                                                            \n",
       "TTYPE7  = 'DQ      '                                                            \n",
       "TFORM7  = 'I       '                                                            \n",
       "TTYPE8  = 'EXPSTART'                                                            \n",
       "TFORM8  = 'D       '                                                            \n",
       "TUNIT8  = 'd       '                                                            \n",
       "TTYPE9  = 'EXPEND  '                                                            \n",
       "TFORM9  = 'D       '                                                            \n",
       "TUNIT9  = 'd       '                                                            \n",
       "TTYPE10 = 'INSTRUMENT'                                                          \n",
       "TFORM10 = 'J       '                                                            \n",
       "TTYPE11 = 'NORMFAC '                                                            \n",
       "TFORM11 = 'D       '                                                            \n",
       "TTYPE12 = 'BOLOFLUX'                                                            \n",
       "TFORM12 = 'D       '                                                            \n",
       "TUNIT12 = '1 / Angstrom'                                                        \n",
       "TTYPE13 = 'BOLOERR '                                                            \n",
       "TFORM13 = 'D       '                                                            \n",
       "TUNIT13 = '1 / Angstrom'                                                        "
      ]
     },
     "execution_count": 51,
     "metadata": {},
     "output_type": "execute_result"
    }
   ],
   "source": [
    "hdul[1].header"
   ]
  },
  {
   "cell_type": "code",
   "execution_count": 52,
   "metadata": {},
   "outputs": [
    {
     "data": {
      "text/plain": [
       "SIMPLE  =                    T / conforms to FITS standard                      \n",
       "BITPIX  =                    8 / array data type                                \n",
       "NAXIS   =                    0 / number of array dimensions                     \n",
       "EXTEND  =                    T                                                  \n",
       "TELESCOP= 'MULTI   '                                                            \n",
       "INSTRUME= 'MULTI   '                                                            \n",
       "GRATING = 'MULTI   '                                                            \n",
       "TELESC00= 'MODEL   '                                                            \n",
       "INSTRU00= 'PHX     '                                                            \n",
       "GRATIN00= 'NA      '                                                            \n",
       "TELESC01= 'MODEL   '                                                            \n",
       "INSTRU01= 'EUV-SCALING'                                                         \n",
       "GRATIN01= 'NA      '                                                            \n",
       "TELESC02= 'MODEL   '                                                            \n",
       "INSTRU02= 'APEC    '                                                            \n",
       "GRATIN02= 'NA      '                                                            \n",
       "TELESC03= 'HST     '                                                            \n",
       "INSTRU03= 'STIS    '                                                            \n",
       "GRATIN03= 'G230L   '                                                            \n",
       "TELESC04= 'HST     '                                                            \n",
       "INSTRU04= 'COS     '                                                            \n",
       "GRATIN04= 'G160M   '                                                            \n",
       "TELESC05= 'HST     '                                                            \n",
       "INSTRU05= 'COS     '                                                            \n",
       "GRATIN05= 'G130M   '                                                            \n",
       "TELESC06= 'HST     '                                                            \n",
       "INSTRU06= 'STIS    '                                                            \n",
       "GRATIN06= 'G430L   '                                                            \n",
       "TELESC07= 'HST     '                                                            \n",
       "INSTRU07= 'COS     '                                                            \n",
       "GRATIN07= 'G230L   '                                                            \n",
       "TELESC08= 'MODEL   '                                                            \n",
       "INSTRU08= 'LYA-RECONSTRUCTION'                                                  \n",
       "GRATIN08= 'NA      '                                                            \n",
       "TARGNAME= 'GJ176   '                                                            \n",
       "RA_TARG =    70.73239599999999                                                  \n",
       "DEC_TARG=            18.958163                                                  \n",
       "PROPOSID=                13650                                                  \n",
       "HLSPNAME= 'Measurements of the Ultraviolet Spectral Characteristics of &'       \n",
       "CONTINUE  'Low-mass Exoplanet Host Stars'                                       \n",
       "HLSPACRN= 'MUSCLES '                                                            \n",
       "HLSPLEAD= 'R. O. Parke Loyd'                                                    \n",
       "PR_INV_L= 'France  '                                                            \n",
       "PR_INV_F= 'Kevin   '                                                            \n",
       "WAVEMIN =    5.000441551208496                                                  \n",
       "WAVEMAX =             54999.75                                                  \n",
       "WAVEUNIT= 'ang     '                                                            \n",
       "AIRORVAC= 'vac     '                                                            \n",
       "FLUXMIN = -7.1025795946309E-15                                                  \n",
       "FLUXMAX = 1.10545481750486E-12                                                  \n",
       "FLUXUNIT= 'erg/s/cm2/ang'                                                       \n",
       "BOLOFLUX= 1.25681772600649E-08                                                  \n",
       "LNZ_NORM= 3.96067166323457E-14                                                  \n",
       "LNZ_GAM =   0.5015959287107679                                                  "
      ]
     },
     "execution_count": 52,
     "metadata": {},
     "output_type": "execute_result"
    }
   ],
   "source": [
    "hdul[0].header"
   ]
  },
  {
   "cell_type": "code",
   "execution_count": 53,
   "metadata": {},
   "outputs": [
    {
     "data": {
      "text/plain": [
       "SIMPLE  =                    T / conforms to FITS standard                      \n",
       "BITPIX  =                    8 / array data type                                \n",
       "NAXIS   =                    0 / number of array dimensions                     \n",
       "EXTEND  =                    T                                                  \n",
       "LINE1   = 'This should be first'                                                \n",
       "PARTTWO = 'Then this one'                                                       "
      ]
     },
     "execution_count": 53,
     "metadata": {},
     "output_type": "execute_result"
    }
   ],
   "source": [
    "primary_hdu.header"
   ]
  },
  {
   "cell_type": "markdown",
   "metadata": {},
   "source": [
    "Primary header needs a list of all instruments used."
   ]
  },
  {
   "cell_type": "code",
   "execution_count": 54,
   "metadata": {},
   "outputs": [],
   "source": [
    "ints = np.unique(ecsv_table['INSTRUMENT'])"
   ]
  },
  {
   "cell_type": "code",
   "execution_count": 55,
   "metadata": {},
   "outputs": [
    {
     "data": {
      "text/html": [
       "&lt;Column name=&apos;INSTRUMENT&apos; dtype=&apos;float64&apos; length=10&gt;\n",
       "<table>\n",
       "<tr><td>1.0</td></tr>\n",
       "<tr><td>8.0</td></tr>\n",
       "<tr><td>128.0</td></tr>\n",
       "<tr><td>256.0</td></tr>\n",
       "<tr><td>6144.0</td></tr>\n",
       "<tr><td>16384.0</td></tr>\n",
       "<tr><td>32768.0</td></tr>\n",
       "<tr><td>65536.0</td></tr>\n",
       "<tr><td>131072.0</td></tr>\n",
       "<tr><td>16777216.0</td></tr>\n",
       "</table>"
      ],
      "text/plain": [
       "<Column name='INSTRUMENT' dtype='float64' length=10>\n",
       "       1.0\n",
       "       8.0\n",
       "     128.0\n",
       "     256.0\n",
       "    6144.0\n",
       "   16384.0\n",
       "   32768.0\n",
       "   65536.0\n",
       "  131072.0\n",
       "16777216.0"
      ]
     },
     "execution_count": 55,
     "metadata": {},
     "output_type": "execute_result"
    }
   ],
   "source": [
    "ints"
   ]
  },
  {
   "cell_type": "markdown",
   "metadata": {},
   "source": [
    "Why are there -99s and 0s in there? Fixed it."
   ]
  },
  {
   "cell_type": "code",
   "execution_count": 56,
   "metadata": {},
   "outputs": [],
   "source": [
    "import instruments as inst"
   ]
  },
  {
   "cell_type": "code",
   "execution_count": 57,
   "metadata": {},
   "outputs": [
    {
     "name": "stdout",
     "output_type": "stream",
     "text": [
      "hst_cos_g130m\n",
      "hst_sts_g140m\n",
      "hst_sts_g230l\n",
      "hst_sts_g430l\n"
     ]
    },
    {
     "ename": "ValueError",
     "evalue": "6144.0 is not in list",
     "output_type": "error",
     "traceback": [
      "\u001b[0;31m---------------------------------------------------------------------------\u001b[0m",
      "\u001b[0;31mValueError\u001b[0m                                Traceback (most recent call last)",
      "\u001b[0;32m<ipython-input-57-f7537a274d54>\u001b[0m in \u001b[0;36m<module>\u001b[0;34m\u001b[0m\n\u001b[1;32m      1\u001b[0m \u001b[0;32mfor\u001b[0m \u001b[0mi\u001b[0m \u001b[0;32min\u001b[0m \u001b[0mints\u001b[0m\u001b[0;34m:\u001b[0m\u001b[0;34m\u001b[0m\u001b[0;34m\u001b[0m\u001b[0m\n\u001b[0;32m----> 2\u001b[0;31m     \u001b[0mprint\u001b[0m\u001b[0;34m(\u001b[0m\u001b[0minst\u001b[0m\u001b[0;34m.\u001b[0m\u001b[0mgetinststr\u001b[0m\u001b[0;34m(\u001b[0m\u001b[0mi\u001b[0m\u001b[0;34m)\u001b[0m\u001b[0;34m)\u001b[0m\u001b[0;34m\u001b[0m\u001b[0;34m\u001b[0m\u001b[0m\n\u001b[0m",
      "\u001b[0;32m~/work/muscles/SEDs/gj_674/hlsp/instruments.py\u001b[0m in \u001b[0;36mgetinststr\u001b[0;34m(inst_val)\u001b[0m\n\u001b[1;32m     44\u001b[0m \u001b[0;32mdef\u001b[0m \u001b[0mgetinststr\u001b[0m\u001b[0;34m(\u001b[0m\u001b[0minst_val\u001b[0m\u001b[0;34m)\u001b[0m\u001b[0;34m:\u001b[0m\u001b[0;34m\u001b[0m\u001b[0;34m\u001b[0m\u001b[0m\n\u001b[1;32m     45\u001b[0m     \u001b[0;34m\"\"\"Return the string version of an instrument value.\"\"\"\u001b[0m\u001b[0;34m\u001b[0m\u001b[0;34m\u001b[0m\u001b[0m\n\u001b[0;32m---> 46\u001b[0;31m     \u001b[0;32mreturn\u001b[0m \u001b[0minstruments\u001b[0m\u001b[0;34m[\u001b[0m\u001b[0minstvals\u001b[0m\u001b[0;34m.\u001b[0m\u001b[0mindex\u001b[0m\u001b[0;34m(\u001b[0m\u001b[0minst_val\u001b[0m\u001b[0;34m)\u001b[0m\u001b[0;34m]\u001b[0m\u001b[0;34m\u001b[0m\u001b[0;34m\u001b[0m\u001b[0m\n\u001b[0m\u001b[1;32m     47\u001b[0m \u001b[0;34m\u001b[0m\u001b[0m\n\u001b[1;32m     48\u001b[0m \u001b[0;32mdef\u001b[0m \u001b[0mgetinsti\u001b[0m\u001b[0;34m(\u001b[0m\u001b[0minstrument\u001b[0m\u001b[0;34m)\u001b[0m\u001b[0;34m:\u001b[0m\u001b[0;34m\u001b[0m\u001b[0;34m\u001b[0m\u001b[0m\n",
      "\u001b[0;31mValueError\u001b[0m: 6144.0 is not in list"
     ]
    }
   ],
   "source": [
    "for i in ints:\n",
    "    print(inst.getinststr(i))"
   ]
  },
  {
   "cell_type": "code",
   "execution_count": 191,
   "metadata": {},
   "outputs": [
    {
     "data": {
      "image/png": "[encoded data removed]",
      "text/plain": [
       "<Figure size 1008x360 with 1 Axes>"
      ]
     },
     "metadata": {
      "needs_background": "light"
     },
     "output_type": "display_data"
    }
   ],
   "source": [
    "plt.plot(ecsv_table['WAVELENGTH'], ecsv_table['INSTRUMENT'])\n",
    "plt.ylim(6100, 6200)\n",
    "plt.xscale('log')"
   ]
  },
  {
   "cell_type": "markdown",
   "metadata": {},
   "source": [
    "Bit of Parke's code that hopefully makes the instrument ext"
   ]
  },
  {
   "cell_type": "code",
   "execution_count": 61,
   "metadata": {},
   "outputs": [],
   "source": [
    "legendcomment = ('This extension is a legend for the integer identifiers in the instrument column of the '\n",
    "                  'spectrum extension. Instruments are identified by bitwise flags so that any combination of '\n",
    "                  'instruments contributing to the data within a spectral element can be identified together. '\n",
    "                  'For example, if instruments 4 and 16 (100 and 10000 in binary) both contribute to the data '\n",
    "                  'in a bin, then that bin will have the value 20, or 10100 in binary, to signify that both '\n",
    "                  'instruments 4 and 16 have contributed. This is identical to the handling of bitwise data '\n",
    "                  'quality flags.')\n",
    "\n",
    "def make_inst_ext():\n",
    "    cols = [fits.Column('instruments','13A', array=inst.instruments),\n",
    "                fits.Column('bitvalues', 'I', array=inst.instvals)]\n",
    "    hdr = fits.Header()\n",
    "    hdr['comment'] = legendcomment\n",
    "    idhdu = fits.BinTableHDU.from_columns(cols, header=hdr, name='legend')\n",
    "    #ftbl.append(idhdu)\n",
    "    return idhdu\n",
    "\n",
    "idhu = make_inst_ext()"
   ]
  },
  {
   "cell_type": "code",
   "execution_count": 64,
   "metadata": {},
   "outputs": [
    {
     "data": {
      "text/plain": [
       "XTENSION= 'BINTABLE'           / binary table extension                         \n",
       "BITPIX  =                    8 / array data type                                \n",
       "NAXIS   =                    2 / number of array dimensions                     \n",
       "NAXIS1  =                   15 / length of dimension 1                          \n",
       "NAXIS2  =                   24 / length of dimension 2                          \n",
       "PCOUNT  =                    0 / number of group parameters                     \n",
       "GCOUNT  =                    1 / number of groups                               \n",
       "TFIELDS =                    2 / number of table fields                         \n",
       "EXTNAME = 'LEGEND  '           / extension name                                 \n",
       "TTYPE1  = 'instruments'                                                         \n",
       "TFORM1  = '13A     '                                                            \n",
       "TTYPE2  = 'bitvalues'                                                           \n",
       "TFORM2  = 'I       '                                                            \n",
       "COMMENT This extension is a legend for the integer identifiers in the instrument\n",
       "COMMENT  column of the spectrum extension. Instruments are identified by bitwise\n",
       "COMMENT  flags so that any combination of instruments contributing to the data w\n",
       "COMMENT ithin a spectral element can be identified together. For example, if ins\n",
       "COMMENT truments 4 and 16 (100 and 10000 in binary) both contribute to the data \n",
       "COMMENT in a bin, then that bin will have the value 20, or 10100 in binary, to s\n",
       "COMMENT ignify that both instruments 4 and 16 have contributed. This is identica\n",
       "COMMENT l to the handling of bitwise data quality flags.                        "
      ]
     },
     "execution_count": 64,
     "metadata": {},
     "output_type": "execute_result"
    }
   ],
   "source": [
    "idhu.header"
   ]
  },
  {
   "cell_type": "code",
   "execution_count": 65,
   "metadata": {},
   "outputs": [
    {
     "data": {
      "text/plain": [
       "XTENSION= 'BINTABLE'           / binary table extension                         \n",
       "BITPIX  =                    8 / array data type                                \n",
       "NAXIS   =                    2 / number of array dimensions                     \n",
       "NAXIS1  =                  103 / length of dimension 1                          \n",
       "NAXIS2  =                   24 / length of dimension 2                          \n",
       "PCOUNT  =                    0 / number of group parameters                     \n",
       "GCOUNT  =                    1 / number of groups                               \n",
       "TFIELDS =                    5 / number of table fields                         \n",
       "EXTNO   =                    3                                                  \n",
       "TTYPE1  = 'BITVALUE'                                                            \n",
       "TFORM1  = 'J       '                                                            \n",
       "TTYPE2  = 'TELESCOPE'                                                           \n",
       "TFORM2  = '5A      '                                                            \n",
       "TTYPE3  = 'INSTRUMENT'                                                          \n",
       "TFORM3  = '18A     '                                                            \n",
       "TTYPE4  = 'GRATING '                                                            \n",
       "TFORM4  = '6A      '                                                            \n",
       "TTYPE5  = 'HLSP_FILE'                                                           \n",
       "TFORM5  = '70A     '                                                            \n",
       "EXTNAME = 'INSTLGND'           / extension name                                 \n",
       "COMMENT This extension is a legend for the integer identifiers in the instrument\n",
       "COMMENT  column of the spectrum extension. Instruments are identified by bitwise\n",
       "COMMENT  flags so that any combination of instruments contributing to the data w\n",
       "COMMENT ithin a spectral element can be identified together. For example, if ins\n",
       "COMMENT truments 4 and 16 (100 and 10000 in binary) both contribute to the data \n",
       "COMMENT in a bin, then that bin will have the value 20, or 10100 in binary, to s\n",
       "COMMENT ignify that both instruments 4 and 16 have contributed. This is identica\n",
       "COMMENT l to the handling of bitwise data quality flags.                        \n",
       "COMMENT Not all of these instruments were used to acquire data for this particul\n",
       "COMMENT ar spectrum. Therefore, not all the listed HLSP files will exist in the \n",
       "COMMENT database. Also note that polynomial fits for filling spectral gaps were \n",
       "COMMENT not saved as separate spectra.                                          "
      ]
     },
     "execution_count": 65,
     "metadata": {},
     "output_type": "execute_result"
    }
   ],
   "source": [
    "hdul[2].header"
   ]
  },
  {
   "cell_type": "code",
   "execution_count": 66,
   "metadata": {},
   "outputs": [
    {
     "data": {
      "text/plain": [
       "FITS_rec([('hst_cos_g130m',      1), ('hst_cos_g160m',      2),\n",
       "          ('hst_cos_g230l',      4), ('hst_sts_g140m',      8),\n",
       "          ('hst_sts_e140m',     16), ('hst_sts_e230m',     32),\n",
       "          ('hst_sts_e230h',     64), ('hst_sts_g230l',    128),\n",
       "          ('hst_sts_g430l',    256), ('hst_sts_g430m',    512),\n",
       "          ('mod_gap_fill-',   1024), ('xmm_epc_multi',   2048),\n",
       "          ('xmm_epc_pn---',   4096), ('cxo_acs_-----',   8192),\n",
       "          ('mod_euv_young',  16384), ('mod_apc_-----', -32768),\n",
       "          ('mod_lya_young',      0), ('mod_phx_-----',      0),\n",
       "          ('oth_---_other',      0), ('hst_sts_g230l',      0),\n",
       "          ('hst_sts_g750l',      0), ('hst_fos_g570h',      0),\n",
       "          ('hst_fos_g780h',      0), ('hst_cos_g140l',      0)],\n",
       "         dtype=(numpy.record, [('instruments', 'S13'), ('bitvalues', '<i2')]))"
      ]
     },
     "execution_count": 66,
     "metadata": {},
     "output_type": "execute_result"
    }
   ],
   "source": [
    "idhu.data"
   ]
  },
  {
   "cell_type": "code",
   "execution_count": 68,
   "metadata": {},
   "outputs": [
    {
     "data": {
      "text/plain": [
       "FITS_rec([(      1, 'HST', 'COS', 'G130M', 'hlsp_muscles_hst_cos_gj176_g130m_v22_component-spec.fits'),\n",
       "          (      2, 'HST', 'COS', 'G160M', 'hlsp_muscles_hst_cos_gj176_g160m_v22_component-spec.fits'),\n",
       "          (      4, 'HST', 'COS', 'G230L', 'hlsp_muscles_hst_cos_gj176_g230l_v22_component-spec.fits'),\n",
       "          (      8, 'HST', 'STIS', 'G140M', 'hlsp_muscles_hst_stis_gj176_g140m_v22_component-spec.fits'),\n",
       "          (     16, 'HST', 'STIS', 'E140M', 'hlsp_muscles_hst_stis_gj176_e140m_v22_component-spec.fits'),\n",
       "          (     32, 'HST', 'STIS', 'E230M', 'hlsp_muscles_hst_stis_gj176_e230m_v22_component-spec.fits'),\n",
       "          (     64, 'HST', 'STIS', 'E230H', 'hlsp_muscles_hst_stis_gj176_e230h_v22_component-spec.fits'),\n",
       "          (    128, 'HST', 'STIS', 'G230L', 'hlsp_muscles_hst_stis_gj176_g230l_v22_component-spec.fits'),\n",
       "          (    256, 'HST', 'STIS', 'G430L', 'hlsp_muscles_hst_stis_gj176_g430l_v22_component-spec.fits'),\n",
       "          (    512, 'HST', 'STIS', 'G430M', 'hlsp_muscles_hst_stis_gj176_g430m_v22_component-spec.fits'),\n",
       "          (   1024, 'MODEL', 'POLYNOMIAL-FIT', 'NA', 'polynomial fits not separately saved'),\n",
       "          (   2048, 'XMM', 'EPIC', 'MULTI', 'hlsp_muscles_xmm_epic_gj176_multi_v22_component-spec.fits'),\n",
       "          (   4096, 'XMM', 'EPIC', 'PN', 'hlsp_muscles_xmm_epic_gj176_pn_v22_component-spec.fits'),\n",
       "          (   8192, 'CXO', 'ACIS', 'NA', 'hlsp_muscles_cxo_acis_gj176_na_v22_component-spec.fits'),\n",
       "          (  16384, 'MODEL', 'EUV-SCALING', 'NA', 'hlsp_muscles_model_euv-scaling_gj176_na_v22_component-spec.fits'),\n",
       "          (  32768, 'MODEL', 'APEC', 'NA', 'hlsp_muscles_model_apec_gj176_na_v22_component-spec.fits'),\n",
       "          (  65536, 'MODEL', 'LYA-RECONSTRUCTION', 'NA', 'hlsp_muscles_model_lya-reconstruction_gj176_na_v22_component-spec.fits'),\n",
       "          ( 131072, 'MODEL', 'PHX', 'NA', 'hlsp_muscles_model_phx_gj176_na_v22_component-spec.fits'),\n",
       "          ( 262144, 'OTHER', 'NA', 'NA', 'hlsp_muscles_other_na_gj176_na_v22_component-spec.fits'),\n",
       "          ( 524288, 'HST', 'STIS', 'G230LB', 'hlsp_muscles_hst_stis_gj176_g230lb_v22_component-spec.fits'),\n",
       "          (1048576, 'HST', 'STIS', 'G750L', 'hlsp_muscles_hst_stis_gj176_g750l_v22_component-spec.fits'),\n",
       "          (2097152, 'HST', 'FOS', 'g570H', 'hlsp_muscles_hst_fos_gj176_g570h_v22_component-spec.fits'),\n",
       "          (4194304, 'HST', 'FOS', 'G780H', 'hlsp_muscles_hst_fos_gj176_g780h_v22_component-spec.fits'),\n",
       "          (8388608, 'HST', 'COS', 'G140L', 'hlsp_muscles_hst_cos_gj176_g140l_v22_component-spec.fits')],\n",
       "         dtype=(numpy.record, [('BITVALUE', '>i4'), ('TELESCOPE', 'S5'), ('INSTRUMENT', 'S18'), ('GRATING', 'S6'), ('HLSP_FILE', 'S70')]))"
      ]
     },
     "execution_count": 68,
     "metadata": {},
     "output_type": "execute_result"
    }
   ],
   "source": [
    "hdul[2].data"
   ]
  },
  {
   "cell_type": "code",
   "execution_count": 69,
   "metadata": {},
   "outputs": [
    {
     "data": {
      "text/plain": [
       "OrderedDict()"
      ]
     },
     "execution_count": 69,
     "metadata": {},
     "output_type": "execute_result"
    }
   ],
   "source": [
    "ecsv_table.meta"
   ]
  },
  {
   "cell_type": "markdown",
   "metadata": {},
   "source": [
    "io.writehlsp has what I want for the HLSP- need to modify it but should all be there"
   ]
  },
  {
   "cell_type": "code",
   "execution_count": 70,
   "metadata": {},
   "outputs": [],
   "source": [
    "from my_write_hlsp import writehlsp as hlsp_test"
   ]
  },
  {
   "cell_type": "code",
   "execution_count": 71,
   "metadata": {},
   "outputs": [
    {
     "ename": "KeyError",
     "evalue": "'STAR'",
     "output_type": "error",
     "traceback": [
      "\u001b[0;31m---------------------------------------------------------------------------\u001b[0m",
      "\u001b[0;31mKeyError\u001b[0m                                  Traceback (most recent call last)",
      "\u001b[0;32m<ipython-input-71-fce514c03f09>\u001b[0m in \u001b[0;36m<module>\u001b[0;34m\u001b[0m\n\u001b[0;32m----> 1\u001b[0;31m \u001b[0mhlsp_test\u001b[0m\u001b[0;34m(\u001b[0m\u001b[0mecsv_table\u001b[0m\u001b[0;34m)\u001b[0m\u001b[0;34m\u001b[0m\u001b[0;34m\u001b[0m\u001b[0m\n\u001b[0m",
      "\u001b[0;32m~/work/muscles/SEDs/gj_674/hlsp/my_write_hlsp.py\u001b[0m in \u001b[0;36mwritehlsp\u001b[0;34m(star_or_spectbl, components, overwrite)\u001b[0m\n\u001b[1;32m     31\u001b[0m         \u001b[0mspectbl\u001b[0m \u001b[0;34m=\u001b[0m \u001b[0mstar_or_spectbl\u001b[0m\u001b[0;34m\u001b[0m\u001b[0;34m\u001b[0m\u001b[0m\n\u001b[1;32m     32\u001b[0m \u001b[0;34m\u001b[0m\u001b[0m\n\u001b[0;32m---> 33\u001b[0;31m     \u001b[0mstar\u001b[0m \u001b[0;34m=\u001b[0m \u001b[0mspectbl\u001b[0m\u001b[0;34m.\u001b[0m\u001b[0mmeta\u001b[0m\u001b[0;34m[\u001b[0m\u001b[0;34m'STAR'\u001b[0m\u001b[0;34m]\u001b[0m\u001b[0;34m\u001b[0m\u001b[0;34m\u001b[0m\u001b[0m\n\u001b[0m\u001b[1;32m     34\u001b[0m     \u001b[0msrcspecs\u001b[0m \u001b[0;34m=\u001b[0m \u001b[0mspectbl\u001b[0m\u001b[0;34m.\u001b[0m\u001b[0mmeta\u001b[0m\u001b[0;34m[\u001b[0m\u001b[0;34m'SOURCESPECS'\u001b[0m\u001b[0;34m]\u001b[0m\u001b[0;34m\u001b[0m\u001b[0;34m\u001b[0m\u001b[0m\n\u001b[1;32m     35\u001b[0m     \u001b[0mname\u001b[0m \u001b[0;34m=\u001b[0m \u001b[0mspectbl\u001b[0m\u001b[0;34m.\u001b[0m\u001b[0mmeta\u001b[0m\u001b[0;34m[\u001b[0m\u001b[0;34m'NAME'\u001b[0m\u001b[0;34m]\u001b[0m\u001b[0;34m\u001b[0m\u001b[0;34m\u001b[0m\u001b[0m\n",
      "\u001b[0;31mKeyError\u001b[0m: 'STAR'"
     ]
    }
   ],
   "source": [
    "hlsp_test(ecsv_table)"
   ]
  },
  {
   "cell_type": "markdown",
   "metadata": {},
   "source": [
    "What's in the separate spectra?"
   ]
  },
  {
   "cell_type": "code",
   "execution_count": 5,
   "metadata": {},
   "outputs": [
    {
     "data": {
      "text/plain": [
       "['hlsp_muscles_hst_stis_gj176_g230l_v22_component-spec.fits',\n",
       " 'hlsp_muscles_hst_cos_gj176_g230l_v22_component-spec.fits',\n",
       " 'hlsp_muscles_model_euv-scaling_gj176_na_v22_component-spec.fits',\n",
       " 'hlsp_muscles_multi_multi_gj176_broadband_v22_adapt-const-res-sed.fits',\n",
       " 'hlsp_muscles_cxo_acis_gj176_na_v22_component-spec.fits',\n",
       " 'hlsp_muscles_hst_cos_gj176_g130m_v22_component-spec.fits',\n",
       " 'hlsp_muscles_model_apec_gj176_na_v22_component-spec.fits',\n",
       " 'hlsp_muscles_multi_multi_gj176_broadband_v22_const-res-sed.fits',\n",
       " 'hlsp_muscles_model_lya-reconstruction_gj176_na_v22_component-spec.fits',\n",
       " 'hlsp_muscles_hst_stis_gj176_g140m_v22_component-spec.fits',\n",
       " 'hlsp_muscles_hst_stis_gj176_g430l_v22_component-spec.fits',\n",
       " 'hlsp_muscles_multi_multi_gj176_broadband_v22_var-res-sed.fits',\n",
       " 'hlsp_muscles_multi_multi_gj176_broadband_v22_adapt-var-res-sed.fits',\n",
       " 'hlsp_muscles_hst_cos_gj176_g160m_v22_component-spec.fits',\n",
       " 'hlsp_muscles_model_phx_gj176_na_v22_component-spec.fits']"
      ]
     },
     "execution_count": 5,
     "metadata": {},
     "output_type": "execute_result"
    }
   ],
   "source": [
    "muscles_path = '../../../stuff/muscles_eg/gj176/'\n",
    "os.listdir(muscles_path)"
   ]
  },
  {
   "cell_type": "code",
   "execution_count": 6,
   "metadata": {},
   "outputs": [],
   "source": [
    "hdul3 = fits.open(muscles_path+ 'hlsp_muscles_hst_cos_gj176_g130m_v22_component-spec.fits')"
   ]
  },
  {
   "cell_type": "code",
   "execution_count": 7,
   "metadata": {},
   "outputs": [
    {
     "name": "stdout",
     "output_type": "stream",
     "text": [
      "Filename: ../../../stuff/muscles_eg/gj176/hlsp_muscles_hst_cos_gj176_g130m_v22_component-spec.fits\n",
      "No.    Name      Ver    Type      Cards   Dimensions   Format\n",
      "  0  PRIMARY       1 PrimaryHDU      35   ()      \n",
      "  1  SPECTRUM      1 BinTableHDU     45   32308R x 9C   [D, D, D, D, D, D, I, D, D]   \n",
      "  2  SRCSPECS      1 BinTableHDU     20   5R x 2C   [9A, 9A]   \n"
     ]
    }
   ],
   "source": [
    "hdul3.info()"
   ]
  },
  {
   "cell_type": "code",
   "execution_count": 8,
   "metadata": {},
   "outputs": [
    {
     "data": {
      "text/plain": [
       "SIMPLE  =                    T / conforms to FITS standard                      \n",
       "BITPIX  =                    8 / array data type                                \n",
       "NAXIS   =                    0 / number of array dimensions                     \n",
       "EXTEND  =                    T                                                  \n",
       "TELESCOP= 'HST     '                                                            \n",
       "INSTRUME= 'COS     '                                                            \n",
       "GRATING = 'G130M   '                                                            \n",
       "APERTURE= 'PSA     '                                                            \n",
       "TARGNAME= 'GJ176   '                                                            \n",
       "RA_TARG =    70.73239599999999                                                  \n",
       "DEC_TARG=            18.958163                                                  \n",
       "PROPOSID=                13650                                                  \n",
       "HLSPNAME= 'Measurements of the Ultraviolet Spectral Characteristics of &'       \n",
       "CONTINUE  'Low-mass Exoplanet Host Stars'                                       \n",
       "HLSPACRN= 'MUSCLES '                                                            \n",
       "HLSPLEAD= 'R. O. Parke Loyd'                                                    \n",
       "PR_INV_L= 'France  '                                                            \n",
       "PR_INV_F= 'Kevin   '                                                            \n",
       "DATE-OBS= '2015-03-02T03:25:32.376'                                             \n",
       "EXPSTART=       57083.14273583                                                  \n",
       "EXPEND  =           57083.4235                                                  \n",
       "EXPTIME =            12599.968                                                  \n",
       "EXPDEFN = 'MEDIAN  '                                                            \n",
       "EXPMAX  =            12599.968                                                  \n",
       "EXPMIN  =             2709.184                                                  \n",
       "EXPMED  =            12599.968                                                  \n",
       "NORMFAC =                  1.0 / normalization factor used by MUSCLES           \n",
       "WAVEMIN =    1137.547180294333                                                  \n",
       "WAVEMAX =    1459.500239440708                                                  \n",
       "WAVEUNIT= 'ang     '                                                            \n",
       "AIRORVAC= 'vac     '                                                            \n",
       "SPECRES =    1298.488382238483                                                  \n",
       "WAVERES = 0.009966384646759252                                                  \n",
       "FLUXMIN = -1.1788800742582E-16                                                  \n",
       "FLUXMAX = 2.19430576170784E-12                                                  \n",
       "FLUXUNIT= 'erg/s/cm2/ang'                                                       "
      ]
     },
     "execution_count": 8,
     "metadata": {},
     "output_type": "execute_result"
    }
   ],
   "source": [
    "hdul3[0].header"
   ]
  },
  {
   "cell_type": "code",
   "execution_count": 10,
   "metadata": {},
   "outputs": [
    {
     "data": {
      "text/plain": [
       "XTENSION= 'BINTABLE'           / binary table extension                         \n",
       "BITPIX  =                    8 / array data type                                \n",
       "NAXIS   =                    2 / number of array dimensions                     \n",
       "NAXIS1  =                   66 / length of dimension 1                          \n",
       "NAXIS2  =                32308 / length of dimension 2                          \n",
       "PCOUNT  =                    0 / number of group parameters                     \n",
       "GCOUNT  =                    1 / number of groups                               \n",
       "TFIELDS =                    9 / number of table fields                         \n",
       "EXTNAME = 'SPECTRUM'                                                            \n",
       "EXTNO   =                    2                                                  \n",
       "TDESC1  = 'midpoint of the wavelength bin'                                      \n",
       "TDESC2  = 'left/blue edge of the wavelength bin'                                \n",
       "TDESC3  = 'right/red edge of the wavelength bin'                                \n",
       "TDESC4  = 'average flux over the bin'                                           \n",
       "TDESC5  = 'error on the flux'                                                   \n",
       "TDESC6  = 'cumulative exposure time for the bin'                                \n",
       "TDESC7  = 'data quality flags (HST data only)'                                  \n",
       "TDESC8  = 'modified julian date of start of first exposure'                     \n",
       "TDESC9  = 'modified julian date of end of last exposure'                        \n",
       "TTYPE1  = 'WAVELENGTH'                                                          \n",
       "TFORM1  = 'D       '                                                            \n",
       "TUNIT1  = 'Angstrom'                                                            \n",
       "TTYPE2  = 'WAVELENGTH0'                                                         \n",
       "TFORM2  = 'D       '                                                            \n",
       "TUNIT2  = 'Angstrom'                                                            \n",
       "TTYPE3  = 'WAVELENGTH1'                                                         \n",
       "TFORM3  = 'D       '                                                            \n",
       "TUNIT3  = 'Angstrom'                                                            \n",
       "TTYPE4  = 'FLUX    '                                                            \n",
       "TFORM4  = 'D       '                                                            \n",
       "TUNIT4  = 'erg / (Angstrom cm2 s)'                                              \n",
       "TTYPE5  = 'ERROR   '                                                            \n",
       "TFORM5  = 'D       '                                                            \n",
       "TUNIT5  = 'erg / (Angstrom cm2 s)'                                              \n",
       "TTYPE6  = 'EXPTIME '                                                            \n",
       "TFORM6  = 'D       '                                                            \n",
       "TUNIT6  = 's       '                                                            \n",
       "TTYPE7  = 'DQ      '                                                            \n",
       "TFORM7  = 'I       '                                                            \n",
       "TTYPE8  = 'EXPSTART'                                                            \n",
       "TFORM8  = 'D       '                                                            \n",
       "TUNIT8  = 'd       '                                                            \n",
       "TTYPE9  = 'EXPEND  '                                                            \n",
       "TFORM9  = 'D       '                                                            \n",
       "TUNIT9  = 'd       '                                                            "
      ]
     },
     "execution_count": 10,
     "metadata": {},
     "output_type": "execute_result"
    }
   ],
   "source": [
    "hdul3[1].header"
   ]
  },
  {
   "cell_type": "code",
   "execution_count": null,
   "metadata": {},
   "outputs": [],
   "source": []
  }
 ],
 "metadata": {
  "kernelspec": {
   "display_name": "Python 3",
   "language": "python",
   "name": "python3"
  },
  "language_info": {
   "codemirror_mode": {
    "name": "ipython",
    "version": 3
   },
   "file_extension": ".py",
   "mimetype": "text/x-python",
   "name": "python",
   "nbconvert_exporter": "python",
   "pygments_lexer": "ipython3",
   "version": "3.6.8"
  }
 },
 "nbformat": 4,
 "nbformat_minor": 2
}
