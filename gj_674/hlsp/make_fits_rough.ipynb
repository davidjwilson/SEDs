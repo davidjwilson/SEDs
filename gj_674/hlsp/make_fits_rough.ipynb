{
 "cells": [
  {
   "cell_type": "markdown",
   "metadata": {},
   "source": [
    "Experimenting with making a fits file for the hslp"
   ]
  },
  {
   "cell_type": "code",
   "execution_count": null,
   "metadata": {},
   "outputs": [],
   "source": [
    "import numpy as np\n",
    "import matplotlib.pyplot as plt\n",
    "import glob\n",
    "import astropy.io.fits as fits\n",
    "import os\n",
    "from scipy.io.idl import readsav\n",
    "from astropy.table import Table\n",
    "from astropy.io import ascii\n",
    "import astropy.units as u\n",
    "import astropy.constants as const\n",
    "from astropy.modeling import models, fitting\n",
    "from craftroom import resample\n",
    "from scipy.interpolate import interp1d\n",
    "\n",
    "\n",
    "%matplotlib inline\n",
    "from matplotlib import rcParams\n",
    "rcParams[\"figure.figsize\"] = (14, 5)\n",
    "rcParams[\"font.size\"] = 20"
   ]
  },
  {
   "cell_type": "code",
   "execution_count": 2,
   "metadata": {},
   "outputs": [],
   "source": [
    "ecsv_table = Table.read('../combined/gj_674_sed_var_res_v3.ecsv')"
   ]
  },
  {
   "cell_type": "code",
   "execution_count": 3,
   "metadata": {},
   "outputs": [
    {
     "name": "stderr",
     "output_type": "stream",
     "text": [
      "/home/david/anaconda3/lib/python3.6/site-packages/astropy/table/column.py:981: RuntimeWarning: invalid value encountered in greater\n",
      "  return getattr(self.data, op)(other)\n"
     ]
    },
    {
     "data": {
      "image/png": "[encoded data removed]",
      "text/plain": [
       "<Figure size 432x288 with 1 Axes>"
      ]
     },
     "metadata": {
      "needs_background": "light"
     },
     "output_type": "display_data"
    }
   ],
   "source": [
    "plt.plot(ecsv_table['WAVELENGTH'][ecsv_table['FLUX'] >0], ecsv_table['FLUX'][ecsv_table['FLUX'] >0], drawstyle='steps-mid')\n",
    "plt.xscale('log')\n",
    "plt.yscale('log')"
   ]
  },
  {
   "cell_type": "markdown",
   "metadata": {},
   "source": [
    "What's in a MUSCLES fits file?"
   ]
  },
  {
   "cell_type": "code",
   "execution_count": 4,
   "metadata": {},
   "outputs": [],
   "source": [
    "hdul = fits.open('../../../stuff/muscles_eg/gj176/hlsp_muscles_multi_multi_gj176_broadband_v22_var-res-sed.fits')"
   ]
  },
  {
   "cell_type": "code",
   "execution_count": 5,
   "metadata": {},
   "outputs": [
    {
     "name": "stdout",
     "output_type": "stream",
     "text": [
      "Filename: ../../../stuff/muscles_eg/gj176/hlsp_muscles_multi_multi_gj176_broadband_v22_var-res-sed.fits\n",
      "No.    Name      Ver    Type      Cards   Dimensions   Format\n",
      "  0  PRIMARY       1 PrimaryHDU      53   ()      \n",
      "  1  SPECTRUM      1 BinTableHDU     59   1196260R x 13C   [D, D, D, D, D, D, I, D, D, J, D, D, D]   \n",
      "  2  INSTLGND      1 BinTableHDU     32   24R x 5C   [J, 5A, 18A, 6A, 70A]   \n"
     ]
    }
   ],
   "source": [
    "hdul.info()"
   ]
  },
  {
   "cell_type": "code",
   "execution_count": 6,
   "metadata": {},
   "outputs": [
    {
     "data": {
      "text/plain": [
       "SIMPLE  =                    T / conforms to FITS standard                      \n",
       "BITPIX  =                    8 / array data type                                \n",
       "NAXIS   =                    0 / number of array dimensions                     \n",
       "EXTEND  =                    T                                                  \n",
       "TELESCOP= 'MULTI   '                                                            \n",
       "INSTRUME= 'MULTI   '                                                            \n",
       "GRATING = 'MULTI   '                                                            \n",
       "TELESC00= 'MODEL   '                                                            \n",
       "INSTRU00= 'PHX     '                                                            \n",
       "GRATIN00= 'NA      '                                                            \n",
       "TELESC01= 'MODEL   '                                                            \n",
       "INSTRU01= 'EUV-SCALING'                                                         \n",
       "GRATIN01= 'NA      '                                                            \n",
       "TELESC02= 'MODEL   '                                                            \n",
       "INSTRU02= 'APEC    '                                                            \n",
       "GRATIN02= 'NA      '                                                            \n",
       "TELESC03= 'HST     '                                                            \n",
       "INSTRU03= 'STIS    '                                                            \n",
       "GRATIN03= 'G230L   '                                                            \n",
       "TELESC04= 'HST     '                                                            \n",
       "INSTRU04= 'COS     '                                                            \n",
       "GRATIN04= 'G160M   '                                                            \n",
       "TELESC05= 'HST     '                                                            \n",
       "INSTRU05= 'COS     '                                                            \n",
       "GRATIN05= 'G130M   '                                                            \n",
       "TELESC06= 'HST     '                                                            \n",
       "INSTRU06= 'STIS    '                                                            \n",
       "GRATIN06= 'G430L   '                                                            \n",
       "TELESC07= 'HST     '                                                            \n",
       "INSTRU07= 'COS     '                                                            \n",
       "GRATIN07= 'G230L   '                                                            \n",
       "TELESC08= 'MODEL   '                                                            \n",
       "INSTRU08= 'LYA-RECONSTRUCTION'                                                  \n",
       "GRATIN08= 'NA      '                                                            \n",
       "TARGNAME= 'GJ176   '                                                            \n",
       "RA_TARG =    70.73239599999999                                                  \n",
       "DEC_TARG=            18.958163                                                  \n",
       "PROPOSID=                13650                                                  \n",
       "HLSPNAME= 'Measurements of the Ultraviolet Spectral Characteristics of &'       \n",
       "CONTINUE  'Low-mass Exoplanet Host Stars'                                       \n",
       "HLSPACRN= 'MUSCLES '                                                            \n",
       "HLSPLEAD= 'R. O. Parke Loyd'                                                    \n",
       "PR_INV_L= 'France  '                                                            \n",
       "PR_INV_F= 'Kevin   '                                                            \n",
       "WAVEMIN =    5.000441551208496                                                  \n",
       "WAVEMAX =             54999.75                                                  \n",
       "WAVEUNIT= 'ang     '                                                            \n",
       "AIRORVAC= 'vac     '                                                            \n",
       "FLUXMIN = -7.1025795946309E-15                                                  \n",
       "FLUXMAX = 1.10545481750486E-12                                                  \n",
       "FLUXUNIT= 'erg/s/cm2/ang'                                                       \n",
       "BOLOFLUX= 1.25681772600649E-08                                                  \n",
       "LNZ_NORM= 3.96067166323457E-14                                                  \n",
       "LNZ_GAM =   0.5015959287107679                                                  "
      ]
     },
     "execution_count": 6,
     "metadata": {},
     "output_type": "execute_result"
    }
   ],
   "source": [
    "hdul[0].header"
   ]
  },
  {
   "cell_type": "markdown",
   "metadata": {},
   "source": [
    "Ok that looks easy, I can build that from the instrument file."
   ]
  },
  {
   "cell_type": "code",
   "execution_count": 7,
   "metadata": {},
   "outputs": [
    {
     "data": {
      "text/plain": [
       "XTENSION= 'BINTABLE'           / binary table extension                         \n",
       "BITPIX  =                    8 / array data type                                \n",
       "NAXIS   =                    2 / number of array dimensions                     \n",
       "NAXIS1  =                   94 / length of dimension 1                          \n",
       "NAXIS2  =              1196260 / length of dimension 2                          \n",
       "PCOUNT  =                    0 / number of group parameters                     \n",
       "GCOUNT  =                    1 / number of groups                               \n",
       "TFIELDS =                   13 / number of table fields                         \n",
       "EXTNAME = 'SPECTRUM'                                                            \n",
       "EXTNO   =                    2                                                  \n",
       "TDESC1  = 'midpoint of the wavelength bin'                                      \n",
       "TDESC2  = 'left/blue edge of the wavelength bin'                                \n",
       "TDESC3  = 'right/red edge of the wavelength bin'                                \n",
       "TDESC4  = 'average flux over the bin'                                           \n",
       "TDESC5  = 'error on the flux'                                                   \n",
       "TDESC6  = 'cumulative exposure time for the bin'                                \n",
       "TDESC7  = 'data quality flags (HST data only)'                                  \n",
       "TDESC8  = 'modified julian date of start of first exposure'                     \n",
       "TDESC9  = 'modified julian date of end of last exposure'                        \n",
       "TDESC10 = 'bitmask identifying the source instrument(s). See \"instlgnd\" &'      \n",
       "CONTINUE  'extension for a legend.'                                             \n",
       "TDESC11 = 'normalization factor applied to the source spectrum'                 \n",
       "TDESC12 = 'flux density normalized by the bolometric flux'                      \n",
       "TDESC13 = 'error on bolometrically-normalized flux density'                     \n",
       "TTYPE1  = 'WAVELENGTH'                                                          \n",
       "TFORM1  = 'D       '                                                            \n",
       "TUNIT1  = 'Angstrom'                                                            \n",
       "TTYPE2  = 'WAVELENGTH0'                                                         \n",
       "TFORM2  = 'D       '                                                            \n",
       "TUNIT2  = 'Angstrom'                                                            \n",
       "TTYPE3  = 'WAVELENGTH1'                                                         \n",
       "TFORM3  = 'D       '                                                            \n",
       "TUNIT3  = 'Angstrom'                                                            \n",
       "TTYPE4  = 'FLUX    '                                                            \n",
       "TFORM4  = 'D       '                                                            \n",
       "TUNIT4  = 'erg / (Angstrom cm2 s)'                                              \n",
       "TTYPE5  = 'ERROR   '                                                            \n",
       "TFORM5  = 'D       '                                                            \n",
       "TUNIT5  = 'erg / (Angstrom cm2 s)'                                              \n",
       "TTYPE6  = 'EXPTIME '                                                            \n",
       "TFORM6  = 'D       '                                                            \n",
       "TUNIT6  = 's       '                                                            \n",
       "TTYPE7  = 'DQ      '                                                            \n",
       "TFORM7  = 'I       '                                                            \n",
       "TTYPE8  = 'EXPSTART'                                                            \n",
       "TFORM8  = 'D       '                                                            \n",
       "TUNIT8  = 'd       '                                                            \n",
       "TTYPE9  = 'EXPEND  '                                                            \n",
       "TFORM9  = 'D       '                                                            \n",
       "TUNIT9  = 'd       '                                                            \n",
       "TTYPE10 = 'INSTRUMENT'                                                          \n",
       "TFORM10 = 'J       '                                                            \n",
       "TTYPE11 = 'NORMFAC '                                                            \n",
       "TFORM11 = 'D       '                                                            \n",
       "TTYPE12 = 'BOLOFLUX'                                                            \n",
       "TFORM12 = 'D       '                                                            \n",
       "TUNIT12 = '1 / Angstrom'                                                        \n",
       "TTYPE13 = 'BOLOERR '                                                            \n",
       "TFORM13 = 'D       '                                                            \n",
       "TUNIT13 = '1 / Angstrom'                                                        "
      ]
     },
     "execution_count": 7,
     "metadata": {},
     "output_type": "execute_result"
    }
   ],
   "source": [
    "hdul[1].header"
   ]
  },
  {
   "cell_type": "code",
   "execution_count": 8,
   "metadata": {},
   "outputs": [
    {
     "data": {
      "text/plain": [
       "XTENSION= 'BINTABLE'           / binary table extension                         \n",
       "BITPIX  =                    8 / array data type                                \n",
       "NAXIS   =                    2 / number of array dimensions                     \n",
       "NAXIS1  =                  103 / length of dimension 1                          \n",
       "NAXIS2  =                   24 / length of dimension 2                          \n",
       "PCOUNT  =                    0 / number of group parameters                     \n",
       "GCOUNT  =                    1 / number of groups                               \n",
       "TFIELDS =                    5 / number of table fields                         \n",
       "EXTNO   =                    3                                                  \n",
       "TTYPE1  = 'BITVALUE'                                                            \n",
       "TFORM1  = 'J       '                                                            \n",
       "TTYPE2  = 'TELESCOPE'                                                           \n",
       "TFORM2  = '5A      '                                                            \n",
       "TTYPE3  = 'INSTRUMENT'                                                          \n",
       "TFORM3  = '18A     '                                                            \n",
       "TTYPE4  = 'GRATING '                                                            \n",
       "TFORM4  = '6A      '                                                            \n",
       "TTYPE5  = 'HLSP_FILE'                                                           \n",
       "TFORM5  = '70A     '                                                            \n",
       "EXTNAME = 'INSTLGND'           / extension name                                 \n",
       "COMMENT This extension is a legend for the integer identifiers in the instrument\n",
       "COMMENT  column of the spectrum extension. Instruments are identified by bitwise\n",
       "COMMENT  flags so that any combination of instruments contributing to the data w\n",
       "COMMENT ithin a spectral element can be identified together. For example, if ins\n",
       "COMMENT truments 4 and 16 (100 and 10000 in binary) both contribute to the data \n",
       "COMMENT in a bin, then that bin will have the value 20, or 10100 in binary, to s\n",
       "COMMENT ignify that both instruments 4 and 16 have contributed. This is identica\n",
       "COMMENT l to the handling of bitwise data quality flags.                        \n",
       "COMMENT Not all of these instruments were used to acquire data for this particul\n",
       "COMMENT ar spectrum. Therefore, not all the listed HLSP files will exist in the \n",
       "COMMENT database. Also note that polynomial fits for filling spectral gaps were \n",
       "COMMENT not saved as separate spectra.                                          "
      ]
     },
     "execution_count": 8,
     "metadata": {},
     "output_type": "execute_result"
    }
   ],
   "source": [
    "hdul[2].header"
   ]
  },
  {
   "cell_type": "markdown",
   "metadata": {},
   "source": [
    "making a fake spectrum to experiment with"
   ]
  },
  {
   "cell_type": "code",
   "execution_count": 9,
   "metadata": {},
   "outputs": [
    {
     "data": {
      "text/plain": [
       "[<matplotlib.lines.Line2D at 0x7f719bda0908>]"
      ]
     },
     "execution_count": 9,
     "metadata": {},
     "output_type": "execute_result"
    },
    {
     "data": {
      "image/png": "[encoded data removed]",
      "text/plain": [
       "<Figure size 432x288 with 1 Axes>"
      ]
     },
     "metadata": {
      "needs_background": "light"
     },
     "output_type": "display_data"
    }
   ],
   "source": [
    "w = np.arange(100, 5000, 1)\n",
    "f = np.random.random(len(w))\n",
    "plt.plot(w,f)"
   ]
  },
  {
   "cell_type": "code",
   "execution_count": 10,
   "metadata": {},
   "outputs": [],
   "source": [
    "data = Table([w*u.AA, f*u.erg/u.s/u.cm**2/u.AA], names = ['WAVELENGTH', 'FLUX'])"
   ]
  },
  {
   "cell_type": "code",
   "execution_count": 12,
   "metadata": {},
   "outputs": [],
   "source": [
    "#data.write('test.fits')"
   ]
  },
  {
   "cell_type": "code",
   "execution_count": null,
   "metadata": {},
   "outputs": [],
   "source": [
    "hdul = fits.open('test.fits')"
   ]
  },
  {
   "cell_type": "code",
   "execution_count": null,
   "metadata": {},
   "outputs": [],
   "source": [
    "hdul.info()"
   ]
  },
  {
   "cell_type": "code",
   "execution_count": null,
   "metadata": {},
   "outputs": [],
   "source": [
    "hdul[1].header"
   ]
  },
  {
   "cell_type": "code",
   "execution_count": null,
   "metadata": {},
   "outputs": [],
   "source": [
    "data.meta['TEST'] ='hello'"
   ]
  },
  {
   "cell_type": "code",
   "execution_count": null,
   "metadata": {},
   "outputs": [],
   "source": [
    "hdul.close()"
   ]
  },
  {
   "cell_type": "code",
   "execution_count": null,
   "metadata": {},
   "outputs": [],
   "source": [
    "data.write('test.fits', overwrite= True)"
   ]
  },
  {
   "cell_type": "code",
   "execution_count": null,
   "metadata": {},
   "outputs": [],
   "source": [
    "hdul = fits.open('test.fits')"
   ]
  },
  {
   "cell_type": "code",
   "execution_count": null,
   "metadata": {},
   "outputs": [],
   "source": [
    "hdul[0].header"
   ]
  },
  {
   "cell_type": "code",
   "execution_count": null,
   "metadata": {},
   "outputs": [],
   "source": [
    "hdul[0].header['test'] = 'Hello again'"
   ]
  },
  {
   "cell_type": "code",
   "execution_count": null,
   "metadata": {},
   "outputs": [],
   "source": [
    "hdul[0].header"
   ]
  },
  {
   "cell_type": "code",
   "execution_count": null,
   "metadata": {},
   "outputs": [],
   "source": [
    "hdul[0].header['test2'] = 'Hello thrice'"
   ]
  },
  {
   "cell_type": "code",
   "execution_count": null,
   "metadata": {},
   "outputs": [],
   "source": [
    "hdul[0].header"
   ]
  },
  {
   "cell_type": "markdown",
   "metadata": {},
   "source": [
    "Looks like what I need is here https://docs.astropy.org/en/stable/io/fits/#creating-a-new-fits-file"
   ]
  },
  {
   "cell_type": "code",
   "execution_count": null,
   "metadata": {},
   "outputs": [],
   "source": []
  },
  {
   "cell_type": "code",
   "execution_count": null,
   "metadata": {},
   "outputs": [],
   "source": [
    "dat, names = [w*u.AA, f*u.erg/u.s/u.cm**2/u.AA], ['WAVELENGTH', 'FLUX']\n",
    "cols = []\n",
    "for col, name in zip(dat, names):\n",
    "    cols.append(fits.Column(name=name, format ='E', array=col))"
   ]
  },
  {
   "cell_type": "code",
   "execution_count": null,
   "metadata": {},
   "outputs": [],
   "source": [
    "data = Table([w*u.AA, f*u.erg/u.s/u.cm**2/u.AA], names = ['WAVELENGTH', 'FLUX'])"
   ]
  },
  {
   "cell_type": "code",
   "execution_count": null,
   "metadata": {},
   "outputs": [],
   "source": [
    "hdu = fits.table_to_hdu(data)"
   ]
  },
  {
   "cell_type": "code",
   "execution_count": null,
   "metadata": {},
   "outputs": [],
   "source": [
    "hdu.header"
   ]
  },
  {
   "cell_type": "code",
   "execution_count": null,
   "metadata": {},
   "outputs": [],
   "source": [
    "hdr = fits.Header()\n",
    "hdr['Line1'] = 'This should be first'\n",
    "hdr['parttwo'] ='Then this one'\n",
    "primary_hdu = fits.PrimaryHDU(header=hdr)"
   ]
  },
  {
   "cell_type": "code",
   "execution_count": null,
   "metadata": {},
   "outputs": [],
   "source": [
    "hdul2 = fits.HDUList([primary_hdu, hdu])\n",
    "hdul2.writeto('test2.fits', overwrite=True)"
   ]
  },
  {
   "cell_type": "code",
   "execution_count": null,
   "metadata": {},
   "outputs": [],
   "source": [
    "fits.getheader('test2.fits',1)"
   ]
  },
  {
   "cell_type": "markdown",
   "metadata": {},
   "source": [
    "Ok, how to add keywords in the right order?"
   ]
  },
  {
   "cell_type": "code",
   "execution_count": null,
   "metadata": {},
   "outputs": [],
   "source": [
    "hdr"
   ]
  },
  {
   "cell_type": "code",
   "execution_count": null,
   "metadata": {},
   "outputs": [],
   "source": [
    "hdr[0]"
   ]
  },
  {
   "cell_type": "code",
   "execution_count": null,
   "metadata": {},
   "outputs": [],
   "source": [
    "hdr[0] =' now what'"
   ]
  },
  {
   "cell_type": "code",
   "execution_count": null,
   "metadata": {},
   "outputs": [],
   "source": [
    "hdr['Adding'] = 'where?'"
   ]
  },
  {
   "cell_type": "code",
   "execution_count": null,
   "metadata": {},
   "outputs": [],
   "source": [
    "hdr.insert(2, 'Another', 'fixed')"
   ]
  },
  {
   "cell_type": "code",
   "execution_count": null,
   "metadata": {},
   "outputs": [],
   "source": [
    "hdr"
   ]
  },
  {
   "cell_type": "code",
   "execution_count": null,
   "metadata": {},
   "outputs": [],
   "source": [
    "del hdr['MIDDLEmaybe?']"
   ]
  },
  {
   "cell_type": "code",
   "execution_count": null,
   "metadata": {},
   "outputs": [],
   "source": [
    "hdr ['ANOTHER'] = 'good'"
   ]
  },
  {
   "cell_type": "code",
   "execution_count": null,
   "metadata": {},
   "outputs": [],
   "source": [
    "hdr"
   ]
  },
  {
   "cell_type": "markdown",
   "metadata": {},
   "source": [
    "Ok, what about the data header?"
   ]
  },
  {
   "cell_type": "code",
   "execution_count": null,
   "metadata": {},
   "outputs": [],
   "source": [
    "hdr2 = hdu.header"
   ]
  },
  {
   "cell_type": "code",
   "execution_count": null,
   "metadata": {},
   "outputs": [],
   "source": [
    "hdr2"
   ]
  },
  {
   "cell_type": "code",
   "execution_count": null,
   "metadata": {},
   "outputs": [],
   "source": [
    "hdr2['TEST'] = 'oh look'"
   ]
  },
  {
   "cell_type": "code",
   "execution_count": null,
   "metadata": {},
   "outputs": [],
   "source": [
    "hdr2"
   ]
  },
  {
   "cell_type": "code",
   "execution_count": null,
   "metadata": {},
   "outputs": [],
   "source": [
    "for i, n  in zip((8,9), ('Another', 'again')):\n",
    "    hdr2.insert(i, n)\n",
    "#print(hdr2)\n",
    "hdr2"
   ]
  },
  {
   "cell_type": "code",
   "execution_count": null,
   "metadata": {},
   "outputs": [],
   "source": [
    "#del hdr2['ANOTHER']\n",
    "#del hdr2['and again']\n",
    "#hdr2"
   ]
  },
  {
   "cell_type": "code",
   "execution_count": null,
   "metadata": {},
   "outputs": [],
   "source": [
    "hdul = fits.open('../../../stuff/muscles_eg/gj176/hlsp_muscles_multi_multi_gj176_broadband_v22_var-res-sed.fits')"
   ]
  },
  {
   "cell_type": "code",
   "execution_count": null,
   "metadata": {},
   "outputs": [],
   "source": [
    "hdul[1].header"
   ]
  },
  {
   "cell_type": "code",
   "execution_count": null,
   "metadata": {},
   "outputs": [],
   "source": [
    "hdul[0].header"
   ]
  },
  {
   "cell_type": "code",
   "execution_count": null,
   "metadata": {},
   "outputs": [],
   "source": [
    "primary_hdu.header"
   ]
  },
  {
   "cell_type": "markdown",
   "metadata": {},
   "source": [
    "Primary header needs a list of all instruments used."
   ]
  },
  {
   "cell_type": "code",
   "execution_count": null,
   "metadata": {},
   "outputs": [],
   "source": [
    "ints = np.unique(ecsv_table['INSTRUMENT'])"
   ]
  },
  {
   "cell_type": "code",
   "execution_count": null,
   "metadata": {},
   "outputs": [],
   "source": [
    "ints"
   ]
  },
  {
   "cell_type": "markdown",
   "metadata": {},
   "source": [
    "Why are there -99s and 0s in there? Fixed it."
   ]
  },
  {
   "cell_type": "code",
   "execution_count": null,
   "metadata": {},
   "outputs": [],
   "source": [
    "import instruments as inst"
   ]
  },
  {
   "cell_type": "code",
   "execution_count": null,
   "metadata": {},
   "outputs": [],
   "source": [
    "for i in ints:\n",
    "    print(inst.getinststr(i))"
   ]
  },
  {
   "cell_type": "code",
   "execution_count": null,
   "metadata": {},
   "outputs": [],
   "source": [
    "plt.plot(ecsv_table['WAVELENGTH'], ecsv_table['INSTRUMENT'])\n",
    "plt.ylim(6100, 6200)\n",
    "plt.xscale('log')"
   ]
  },
  {
   "cell_type": "markdown",
   "metadata": {},
   "source": [
    "Bit of Parke's code that hopefully makes the instrument ext"
   ]
  },
  {
   "cell_type": "code",
   "execution_count": null,
   "metadata": {},
   "outputs": [],
   "source": [
    "legendcomment = ('This extension is a legend for the integer identifiers in the instrument column of the '\n",
    "                  'spectrum extension. Instruments are identified by bitwise flags so that any combination of '\n",
    "                  'instruments contributing to the data within a spectral element can be identified together. '\n",
    "                  'For example, if instruments 4 and 16 (100 and 10000 in binary) both contribute to the data '\n",
    "                  'in a bin, then that bin will have the value 20, or 10100 in binary, to signify that both '\n",
    "                  'instruments 4 and 16 have contributed. This is identical to the handling of bitwise data '\n",
    "                  'quality flags.')\n",
    "\n",
    "def make_inst_ext():\n",
    "    cols = [fits.Column('instruments','13A', array=inst.instruments),\n",
    "                fits.Column('bitvalues', 'I', array=inst.instvals)]\n",
    "    hdr = fits.Header()\n",
    "    hdr['comment'] = legendcomment\n",
    "    idhdu = fits.BinTableHDU.from_columns(cols, header=hdr, name='legend')\n",
    "    #ftbl.append(idhdu)\n",
    "    return idhdu\n",
    "\n",
    "idhu = make_inst_ext()"
   ]
  },
  {
   "cell_type": "code",
   "execution_count": null,
   "metadata": {},
   "outputs": [],
   "source": [
    "idhu.header"
   ]
  },
  {
   "cell_type": "code",
   "execution_count": null,
   "metadata": {},
   "outputs": [],
   "source": [
    "hdul[2].header"
   ]
  },
  {
   "cell_type": "code",
   "execution_count": null,
   "metadata": {},
   "outputs": [],
   "source": [
    "idhu.data"
   ]
  },
  {
   "cell_type": "code",
   "execution_count": null,
   "metadata": {},
   "outputs": [],
   "source": [
    "hdul[2].data"
   ]
  },
  {
   "cell_type": "code",
   "execution_count": null,
   "metadata": {},
   "outputs": [],
   "source": [
    "ecsv_table.meta"
   ]
  },
  {
   "cell_type": "markdown",
   "metadata": {},
   "source": [
    "io.writehlsp has what I want for the HLSP- need to modify it but should all be there"
   ]
  },
  {
   "cell_type": "code",
   "execution_count": null,
   "metadata": {},
   "outputs": [],
   "source": [
    "from my_write_hlsp import writehlsp as hlsp_test"
   ]
  },
  {
   "cell_type": "code",
   "execution_count": null,
   "metadata": {},
   "outputs": [],
   "source": [
    "hlsp_test(ecsv_table)"
   ]
  },
  {
   "cell_type": "markdown",
   "metadata": {},
   "source": [
    "What's in the separate spectra?"
   ]
  },
  {
   "cell_type": "code",
   "execution_count": null,
   "metadata": {},
   "outputs": [],
   "source": [
    "muscles_path = '../../../stuff/muscles_eg/gj176/'\n",
    "os.listdir(muscles_path)"
   ]
  },
  {
   "cell_type": "code",
   "execution_count": null,
   "metadata": {},
   "outputs": [],
   "source": [
    "hdul3 = fits.open(muscles_path+ 'hlsp_muscles_hst_cos_gj176_g130m_v22_component-spec.fits')"
   ]
  },
  {
   "cell_type": "code",
   "execution_count": null,
   "metadata": {},
   "outputs": [],
   "source": [
    "hdul3.info()"
   ]
  },
  {
   "cell_type": "code",
   "execution_count": null,
   "metadata": {},
   "outputs": [],
   "source": [
    "hdul3[0].header"
   ]
  },
  {
   "cell_type": "code",
   "execution_count": null,
   "metadata": {},
   "outputs": [],
   "source": [
    "hdul3[2].header"
   ]
  },
  {
   "cell_type": "code",
   "execution_count": null,
   "metadata": {},
   "outputs": [],
   "source": [
    "hdul3.info()"
   ]
  },
  {
   "cell_type": "code",
   "execution_count": 13,
   "metadata": {},
   "outputs": [
    {
     "ename": "NameError",
     "evalue": "name 'hdul3' is not defined",
     "output_type": "error",
     "traceback": [
      "\u001b[0;31m---------------------------------------------------------------------------\u001b[0m",
      "\u001b[0;31mNameError\u001b[0m                                 Traceback (most recent call last)",
      "\u001b[0;32m<ipython-input-13-85f6ef3b6400>\u001b[0m in \u001b[0;36m<module>\u001b[0;34m\u001b[0m\n\u001b[0;32m----> 1\u001b[0;31m \u001b[0mhdul3\u001b[0m\u001b[0;34m[\u001b[0m\u001b[0;36m2\u001b[0m\u001b[0;34m]\u001b[0m\u001b[0;34m.\u001b[0m\u001b[0mdata\u001b[0m\u001b[0;34m\u001b[0m\u001b[0;34m\u001b[0m\u001b[0m\n\u001b[0m",
      "\u001b[0;31mNameError\u001b[0m: name 'hdul3' is not defined"
     ]
    }
   ],
   "source": [
    "hdul3[2].data"
   ]
  },
  {
   "cell_type": "markdown",
   "metadata": {},
   "source": []
  },
  {
   "cell_type": "code",
   "execution_count": null,
   "metadata": {},
   "outputs": [],
   "source": []
  }
 ],
 "metadata": {
  "kernelspec": {
   "display_name": "Python 3",
   "language": "python",
   "name": "python3"
  },
  "language_info": {
   "codemirror_mode": {
    "name": "ipython",
    "version": 3
   },
   "file_extension": ".py",
   "mimetype": "text/x-python",
   "name": "python",
   "nbconvert_exporter": "python",
   "pygments_lexer": "ipython3",
   "version": "3.6.8"
  }
 },
 "nbformat": 4,
 "nbformat_minor": 2
}
