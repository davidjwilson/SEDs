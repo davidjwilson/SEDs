{
 "cells": [
  {
   "cell_type": "markdown",
   "metadata": {},
   "source": [
    "Reading in lines from KMs paper."
   ]
  },
  {
   "cell_type": "code",
   "execution_count": 19,
   "metadata": {},
   "outputs": [],
   "source": [
    "import numpy as np\n",
    "import matplotlib.pyplot as plt\n",
    "import astropy.io.fits as fits\n",
    "import os\n",
    "import glob\n",
    "from astropy.table import Table\n",
    "from astropy.io import ascii\n",
    "\n",
    "import astropy.units as u\n",
    "from astropy import time, coordinates as coord\n",
    "import astropy.constants as const\n",
    "\n",
    "\n",
    "\n",
    "import pandas as pd\n",
    "\n",
    "\n",
    "#matplotlib set up\n",
    "%matplotlib inline\n",
    "from matplotlib import rcParams\n",
    "rcParams[\"figure.figsize\"] = (14, 5)\n",
    "rcParams[\"font.size\"] = 20"
   ]
  },
  {
   "cell_type": "code",
   "execution_count": 2,
   "metadata": {},
   "outputs": [
    {
     "data": {
      "text/plain": [
       "Index(['Name', 'Num', 'Dist', 'r_Dist', 'SpType', 'r_SpType', 'Teff', 'r_Teff',\n",
       "       'Rad', 'r_Rad', 'Vmag', 'r_Vmag', 'Kmag', 'r_Kmag', 'Age', 'r_Age',\n",
       "       'EWHa', 'e_EWHa', 'r_EWHa', 'S', 'e_S', 'logRHK', 'e_log10RHK',\n",
       "       'r_logRHK', 'Inst', 'n_Ha', 'n_CaII', 'L-SiIII', 'e_L-SiIII',\n",
       "       'r_L-SiIII', 'L-Lya', 'e_L-Lya', 'r_L-Lya', 'L-SiII', 'e_L-SiII',\n",
       "       'r_L-SiII', 'L-CII', 'e_L-CII', 'r_L-CII', 'L-MgII', 'e_L-MgII',\n",
       "       'r_L-MgII', 'L-SiIV', 'e_L-SiIV', 'r_L-SiIV', 'L-HeII', 'e_L-HeII',\n",
       "       'r_L-HeII', 'L-CIV', 'e_L-CIV', 'r_L-CIV', 'L-NV', 'e_L-NV', 'r_L-NV'],\n",
       "      dtype='object')"
      ]
     },
     "execution_count": 2,
     "metadata": {},
     "output_type": "execute_result"
    }
   ],
   "source": [
    "df1 = pd.read_fwf('km_lines.txt',skiprows = 14, names=['Bytes', 'Format', 'Units', 'Label', 'Explanations'],skipfooter=80,widths=[9,4,8,12,65])\n",
    "df = pd.read_fwf('km_lines.txt',skiprows=79,names=df1['Label'])\n",
    "df.columns"
   ]
  },
  {
   "cell_type": "code",
   "execution_count": 3,
   "metadata": {},
   "outputs": [
    {
     "data": {
      "text/plain": [
       "0      GJ176\n",
       "1     GJ667C\n",
       "2      GJ581\n",
       "3     GJ1214\n",
       "4      GJ832\n",
       "       ...  \n",
       "64     GJ273\n",
       "65     GJ205\n",
       "66     GJ588\n",
       "67    GJ338A\n",
       "68     GJ411\n",
       "Name: Name, Length: 69, dtype: object"
      ]
     },
     "execution_count": 3,
     "metadata": {},
     "output_type": "execute_result"
    }
   ],
   "source": [
    "df['Name']"
   ]
  },
  {
   "cell_type": "code",
   "execution_count": 4,
   "metadata": {},
   "outputs": [],
   "source": [
    "t1 =df[df['Name']=='TRAPPIST-1']"
   ]
  },
  {
   "cell_type": "code",
   "execution_count": 5,
   "metadata": {},
   "outputs": [
    {
     "name": "stdout",
     "output_type": "stream",
     "text": [
      "54   NaN\n",
      "Name: L-MgII, dtype: float64\n",
      "54   NaN\n",
      "Name: e_L-MgII, dtype: float64\n"
     ]
    }
   ],
   "source": [
    "print(t1['L-MgII'])\n",
    "print(t1['e_L-MgII'])"
   ]
  },
  {
   "cell_type": "markdown",
   "metadata": {},
   "source": [
    "Oh well\n"
   ]
  },
  {
   "cell_type": "code",
   "execution_count": 6,
   "metadata": {},
   "outputs": [
    {
     "name": "stdout",
     "output_type": "stream",
     "text": [
      "54   -3.25676\n",
      "Name: EWHa, dtype: float64\n",
      "54    1.086027\n",
      "Name: e_EWHa, dtype: float64\n"
     ]
    }
   ],
   "source": [
    "print(t1['EWHa'])\n",
    "print(t1['e_EWHa'])"
   ]
  },
  {
   "cell_type": "code",
   "execution_count": 7,
   "metadata": {},
   "outputs": [
    {
     "data": {
      "text/plain": [
       "0      GJ176\n",
       "1     GJ667C\n",
       "2      GJ581\n",
       "3     GJ1214\n",
       "4      GJ832\n",
       "       ...  \n",
       "64     GJ273\n",
       "65     GJ205\n",
       "66     GJ588\n",
       "67    GJ338A\n",
       "68     GJ411\n",
       "Name: Name, Length: 69, dtype: object"
      ]
     },
     "execution_count": 7,
     "metadata": {},
     "output_type": "execute_result"
    }
   ],
   "source": [
    "df['Name']"
   ]
  },
  {
   "cell_type": "code",
   "execution_count": 36,
   "metadata": {},
   "outputs": [
    {
     "name": "stdout",
     "output_type": "stream",
     "text": [
      "GJ676A\n",
      "yes\n",
      "GJ649\n",
      "yes\n",
      "GJ15A\n",
      "yes\n",
      "GJ849\n",
      "yes\n",
      "GJ163\n",
      "yes\n",
      "GJ674\n",
      "yes\n",
      "L980-5\n",
      "no\n",
      "GJ729\n",
      "yes\n",
      "GJ699\n",
      "yes\n",
      "GJ1132\n",
      "yes\n",
      "LHS2686\n",
      "yes\n",
      "TRAPPIST-1\n",
      "yes\n"
     ]
    }
   ],
   "source": [
    "stars = ['GJ676A', 'GJ649', 'GJ15A', 'GJ849', 'GJ163', 'GJ674', 'L980-5','GJ729', 'GJ699', 'GJ1132', 'LHS2686', 'TRAPPIST-1']\n",
    "\n",
    "for star in stars:\n",
    "    print(star)\n",
    "    if star in np.array(df['Name']):\n",
    "        print('yes')\n",
    "    else:\n",
    "        print('no')"
   ]
  },
  {
   "cell_type": "code",
   "execution_count": 17,
   "metadata": {},
   "outputs": [
    {
     "data": {
      "text/html": [
       "<div>\n",
       "<style scoped>\n",
       "    .dataframe tbody tr th:only-of-type {\n",
       "        vertical-align: middle;\n",
       "    }\n",
       "\n",
       "    .dataframe tbody tr th {\n",
       "        vertical-align: top;\n",
       "    }\n",
       "\n",
       "    .dataframe thead th {\n",
       "        text-align: right;\n",
       "    }\n",
       "</style>\n",
       "<table border=\"1\" class=\"dataframe\">\n",
       "  <thead>\n",
       "    <tr style=\"text-align: right;\">\n",
       "      <th></th>\n",
       "      <th>Name</th>\n",
       "      <th>Num</th>\n",
       "      <th>Dist</th>\n",
       "      <th>r_Dist</th>\n",
       "      <th>SpType</th>\n",
       "      <th>r_SpType</th>\n",
       "      <th>Teff</th>\n",
       "      <th>r_Teff</th>\n",
       "      <th>Rad</th>\n",
       "      <th>r_Rad</th>\n",
       "      <th>...</th>\n",
       "      <th>r_L-SiIV</th>\n",
       "      <th>L-HeII</th>\n",
       "      <th>e_L-HeII</th>\n",
       "      <th>r_L-HeII</th>\n",
       "      <th>L-CIV</th>\n",
       "      <th>e_L-CIV</th>\n",
       "      <th>r_L-CIV</th>\n",
       "      <th>L-NV</th>\n",
       "      <th>e_L-NV</th>\n",
       "      <th>r_L-NV</th>\n",
       "    </tr>\n",
       "  </thead>\n",
       "  <tbody>\n",
       "    <tr>\n",
       "      <th>54</th>\n",
       "      <td>TRAPPIST-1</td>\n",
       "      <td>55</td>\n",
       "      <td>12.43</td>\n",
       "      <td>2018A&amp;A...616A...1G</td>\n",
       "      <td>M8V</td>\n",
       "      <td>2003AJ....126.2421C</td>\n",
       "      <td>2515</td>\n",
       "      <td>2018ApJ...853...30V</td>\n",
       "      <td>0.121</td>\n",
       "      <td>2018ApJ...853...30V</td>\n",
       "      <td>...</td>\n",
       "      <td>NaN</td>\n",
       "      <td>NaN</td>\n",
       "      <td>NaN</td>\n",
       "      <td>NaN</td>\n",
       "      <td>NaN</td>\n",
       "      <td>NaN</td>\n",
       "      <td>NaN</td>\n",
       "      <td>1.210000e+24</td>\n",
       "      <td>6.010000e+22</td>\n",
       "      <td>ThisWork</td>\n",
       "    </tr>\n",
       "  </tbody>\n",
       "</table>\n",
       "<p>1 rows × 54 columns</p>\n",
       "</div>"
      ],
      "text/plain": [
       "          Name  Num   Dist               r_Dist SpType             r_SpType  \\\n",
       "54  TRAPPIST-1   55  12.43  2018A&A...616A...1G    M8V  2003AJ....126.2421C   \n",
       "\n",
       "    Teff               r_Teff    Rad                r_Rad  ...  r_L-SiIV  \\\n",
       "54  2515  2018ApJ...853...30V  0.121  2018ApJ...853...30V  ...       NaN   \n",
       "\n",
       "   L-HeII  e_L-HeII r_L-HeII  L-CIV e_L-CIV  r_L-CIV          L-NV  \\\n",
       "54    NaN       NaN      NaN    NaN     NaN      NaN  1.210000e+24   \n",
       "\n",
       "          e_L-NV    r_L-NV  \n",
       "54  6.010000e+22  ThisWork  \n",
       "\n",
       "[1 rows x 54 columns]"
      ]
     },
     "execution_count": 17,
     "metadata": {},
     "output_type": "execute_result"
    }
   ],
   "source": [
    "t1"
   ]
  },
  {
   "cell_type": "code",
   "execution_count": null,
   "metadata": {},
   "outputs": [],
   "source": []
  }
 ],
 "metadata": {
  "kernelspec": {
   "display_name": "Python 3 (ipykernel)",
   "language": "python",
   "name": "python3"
  },
  "language_info": {
   "codemirror_mode": {
    "name": "ipython",
    "version": 3
   },
   "file_extension": ".py",
   "mimetype": "text/x-python",
   "name": "python",
   "nbconvert_exporter": "python",
   "pygments_lexer": "ipython3",
   "version": "3.10.6"
  }
 },
 "nbformat": 4,
 "nbformat_minor": 4
}
