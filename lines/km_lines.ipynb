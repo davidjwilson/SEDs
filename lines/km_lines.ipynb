{
 "cells": [
  {
   "cell_type": "markdown",
   "metadata": {},
   "source": [
    "Reading in lines from KMs paper."
   ]
  },
  {
   "cell_type": "code",
   "execution_count": 1,
   "metadata": {},
   "outputs": [],
   "source": [
    "import pandas as pd\n"
   ]
  },
  {
   "cell_type": "code",
   "execution_count": 24,
   "metadata": {},
   "outputs": [
    {
     "data": {
      "text/plain": [
       "Index(['Name', 'Num', 'Dist', 'r_Dist', 'SpType', 'r_SpType', 'Teff', 'r_Teff',\n",
       "       'Rad', 'r_Rad', 'Vmag', 'r_Vmag', 'Kmag', 'r_Kmag', 'Age', 'r_Age',\n",
       "       'EWHa', 'e_EWHa', 'r_EWHa', 'S', 'e_S', 'logRHK', 'e_log10RHK',\n",
       "       'r_logRHK', 'Inst', 'n_Ha', 'n_CaII', 'L-SiIII', 'e_L-SiIII',\n",
       "       'r_L-SiIII', 'L-Lya', 'e_L-Lya', 'r_L-Lya', 'L-SiII', 'e_L-SiII',\n",
       "       'r_L-SiII', 'L-CII', 'e_L-CII', 'r_L-CII', 'L-MgII', 'e_L-MgII',\n",
       "       'r_L-MgII', 'L-SiIV', 'e_L-SiIV', 'r_L-SiIV', 'L-HeII', 'e_L-HeII',\n",
       "       'r_L-HeII', 'L-CIV', 'e_L-CIV', 'r_L-CIV', 'L-NV', 'e_L-NV', 'r_L-NV'],\n",
       "      dtype='object')"
      ]
     },
     "execution_count": 24,
     "metadata": {},
     "output_type": "execute_result"
    }
   ],
   "source": [
    "df1 = pd.read_fwf('km_lines.txt',skiprows = 14, names=['Bytes', 'Format', 'Units', 'Label', 'Explanations'],skipfooter=80,widths=[9,4,8,12,65])\n",
    "df = pd.read_fwf('km_lines.txt',skiprows=79,names=df1['Label'])\n",
    "df.columns"
   ]
  },
  {
   "cell_type": "code",
   "execution_count": 25,
   "metadata": {},
   "outputs": [
    {
     "data": {
      "text/plain": [
       "0      GJ176\n",
       "1     GJ667C\n",
       "2      GJ581\n",
       "3     GJ1214\n",
       "4      GJ832\n",
       "       ...  \n",
       "64     GJ273\n",
       "65     GJ205\n",
       "66     GJ588\n",
       "67    GJ338A\n",
       "68     GJ411\n",
       "Name: Name, Length: 69, dtype: object"
      ]
     },
     "execution_count": 25,
     "metadata": {},
     "output_type": "execute_result"
    }
   ],
   "source": [
    "df['Name']"
   ]
  },
  {
   "cell_type": "code",
   "execution_count": 26,
   "metadata": {},
   "outputs": [],
   "source": [
    "t1 =df[df['Name']=='TRAPPIST-1']"
   ]
  },
  {
   "cell_type": "code",
   "execution_count": 29,
   "metadata": {},
   "outputs": [
    {
     "data": {
      "text/plain": [
       "54   NaN\n",
       "Name: e_L-MgII, dtype: float64"
      ]
     },
     "execution_count": 29,
     "metadata": {},
     "output_type": "execute_result"
    }
   ],
   "source": [
    "t1['L-MgII']\n",
    "t1['e_L-MgII']"
   ]
  },
  {
   "cell_type": "markdown",
   "metadata": {},
   "source": [
    "Oh well\n"
   ]
  },
  {
   "cell_type": "code",
   "execution_count": null,
   "metadata": {},
   "outputs": [],
   "source": []
  }
 ],
 "metadata": {
  "kernelspec": {
   "display_name": "Python 3",
   "language": "python",
   "name": "python3"
  },
  "language_info": {
   "codemirror_mode": {
    "name": "ipython",
    "version": 3
   },
   "file_extension": ".py",
   "mimetype": "text/x-python",
   "name": "python",
   "nbconvert_exporter": "python",
   "pygments_lexer": "ipython3",
   "version": "3.6.12"
  }
 },
 "nbformat": 4,
 "nbformat_minor": 4
}
