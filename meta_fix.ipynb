{
 "cells": [
  {
   "cell_type": "markdown",
   "id": "907c7486-592d-4a77-ba1d-42b9ed9e2965",
   "metadata": {},
   "source": [
    "Updating the SED files for MUSCLES to newer MAST standards - modified from the same notebook for MEATS"
   ]
  },
  {
   "cell_type": "code",
   "execution_count": 2,
   "id": "e11e3f52-2aa8-4db5-9396-5d0af82acd27",
   "metadata": {},
   "outputs": [],
   "source": [
    "import numpy as np\n",
    "import matplotlib.pyplot as plt\n",
    "import astropy.io.fits as fits\n",
    "import os\n",
    "import glob\n",
    "from astropy.table import Table\n",
    "from astropy.io import ascii\n",
    "from astropy.convolution import convolve, Box1DKernel\n",
    "from scipy.interpolate import interp1d\n",
    "\n",
    "import astropy.units as u\n",
    "from astropy import time, coordinates as coord\n",
    "import astropy.constants as const\n",
    "from astropy.modeling import models, fitting\n",
    "from astropy.coordinates import SkyCoord\n",
    "from matplotlib.gridspec import GridSpec\n",
    "from datetime import datetime\n",
    "from astroquery.simbad import Simbad\n",
    "\n",
    "#matplotlib set up\n",
    "%matplotlib inline\n",
    "from matplotlib import rcParams\n",
    "rcParams[\"figure.figsize\"] = (14, 5)\n",
    "rcParams[\"font.size\"] = 20"
   ]
  },
  {
   "cell_type": "code",
   "execution_count": 39,
   "id": "dfe69efa-49b5-4733-8a53-2cab3a7bebff",
   "metadata": {},
   "outputs": [],
   "source": [
    "oldv = 24\n",
    "version = 25 #v25 is now the MUSCLES update, MEATS will have to be v26"
   ]
  },
  {
   "cell_type": "markdown",
   "id": "28ac22e9-b03d-4a29-836d-885e2b5ef536",
   "metadata": {},
   "source": [
    "\n",
    "    STIS spectra\n",
    "\n",
    "DOI = ‘10.17909/T9DG6F’\n",
    "\n",
    "EQUINOX =’2000.2’ or RADESYS = 'ICRS'\n",
    "\n",
    "HLSPID =’MUSCLES’\n",
    "\n",
    "HLSPVER=’V1’\n",
    "\n",
    "LICENSE =’CC BY 4.0’\n",
    "\n",
    "LICENSURL= 'https://creativecommons.org/licenses/by/4.0/'\n",
    "\n",
    "TIMESYS: Character string code (see FITS Standard) for the time scale of time-related keywords. Ex: 'UTC'\n",
    "\n",
    " \n",
    "\n",
    "    Model spectra\n",
    "\n",
    "The same set of metadata is required as STIS data except for EQUINOX/RADESYS and TIMESYS.\n",
    "\n",
    " \n",
    "\n",
    "    SED data \n",
    "\n",
    "The same set of metadata is required as STIS data except for OBSERVAT.\n",
    "\n",
    "MJD-BEG and MJD-END in the primary header. (* see below)\n",
    "\n",
    " \n",
    "\n",
    "    XMM data\n",
    "\n",
    "The same set of metadata is required as STIS data.\n",
    "\n",
    "RA_TARG and DEC_TARG values are missing. Please include the correct RA/Dec values."
   ]
  },
  {
   "cell_type": "code",
   "execution_count": 35,
   "id": "5a6afe22-d187-4070-b5ce-395364b4ddaa",
   "metadata": {},
   "outputs": [
    {
     "name": "stdout",
     "output_type": "stream",
     "text": [
      "['GJ1132' 'GJ15A' 'GJ163' 'GJ649' 'GJ674' 'GJ676A' 'GJ699' 'GJ729' 'GJ849'\n",
      " 'L-980-5' 'LHS-2686' 'TRAPPIST-1']\n",
      "12\n"
     ]
    }
   ],
   "source": [
    "inpath = '/media/david/2tb_ext_hd/hddata/mega_muscles/v24_hlsp/'\n",
    "outpath = '/media/david/2tb_ext_hd/hddata/mega_muscles/v26_hlsp_fixed/'\n",
    "stars = os.listdir(inpath)\n",
    "# print(stars)\n",
    "stars = np.array(stars)\n",
    "# mask = stars != '.ipynb_checkpoints'\n",
    "# print(mask)\n",
    "# stars = stars[mask]\n",
    "star_fix = np.copy(stars)  #change to simbad recognised names\n",
    "for i in range(len(stars)):\n",
    "    if stars[i] == 'L-980-5':\n",
    "        star_fix[i] = 'L 980-5'\n",
    "    if stars[i] == 'LHS-2686':\n",
    "        star_fix[i] = 'LHS 2686'\n",
    "    \n",
    "print(stars)\n",
    "print(len(stars))"
   ]
  },
  {
   "cell_type": "code",
   "execution_count": 12,
   "id": "831d1ac0-f418-4bc7-8f80-662cbac45a50",
   "metadata": {},
   "outputs": [
    {
     "data": {
      "text/html": [
       "<div><i>Table length=12</i>\n",
       "<table id=\"table131701974620432\" class=\"table-striped table-bordered table-condensed\">\n",
       "<thead><tr><th>MAIN_ID</th><th>RA</th><th>DEC</th><th>RA_PREC</th><th>DEC_PREC</th><th>COO_ERR_MAJA</th><th>COO_ERR_MINA</th><th>COO_ERR_ANGLE</th><th>COO_QUAL</th><th>COO_WAVELENGTH</th><th>COO_BIBCODE</th><th>SCRIPT_NUMBER_ID</th></tr></thead>\n",
       "<thead><tr><th></th><th>&quot;h:m:s&quot;</th><th>&quot;d:m:s&quot;</th><th></th><th></th><th>mas</th><th>mas</th><th>deg</th><th></th><th></th><th></th><th></th></tr></thead>\n",
       "<thead><tr><th>object</th><th>str13</th><th>str13</th><th>int16</th><th>int16</th><th>float32</th><th>float32</th><th>int16</th><th>str1</th><th>str1</th><th>object</th><th>int32</th></tr></thead>\n",
       "<tr><td>L  320-124</td><td>10 14 51.7786</td><td>-47 09 24.192</td><td>14</td><td>14</td><td>0.014</td><td>0.015</td><td>90</td><td>A</td><td>O</td><td>2020yCat.1350....0G</td><td>1</td></tr>\n",
       "<tr><td>HD   1326</td><td>00 18 22.8849</td><td>+44 01 22.637</td><td>14</td><td>14</td><td>0.014</td><td>0.010</td><td>90</td><td>A</td><td>O</td><td>2020yCat.1350....0G</td><td>2</td></tr>\n",
       "<tr><td>L  229-91</td><td>04 09 15.6683</td><td>-53 22 25.290</td><td>14</td><td>14</td><td>0.016</td><td>0.017</td><td>90</td><td>A</td><td>O</td><td>2020yCat.1350....0G</td><td>3</td></tr>\n",
       "<tr><td>BD+25  3173</td><td>16 58 08.8496</td><td>+25 44 38.974</td><td>14</td><td>14</td><td>0.016</td><td>0.019</td><td>90</td><td>A</td><td>O</td><td>2020yCat.1350....0G</td><td>4</td></tr>\n",
       "<tr><td>CD-46 11540</td><td>17 28 39.9455</td><td>-46 53 42.688</td><td>14</td><td>14</td><td>0.025</td><td>0.018</td><td>90</td><td>A</td><td>O</td><td>2020yCat.1350....0G</td><td>5</td></tr>\n",
       "<tr><td>CD-51 10924</td><td>17 30 11.2044</td><td>-51 38 13.130</td><td>14</td><td>14</td><td>0.027</td><td>0.023</td><td>90</td><td>A</td><td>O</td><td>2020yCat.1350....0G</td><td>6</td></tr>\n",
       "<tr><td>NAME Barnard&apos;s star</td><td>17 57 48.4984</td><td>+04 41 36.113</td><td>14</td><td>14</td><td>0.026</td><td>0.029</td><td>90</td><td>A</td><td>O</td><td>2020yCat.1350....0G</td><td>7</td></tr>\n",
       "<tr><td>CD-23 14742</td><td>18 49 49.3637</td><td>-23 50 10.447</td><td>14</td><td>14</td><td>0.029</td><td>0.026</td><td>90</td><td>A</td><td>O</td><td>2020yCat.1350....0G</td><td>8</td></tr>\n",
       "<tr><td>BD-05  5715</td><td>22 09 40.3443</td><td>-04 38 26.650</td><td>14</td><td>14</td><td>0.027</td><td>0.028</td><td>90</td><td>A</td><td>O</td><td>2020yCat.1350....0G</td><td>9</td></tr>\n",
       "<tr><td>G 124-27</td><td>14 21 15.1249</td><td>-01 07 19.809</td><td>14</td><td>14</td><td>0.028</td><td>0.026</td><td>90</td><td>A</td><td>O</td><td>2020yCat.1350....0G</td><td>10</td></tr>\n",
       "<tr><td>G 177-25</td><td>13 10 12.6292</td><td>+47 45 18.673</td><td>14</td><td>14</td><td>0.019</td><td>0.023</td><td>90</td><td>A</td><td>O</td><td>2020yCat.1350....0G</td><td>11</td></tr>\n",
       "<tr><td>TRAPPIST-1</td><td>23 06 29.3684</td><td>-05 02 29.037</td><td>14</td><td>14</td><td>0.062</td><td>0.054</td><td>90</td><td>A</td><td>O</td><td>2020yCat.1350....0G</td><td>12</td></tr>\n",
       "</table></div>"
      ],
      "text/plain": [
       "<Table length=12>\n",
       "      MAIN_ID             RA      ...     COO_BIBCODE     SCRIPT_NUMBER_ID\n",
       "                       \"h:m:s\"    ...                                     \n",
       "       object           str13     ...        object            int32      \n",
       "------------------- ------------- ... ------------------- ----------------\n",
       "         L  320-124 10 14 51.7786 ... 2020yCat.1350....0G                1\n",
       "          HD   1326 00 18 22.8849 ... 2020yCat.1350....0G                2\n",
       "          L  229-91 04 09 15.6683 ... 2020yCat.1350....0G                3\n",
       "        BD+25  3173 16 58 08.8496 ... 2020yCat.1350....0G                4\n",
       "        CD-46 11540 17 28 39.9455 ... 2020yCat.1350....0G                5\n",
       "        CD-51 10924 17 30 11.2044 ... 2020yCat.1350....0G                6\n",
       "NAME Barnard's star 17 57 48.4984 ... 2020yCat.1350....0G                7\n",
       "        CD-23 14742 18 49 49.3637 ... 2020yCat.1350....0G                8\n",
       "        BD-05  5715 22 09 40.3443 ... 2020yCat.1350....0G                9\n",
       "           G 124-27 14 21 15.1249 ... 2020yCat.1350....0G               10\n",
       "           G 177-25 13 10 12.6292 ... 2020yCat.1350....0G               11\n",
       "         TRAPPIST-1 23 06 29.3684 ... 2020yCat.1350....0G               12"
      ]
     },
     "execution_count": 12,
     "metadata": {},
     "output_type": "execute_result"
    }
   ],
   "source": [
    "star_list = Simbad.query_objects(star_fix)\n",
    "star_list"
   ]
  },
  {
   "cell_type": "code",
   "execution_count": 15,
   "id": "b3592fd4-480c-4d64-bd10-d9fac013a77a",
   "metadata": {},
   "outputs": [
    {
     "data": {
      "text/plain": [
       "array(['L-980-5', 'LHS-2686', 'TRAPPIST-1'], dtype='<U10')"
      ]
     },
     "execution_count": 15,
     "metadata": {},
     "output_type": "execute_result"
    }
   ],
   "source": [
    "\n",
    "stars[9:]"
   ]
  },
  {
   "cell_type": "code",
   "execution_count": 28,
   "id": "d659ef68-4f05-4b7e-b947-a298becbf00d",
   "metadata": {},
   "outputs": [
    {
     "name": "stdout",
     "output_type": "stream",
     "text": [
      "TRAPPIST-1\n",
      "done\n"
     ]
    }
   ],
   "source": [
    "\n",
    "newpath = outpath\n",
    "for star in stars[11:]:\n",
    "    print(star)\n",
    "    newdir = '{}{}'.format(newpath, star)\n",
    "    if not os.path.exists(newdir):\n",
    "       os.makedirs(newdir)\n",
    "    \n",
    "    oldv = 24\n",
    "\n",
    "    starpath = '{}{}/'.format(inpath, star)\n",
    "    specs = np.hstack((glob.glob('{}*stis*.fits'.format(starpath)),glob.glob('{}*cos*.fits'.format(starpath))))\n",
    "    mods = glob.glob('{}*mod*.fits'.format(starpath))\n",
    "    seds = glob.glob('{}*multi*.fits'.format(starpath))\n",
    "    xrays = np.hstack((glob.glob('{}*cxo*.fits'.format(starpath)),glob.glob('{}*xmm*.fits'.format(starpath))))\n",
    "\n",
    "    # print(specs)\n",
    "    # print(mods)\n",
    "    # print(seds)\n",
    "    # print(xrays)\n",
    "    \n",
    "    \n",
    "    starts = []\n",
    "    ends = []\n",
    "\n",
    "    for spec in specs:\n",
    "        hdul = fits.open(spec)\n",
    "        hdr = hdul[0].header\n",
    "        ra, dec = hdr['RA_TARG'], hdr['DEC_TARG']\n",
    "        starts.append(hdr['EXPSTART'])\n",
    "        ends.append(hdr['EXPEND'])\n",
    "        hdr.append(('DOI', '10.17909/T9DG6F'))\n",
    "        hdr.append(('RADESYS' , 'ICRS'))\n",
    "        hdr.append(('TIMESYS', 'UTC'))\n",
    "        hdr.append(('HLSPVER', 'V{}'.format(version)))\n",
    "        hdr.append(('HSLPID', 'MUSCLES'))\n",
    "        hdr.append(('LICENSE','CC BY 4.0'))\n",
    "        hdr.append(('LICENURL', 'https://creativecommons.org/licenses/by/4.0/'))\n",
    "        if hdr['TARGNAME'] == '2MASS-J23062928-0502285':\n",
    "            hdr['TARGNAME'] = 'TRAPPIST-1'\n",
    "        new_name = (os.path.split(spec)[1]).replace('v{}'.format(oldv), 'v{}'.format(version))\n",
    "        savepath = '{}{}/{}'.format(newpath, star, new_name)\n",
    "        hdul.writeto(savepath, overwrite=True)\n",
    "    \n",
    "    for spec in mods:\n",
    "        hdul = fits.open(spec)\n",
    "        hdr = hdul[0].header\n",
    "        hdr.append(('DOI', '10.17909/T9DG6F'))\n",
    "        hdr.append(('HLSPVER', 'V{}'.format(version)))\n",
    "        hdr.append(('HSLPID', 'MUSCLES'))\n",
    "        hdr.append(('LICENSE','CC BY 4.0'))\n",
    "        hdr.append(('LICENURL', 'https://creativecommons.org/licenses/by/4.0/'))\n",
    "        if hdr['TARGNAME'] == '2MASS-J23062928-0502285':\n",
    "            hdr['TARGNAME'] = 'TRAPPIST-1'\n",
    "        new_name = (os.path.split(spec)[1]).replace('v{}'.format(oldv), 'v{}'.format(version))\n",
    "        savepath = '{}{}/{}'.format(newpath, star, new_name)\n",
    "        hdul.writeto(savepath, overwrite=True)\n",
    "    \n",
    "    for spec in xrays:\n",
    "        hdul = fits.open(spec)\n",
    "        hdr = hdul[0].header\n",
    "        starts.append(hdr['EXPSTART'])\n",
    "        ends.append(hdr['EXPEND'])\n",
    "        hdr.append(('RA_TARG', ra))\n",
    "        hdr.append(('DEC_TARG', dec))\n",
    "        hdr.append(('DOI', '10.17909/T9DG6F'))\n",
    "        hdr.append(('RADESYS' , 'ICRS'))\n",
    "        hdr.append(('TIMESYS', 'UTC'))\n",
    "        hdr.append(('HLSPVER', 'V{}'.format(version)))\n",
    "        hdr.append(('HSLPID', 'MUSCLES'))\n",
    "        hdr.append(('LICENSE','CC BY 4.0'))\n",
    "        hdr.append(('LICENURL', 'https://creativecommons.org/licenses/by/4.0/'))\n",
    "        if hdr['TARGNAME'] == '2MASS-J23062928-0502285':\n",
    "            hdr['TARGNAME'] = 'TRAPPIST-1'\n",
    "        new_name = (os.path.split(spec)[1]).replace('v{}'.format(oldv), 'v{}'.format(version))\n",
    "        savepath = '{}{}/{}'.format(newpath, star, new_name)\n",
    "        hdul.writeto(savepath, overwrite=True)\n",
    "    \n",
    "    start = np.min(starts)\n",
    "    end = np.max(ends)\n",
    "    \n",
    "    for spec in seds:\n",
    "        hdul = fits.open(spec)\n",
    "        hdr = hdul[0].header\n",
    "        hdr.append(('MJD-BEG', start))\n",
    "        hdr.append(('MJD-END', end))\n",
    "        hdr.append(('DOI', '10.17909/T9DG6F'))\n",
    "        hdr.append(('RADESYS' , 'ICRS'))\n",
    "        hdr.append(('TIMESYS', 'UTC'))\n",
    "        hdr.append(('HLSPVER', 'V{}'.format(version)))\n",
    "        hdr.append(('HSLPID', 'MUSCLES'))\n",
    "        hdr.append(('LICENSE','CC BY 4.0'))\n",
    "        hdr.append(('LICENURL', 'https://creativecommons.org/licenses/by/4.0/'))\n",
    "        new_name = (os.path.split(spec)[1]).replace('v{}'.format(oldv), 'v{}'.format(version))\n",
    "        for i in hdr:\n",
    "            if hdr[i] in ['mod', 'Mod', 'MOD']:\n",
    "                hdr[i] = 'MODEL'\n",
    "        starname = hdr['TARGNAME']\n",
    "        if starname == 'L-980-5':\n",
    "            starname = 'L 980-5'\n",
    "        elif starname == 'LHS-2686':\n",
    "            starname = 'LHS 2686'\n",
    "        elif starname == '2MASS-J23062928-0502285':\n",
    "            starname = 'TRAPPIST-1'\n",
    "        simtab = Simbad.query_object(starname)\n",
    "        coords = SkyCoord(simtab['RA'][0], simtab['DEC'][0], unit=(u.hourangle, u.deg))\n",
    "        if hdr['TARGNAME'] == '2MASS-J23062928-0502285':\n",
    "            hdr['TARGNAME'] = 'TRAPPIST-1'\n",
    "\n",
    "        hdr['RA_TARG'] = coords.ra.deg\n",
    "        hdr['DEC_TARG'] = coords.dec.deg\n",
    "        \n",
    "      \n",
    "        savepath = '{}{}/{}'.format(newpath, star, new_name)\n",
    "        hdul.writeto(savepath, overwrite=True)\n",
    "print('done')"
   ]
  },
  {
   "cell_type": "code",
   "execution_count": 7,
   "id": "30a2c549-7597-4c12-8cf3-58a52928162f",
   "metadata": {},
   "outputs": [],
   "source": [
    "# Simbad.query_objects(stars)"
   ]
  },
  {
   "cell_type": "code",
   "execution_count": 20,
   "id": "3a035513-4982-4804-b0a6-77faf0d32fa1",
   "metadata": {},
   "outputs": [
    {
     "data": {
      "text/plain": [
       "12"
      ]
     },
     "execution_count": 20,
     "metadata": {},
     "output_type": "execute_result"
    }
   ],
   "source": [
    "len(stars)"
   ]
  },
  {
   "cell_type": "code",
   "execution_count": 21,
   "id": "97366c32-1536-4a35-84eb-ebb987ab3f9b",
   "metadata": {},
   "outputs": [],
   "source": [
    "for i in hdr:\n",
    "    if hdr[i] in ['mod', 'Mod', 'MOD']:\n",
    "        print (i, hdr[i])\n",
    "        hdr[i] = 'MODEL'\n",
    "        print (i, hdr[i])"
   ]
  },
  {
   "cell_type": "code",
   "execution_count": 22,
   "id": "67d2250a-085a-449f-88ea-904102376770",
   "metadata": {},
   "outputs": [
    {
     "data": {
      "text/plain": [
       "SIMPLE  =                    T / conforms to FITS standard                      \n",
       "BITPIX  =                    8 / array data type                                \n",
       "NAXIS   =                    0 / number of array dimensions                     \n",
       "EXTEND  =                    T                                                  \n",
       "TELESCOP= 'MULTI   '                                                            \n",
       "INSTRUME= 'MULTI   '                                                            \n",
       "GRATING = 'MULTI   '                                                            \n",
       "TELESC00= 'HST     '                                                            \n",
       "INSTRU00= 'COS     '                                                            \n",
       "GRATIN00= 'G130M   '                                                            \n",
       "TELESC01= 'HST     '                                                            \n",
       "INSTRU01= 'COS     '                                                            \n",
       "GRATIN01= 'G160M   '                                                            \n",
       "TELESC02= 'HST     '                                                            \n",
       "INSTRU02= 'COS     '                                                            \n",
       "GRATIN02= 'G230L   '                                                            \n",
       "TELESC03= 'MODEL   '                                                            \n",
       "INSTRU03= 'GAP     '                                                            \n",
       "GRATIN03= 'FILL-   '                                                            \n",
       "TELESC04= 'MODEL   '                                                            \n",
       "INSTRU04= 'LYA     '                                                            \n",
       "GRATIN04= 'YOUNG   '                                                            \n",
       "TELESC05= 'HST     '                                                            \n",
       "INSTRU05= 'STS     '                                                            \n",
       "GRATIN05= 'G140M   '                                                            \n",
       "TELESC06= 'MODEL   '                                                            \n",
       "INSTRU06= 'GAP     '                                                            \n",
       "GRATIN06= 'FILL-   '                                                            \n",
       "TELESC07= 'MODEL   '                                                            \n",
       "INSTRU07= 'PHX     '                                                            \n",
       "GRATIN07= '-----   '                                                            \n",
       "TELESC08= 'HST     '                                                            \n",
       "INSTRU08= 'STS     '                                                            \n",
       "GRATIN08= 'G430L   '                                                            \n",
       "TELESC09= 'XMM     '                                                            \n",
       "INSTRU09= 'EPC     '                                                            \n",
       "GRATIN09= 'MULTI   '                                                            \n",
       "TELESC10= 'MODEL   '                                                            \n",
       "INSTRU10= 'APC     '                                                            \n",
       "GRATIN10= '-----   '                                                            \n",
       "TELESC11= 'MODEL   '                                                            \n",
       "INSTRU11= 'DEM     '                                                            \n",
       "GRATIN11= '-----   '                                                            \n",
       "TARGNAME= '2MASS-J23062928-0502285'                                             \n",
       "RA_TARG =    346.6223683333333                                                  \n",
       "DEC_TARG=   -5.041399166666666                                                  \n",
       "PROPOSID=                15071                                                  \n",
       "HLSPNAME= 'Measurements of the Ultraviolet Spectral Characteristics of &'       \n",
       "CONTINUE  'Low-mass Exoplanet Host Stars'                                       \n",
       "HLSPACRN= 'MUSCLES '                                                            \n",
       "HLSPLEAD= 'David J. Wilson'                                                     \n",
       "PR_INV_L= 'Froning '                                                            \n",
       "PR_INV_F= 'Cynthia '                                                            \n",
       "WAVEMIN =   14.100000381469727                                                  \n",
       "WAVEMAX =            9995000.0                                                  \n",
       "WAVEUNIT= 'ang     '                                                            \n",
       "AIRORVAC= 'vac     '                                                            \n",
       "FLUXMIN = -1.6887263046882E-15                                                  \n",
       "FLUXMAX = 2.69229583282721E-14                                                  \n",
       "FLUXUNIT= 'erg/s/cm2/ang'                                                       \n",
       "BOLOFLUX= 1.17061984419824E-10                                                  \n",
       "MJD-BEG =       58102.30507718                                                  \n",
       "MJD-END =       58641.84795161                                                  \n",
       "DOI     = '10.17909/T9DG6F'                                                     \n",
       "RADESYS = 'ICRS    '                                                            \n",
       "TIMESYS = 'UTC     '                                                            \n",
       "HLSPVER = 'V25     '                                                            \n",
       "HSLPID  = 'MUSCLES '                                                            \n",
       "LICENSE = 'CC BY 4.0'                                                           \n",
       "LICENURL= 'https://creativecommons.org/licenses/by/4.0/'                        "
      ]
     },
     "execution_count": 22,
     "metadata": {},
     "output_type": "execute_result"
    }
   ],
   "source": [
    "hdr"
   ]
  },
  {
   "cell_type": "code",
   "execution_count": 11,
   "id": "8d76e4ab-771c-4be1-b2b1-9e00ad5e0b33",
   "metadata": {},
   "outputs": [
    {
     "data": {
      "text/plain": [
       "<SkyCoord (ICRS): (ra, dec) in deg\n",
       "    (107.60025167, -39.09738083)>"
      ]
     },
     "execution_count": 11,
     "metadata": {},
     "output_type": "execute_result"
    }
   ],
   "source": [
    "c = SkyCoord(star_list['RA'][-1], star_list['DEC'][-1], unit=(u.hourangle, u.deg))\n",
    "c"
   ]
  },
  {
   "cell_type": "code",
   "execution_count": 12,
   "id": "9a85fd41-4519-48fc-8e7e-19f3eb158b76",
   "metadata": {},
   "outputs": [
    {
     "data": {
      "text/plain": [
       "-39.09738083333333"
      ]
     },
     "execution_count": 12,
     "metadata": {},
     "output_type": "execute_result"
    }
   ],
   "source": [
    "c.dec.deg\n"
   ]
  },
  {
   "cell_type": "code",
   "execution_count": 6,
   "id": "007980c9-ce40-4ebc-b6ee-d1e4da61dc64",
   "metadata": {},
   "outputs": [],
   "source": [
    "# for star in stars:\n",
    "#     print(star)\n",
    "#     starpath = '{}{}/'.format(inpath, star)\n",
    "#     seds = glob.glob('{}*multi*.fits'.format(starpath))\n",
    "#     for sed in seds:\n",
    "#         hdul = fits.open(sed)\n",
    "#         hdr = hdul[0].header\n",
    "#         starname = hdr['TARGNAME']\n",
    "#         print(starname)\n",
    "#         if starname == 'L-980-5':\n",
    "#             starname = 'L 980-5'\n",
    "#         elif starname == 'LHS-2686':\n",
    "#             starname = 'LHS 2686'\n",
    "#         elif starname == '2MASS-J23062928-0502285':\n",
    "#             starname = 'TRAPPIST-1'\n",
    "#         simtab = Simbad.query_object(starname)\n",
    "#         coords = SkyCoord(simtab['RA'][0], simtab['DEC'][0], unit=(u.hourangle, u.deg))\n",
    "#         print(coords.ra.deg, coords.dec.deg)\n",
    "#         print(hdr['RA_TARG'], hdr['DEC_TARG'])\n",
    "#         # print(startab)"
   ]
  },
  {
   "cell_type": "code",
   "execution_count": 14,
   "id": "6f680c87-0b13-4cb0-a232-6ce36cf5593d",
   "metadata": {},
   "outputs": [],
   "source": [
    "# simtab"
   ]
  },
  {
   "cell_type": "code",
   "execution_count": 15,
   "id": "f3d13618-89a7-4b4b-a5ae-dba82eff66ef",
   "metadata": {},
   "outputs": [],
   "source": [
    "# Simbad.query_object('TOI-134')"
   ]
  },
  {
   "cell_type": "markdown",
   "id": "339be0ba-4474-4f0f-9492-4dc7bee109b6",
   "metadata": {},
   "source": [
    "fix targnames in TRAPPIST-1 files:"
   ]
  },
  {
   "cell_type": "markdown",
   "id": "557148c5-151d-463c-aa38-d4f5cd70ea51",
   "metadata": {},
   "source": [
    "Need to fix coords in X-ray files. XMM files don't have any values, CXO just have a DEC and no RA keyword. Have to modify the v24 individually then run the updator above without the RA and DeC input"
   ]
  },
  {
   "cell_type": "code",
   "execution_count": 18,
   "id": "82a7254d-9e1d-40e6-88fd-4c331b73b385",
   "metadata": {},
   "outputs": [
    {
     "name": "stdout",
     "output_type": "stream",
     "text": [
      "GJ15A 4.615833 44.025056\n",
      "LHS2686 197.5475 47.751917\n",
      "GJ699 269.447917 4.746194\n",
      "GJ849 332.42375 -4.640833\n",
      "GJ163 62.324167 -53.371111\n"
     ]
    }
   ],
   "source": []
  },
  {
   "cell_type": "code",
   "execution_count": 40,
   "id": "cf00cb89-7380-44a2-92c3-dca5db18c97d",
   "metadata": {},
   "outputs": [
    {
     "name": "stdout",
     "output_type": "stream",
     "text": [
      "{'GJ729': (282.45925, -23.837194), 'GJ674': (262.170708, -46.899694), 'GJ649': (254.536208, 25.741583), 'GJ1132': (153.716667, -47.156889), 'TRAPPIST-1': (346.627083, -5.043861), 'L-980-5': (215.314167, -1.125056), 'GJ15A': (4.615833, 44.025056), 'LHS-2686': (197.5475, 47.751917), 'GJ699': (269.447917, 4.746194), 'GJ849': (332.42375, -4.640833), 'GJ163': (62.324167, -53.371111)}\n",
      "GJ1132\n",
      "['/media/david/2tb_ext_hd/hddata/mega_muscles/v24_hlsp/GJ1132/hlsp_muscles_xmm_epic_gj1132_na_v24_component-spec.fits']\n",
      "(153.716667, -47.156889)\n",
      " \n",
      "153.716667 -47.156889\n",
      "GJ15A\n",
      "['/media/david/2tb_ext_hd/hddata/mega_muscles/v24_hlsp/GJ15A/hlsp_muscles_cxo_acis_gj15a_none_v24_component-spec.fits']\n",
      "(4.615833, 44.025056)\n",
      "4.615833 44.025056\n",
      "4.615833 44.025056\n",
      "GJ163\n",
      "['/media/david/2tb_ext_hd/hddata/mega_muscles/v24_hlsp/GJ163/hlsp_muscles_cxo_acis_gj163_none_v24_component-spec.fits']\n",
      "(62.324167, -53.371111)\n",
      "62.324167 -53.371111\n",
      "62.324167 -53.371111\n",
      "GJ649\n",
      "['/media/david/2tb_ext_hd/hddata/mega_muscles/v24_hlsp/GJ649/hlsp_muscles_xmm_epic_gj649_na_v124_component-spec.fits']\n",
      "(254.536208, 25.741583)\n",
      " \n",
      "254.536208 25.741583\n",
      "GJ674\n",
      "['/media/david/2tb_ext_hd/hddata/mega_muscles/v24_hlsp/GJ674/hlsp_muscles_xmm_epic_gj674_na_v24_component-spec.fits']\n",
      "(262.170708, -46.899694)\n",
      " \n",
      "262.170708 -46.899694\n",
      "GJ699\n",
      "['/media/david/2tb_ext_hd/hddata/mega_muscles/v24_hlsp/GJ699/hlsp_muscles_cxo_acis_gj699_none_v24_component-spec.fits']\n",
      "(269.447917, 4.746194)\n",
      "269.447917 4.746194\n",
      "269.447917 4.746194\n",
      "GJ729\n",
      "['/media/david/2tb_ext_hd/hddata/mega_muscles/v24_hlsp/GJ729/hlsp_muscles_xmm_epic_gj729_na_v24_component-spec.fits']\n",
      "(282.45925, -23.837194)\n",
      " \n",
      "282.45925 -23.837194\n",
      "GJ849\n",
      "['/media/david/2tb_ext_hd/hddata/mega_muscles/v24_hlsp/GJ849/hlsp_muscles_cxo_acis_gj849_none_v24_component-spec.fits']\n",
      "(332.42375, -4.640833)\n",
      "332.42375 -4.640833\n",
      "332.42375 -4.640833\n",
      "L-980-5\n",
      "[]\n",
      "(215.314167, -1.125056)\n",
      "LHS-2686\n",
      "['/media/david/2tb_ext_hd/hddata/mega_muscles/v24_hlsp/LHS-2686/hlsp_muscles_cxo_acis_lhs-2686_none_v24_component-spec.fits']\n",
      "(197.5475, 47.751917)\n",
      "197.5475 47.751917\n",
      "197.5475 47.751917\n",
      "TRAPPIST-1\n",
      "['/media/david/2tb_ext_hd/hddata/mega_muscles/v24_hlsp/TRAPPIST-1/hlsp_muscles_xmm_epic_trappist-1_na_v24_component-spec.fits']\n",
      "(346.627083, -5.043861)\n",
      "346.6271870556 -5.043867832963\n",
      "346.627083 -5.043861\n"
     ]
    }
   ],
   "source": [
    "xrcoords = dict(GJ729=(282.45925,-23.837194),  GJ674=(262.170708,-46.899694),\n",
    "GJ649 =(254.536208,25.741583),GJ1132=(153.716667,-47.156889))\n",
    "xrcoords['TRAPPIST-1'] = (346.627083,-5.043861)\n",
    "newpath = outpath\n",
    "\n",
    "cxopath = '/media/david/2tb_ext_hd/hddata/mega_muscles/xray/cxo/'\n",
    "datasets = os.listdir(cxopath)\n",
    "for dataset in datasets:\n",
    "    evt = glob.glob('{}{}/primary/*evt2.fits.gz'.format(cxopath, dataset))[0]\n",
    "    hdr = fits.getheader(evt, 1)\n",
    "    target = hdr['OBJECT']\n",
    "    if target == '2MASS J14211512-0107199':\n",
    "        target = 'L-980-5'\n",
    "    if target == 'LHS2686':\n",
    "        target = 'LHS-2686'\n",
    "    # print(hdr['OBJECT'], hdr['RA_TARG'], hdr['DEC_TARG'])\n",
    "    xrcoords[target] = (hdr['RA_TARG'], hdr['DEC_TARG'])\n",
    "\n",
    "\n",
    "# TRAPPIST-1=(346.627083,-5.043861)\n",
    "print(xrcoords)\n",
    "\n",
    "\n",
    "for star in stars:\n",
    "    if star != 'GJ676A':\n",
    "        print(star)\n",
    "        starpath = '{}{}/'.format(inpath, star)\n",
    "        \n",
    "        xrays = np.hstack((glob.glob('{}*cxo*.fits'.format(starpath)),glob.glob('{}*xmm*.fits'.format(starpath))))\n",
    "        print(xrays)\n",
    "        coords = xrcoords[star]\n",
    "        print(coords)\n",
    "        \n",
    "\n",
    "\n",
    "        for spec in xrays:\n",
    "            hdul = fits.open(spec)\n",
    "            hdr = hdul[0].header\n",
    "            \n",
    "            print(hdr['RA_TARG'], hdr['DEC_TARG'])\n",
    "            del hdr['RA_TARG']\n",
    "            del hdr['DEC_TARG']\n",
    "    #     #     starts.append(hdr['EXPSTART'])\n",
    "    #     #     ends.append(hdr['EXPEND'])\n",
    "            hdr.append(('RA_TARG', coords[0]))\n",
    "            hdr.append(('DEC_TARG', coords[1]))\n",
    "            print(hdr['RA_TARG'], hdr['DEC_TARG'])\n",
    "            \n",
    "            hdr.append(('DOI', '10.17909/T9DG6F'))\n",
    "            hdr.append(('RADESYS' , 'ICRS'))\n",
    "            hdr.append(('TIMESYS', 'UTC'))\n",
    "            hdr.append(('HLSPVER', 'V{}'.format(version)))\n",
    "            hdr.append(('HSLPID', 'MUSCLES'))\n",
    "            hdr.append(('LICENSE','CC BY 4.0'))\n",
    "            hdr.append(('LICENURL', 'https://creativecommons.org/licenses/by/4.0/'))\n",
    "            if hdr['TARGNAME'] == '2MASS-J23062928-0502285':\n",
    "                hdr['TARGNAME'] = 'TRAPPIST-1'\n",
    "            new_name = (os.path.split(spec)[1]).replace('v{}'.format(oldv), 'v{}'.format(version))\n",
    "            savepath = '{}{}/{}'.format(newpath, star, new_name)\n",
    "            hdul.writeto(savepath, overwrite=True)"
   ]
  },
  {
   "cell_type": "code",
   "execution_count": 46,
   "id": "44f5866c-9cb4-4fbe-882d-fadea795c4c3",
   "metadata": {},
   "outputs": [
    {
     "name": "stdout",
     "output_type": "stream",
     "text": [
      "-----------------------------------------------------------------------------------------\n",
      "GJ1132\n",
      "-----------------------------------------------------------------------------------------\n",
      "/media/david/2tb_ext_hd/hddata/mega_muscles/v26_hlsp_fixed/GJ1132/hlsp_muscles_xmm_epic_gj1132_na_v25_component-spec.fits\n",
      "SIMPLE  =                    T / conforms to FITS standard                      BITPIX  =                    8 / array data type                                NAXIS   =                    0 / number of array dimensions                     EXTEND  =                    T                                                  TELESCOP= 'XMM     '                                                            INSTRUME= 'EPIC    '                                                            GRATING = 'NA      '                                                            DETECTOR= 'MULTI   '                                                            DETECT00= 'PN      '                                                            DETECT01= 'MOS1    '                                                            DETECT02= 'MOS2    '                                                            FILTER  = 'MULTI   '                                                            FILTER00= 'Thin1   '                                                            FILTER01= 'Thin1   '                                                            FILTER02= 'Thin1   '                                                            TARGNAME= 'GJ1132  '                                                            PROPOSID= '15071   '                                                            HLSPNAME= 'Measurements of the Ultraviolet Spectral Characteristics of &'       CONTINUE  'Low-mass Exoplanet Host Stars'                                       HLSPACRN= 'MUSCLES '                                                            HLSPLEAD= 'David J. Wilson'                                                     PR_INV_L= 'Cynthia '                                                            PR_INV_F= 'Froning '                                                            DATE-OBS= '2018-01-10T07:29:19'                                                 EXPSTART=    58128.31202546296                                                  EXPEND  =    58128.81725694444                                                  EXPTIME =              45525.0                                                  EXPDEFN = 'MEAN    '                                                            EXPMIN  =              45525.0                                                  EXPMAX  =              45525.0                                                  EXPMED  =              45525.0                                                  NORMFAC =                  1.0                                                  WAVEMIN =    8.224047660827637                                                  WAVEMAX =    47.98328399658203                                                  WAVEUNIT= 'ang     '                                                            AIRORVAC= 'vac     '                                                            SPECRES =    20.67710113525391                                                  WAVERES =    2.464071273803711                                                  FLUXMIN = 5.31898806003645E-17                                                  FLUXMAX = 5.40389391475028E-16                                                  FLUXUNIT= 'erg/s/cm2/ang'                                                       RA_TARG =           153.716667                                                  DEC_TARG=           -47.156889                                                  DOI     = '10.17909/T9DG6F'                                                     RADESYS = 'ICRS    '                                                            TIMESYS = 'UTC     '                                                            HLSPVER = 'V25     '                                                            HSLPID  = 'MUSCLES '                                                            LICENSE = 'CC BY 4.0'                                                           LICENURL= 'https://creativecommons.org/licenses/by/4.0/'                        END                                                                                                                                                                                                                                                                                                                                                                                                                                                                                                                                                                                                                                                                                                                                                                                                                                                                                                                                                                                                                                                                                                                                                                                                                                                                                                                                                                                                                                                                                                                                                                                                                                                                                                                                                                                                                             \n",
      "-----------------------------------------------------------------------------------------\n",
      "GJ15A\n",
      "-----------------------------------------------------------------------------------------\n",
      "/media/david/2tb_ext_hd/hddata/mega_muscles/v26_hlsp_fixed/GJ15A/hlsp_muscles_cxo_acis_gj15a_none_v24_component-spec.fits\n",
      "SIMPLE  =                    T / conforms to FITS standard                      BITPIX  =                    8 / array data type                                NAXIS   =                    0 / number of array dimensions                     EXTEND  =                    T                                                  AIRORVAC= 'vac     '                                                            DATE-OBS= '2019-02-12T17:26:26'                                                 DETECTOR= 'ACIS-7  '                                                            EXPDEFN = 'MEAN    '                                                            EXPEND  =    58527.04482638889                                                  EXPMAX  =    27487.00000005774                                                  EXPMED  =    27487.00000005774                                                  EXPMIN  =    27487.00000005774                                                  EXPSTART=    58526.72668981482                                                  EXPTIME =    27487.00000005774                                                  FILTER  = 'NA      '                                                            FLUXMAX = 6.17562430078973E-15                                                  FLUXMIN = 1.15085972293362E-15                                                  FLUXUNIT= 'erg/s/cm2/ang'                                                       GRATING = 'NONE    '                                                            HLSPACRN= 'MUSCLES '                                                            HLSPLEAD= 'David J. Wilson'                                                     HLSPNAME= 'Measurements of the Ultraviolet Spectral Characteristics of &'       CONTINUE  'Low-mass Exoplanet Host Stars'                                       INSTRUME= 'ACIS    '                                                            NORMFAC =                  1.0                                                  PROPOSID= '15071   '                                                            PR_INV_F= 'Froning '                                                            PR_INV_L= 'Cynthia '                                                            SPECRES =           12.5981236                                                  TARGNAME= 'GJ15A   '                                                            TELESCOP= 'CXO     '                                                            WAVEMAX =           17.6614628                                                  WAVEMIN =           7.43413401                                                  WAVERES =    1.832012219999999                                                  WAVEUNIT= 'ang     '                                                            RA_TARG =             4.615833                                                  DEC_TARG=            44.025056                                                  DOI     = '10.17909/T9DG6F'                                                     RADESYS = 'ICRS    '                                                            TIMESYS = 'UTC     '                                                            HLSPVER = 'V25     '                                                            HSLPID  = 'MUSCLES '                                                            LICENSE = 'CC BY 4.0'                                                           LICENURL= 'https://creativecommons.org/licenses/by/4.0/'                        END                                                                                                                                                                                                                                                                                                                                                                                                                                                                                                                                                                                                                                                                                                                                                                                                                                                                                                                                                                                                                                                                                                                                                                                                                                                                                                                                                                                                                                                                                                                                                                                                                                                                                                                                                                                                                                                                                                                                                                                                                                                                                                                                                                                                                                                                                                                             \n",
      "-----------------------------------------------------------------------------------------\n",
      "GJ163\n",
      "-----------------------------------------------------------------------------------------\n",
      "/media/david/2tb_ext_hd/hddata/mega_muscles/v26_hlsp_fixed/GJ163/hlsp_muscles_cxo_acis_gj163_none_v24_component-spec.fits\n",
      "SIMPLE  =                    T / conforms to FITS standard                      BITPIX  =                    8 / array data type                                NAXIS   =                    0 / number of array dimensions                     EXTEND  =                    T                                                  AIRORVAC= 'vac     '                                                            DATE-OBS= '2019-03-04T18:25:08'                                                 DETECTOR= 'ACIS-7  '                                                            EXPDEFN = 'MEAN    '                                                            EXPEND  =    58547.14305555556                                                  EXPMAX  =    32452.00000021141                                                  EXPMED  =    32452.00000021141                                                  EXPMIN  =    32452.00000021141                                                  EXPSTART=     58546.7674537037                                                  EXPTIME =    32452.00000021141                                                  FILTER  = 'NA      '                                                            FLUXMAX = 1.32339745588559E-15                                                  FLUXMIN = 4.29487455550931E-16                                                  FLUXUNIT= 'erg/s/cm2/ang'                                                       GRATING = 'NONE    '                                                            HLSPACRN= 'MUSCLES '                                                            HLSPLEAD= 'David J. Wilson'                                                     HLSPNAME= 'Measurements of the Ultraviolet Spectral Characteristics of &'       CONTINUE  'Low-mass Exoplanet Host Stars'                                       INSTRUME= 'ACIS    '                                                            NORMFAC =                  1.0                                                  PROPOSID= '15071   '                                                            PR_INV_F= 'Froning '                                                            PR_INV_L= 'Cynthia '                                                            SPECRES =           11.6878014                                                  TARGNAME= 'GJ163   '                                                            TELESCOP= 'CXO     '                                                            WAVEMAX =           13.9642305                                                  WAVEMIN =    8.840460780000001                                                  WAVERES =    5.415440519999999                                                  WAVEUNIT= 'ang     '                                                            RA_TARG =            62.324167                                                  DEC_TARG=           -53.371111                                                  DOI     = '10.17909/T9DG6F'                                                     RADESYS = 'ICRS    '                                                            TIMESYS = 'UTC     '                                                            HLSPVER = 'V25     '                                                            HSLPID  = 'MUSCLES '                                                            LICENSE = 'CC BY 4.0'                                                           LICENURL= 'https://creativecommons.org/licenses/by/4.0/'                        END                                                                                                                                                                                                                                                                                                                                                                                                                                                                                                                                                                                                                                                                                                                                                                                                                                                                                                                                                                                                                                                                                                                                                                                                                                                                                                                                                                                                                                                                                                                                                                                                                                                                                                                                                                                                                                                                                                                                                                                                                                                                                                                                                                                                                                                                                                                             \n",
      "-----------------------------------------------------------------------------------------\n",
      "GJ649\n",
      "-----------------------------------------------------------------------------------------\n",
      "/media/david/2tb_ext_hd/hddata/mega_muscles/v26_hlsp_fixed/GJ649/hlsp_muscles_xmm_epic_gj649_na_v2524_component-spec.fits\n",
      "SIMPLE  =                    T / conforms to FITS standard                      BITPIX  =                    8 / array data type                                NAXIS   =                    0 / number of array dimensions                     EXTEND  =                    T                                                  TELESCOP= 'XMM     '                                                            INSTRUME= 'EPIC    '                                                            GRATING = 'NA      '                                                            DETECTOR= 'MULTI   '                                                            DETECT00= 'PN      '                                                            DETECT01= 'MOS1    '                                                            DETECT02= 'MOS2    '                                                            FILTER  = 'MULTI   '                                                            FILTER00= 'Medium  '                                                            FILTER01= 'Medium  '                                                            FILTER02= 'Medium  '                                                            TARGNAME= 'GJ649   '                                                            PROPOSID= '15071   '                                                            HLSPNAME= 'Measurements of the Ultraviolet Spectral Characteristics of &'       CONTINUE  'Low-mass Exoplanet Host Stars'                                       HLSPACRN= 'MUSCLES '                                                            HLSPLEAD= 'David J. Wilson'                                                     PR_INV_L= 'Cynthia '                                                            PR_INV_F= 'Froning '                                                            DATE-OBS= '2018-03-03T14:07:42'                                                 EXPSTART=    58180.58868055556                                                  EXPEND  =    58180.77961805555                                                  EXPTIME =              16915.0                                                  EXPDEFN = 'MEAN    '                                                            EXPMIN  =              16915.0                                                  EXPMAX  =              16915.0                                                  EXPMED  =              16915.0                                                  NORMFAC =                  1.0                                                  WAVEMIN =    8.852804183959961                                                  WAVEMAX =    59.44541931152344                                                  WAVEUNIT= 'ang     '                                                            AIRORVAC= 'vac     '                                                            SPECRES =    23.11487770080566                                                  WAVERES =    1.533515930175781                                                  FLUXMIN = 8.02945014698612E-17                                                  FLUXMAX = 4.72188257325803E-15                                                  FLUXUNIT= 'erg/s/cm2/ang'                                                       RA_TARG =           254.536208                                                  DEC_TARG=            25.741583                                                  DOI     = '10.17909/T9DG6F'                                                     RADESYS = 'ICRS    '                                                            TIMESYS = 'UTC     '                                                            HLSPVER = 'V25     '                                                            HSLPID  = 'MUSCLES '                                                            LICENSE = 'CC BY 4.0'                                                           LICENURL= 'https://creativecommons.org/licenses/by/4.0/'                        END                                                                                                                                                                                                                                                                                                                                                                                                                                                                                                                                                                                                                                                                                                                                                                                                                                                                                                                                                                                                                                                                                                                                                                                                                                                                                                                                                                                                                                                                                                                                                                                                                                                                                                                                                                                                                             \n",
      "-----------------------------------------------------------------------------------------\n",
      "GJ674\n",
      "-----------------------------------------------------------------------------------------\n",
      "/media/david/2tb_ext_hd/hddata/mega_muscles/v26_hlsp_fixed/GJ674/hlsp_muscles_xmm_epic_gj674_na_v25_component-spec.fits\n",
      "SIMPLE  =                    T / conforms to FITS standard                      BITPIX  =                    8 / array data type                                NAXIS   =                    0 / number of array dimensions                     EXTEND  =                    T                                                  TELESCOP= 'XMM     '                                                            INSTRUME= 'EPIC    '                                                            GRATING = 'NA      '                                                            DETECTOR= 'MULTI   '                                                            DETECT00= 'PN      '                                                            DETECT01= 'MOS1    '                                                            DETECT02= 'MOS2    '                                                            FILTER  = 'MULTI   '                                                            FILTER00= 'Medium  '                                                            FILTER01= 'Medium  '                                                            FILTER02= 'Medium  '                                                            TARGNAME= 'GJ674   '                                                            PROPOSID= '15071   '                                                            HLSPNAME= 'Measurements of the Ultraviolet Spectral Characteristics of &'       CONTINUE  'Low-mass Exoplanet Host Stars'                                       HLSPACRN= 'MUSCLES '                                                            HLSPLEAD= 'David J. Wilson'                                                     PR_INV_L= 'Cynthia '                                                            PR_INV_F= 'Froning '                                                            DATE-OBS= '2018-04-03T06:37:28'                                                 EXPSTART=    58211.27601851852                                                  EXPEND  =    58211.61050925926                                                  EXPTIME =              29317.0                                                  EXPDEFN = 'MEAN    '                                                            EXPMIN  =              29317.0                                                  EXPMAX  =              29317.0                                                  EXPMED  =              29317.0                                                  NORMFAC =                  1.0                                                  WAVEMIN =    2.650000095367432                                                  WAVEMAX =    60.18000030517578                                                  WAVEUNIT= 'ang     '                                                            AIRORVAC= 'vac     '                                                            SPECRES =    14.77999973297119                                                  WAVERES =  0.09000015258789062                                                  FLUXMIN =                  0.0                                                  FLUXMAX = 7.23375691486817E-14                                                  FLUXUNIT= 'erg/s/cm2/ang'                                                       RA_TARG =           262.170708                                                  DEC_TARG=           -46.899694                                                  DOI     = '10.17909/T9DG6F'                                                     RADESYS = 'ICRS    '                                                            TIMESYS = 'UTC     '                                                            HLSPVER = 'V25     '                                                            HSLPID  = 'MUSCLES '                                                            LICENSE = 'CC BY 4.0'                                                           LICENURL= 'https://creativecommons.org/licenses/by/4.0/'                        END                                                                                                                                                                                                                                                                                                                                                                                                                                                                                                                                                                                                                                                                                                                                                                                                                                                                                                                                                                                                                                                                                                                                                                                                                                                                                                                                                                                                                                                                                                                                                                                                                                                                                                                                                                                                                             \n",
      "-----------------------------------------------------------------------------------------\n",
      "GJ699\n",
      "-----------------------------------------------------------------------------------------\n",
      "/media/david/2tb_ext_hd/hddata/mega_muscles/v26_hlsp_fixed/GJ699/hlsp_muscles_cxo_acis_gj699_none_v24_component-spec.fits\n",
      "SIMPLE  =                    T / conforms to FITS standard                      BITPIX  =                    8 / array data type                                NAXIS   =                    0 / number of array dimensions                     EXTEND  =                    T                                                  AIRORVAC= 'vac     '                                                            DATE-OBS= '2019-06-17T08:52:14'                                                 DETECTOR= 'ACIS-7  '                                                            EXPDEFN = 'MEAN    '                                                            EXPEND  =    58651.72128472223                                                  EXPMAX  =    30385.00000045169                                                  EXPMED  =    30385.00000045169                                                  EXPMIN  =    30385.00000045169                                                  EXPSTART=    58651.36960648148                                                  EXPTIME =    30385.00000045169                                                  FILTER  = 'NA      '                                                            FLUXMAX = 5.06724721178305E-15                                                  FLUXMIN = 1.17589660728769E-15                                                  FLUXUNIT= 'erg/s/cm2/ang'                                                       GRATING = 'NONE    '                                                            HLSPACRN= 'MUSCLES '                                                            HLSPLEAD= 'David J. Wilson'                                                     HLSPNAME= 'Measurements of the Ultraviolet Spectral Characteristics of &'       CONTINUE  'Low-mass Exoplanet Host Stars'                                       INSTRUME= 'ACIS    '                                                            NORMFAC =                  1.0                                                  PROPOSID= '15071   '                                                            PR_INV_F= 'Froning '                                                            PR_INV_L= 'Cynthia '                                                            SPECRES =            13.440836                                                  TARGNAME= 'GJ699   '                                                            TELESCOP= 'CXO     '                                                            WAVEMAX =           20.4997215                                                  WAVEMIN =           7.94986534                                                  WAVERES =           4.65926262                                                  WAVEUNIT= 'ang     '                                                            RA_TARG =           269.447917                                                  DEC_TARG=             4.746194                                                  DOI     = '10.17909/T9DG6F'                                                     RADESYS = 'ICRS    '                                                            TIMESYS = 'UTC     '                                                            HLSPVER = 'V25     '                                                            HSLPID  = 'MUSCLES '                                                            LICENSE = 'CC BY 4.0'                                                           LICENURL= 'https://creativecommons.org/licenses/by/4.0/'                        END                                                                                                                                                                                                                                                                                                                                                                                                                                                                                                                                                                                                                                                                                                                                                                                                                                                                                                                                                                                                                                                                                                                                                                                                                                                                                                                                                                                                                                                                                                                                                                                                                                                                                                                                                                                                                                                                                                                                                                                                                                                                                                                                                                                                                                                                                                                             \n",
      "-----------------------------------------------------------------------------------------\n",
      "GJ729\n",
      "-----------------------------------------------------------------------------------------\n",
      "/media/david/2tb_ext_hd/hddata/mega_muscles/v26_hlsp_fixed/GJ729/hlsp_muscles_xmm_epic_gj729_na_v25_component-spec.fits\n",
      "SIMPLE  =                    T / conforms to FITS standard                      BITPIX  =                    8 / array data type                                NAXIS   =                    0 / number of array dimensions                     EXTEND  =                    T                                                  TELESCOP= 'XMM     '                                                            INSTRUME= 'EPIC    '                                                            GRATING = 'NA      '                                                            DETECTOR= 'MULTI   '                                                            DETECT00= 'PN      '                                                            DETECT01= 'MOS1    '                                                            DETECT02= 'MOS2    '                                                            FILTER  = 'MULTI   '                                                            FILTER00= 'Medium  '                                                            FILTER01= 'Medium  '                                                            FILTER02= 'Medium  '                                                            TARGNAME= 'GJ729   '                                                            PROPOSID= '15071   '                                                            HLSPNAME= 'Measurements of the Ultraviolet Spectral Characteristics of &'       CONTINUE  'Low-mass Exoplanet Host Stars'                                       HLSPACRN= 'MUSCLES '                                                            HLSPLEAD= 'David J. Wilson'                                                     PR_INV_L= 'Cynthia '                                                            PR_INV_F= 'Froning '                                                            DATE-OBS= '2018-04-20T05:25:32'                                                 EXPSTART=    58228.22606481481                                                  EXPEND  =    58228.47072916666                                                  EXPTIME =              21919.0                                                  EXPDEFN = 'MEAN    '                                                            EXPMIN  =              21919.0                                                  EXPMAX  =              21919.0                                                  EXPMED  =              21919.0                                                  NORMFAC =                  1.0                                                  WAVEMIN =    3.270163774490356                                                  WAVEMAX =    60.18293762207031                                                  WAVEUNIT= 'ang     '                                                            AIRORVAC= 'vac     '                                                            SPECRES =     11.8831729888916                                                  WAVERES =  0.05549716949462891                                                  FLUXMIN = 2.49387116453602E-14                                                  FLUXMAX = 3.44118315656963E-13                                                  FLUXUNIT= 'erg/s/cm2/ang'                                                       RA_TARG =            282.45925                                                  DEC_TARG=           -23.837194                                                  DOI     = '10.17909/T9DG6F'                                                     RADESYS = 'ICRS    '                                                            TIMESYS = 'UTC     '                                                            HLSPVER = 'V25     '                                                            HSLPID  = 'MUSCLES '                                                            LICENSE = 'CC BY 4.0'                                                           LICENURL= 'https://creativecommons.org/licenses/by/4.0/'                        END                                                                                                                                                                                                                                                                                                                                                                                                                                                                                                                                                                                                                                                                                                                                                                                                                                                                                                                                                                                                                                                                                                                                                                                                                                                                                                                                                                                                                                                                                                                                                                                                                                                                                                                                                                                                                             \n",
      "-----------------------------------------------------------------------------------------\n",
      "GJ849\n",
      "-----------------------------------------------------------------------------------------\n",
      "/media/david/2tb_ext_hd/hddata/mega_muscles/v26_hlsp_fixed/GJ849/hlsp_muscles_cxo_acis_gj849_none_v24_component-spec.fits\n",
      "SIMPLE  =                    T / conforms to FITS standard                      BITPIX  =                    8 / array data type                                NAXIS   =                    0 / number of array dimensions                     EXTEND  =                    T                                                  AIRORVAC= 'vac     '                                                            DATE-OBS= '2019-06-14T23:16:44'                                                 DETECTOR= 'ACIS-7  '                                                            EXPDEFN = 'MEAN    '                                                            EXPEND  =    58649.33033564815                                                  EXPMAX  =    31137.00000022072                                                  EXPMED  =    31137.00000022072                                                  EXPMIN  =    31137.00000022072                                                  EXPSTART=     58648.9699537037                                                  EXPTIME =    31137.00000022072                                                  FILTER  = 'NA      '                                                            FLUXMAX = 2.93361099315522E-15                                                  FLUXMIN = 2.24449367023478E-16                                                  FLUXUNIT= 'erg/s/cm2/ang'                                                       GRATING = 'NONE    '                                                            HLSPACRN= 'MUSCLES '                                                            HLSPLEAD= 'David J. Wilson'                                                     HLSPNAME= 'Measurements of the Ultraviolet Spectral Characteristics of &'       CONTINUE  'Low-mass Exoplanet Host Stars'                                       INSTRUME= 'ACIS    '                                                            NORMFAC =                  1.0                                                  PROPOSID= '15071   '                                                            PR_INV_F= 'Froning '                                                            PR_INV_L= 'Cynthia '                                                            SPECRES =             14.18892                                                  TARGNAME= 'GJ849   '                                                            TELESCOP= 'CXO     '                                                            WAVEMAX =           32.1174393                                                  WAVEMIN =           8.54878998                                                  WAVERES =    5.065843619999999                                                  WAVEUNIT= 'ang     '                                                            RA_TARG =            332.42375                                                  DEC_TARG=            -4.640833                                                  DOI     = '10.17909/T9DG6F'                                                     RADESYS = 'ICRS    '                                                            TIMESYS = 'UTC     '                                                            HLSPVER = 'V25     '                                                            HSLPID  = 'MUSCLES '                                                            LICENSE = 'CC BY 4.0'                                                           LICENURL= 'https://creativecommons.org/licenses/by/4.0/'                        END                                                                                                                                                                                                                                                                                                                                                                                                                                                                                                                                                                                                                                                                                                                                                                                                                                                                                                                                                                                                                                                                                                                                                                                                                                                                                                                                                                                                                                                                                                                                                                                                                                                                                                                                                                                                                                                                                                                                                                                                                                                                                                                                                                                                                                                                                                                             \n",
      "-----------------------------------------------------------------------------------------\n",
      "LHS-2686\n",
      "-----------------------------------------------------------------------------------------\n",
      "/media/david/2tb_ext_hd/hddata/mega_muscles/v26_hlsp_fixed/LHS-2686/hlsp_muscles_cxo_acis_lhs-2686_none_v24_component-spec.fits\n",
      "SIMPLE  =                    T / conforms to FITS standard                      BITPIX  =                    8 / array data type                                NAXIS   =                    0 / number of array dimensions                     EXTEND  =                    T                                                  AIRORVAC= 'vac     '                                                            DATE-OBS= '2019-03-08T11:58:07'                                                 DETECTOR= 'ACIS-7  '                                                            EXPDEFN = 'MEAN    '                                                            EXPEND  =    58550.84653935185                                                  EXPMAX  =    30053.99999977089                                                  EXPMED  =    30053.99999977089                                                  EXPMIN  =    30053.99999977089                                                  EXPSTART=    58550.49869212963                                                  EXPTIME =    30053.99999977089                                                  FILTER  = 'NA      '                                                            FLUXMAX = 1.80563040479750E-14                                                  FLUXMIN = 3.82772155547620E-15                                                  FLUXUNIT= 'erg/s/cm2/ang'                                                       GRATING = 'NONE    '                                                            HLSPACRN= 'MUSCLES '                                                            HLSPLEAD= 'David J. Wilson'                                                     HLSPNAME= 'Measurements of the Ultraviolet Spectral Characteristics of &'       CONTINUE  'Low-mass Exoplanet Host Stars'                                       INSTRUME= 'ACIS    '                                                            NORMFAC =                  1.0                                                  PROPOSID= '15071   '                                                            PR_INV_F= 'Froning '                                                            PR_INV_L= 'Cynthia '                                                            SPECRES =           11.8822489                                                  TARGNAME= 'LHS-2686'                                                            TELESCOP= 'CXO     '                                                            WAVEMAX =           18.2750549                                                  WAVEMIN =           5.22659969                                                  WAVERES =          -2.14566228                                                  WAVEUNIT= 'ang     '                                                            RA_TARG =             197.5475                                                  DEC_TARG=            47.751917                                                  DOI     = '10.17909/T9DG6F'                                                     RADESYS = 'ICRS    '                                                            TIMESYS = 'UTC     '                                                            HLSPVER = 'V25     '                                                            HSLPID  = 'MUSCLES '                                                            LICENSE = 'CC BY 4.0'                                                           LICENURL= 'https://creativecommons.org/licenses/by/4.0/'                        END                                                                                                                                                                                                                                                                                                                                                                                                                                                                                                                                                                                                                                                                                                                                                                                                                                                                                                                                                                                                                                                                                                                                                                                                                                                                                                                                                                                                                                                                                                                                                                                                                                                                                                                                                                                                                                                                                                                                                                                                                                                                                                                                                                                                                                                                                                                             \n",
      "-----------------------------------------------------------------------------------------\n",
      "TRAPPIST-1\n",
      "-----------------------------------------------------------------------------------------\n",
      "/media/david/2tb_ext_hd/hddata/mega_muscles/v26_hlsp_fixed/TRAPPIST-1/hlsp_muscles_xmm_epic_trappist-1_na_v25_component-spec.fits\n",
      "SIMPLE  =                    T / conforms to FITS standard                      BITPIX  =                    8 / array data type                                NAXIS   =                    0 / number of array dimensions                     EXTEND  =                    T                                                  TELESCOP= 'XMM     '                                                            INSTRUME= 'EPIC    '                                                            GRATING = 'NA      '                                                            DETECTOR= 'MULTI   '                                                            DETECT00= 'PN      '                                                            DETECT01= 'MOS1    '                                                            DETECT02= 'MOS2    '                                                            FILTER  = 'MULTI   '                                                            FILTER00= 'Thin1   '                                                            FILTER01= 'Thin1   '                                                            FILTER02= 'Thin1   '                                                            TARGNAME= 'TRAPPIST-1'                                                          PROPOSID=                15071                                                  HLSPNAME= 'Measurements of the Ultraviolet Spectral Characteristics of &'       CONTINUE  'Low-mass Exoplanet Host Stars'                                       HLSPACRN= 'MUSCLES '                                                            HLSPLEAD= 'David J. Wilson'                                                     PR_INV_L= 'Froning '                                                            PR_INV_F= 'Cynthia '                                                            DATE-OBS= '2018-12-10T04:36:47'                                                 EXPSTART=    58462.19221064815                                                  EXPEND  =    58462.43945601852                                                  EXPTIME =              23518.0                                                  EXPDEFN = 'MEAN    '                                                            EXPMIN  =              23518.0                                                  EXPMAX  =              23518.0                                                  EXPMED  =              23518.0                                                  NORMFAC =                  1.0                                                  WAVEMIN =    14.10000038146973                                                  WAVEMAX =    50.09999847412109                                                  WAVEUNIT= 'ang     '                                                            AIRORVAC= 'vac     '                                                            SPECRES =    25.32999992370605                                                  WAVERES =    5.850000381469727                                                  FLUXMIN = 9.12903589363164E-17                                                  FLUXMAX = 9.29186461050258E-16                                                  FLUXUNIT= 'erg/s/cm2/ang'                                                       RA_TARG =           346.627083                                                  DEC_TARG=            -5.043861                                                  DOI     = '10.17909/T9DG6F'                                                     RADESYS = 'ICRS    '                                                            TIMESYS = 'UTC     '                                                            HLSPVER = 'V25     '                                                            HSLPID  = 'MUSCLES '                                                            LICENSE = 'CC BY 4.0'                                                           LICENURL= 'https://creativecommons.org/licenses/by/4.0/'                        END                                                                                                                                                                                                                                                                                                                                                                                                                                                                                                                                                                                                                                                                                                                                                                                                                                                                                                                                                                                                                                                                                                                                                                                                                                                                                                                                                                                                                                                                                                                                                                                                                                                                                                                                                                                                                             \n"
     ]
    }
   ],
   "source": [
    "for star in stars:\n",
    "    if star not in ['GJ676A', 'L-980-5']:\n",
    "        print('-----------------------------------------------------------------------------------------')\n",
    "        \n",
    "        print(star)\n",
    "        print('-----------------------------------------------------------------------------------------')\n",
    "        starpath = '{}{}/'.format(newpath, star)\n",
    "        \n",
    "        xrays = np.hstack((glob.glob('{}*cxo*.fits'.format(starpath)),glob.glob('{}*xmm*v25*.fits'.format(starpath))))\n",
    "        print(xrays[0])\n",
    "        hdr = fits.getheader(xrays[0])\n",
    "        print(hdr)"
   ]
  },
  {
   "cell_type": "code",
   "execution_count": null,
   "id": "be550ce3-abfc-4fa7-a12b-a73f829597fd",
   "metadata": {},
   "outputs": [],
   "source": []
  }
 ],
 "metadata": {
  "kernelspec": {
   "display_name": "Python 3 (ipykernel)",
   "language": "python",
   "name": "python3"
  },
  "language_info": {
   "codemirror_mode": {
    "name": "ipython",
    "version": 3
   },
   "file_extension": ".py",
   "mimetype": "text/x-python",
   "name": "python",
   "nbconvert_exporter": "python",
   "pygments_lexer": "ipython3",
   "version": "3.11.9"
  }
 },
 "nbformat": 4,
 "nbformat_minor": 5
}
