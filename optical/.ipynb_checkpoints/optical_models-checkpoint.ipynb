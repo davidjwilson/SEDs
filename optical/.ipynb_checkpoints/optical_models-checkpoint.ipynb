{
 "cells": [
  {
   "cell_type": "markdown",
   "metadata": {},
   "source": [
    "Getting the btsettl PHOENIX models for the MM stars"
   ]
  },
  {
   "cell_type": "code",
   "execution_count": 1,
   "metadata": {},
   "outputs": [],
   "source": [
    "import numpy as np\n",
    "import matplotlib.pyplot as plt\n",
    "import astropy.io.fits as fits\n",
    "import os\n",
    "import glob\n",
    "from scipy.interpolate import interp1d\n",
    "from scipy.io.idl import readsav\n",
    "from astropy.table import Table\n",
    "from astropy.io import ascii\n",
    "import astropy.units as u\n",
    "from scipy.optimize import leastsq\n",
    "import astropy.constants as const\n",
    "from astropy.convolution import convolve, Box1DKernel\n",
    "from astropy.modeling import models, fitting\n",
    "import prepare_phoenix as pp\n",
    "\n",
    "#matplotlib set up\n",
    "%matplotlib inline\n",
    "from matplotlib import rcParams\n",
    "rcParams[\"figure.figsize\"] = (14, 5)\n",
    "rcParams[\"font.size\"] = 20"
   ]
  },
  {
   "cell_type": "code",
   "execution_count": 2,
   "metadata": {},
   "outputs": [],
   "source": [
    "params = Table.read('stellar_parameters.csv')"
   ]
  },
  {
   "cell_type": "code",
   "execution_count": 3,
   "metadata": {},
   "outputs": [
    {
     "data": {
      "text/html": [
       "<i>Table length=12</i>\n",
       "<table id=\"table139707768928784\" class=\"table-striped table-bordered table-condensed\">\n",
       "<thead><tr><th>Target</th><th>RAJ2000</th><th>DEJ2000</th><th>Jmag</th><th>J_e</th><th>Hmag</th><th>H_e</th><th>Kmag</th><th>K_e</th><th>Rmag</th><th>R_e</th><th>spt</th><th>L_bol</th><th>L_bol_e</th><th>Mass</th><th>Mass_e</th><th>Radius</th><th>Radius_e</th><th>Teff</th><th>Teff_e</th><th>parallax</th><th>distance</th><th>P_rot_d</th></tr></thead>\n",
       "<thead><tr><th>str10</th><th>float64</th><th>float64</th><th>float64</th><th>float64</th><th>float64</th><th>float64</th><th>float64</th><th>float64</th><th>float64</th><th>float64</th><th>str4</th><th>float64</th><th>float64</th><th>float64</th><th>float64</th><th>float64</th><th>float64</th><th>int64</th><th>int64</th><th>float64</th><th>float64</th><th>float64</th></tr></thead>\n",
       "<tr><td>GJ 1132</td><td>153.716027</td><td>-47.156796</td><td>9.245</td><td>0.026</td><td>8.666</td><td>0.031</td><td>8.322</td><td>0.027</td><td>13.098</td><td>0.11</td><td>M3.5</td><td>1.67e+31</td><td>5e+29</td><td>0.194</td><td>0.005</td><td>0.215</td><td>0.009</td><td>3196</td><td>72</td><td>83.07</td><td>12.03804021</td><td>126.59</td></tr>\n",
       "<tr><td>GJ 676A</td><td>262.546646</td><td>-51.637012</td><td>6.711</td><td>0.02</td><td>6.082</td><td>0.024</td><td>5.825</td><td>0.029</td><td>8.675</td><td>0.012</td><td>M0</td><td>3.404e+32</td><td>8.3e+30</td><td>0.631</td><td>0.017</td><td>0.62</td><td>0.03</td><td>4014</td><td>94</td><td>63.07</td><td>15.85539876</td><td>41.2</td></tr>\n",
       "<tr><td>GJ 15A</td><td>4.594036</td><td>44.022842</td><td>5.252</td><td>0.264</td><td>4.476</td><td>0.2</td><td>4.018</td><td>0.02</td><td>7.9</td><td>0.012</td><td>M1</td><td>8.61e+31</td><td>7e+29</td><td>0.393</td><td>0.009</td><td>0.385</td><td>0.002</td><td>3601</td><td>12</td><td>280.74</td><td>3.562014676</td><td>-1.0</td></tr>\n",
       "<tr><td>GJ 649</td><td>254.536873</td><td>25.74423</td><td>6.448</td><td>0.021</td><td>5.865</td><td>0.02</td><td>5.624</td><td>0.016</td><td>8.685</td><td>0.012</td><td>M1</td><td>1.674e+32</td><td>1.7e+30</td><td>0.524</td><td>0.012</td><td>0.531</td><td>0.012</td><td>3621</td><td>41</td><td>96.38</td><td>10.3755966</td><td>-1.0</td></tr>\n",
       "<tr><td>GJ 163</td><td>62.315307</td><td>-53.373737</td><td>7.948</td><td>0.026</td><td>7.428</td><td>0.04</td><td>7.135</td><td>0.021</td><td>10.734</td><td>0.012</td><td>M3.5</td><td>8.28e+31</td><td>2.4e+30</td><td>0.405</td><td>0.01</td><td>0.409</td><td>0.017</td><td>3460</td><td>76</td><td>66.59</td><td>15.01726986</td><td>61.0</td></tr>\n",
       "<tr><td>GJ 849</td><td>332.417906</td><td>-4.640765</td><td>6.51</td><td>0.024</td><td>5.899</td><td>0.044</td><td>5.594</td><td>0.017</td><td>9.279</td><td>0.012</td><td>M3.5</td><td>1.105e+32</td><td>1e+30</td><td>0.465</td><td>0.011</td><td>0.464</td><td>0.018</td><td>3492</td><td>70</td><td>113.25</td><td>8.830022075</td><td>39.2</td></tr>\n",
       "<tr><td>GJ 674</td><td>262.166316</td><td>-46.89513</td><td>5.711</td><td>0.019</td><td>5.154</td><td>0.033</td><td>4.855</td><td>0.018</td><td>8.337</td><td>0.012</td><td>M2.5</td><td>6.03e+31</td><td>1.4e+30</td><td>0.353</td><td>0.008</td><td>0.361</td><td>0.012</td><td>3404</td><td>59</td><td>220.24</td><td>4.540501271</td><td>32.9</td></tr>\n",
       "<tr><td>GJ 699</td><td>269.452044</td><td>4.694597</td><td>5.244</td><td>0.02</td><td>4.834</td><td>0.034</td><td>4.524</td><td>0.02</td><td>8.298</td><td>0.012</td><td>M4</td><td>1.3e+31</td><td>2e+29</td><td>0.161</td><td>0.004</td><td>0.187</td><td>0.001</td><td>3223</td><td>17</td><td>548.31</td><td>1.823785815</td><td>130.4</td></tr>\n",
       "<tr><td>L 980-5</td><td>215.313034</td><td>-1.122204</td><td>8.948</td><td>0.03</td><td>8.391</td><td>0.031</td><td>8.093</td><td>0.026</td><td>13.02</td><td>0.15</td><td>M3.5</td><td>2.49e+31</td><td>8e+29</td><td>0.232</td><td>0.006</td><td>0.25</td><td>0.01</td><td>3278</td><td>74</td><td>74.66</td><td>13.39405304</td><td>92.23</td></tr>\n",
       "<tr><td>LHS 2686</td><td>197.552869</td><td>47.755291</td><td>9.584</td><td>0.02</td><td>8.995</td><td>0.017</td><td>8.687</td><td>0.016</td><td>14.249</td><td>0.13</td><td>M5</td><td>1.08e+31</td><td>2e+29</td><td>0.157</td><td>0.004</td><td>0.182</td><td>0.008</td><td>3119</td><td>70</td><td>76.1</td><td>13.14060447</td><td>28.8</td></tr>\n",
       "<tr><td>GJ 729</td><td>282.455404</td><td>-23.836149</td><td>6.222</td><td>0.018</td><td>5.655</td><td>0.034</td><td>5.37</td><td>0.016</td><td>9.278</td><td>0.012</td><td>M3.5</td><td>1.537e+31</td><td>1.8e+29</td><td>0.177</td><td>0.004</td><td>0.2</td><td>0.008</td><td>3248</td><td>68</td><td>336.72</td><td>2.969826562</td><td>2.84</td></tr>\n",
       "<tr><td>Trappist-1</td><td>346.622013</td><td>-5.041274</td><td>11.354</td><td>0.022</td><td>10.718</td><td>0.021</td><td>10.296</td><td>0.023</td><td>16.466</td><td>0.065</td><td>M8</td><td>2.336e+30</td><td>8.5e+28</td><td>0.0898</td><td>0.0025</td><td>0.112</td><td>0.006</td><td>2619</td><td>71</td><td>82.58</td><td>12.10946961</td><td>3.3</td></tr>\n",
       "</table>"
      ],
      "text/plain": [
       "<Table length=12>\n",
       "  Target    RAJ2000    DEJ2000     Jmag  ... Teff_e parallax   distance  P_rot_d\n",
       "  str10     float64    float64   float64 ... int64  float64    float64   float64\n",
       "---------- ---------- ---------- ------- ... ------ -------- ----------- -------\n",
       "   GJ 1132 153.716027 -47.156796   9.245 ...     72    83.07 12.03804021  126.59\n",
       "   GJ 676A 262.546646 -51.637012   6.711 ...     94    63.07 15.85539876    41.2\n",
       "    GJ 15A   4.594036  44.022842   5.252 ...     12   280.74 3.562014676    -1.0\n",
       "    GJ 649 254.536873   25.74423   6.448 ...     41    96.38  10.3755966    -1.0\n",
       "    GJ 163  62.315307 -53.373737   7.948 ...     76    66.59 15.01726986    61.0\n",
       "    GJ 849 332.417906  -4.640765    6.51 ...     70   113.25 8.830022075    39.2\n",
       "    GJ 674 262.166316  -46.89513   5.711 ...     59   220.24 4.540501271    32.9\n",
       "    GJ 699 269.452044   4.694597   5.244 ...     17   548.31 1.823785815   130.4\n",
       "   L 980-5 215.313034  -1.122204   8.948 ...     74    74.66 13.39405304   92.23\n",
       "  LHS 2686 197.552869  47.755291   9.584 ...     70     76.1 13.14060447    28.8\n",
       "    GJ 729 282.455404 -23.836149   6.222 ...     68   336.72 2.969826562    2.84\n",
       "Trappist-1 346.622013  -5.041274  11.354 ...     71    82.58 12.10946961     3.3"
      ]
     },
     "execution_count": 3,
     "metadata": {},
     "output_type": "execute_result"
    }
   ],
   "source": [
    "params"
   ]
  },
  {
   "cell_type": "code",
   "execution_count": 4,
   "metadata": {},
   "outputs": [
    {
     "name": "stdout",
     "output_type": "stream",
     "text": [
      "3196 5.060992437402149\n",
      "4014 4.65331360755076\n",
      "3601 4.861538718661559\n",
      "3621 4.707209872123922\n",
      "3460 4.822076034503119\n",
      "3492 4.772484619083325\n",
      "3404 4.87082792887964\n",
      "3223 5.101210290261985\n",
      "3278 5.007675594849958\n",
      "3119 5.113824503742217\n",
      "3248 5.083980902336978\n",
      "2619 5.292907918630075\n"
     ]
    }
   ],
   "source": [
    "G = const.G\n",
    "M = const.M_sun.to(u.kg)\n",
    "R = const.R_sun.to(u.m)\n",
    "for m, r, t in zip(params['Mass'], params['Radius'], params['Teff']):\n",
    "    g = G*(m*M)/(r*R)**2\n",
    "    g =  g.to(u.cm/u.s**2)\n",
    "    print(t,np.log10(g.value))\n",
    "    #print(logg)"
   ]
  },
  {
   "cell_type": "code",
   "execution_count": 5,
   "metadata": {},
   "outputs": [
    {
     "data": {
      "text/plain": [
       "\"G = const.G\\nM = const.M_sun.to(u.kg)\\nR = const.R_sun.to(u.m)\\nsave_path = 'interpolated_models/'\\nrepo = '/media/david/5tb_storage1/muscles/btsettl_models/'\\nfor row in params:\\n    star = row['Target']\\n    if star != 'Trappist-1':\\n        g = (G*(row['Mass']*M)/(row['Radius']*R)**2).to(u.cm/u.s**2)\\n        star_params = {'Teff': row['Teff'], 'logg': np.log10(g.value), 'FeH': 0.00, 'aM': 0, 'radius':row['Radius']*u.R_sun, 'distance':row['distance']*u.pc}\\n        \\n        pp.make_phoenix_spectrum(star, save_path, repo, star_params, save_ecsv=True, plot=True)\""
      ]
     },
     "execution_count": 5,
     "metadata": {},
     "output_type": "execute_result"
    }
   ],
   "source": [
    "###### pp.make_phoenix_spectrum(star, save_path, repo, star_params, save_ecsv=False, plot=False)\n",
    "#star_params = {'Teff': 2628, 'logg': 5.21, 'FeH': 0.00, 'aM': 0, 'radius':1.16*u.R_jup, 'distance':12.43*u.pc}\n",
    "G = const.G\n",
    "M = const.M_sun.to(u.kg)\n",
    "R = const.R_sun.to(u.m)\n",
    "save_path = 'interpolated_models/'\n",
    "repo = '/media/david/5tb_storage1/muscles/btsettl_models/'\n",
    "for row in params:\n",
    "    star = row['Target']\n",
    "    if star != 'Trappist-1':\n",
    "        g = (G*(row['Mass']*M)/(row['Radius']*R)**2).to(u.cm/u.s**2)\n",
    "        star_params = {'Teff': row['Teff'], 'logg': np.log10(g.value), 'FeH': 0.00, 'aM': 0, 'radius':row['Radius']*u.R_sun, 'distance':row['distance']*u.pc}\n",
    "        \n",
    "        pp.make_phoenix_spectrum(star, save_path, repo, star_params, save_ecsv=True, plot=True)"
   ]
  },
  {
   "cell_type": "code",
   "execution_count": 6,
   "metadata": {},
   "outputs": [
    {
     "data": {
      "text/plain": [
       "['interpolated_models/GJ_674_phoenix_interpolated.ecsv',\n",
       " 'interpolated_models/GJ_699_phoenix_interpolated.ecsv',\n",
       " 'interpolated_models/LHS_2686_phoenix_interpolated.ecsv',\n",
       " 'interpolated_models/GJ_649_phoenix_interpolated.ecsv',\n",
       " 'interpolated_models/GJ_15A_phoenix_interpolated.ecsv',\n",
       " 'interpolated_models/GJ_676A_phoenix_interpolated.ecsv',\n",
       " 'interpolated_models/GJ_849_phoenix_interpolated.ecsv',\n",
       " 'interpolated_models/GJ_163_phoenix_interpolated.ecsv',\n",
       " 'interpolated_models/GJ_729_phoenix_interpolated.ecsv',\n",
       " 'interpolated_models/GJ_1132_phoenix_interpolated.ecsv',\n",
       " 'interpolated_models/L_980-5_phoenix_interpolated.ecsv']"
      ]
     },
     "execution_count": 6,
     "metadata": {},
     "output_type": "execute_result"
    }
   ],
   "source": [
    "glob.glob('interpolated_models/*ecsv')"
   ]
  },
  {
   "cell_type": "code",
   "execution_count": 7,
   "metadata": {},
   "outputs": [
    {
     "name": "stdout",
     "output_type": "stream",
     "text": [
      "[[4000, 4100], [4.5, 5.0], [0.0, 0.0], [0.0, 0.0]]\n",
      "[{'Teff': 4000, 'logg': 4.5, 'FeH': 0.0, 'aM': 0.0}, {'Teff': 4000, 'logg': 5.0, 'FeH': 0.0, 'aM': 0.0}, {'Teff': 4100, 'logg': 4.5, 'FeH': 0.0, 'aM': 0.0}, {'Teff': 4100, 'logg': 5.0, 'FeH': 0.0, 'aM': 0.0}]\n",
      "lte040.0-4.5-0.0a+0.0.BT-Settl.spec.7\n",
      "lte040.0-5.0-0.0a+0.0.BT-Settl.spec.7\n",
      "lte041.0-4.5-0.0a+0.0.BT-Settl.spec.7\n",
      "File Badly Formatted --- trying again...\n",
      "lte041.0-5.0-0.0a+0.0.BT-Settl.spec.7\n",
      "File Badly Formatted --- trying again...\n",
      "1330401 100.0 1000000.0\n",
      "1330401 100.0 1000000.0\n",
      "1210401 100.0 1000000.0\n",
      "1210401 100.0 1000000.0\n"
     ]
    },
    {
     "data": {
      "image/png": "[encoded data removed]",
      "text/plain": [
       "<Figure size 1008x360 with 1 Axes>"
      ]
     },
     "metadata": {
      "needs_background": "light"
     },
     "output_type": "display_data"
    }
   ],
   "source": [
    "G = const.G\n",
    "M = const.M_sun.to(u.kg)\n",
    "R = const.R_sun.to(u.m)\n",
    "save_path = 'interpolated_models/'\n",
    "repo = '/media/david/5tb_storage1/muscles/btsettl_models/'\n",
    "for row in params:\n",
    "    star = row['Target']\n",
    "    if star == 'GJ 676A':\n",
    "        g = (G*(row['Mass']*M)/(row['Radius']*R)**2).to(u.cm/u.s**2)\n",
    "        star_params = {'Teff': row['Teff'], 'logg': np.log10(g.value), 'FeH': 0.00, 'aM': 0, 'radius':row['Radius']*u.R_sun, 'distance':row['distance']*u.pc}\n",
    "        \n",
    "        pp.make_phoenix_spectrum(star, save_path, repo, star_params, save_ecsv=True, plot=True)"
   ]
  },
  {
   "cell_type": "code",
   "execution_count": 8,
   "metadata": {},
   "outputs": [
    {
     "data": {
      "text/plain": [
       "\"specs = glob.glob('interpolated_models/*ecsv')\\nfor sp in specs:\\n    data = Table.read(sp)\\n    plt.plot(data['WAVELENGTH'], data['FLUX'])\\n    plt.xscale('log')\\n    plt.yscale('log')\\n    plt.xlim(800, 1e7)\\n    plt.ylim(1e-6, 1e25)\""
      ]
     },
     "execution_count": 8,
     "metadata": {},
     "output_type": "execute_result"
    }
   ],
   "source": [
    "\"\"\"specs = glob.glob('interpolated_models/*ecsv')\n",
    "for sp in specs:\n",
    "    data = Table.read(sp)\n",
    "    plt.plot(data['WAVELENGTH'], data['FLUX'])\n",
    "    plt.xscale('log')\n",
    "    plt.yscale('log')\n",
    "    plt.xlim(800, 1e7)\n",
    "    plt.ylim(1e-6, 1e25)\"\"\""
   ]
  },
  {
   "cell_type": "code",
   "execution_count": 9,
   "metadata": {},
   "outputs": [
    {
     "data": {
      "image/png": "[encoded data removed]",
      "text/plain": [
       "<Figure size 1008x360 with 1 Axes>"
      ]
     },
     "metadata": {
      "needs_background": "light"
     },
     "output_type": "display_data"
    }
   ],
   "source": [
    "data = Table.read('interpolated_models/GJ_676A_phoenix_interpolated.ecsv')\n",
    "plt.plot(data['WAVELENGTH'], data['FLUX'])\n",
    "plt.xscale('log')\n",
    "plt.yscale('log')"
   ]
  },
  {
   "cell_type": "code",
   "execution_count": 10,
   "metadata": {},
   "outputs": [
    {
     "data": {
      "text/plain": [
       "(100.0, 1e+20)"
      ]
     },
     "execution_count": 10,
     "metadata": {},
     "output_type": "execute_result"
    },
    {
     "data": {
      "image/png": "[encoded data removed]",
      "text/plain": [
       "<Figure size 1008x360 with 1 Axes>"
      ]
     },
     "metadata": {
      "needs_background": "light"
     },
     "output_type": "display_data"
    }
   ],
   "source": [
    "plt.plot(data['WAVELENGTH'], data['FLUX'])\n",
    "plt.xscale('log')\n",
    "plt.yscale('log')\n",
    "plt.xlim(800, 2000)\n",
    "plt.ylim(1e2, 1e20)"
   ]
  },
  {
   "cell_type": "code",
   "execution_count": 11,
   "metadata": {},
   "outputs": [
    {
     "ename": "IndentationError",
     "evalue": "unexpected indent (<ipython-input-11-73bace39b648>, line 4)",
     "output_type": "error",
     "traceback": [
      "\u001b[0;36m  File \u001b[0;32m\"<ipython-input-11-73bace39b648>\"\u001b[0;36m, line \u001b[0;32m4\u001b[0m\n\u001b[0;31m    \"\"\"\u001b[0m\n\u001b[0m    ^\u001b[0m\n\u001b[0;31mIndentationError\u001b[0m\u001b[0;31m:\u001b[0m unexpected indent\n"
     ]
    }
   ],
   "source": [
    "\"\"\"def extract_spectrum(filepath):\n",
    "    \"\"\"\n",
    "  #  Extracts the spectrum from the Lyon files, which is non-trivial. Adapts code by JSP. \n",
    "    \"\"\"\n",
    "    #nameout = unzip_file(filepath)\n",
    "    wavemin, wavemax, DF = 0, 3000, 8\n",
    "    \"\"\"\n",
    " #   phoenixR = ascii.read(filepath,format=\"fixed_width_no_header\",col_starts=(0,14),col_ends=(12,25),delimiter=\" \",names=('Wave','Spec'))\n",
    " #   ph1, jj = np.unique(np.array(phoenixR['Wave']),return_index=True)\n",
    " #   phoenix = np.zeros((len(ph1),2))\n",
    " #   for kk in range(len(jj)):\n",
    "  #      line = phoenixR['Spec'][jj[kk]]\n",
    "        #if kk < 10:\n",
    "         #   print(line)\n",
    "  #      if line[-1] == '-':\n",
    "   #         line = line[:-1]\n",
    " #       phoenix[kk,1] = np.float64(line.replace(\"D\",\"E\"))\n",
    "   # phoenix[:,0] = ph1\n",
    "    \"\"\"     \n",
    "    try:\n",
    "        phoenixR = ascii.read(filepath,format=\"fixed_width_no_header\",col_starts=(0,14),col_ends=(12,25),delimiter=\" \",names=('Wave','Spec'))\n",
    "        ph1, jj = np.unique(np.array(phoenixR['Wave']),return_index=True)\n",
    "        phoenix = np.zeros((len(ph1),2))\n",
    "        for kk in range(len(jj)):\n",
    "            phoenix[kk,1] = np.float64(phoenixR['Spec'][jj[kk]].replace(\"D\",\"E\"))\n",
    "        phoenix[:,0] = ph1\n",
    "    except:\n",
    "            try:\n",
    "                print(\"File Badly Formatted --- trying again...\")\n",
    "                phoenixR = ascii.read(filepath,format=\"fixed_width_no_header\",col_starts=(0,13),col_ends=(12,24),delimiter=\" \",names=('Wave','Spec'))\n",
    "                ph1, jj = np.unique(np.array(phoenixR['Wave']),return_index=True)\n",
    "                phoenix = np.zeros((len(ph1),2))\n",
    "                for kk in range(len(jj)):\n",
    "                    phoenix[kk,1] = np.float64(phoenixR['Spec'][jj[kk]].replace(\"D\",\"E\"))\n",
    "                phoenix[:,0] = ph1\n",
    "            except:\n",
    "                print(\"... and again ... \")\n",
    "                phoenixR = ascii.read(filepath,format=\"no_header\",delimiter=\" \")\n",
    "                temp = np.zeros(len(phoenixR['col1']))\n",
    "                for kk in range(len(temp)):\n",
    "                    temp[kk] = np.float64(phoenixR['col1'][kk].replace(\"D\",\"E\"))\n",
    "                ph1, jj = np.unique(temp,return_index=True)\n",
    "                phoenix = np.zeros((len(ph1),2))\n",
    "                for kk in range(len(jj)):\n",
    "                    phoenix[kk,0] = np.float64(phoenixR['col1'][jj[kk]].replace(\"D\",\"E\"))\n",
    "                    phoenix[kk,1] = np.float64(phoenixR['col2'][jj[kk]].replace(\"D\",\"E\"))\n",
    "    \n",
    "    ind = np.where( (phoenix[:,0] <= wavemax) & (phoenix[:,0] >= wavemin))[0]  \n",
    "    xraw = phoenix[ind,0]\n",
    "    i = 0\n",
    "    while i < 10:\n",
    "        print (phoenix[ind,0][i], phoenix[ind,1][i])\n",
    "        i+=1\n",
    "    yraw = np.power(10.,phoenix[ind,1] + DF)\n",
    "    return xraw, yraw\n",
    "\n",
    "gj_specs =['lte040.0-4.5-0.0a+0.0.BT-Settl.spec.7','lte041.0-5.0-0.0a+0.0.BT-Settl.spec.7']\n",
    "for sp in gj_specs:\n",
    "    print(sp)\n",
    "    filepath = repo+sp\n",
    "    w, f = extract_spectrum(filepath)\n",
    "    plt.plot(w,f)\n",
    "    plt.xscale('log')\n",
    "    plt.yscale('log')\n",
    "    plt.show()\"\"\""
   ]
  },
  {
   "cell_type": "code",
   "execution_count": null,
   "metadata": {},
   "outputs": [],
   "source": []
  },
  {
   "cell_type": "code",
   "execution_count": null,
   "metadata": {},
   "outputs": [],
   "source": []
  },
  {
   "cell_type": "code",
   "execution_count": null,
   "metadata": {},
   "outputs": [],
   "source": [
    "    # 145.6500 -9.02815D+01 -8.25000D+01   3  20    618.6719 1000 128    891.3070    7 128      0.0000    0 129  1000  6.186719D+02 -1.659000D+00  1.240001D-04     7  8.913070D+02 -1.536133D+00  8.758349D-02   1   1  6.34802D+07  6.01154D+07\n",
    "     #    145.7000-8.97833D+01-7.98488D+01   3  19    618.6719 1000 128    892.6923    7 128      0.0000    0 129  1000 6.186719D+02-1.659000D+00 1.240001D-04     7 8.926923D+02-1.389459D+00 8.758349D-02   1   1 2.10674D+07 2.07329D+07"
   ]
  },
  {
   "cell_type": "code",
   "execution_count": null,
   "metadata": {},
   "outputs": [],
   "source": [
    "for sp in gj_specs:\n",
    "    print(sp)\n",
    "    filepath = repo+sp\n",
    "    w, f = extract_spectrum(filepath)\n",
    "    mask = (w > 140) & (w < 150)\n",
    "    plt.plot(w[mask],f[mask])\n",
    "   # plt.xscale('log')\n",
    "    #plt.yscale('log')\n",
    "    plt.show()"
   ]
  },
  {
   "cell_type": "code",
   "execution_count": null,
   "metadata": {},
   "outputs": [],
   "source": []
  }
 ],
 "metadata": {
  "kernelspec": {
   "display_name": "Python 3",
   "language": "python",
   "name": "python3"
  },
  "language_info": {
   "codemirror_mode": {
    "name": "ipython",
    "version": 3
   },
   "file_extension": ".py",
   "mimetype": "text/x-python",
   "name": "python",
   "nbconvert_exporter": "python",
   "pygments_lexer": "ipython3",
   "version": "3.7.7"
  }
 },
 "nbformat": 4,
 "nbformat_minor": 4
}
