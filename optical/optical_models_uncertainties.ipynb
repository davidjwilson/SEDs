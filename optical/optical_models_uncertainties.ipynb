{
 "cells": [
  {
   "cell_type": "markdown",
   "metadata": {},
   "source": [
    "Can I generate uncertainties for the Phoenix models using Monte Carlo? Is it too computationally expensive?"
   ]
  },
  {
   "cell_type": "code",
   "execution_count": 22,
   "metadata": {},
   "outputs": [],
   "source": [
    "import numpy as np\n",
    "import matplotlib.pyplot as plt\n",
    "import astropy.io.fits as fits\n",
    "import os\n",
    "import glob\n",
    "from scipy.interpolate import interp1d\n",
    "from scipy.io.idl import readsav\n",
    "from astropy.table import Table\n",
    "from astropy.io import ascii\n",
    "import astropy.units as u\n",
    "from scipy.optimize import leastsq\n",
    "import astropy.constants as const\n",
    "from astropy.convolution import convolve, Box1DKernel\n",
    "from astropy.modeling import models, fitting\n",
    "import prepare_phoenix_svo as pp\n",
    "from timeit import default_timer as timer\n",
    "\n",
    "#matplotlib set up\n",
    "%matplotlib inline\n",
    "from matplotlib import rcParams\n",
    "rcParams[\"figure.figsize\"] = (14, 5)\n",
    "rcParams[\"font.size\"] = 20"
   ]
  },
  {
   "cell_type": "code",
   "execution_count": 2,
   "metadata": {},
   "outputs": [],
   "source": [
    "params = Table.read('stellar_parameters.csv')"
   ]
  },
  {
   "cell_type": "code",
   "execution_count": 3,
   "metadata": {},
   "outputs": [
    {
     "data": {
      "text/html": [
       "<div><i>Table length=12</i>\n",
       "<table id=\"table139665184305552\" class=\"table-striped table-bordered table-condensed\">\n",
       "<thead><tr><th>Target</th><th>RAJ2000</th><th>DEJ2000</th><th>Jmag</th><th>J_e</th><th>Hmag</th><th>H_e</th><th>Kmag</th><th>K_e</th><th>Rmag</th><th>R_e</th><th>spt</th><th>L_bol</th><th>L_bol_e</th><th>Mass</th><th>Mass_e</th><th>Radius</th><th>Radius_e</th><th>Teff</th><th>Teff_e</th><th>parallax</th><th>distance</th><th>P_rot_d</th></tr></thead>\n",
       "<thead><tr><th>str10</th><th>float64</th><th>float64</th><th>float64</th><th>float64</th><th>float64</th><th>float64</th><th>float64</th><th>float64</th><th>float64</th><th>float64</th><th>str4</th><th>float64</th><th>float64</th><th>float64</th><th>float64</th><th>float64</th><th>float64</th><th>int64</th><th>int64</th><th>float64</th><th>float64</th><th>float64</th></tr></thead>\n",
       "<tr><td>GJ 1132</td><td>153.716027</td><td>-47.156796</td><td>9.245</td><td>0.026</td><td>8.666</td><td>0.031</td><td>8.322</td><td>0.027</td><td>13.098</td><td>0.11</td><td>M3.5</td><td>1.67e+31</td><td>5e+29</td><td>0.194</td><td>0.005</td><td>0.215</td><td>0.009</td><td>3196</td><td>72</td><td>83.07</td><td>12.03804021</td><td>126.59</td></tr>\n",
       "<tr><td>GJ 676A</td><td>262.546646</td><td>-51.637012</td><td>6.711</td><td>0.02</td><td>6.082</td><td>0.024</td><td>5.825</td><td>0.029</td><td>8.675</td><td>0.012</td><td>M0</td><td>3.404e+32</td><td>8.3e+30</td><td>0.631</td><td>0.017</td><td>0.62</td><td>0.03</td><td>4014</td><td>94</td><td>63.07</td><td>15.85539876</td><td>41.2</td></tr>\n",
       "<tr><td>GJ 15A</td><td>4.594036</td><td>44.022842</td><td>5.252</td><td>0.264</td><td>4.476</td><td>0.2</td><td>4.018</td><td>0.02</td><td>7.9</td><td>0.012</td><td>M1</td><td>8.61e+31</td><td>7e+29</td><td>0.393</td><td>0.009</td><td>0.385</td><td>0.002</td><td>3601</td><td>12</td><td>280.74</td><td>3.562014676</td><td>-1.0</td></tr>\n",
       "<tr><td>GJ 649</td><td>254.536873</td><td>25.74423</td><td>6.448</td><td>0.021</td><td>5.865</td><td>0.02</td><td>5.624</td><td>0.016</td><td>8.685</td><td>0.012</td><td>M1</td><td>1.674e+32</td><td>1.7e+30</td><td>0.524</td><td>0.012</td><td>0.531</td><td>0.012</td><td>3621</td><td>41</td><td>96.38</td><td>10.3755966</td><td>-1.0</td></tr>\n",
       "<tr><td>GJ 163</td><td>62.315307</td><td>-53.373737</td><td>7.948</td><td>0.026</td><td>7.428</td><td>0.04</td><td>7.135</td><td>0.021</td><td>10.734</td><td>0.012</td><td>M3.5</td><td>8.28e+31</td><td>2.4e+30</td><td>0.405</td><td>0.01</td><td>0.409</td><td>0.017</td><td>3460</td><td>76</td><td>66.59</td><td>15.01726986</td><td>61.0</td></tr>\n",
       "<tr><td>GJ 849</td><td>332.417906</td><td>-4.640765</td><td>6.51</td><td>0.024</td><td>5.899</td><td>0.044</td><td>5.594</td><td>0.017</td><td>9.279</td><td>0.012</td><td>M3.5</td><td>1.105e+32</td><td>1e+30</td><td>0.465</td><td>0.011</td><td>0.464</td><td>0.018</td><td>3492</td><td>70</td><td>113.25</td><td>8.830022075</td><td>39.2</td></tr>\n",
       "<tr><td>GJ 674</td><td>262.166316</td><td>-46.89513</td><td>5.711</td><td>0.019</td><td>5.154</td><td>0.033</td><td>4.855</td><td>0.018</td><td>8.337</td><td>0.012</td><td>M2.5</td><td>6.03e+31</td><td>1.4e+30</td><td>0.353</td><td>0.008</td><td>0.361</td><td>0.012</td><td>3404</td><td>59</td><td>220.24</td><td>4.540501271</td><td>32.9</td></tr>\n",
       "<tr><td>GJ 699</td><td>269.452044</td><td>4.694597</td><td>5.244</td><td>0.02</td><td>4.834</td><td>0.034</td><td>4.524</td><td>0.02</td><td>8.298</td><td>0.012</td><td>M4</td><td>1.3e+31</td><td>2e+29</td><td>0.161</td><td>0.004</td><td>0.187</td><td>0.001</td><td>3223</td><td>17</td><td>548.31</td><td>1.823785815</td><td>130.4</td></tr>\n",
       "<tr><td>L 980-5</td><td>215.313034</td><td>-1.122204</td><td>8.948</td><td>0.03</td><td>8.391</td><td>0.031</td><td>8.093</td><td>0.026</td><td>13.02</td><td>0.15</td><td>M3.5</td><td>2.49e+31</td><td>8e+29</td><td>0.232</td><td>0.006</td><td>0.25</td><td>0.01</td><td>3278</td><td>74</td><td>74.66</td><td>13.39405304</td><td>92.23</td></tr>\n",
       "<tr><td>LHS 2686</td><td>197.552869</td><td>47.755291</td><td>9.584</td><td>0.02</td><td>8.995</td><td>0.017</td><td>8.687</td><td>0.016</td><td>14.249</td><td>0.13</td><td>M5</td><td>1.08e+31</td><td>2e+29</td><td>0.157</td><td>0.004</td><td>0.182</td><td>0.008</td><td>3119</td><td>70</td><td>76.1</td><td>13.14060447</td><td>28.8</td></tr>\n",
       "<tr><td>GJ 729</td><td>282.455404</td><td>-23.836149</td><td>6.222</td><td>0.018</td><td>5.655</td><td>0.034</td><td>5.37</td><td>0.016</td><td>9.278</td><td>0.012</td><td>M3.5</td><td>1.537e+31</td><td>1.8e+29</td><td>0.177</td><td>0.004</td><td>0.2</td><td>0.008</td><td>3248</td><td>68</td><td>336.72</td><td>2.969826562</td><td>2.84</td></tr>\n",
       "<tr><td>Trappist-1</td><td>346.622013</td><td>-5.041274</td><td>11.354</td><td>0.022</td><td>10.718</td><td>0.021</td><td>10.296</td><td>0.023</td><td>16.466</td><td>0.065</td><td>M8</td><td>2.336e+30</td><td>8.5e+28</td><td>0.0898</td><td>0.0025</td><td>0.112</td><td>0.006</td><td>2619</td><td>71</td><td>82.58</td><td>12.10946961</td><td>3.3</td></tr>\n",
       "</table></div>"
      ],
      "text/plain": [
       "<Table length=12>\n",
       "  Target    RAJ2000    DEJ2000     Jmag    J_e     Hmag  ...  Teff Teff_e parallax   distance  P_rot_d\n",
       "  str10     float64    float64   float64 float64 float64 ... int64 int64  float64    float64   float64\n",
       "---------- ---------- ---------- ------- ------- ------- ... ----- ------ -------- ----------- -------\n",
       "   GJ 1132 153.716027 -47.156796   9.245   0.026   8.666 ...  3196     72    83.07 12.03804021  126.59\n",
       "   GJ 676A 262.546646 -51.637012   6.711    0.02   6.082 ...  4014     94    63.07 15.85539876    41.2\n",
       "    GJ 15A   4.594036  44.022842   5.252   0.264   4.476 ...  3601     12   280.74 3.562014676    -1.0\n",
       "    GJ 649 254.536873   25.74423   6.448   0.021   5.865 ...  3621     41    96.38  10.3755966    -1.0\n",
       "    GJ 163  62.315307 -53.373737   7.948   0.026   7.428 ...  3460     76    66.59 15.01726986    61.0\n",
       "    GJ 849 332.417906  -4.640765    6.51   0.024   5.899 ...  3492     70   113.25 8.830022075    39.2\n",
       "    GJ 674 262.166316  -46.89513   5.711   0.019   5.154 ...  3404     59   220.24 4.540501271    32.9\n",
       "    GJ 699 269.452044   4.694597   5.244    0.02   4.834 ...  3223     17   548.31 1.823785815   130.4\n",
       "   L 980-5 215.313034  -1.122204   8.948    0.03   8.391 ...  3278     74    74.66 13.39405304   92.23\n",
       "  LHS 2686 197.552869  47.755291   9.584    0.02   8.995 ...  3119     70     76.1 13.14060447    28.8\n",
       "    GJ 729 282.455404 -23.836149   6.222   0.018   5.655 ...  3248     68   336.72 2.969826562    2.84\n",
       "Trappist-1 346.622013  -5.041274  11.354   0.022  10.718 ...  2619     71    82.58 12.10946961     3.3"
      ]
     },
     "execution_count": 3,
     "metadata": {},
     "output_type": "execute_result"
    }
   ],
   "source": [
    "params"
   ]
  },
  {
   "cell_type": "code",
   "execution_count": 4,
   "metadata": {},
   "outputs": [
    {
     "name": "stdout",
     "output_type": "stream",
     "text": [
      "3196 5.060992437402149\n",
      "4014 4.65331360755076\n",
      "3601 4.861538718661559\n",
      "3621 4.707209872123922\n",
      "3460 4.822076034503119\n",
      "3492 4.772484619083325\n",
      "3404 4.87082792887964\n",
      "3223 5.101210290261985\n",
      "3278 5.007675594849958\n",
      "3119 5.113824503742217\n",
      "3248 5.083980902336978\n",
      "2619 5.292907918630075\n"
     ]
    }
   ],
   "source": [
    "G = const.G\n",
    "M = const.M_sun.to(u.kg)\n",
    "R = const.R_sun.to(u.m)\n",
    "for m, r, t in zip(params['Mass'], params['Radius'], params['Teff']):\n",
    "    g = G*(m*M)/(r*R)**2\n",
    "    g =  g.to(u.cm/u.s**2)\n",
    "    print(t,np.log10(g.value))\n",
    "    #print(logg)"
   ]
  },
  {
   "cell_type": "code",
   "execution_count": 12,
   "metadata": {},
   "outputs": [],
   "source": [
    "from numpy.random import default_rng\n",
    "rng = default_rng()"
   ]
  },
  {
   "cell_type": "code",
   "execution_count": 26,
   "metadata": {},
   "outputs": [
    {
     "name": "stdout",
     "output_type": "stream",
     "text": [
      "[{'Teff': 3100, 'logg': 5.0, 'FeH': 0.0, 'aM': 0.0}, {'Teff': 3100, 'logg': 5.5, 'FeH': 0.0, 'aM': 0.0}, {'Teff': 3200, 'logg': 5.0, 'FeH': 0.0, 'aM': 0.0}, {'Teff': 3200, 'logg': 5.5, 'FeH': 0.0, 'aM': 0.0}]\n",
      "[{'Teff': 3100, 'logg': 5.0, 'FeH': 0.0, 'aM': 0.0}, {'Teff': 3100, 'logg': 5.5, 'FeH': 0.0, 'aM': 0.0}, {'Teff': 3200, 'logg': 5.0, 'FeH': 0.0, 'aM': 0.0}, {'Teff': 3200, 'logg': 5.5, 'FeH': 0.0, 'aM': 0.0}]\n",
      "[{'Teff': 3200, 'logg': 5.0, 'FeH': 0.0, 'aM': 0.0}, {'Teff': 3200, 'logg': 5.5, 'FeH': 0.0, 'aM': 0.0}, {'Teff': 3300, 'logg': 5.0, 'FeH': 0.0, 'aM': 0.0}, {'Teff': 3300, 'logg': 5.5, 'FeH': 0.0, 'aM': 0.0}]\n",
      "[{'Teff': 3100, 'logg': 5.0, 'FeH': 0.0, 'aM': 0.0}, {'Teff': 3100, 'logg': 5.5, 'FeH': 0.0, 'aM': 0.0}, {'Teff': 3200, 'logg': 5.0, 'FeH': 0.0, 'aM': 0.0}, {'Teff': 3200, 'logg': 5.5, 'FeH': 0.0, 'aM': 0.0}]\n",
      "47.894856373997754\n"
     ]
    },
    {
     "data": {
      "image/png": "[encoded data removed]",
      "text/plain": [
       "<Figure size 1008x360 with 1 Axes>"
      ]
     },
     "metadata": {
      "needs_background": "light"
     },
     "output_type": "display_data"
    }
   ],
   "source": [
    "###### pp.make_phoenix_spectrum(star, save_path, repo, star_params, save_ecsv=False, plot=False)\n",
    "#star_params = {'Teff': 2628, 'logg': 5.21, 'FeH': 0.00, 'aM': 0, 'radius':1.16*u.R_jup, 'distance':12.43*u.pc}\n",
    "G = const.G\n",
    "M = const.M_sun.to(u.kg)\n",
    "R = const.R_sun.to(u.m)\n",
    "save_path = 'interpolated_models/'\n",
    "# repo = '/media/david/5tb_storage1/muscles/btsettl_models/'\n",
    "# repo = '/media/david/1tb_storage1/emergency_data/mega_muscles/data-vacuum/'\n",
    "repo = '/media/david/2tb_ext_hd/hddata/mega_muscles/data-vacuum/'\n",
    "for row in params[0:1]:\n",
    "    star = row['Target']\n",
    "    star = star.replace(' ', '')\n",
    "    if star == 'Trappist-1':\n",
    "        star = '2MASS-J23062928-0502285'\n",
    "#     if star != 'Trappist-1':# and star == 'GJ 15A':\n",
    "\n",
    "\n",
    "\n",
    "    g = (G*(row['Mass']*M)/(row['Radius']*R)**2).to(u.cm/u.s**2)\n",
    "    star_params = {'Teff': row['Teff'], 'logg': np.log10(g.value), 'FeH': 0.00, 'aM': 0, 'Radius':row['Radius']*u.R_sun, 'Distance':row['distance']*u.pc}\n",
    "    meanw, meanf = pp.make_phoenix_spectrum(star, save_path, repo, star_params, save_ecsv=False, plot=False)\n",
    "    plt.plot(meanw, meanf, c='C0', zorder=10)\n",
    "    # print(row['Mass'], row['Mass_e'])\n",
    "    n = 3\n",
    "    mdist = rng.normal(row['Mass'], row['Mass_e'], n)\n",
    "    tdist = rng.normal(row['Teff'], row['Teff_e'], n)\n",
    "    rdist = rng.normal(row['Radius'], row['Radius_e'], n)\n",
    "    start = timer()\n",
    "    \n",
    "    for i in range(n):\n",
    "        mi, ti, ri = mdist[i], tdist[i], rdist[i]\n",
    "        g = (G*(mi*M)/(ri*R)**2).to(u.cm/u.s**2)\n",
    "        star_params = {'Teff': ti, 'logg': np.log10(g.value), 'FeH': 0.00, 'aM': 0, 'Radius':ri*u.R_sun, 'Distance':row['distance']*u.pc}\n",
    "        wi, fi = pp.make_phoenix_spectrum(star, save_path, repo, star_params, save_ecsv=False, plot=False)\n",
    "        plt.plot(wi, fi, c='C0', alpha=0.3, zorder=-1)\n",
    "        \n",
    "    end = timer()\n",
    "    print(end - start)\n",
    "    \n",
    "    plt.xscale('log')\n",
    "    plt.yscale('log')\n",
    "    plt.show()\n",
    "    \n",
    "    \n",
    "    # pp.make_phoenix_spectrum(star, save_path, repo, star_params, save_ecsv=False, plot=True)"
   ]
  },
  {
   "cell_type": "code",
   "execution_count": 28,
   "metadata": {},
   "outputs": [
    {
     "data": {
      "text/plain": [
       "44.44444444444444"
      ]
     },
     "execution_count": 28,
     "metadata": {},
     "output_type": "execute_result"
    }
   ],
   "source": [
    "((48/3)*10000)*u.s.to(u.hr)"
   ]
  },
  {
   "cell_type": "markdown",
   "metadata": {},
   "source": [
    "So 44 hours for one star, let alone the storage/memory requirements. May need a different approach. Find out which one has the biggest effect on the SED?"
   ]
  },
  {
   "cell_type": "code",
   "execution_count": null,
   "metadata": {},
   "outputs": [],
   "source": [
    "    # 145.6500 -9.02815D+01 -8.25000D+01   3  20    618.6719 1000 128    891.3070    7 128      0.0000    0 129  1000  6.186719D+02 -1.659000D+00  1.240001D-04     7  8.913070D+02 -1.536133D+00  8.758349D-02   1   1  6.34802D+07  6.01154D+07\n",
    "     #    145.7000-8.97833D+01-7.98488D+01   3  19    618.6719 1000 128    892.6923    7 128      0.0000    0 129  1000 6.186719D+02-1.659000D+00 1.240001D-04     7 8.926923D+02-1.389459D+00 8.758349D-02   1   1 2.10674D+07 2.07329D+07"
   ]
  },
  {
   "cell_type": "markdown",
   "metadata": {},
   "source": [
    "\n"
   ]
  },
  {
   "cell_type": "code",
   "execution_count": null,
   "metadata": {},
   "outputs": [],
   "source": []
  }
 ],
 "metadata": {
  "kernelspec": {
   "display_name": "Python 3 (ipykernel)",
   "language": "python",
   "name": "python3"
  },
  "language_info": {
   "codemirror_mode": {
    "name": "ipython",
    "version": 3
   },
   "file_extension": ".py",
   "mimetype": "text/x-python",
   "name": "python",
   "nbconvert_exporter": "python",
   "pygments_lexer": "ipython3",
   "version": "3.7.11"
  }
 },
 "nbformat": 4,
 "nbformat_minor": 4
}
