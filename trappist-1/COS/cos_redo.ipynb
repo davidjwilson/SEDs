{
 "cells": [
  {
   "cell_type": "markdown",
   "metadata": {},
   "source": [
    "Experimenting to see if we get a better COS reduction."
   ]
  },
  {
   "cell_type": "code",
   "execution_count": 9,
   "metadata": {},
   "outputs": [],
   "source": [
    "#first get the python modules we need\n",
    "import numpy as np\n",
    "import matplotlib.pyplot as plt\n",
    "import astropy.io.fits as fits\n",
    "import os\n",
    "import glob\n",
    "from astropy.convolution import convolve, Box1DKernel\n",
    "from astropy.table import Table\n",
    "import astropy.units as u\n",
    "\n",
    "#matplotlib set up\n",
    "%matplotlib inline\n",
    "from matplotlib import rcParams\n",
    "rcParams[\"figure.figsize\"] = (14, 5)\n",
    "rcParams[\"font.size\"] = 20"
   ]
  },
  {
   "cell_type": "code",
   "execution_count": 2,
   "metadata": {},
   "outputs": [],
   "source": [
    "path = '/home/david/work/muscles/trappist-1/hst/data/'"
   ]
  },
  {
   "cell_type": "code",
   "execution_count": 6,
   "metadata": {},
   "outputs": [
    {
     "name": "stdout",
     "output_type": "stream",
     "text": [
      "['/home/david/work/muscles/trappist-1/hst/data/ldlm40d2q_x1d.fits', '/home/david/work/muscles/trappist-1/hst/data/ldlm40blq_x1d.fits', '/home/david/work/muscles/trappist-1/hst/data/ldlm40axq_x1d.fits', '/home/david/work/muscles/trappist-1/hst/data/ldlm40c2q_x1d.fits', '/home/david/work/muscles/trappist-1/hst/data/ldlm40alq_x1d.fits']\n",
      "['/home/david/work/muscles/trappist-1/hst/data/ldlm39itq_x1d.fits', '/home/david/work/muscles/trappist-1/hst/data/ldlm39ikq_x1d.fits', '/home/david/work/muscles/trappist-1/hst/data/ldlm39i5q_x1d.fits', '/home/david/work/muscles/trappist-1/hst/data/ldlm39ibq_x1d.fits']\n"
     ]
    }
   ],
   "source": [
    "x1ds = glob.glob(path+'*x1d.fits')\n",
    "g130m = []\n",
    "g160m = []\n",
    "for x in x1ds:\n",
    "    if fits.getheader(x)['OPT_ELEM'] == 'G130M':\n",
    "        g130m.append(x)\n",
    "    elif fits.getheader(x)['OPT_ELEM'] == 'G160M':\n",
    "        g160m.append(x)\n",
    "print(g130m)\n",
    "print(g160m)\n",
    "    \n",
    "        \n",
    "        "
   ]
  },
  {
   "cell_type": "markdown",
   "metadata": {},
   "source": [
    "Have a look at one:"
   ]
  },
  {
   "cell_type": "code",
   "execution_count": 45,
   "metadata": {},
   "outputs": [
    {
     "data": {
      "image/png": "[encoded data removed]",
      "text/plain": [
       "<Figure size 1008x360 with 1 Axes>"
      ]
     },
     "metadata": {
      "needs_background": "light"
     },
     "output_type": "display_data"
    }
   ],
   "source": [
    "for x in g130m[0:1]:\n",
    "    data = fits.getdata(x,1)\n",
    "    for dt in data:\n",
    "        f = dt['FLUX']\n",
    "        #f = convolve(f,Box1DKernel(5))\n",
    "        #plt.step(dt['WAVELENGTH'], f, where='mid')\n",
    "        plt.scatter(dt['WAVELENGTH'], f)\n",
    "        #plt.xlim(1300, 1310) #airglow\n",
    "        plt.xlim(1237, 1239) #nv\n",
    "        plt.ylim(-0.5e-15, 1e-15)\n",
    "        "
   ]
  },
  {
   "cell_type": "markdown",
   "metadata": {},
   "source": [
    "What if we tweak the background width?"
   ]
  },
  {
   "cell_type": "code",
   "execution_count": 25,
   "metadata": {},
   "outputs": [
    {
     "name": "stdout",
     "output_type": "stream",
     "text": [
      "The following tasks in the costools package can be run with TEAL:\n",
      "         splittag                 timefilter                 x1dcorr\n"
     ]
    }
   ],
   "source": [
    "import costools"
   ]
  },
  {
   "cell_type": "code",
   "execution_count": 31,
   "metadata": {},
   "outputs": [],
   "source": [
    "a_tags = glob.glob(path+'worktags/*corrtag_a.fits')\n",
    "#a_tags"
   ]
  },
  {
   "cell_type": "code",
   "execution_count": 30,
   "metadata": {},
   "outputs": [],
   "source": [
    "#costools.x1dcorr.help()"
   ]
  },
  {
   "cell_type": "code",
   "execution_count": 34,
   "metadata": {},
   "outputs": [
    {
     "data": {
      "text/plain": [
       "SIMPLE  =                    T / conforms to FITS standard                      \n",
       "BITPIX  =                    8 / array data type                                \n",
       "NAXIS   =                    0 / number of array dimensions                     \n",
       "EXTEND  =                    T                                                  \n",
       "NEXTEND =                    2 / Number of standard extensions                  \n",
       "DATE    = '2018-12-10'         / date this file was written (yyyy-mm-dd)        \n",
       "FILENAME= 'ldlm40c2q_corrtag_a.fits' / name of file                             \n",
       "FILETYPE= 'SCI      '          / type of data found in data file                \n",
       "                                                                                \n",
       "TELESCOP= 'HST'                / telescope used to acquire data                 \n",
       "INSTRUME= 'COS   '             / identifier for instrument used to acquire data \n",
       "EQUINOX =               2000.0 / equinox of celestial coord. system             \n",
       "                                                                                \n",
       "              / DATA DESCRIPTION KEYWORDS                                       \n",
       "                                                                                \n",
       "ROOTNAME= 'ldlm40c2q                         ' / rootname of the observation set\n",
       "IMAGETYP= 'TIME-TAG          ' / type of exposure identifier                    \n",
       "PRIMESI = 'COS   '             / instrument designated as prime                 \n",
       "                                                                                \n",
       "              / TARGET INFORMATION                                              \n",
       "                                                                                \n",
       "TARGNAME= '2MASS-J23062928-0502285        ' / proposer's target name            \n",
       "RA_TARG =   3.466271879525E+02 / right ascension of the target (deg) (J2000)    \n",
       "DEC_TARG=  -5.043868279329E+00 / declination of the target (deg) (J2000)        \n",
       "                                                                                \n",
       "              / PROPOSAL INFORMATION                                            \n",
       "                                                                                \n",
       "PROPOSID=                15071 / PEP proposal identifier                        \n",
       "LINENUM = '40.005         '    / proposal logsheet line number                  \n",
       "PR_INV_L= 'Froning                       ' / last name of principal investigator\n",
       "PR_INV_F= 'Cynthia             ' / first name of principal investigator         \n",
       "PR_INV_M= 'Suzanne             ' / middle name / initial of principal investigat\n",
       "                                                                                \n",
       "              / SUMMARY EXPOSURE INFORMATION                                    \n",
       "                                                                                \n",
       "QUALCOM1= '                                                                    '\n",
       "QUALCOM2= '                                                                    '\n",
       "QUALCOM3= '                                                                    '\n",
       "QUALITY = '                                                                    '\n",
       "                                                                                \n",
       "              / TARGET OFFSETS (POSTARGS)                                       \n",
       "                                                                                \n",
       "POSTARG1=             0.000000 / POSTARG in axis 1 direction                    \n",
       "POSTARG2=             0.000000 / POSTARG in axis 2 direction                    \n",
       "                                                                                \n",
       "              / DIAGNOSTIC KEYWORDS                                             \n",
       "                                                                                \n",
       "OPUS_VER= 'HSTDP 2018_3b     ' / data processing software system version        \n",
       "CSYS_VER= 'hstdp-2018.3a'      / Calibration software system version id         \n",
       "CAL_VER = '3.3.4 (2018-01-08)' / CALCOS code version                            \n",
       "PROCTIME=   5.846247888889E+04 / Pipeline processing time (MJD)                 \n",
       "                                                                                \n",
       "              / SCIENCE INSTRUMENT CONFIGURATION                                \n",
       "                                                                                \n",
       "OBSTYPE = 'SPECTROSCOPIC'      / observation type - imaging or spectroscopic    \n",
       "OBSMODE = 'TIME-TAG  '         / operating mode                                 \n",
       "EXPTYPE = 'EXTERNAL/SCI'       / type of exposure                               \n",
       "DETECTOR= 'FUV'                / FUV or NUV                                     \n",
       "SEGMENT = 'FUVA'               / FUV detector segment name (FUVA, FUVB, or BOTH)\n",
       "DETECTHV= 'NomAB   '           / FUV High voltage state, from LDCSTATE          \n",
       "COSCOORD= 'USER    '           / COS output coordinate frame                    \n",
       "SUBARRAY=                    F / data from a subarray (T) or full frame (F)     \n",
       "LAMPPLAN= 'P1            '     / Name of lamp that was planned to be used       \n",
       "LAMPUSED= 'P1      '           / lamp status, NONE or name of lamp which is on  \n",
       "LAMPSET = 'Medium'             / spectral cal lamp current value (milliamps)    \n",
       "LIFE_ADJ=                    4 / Life Time Adjustment Position                  \n",
       "EXP_NUM =                    1 / exposure number for repeated observations      \n",
       "NRPTEXP =                    1 / number of repeat exposures in set: default 1   \n",
       "FPPOS   =                    4 / grating offset index (1-4) for FP split        \n",
       "CENWAVE =                 1291 / central wavelength of spectrum                 \n",
       "APERTURE= 'PSA     '           / aperture name                                  \n",
       "PROPAPER= 'PSA             '   / proposed aperture name                         \n",
       "APER_FOV= '2.5 arcsec (0.700 mm) diameter circular' / aperture field of view    \n",
       "APMPOS  = 'PSA-FUV4'           / Aperture Mechanism Position from telemetry     \n",
       "APERXPOS=                 22.1 / Aperture Block Position dispersion (telemetry) \n",
       "APERYPOS=                235.1 / Aperture Block Pos. cross dispersion(telemetry)\n",
       "OPT_ELEM= 'G130M   '           / optical element in use                         \n",
       "SHUTTER = 'Open '              / External Shutter Position (OPEN, CLOSED)       \n",
       "EXTENDED= 'NO '                / Is target specified as extended object?        \n",
       "TAGFLASH= 'AUTO            '   / Type of flashed exposures in time-tag          \n",
       "                                                                                \n",
       "              / CALIBRATION SWITCHES: PERFORM, OMIT, COMPLETE                   \n",
       "                                                                                \n",
       "FLATCORR= 'COMPLETE'           / apply flat-field correction                    \n",
       "DEADCORR= 'COMPLETE'           / correct for deadtime                           \n",
       "DQICORR = 'COMPLETE'           / data quality initialization                    \n",
       "STATFLAG=                    T / Calculate statistics?                          \n",
       "TEMPCORR= 'COMPLETE'           / correct for thermal distortion                 \n",
       "GEOCORR = 'COMPLETE'           / correct FUV for geometic distortion            \n",
       "DGEOCORR= 'COMPLETE'           / Delta Corrections to FUV Geometric Distortion  \n",
       "IGEOCORR= 'COMPLETE'           / interpolate geometric distortion in INL file   \n",
       "RANDCORR= 'COMPLETE'           / add pseudo-random numbers to raw x and y       \n",
       "RANDSEED=           1544442096 / seed for pseudo-random number generator        \n",
       "XWLKCORR= 'OMIT    '           / Correct FUV for Walk Distortion in X           \n",
       "YWLKCORR= 'COMPLETE'           / Correct FUV for Walk Distortion in Y           \n",
       "PHACORR = 'COMPLETE'           / filter by pulse-height                         \n",
       "TRCECORR= 'COMPLETE'           / trace correction                               \n",
       "ALGNCORR= 'SKIPPED '           / align data to profile                          \n",
       "XTRCTALG= 'TWOZONE '           / BOXCAR or TWOZONE                              \n",
       "BADTCORR= 'OMIT    '           / filter by time (excluding bad time intervals)  \n",
       "DOPPCORR= 'COMPLETE'           / orbital Doppler correction                     \n",
       "HELCORR = 'PERFORM '           / heliocentric Doppler correction                \n",
       "X1DCORR = 'PERFORM '           / 1-D spectral extraction                        \n",
       "BACKCORR= 'PERFORM '           / subtract background (when doing 1-D extraction)\n",
       "WAVECORR= 'COMPLETE'           / use wavecal to adjust wavelength zeropoint     \n",
       "FLUXCORR= 'PERFORM '           / convert count-rate to absolute flux units      \n",
       "BRSTCORR= 'OMIT    '           / switch controlling search for FUV bursts       \n",
       "TDSCORR = 'PERFORM '           / switch for time-dependent sensitivity correctio\n",
       "                                                                                \n",
       "              / CALIBRATION REFERENCE FILES                                     \n",
       "                                                                                \n",
       "FLATFILE= 'lref$19m1548dl_flat.fits' / Pixel to Pixel Flat Field Reference File \n",
       "DEADTAB = 'lref$s7g1700gl_dead.fits' / Deadtime Reference Table                 \n",
       "BPIXTAB = 'lref$yae1249sl_bpix.fits' / bad pixel table                          \n",
       "SPOTTAB = 'lref$zas1615jl_spot.fits' / Transient Bad Pixel Table                \n",
       "GSAGTAB = 'lref$23e16470l_gsag.fits' / ext. 24 for FUVA; ext. 63 for FUVB       \n",
       "HVTAB   = 'N/A     '           / High voltage command level Reference Table     \n",
       "BRFTAB  = 'lref$x1u1459il_brf.fits' / Baseline Reference Frame Reference Table  \n",
       "GEOFILE = 'lref$x1u1459gl_geo.fits' / Geometric Correction Reference File       \n",
       "DGEOFILE= 'lref$15c2018fl_dgeo.fits' / Delta Geometric Correction Reference Imag\n",
       "TRACETAB= 'lref$2bj2256jl_trace.fits' / 1D spectral trace table                 \n",
       "PROFTAB = 'lref$2bj2256ql_profile.fits' / 2D spectrum profile table             \n",
       "TWOZXTAB= 'lref$2bj2256nl_2zx.fits' / Two-zone spectral extraction parameters   \n",
       "XWLKFILE= 'N/A     '           / X Walk Correction Lookup Reference Image       \n",
       "YWLKFILE= 'lref$14o2013rl_ywalk.fits' / Y Walk Correction Lookup Reference Image\n",
       "PHATAB  = 'lref$wc318317l_pha.fits' / Pulse Height Discrimination Reference Tabl\n",
       "PHAFILE = 'N/A     '           / Pulse Height Threshold Reference File          \n",
       "BADTTAB = 'N/A     '           / Bad Time Interval Reference Table              \n",
       "XTRACTAB= 'lref$2bj2256il_1dx.fits' / 1-D Spectral Extraction Information Table \n",
       "LAMPTAB = 'lref$2bj2256ol_lamp.fits' / template calibration lamp spectra table  \n",
       "DISPTAB = 'lref$2bj2256ml_disp.fits' / Dispersion Coefficient Reference Table   \n",
       "IMPHTTAB= 'N/A     '           / Imaging photometric table                      \n",
       "FLUXTAB = 'lref$2bj2256gl_phot.fits' / Spectroscopic flux calibration table     \n",
       "WCPTAB  = 'lref$14o20140l_wcp.fits' / wavecal parameters table                  \n",
       "BRSTTAB = 'N/A     '           / burst parameters table                         \n",
       "TDSTAB  = 'lref$29o1427cl_tds.fits' / time-dependent sensitivity correction tabl\n",
       "SPWCSTAB= 'lref$2bj2256kl_spwcs.fits' / Spectroscopic WCS Parameters Table      \n",
       "                                                                                \n",
       "              / ENGINEERING PARAMETERS FOR CALIBRATION                          \n",
       "                                                                                \n",
       "FPOFFSET=                    1 / FP offset from nominal, in motor steps         \n",
       "                                                                                \n",
       "              / TARGET ACQUISITION DATASET IDENTIFIERS                          \n",
       "                                                                                \n",
       "ACQSNAME= '          '         / rootname of first acquisition search exposure  \n",
       "ACQINAME= 'LDLM40AEx '         / rootname of first acquisition image exposure   \n",
       "PEAKXNAM= '          '         / Rootname of 1st cross-dispersion (XD) peakup   \n",
       "PEAKDNAM= '          '         / Rootname of 1st along-dispersion (AD) peakup   \n",
       "ACQ_NUM =                    1 / total number of exposures in acq sequence      \n",
       "                                                                                \n",
       "              / ARCHIVE SEARCH KEYWORDS                                         \n",
       "                                                                                \n",
       "BANDWID =                  0.0 / bandwidth of the data                          \n",
       "SPECRES =                  0.0 / approx. resolving power at central wavelength  \n",
       "CENTRWV =               1291.0 / central wavelength of the data                 \n",
       "MINWAVE =                  0.0 / minimum wavelength in spectrum                 \n",
       "MAXWAVE =                  0.0 / maximum wavelength in spectrum                 \n",
       "PLATESC =                  0.0 / plate scale (arcsec/pixel)                     \n",
       "                                                                                \n",
       "              / PAPER PRODUCT SUPPORT KEYWORDS                                  \n",
       "                                                                                \n",
       "PROPTTL1= 'The Mega-MUSCLES Treasury Survey: Measurements of the Ultraviolet Sp'\n",
       "PROPTTL2= 'ectral Characteristics of Low-mass Exoplanetary Systems             '\n",
       "OBSET_ID= '40'                 / observation set id                             \n",
       "TARDESCR= 'STAR;EXTRA-SOLAR PLANETARY SYSTEM;M V-IV                            '\n",
       "TARDESC2= '                                                                    '\n",
       "MTFLAG  = ' '                  / moving target flag; T if it is a moving target \n",
       "PARALLAX=   8.258000000000E-02 / target parallax from proposal                  \n",
       "MU_RA   =   9.221000000000E-01 / target proper motion from proposal (degrees RA)\n",
       "MU_DEC  =  -4.719000000000E-01 / target proper motion from proposal (deg. DEC)  \n",
       "MU_EPOCH= 'J2015.8   '         / epoch of proper motion from proposal           \n",
       "                                                                                \n",
       "              / ASSOCIATION KEYWORDS                                            \n",
       "                                                                                \n",
       "ASN_ID  = 'LDLM40010 '         / unique identifier assigned to association      \n",
       "ASN_TAB = 'ldlm40010_asn.fits     ' / name of the association table             \n",
       "CRDS_CTX= 'hst_0673.pmap'                                                       \n",
       "CRDS_VER= '7.2.6, 7.2.6, 44aa309'                                               \n",
       "WAVECALS= 'ldlm40c2q_rawtag_a.fits'                                             "
      ]
     },
     "execution_count": 34,
     "metadata": {},
     "output_type": "execute_result"
    }
   ],
   "source": [
    "fits.getheader(a_tags[0])"
   ]
  },
  {
   "cell_type": "code",
   "execution_count": 40,
   "metadata": {},
   "outputs": [],
   "source": [
    "bkhdu = fits.open(path+'new_bk_1dx.fits')"
   ]
  },
  {
   "cell_type": "code",
   "execution_count": 41,
   "metadata": {},
   "outputs": [
    {
     "name": "stdout",
     "output_type": "stream",
     "text": [
      "Filename: /home/david/work/muscles/trappist-1/hst/data/new_bk_1dx.fits\n",
      "No.    Name      Ver    Type      Cards   Dimensions   Format\n",
      "  0  PRIMARY       1 PrimaryHDU     186   ()      \n",
      "  1                1 BinTableHDU     36   112R x 13C   [4A, 5A, K, 3A, D, D, D, D, K, K, K, K, 8A]   \n"
     ]
    }
   ],
   "source": [
    "bkhdu.info()"
   ]
  },
  {
   "cell_type": "code",
   "execution_count": 43,
   "metadata": {},
   "outputs": [
    {
     "data": {
      "text/plain": [
       "['SEGMENT',\n",
       " 'OPT_ELEM',\n",
       " 'CENWAVE',\n",
       " 'APERTURE',\n",
       " 'SLOPE',\n",
       " 'B_SPEC',\n",
       " 'B_BKG1',\n",
       " 'B_BKG2',\n",
       " 'HEIGHT',\n",
       " 'B_HGT1',\n",
       " 'B_HGT2',\n",
       " 'BWIDTH',\n",
       " 'PEDIGREE']"
      ]
     },
     "execution_count": 43,
     "metadata": {},
     "output_type": "execute_result"
    }
   ],
   "source": [
    "bkhdu[1].data.names"
   ]
  },
  {
   "cell_type": "code",
   "execution_count": 44,
   "metadata": {},
   "outputs": [
    {
     "data": {
      "text/plain": [
       "array([100, 100, 100, 100, 100, 100, 100, 100, 100, 100, 100, 100, 100,\n",
       "       100, 100, 100, 100, 100, 100, 100, 100, 100, 100, 100, 100, 100,\n",
       "       100, 100, 100, 100, 100, 100, 100, 100, 100, 100, 100, 100, 100,\n",
       "       100, 100, 100, 100, 100, 100, 100, 100, 100, 100, 100, 100, 100,\n",
       "       100, 100, 100, 100, 100, 100, 100, 100, 100, 100, 100, 100, 100,\n",
       "       100, 100, 100, 100, 100, 100, 100, 100, 100, 100, 100, 100, 100,\n",
       "       100, 100, 100, 100, 100, 100, 100, 100, 100, 100, 100, 100, 100,\n",
       "       100, 100, 100, 100, 100, 100, 100, 100, 100, 100, 100, 100, 100,\n",
       "       100, 100, 100, 100, 100, 100, 100, 100])"
      ]
     },
     "execution_count": 44,
     "metadata": {},
     "output_type": "execute_result"
    }
   ],
   "source": [
    "bkhdu[1].data['BWIDTH']"
   ]
  },
  {
   "cell_type": "markdown",
   "metadata": {},
   "source": [
    "That's wide already, changing that probably isn't going to help anything."
   ]
  },
  {
   "cell_type": "code",
   "execution_count": null,
   "metadata": {},
   "outputs": [],
   "source": []
  }
 ],
 "metadata": {
  "kernelspec": {
   "display_name": "Python 3",
   "language": "python",
   "name": "python3"
  },
  "language_info": {
   "codemirror_mode": {
    "name": "ipython",
    "version": 3
   },
   "file_extension": ".py",
   "mimetype": "text/x-python",
   "name": "python",
   "nbconvert_exporter": "python",
   "pygments_lexer": "ipython3",
   "version": "3.6.8"
  }
 },
 "nbformat": 4,
 "nbformat_minor": 2
}
