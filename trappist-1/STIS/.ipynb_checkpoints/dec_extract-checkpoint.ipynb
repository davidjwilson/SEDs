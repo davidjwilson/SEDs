{
 "cells": [
  {
   "cell_type": "markdown",
   "metadata": {},
   "source": [
    "20191204 having one last go at the g140m extractions"
   ]
  },
  {
   "cell_type": "code",
   "execution_count": 10,
   "metadata": {},
   "outputs": [],
   "source": [
    "import numpy as np\n",
    "import matplotlib.pyplot as plt\n",
    "import astropy.io.fits as fits\n",
    "import os\n",
    "import glob\n",
    "from astropy.table import Table\n",
    "from astropy.io import ascii\n",
    "import astropy.units as u\n",
    "import astropy.constants as const\n",
    "from scipy.interpolate import interpolate\n",
    "#from craftroom import resample\n",
    "import stistools\n",
    "\n",
    "#matplotlib set up\n",
    "%matplotlib inline\n",
    "from matplotlib import rcParams\n",
    "rcParams[\"figure.figsize\"] = (14, 5)\n",
    "rcParams[\"font.size\"] = 20\n"
   ]
  },
  {
   "cell_type": "code",
   "execution_count": 2,
   "metadata": {},
   "outputs": [],
   "source": [
    "datapath = 'raw_data/'\n",
    "outpath = 'new_x1ds/'\n",
    "flts = glob.glob(datapath + '*flt.fits*')\n",
    "oref=\"${CRDS_PATH}/references/hst/oref/\"\n"
   ]
  },
  {
   "cell_type": "code",
   "execution_count": 3,
   "metadata": {},
   "outputs": [],
   "source": [
    "#check it works\n",
    "#stistools.x1d.x1d(flts[0], output=outpath+\"test\", verbose=True, trailer=outpath+\"test.trl\")"
   ]
  },
  {
   "cell_type": "code",
   "execution_count": 4,
   "metadata": {},
   "outputs": [],
   "source": [
    "#data = fits.getdata(outpath+'test.fits')\n",
    "#plt.plot(data[0]['WAVELENGTH'], data[0]['FLUX'])"
   ]
  },
  {
   "cell_type": "code",
   "execution_count": 14,
   "metadata": {},
   "outputs": [],
   "source": [
    "centab = Table.read('new_trace_centers.ecsv')\n",
    "#centab"
   ]
  },
  {
   "cell_type": "code",
   "execution_count": 6,
   "metadata": {},
   "outputs": [],
   "source": [
    "def build_trace_grid(SPTRCTAB, grating, cenwave):\n",
    "    \"\"\"\n",
    "    Extends a grid of trace displacements to cover all y positions\n",
    "    \"\"\"\n",
    "    data = fits.getdata(SPTRCTAB, 1)\n",
    "    tracedata = data[(data['OPT_ELEM']==grating) & (data['CENWAVE'] == cenwave)]\n",
    "    all_y = np.arange(len(tracedata[0]['A2DISPL']))\n",
    "    grid = interpolate.interp1d(tracedata['A2CENTER'], tracedata['A2DISPL'], axis=0, fill_value='extrapolate')(all_y)\n",
    "    tracegrid = [a+b for a, b in zip(grid, all_y)] \n",
    "    return tracegrid\n",
    "\n",
    "def get_a2center(x, y, tracegrid):\n",
    "    \"\"\"\n",
    "    get the trace a2center at a1center\n",
    "    \"\"\"\n",
    "    xcol = np.array(tracegrid)[:,int(x)]\n",
    "    xind = (np.abs(xcol - y)).argmin()\n",
    "    a2center = xind + 1 #calstis is 1-indexed \n",
    "    return a2center\n"
   ]
  },
  {
   "cell_type": "code",
   "execution_count": 48,
   "metadata": {},
   "outputs": [
    {
     "name": "stdout",
     "output_type": "stream",
     "text": [
      "85\n"
     ]
    }
   ],
   "source": [
    "for fl in glob.glob(outpath+'*.fits'):\n",
    "    os.remove(fl)\n",
    "\n",
    "for i, flt in enumerate(flts):\n",
    "    hdr = fits.getheader(flt, 0)\n",
    "    #build trace grid\n",
    "    if i == 0:\n",
    "        SPTRCTAB = hdr['SPTRCTAB']\n",
    "        grating = hdr['OPT_ELEM']\n",
    "        cenwave = hdr['CENWAVE']\n",
    "        tracegrid = build_trace_grid('/home/david/crds_cache/references/hst/oref/'+SPTRCTAB[5:], grating, cenwave)\n",
    "        \n",
    "    rootname =  hdr['ROOTNAME']\n",
    "    if rootname in centab['ROOTNAME']:\n",
    "        rootarg = np.argwhere(centab['ROOTNAME']==rootname)[0][0]\n",
    "        if centab['UNCERTAIN'][rootarg] == 0.0:\n",
    "            #adjust measured a2 center to central point\n",
    "            x = centab['XCOL'][rootarg]\n",
    "            y = centab['A2CENTER'][rootarg]\n",
    "            a2center = get_a2center(x,y, tracegrid)\n",
    "            plt.figure(rootname)\n",
    "            stistools.x1d.x1d(flt, output=outpath+rootname+'_new_x1d.fits', verbose=False, trailer='trl_files/'+rootname+'.trl',a2center=a2center,maxsrch=0)\n",
    "            data = fits.getdata(outpath+rootname+'_new_x1d.fits')[0]\n",
    "            plt.step(data['WAVELENGTH'], data['FLUX'],where='mid',label='center')\n",
    "            stistools.x1d.x1d(flt, output=outpath+rootname+'_plus_x1d.fits', verbose=False, trailer='trl_files/'+rootname+'.trl',a2center=a2center+1,maxsrch=0)\n",
    "            data = fits.getdata(outpath+rootname+'_plus_x1d.fits')[0]\n",
    "            plt.step(data['WAVELENGTH'], data['FLUX'], where='mid', label='plus')\n",
    "            stistools.x1d.x1d(flt, output=outpath+rootname+'_minus_x1d.fits', verbose=False, trailer='trl_files/'+rootname+'.trl',a2center=a2center-1,maxsrch=0)\n",
    "            data = fits.getdata(outpath+rootname+'_minus_x1d.fits')[0]\n",
    "            plt.step(data['WAVELENGTH'], data['FLUX'], where='mid', label='minus')\n",
    "            plt.legend()\n",
    "            plt.savefig('a2testplots/'+rootname+'_a2test.png')\n",
    "            plt.close\n",
    "new_x1ds = glob.glob(outpath+'*new_x1d*')\n",
    "print(len(new_x1ds))  "
   ]
  },
  {
   "cell_type": "code",
   "execution_count": 8,
   "metadata": {},
   "outputs": [],
   "source": [
    "#grab the current state of the art...\n",
    "cspec = Table.read('extracted_spectra/hlsp_muscles_hst_stis_2mass-j23062928-0502285_g140m_v1_component-spec.ecsv')\n",
    "wc, fc, ec = cspec['WAVELENGTH'], cspec['FLUX'], cspec['ERROR']"
   ]
  },
  {
   "cell_type": "code",
   "execution_count": 38,
   "metadata": {},
   "outputs": [],
   "source": [
    "def no_zero_errors(flux, error):\n",
    "    \"\"\"\n",
    "    Corrects instances where negative flux measurements have very small errors\n",
    "    \"\"\"\n",
    "    e_new = error\n",
    "    for i in range(len(error)):\n",
    "        if flux[i] < 0.0 and error[i] < 0.1*abs(flux[i]):\n",
    "            e_new[i] = abs(flux[i])\n",
    "    return e_new\n",
    "\n",
    "def new_coadd(f_array, e_array):\n",
    "    weights = 1 / (e_array**2)\n",
    "    flux = np.average(f_array, axis =0, weights = weights)\n",
    "    var = 1 / np.sum(weights, axis=0)\n",
    "    rcs = np.sum(((flux - f_array)**2) * weights, axis=0) / (len(f_array)-1)\n",
    "    error = (var * rcs)**0.5\n",
    "    return flux, error"
   ]
  },
  {
   "cell_type": "code",
   "execution_count": 50,
   "metadata": {},
   "outputs": [
    {
     "data": {
      "text/plain": [
       "<matplotlib.lines.Line2D at 0x7f875b0e5510>"
      ]
     },
     "execution_count": 50,
     "metadata": {},
     "output_type": "execute_result"
    },
    {
     "data": {
      "image/png": "[encoded data removed]",
      "text/plain": [
       "<Figure size 1008x360 with 1 Axes>"
      ]
     },
     "metadata": {
      "needs_background": "light"
     },
     "output_type": "display_data"
    }
   ],
   "source": [
    "\n",
    "\n",
    "f_new = []\n",
    "e_new = []\n",
    "\n",
    "rejects = Table.read('clean_spectra.ecsv')['KEEP']\n",
    "\n",
    "for i, x in enumerate(new_x1ds):\n",
    "        data = fits.getdata(x, 1)[0]\n",
    "        first = True\n",
    "        \n",
    "        if rejects[i]== 0.0:\n",
    "            fi, ei = data['FLUX'], data['ERROR']\n",
    "            ei = no_zero_errors(fi, ei) \n",
    "            if  first:\n",
    "                w_new = data['WAVELENGTH']\n",
    "               # w_new = np.arange(w_new[5], w_new[-6], np.mean(np.diff(w_new)))\n",
    "\n",
    "                first = False\n",
    "            else:\n",
    "                fi = interpolate.interp1d(data['WAVELENGTH'], fi, fill_value='extrapolate')(w_new)\n",
    "                ei = interpolate.interp1d(data['WAVELENGTH'], ei, fill_value='extrapolate')(w_new)\n",
    "            f_new.append(fi)\n",
    "            e_new.append(ei)\n",
    "\n",
    "f_new, e_new = new_coadd(np.array(f_new), np.array(e_new))\n",
    "plt.step(w_new, f_new, where='mid')\n",
    "plt.step(wc, fc, where='mid', zorder=-1)\n",
    "plt.axhline(0, ls='--', c='0.5')\n",
    "#plt.xlim(1212, 1218)\n"
   ]
  },
  {
   "cell_type": "code",
   "execution_count": 54,
   "metadata": {},
   "outputs": [
    {
     "data": {
      "text/plain": [
       "<matplotlib.collections.PathCollection at 0x7f875aed0210>"
      ]
     },
     "execution_count": 54,
     "metadata": {},
     "output_type": "execute_result"
    },
    {
     "data": {
      "image/png": "[encoded data removed]",
      "text/plain": [
       "<Figure size 1008x360 with 1 Axes>"
      ]
     },
     "metadata": {
      "needs_background": "light"
     },
     "output_type": "display_data"
    }
   ],
   "source": [
    "reject_tab = Table.read('clean_spectra.ecsv')\n",
    "plt.scatter(reject_tab['DATE'], reject_tab['KEEP'])"
   ]
  },
  {
   "cell_type": "code",
   "execution_count": null,
   "metadata": {},
   "outputs": [],
   "source": []
  }
 ],
 "metadata": {
  "kernelspec": {
   "display_name": "Python (stsci)",
   "language": "python",
   "name": "myenv"
  },
  "language_info": {
   "codemirror_mode": {
    "name": "ipython",
    "version": 3
   },
   "file_extension": ".py",
   "mimetype": "text/x-python",
   "name": "python",
   "nbconvert_exporter": "python",
   "pygments_lexer": "ipython3",
   "version": "3.7.5"
  }
 },
 "nbformat": 4,
 "nbformat_minor": 4
}
