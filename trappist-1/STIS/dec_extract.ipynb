{
 "cells": [
  {
   "cell_type": "markdown",
   "metadata": {},
   "source": [
    "20191204 having one last go at the g140m extractions"
   ]
  },
  {
   "cell_type": "code",
   "execution_count": 8,
   "metadata": {},
   "outputs": [],
   "source": [
    "import numpy as np\n",
    "import matplotlib.pyplot as plt\n",
    "import astropy.io.fits as fits\n",
    "import os\n",
    "import glob\n",
    "from astropy.table import Table\n",
    "from astropy.io import ascii\n",
    "import astropy.units as u\n",
    "import astropy.constants as const\n",
    "from scipy.interpolate import interpolate\n",
    "#from craftroom import resample\n",
    "import stistools\n",
    "\n",
    "#matplotlib set up\n",
    "%matplotlib inline\n",
    "from matplotlib import rcParams\n",
    "rcParams[\"figure.figsize\"] = (14, 5)\n",
    "rcParams[\"font.size\"] = 20\n"
   ]
  },
  {
   "cell_type": "code",
   "execution_count": 3,
   "metadata": {},
   "outputs": [],
   "source": [
    "datapath = 'raw_data/'\n",
    "outpath = 'new_x1ds/'\n",
    "flts = glob.glob(datapath + '*flt.fits*')\n",
    "oref=\"${CRDS_PATH}/references/hst/oref/\"\n"
   ]
  },
  {
   "cell_type": "code",
   "execution_count": 5,
   "metadata": {},
   "outputs": [
    {
     "name": "stdout",
     "output_type": "stream",
     "text": [
      "Appending to trailer file new_x1ds/test.trl\n",
      "Running x1d on raw_data/oddv01030_flt.fits\n",
      "  ['cs6.e', 'raw_data/oddv01030_flt.fits', 'new_x1ds/test', '-v', '-back', '-cte', '-disp', '-hel', '-flux', '-bm', '-bo', '3', '-a', 'unweighted']\n"
     ]
    },
    {
     "data": {
      "text/plain": [
       "0"
      ]
     },
     "execution_count": 5,
     "metadata": {},
     "output_type": "execute_result"
    }
   ],
   "source": [
    "#check it works\n",
    "#stistools.x1d.x1d(flts[0], output=outpath+\"test\", verbose=True, trailer=outpath+\"test.trl\")"
   ]
  },
  {
   "cell_type": "code",
   "execution_count": 7,
   "metadata": {},
   "outputs": [],
   "source": [
    "#data = fits.getdata(outpath+'test.fits')\n",
    "#plt.plot(data[0]['WAVELENGTH'], data[0]['FLUX'])"
   ]
  },
  {
   "cell_type": "code",
   "execution_count": 15,
   "metadata": {},
   "outputs": [
    {
     "data": {
      "text/html": [
       "<i>Table length=85</i>\n",
       "<table id=\"table140125932295824\" class=\"table-striped table-bordered table-condensed\">\n",
       "<thead><tr><th>ROOTNAME</th><th>XCOL</th><th>A2CENTER</th><th>UNCERTAIN</th></tr></thead>\n",
       "<thead><tr><th>str9</th><th>float64</th><th>float64</th><th>float64</th></tr></thead>\n",
       "<tr><td>oddv01030</td><td>397.5643857974539</td><td>174.42706993478942</td><td>0.0</td></tr>\n",
       "<tr><td>odhsf1020</td><td>394.4548939298936</td><td>177.0758834973367</td><td>0.0</td></tr>\n",
       "<tr><td>odhs16030</td><td>394.4548939298936</td><td>182.98618900332974</td><td>0.0</td></tr>\n",
       "<tr><td>odhs16010</td><td>394.4548939298936</td><td>181.37428750169533</td><td>0.0</td></tr>\n",
       "<tr><td>odhs30030</td><td>391.7683914271695</td><td>185.13539100550906</td><td>0.0</td></tr>\n",
       "<tr><td>odhs05030</td><td>394.9921944304384</td><td>179.225085499516</td><td>0.0</td></tr>\n",
       "<tr><td>odhs05010</td><td>395.5294949309832</td><td>176.5385829967919</td><td>0.0</td></tr>\n",
       "<tr><td>odhs31070</td><td>392.3056919277143</td><td>185.13539100550906</td><td>0.0</td></tr>\n",
       "<tr><td>odhs30040</td><td>391.2310909266247</td><td>186.74729250714347</td><td>0.0</td></tr>\n",
       "<tr><td>oddv01040</td><td>388.54458842390056</td><td>174.38938099461268</td><td>0.0</td></tr>\n",
       "<tr><td>...</td><td>...</td><td>...</td><td>...</td></tr>\n",
       "<tr><td>odlm41050</td><td>387.46998742281085</td><td>403.8166947272514</td><td>0.0</td></tr>\n",
       "<tr><td>od3v01010</td><td>389.61918942499017</td><td>416.7119067403271</td><td>0.0</td></tr>\n",
       "<tr><td>odhs29040</td><td>393.9175934293487</td><td>185.67269150605387</td><td>0.0</td></tr>\n",
       "<tr><td>odhs31060</td><td>393.3802929288039</td><td>185.67269150605387</td><td>0.0</td></tr>\n",
       "<tr><td>odhsf1030</td><td>392.3056919277143</td><td>178.6877849989712</td><td>0.0</td></tr>\n",
       "<tr><td>odhs31020</td><td>392.3056919277143</td><td>182.98618900332974</td><td>0.0</td></tr>\n",
       "<tr><td>odhsc1040</td><td>388.00728792335576</td><td>172.24017899243336</td><td>0.0</td></tr>\n",
       "<tr><td>odhs07060</td><td>388.00728792335576</td><td>418.3238082419616</td><td>0.0</td></tr>\n",
       "<tr><td>odhs07010</td><td>389.61918942499017</td><td>416.1746062397823</td><td>0.0</td></tr>\n",
       "<tr><td>odhs32070</td><td>393.9175934293487</td><td>186.20999200659867</td><td>0.0</td></tr>\n",
       "</table>"
      ],
      "text/plain": [
       "<Table length=85>\n",
       " ROOTNAME        XCOL             A2CENTER      UNCERTAIN\n",
       "   str9        float64            float64        float64 \n",
       "--------- ------------------ ------------------ ---------\n",
       "oddv01030  397.5643857974539 174.42706993478942       0.0\n",
       "odhsf1020  394.4548939298936  177.0758834973367       0.0\n",
       "odhs16030  394.4548939298936 182.98618900332974       0.0\n",
       "odhs16010  394.4548939298936 181.37428750169533       0.0\n",
       "odhs30030  391.7683914271695 185.13539100550906       0.0\n",
       "odhs05030  394.9921944304384   179.225085499516       0.0\n",
       "odhs05010  395.5294949309832  176.5385829967919       0.0\n",
       "odhs31070  392.3056919277143 185.13539100550906       0.0\n",
       "odhs30040  391.2310909266247 186.74729250714347       0.0\n",
       "oddv01040 388.54458842390056 174.38938099461268       0.0\n",
       "      ...                ...                ...       ...\n",
       "odlm41050 387.46998742281085  403.8166947272514       0.0\n",
       "od3v01010 389.61918942499017  416.7119067403271       0.0\n",
       "odhs29040  393.9175934293487 185.67269150605387       0.0\n",
       "odhs31060  393.3802929288039 185.67269150605387       0.0\n",
       "odhsf1030  392.3056919277143  178.6877849989712       0.0\n",
       "odhs31020  392.3056919277143 182.98618900332974       0.0\n",
       "odhsc1040 388.00728792335576 172.24017899243336       0.0\n",
       "odhs07060 388.00728792335576  418.3238082419616       0.0\n",
       "odhs07010 389.61918942499017  416.1746062397823       0.0\n",
       "odhs32070  393.9175934293487 186.20999200659867       0.0"
      ]
     },
     "execution_count": 15,
     "metadata": {},
     "output_type": "execute_result"
    }
   ],
   "source": [
    "centab = Table.read('new_trace_centers.ecsv')\n",
    "centab"
   ]
  },
  {
   "cell_type": "code",
   "execution_count": 34,
   "metadata": {},
   "outputs": [],
   "source": [
    "def build_trace_grid(SPTRCTAB, grating, cenwave):\n",
    "    \"\"\"\n",
    "    Extends a grid of trace displacements to cover all y positions\n",
    "    \"\"\"\n",
    "    data = fits.getdata(SPTRCTAB, 1)\n",
    "    tracedata = data[(data['OPT_ELEM']==grating) & (data['CENWAVE'] == cenwave)]\n",
    "    all_y = np.arange(len(tracedata[0]['A2DISPL']))\n",
    "    grid = interpolate.interp1d(tracedata['A2CENTER'], tracedata['A2DISPL'], axis=0, fill_value='extrapolate')(all_y)\n",
    "    tracegrid = [a+b for a, b in zip(grid, all_y)] \n",
    "    return tracegrid\n",
    "\n",
    "def get_a2center(x, y, tracegrid):\n",
    "    \"\"\"\n",
    "    get the trace a2center at a1center\n",
    "    \"\"\"\n",
    "    xcol = np.array(tracegrid)[:,int(x)]\n",
    "    xind = (np.abs(xcol - y)).argmin()\n",
    "    a2center = xind + 1 #calstis is 1-indexed \n",
    "    return a2center\n"
   ]
  },
  {
   "cell_type": "code",
   "execution_count": 40,
   "metadata": {},
   "outputs": [],
   "source": [
    "for fl in glob.glob(outpath+'*.fits'):\n",
    "    os.remove(fl)\n",
    "\n",
    "for i, flt in enumerate(flts):\n",
    "    hdr = fits.getheader(flt, 0)\n",
    "    #build trace grid\n",
    "    if i == 0:\n",
    "        SPTRCTAB = hdr['SPTRCTAB']\n",
    "        grating = hdr['OPT_ELEM']\n",
    "        cenwave = hdr['CENWAVE']\n",
    "        tracegrid = build_trace_grid('/home/david/crds_cache/references/hst/oref/'+SPTRCTAB[5:], grating, cenwave)\n",
    "        \n",
    "    rootname =  hdr['ROOTNAME']\n",
    "    if rootname in centab['ROOTNAME']:\n",
    "        rootarg = np.argwhere(centab['ROOTNAME']==rootname)[0][0]\n",
    "        if centab['UNCERTAIN'][rootarg] == 0.0:\n",
    "            #adjust measured a2 center to central point\n",
    "            x = centab['XCOL'][rootarg]\n",
    "            y = centab['A2CENTER'][rootarg]\n",
    "            a2center = get_a2center(x,y, tracegrid)\n",
    "            stistools.x1d.x1d(flt, output=outpath+rootname+'_new_x1d.fits', verbose=False, trailer='trl_files/'+rootname+'.trl',a2center=a2center,maxsrch=0)\n",
    "   "
   ]
  },
  {
   "cell_type": "code",
   "execution_count": 41,
   "metadata": {},
   "outputs": [],
   "source": [
    "#grab the current state of the art...\n",
    "cspec = Table.read('extracted_spectra/hlsp_muscles_hst_stis_2mass-j23062928-0502285_g140m_v1_component-spec.ecsv')\n",
    "wc, fc, ec = cspec['WAVELENGTH'], cspec['FLUX'], cspec['ERROR']"
   ]
  },
  {
   "cell_type": "code",
   "execution_count": 44,
   "metadata": {},
   "outputs": [
    {
     "name": "stdout",
     "output_type": "stream",
     "text": [
      "83\n"
     ]
    },
    {
     "data": {
      "text/plain": [
       "(1212, 1218)"
      ]
     },
     "execution_count": 44,
     "metadata": {},
     "output_type": "execute_result"
    },
    {
     "data": {
      "image/png": "[encoded data removed]",
      "text/plain": [
       "<Figure size 1008x360 with 1 Axes>"
      ]
     },
     "metadata": {
      "needs_background": "light"
     },
     "output_type": "display_data"
    }
   ],
   "source": [
    "def new_coadd(f_array, e_array):\n",
    "    weights = 1 / (e_array**2)\n",
    "    flux = np.average(f_array, axis =0, weights = weights)\n",
    "    var = 1 / np.sum(weights, axis=0)\n",
    "    rcs = np.sum(((flux - f_array)**2) * weights, axis=0) / (len(f_array)-1)\n",
    "    error = (var * rcs)**0.5\n",
    "    return flux, error\n",
    "\n",
    "f_new = []\n",
    "e_new = []\n",
    "\n",
    "new_x1ds = glob.glob(outpath+'*new_x1d*')\n",
    "print(len(new_x1ds))\n",
    "for i, x in enumerate(new_x1ds):\n",
    "        data = fits.getdata(x, 1)[0]\n",
    "        if i == 0:\n",
    "            w_new = data['WAVELENGTH']\n",
    "           # w_new = np.arange(w_new[5], w_new[-6], np.mean(np.diff(w_new)))\n",
    "            f_new.append(data['FLUX'])\n",
    "            e_new.append(data['ERROR'])\n",
    "        else:\n",
    "            fi = interpolate.interp1d(data['WAVELENGTH'], data['FLUX'], fill_value='extrapolate')(w_new)\n",
    "            f_new.append(fi)\n",
    "            ei = interpolate.interp1d(data['WAVELENGTH'], data['ERROR'], fill_value='extrapolate')(w_new)\n",
    "            e_new.append(ei)\n",
    "\n",
    "f_new, e_new = new_coadd(np.array(f_new), np.array(e_new))\n",
    "plt.step(w_new, f_new, where='mid')\n",
    "plt.step(wc, fc, where='mid', zorder=-1)\n",
    "plt.axhline(0, ls='--', c='0.5')\n",
    "plt.xlim(1212, 1218)"
   ]
  },
  {
   "cell_type": "code",
   "execution_count": null,
   "metadata": {},
   "outputs": [],
   "source": []
  }
 ],
 "metadata": {
  "kernelspec": {
   "display_name": "Python (stsci)",
   "language": "python",
   "name": "myenv"
  },
  "language_info": {
   "codemirror_mode": {
    "name": "ipython",
    "version": 3
   },
   "file_extension": ".py",
   "mimetype": "text/x-python",
   "name": "python",
   "nbconvert_exporter": "python",
   "pygments_lexer": "ipython3",
   "version": "3.7.5"
  }
 },
 "nbformat": 4,
 "nbformat_minor": 4
}
