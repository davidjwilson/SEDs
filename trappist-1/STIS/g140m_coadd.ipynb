{
 "cells": [
  {
   "cell_type": "code",
   "execution_count": 1,
   "metadata": {},
   "outputs": [],
   "source": [
    "import numpy as np\n",
    "import matplotlib.pyplot as plt\n",
    "import astropy.io.fits as fits\n",
    "import os\n",
    "import glob\n",
    "from astropy.table import Table\n",
    "from astropy.io import ascii\n",
    "import astropy.units as u\n",
    "import astropy.constants as const\n",
    "from scipy.interpolate import interpolate\n",
    "from craftroom import resample\n",
    "\n",
    "#matplotlib set up\n",
    "%matplotlib inline\n",
    "from matplotlib import rcParams\n",
    "rcParams[\"figure.figsize\"] = (14, 5)\n",
    "rcParams[\"font.size\"] = 20"
   ]
  },
  {
   "cell_type": "markdown",
   "metadata": {},
   "source": [
    "making a quick fake dq "
   ]
  },
  {
   "cell_type": "code",
   "execution_count": 2,
   "metadata": {},
   "outputs": [],
   "source": [
    "data = Table.read('extracted_spectra/TRAPPIST-1_G140M_all_coadd2.ecsv')"
   ]
  },
  {
   "cell_type": "code",
   "execution_count": 3,
   "metadata": {},
   "outputs": [],
   "source": [
    "dq = np.zeros(len(data['WAVELENGTH']))"
   ]
  },
  {
   "cell_type": "code",
   "execution_count": 4,
   "metadata": {},
   "outputs": [],
   "source": [
    "data['DQ'] = dq"
   ]
  },
  {
   "cell_type": "code",
   "execution_count": 5,
   "metadata": {},
   "outputs": [
    {
     "data": {
      "text/html": [
       "<i>Table length=1024</i>\n",
       "<table id=\"table140414255607312\" class=\"table-striped table-bordered table-condensed\">\n",
       "<thead><tr><th>WAVELENGTH</th><th>FLUX</th><th>ERROR</th><th>DQ</th></tr></thead>\n",
       "<thead><tr><th>Angstrom</th><th>erg / (Angstrom cm2 s)</th><th>erg / (Angstrom cm2 s)</th><th></th></tr></thead>\n",
       "<thead><tr><th>float64</th><th>float64</th><th>float64</th><th>float64</th></tr></thead>\n",
       "<tr><td>1194.37721698802</td><td>-1.833916440485774e-16</td><td>2.5202795376958417e-20</td><td>0.0</td></tr>\n",
       "<tr><td>1194.4305041995433</td><td>-1.7901713199101087e-16</td><td>2.5359262925815004e-20</td><td>0.0</td></tr>\n",
       "<tr><td>1194.483791118679</td><td>-1.7721208561486587e-16</td><td>2.6404886579197337e-20</td><td>0.0</td></tr>\n",
       "<tr><td>1194.5370777454316</td><td>-1.7327664184066406e-16</td><td>2.759147715170851e-20</td><td>0.0</td></tr>\n",
       "<tr><td>1194.5903640798065</td><td>-1.4778437633074495e-16</td><td>2.6498475354568386e-20</td><td>0.0</td></tr>\n",
       "<tr><td>1194.6436501218082</td><td>-1.5632977462487717e-16</td><td>2.755954299424868e-20</td><td>0.0</td></tr>\n",
       "<tr><td>1194.6969358714418</td><td>-9.990377533124539e-17</td><td>3.102219228454872e-20</td><td>0.0</td></tr>\n",
       "<tr><td>1194.7502213287116</td><td>-4.419407923641826e-17</td><td>3.275252262088243e-20</td><td>0.0</td></tr>\n",
       "<tr><td>1194.8035064936228</td><td>6.885555462744444e-18</td><td>3.340808504260607e-20</td><td>0.0</td></tr>\n",
       "<tr><td>...</td><td>...</td><td>...</td><td>...</td></tr>\n",
       "<tr><td>1248.2611099650414</td><td>-5.2221990315073406e-17</td><td>1.5153265054768502e-20</td><td>0.0</td></tr>\n",
       "<tr><td>1248.3141031448085</td><td>-2.8535831330555625e-17</td><td>1.5534067068840497e-20</td><td>0.0</td></tr>\n",
       "<tr><td>1248.3670960370014</td><td>-4.3963417411390944e-17</td><td>1.5098070229863322e-20</td><td>0.0</td></tr>\n",
       "<tr><td>1248.4200886416247</td><td>-7.707677881131546e-17</td><td>1.3403280228522333e-20</td><td>0.0</td></tr>\n",
       "<tr><td>1248.4730809586833</td><td>-7.740988612897661e-17</td><td>1.2506826259437883e-20</td><td>0.0</td></tr>\n",
       "<tr><td>1248.526072988182</td><td>-8.304348934095741e-17</td><td>1.09958088381416e-20</td><td>0.0</td></tr>\n",
       "<tr><td>1248.579064730125</td><td>-6.716069330470167e-17</td><td>1.0204410930249276e-20</td><td>0.0</td></tr>\n",
       "<tr><td>1248.632056184517</td><td>-6.7892660228883e-17</td><td>1.0578621514203531e-20</td><td>0.0</td></tr>\n",
       "<tr><td>1248.6850473513634</td><td>-6.93309429133132e-17</td><td>1.0850337972080433e-20</td><td>0.0</td></tr>\n",
       "<tr><td>1248.7380382306678</td><td>-6.877948201223648e-17</td><td>1.1504411332966833e-20</td><td>0.0</td></tr>\n",
       "</table>"
      ],
      "text/plain": [
       "<Table length=1024>\n",
       "    WAVELENGTH               FLUX                  ERROR             DQ  \n",
       "     Angstrom       erg / (Angstrom cm2 s) erg / (Angstrom cm2 s)        \n",
       "     float64               float64                float64         float64\n",
       "------------------ ----------------------- ---------------------- -------\n",
       "  1194.37721698802  -1.833916440485774e-16 2.5202795376958417e-20     0.0\n",
       "1194.4305041995433 -1.7901713199101087e-16 2.5359262925815004e-20     0.0\n",
       " 1194.483791118679 -1.7721208561486587e-16 2.6404886579197337e-20     0.0\n",
       "1194.5370777454316 -1.7327664184066406e-16  2.759147715170851e-20     0.0\n",
       "1194.5903640798065 -1.4778437633074495e-16 2.6498475354568386e-20     0.0\n",
       "1194.6436501218082 -1.5632977462487717e-16  2.755954299424868e-20     0.0\n",
       "1194.6969358714418  -9.990377533124539e-17  3.102219228454872e-20     0.0\n",
       "1194.7502213287116  -4.419407923641826e-17  3.275252262088243e-20     0.0\n",
       "1194.8035064936228   6.885555462744444e-18  3.340808504260607e-20     0.0\n",
       "               ...                     ...                    ...     ...\n",
       "1248.2611099650414 -5.2221990315073406e-17 1.5153265054768502e-20     0.0\n",
       "1248.3141031448085 -2.8535831330555625e-17 1.5534067068840497e-20     0.0\n",
       "1248.3670960370014 -4.3963417411390944e-17 1.5098070229863322e-20     0.0\n",
       "1248.4200886416247  -7.707677881131546e-17 1.3403280228522333e-20     0.0\n",
       "1248.4730809586833  -7.740988612897661e-17 1.2506826259437883e-20     0.0\n",
       " 1248.526072988182  -8.304348934095741e-17   1.09958088381416e-20     0.0\n",
       " 1248.579064730125  -6.716069330470167e-17 1.0204410930249276e-20     0.0\n",
       " 1248.632056184517    -6.7892660228883e-17 1.0578621514203531e-20     0.0\n",
       "1248.6850473513634   -6.93309429133132e-17 1.0850337972080433e-20     0.0\n",
       "1248.7380382306678  -6.877948201223648e-17 1.1504411332966833e-20     0.0"
      ]
     },
     "execution_count": 5,
     "metadata": {},
     "output_type": "execute_result"
    }
   ],
   "source": [
    "data"
   ]
  },
  {
   "cell_type": "code",
   "execution_count": 7,
   "metadata": {},
   "outputs": [],
   "source": [
    "ascii.write(data, 'extracted_spectra/TRAPPIST-1_G140M_fake_dq.ecsv', format='ecsv', overwrite=True)"
   ]
  },
  {
   "cell_type": "code",
   "execution_count": null,
   "metadata": {},
   "outputs": [],
   "source": []
  }
 ],
 "metadata": {
  "kernelspec": {
   "display_name": "Python 3",
   "language": "python",
   "name": "python3"
  },
  "language_info": {
   "codemirror_mode": {
    "name": "ipython",
    "version": 3
   },
   "file_extension": ".py",
   "mimetype": "text/x-python",
   "name": "python",
   "nbconvert_exporter": "python",
   "pygments_lexer": "ipython3",
   "version": "3.6.8"
  }
 },
 "nbformat": 4,
 "nbformat_minor": 2
}
