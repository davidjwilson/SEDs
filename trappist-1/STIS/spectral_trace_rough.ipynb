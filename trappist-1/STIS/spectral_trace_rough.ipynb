{
 "cells": [
  {
   "cell_type": "markdown",
   "metadata": {},
   "source": [
    "Looking at how to work with the spectral extraction traces"
   ]
  },
  {
   "cell_type": "code",
   "execution_count": 2,
   "metadata": {},
   "outputs": [],
   "source": [
    "import numpy as np\n",
    "import matplotlib.pyplot as plt\n",
    "import astropy.io.fits as fits\n",
    "import os\n",
    "\n",
    "import glob\n",
    "from astropy.table import Table\n",
    "from astropy.io import ascii\n",
    "import astropy.units as u\n",
    "import astropy.constants as const\n",
    "from scipy.interpolate import interpolate\n",
    "from craftroom import resample\n",
    "\n",
    "#matplotlib set up\n",
    "%matplotlib inline\n",
    "from matplotlib import rcParams\n",
    "rcParams[\"figure.figsize\"] = (14, 5)\n",
    "rcParams[\"font.size\"] = 20"
   ]
  },
  {
   "cell_type": "code",
   "execution_count": 3,
   "metadata": {},
   "outputs": [
    {
     "name": "stdout",
     "output_type": "stream",
     "text": [
      "The following tasks in the stistools package can be run with TEAL:\n",
      "   basic2d      calstis     ocrreject     wavecal        x1d          x2d\n"
     ]
    },
    {
     "name": "stderr",
     "output_type": "stream",
     "text": [
      "/home/david/anaconda3/lib/python3.6/site-packages/stsci/tools/nmpfit.py:10: UserWarning: NMPFIT is deprecated - stsci.tools v 3.4.13 is the last version to contain it.\n",
      "  warnings.warn(\"NMPFIT is deprecated - stsci.tools v 3.4.13 is the last version to contain it.\")\n",
      "/home/david/anaconda3/lib/python3.6/site-packages/stsci/tools/gfit.py:20: UserWarning: GFIT is deprecated - stsci.tools v 3.4.12 is the last version to contain it.Use astropy.modeling instead.\n",
      "  warnings.warn(\"GFIT is deprecated - stsci.tools v 3.4.12 is the last version to contain it.\"\n"
     ]
    }
   ],
   "source": [
    "import stistools"
   ]
  },
  {
   "cell_type": "code",
   "execution_count": 4,
   "metadata": {},
   "outputs": [],
   "source": [
    "path = '/home/david/work/muscles/trappist-1/hst/g140m_cals/'\n",
    "rawpath = path + 'all_obs/'\n",
    "outpath = path + 'picked_trace_extracts/'"
   ]
  },
  {
   "cell_type": "code",
   "execution_count": 5,
   "metadata": {},
   "outputs": [],
   "source": [
    "old_x1ds = glob.glob(rawpath+'*x1d.fits')"
   ]
  },
  {
   "cell_type": "code",
   "execution_count": 6,
   "metadata": {},
   "outputs": [
    {
     "data": {
      "text/plain": [
       "'oref$q8l14504o_1dt.fits'"
      ]
     },
     "execution_count": 6,
     "metadata": {},
     "output_type": "execute_result"
    }
   ],
   "source": [
    "spectab = fits.getheader(old_x1ds[0],0)['SPTRCTAB']\n",
    "spectab"
   ]
  },
  {
   "cell_type": "code",
   "execution_count": 7,
   "metadata": {},
   "outputs": [],
   "source": [
    "hdul = fits.open(rawpath+spectab[5:])"
   ]
  },
  {
   "cell_type": "code",
   "execution_count": 8,
   "metadata": {},
   "outputs": [
    {
     "name": "stdout",
     "output_type": "stream",
     "text": [
      "Filename: /home/david/work/muscles/trappist-1/hst/g140m_cals/all_obs/q8l14504o_1dt.fits\n",
      "No.    Name      Ver    Type      Cards   Dimensions   Format\n",
      "  0  PRIMARY       1 PrimaryHDU     107   ()      \n",
      "  1  1DT           1 BinTableHDU     59   1032R x 12C   [8A, 1I, 1I, 1I, 1024E, 1E, 1E, 1E, 1D, 1D, 67A, 67A]   \n"
     ]
    }
   ],
   "source": [
    "hdul.info()"
   ]
  },
  {
   "cell_type": "code",
   "execution_count": 9,
   "metadata": {},
   "outputs": [
    {
     "data": {
      "text/plain": [
       "XTENSION= 'BINTABLE'           / binary table extension                         \n",
       "BITPIX  =                    8 / 8-bit bytes                                    \n",
       "NAXIS   =                    2 / 2-dimensional binary table                     \n",
       "NAXIS1  =                 4272 / width of table in bytes                        \n",
       "NAXIS2  =                 1032                                                  \n",
       "PCOUNT  =                    0 / size of special data area                      \n",
       "GCOUNT  =                    1 / one data group (required keyword)              \n",
       "TFIELDS =                   12                                                  \n",
       "TTYPE1  = 'OPT_ELEM'           / label for field   1                            \n",
       "TFORM1  = '8A      '           / data format of field: ASCII Character          \n",
       "TTYPE2  = 'CENWAVE '           / label for field   2                            \n",
       "TFORM2  = '1I      '           / data format of field: 2-byte INTEGER           \n",
       "TUNIT2  = 'angstrom'           / physical unit of field                         \n",
       "TTYPE3  = 'SPORDER '           / label for field   3                            \n",
       "TFORM3  = '1I      '           / data format of field: 2-byte INTEGER           \n",
       "TTYPE4  = 'NELEM   '           / label for field   4                            \n",
       "TFORM4  = '1I      '           / data format of field: 2-byte INTEGER           \n",
       "TTYPE5  = 'A2DISPL '           / label for field   5                            \n",
       "TFORM5  = '1024E   '           / data format of field: 4-byte REAL              \n",
       "TUNIT5  = 'pixel   '           / physical unit of field                         \n",
       "TTYPE6  = 'A1CENTER'           / label for field   6                            \n",
       "TFORM6  = '1E      '           / data format of field: 4-byte REAL              \n",
       "TUNIT6  = 'pixel   '           / physical unit of field                         \n",
       "TTYPE7  = 'A2CENTER'           / label for field   7                            \n",
       "TFORM7  = '1E      '           / data format of field: 4-byte REAL              \n",
       "TUNIT7  = 'pixel   '           / physical unit of field                         \n",
       "TTYPE8  = 'SNR_THRESH'         / label for field   8                            \n",
       "TFORM8  = '1E      '           / data format of field: 4-byte REAL              \n",
       "TTYPE9  = 'MJD     '           / label for field   9                            \n",
       "TFORM9  = '1D      '           / data format of field: 8-byte DOUBLE            \n",
       "TUNIT9  = 'day     '           / physical unit of field                         \n",
       "TTYPE10 = 'DEGPERYR'           / label for field  10                            \n",
       "TFORM10 = '1D      '           / data format of field: 8-byte DOUBLE            \n",
       "TUNIT10 = 'degree/year'        / physical unit of field                         \n",
       "TTYPE11 = 'PEDIGREE'           / label for field  11                            \n",
       "TFORM11 = '67A     '           / data format of field: ASCII Character          \n",
       "TTYPE12 = 'DESCRIP '           / label for field  12                            \n",
       "TFORM12 = '67A     '           / data format of field: ASCII Character          \n",
       "TDISP1  = 'A8      '           / display format                                 \n",
       "TDISP2  = 'I5      '           / display format                                 \n",
       "TNULL2  =               -32767 / undefined value for column                     \n",
       "TDISP3  = 'I5      '           / display format                                 \n",
       "TNULL3  =               -32767 / undefined value for column                     \n",
       "TDISP4  = 'I7      '           / display format                                 \n",
       "TNULL4  =               -32767 / undefined value for column                     \n",
       "TDISP5  = 'G10.6   '           / display format                                 \n",
       "TDISP6  = 'G10.4   '           / display format                                 \n",
       "TDISP7  = 'G10.4   '           / display format                                 \n",
       "TDISP8  = 'G10.6   '           / display format                                 \n",
       "TDISP9  = 'F9.2    '           / display format                                 \n",
       "TDISP10 = 'F10.5   '           / display format                                 \n",
       "TDISP11 = 'A67     '           / display format                                 \n",
       "TDISP12 = 'A67     '           / display format                                 \n",
       "COMMENT    *** End of required fields ***                                       \n",
       "EXTNAME = '1DT     '                                                            \n",
       "EXTVER  =                    1                                                  \n",
       "INHERIT =                    T                                                  \n",
       "COMMENT    *** Column formats ***                                               \n",
       "COMMENT    *** Column Names ***                                                 "
      ]
     },
     "execution_count": 9,
     "metadata": {},
     "output_type": "execute_result"
    }
   ],
   "source": [
    "hdul[1].header"
   ]
  },
  {
   "cell_type": "code",
   "execution_count": 10,
   "metadata": {},
   "outputs": [
    {
     "data": {
      "text/plain": [
       "SIMPLE  =                    T / Fits standard                                  \n",
       "BITPIX  =                   16 / Bits per pixel                                 \n",
       "NAXIS   =                    0 / Number of axes                                 \n",
       "EXTEND  =                    T / File may contain extensions                    \n",
       "ORIGIN  = 'NOAO-IRAF FITS Image Kernel July 1999' / FITS file originator        \n",
       "IRAF-TLM= '19:48:23 (21/08/2006)'                                               \n",
       "NEXTEND =                    1 / number of extensions in file                   \n",
       "                                                                                \n",
       "FILENAME= 'q8l14504o_1dt.fits' / name of file                                   \n",
       "TELESCOP= 'HST     '           /                                                \n",
       "INSTRUME= 'STIS    '           /                                                \n",
       "DETECTOR= 'FUV-MAMA'           /                                                \n",
       "DATE    = '2001-01-30T18:23:07'                                                 \n",
       "FILETYPE= '1-D SPECTRUM TRACE TABLE' /                                          \n",
       "OBSTYPE = 'SPECTROSCOPIC'      /                                                \n",
       "USEAFTER= 'Mar 14 1999 00:00:00'                                                \n",
       "DESCRIP = 'New G140L traces and updated Echelle A2CENTER values'                \n",
       "APERTURE= 'N/A     '           /                                                \n",
       "CENWAVE =                   -1 /                                                \n",
       "PEDIGREE= 'INFLIGHT 27/02/1997 06/02/1999'                                      \n",
       "COMMENT = 'Updated by Lindler/Bohlin/Dressel/Holfeltz/Kim/Hodge/Aloisi/Proffitt'\n",
       "HISTORY   This file is the first post-launch trace table and includes a small   \n",
       "HISTORY   amount of spectral order curvature determined from standard star      \n",
       "HISTORY   observations.  The following combinations still have the pre-launch   \n",
       "HISTORY   values as no relevant post-launch data is available:                  \n",
       "HISTORY                                                                         \n",
       "HISTORY   G140M 1218, 1387, 1400, 1540, 1640                                    \n",
       "HISTORY                                                                         \n",
       "HISTORY   The 1-D spectrum trace table consists of displacements of             \n",
       "HISTORY   spectra along AXIS2 for determining the location of a spectrum        \n",
       "HISTORY   prior to extracting the 1-D spectrum or rectifying a 2-D spectrum.    \n",
       "HISTORY   Each row of this table consists of an array of the                    \n",
       "HISTORY   AXIS2-displacements (A2DISPL) of the center of the spectrum from      \n",
       "HISTORY   the nominal center (at a reference pixel position in the              \n",
       "HISTORY   dispersion direction, A1CENTER), tabulated by position along the      \n",
       "HISTORY   slit (A2CENTER).  The 1DT table is sometimes referred to as the       \n",
       "HISTORY   geometric distortion table.                                           \n",
       "HISTORY                                                                         \n",
       "HISTORY   The analysis consisted of fitting a Gaussian to the                   \n",
       "HISTORY   cross-dispersion profile at each AXIS1 pixel of each observed         \n",
       "HISTORY   spectrum. The displacements were calculated as the difference         \n",
       "HISTORY   between the center of the Gaussian profile at pixel n and pixel       \n",
       "HISTORY   512. The A2CENTER values were are simply the AXIS2 values at          \n",
       "HISTORY   AXIS1=512.                                                            \n",
       "HISTORY = 'fuv-mama_1dt_x.fits renamed to i861242oo_1dt.fits on Aug 6 1998' /   \n",
       "HISTORY                                                                         \n",
       "HISTORY   The E140H/1453 setting had incorrect values which have been revised   \n",
       "HISTORY   with this version of the file (there was a 1 row offset).             \n",
       "COMMENT   Updated by P.Hodge                                                    \n",
       "HISTORY   new_1dt.fits renamed to j8i14118o_1dt.fits on Aug 18 1999             \n",
       "HISTORY   fuv_mama_premsm_1dt.fits renamed to l2j01381o_1dt.fits on Feb 19 2001 \n",
       "HISTORY                                                                         \n",
       "HISTORY   Oct 21 2002                                                           \n",
       "HISTORY                                                                         \n",
       "HISTORY   Removed bad rows for G140M CENWAVE 1218, 1387, 1400, 1540             \n",
       "HISTORY   and 1640.                                                             \n",
       "HISTORY   new_1dt.fits renamed to mam15290o_1dt.fits on Oct 22 2002             \n",
       "HISTORY                                                                         \n",
       "HISTORY   Update August 2006                                                    \n",
       "HISTORY                                                                         \n",
       "HISTORY   New traces were derived for G140L by making 11-node spline fits to    \n",
       "HISTORY   data taken in program 7097.  Data spanning STIS operations were used  \n",
       "HISTORY   to measure the linear change with time (DEGPERYR) of the angle of     \n",
       "HISTORY   the trace on the detector.  The traces were rotated to the tilt       \n",
       "HISTORY   measured on the date entered as MJD.  This reference file is used     \n",
       "HISTORY   for data taken with monthly offsets that placed the target below      \n",
       "HISTORY   the center of the detector, after 14 March 1999.                      \n",
       "HISTORY                                                                         \n",
       "HISTORY   E140H and E140M                                                       \n",
       "HISTORY                                                                         \n",
       "HISTORY   A2CENTER column values for all wavelength settings for E140H and      \n",
       "HISTORY   E140M gratings have been updated to improve extraction of individual  \n",
       "HISTORY   orders. A fourth-order polynomial was fit to the A2CENTER values in   \n",
       "HISTORY   the previous 1dt files to remove any outliers.                        \n",
       "HISTORY                                                                         \n",
       "HISTORY   Updated by J. Kim Quijano, P. Hodge, A. Aloisi, C. Proffitt, Aug 2006 \n",
       "HISTORY mam15290b_new.fits renamed to q8l14504o_1dt.fits on Aug 21 2006         \n",
       "                                                                                \n",
       "                                                                                \n",
       "                                                                                \n",
       "                                                                                \n",
       "                                                                                \n",
       "                                                                                \n",
       "                                                                                \n",
       "                                                                                \n",
       "                                                                                \n",
       "                                                                                \n",
       "                                                                                \n",
       "                                                                                \n",
       "                                                                                \n",
       "                                                                                \n",
       "                                                                                \n",
       "                                                                                \n",
       "                                                                                \n",
       "                                                                                \n",
       "                                                                                \n",
       "                                                                                \n",
       "                                                                                \n",
       "                                                                                \n",
       "                                                                                \n",
       "                                                                                \n",
       "                                                                                \n",
       "                                                                                \n",
       "                                                                                \n",
       "                                                                                \n",
       "                                                                                \n",
       "                                                                                "
      ]
     },
     "execution_count": 10,
     "metadata": {},
     "output_type": "execute_result"
    }
   ],
   "source": [
    "hdul[0].header"
   ]
  },
  {
   "cell_type": "code",
   "execution_count": 11,
   "metadata": {},
   "outputs": [],
   "source": [
    "data = hdul[1].data"
   ]
  },
  {
   "cell_type": "code",
   "execution_count": 12,
   "metadata": {},
   "outputs": [
    {
     "data": {
      "text/plain": [
       "['OPT_ELEM',\n",
       " 'CENWAVE',\n",
       " 'SPORDER',\n",
       " 'NELEM',\n",
       " 'A2DISPL',\n",
       " 'A1CENTER',\n",
       " 'A2CENTER',\n",
       " 'SNR_THRESH',\n",
       " 'MJD',\n",
       " 'DEGPERYR',\n",
       " 'PEDIGREE',\n",
       " 'DESCRIP']"
      ]
     },
     "execution_count": 12,
     "metadata": {},
     "output_type": "execute_result"
    }
   ],
   "source": [
    "data.names"
   ]
  },
  {
   "cell_type": "code",
   "execution_count": 13,
   "metadata": {},
   "outputs": [
    {
     "name": "stdout",
     "output_type": "stream",
     "text": [
      "G140M 1222\n"
     ]
    }
   ],
   "source": [
    "grating = fits.getheader(old_x1ds[0],0)['OPT_ELEM']\n",
    "cenwave = fits.getheader(old_x1ds[0],0)['CENWAVE']\n",
    "print(grating, cenwave)"
   ]
  },
  {
   "cell_type": "code",
   "execution_count": 14,
   "metadata": {},
   "outputs": [],
   "source": [
    "tracedata = data[(data['OPT_ELEM']==grating) & (data['CENWAVE'] == cenwave)]"
   ]
  },
  {
   "cell_type": "code",
   "execution_count": 15,
   "metadata": {},
   "outputs": [
    {
     "data": {
      "text/plain": [
       "('G140M', 1222, 1, 1024, array([-5.46, -5.44, -5.42, ...,  5.06,  5.08,  5.1 ], dtype=float32), 513.0, 36.9, 3.0, 50000.0, 0.0, 'INFLIGHT 27/02/97 30/06/98', 'Sandoval, Initial Postlaunch Calibration')"
      ]
     },
     "execution_count": 15,
     "metadata": {},
     "output_type": "execute_result"
    }
   ],
   "source": [
    "tracedata[0]"
   ]
  },
  {
   "cell_type": "code",
   "execution_count": 16,
   "metadata": {},
   "outputs": [
    {
     "data": {
      "text/plain": [
       "[<matplotlib.lines.Line2D at 0x7fb2b6552160>]"
      ]
     },
     "execution_count": 16,
     "metadata": {},
     "output_type": "execute_result"
    },
    {
     "data": {
      "image/png": "[encoded data removed]",
      "text/plain": [
       "<Figure size 432x288 with 1 Axes>"
      ]
     },
     "metadata": {
      "needs_background": "light"
     },
     "output_type": "display_data"
    }
   ],
   "source": [
    "plt.plot(np.arange(len(tracedata[0]['A2DISPL'])),tracedata[0]['A2DISPL'] )\n",
    "plt.plot(np.arange(len(tracedata[-1]['A2DISPL'])),tracedata[-1]['A2DISPL'] )"
   ]
  },
  {
   "cell_type": "markdown",
   "metadata": {},
   "source": [
    "Ok...so I need to find the value of a2center at which the trace goes through my selected spectrum position.  \n",
    "\n",
    "Build grid for all a2centers? Or ones just around the spectrum positions? How long does it take?"
   ]
  },
  {
   "cell_type": "code",
   "execution_count": 17,
   "metadata": {},
   "outputs": [],
   "source": [
    "all_y = np.arange(len(tracedata[0]['A2DISPL']))\n",
    "terpy = interpolate.interp1d(tracedata['A2CENTER'], tracedata['A2DISPL'], axis=0, fill_value='extrapolate')"
   ]
  },
  {
   "cell_type": "code",
   "execution_count": 18,
   "metadata": {},
   "outputs": [],
   "source": [
    "tracegrid = terpy(all_y)"
   ]
  },
  {
   "cell_type": "code",
   "execution_count": 19,
   "metadata": {},
   "outputs": [
    {
     "data": {
      "text/plain": [
       "1024"
      ]
     },
     "execution_count": 19,
     "metadata": {},
     "output_type": "execute_result"
    }
   ],
   "source": [
    "len(tracegrid[0])"
   ]
  },
  {
   "cell_type": "markdown",
   "metadata": {},
   "source": [
    "Ok that was quick."
   ]
  },
  {
   "cell_type": "code",
   "execution_count": 20,
   "metadata": {},
   "outputs": [
    {
     "name": "stdout",
     "output_type": "stream",
     "text": [
      "[-5.57009374 -5.55786111 -5.55562852 ...  4.79155728  4.80932436\n",
      "  4.82320817]\n",
      "[ 94.42990626  94.44213889  94.44437148 ... 104.79155728 104.80932436\n",
      " 104.82320817]\n"
     ]
    }
   ],
   "source": [
    "corrgrid = [a+b for a, b in zip(tracegrid, all_y)] \n",
    "print(tracegrid[100])\n",
    "print(corrgrid[100])"
   ]
  },
  {
   "cell_type": "code",
   "execution_count": 21,
   "metadata": {},
   "outputs": [],
   "source": [
    "xpick = 380\n",
    "ypick = 175 "
   ]
  },
  {
   "cell_type": "code",
   "execution_count": 22,
   "metadata": {},
   "outputs": [
    {
     "data": {
      "text/plain": [
       "array([-1.51790162e+00, -5.18229491e-01,  4.81442641e-01, ...,\n",
       "        1.01955170e+03,  1.02055227e+03,  1.02155284e+03])"
      ]
     },
     "execution_count": 22,
     "metadata": {},
     "output_type": "execute_result"
    }
   ],
   "source": [
    "xcol = np.array(corrgrid)[:,xpick]\n",
    "xcol"
   ]
  },
  {
   "cell_type": "code",
   "execution_count": 23,
   "metadata": {},
   "outputs": [
    {
     "data": {
      "text/plain": [
       "177"
      ]
     },
     "execution_count": 23,
     "metadata": {},
     "output_type": "execute_result"
    }
   ],
   "source": [
    "xind = (np.abs(xcol - ypick)).argmin()\n",
    "xind"
   ]
  },
  {
   "cell_type": "code",
   "execution_count": 24,
   "metadata": {},
   "outputs": [
    {
     "data": {
      "text/plain": [
       "177"
      ]
     },
     "execution_count": 24,
     "metadata": {},
     "output_type": "execute_result"
    }
   ],
   "source": [
    "all_y[xind]"
   ]
  },
  {
   "cell_type": "markdown",
   "metadata": {},
   "source": [
    "That looks like it worked. Ok, so I need to appy that to each trace. Uhhh, need to go back and get x positions for everything as well."
   ]
  },
  {
   "cell_type": "code",
   "execution_count": null,
   "metadata": {},
   "outputs": [],
   "source": []
  }
 ],
 "metadata": {
  "kernelspec": {
   "display_name": "Python 3",
   "language": "python",
   "name": "python3"
  },
  "language_info": {
   "codemirror_mode": {
    "name": "ipython",
    "version": 3
   },
   "file_extension": ".py",
   "mimetype": "text/x-python",
   "name": "python",
   "nbconvert_exporter": "python",
   "pygments_lexer": "ipython3",
   "version": "3.6.8"
  }
 },
 "nbformat": 4,
 "nbformat_minor": 2
}
