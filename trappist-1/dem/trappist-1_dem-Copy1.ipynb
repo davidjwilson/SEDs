{
 "cells": [
  {
   "cell_type": "markdown",
   "metadata": {},
   "source": [
    "# TRAPPIST-1 Corona Spectrum Modelled With Differential Emission Measure"
   ]
  },
  {
   "cell_type": "markdown",
   "metadata": {},
   "source": [
    "The intrinsic specific intensity of a single emission line is:\n",
    "\n",
    "$$I_{\\lambda_{ul}} = \\frac{1}{4\\pi}\\int_{\\mathrm{Line-of-sight}} n_{u} A_{ul} \\frac{hc}{\\lambda_{ul}} ds$$\n",
    "\n",
    "where $ul$ indicates a transition from an upper state $u$ to a lower state $l$, $\\lambda_{ul}$ is the wavelength of the transition, $n_u$ is the number density of the emitting species in the upper state, and $A_{ul}$ is the Einstein rate coefficient of the transition.\n",
    "\n",
    "By rewriting $n_u$:\n",
    "$$n_u = \\frac{n_u}{n_{\\mathrm{ion}}}\\frac{n_{\\mathrm{ion}}}{n_{\\mathrm{el}}}\\frac{n_{\\mathrm{el}}}{n_H}n_H$$\n",
    "where $n_{\\mathrm{el}}$ is the number density of the element of the species, we can construct a contribution function $G(T)$ that depends only on atomic data like the rate coefficient and transition wavelength, the ionization fraction, and elemental abundance.\n",
    "\n",
    "This allows us to rewrite the intensity integral to be:\n",
    "$$I_{\\lambda_{ul}} = \\int_{\\mathrm{T}} G(T) \\Psi (T) dT$$\n",
    "\n",
    "where $\\Psi (T) = n_e n_H \\frac{ds}{dT} = $ the differential emission measure. $G(T)$ measures the contribution of material at a given temperature to the emitted intensity of a line while $\\Psi (T)$ measures the amount of material that is present at a given temperature along the line of sight.\n",
    "\n",
    "We have measured line intensities across a range of formation temperatures, allowing us to fit for $\\Psi$ (assuming a continuous function, in this case a $4^{\\mathrm{th}}$ order polynomial in loglogspace), and then calculate the expected intensities of lines across the entire wavelength range for which we expect this distribution to apply (i.e. the corona)."
   ]
  },
  {
   "cell_type": "markdown",
   "metadata": {},
   "source": [
    "## Setting up required packages:"
   ]
  },
  {
   "cell_type": "code",
   "execution_count": 1,
   "metadata": {},
   "outputs": [
    {
     "name": "stdout",
     "output_type": "stream",
     "text": [
      " found PyQt5 widgets\n",
      " using PyQt5 widgets\n"
     ]
    },
    {
     "name": "stderr",
     "output_type": "stream",
     "text": [
      "/Users/gmduvvuri/miniconda3/envs/astroconda/lib/python3.5/site-packages/ChiantiPy/core/IpyMspectrum.py:9: UserWarning: ipyparallel not found. You won't be able to use the ipymspectrum module\n",
      "  warnings.warn(\"ipyparallel not found. You won't be able to use the ipymspectrum module\")\n"
     ]
    }
   ],
   "source": [
    "import numpy as np\n",
    "import pandas as pd\n",
    "import ChiantiPy.core as ch\n",
    "from ChiantiPy.tools.io import masterListRead\n",
    "import emcee\n",
    "from astropy import units as u\n",
    "from astropy import constants\n",
    "from astropy.io import fits as pyf\n",
    "from scipy.io import readsav\n",
    "from numpy.polynomial.chebyshev import chebval, chebfit\n",
    "import matplotlib.pyplot as plt\n",
    "import seaborn as sns\n",
    "import multiprocessing\n",
    "from multiprocessing import Pool\n",
    "\n",
    "sns.set_style('whitegrid')\n",
    "plt.rc('text', usetex=True)\n",
    "plt.rc('font', family='serif')"
   ]
  },
  {
   "cell_type": "markdown",
   "metadata": {},
   "source": [
    "## Initialize all CHIANTI database ions to create the model spectrum"
   ]
  },
  {
   "cell_type": "code",
   "execution_count": 2,
   "metadata": {},
   "outputs": [],
   "source": [
    "def initialize_ion(ion):\n",
    "    ion.intensity()\n",
    "    return ion\n",
    "\n",
    "\n",
    "def generate_ion_intensity_list(temp=np.logspace(4.0, 8.0, 120),\n",
    "                                dens=10.0**13.0,\n",
    "                                abund_file='sun_coronal_2012_schmelz_ext'):\n",
    "    \"\"\"Initialize all available ChiantiPy ions and generate the Emissivity.\n",
    "\n",
    "    Keyword arguments:\n",
    "    :param temp: The array of temperature values to pass when creating the\n",
    "    ChiantiPy ions. (default np.logspace(4.0, 8.0, 120))\n",
    "    :type temp: np.ndarray.\n",
    "\n",
    "    :param dens: The value of density to pass when creating the ChiantiPy ions.\n",
    "    (default 10.0**11.0)\n",
    "    :type dens: float.\n",
    "\n",
    "    :param abund_file: The string with the name of the abundance file for ChiantiPy\n",
    "    to query when creating the ions. (default sun_coronal_2012_schmelz_ext)\n",
    "    :type abund_file: str.\n",
    "\n",
    "    Returns:\n",
    "    :returns ions: list -- list of ChiantiPy ions.\n",
    "\n",
    "    \"\"\"\n",
    "\n",
    "    ion_names = masterListRead()\n",
    "    ions = [initialize_ion(ch.ion(ion_name, temperature=temp, eDensity=dens, abundance=abund_file))\n",
    "            for ion_name in ion_names]\n",
    "    return ions"
   ]
  },
  {
   "cell_type": "markdown",
   "metadata": {},
   "source": [
    "## Generate contribution functions for Ions from Line Flux CSV"
   ]
  },
  {
   "cell_type": "code",
   "execution_count": 3,
   "metadata": {},
   "outputs": [],
   "source": [
    "def generate_line_intensities(temp, dens=10.0**13.0,\n",
    "                                abund_file='sun_coronal_2012_schmelz_ext',\n",
    "                                abundance=0.04):\n",
    "    si3_intensity = 3.3e-17\n",
    "    si3_err = 0.3e-17\n",
    "\n",
    "    si2_intensity = 2.2e-17\n",
    "    si2_err = 0.3e-17\n",
    "    \n",
    "\n",
    "\n",
    "    c2_intensity = (3.20e-17) + (5.37e-17)\n",
    "    c2_err = np.sqrt((0.51e-17)**2.0 + (0.8e-17)**2.0)\n",
    "    \n",
    "    c3_intensity = 6e-17\n",
    "    c3_err = 0.2e-17\n",
    "\n",
    "    c4_intensity = (10.8e-17) + (4.39e-17)\n",
    "    c4_err = np.sqrt((0.9e-17)**2.0 + (0.67e-17)**2.0)\n",
    "\n",
    "    n5_intensity = (4.35e-17) + (2.31e-17)\n",
    "    n5_err = np.sqrt((0.7e-17)**2.0 + (0.88e-17)**2.0)\n",
    "\n",
    "    ion_intensities = [si3_intensity,\n",
    "                       si2_intensity,\n",
    "                       c2_intensity,\n",
    "                       c3_intensity,\n",
    "                       c4_intensity,\n",
    "                       n5_intensity]\n",
    "\n",
    "    ion_errs = [si3_err,\n",
    "                si2_err,\n",
    "                c2_err,\n",
    "                c3_err,\n",
    "                c4_err,\n",
    "                n5_err]\n",
    "\n",
    "    ion_intensities = np.array(ion_intensities)\n",
    "    ion_errs = np.array(ion_errs)\n",
    "    ion_errs[np.where(ion_errs <= 0.1 * ion_intensities)] = 0.1 * \\\n",
    "        ion_intensities[np.where(ion_errs <= 0.1 * ion_intensities)]\n",
    "\n",
    "    c2 = ch.ion('c_2', temperature=temp, eDensity=dens, abundance=abund_file)\n",
    "    c3 = ch.ion('c_3', temperature=temp, eDensity=dens, abundance=abund_file)\n",
    "    c4 = ch.ion('c_4', temperature=temp, eDensity=dens, abundance=abund_file)\n",
    "\n",
    "    si3 = ch.ion('si_3', temperature=temp, eDensity=dens, abundance=abund_file)\n",
    "    si2 = ch.ion('si_2', temperature=temp, eDensity=dens, abundance=abund_file)\n",
    "\n",
    "    n5 = ch.ion('n_5', temperature=temp, eDensity=dens, abundance=abund_file)\n",
    "\n",
    "    c4.intensity()\n",
    "    c3.intensity()\n",
    "    c2.intensity()\n",
    "\n",
    "    si3.intensity()\n",
    "    si2.intensity()\n",
    "\n",
    "    n5.intensity()\n",
    "\n",
    "    line_max = 10\n",
    "\n",
    "    c4_mean = np.mean(c4.Emiss['emiss'], axis=1)\n",
    "    sorted_wvl = c4.Emiss['wvl'][np.argsort(c4_mean)[::-1]]\n",
    "    range_wvl = sorted_wvl[np.where((sorted_wvl >= 1547.0) & (sorted_wvl <= 1552.0))]\n",
    "    c4_idx = [np.where(c4.Emiss['wvl'] == i)[0][0] for i in range_wvl]\n",
    "    print('C IV lines:', c4.Emiss['wvl'][c4_idx][0:line_max])\n",
    "\n",
    "    c3_mean = np.mean(c3.Emiss['emiss'], axis=1)\n",
    "    sorted_wvl = c3.Emiss['wvl'][np.argsort(c3_mean)[::-1]]\n",
    "    range_wvl = sorted_wvl[np.where((sorted_wvl >= 1173) & (sorted_wvl <= 1177))]\n",
    "    c3_idx = [np.where(c3.Emiss['wvl'] == i)[0][0] for i in range_wvl]\n",
    "    print('C III lines:', c3.Emiss['wvl'][c3_idx][0:line_max])\n",
    "\n",
    "    c2_mean = np.mean(c2.Emiss['emiss'], axis=1)\n",
    "    sorted_wvl = c2.Emiss['wvl'][np.argsort(c2_mean)[::-1]]\n",
    "    range_wvl = sorted_wvl[np.where((sorted_wvl >= 1333) & (sorted_wvl <= 1337))]\n",
    "    c2_idx = [np.where(c2.Emiss['wvl'] == i)[0][0] for i in range_wvl]\n",
    "    print('C II lines:', c2.Emiss['wvl'][c2_idx][0:line_max])\n",
    "\n",
    "    si3_mean = np.mean(si3.Emiss['emiss'], axis=1)\n",
    "    sorted_wvl = si3.Emiss['wvl'][np.argsort(si3_mean)[::-1]]\n",
    "    range_wvl = sorted_wvl[np.where((sorted_wvl >= 1206) & (sorted_wvl <= 1208))]\n",
    "    si3_idx = [np.where(si3.Emiss['wvl'] == i)[0][0] for i in range_wvl]\n",
    "    print('Si III lines:', si3.Emiss['wvl'][si3_idx][0:line_max])\n",
    "\n",
    "    si2_mean = np.mean(si2.Emiss['emiss'], axis=1)\n",
    "    sorted_wvl = si2.Emiss['wvl'][np.argsort(si2_mean)[::-1]]\n",
    "    range_wvl = sorted_wvl[np.where((sorted_wvl >= 1526) & (sorted_wvl <= 1528))]\n",
    "    si2_idx = [np.where(si2.Emiss['wvl'] == i)[0][0] for i in range_wvl]\n",
    "    print('Si II lines:', si2.Emiss['wvl'][si2_idx][0:line_max])\n",
    "\n",
    "    n5_mean = np.mean(n5.Emiss['emiss'], axis=1)\n",
    "    sorted_wvl = n5.Emiss['wvl'][np.argsort(n5_mean)[::-1]]\n",
    "    range_wvl = sorted_wvl[np.where((sorted_wvl >= 1237) & (sorted_wvl <= 1245))]\n",
    "    n5_idx = [np.where(n5.Emiss['wvl'] == i)[0][0] for i in range_wvl]\n",
    "    print('N V lines:', n5.Emiss['wvl'][n5_idx][0:line_max])\n",
    "\n",
    "    si3_gofnt = (si3.Abundance * si3.IoneqOne / si3.EDensity)\n",
    "    si3_gofnt *= 10.0**(abundance)\n",
    "    si3_gofnt *= np.sum(si3.Emiss['emiss'][si3_idx][0:], axis=0)\n",
    "    si3_temp_f = np.log10(temp[np.argmax(si3_gofnt)])\n",
    "\n",
    "    si2_gofnt = (si2.Abundance * si2.IoneqOne / si2.EDensity)\n",
    "    si2_gofnt *= 10.0**(abundance)\n",
    "    si2_gofnt *= np.sum(si2.Emiss['emiss'][si2_idx][0:], axis=0)\n",
    "    si2_temp_f = np.log10(temp[np.argmax(si2_gofnt)])\n",
    "\n",
    "    c2_gofnt = (c2.Abundance * c2.IoneqOne / c2.EDensity)\n",
    "    c2_gofnt *= 10.0**(abundance)\n",
    "    c2_gofnt *= np.sum(c2.Emiss['emiss'][c2_idx][0:], axis=0)\n",
    "    c2_temp_f = np.log10(temp[np.argmax(c2_gofnt)])\n",
    "\n",
    "    c3_gofnt = (c3.Abundance * c3.IoneqOne / c3.EDensity)\n",
    "    c3_gofnt *= 10.0**(abundance)\n",
    "    c3_gofnt *= np.sum(c3.Emiss['emiss'][c3_idx][0:], axis=0)\n",
    "    c3_temp_f = np.log10(temp[np.argmax(c3_gofnt)])\n",
    "\n",
    "    c4_gofnt = (c4.Abundance * c4.IoneqOne / c4.EDensity)\n",
    "    c4_gofnt *= 10.0**(abundance)\n",
    "    c4_gofnt *= np.sum(c4.Emiss['emiss'][c4_idx][0:], axis=0)\n",
    "    c4_temp_f = np.log10(temp[np.argmax(c4_gofnt)])\n",
    "\n",
    "    n5_gofnt = (n5.Abundance * n5.IoneqOne / n5.EDensity)\n",
    "    n5_gofnt *= 10.0**(abundance)\n",
    "    n5_gofnt *= np.sum(n5.Emiss['emiss'][n5_idx][0:], axis=0)\n",
    "    n5_temp_f = np.log10(temp[np.argmax(n5_gofnt)])\n",
    "\n",
    "    ion_gofnts = [si3_gofnt, si2_gofnt,\n",
    "                  c2_gofnt, c3_gofnt,\n",
    "                  c4_gofnt, n5_gofnt]\n",
    "\n",
    "    ion_temp_fs = [si3_temp_f, si2_temp_f,\n",
    "                   c2_temp_f, c3_temp_f,\n",
    "                   c4_temp_f, n5_temp_f]\n",
    "\n",
    "    ion_gofnts = np.array(ion_gofnts)\n",
    "    ion_temp_fs = np.array(ion_temp_fs)\n",
    "\n",
    "    return ion_intensities, ion_errs, ion_gofnts, ion_temp_fs"
   ]
  },
  {
   "cell_type": "markdown",
   "metadata": {},
   "source": [
    "## Create a matrix that adds up contribution functions for all ions at each temperature"
   ]
  },
  {
   "cell_type": "code",
   "execution_count": 4,
   "metadata": {},
   "outputs": [],
   "source": [
    "def get_gofnt_matrix(ions, wave_arr,\n",
    "                     temp, abundance):\n",
    "    \"\"\"Create a matrix where the first axis is the array of wavelength bins\n",
    "    within which to look for emission lines, while the second is the temperature\n",
    "    array used for the ChiantiPy ions. The matrix contains contribution\n",
    "    functions evaluated for all lines within a bin over the full temperature\n",
    "    array.\n",
    "\n",
    "    Keyword arguments:\n",
    "    :param ions: List containing all ChiantiPy ions for which\n",
    "    contribution functions should be evaluated.\n",
    "    :type ions: list.\n",
    "\n",
    "    :param wave_arr: Array of the wavelength bin centers for which to evaluate\n",
    "    contribution functions.\n",
    "    :type wave_arr: np.ndarray.\n",
    "\n",
    "    :param temp: Array of temperatures for which the ChiantiPy emissivities have\n",
    "    been evaluated.\n",
    "    :type temp: np.ndarray.\n",
    "\n",
    "    :param abundance: [Fe/H] abundance to weight the contribution functions by.\n",
    "    (default 0.0)\n",
    "    :type abundance: float.\n",
    "\n",
    "    Returns:\n",
    "    :returns: np.ndarray -- Contribution function matrix.\n",
    "\n",
    "    \"\"\"\n",
    "\n",
    "    bin_width = np.diff(wave_arr)\n",
    "    bin_width = np.append([bin_width[0]], bin_width)\n",
    "    gofnt_matrix = np.zeros((len(wave_arr), len(temp)))\n",
    "    for ion in ions:\n",
    "        gofnt_prefactor = ion.Abundance * ion.IoneqOne / ion.EDensity\n",
    "        if ion.Z > 2.0:\n",
    "            gofnt_prefactor *= 10.0**abundance\n",
    "        for i in range(0, len(wave_arr)):\n",
    "            wave_low = wave_arr[i] - 0.5 * bin_width[i]\n",
    "            wave_high = wave_arr[i] + 0.5 * bin_width[i]\n",
    "            bin_mask = np.where((ion.Emiss['wvl'] <= wave_high) & (ion.Emiss['wvl'] > wave_low))[0]\n",
    "            for line in bin_mask:\n",
    "                gofnt_matrix[i, :] += gofnt_prefactor * \\\n",
    "                    ion.Emiss['emiss'][line]\n",
    "    return gofnt_matrix"
   ]
  },
  {
   "cell_type": "markdown",
   "metadata": {},
   "source": [
    "## Calculate the expected intensity for a given G(T) and $\\Psi(T)$"
   ]
  },
  {
   "cell_type": "code",
   "execution_count": 5,
   "metadata": {},
   "outputs": [],
   "source": [
    "def do_gofnt_matrix_integral(psi_model,\n",
    "                             gofnt_matrix,\n",
    "                             temp,\n",
    "                             flux_weighting):\n",
    "    \"\"\"Evaluate the line intensity integrals for each wavelength bin using the\n",
    "    contribution function matrix and a given DEM model.\n",
    "\n",
    "    Keyword arguments:\n",
    "    :param psi_model: DEM model for the integral\n",
    "    :type psi_model: np.ndarray.\n",
    "\n",
    "    :param gofnt_matrix: Contribution function matrix\n",
    "    :type gofnt_matrix: np.ndarray.\n",
    "\n",
    "    :param temp: Array of temperatures along same axis as the DEM model, the\n",
    "    ChiantiPy emissivities, and the second axis of the contribution function\n",
    "    matrix.\n",
    "    :type temp: np.ndarray.\n",
    "\n",
    "    :param flux_weighting: Weight the intensity integral to map to some observable\n",
    "    or desired quantity (flux received by exoplanet, surface flux of star etc.)\n",
    "    :type flux_weighting: float.\n",
    "\n",
    "    Returns:\n",
    "    :returns: np.ndarray -- Total flux intensities in each wavelength bin.\n",
    "\n",
    "    \"\"\"\n",
    "\n",
    "    integrated_intensity_array = np.zeros((np.shape(gofnt_matrix)[0]))\n",
    "    for i in np.arange(0, len(integrated_intensity_array)):\n",
    "        integrated_intensity_array[i] = np.trapz(\n",
    "            gofnt_matrix[i, :] * psi_model, temp) * (flux_weighting)\n",
    "    return integrated_intensity_array"
   ]
  },
  {
   "cell_type": "markdown",
   "metadata": {},
   "source": [
    "## Integrate all flux within wavelength bins"
   ]
  },
  {
   "cell_type": "code",
   "execution_count": 6,
   "metadata": {},
   "outputs": [],
   "source": [
    "def get_bin_integral(wave_arr, flux_arr,\n",
    "                     err_arr,\n",
    "                     bin_width):\n",
    "    \"\"\"Integrate the spectrum within bins of fixed width, mitigating dependence\n",
    "    on instrument resolution and line shape to compare spectra (either observed\n",
    "    or model generated).\n",
    "    Keyword arguments:\n",
    "    :param wave_arr: Wavelength array of original spectrum.\n",
    "    :type wave_arr: np.ndarray.\n",
    "    :param flux_arr: Flux array (in units of flux/wavelength) of original\n",
    "    spectrum.\n",
    "    :type flux_arr: np.ndarray.\n",
    "    :param err_arr: Flux uncertainty array (in units of flux/wavelength) of original\n",
    "    spectrum.\n",
    "    :type err_arr: np.ndarray.\n",
    "    :param bin_width: Size of wavelength bin to integrate spectrum within,\n",
    "    in the same units as the original spectrum's wavelength array.\n",
    "    :type bin_width: float.\n",
    "    Returns:\n",
    "    :returns: np.ndarray -- Wavelength array with bin centers.\n",
    "    :returns: np.ndarray -- Integrated flux within each bin.\n",
    "    :returns: np.ndarray -- Uncertainties of integrated flux within each bin\n",
    "    \"\"\"\n",
    "\n",
    "    new_wave = np.arange(np.min(wave_arr),\n",
    "                         np.max(wave_arr) + 0.5 * bin_width, bin_width)\n",
    "    old_var = err_arr**2.0\n",
    "    new_flux = np.empty_like(new_wave)\n",
    "    new_var = np.empty_like(new_wave)\n",
    "    for i in range(0, len(new_wave)):\n",
    "        wave_mask = np.where((wave_arr >= new_wave[i] - 0.5*bin_width) & (wave_arr < new_wave[i] + 0.5*bin_width))\n",
    "        new_flux[i] = np.trapz(flux_arr[wave_mask], wave_arr[wave_mask])\n",
    "        new_var[i] = np.trapz(old_var[wave_mask], wave_arr[wave_mask])\n",
    "    new_err = np.sqrt(new_var)\n",
    "    return new_wave, new_flux, new_err"
   ]
  },
  {
   "cell_type": "markdown",
   "metadata": {},
   "source": [
    "## Define appropriate likelihood function for MCMC sampler"
   ]
  },
  {
   "cell_type": "code",
   "execution_count": 7,
   "metadata": {},
   "outputs": [],
   "source": [
    "def ln_prior_log_uniform(coeffs):\n",
    "    \"\"\"Apply a log-uniform prior between 10**+/- 5 for coefficients used in\n",
    "    Chebyshev polynomial model for DEM.\n",
    "\n",
    "    Keyword arguments:\n",
    "    :param coeffs: List of coefficients for Chebyshev polynomial in format used by\n",
    "    numpy chebyshev polynomial.\n",
    "    :type coeffs: list.\n",
    "\n",
    "    Returns:\n",
    "    :returns: float -- 0 if prior is satisfied, -np.inf otherwise.\n",
    "\n",
    "    \"\"\"\n",
    "    flux_frac = coeffs[-1]\n",
    "    coeffs = coeffs[:-1]\n",
    "\n",
    "    lp = 0.0\n",
    "    for coeff in coeffs:\n",
    "        if coeff >= -10.0**5.0:\n",
    "            if coeff <= 10.0**5.0:\n",
    "                pass\n",
    "            else:\n",
    "                return -np.inf\n",
    "        else:\n",
    "            return -np.inf\n",
    "    if lp != 0.0:\n",
    "        return -np.inf\n",
    "    if np.sum(coeffs[0::2]) < 0.0:\n",
    "        return -np.inf\n",
    "    elif coeffs[-1] <= 0.0:\n",
    "        return -np.inf\n",
    "    elif flux_frac >= 1.0:\n",
    "        return -np.inf\n",
    "    elif flux_frac <= 0.0:\n",
    "        return -np.inf\n",
    "    else:\n",
    "        return lp\n",
    "\n",
    "\n",
    "def ln_prob(coeffs, y,\n",
    "            yerr,\n",
    "            log_temp,\n",
    "            temp,\n",
    "            gofnt_matrix,\n",
    "            flux_weighting):\n",
    "    \"\"\"Evaluate the -1/2 chi-squared comparing the measured intensities of\n",
    "    observed spectra to the DEM integrated intensities.\n",
    "\n",
    "    Keyword arguments:\n",
    "    :param coeffs: List of coefficients for Chebyshev polynomial in format used by\n",
    "    numpy chebyshev polynomial.\n",
    "    :type coeffs: list.\n",
    "\n",
    "    :param y: Bin-integral of observed spectrum.\n",
    "    :type y: np.ndarray.\n",
    "\n",
    "    :param yerr: Error on y, either an array or constant float.\n",
    "    :type yerr: Union[np.ndarray, float].\n",
    "\n",
    "    :param log_temp: log10(Temperature  array for ChiantiPy emissivities)\n",
    "    :type log_temp: np.ndarray.\n",
    "\n",
    "    :param temp: Temperature array for ChiantiPy emissivities.\n",
    "    :type temp: np.ndarray.\n",
    "\n",
    "    :param gofnt_matrix: Contribution matrix along ions and\n",
    "    temperature arrays.\n",
    "    :type gofnt_matrix: np.ndarray.\n",
    "\n",
    "    :param flux_weighting: Weight the intensity integral to map to some observable\n",
    "    or desired quantity (flux received by exoplanet, surface flux of star etc.)\n",
    "    :type flux_weighting: float.\n",
    "\n",
    "    Returns:\n",
    "    :returns: float -- -1/2 Chi-squared\n",
    "\n",
    "    \"\"\"\n",
    "    flux_frac = coeffs[-1]\n",
    "    coeffs = coeffs[:-1]\n",
    "    shift_log_temp = log_temp - np.mean(log_temp)\n",
    "    psi_model = 10.0**chebval(shift_log_temp, coeffs)\n",
    "    if np.nanmin(psi_model) <= 0.0:\n",
    "        return -np.inf\n",
    "    model = do_gofnt_matrix_integral(psi_model, gofnt_matrix,\n",
    "                                     temp, flux_weighting)\n",
    "    var_term = (yerr**2) + ((flux_frac*model)**2)\n",
    "    lead_term = np.log(1.0/(np.sqrt(2.0*np.pi*var_term)))\n",
    "    exp_term = -0.5 * (((y - model)**2) / var_term)\n",
    "    val = np.sum(lead_term + exp_term)\n",
    "    if np.isfinite(val):\n",
    "        return val\n",
    "    return -np.inf\n",
    "\n",
    "\n",
    "def ln_likelihood(coeffs,\n",
    "                  y,\n",
    "                  yerr,\n",
    "                  log_temp, temp,\n",
    "                  gofnt_matrix,\n",
    "                  flux_weighting,\n",
    "                  ln_prob_func=ln_prob,\n",
    "                  ln_prior_func=ln_prior_log_uniform):\n",
    "    \"\"\"Combine a defined prior and probability function to determine the\n",
    "    ln_likelihood of a model given two types of data: the bin-integral of an\n",
    "    observed spectrum or the intensities of individual lines.\n",
    "\n",
    "    Keyword arguments:\n",
    "    :param coeffs: List of coefficients for Chebyshev polynomial in format used by\n",
    "    numpy chebyshev polynomial.\n",
    "    :type coeffs: list.\n",
    "\n",
    "    :param y: Bin-integral of observed spectrum.\n",
    "    :type y: np.ndarray.\n",
    "\n",
    "    :param yerr: Error on y, either an array or constant float.\n",
    "    :type yerr: Union[np.ndarray, float].\n",
    "\n",
    "    :param log_temp: log10(Temperature  array for ChiantiPy emissivities)\n",
    "    :type log_temp: np.ndarray.\n",
    "\n",
    "    :param temp: Temperature array for ChiantiPy emissivities.\n",
    "    :type temp: np.ndarray.\n",
    "\n",
    "    :param wave_arr: Wavelength array with bin centers.\n",
    "    :type wave_arr: np.ndarray.\n",
    "\n",
    "    :param gofnt_matrix: Contribution matrix along wavelength bin and\n",
    "    temperature arrays.\n",
    "    :type gofnt_matrix: np.ndarray.\n",
    "\n",
    "    :param flux_weighting: Weight the intensity integral to map to some observable\n",
    "    or desired quantity (flux received by exoplanet, surface flux of star etc.)\n",
    "    :type flux_weighting: float.\n",
    "\n",
    "\n",
    "    Returns:\n",
    "    :returns: float -- ln_likelihood from comparing bin integral of observed\n",
    "    spectrum to DEM integrated spectrum or individual line intensities to DEM\n",
    "    integrated line intensities.\n",
    "\n",
    "    \"\"\"\n",
    "\n",
    "    lp = ln_prior_func(coeffs)\n",
    "    if lp == 0.0:\n",
    "        return lp + ln_prob_func(coeffs, y, yerr, log_temp, temp,\n",
    "                                 gofnt_matrix, flux_weighting)\n",
    "    return -np.inf\n",
    "\n",
    "\n",
    "def get_init_cheby_guess(log_temp, degree=4):\n",
    "    \"\"\"Get an initial fit Chebyshev Polynomial for the DEM.\n",
    "\n",
    "    Keyword arguments:\n",
    "    :param log_temp: log10(Temperature used for DEM fitting)\n",
    "    :type log_temp: np.ndarray\n",
    "\n",
    "    Returns:\n",
    "    :returns: np.ndarray -- Chebyshev polynomial coefficients for\n",
    "    numpy.polynomial.chebval to evaluate.\n",
    "\n",
    "    \"\"\"\n",
    "\n",
    "    return chebfit(log_temp, 21.0 * np.ones_like(log_temp), deg=degree)\n",
    "\n",
    "\n",
    "def fit_emcee(init_pos,\n",
    "              likelihood_func,\n",
    "              likelihood_args,\n",
    "              n_walkers,\n",
    "              burn_in_steps,\n",
    "              production_steps,\n",
    "              init_spread=1e-3,\n",
    "              second_spread=1e-4,\n",
    "              double_burn=True,\n",
    "              thread_num=multiprocessing.cpu_count(),\n",
    "              count_print=True,\n",
    "              count_num=100):\n",
    "    \"\"\"Run the emcee sampler with a given likelihood function\n",
    "    and return the flatchain samples, flatchain ln_probability, and the sampler\n",
    "    object.\n",
    "\n",
    "    Keyword arguments:\n",
    "    :param init_pos: Initial values for the model parameters.\n",
    "    : type init_pos: np.ndarray.\n",
    "\n",
    "    :param likelihood_func: Likelihood function for the model.\n",
    "    :type likelihood_func: function.\n",
    "\n",
    "    :param likelihood_args: Arguments required for the likelihood function.\n",
    "    :type likelihood_args: list.\n",
    "\n",
    "    :param zxn_walkers: Number of walkers for the emcee sampler.\n",
    "    :type n_walkers: int.\n",
    "\n",
    "    :param burn_in_steps: Number of steps for the burn-in phase.\n",
    "    :type burn_in_steps: int.\n",
    "\n",
    "    :param production_steps: Number of steps for the production phase.\n",
    "    :type production_steps: int.\n",
    "\n",
    "    :param init_spread: Multiplicative factor by which to scramble the initial\n",
    "    position of the walkers. (default 1e-3)\n",
    "    :type init_spread: float.\n",
    "\n",
    "    :param second_spread: Multiplicative factor by which to scramble the\n",
    "    highest likelihood position after the burn-in phase. (default 1e-4)\n",
    "    :type second_spread: float.\n",
    "\n",
    "    :param double_burn: Whether or not to do a second burn-in phase. Treated\n",
    "    identically to the initial. (default True)\n",
    "    :type double_burn: bool\n",
    "\n",
    "    :param thread_num: Number of threads for the emcee sampler to use.\n",
    "    (default cpu_count)\n",
    "    :type thread_num: int.\n",
    "\n",
    "    :param count_print: Whether or not to print progress messages during\n",
    "    production.\n",
    "    :type count_print: bool.\n",
    "\n",
    "    :param count_num: Interval for print messages.\n",
    "    :type count_num: int.\n",
    "\n",
    "    Returns:\n",
    "    :returns: np.ndarray -- Reshaped sampler positions, collapsed along walker\n",
    "    axis (see emcee documentation).\n",
    "\n",
    "    :returns: np.ndarray -- ln_probability values for walker positions aligned\n",
    "    to the flatchain.\n",
    "\n",
    "    :returns: emcee.sampler -- emcee sampler object, refer to emcee\n",
    "    documentation.\n",
    "\n",
    "    \"\"\"\n",
    "\n",
    "    ndim = len(init_pos)\n",
    "    pos = [init_pos + init_spread * np.random.randn(ndim) * init_pos\n",
    "           for i in range(n_walkers)]\n",
    "    sampler = emcee.EnsembleSampler(n_walkers, ndim, likelihood_func,\n",
    "                                    args=likelihood_args, threads=thread_num)\n",
    "    print(\"Starting burn-in\")\n",
    "    p0, prob, _ = sampler.run_mcmc(pos, burn_in_steps)\n",
    "    p0 = [p0[np.argmax(prob)] + second_spread * np.random.randn(ndim) * p0[np.argmax(prob)] for i in range(n_walkers)]\n",
    "    sampler.reset()\n",
    "    nsteps = burn_in_steps + production_steps\n",
    "    done_steps = burn_in_steps\n",
    "    if double_burn:\n",
    "        print(\"Starting second burn-in\")\n",
    "        nsteps += burn_in_steps\n",
    "        done_steps += burn_in_steps\n",
    "        p0, prob, _ = sampler.run_mcmc(p0, burn_in_steps)\n",
    "        p0 = [p0[np.argmax(prob)] + second_spread * np.random.randn(ndim) * p0[np.argmax(prob)] for i in range(n_walkers)]\n",
    "        sampler.reset()\n",
    "    print(\"Starting production\")\n",
    "    if count_print:\n",
    "        for i, result in enumerate(sampler.sample(p0,\n",
    "                                                  iterations=production_steps)):\n",
    "            if (i + 1) % count_num == 0:\n",
    "                print(\"{0:5.1%}\".format(float(i + done_steps) / nsteps))\n",
    "    else:\n",
    "        p0, prob, _ = sampler.run_mcmc(p0, production_steps)\n",
    "    return sampler.flatchain, sampler.flatlnprobability, sampler"
   ]
  },
  {
   "cell_type": "markdown",
   "metadata": {},
   "source": [
    "## Setup Target Stellar Parameters and convert intensity to flux"
   ]
  },
  {
   "cell_type": "code",
   "execution_count": 8,
   "metadata": {},
   "outputs": [],
   "source": [
    "targ_dist = 12.49 * u.pc\n",
    "targ_rad = 0.121 * u.R_sun\n",
    "targ_abundance = 0.04\n",
    "flux_unit = u.erg / (u.second * (u.cm**2.0))\n",
    "intensity_conversion = (targ_dist**2.0) / ((targ_rad**2.0) * np.pi * u.sr)\n",
    "intensity_unit = u.erg / (u.second * u.sr * (u.cm**2.0))\n",
    "flux_weighting = ((np.pi * u.sr * (targ_rad**2.0) * (1.0 / (targ_dist**2.0))).to(u.sr)).value"
   ]
  },
  {
   "cell_type": "markdown",
   "metadata": {},
   "source": [
    "## Setup temperature array, initial guess for Psi, wavelength array for model spectrum"
   ]
  },
  {
   "cell_type": "code",
   "execution_count": 9,
   "metadata": {},
   "outputs": [],
   "source": [
    "temp = np.linspace(10.0**4.0, 10.0**6.5, 1500)\n",
    "log_temp = np.log10(temp)\n",
    "shift_log_temp = log_temp - np.mean(log_temp)\n",
    "cheb_init = np.array([24.0, -2.0, 0.5, 0.5, 0.5, 0.3])\n",
    "all_wave = np.arange(1.0, 2001.0, 5.0)\n",
    "wave_lows = [0, 100, 1000]\n",
    "wave_highs = [100, 1000, 2000]"
   ]
  },
  {
   "cell_type": "markdown",
   "metadata": {},
   "source": [
    "## Get X-ray intensities and errors"
   ]
  },
  {
   "cell_type": "code",
   "execution_count": 10,
   "metadata": {},
   "outputs": [],
   "source": [
    "xray_fits = pyf.open('Trappist-1.fits')\n",
    "xray_wave = np.array([xray_fits[1].data[i][0] for i in range(0, 8)])\n",
    "xray_flux = np.array([xray_fits[1].data[i][6] for i in range(0, 8)])\n",
    "xray_err = np.array([xray_fits[1].data[i][7] for i in range(0, 8)])\n",
    "xray_fits.close()\n",
    "\n",
    "xray_widths = np.diff(xray_wave)\n",
    "xray_widths = np.append([xray_widths[0]], xray_widths)\n",
    "xray_bins = [0.5 * (xray_widths[i] + xray_widths[i+1]) for i in range(0, len(xray_widths) - 1)]\n",
    "xray_bins = np.append(xray_bins, xray_bins[-1])\n",
    "xray_flux = xray_flux * xray_bins\n",
    "xray_err = xray_err * xray_bins"
   ]
  },
  {
   "cell_type": "markdown",
   "metadata": {},
   "source": [
    "## Get FUV intensities and errors"
   ]
  },
  {
   "cell_type": "code",
   "execution_count": 11,
   "metadata": {},
   "outputs": [],
   "source": [
    "trap_sav1 = readsav('TRAPPIST1_G130M_Mm1_NOSCL_10dec2018.sav')\n",
    "trap_sav2 = readsav('TRAPPIST1_G160M_3orb_Mm1_NOSCL_09dec2018.sav')\n",
    "\n",
    "fuv_wave1 = trap_sav1['wave']\n",
    "fuv_wave2 = trap_sav2['wave']\n",
    "\n",
    "fuv_flux1 = trap_sav1['flux']\n",
    "fuv_flux2 = trap_sav2['flux']\n",
    "\n",
    "fuv_err1 = trap_sav1['err']\n",
    "fuv_err2 = trap_sav2['err']\n",
    "\n",
    "mask1 = np.where((fuv_flux1 > 1e-16) & (fuv_wave1 >= 1290.0) & (fuv_wave1 < 1420))\n",
    "mask2 = np.where((fuv_flux2 > 1e-16) & (fuv_wave2 >= 1420.0) & (fuv_wave2 <= 1500))\n",
    "# xray_mask = np.where(xray_flux > 1e-17)\n",
    "\n",
    "fuv_wave1, fuv_flux1, fuv_err1 = get_bin_integral(fuv_wave1[mask1], fuv_flux1[mask1], fuv_err1[mask1], 2.0)\n",
    "fuv_wave2, fuv_flux2, fuv_err2 = get_bin_integral(fuv_wave2[mask2], fuv_flux2[mask2], fuv_err2[mask2], 2.0)\n",
    "fuv_wave = np.append(fuv_wave1, fuv_wave2)\n",
    "fuv_flux = np.append(fuv_flux1, fuv_flux2)\n",
    "fuv_err = np.append(fuv_err1, fuv_err2)\n",
    "\n",
    "wave_sort = np.argsort(fuv_wave)\n",
    "fuv_err = fuv_err[wave_sort]\n",
    "fuv_flux = fuv_flux[wave_sort]\n",
    "fuv_wave = fuv_wave[wave_sort]"
   ]
  },
  {
   "cell_type": "markdown",
   "metadata": {},
   "source": [
    "## Get Line Intensities and errors"
   ]
  },
  {
   "cell_type": "code",
   "execution_count": 12,
   "metadata": {},
   "outputs": [
    {
     "data": {
      "text/plain": [
       "\"\\nion_intensities, ion_errs, ion_gofnts, ion_temp_fs = generate_line_intensities(temp)\\nnp.save('ion_intensities', ion_intensities)\\nnp.save('ion_errs', ion_errs)\\nnp.save('ion_gofnts', ion_gofnts)\\nnp.save('ion_temp_fs', ion_temp_fs)\\n\""
      ]
     },
     "execution_count": 12,
     "metadata": {},
     "output_type": "execute_result"
    }
   ],
   "source": [
    "'''\n",
    "ion_intensities, ion_errs, ion_gofnts, ion_temp_fs = generate_line_intensities(temp)\n",
    "np.save('ion_intensities', ion_intensities)\n",
    "np.save('ion_errs', ion_errs)\n",
    "np.save('ion_gofnts', ion_gofnts)\n",
    "np.save('ion_temp_fs', ion_temp_fs)\n",
    "'''"
   ]
  },
  {
   "cell_type": "markdown",
   "metadata": {},
   "source": [
    "## Generate and save required contribution function matrices"
   ]
  },
  {
   "cell_type": "code",
   "execution_count": 13,
   "metadata": {},
   "outputs": [
    {
     "data": {
      "text/plain": [
       "\"\\nions = generate_ion_intensity_list(temp)\\n\\ngofnt_matrix_all = get_gofnt_matrix(ions, all_wave, temp, abundance=targ_abundance)\\nnp.save('gofnt_matrix_all_trappist-1', gofnt_matrix_all)\\n\\ngofnt_xray = get_gofnt_matrix(ions, xray_wave, temp, abundance=targ_abundance)\\nnp.save('gofnt_xray', gofnt_xray)\\n\\ngofnt_fuv = get_gofnt_matrix(ions, fuv_wave, temp, abundance=targ_abundance)\\nnp.save('gofnt_fuv', gofnt_fuv)\\n\""
      ]
     },
     "execution_count": 13,
     "metadata": {},
     "output_type": "execute_result"
    }
   ],
   "source": [
    "'''\n",
    "ions = generate_ion_intensity_list(temp)\n",
    "\n",
    "gofnt_matrix_all = get_gofnt_matrix(ions, all_wave, temp, abundance=targ_abundance)\n",
    "np.save('gofnt_matrix_all_trappist-1', gofnt_matrix_all)\n",
    "\n",
    "gofnt_xray = get_gofnt_matrix(ions, xray_wave, temp, abundance=targ_abundance)\n",
    "np.save('gofnt_xray', gofnt_xray)\n",
    "\n",
    "gofnt_fuv = get_gofnt_matrix(ions, fuv_wave, temp, abundance=targ_abundance)\n",
    "np.save('gofnt_fuv', gofnt_fuv)\n",
    "'''"
   ]
  },
  {
   "cell_type": "markdown",
   "metadata": {},
   "source": [
    "## Load previously saved quantities"
   ]
  },
  {
   "cell_type": "code",
   "execution_count": 14,
   "metadata": {},
   "outputs": [],
   "source": [
    "gofnt_xray = np.load('gofnt_xray.npy')\n",
    "gofnt_fuv = np.load('gofnt_fuv.npy')\n",
    "ion_intensities = np.load('ion_intensities.npy')\n",
    "ion_errs = np.load('ion_errs.npy')\n",
    "ion_gofnts = np.load('ion_gofnts.npy')\n",
    "ion_temp_fs = np.load('ion_temp_fs.npy')"
   ]
  },
  {
   "cell_type": "markdown",
   "metadata": {},
   "source": [
    "## Create single list of intensities, errors, contribution matrix"
   ]
  },
  {
   "cell_type": "code",
   "execution_count": 15,
   "metadata": {},
   "outputs": [],
   "source": [
    "append_flux = np.append(xray_flux, ion_intensities)\n",
    "append_errs = np.append(xray_err, ion_errs)\n",
    "append_gofnt = np.append(gofnt_xray, ion_gofnts, axis=0)"
   ]
  },
  {
   "cell_type": "markdown",
   "metadata": {},
   "source": [
    "## Run MCMC sampler to fit $\\Psi (T)$ and save sampler parameters"
   ]
  },
  {
   "cell_type": "code",
   "execution_count": 16,
   "metadata": {},
   "outputs": [
    {
     "name": "stdout",
     "output_type": "stream",
     "text": [
      "Starting burn-in\n",
      "Starting second burn-in\n",
      "Starting production\n",
      "50.0%\n",
      "62.5%\n",
      "75.0%\n",
      "87.5%\n",
      "100.0%\n"
     ]
    }
   ],
   "source": [
    "samples, lnprob, sampler = fit_emcee(init_pos=cheb_init,\n",
    "                                     likelihood_func=ln_likelihood,\n",
    "                                     likelihood_args=[append_flux,\n",
    "                                                      append_errs,\n",
    "                                                      log_temp,\n",
    "                                                      temp,\n",
    "                                                      append_gofnt,\n",
    "                                                      flux_weighting,],\n",
    "                                     n_walkers=100, burn_in_steps=15000,\n",
    "                                     production_steps=50000,\n",
    "                                     thread_num=multiprocessing.cpu_count(),\n",
    "                                     count_print=True,\n",
    "                                     count_num=10000)\n",
    "np.save('samples_line_all', samples)\n",
    "np.save('lnprob_line_all', lnprob)\n"
   ]
  },
  {
   "cell_type": "markdown",
   "metadata": {},
   "source": [
    "## Load sampler parameters"
   ]
  },
  {
   "cell_type": "code",
   "execution_count": 17,
   "metadata": {},
   "outputs": [],
   "source": [
    "line_samples = np.load('samples_line_all.npy')\n",
    "line_lnprob = np.load('lnprob_line_all.npy')\n",
    "gofnt_matrix_all = np.load('gofnt_matrix_all_trappist-1.npy')"
   ]
  },
  {
   "cell_type": "markdown",
   "metadata": {},
   "source": [
    "## Setup plotting parameters"
   ]
  },
  {
   "cell_type": "code",
   "execution_count": 18,
   "metadata": {},
   "outputs": [],
   "source": [
    "sample_num = 500\n",
    "\n",
    "alpha=0.2\n",
    "\n",
    "g130_color = 'r'\n",
    "g160_color='orange'\n",
    "xray_color = 'firebrick'\n",
    "emiss_threshold = 0.3\n",
    "\n",
    "line_sample_color = 'cornflowerblue'\n",
    "line_main_color = 'blue'\n",
    "line_sample_label = 'MCMC Samples for FUV Emission Line Fluxes'\n",
    "line_main_label = 'FUV Emission Line Flux Maximum-Likelihood Fit'\n",
    "\n",
    "line_psi = 10.0**chebval(shift_log_temp, line_samples[np.argmax(line_lnprob)][:-1])"
   ]
  },
  {
   "cell_type": "markdown",
   "metadata": {},
   "source": [
    "## Plot model $\\Psi (T)$ and upper limits imposed by observed intensities"
   ]
  },
  {
   "cell_type": "code",
   "execution_count": 19,
   "metadata": {},
   "outputs": [
    {
     "data": {
      "image/png": "[encoded data removed]",
      "text/plain": [
       "<Figure size 432x288 with 1 Axes>"
      ]
     },
     "metadata": {
      "needs_background": "light"
     },
     "output_type": "display_data"
    }
   ],
   "source": [
    "for i in range(0, sample_num):\n",
    "    temp_psi_line = 10.0**chebval(shift_log_temp, line_samples[np.random.choice(range(len(line_samples)))][:-1])\n",
    "    if i == 0:\n",
    "        plt.loglog(temp, temp_psi_line,\n",
    "                    color=line_sample_color,\n",
    "                    alpha=alpha, label=line_sample_label)\n",
    "    else:\n",
    "        plt.loglog(temp, temp_psi_line, color=line_sample_color, alpha=alpha)\n",
    "\n",
    "plt.loglog(temp, line_psi, color=line_main_color, label=line_main_label)\n",
    "\n",
    "plt.legend(bbox_to_anchor=(1.0, 1.0))\n",
    "plt.xlabel('Temperature [K]')\n",
    "y_label = r'$\\Psi(T) = N_e N_{\\mathrm{H}} \\frac{ds}{dT}$ '\n",
    "y_label += r'[cm$^{-5}$ K$^{-1}$]'\n",
    "plt.ylabel(y_label)\n",
    "plt.ylim(10.0**14.0, 10.0**28.0)\n",
    "plt.title('Differential Emission Measure Fits of TRAPPIST-1\\'s Corona')\n",
    "plt.savefig('test_dem.pdf')\n",
    "plt.show()"
   ]
  },
  {
   "cell_type": "markdown",
   "metadata": {},
   "source": [
    "## Create and save model spectra from 1 - 2000 Angstroms"
   ]
  },
  {
   "cell_type": "code",
   "execution_count": 20,
   "metadata": {},
   "outputs": [],
   "source": [
    "all_spectra = np.empty((sample_num, len(all_wave)))\n",
    "all_psi = np.empty((sample_num, len(temp)))\n",
    "np.random.shuffle(line_samples)\n",
    "\n",
    "for i in range(0, sample_num):\n",
    "    all_psi[i, :] = 10.0**chebval(shift_log_temp, line_samples[i, :][:-1])\n",
    "    all_spectra[i, :] = do_gofnt_matrix_integral(all_psi[i, :],\n",
    "                                                 gofnt_matrix_all,\n",
    "                                                 temp, flux_weighting)\n",
    "\n",
    "np.save('spectra_lines_all', all_spectra)\n",
    "np.save('psi_lines_all', all_psi)\n"
   ]
  },
  {
   "cell_type": "markdown",
   "metadata": {},
   "source": [
    "## Load model spectra"
   ]
  },
  {
   "cell_type": "code",
   "execution_count": 21,
   "metadata": {},
   "outputs": [],
   "source": [
    "all_spectra = np.load('spectra_lines_all.npy')"
   ]
  },
  {
   "cell_type": "markdown",
   "metadata": {},
   "source": [
    "## Plot model spectra"
   ]
  },
  {
   "cell_type": "code",
   "execution_count": 22,
   "metadata": {},
   "outputs": [
    {
     "data": {
      "image/png": "[encoded data removed]",
      "text/plain": [
       "<Figure size 432x288 with 1 Axes>"
      ]
     },
     "metadata": {
      "needs_background": "light"
     },
     "output_type": "display_data"
    }
   ],
   "source": [
    "for i in range(0, sample_num):\n",
    "    spectra = all_spectra[i]\n",
    "    if i == 0:\n",
    "        plt.semilogy(all_wave, spectra, color=line_sample_color,\n",
    "                     alpha=alpha, label='MCMC Samples', drawstyle='steps-mid')\n",
    "    else:\n",
    "        plt.semilogy(all_wave, spectra, color=line_sample_color,\n",
    "                     alpha=alpha, drawstyle='steps-mid')\n",
    "\n",
    "best_spectra = do_gofnt_matrix_integral(line_psi, gofnt_matrix_all, temp, flux_weighting)\n",
    "\n",
    "plt.errorbar(fuv_wave1, fuv_flux1, yerr=fuv_err1,\n",
    "             color=g130_color, drawstyle='steps-mid', label=r'G130M \\emph{STIS}')\n",
    "\n",
    "plt.errorbar(fuv_wave2, fuv_flux2, yerr=fuv_err2,\n",
    "             color=g160_color, drawstyle='steps-mid', label=r'G160M \\emph{STIS}')\n",
    "\n",
    "plt.errorbar(xray_wave, xray_flux, yerr=xray_err,\n",
    "             color=xray_color, drawstyle='steps-mid', label=r'\\emph{XMM-Newton}')\n",
    "\n",
    "plt.semilogy(all_wave, best_spectra, color=line_main_color,\n",
    "             label='Generated Spectrum for Maximum Likelihood Fit', drawstyle='steps-mid')\n",
    "\n",
    "plt.legend(bbox_to_anchor=(1.0, 1.0))\n",
    "plt.xlabel(r'Wavelength [\\AA]')\n",
    "y_label = r'$\\int_{\\lambda - \\frac{\\Delta \\lambda}{2}}^{\\lambda + \\frac{\\Delta \\lambda}{2}}$ $F_\\lambda$ $d\\lambda$ [erg s$^{-1}$ cm$^{-2}$]'\n",
    "plt.ylabel(y_label)\n",
    "plt.title('DEM-Generated Coronal Spectrum for TRAPPIST-1')\n",
    "plt.ylim(10.0**-18, 10**-11)\n",
    "# plt.gca().set_xscale('log')\n",
    "# plt.xlim(1200, 1250)\n",
    "# plt.xlim(0, 50)\n",
    "plt.xlim(10, 1500)\n",
    "plt.savefig('generated_spectrum.pdf')\n",
    "plt.show()"
   ]
  },
  {
   "cell_type": "code",
   "execution_count": 23,
   "metadata": {},
   "outputs": [
    {
     "data": {
      "text/plain": [
       "\"\\nappend_wave = np.append(xray_wave, fuv_wave)\\ntest_spectra = do_gofnt_matrix_integral(line_psi, append_gofnt, temp, flux_weighting)\\n\\nplt.errorbar(fuv_wave1, fuv_flux1, yerr=fuv_err1,\\n             color=g130_color, drawstyle='steps-mid', label=r'G130M \\\\emph{STIS}')\\n\\nplt.errorbar(fuv_wave2, fuv_flux2, yerr=fuv_err2,\\n             color=g160_color, drawstyle='steps-mid', label=r'G160M \\\\emph{STIS}')\\n\\nplt.errorbar(xray_wave, xray_flux, yerr=xray_err,\\n             color=xray_color, drawstyle='steps-mid', label=r'\\\\emph{XMM-Newton}')\\n\\nplt.semilogy(append_wave, test_spectra, color=line_main_color,\\n             label='Generated Spectrum for Maximum Likelihood Fit', drawstyle='steps-mid')\\n\\nplt.legend(bbox_to_anchor=(1.0, 1.0))\\nplt.xlabel(r'Wavelength [\\\\AA]')\\ny_label = r'$\\\\int_{\\\\lambda - \\x0crac{\\\\Delta \\\\lambda}{2}}^{\\\\lambda + \\x0crac{\\\\Delta \\\\lambda}{2}}$ $F_\\\\lambda$ $d\\\\lambda$ [erg s$^{-1}$ cm$^{-2}$]'\\nplt.ylabel(y_label)\\nplt.title('DEM-Generated Coronal Spectrum for TRAPPIST-1')\\nplt.ylim(10.0**-18, 10**-14)\\n# plt.gca().set_xscale('log')\\n# plt.xlim(1290, 1500)\\nplt.xlim(0, 50)\\n# plt.savefig('generated_spectrum.pdf')\\nplt.show()\\n\""
      ]
     },
     "execution_count": 23,
     "metadata": {},
     "output_type": "execute_result"
    }
   ],
   "source": [
    "'''\n",
    "append_wave = np.append(xray_wave, fuv_wave)\n",
    "test_spectra = do_gofnt_matrix_integral(line_psi, append_gofnt, temp, flux_weighting)\n",
    "\n",
    "plt.errorbar(fuv_wave1, fuv_flux1, yerr=fuv_err1,\n",
    "             color=g130_color, drawstyle='steps-mid', label=r'G130M \\emph{STIS}')\n",
    "\n",
    "plt.errorbar(fuv_wave2, fuv_flux2, yerr=fuv_err2,\n",
    "             color=g160_color, drawstyle='steps-mid', label=r'G160M \\emph{STIS}')\n",
    "\n",
    "plt.errorbar(xray_wave, xray_flux, yerr=xray_err,\n",
    "             color=xray_color, drawstyle='steps-mid', label=r'\\emph{XMM-Newton}')\n",
    "\n",
    "plt.semilogy(append_wave, test_spectra, color=line_main_color,\n",
    "             label='Generated Spectrum for Maximum Likelihood Fit', drawstyle='steps-mid')\n",
    "\n",
    "plt.legend(bbox_to_anchor=(1.0, 1.0))\n",
    "plt.xlabel(r'Wavelength [\\AA]')\n",
    "y_label = r'$\\int_{\\lambda - \\frac{\\Delta \\lambda}{2}}^{\\lambda + \\frac{\\Delta \\lambda}{2}}$ $F_\\lambda$ $d\\lambda$ [erg s$^{-1}$ cm$^{-2}$]'\n",
    "plt.ylabel(y_label)\n",
    "plt.title('DEM-Generated Coronal Spectrum for TRAPPIST-1')\n",
    "plt.ylim(10.0**-18, 10**-14)\n",
    "# plt.gca().set_xscale('log')\n",
    "# plt.xlim(1290, 1500)\n",
    "plt.xlim(0, 50)\n",
    "# plt.savefig('generated_spectrum.pdf')\n",
    "plt.show()\n",
    "'''"
   ]
  },
  {
   "cell_type": "code",
   "execution_count": 24,
   "metadata": {},
   "outputs": [
    {
     "name": "stdout",
     "output_type": "stream",
     "text": [
      "[3.33804265e-16 1.76545392e-15 2.71868416e-16 1.58098229e-15\n",
      " 1.65790079e-15 1.50280418e-15 6.00896700e-16 4.12765634e-16\n",
      " 3.30000000e-17 2.20000000e-17 8.57000000e-17 6.00000000e-17\n",
      " 1.51900000e-16 6.66000000e-17]\n"
     ]
    }
   ],
   "source": [
    "print(append_flux)"
   ]
  },
  {
   "cell_type": "code",
   "execution_count": 25,
   "metadata": {},
   "outputs": [
    {
     "name": "stdout",
     "output_type": "stream",
     "text": [
      "[5.30516565e-16 1.51788602e-15 3.01187123e-15 1.48674765e-15\n",
      " 4.61544120e-16 1.25474323e-15 1.36378579e-15 1.87503631e-15\n",
      " 4.34371581e-17 2.25426235e-17 5.37085498e-17 5.45107851e-17\n",
      " 1.10547015e-16 4.91807496e-17]\n"
     ]
    }
   ],
   "source": [
    "dem_intensities = do_gofnt_matrix_integral(line_psi, append_gofnt, temp, flux_weighting)\n",
    "print(dem_intensities)"
   ]
  },
  {
   "cell_type": "code",
   "execution_count": 26,
   "metadata": {},
   "outputs": [
    {
     "data": {
      "image/png": "[encoded data removed]",
      "text/plain": [
       "<Figure size 432x288 with 1 Axes>"
      ]
     },
     "metadata": {
      "needs_background": "light"
     },
     "output_type": "display_data"
    }
   ],
   "source": [
    "plt.loglog(dem_intensities/append_flux, '.')\n",
    "plt.show()"
   ]
  },
  {
   "cell_type": "code",
   "execution_count": 43,
   "metadata": {},
   "outputs": [],
   "source": [
    "targ_dist = 12.49 * u.pc\n",
    "targ_rad = 0.121 * u.R_sun\n",
    "targ_abundance = 0.04\n",
    "flux_unit = u.erg / (u.second * (u.cm**2.0))\n",
    "intensity_conversion = (targ_dist**2.0) / ((targ_rad**2.0) * np.pi * u.sr)\n",
    "intensity_unit = u.erg / (u.second * u.sr * (u.cm**2.0))\n",
    "flux_weighting = ((np.pi * u.sr * (targ_rad**2.0) * (1.0 / (targ_dist**2.0))).to(u.sr)).value\n",
    "\n",
    "all_wave = np.arange(1.0, 2001.0, 5.0)\n",
    "all_spectra = np.load('spectra_lines_all.npy')\n",
    "line_samples = np.load('samples_line_all.npy')\n",
    "line_lnprob = np.load('lnprob_line_all.npy')\n",
    "gofnt_matrix_all = np.load('gofnt_matrix_all_trappist-1.npy')\n",
    "line_psi = 10.0**chebval(shift_log_temp, line_samples[np.argmax(line_lnprob)][:-1])\n",
    "best_spectra = do_gofnt_matrix_integral(line_psi, gofnt_matrix_all, temp, flux_weighting)\n",
    "\n",
    "wave_unit = u.Angstrom\n",
    "flux_unit = u.erg / (u.s * u.cm**2)\n",
    "\n",
    "upper_err = np.percentile(all_spectra, 84, axis=0) - best_spectra\n",
    "lower_err = best_spectra - np.percentile(all_spectra, 16, axis=0)\n",
    "asym_error = [lower_err, upper_err]\n",
    "\n",
    "from astropy.table import Table\n",
    "\n",
    "trappist_spectra = Table([all_wave * wave_unit,\n",
    "                          best_spectra * flux_unit,\n",
    "                          lower_err * flux_unit,\n",
    "                          upper_err * flux_unit],\n",
    "                         names=('Wavelength', 'Bin-Integrated Flux', 'Lower_Error_16', 'Upper_Error_84'))\n",
    "trappist_spectra.write('trappist-1_dem_spectra.fits', format='fits', overwrite=True)\n"
   ]
  },
  {
   "cell_type": "code",
   "execution_count": 44,
   "metadata": {},
   "outputs": [
    {
     "data": {
      "image/png": "[encoded data removed]",
      "text/plain": [
       "<Figure size 432x288 with 1 Axes>"
      ]
     },
     "metadata": {
      "needs_background": "light"
     },
     "output_type": "display_data"
    }
   ],
   "source": [
    "test_table = Table.read('trappist-1_dem_spectra.fits')\n",
    "plt.errorbar(test_table['Wavelength'], test_table['Bin-Integrated Flux'],\n",
    "             yerr=[test_table['Lower_Error_16'], test_table['Upper_Error_84']],\n",
    "             drawstyle='steps-mid')\n",
    "plt.scatter(xray_wave, xray_flux)\n",
    "# plt.gca().set_xscale('log')\n",
    "plt.gca().set_yscale('log')\n",
    "# plt.xlim(10, 50)"
   ]
  },
  {
   "cell_type": "code",
   "execution_count": null,
   "metadata": {},
   "outputs": [],
   "source": []
  }
 ],
 "metadata": {
  "kernelspec": {
   "display_name": "Python 3",
   "language": "python",
   "name": "python3"
  },
  "language_info": {
   "codemirror_mode": {
    "name": "ipython",
    "version": 3
   },
   "file_extension": ".py",
   "mimetype": "text/x-python",
   "name": "python",
   "nbconvert_exporter": "python",
   "pygments_lexer": "ipython3",
   "version": "3.6.8"
  }
 },
 "nbformat": 4,
 "nbformat_minor": 2
}
