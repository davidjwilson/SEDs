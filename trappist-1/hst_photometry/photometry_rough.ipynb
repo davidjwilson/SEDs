{
 "cells": [
  {
   "cell_type": "markdown",
   "metadata": {},
   "source": [
    "Notes for HST photometry project"
   ]
  },
  {
   "cell_type": "code",
   "execution_count": 1,
   "metadata": {},
   "outputs": [],
   "source": [
    "import numpy as np\n",
    "import matplotlib.pyplot as plt\n",
    "import glob\n",
    "import astropy.io.fits as fits\n",
    "import os\n",
    "from scipy.io.idl import readsav\n",
    "from astropy.table import Table\n",
    "from astropy.io import ascii\n",
    "import astropy.units as u\n",
    "import astropy.constants as const\n",
    "from astropy.modeling import models, fitting\n",
    "from craftroom import resample\n",
    "from scipy.interpolate import interp1d\n",
    "from astropy.convolution import convolve, Box1DKernel\n",
    "\n",
    "\n",
    "%matplotlib inline\n",
    "from matplotlib import rcParams\n",
    "rcParams[\"figure.figsize\"] = (14, 5)\n",
    "rcParams[\"font.size\"] = 20"
   ]
  },
  {
   "cell_type": "code",
   "execution_count": 2,
   "metadata": {},
   "outputs": [],
   "source": [
    "model = Table.read('../paper/saved_models/trappist-1_model_var_res_v07.ecsv')\n",
    "mw, mf = model['WAVELENGTH'], model['FLUX']"
   ]
  },
  {
   "cell_type": "markdown",
   "metadata": {},
   "source": [
    "Filters to look at \n",
    " \n",
    " ACS/SBC F140LP - F165LP = C IV  \n",
    "  F280N   \n",
    "  F218W and F225W  \n",
    "  \n",
    "  "
   ]
  },
  {
   "cell_type": "code",
   "execution_count": 3,
   "metadata": {},
   "outputs": [
    {
     "ename": "ModuleNotFoundError",
     "evalue": "No module named 'svo_filters'",
     "output_type": "error",
     "traceback": [
      "\u001b[0;31m---------------------------------------------------------------------------\u001b[0m",
      "\u001b[0;31mModuleNotFoundError\u001b[0m                       Traceback (most recent call last)",
      "\u001b[0;32m<ipython-input-3-4ae6ab21edc8>\u001b[0m in \u001b[0;36m<module>\u001b[0;34m\u001b[0m\n\u001b[1;32m      1\u001b[0m \u001b[0;31m#uvispath = '/home/david/work/filters/wfc3/UVIS'\u001b[0m\u001b[0;34m\u001b[0m\u001b[0;34m\u001b[0m\u001b[0;34m\u001b[0m\u001b[0m\n\u001b[0;32m----> 2\u001b[0;31m \u001b[0;32mfrom\u001b[0m \u001b[0msvo_filters\u001b[0m \u001b[0;32mimport\u001b[0m \u001b[0msvo\u001b[0m\u001b[0;34m\u001b[0m\u001b[0;34m\u001b[0m\u001b[0m\n\u001b[0m",
      "\u001b[0;31mModuleNotFoundError\u001b[0m: No module named 'svo_filters'"
     ]
    }
   ],
   "source": [
    "#uvispath = '/home/david/work/filters/wfc3/UVIS'\n",
    "from svo_filters import svo"
   ]
  },
  {
   "cell_type": "code",
   "execution_count": null,
   "metadata": {},
   "outputs": [],
   "source": [
    "F280N = svo.Filter('WFC3_UVIS1.F280N')"
   ]
  },
  {
   "cell_type": "code",
   "execution_count": null,
   "metadata": {},
   "outputs": [],
   "source": [
    "F280N.info()"
   ]
  },
  {
   "cell_type": "code",
   "execution_count": null,
   "metadata": {},
   "outputs": [],
   "source": [
    "filters =  ['WFC3_UVIS1.F280N', 'WFC3_UVIS1.F218W', 'WFC3_UVIS1.F225W', 'WFC3_UVIS1.F275W', 'ACS_SBC.F140LP', 'ACS_SBC.F165LP']"
   ]
  },
  {
   "cell_type": "code",
   "execution_count": null,
   "metadata": {},
   "outputs": [],
   "source": [
    "for flt in filters:\n",
    "    bp =  svo.Filter(flt)\n",
    "    bpw, bpf = bp.wave[0]*10000, bp.throughput[0]\n",
    "    #print(bp.name)\n",
    "    plt.plot(bpw, bpf, label = r'{}'.format(bp.name.replace('_', ' ')))\n",
    "    print(min(bpf))\n",
    "\n",
    "plt.legend()"
   ]
  },
  {
   "cell_type": "code",
   "execution_count": null,
   "metadata": {},
   "outputs": [],
   "source": [
    "\n",
    "for flt in filters:\n",
    "    bp =  svo.Filter(flt)\n",
    "    bpw, bpf = bp.wave[0]*10000, bp.throughput[0]\n",
    "    #print(bp.name)\n",
    "    plt.plot(bpw, bpf, label = r'{}'.format(bp.name.replace('_', ' ')))\n",
    "\n",
    "#plt.legend()\n",
    "mask = (mw > 1000) & (mw < 3500)\n",
    "umw, umf =  mw[mask], mf[mask]\n",
    "plt.plot(umw, umf*5e14)\n",
    "plt.ylim(0.000001, 0.15)\n",
    "plt.yscale('log')"
   ]
  },
  {
   "cell_type": "markdown",
   "metadata": {},
   "source": [
    "Plan- make a model spectrum file for each filter. Try with just a short one first,"
   ]
  },
  {
   "cell_type": "code",
   "execution_count": null,
   "metadata": {},
   "outputs": [],
   "source": [
    "for flt in filters:\n",
    "    bp =  svo.Filter(flt)\n",
    "    bpw, bpf = (bp.wave[0].value)*10000, bp.throughput[0]\n",
    "    print(bpw[0], bpw[-1])"
   ]
  },
  {
   "cell_type": "code",
   "execution_count": 5,
   "metadata": {},
   "outputs": [
    {
     "data": {
      "text/plain": [
       "[<matplotlib.lines.Line2D at 0x7fd836e5f668>]"
      ]
     },
     "execution_count": 5,
     "metadata": {},
     "output_type": "execute_result"
    },
    {
     "data": {
      "image/png": "[encoded data removed]",
      "text/plain": [
       "<Figure size 1008x360 with 1 Axes>"
      ]
     },
     "metadata": {
      "needs_background": "light"
     },
     "output_type": "display_data"
    }
   ],
   "source": [
    "#1230.0 3691.0\n",
    "mask = (mw > 1220) & (mw < 3700)\n",
    "umw, umf =  mw[mask], mf[mask]\n",
    "savdat = Table([umw, umf], names=['#WAVELENGTH', 'FLUX'])\n",
    "ascii.write(savdat, 't1uv_model.dat', format='basic', overwrite=True)\n",
    "plt.plot(umw, umf)"
   ]
  },
  {
   "cell_type": "markdown",
   "metadata": {},
   "source": [
    "Idea- get a MUSCLES  NUV spectrum, scale to T1 distance, see if that works as an input. GJ 581 is an M5"
   ]
  },
  {
   "cell_type": "code",
   "execution_count": null,
   "metadata": {},
   "outputs": [],
   "source": [
    "gjpath = '/media/david/5tb_storage1/mast_muscles/gj581/'\n",
    "gj_sed = '{}hlsp_muscles_multi_multi_gj581_broadband_v22_adapt-var-res-sed.fits'.format(gjpath)\n",
    "gjdata = fits.getdata(gj_sed,1)"
   ]
  },
  {
   "cell_type": "code",
   "execution_count": null,
   "metadata": {},
   "outputs": [],
   "source": [
    "gw, gf = gjdata['WAVELENGTH'], gjdata['FLUX']\n",
    "plt.plot(gw, gf)\n",
    "plt.xscale('log')\n",
    "plt.yscale('log')\n",
    "plt.xlim(1700,3000)"
   ]
  },
  {
   "cell_type": "code",
   "execution_count": null,
   "metadata": {},
   "outputs": [],
   "source": [
    "d_gj = (1/158.7491998297578e-3)*u.pc\n",
    "d_t1 = 12.1*u.pc\n",
    "print(d_gj)"
   ]
  },
  {
   "cell_type": "code",
   "execution_count": null,
   "metadata": {},
   "outputs": [],
   "source": [
    "t1_nuv = Table.read('../test_files/components/hlsp_muscles_hst_cos_2mass-j23062928-0502285_g230l_v6_component-spec.ecsv')\n",
    "t1w, t1f = t1_nuv['WAVELENGTH'], t1_nuv['FLUX']"
   ]
  },
  {
   "cell_type": "code",
   "execution_count": null,
   "metadata": {},
   "outputs": [],
   "source": [
    "plt.figure(figsize=(8, 5))\n",
    "plt.plot(t1w, t1f)\n",
    "plt.xlabel('Wavelength (\\AA)')\n",
    "plt.ylabel('Flux (erg s$^{-1}$cm$^{-2}$\\AA$^{-1}$)', size=20)\n",
    "plt.xlim(1650, 3200)\n",
    "plt.ylim(-0.9e-15, 1.5e-15)\n",
    "plt.tight_layout()"
   ]
  },
  {
   "cell_type": "code",
   "execution_count": null,
   "metadata": {},
   "outputs": [],
   "source": [
    "scale = (d_gj/d_t1)**2\n",
    "plt.plot(gw, gf)\n",
    "plt.plot(gw, gf*scale)\n",
    "plt.xscale('log')\n",
    "plt.yscale('log')\n",
    "plt.xlim(1700,3000)\n",
    "plt.plot(umw, umf)\n",
    "plt.plot(t1w, t1f)"
   ]
  },
  {
   "cell_type": "code",
   "execution_count": null,
   "metadata": {},
   "outputs": [],
   "source": [
    "plt.step(gw, gf*scale, where='mid')\n",
    "#plt.xscale('log')\n",
    "#plt.yscale('log')\n",
    "plt.xlim(2700, 2900)\n",
    "plt.ylim(0, 2e-15)\n",
    "plt.step(t1w, t1f, where='mid')"
   ]
  },
  {
   "cell_type": "markdown",
   "metadata": {},
   "source": [
    "Probably not? Can say it's a rough approximation for the etc"
   ]
  },
  {
   "cell_type": "code",
   "execution_count": null,
   "metadata": {},
   "outputs": [],
   "source": [
    "mask = (gw > 1220) & (gw < 3700)\n",
    "ugjw, ujgf =  gw[mask], gf[mask]\n",
    "savdat = Table([ugjw, ujgf*scale], names=['#WAVELENGTH', 'FLUX'])\n",
    "ascii.write(savdat, 'scaled_M5_uv.dat', format='basic', overwrite=True)"
   ]
  },
  {
   "cell_type": "code",
   "execution_count": null,
   "metadata": {},
   "outputs": [],
   "source": [
    "t1data = Table.read('../../common/quicksaves/2MASS-J23062928-0502285_basic.ecsv')\n",
    "w, f, e = t1data['WAVELENGTH'], t1data['FLUX'], t1data['ERROR']"
   ]
  },
  {
   "cell_type": "code",
   "execution_count": null,
   "metadata": {},
   "outputs": [],
   "source": [
    "uvmask = (w > 1250) & (w < 3500)\n",
    "t1w, t1f, t1e = w[uvmask],f[uvmask], e[uvmask]"
   ]
  },
  {
   "cell_type": "code",
   "execution_count": null,
   "metadata": {},
   "outputs": [],
   "source": [
    "plt.plot(t1w, t1f)"
   ]
  },
  {
   "cell_type": "markdown",
   "metadata": {},
   "source": [
    "Just plot the raw spectra with emission lines noted and filters?"
   ]
  },
  {
   "cell_type": "code",
   "execution_count": null,
   "metadata": {},
   "outputs": [],
   "source": [
    "components = glob.glob('../test_files/components/*.ecsv')\n",
    "components\n"
   ]
  },
  {
   "cell_type": "code",
   "execution_count": null,
   "metadata": {},
   "outputs": [],
   "source": [
    "filters =  ['WFC3_UVIS1.F280N', 'WFC3_UVIS1.F225W', 'WFC3_UVIS1.F275W', 'ACS_SBC.F150LP', 'ACS_SBC.F165LP']\n",
    "\n",
    "plt.figure(figsize=(12, 6))\n",
    "w0s = []\n",
    "w1s = []\n",
    "for i, spec in enumerate([components[2], components[3], components[8]]):\n",
    "    data = Table.read(spec)\n",
    "    w, f = data['WAVELENGTH'], data['FLUX']\n",
    "    #airglow =  [1207, 1222, 1300, 1310, 1353, 1356]\n",
    "    mask = (w < 1207) | (w > 1222) & (w < 1300) | (w > 1310) & (w < 1353) | (w > 1356) \n",
    "    w, f = w[mask], np.array(f[mask])\n",
    "    f = convolve(f,Box1DKernel(5))\n",
    "    plt.plot(w, f, zorder=-i)\n",
    "    w0s.append(w[0])\n",
    "    w1s.append(w[-1])\n",
    "plt.ylim(-0.9e-15, 2.19e-15)\n",
    "#plt.xscale('log')\n",
    "for flt in filters:\n",
    "    bp =  svo.Filter(flt)\n",
    "    bpw, bpf = bp.wave[0]*10000, (bp.throughput[0]/6e13)\n",
    "    #print(bp.name)\n",
    "    plt.plot(bpw, bpf, lw=2, ls='--', label = r'{}'.format(bp.name.replace('_', ' ')))\n",
    "plt.xlim(1250, 3100)\n",
    "\n",
    "liney = -0.5e-15\n",
    "labely = -0.7e-15\n",
    "ticklength = 0.1*abs(labely)\n",
    "plt.errorbar((w0s[0],w1s[0]),(liney, liney), yerr= [[0,0], [ticklength,ticklength]], c ='k')\n",
    "plt.annotate('G130M', (1340, labely), horizontalalignment='center')\n",
    "\n",
    "plt.errorbar((w0s[1],w1s[1]),(0.8*liney, 0.8*liney), yerr= [[0,0], [ticklength,ticklength]], c ='k')\n",
    "plt.annotate('G160M', (1600, labely), horizontalalignment='center')\n",
    "\n",
    "plt.errorbar((w0s[2],w1s[2]),(liney, liney), yerr= [[0,0], [ticklength,ticklength]], c ='k')\n",
    "plt.annotate('G230L', (2500, labely), horizontalalignment='center')\n",
    "\n",
    "plt.ylabel('Flux (erg s$^{-1}$cm$^{-2}$\\AA$^{-1}$)', size=25)\n",
    "plt.xlabel('Wavelength (\\AA)', size=25)\n",
    "\n",
    "c4 = [1548.195, 1550.77]\n",
    "mg2 = [2795.523, 2802.697]\n",
    "\n",
    "names = ['C\\,{\\sc iv}', 'Mg\\,{\\sc ii}']\n",
    "lines = [c4, mg2]\n",
    "for name, si in zip(names, lines):\n",
    "    [plt.annotate('',(line, 1.3e-15), xytext=(line, 1.7e-15),arrowprops=dict(arrowstyle='-'), horizontalalignment='center') for line in si]\n",
    "    plt.annotate(name,(np.mean(si), 2.e-15), xytext=(np.mean(si), 1.9e-15), horizontalalignment='center', bbox=dict(facecolor='white', edgecolor='none'))\n",
    "\n",
    "#plt.legend(loc=1)\n",
    "\n",
    "plt.tight_layout()"
   ]
  },
  {
   "cell_type": "markdown",
   "metadata": {},
   "source": [
    "Same plot but with zoom in panels on the lines"
   ]
  },
  {
   "cell_type": "code",
   "execution_count": null,
   "metadata": {},
   "outputs": [],
   "source": [
    "## filters =  ['WFC3_UVIS1.F280N', 'WFC3_UVIS1.F225W', 'WFC3_UVIS1.F275W', 'ACS_SBC.F140LP', 'ACS_SBC.F165LP']\n",
    "\n",
    "plt.figure(figsize=(12, 10))\n",
    "plt.subplot(211)\n",
    "\n",
    "w0s = []\n",
    "w1s = []\n",
    "for i, spec in enumerate([components[2], components[3], components[8]]):\n",
    "    data = Table.read(spec)\n",
    "    w, f = data['WAVELENGTH'], data['FLUX']\n",
    "    #airglow =  [1207, 1222, 1300, 1310, 1353, 1356]\n",
    "    mask = (w < 1207) | (w > 1222) & (w < 1300) | (w > 1310) & (w < 1353) | (w > 1356) \n",
    "    w, f = w[mask], np.array(f[mask])\n",
    "    f = convolve(f,Box1DKernel(5))\n",
    "    plt.plot(w[50:-50], f[50:-50], zorder=-i)\n",
    "    w0s.append(w[0])\n",
    "    w1s.append(w[-1])\n",
    "plt.ylim(-0.9e-15, 2.59e-15)\n",
    "#plt.xscale('log')\n",
    "\n",
    "shift = [70, 0, 0, 0,0]# ofset filter labels\n",
    "for i, flt in enumerate(filters):\n",
    "    bp =  svo.Filter(flt)\n",
    "    bpw, bpf = bp.wave[0]*10000, (bp.throughput[0]/6e13)\n",
    "    #print(bp.name)\n",
    "    plt.plot(bpw, bpf, lw=2, ls='--', label = r'{}'.format(bp.name.replace('_', ' ')), c='C{}'.format(i+3))\n",
    "    label = bp.name[bp.name.find('.')+1:]\n",
    "    plt.annotate(label, (bp.WavelengthRef+shift[i], 2.3e-15), horizontalalignment='center', c='C{}'.format(i+3))\n",
    "plt.xlim(1251, 3099)\n",
    "\n",
    "liney = -0.5e-15\n",
    "labely = -0.7e-15\n",
    "ticklength = 0.1*abs(labely)\n",
    "plt.errorbar((w0s[0],w1s[0]),(liney, liney), yerr= [[0,0], [ticklength,ticklength]], c ='k')\n",
    "plt.annotate('G130M', (1340, labely), horizontalalignment='center')\n",
    "\n",
    "plt.errorbar((w0s[1],w1s[1]),(0.8*liney, 0.8*liney), yerr= [[0,0], [ticklength,ticklength]], c ='k')\n",
    "plt.annotate('G160M', (1600, labely), horizontalalignment='center')\n",
    "\n",
    "plt.errorbar((w0s[2],w1s[2]),(liney, liney), yerr= [[0,0], [ticklength,ticklength]], c ='k')\n",
    "plt.annotate('G230L', (2500, labely), horizontalalignment='center')\n",
    "\n",
    "plt.ylabel('Flux (erg s$^{-1}$cm$^{-2}$\\AA$^{-1}$)', size=20)\n",
    "plt.xlabel('Wavelength (\\AA)', size=20)\n",
    "\n",
    "c4 = [1548.195, 1550.77]\n",
    "mg2 = [2795.523, 2802.697]\n",
    "\n",
    "names = ['C\\,{\\sc iv}', 'Mg\\,{\\sc ii}']\n",
    "lines = [c4, mg2]\n",
    "for name, si in zip(names, lines):\n",
    "    [plt.annotate('',(line, 1.3e-15), xytext=(line, 1.7e-15),arrowprops=dict(arrowstyle='-'), horizontalalignment='center') for line in si]\n",
    "    plt.annotate(name,(np.mean(si), 2.e-15), xytext=(np.mean(si), 1.9e-15), horizontalalignment='center', bbox=dict(facecolor='white', edgecolor='none'))\n",
    "\n",
    "#plt.legend(loc=1)\n",
    "\n",
    "\n",
    "plt.subplot(223)\n",
    "data = Table.read(components[3])\n",
    "w, f = data['WAVELENGTH'], np.array(data['FLUX'])\n",
    "#w, f = w[mask], np.array(f[mask])\n",
    "f = convolve(f,Box1DKernel(5))\n",
    "plt.step(w, f, where='mid')\n",
    "plt.xlim(1545.1, 1553.9)\n",
    "plt.ylim(-0.5e-16, 5.5e-16)\n",
    "\n",
    "\n",
    "#[plt.annotate('',(line, 4e-16), xytext=(line, 4.8e-16),arrowprops=dict(arrowstyle='-'), horizontalalignment='center') for line in c4]\n",
    "[plt.axvline(line, c='C1', ls='--', alpha=0.7, zorder=-1) for line in c4]\n",
    "plt.annotate(names[0],(np.mean(c4), 5e-16), xytext=(np.mean(c4), 5e-16), horizontalalignment='center', bbox=dict(facecolor='white', edgecolor='none'))\n",
    "plt.ylabel('Flux (erg s$^{-1}$cm$^{-2}$\\AA$^{-1}$)', size=20)\n",
    "plt.xlabel('Wavelength (\\AA)', size=20)\n",
    "\n",
    "\n",
    "\n",
    "plt.subplot(224)\n",
    "data = Table.read(components[8])\n",
    "w, f = data['WAVELENGTH'], np.array(data['FLUX'])\n",
    "#w, f = w[mask], np.array(f[mask])\n",
    "f = convolve(f,Box1DKernel(5))\n",
    "plt.step(w, f, where='mid')\n",
    "plt.xlim(2785.1, 2809.9)\n",
    "plt.ylim(-0.5e-16, 5.5e-16)\n",
    "\n",
    "\n",
    "#[plt.annotate('',(line, 4e-16), xytext=(line, 4.8e-16),arrowprops=dict(arrowstyle='-'), horizontalalignment='center') for line in c4]\n",
    "[plt.axvline(line, c='C1', ls='--', alpha=0.7, zorder=-1) for line in mg2]\n",
    "plt.annotate(names[1],(np.mean(mg2), 5e-16), xytext=(np.mean(mg2), 5e-16), horizontalalignment='center', bbox=dict(facecolor='white', edgecolor='none'))\n",
    "#plt.ylabel('Flux (erg s$^{-1}$cm$^{-2}$\\AA$^{-1}$)', size=25)\n",
    "plt.xlabel('Wavelength (\\AA)', size=20)\n",
    "\n",
    "\n",
    "plt.tight_layout()\n",
    "plt.subplots_adjust(hspace=0.25)\n",
    "plt.savefig('filters_and_lines.pdf')"
   ]
  },
  {
   "cell_type": "code",
   "execution_count": null,
   "metadata": {},
   "outputs": [],
   "source": []
  },
  {
   "cell_type": "code",
   "execution_count": null,
   "metadata": {},
   "outputs": [],
   "source": [
    "bp =  svo.Filter(flt)"
   ]
  },
  {
   "cell_type": "code",
   "execution_count": null,
   "metadata": {},
   "outputs": [],
   "source": [
    "bp"
   ]
  },
  {
   "cell_type": "code",
   "execution_count": null,
   "metadata": {},
   "outputs": [],
   "source": [
    "bp.name[bp.name.find('.')+1:]"
   ]
  },
  {
   "cell_type": "code",
   "execution_count": null,
   "metadata": {},
   "outputs": [],
   "source": [
    "acs = ['ACS_SBC.F165LP', 'ACS_SBC.F150LP']\n",
    "\n",
    "for flt in acs:\n",
    "    bp =  svo.Filter(flt)\n",
    "    bpw, bpf = bp.wave[0]*10000, bp.throughput[0]\n",
    "    #print(bp.name)\n",
    "    plt.plot(bpw, bpf, label = r'{}'.format(bp.name.replace('_', ' ')))\n",
    "    print(min(bpf))\n",
    "[plt.axvline(line, c='C1', ls='--', alpha=0.7, zorder=-1) for line in c4]\n",
    "plt.xlim(1400, 1700)"
   ]
  },
  {
   "cell_type": "markdown",
   "metadata": {},
   "source": [
    "Need a demo of M dwarfs compared with the sun- use the two M5 from MUSCLES?"
   ]
  },
  {
   "cell_type": "code",
   "execution_count": null,
   "metadata": {},
   "outputs": [],
   "source": [
    "mpath = '/media/david/5tb_storage1/mast_muscles/'\n",
    "stars = ['gj876', 'gj581']\n",
    "for star in stars:\n",
    "    fpath = '{}{}/hlsp_muscles_multi_multi_{}_broadband_v22_adapt-const-res-sed.fits'.format(mpath, star, star)\n",
    "    data = fits.getdata(fpath, 1)\n",
    "    wm5, fm5 = data['WAVELENGTH'], data['FLUX'] \n",
    "    plt.plot(wm5, fm5/np.max(fm5), label=star.upper())\n",
    "    \n",
    "sol_spec =  readsav('../../../stuff/Solar-data.idlsav')\n",
    "w_sol, f_sol = sol_spec['wave']*10, sol_spec['flux']*100\n",
    "plt.plot(w_sol, f_sol/np.max(f_sol), label='Sun', zorder=-1, alpha =0.5)\n",
    "plt.ylim(5e-8, 10)\n",
    "plt.xlim(6, 2e4)\n",
    "plt.xscale('log')\n",
    "plt.yscale('log')\n",
    "plt.xlabel('Wavelength (\\AA)')\n",
    "plt.ylabel('Relative Flux')\n",
    "plt.legend()\n",
    "plt.tight_layout()\n",
    "plt.savefig('m5_comparison.pdf')"
   ]
  },
  {
   "cell_type": "code",
   "execution_count": null,
   "metadata": {},
   "outputs": [],
   "source": []
  }
 ],
 "metadata": {
  "kernelspec": {
   "display_name": "Python 3",
   "language": "python",
   "name": "python3"
  },
  "language_info": {
   "codemirror_mode": {
    "name": "ipython",
    "version": 3
   },
   "file_extension": ".py",
   "mimetype": "text/x-python",
   "name": "python",
   "nbconvert_exporter": "python",
   "pygments_lexer": "ipython3",
   "version": "3.6.13"
  }
 },
 "nbformat": 4,
 "nbformat_minor": 4
}
