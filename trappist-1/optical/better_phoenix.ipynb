{
 "cells": [
  {
   "cell_type": "markdown",
   "metadata": {},
   "source": [
    "Improvements to the Phoenix model"
   ]
  },
  {
   "cell_type": "code",
   "execution_count": 1,
   "metadata": {},
   "outputs": [],
   "source": [
    "import numpy as np\n",
    "import matplotlib.pyplot as plt\n",
    "import astropy.io.fits as fits\n",
    "import os\n",
    "import glob\n",
    "from scipy.interpolate import interp1d\n",
    "from scipy.io.idl import readsav\n",
    "from astropy.table import Table\n",
    "from astropy.io import ascii\n",
    "import astropy.units as u\n",
    "from scipy.optimize import leastsq\n",
    "import astropy.constants as const\n",
    "from astropy.convolution import convolve, Box1DKernel\n",
    "from astropy.modeling import models, fitting\n",
    "\n",
    "\n",
    "#matplotlib set up\n",
    "%matplotlib inline\n",
    "from matplotlib import rcParams\n",
    "rcParams[\"figure.figsize\"] = (14, 5)\n",
    "rcParams[\"font.size\"] = 20"
   ]
  },
  {
   "cell_type": "code",
   "execution_count": 2,
   "metadata": {},
   "outputs": [],
   "source": [
    "#import prepare_phoenix"
   ]
  },
  {
   "cell_type": "markdown",
   "metadata": {},
   "source": [
    "#{'Teff':data['Teff__0'], 'logg': logg, 'FeH': FeH, 'aM': aM}\n",
    "Params from B+M 17: https://ui.adsabs.harvard.edu/abs/2017ApJ...845..110B/abstract\n"
   ]
  },
  {
   "cell_type": "code",
   "execution_count": 3,
   "metadata": {},
   "outputs": [],
   "source": [
    "#b+m17\n",
    "#teff = 2650*u.K\n",
    "#distance = 12.49*u.pc #~consistant with gaia\n",
    "#mass = 0.080*u.M_sun\n",
    "#radius = 0.121*u.R_sun\n",
    "\n",
    "#g+17\n",
    "#teff = 2559*u.K\n",
    "#distance = 12.1*u.pc\n",
    "#mass = 0.080*u.M_sun\n",
    "#radius = 0.117*u.R_sun\n",
    "\n",
    "#gonzales+19 w. gaia! https://arxiv.org/pdf/1909.13859.pdf\n",
    "teff = 2628*u.K\n",
    "distance = 12.43*u.pc\n",
    "mass = 90*u.M_jup\n",
    "radius = 1.16*u.R_jup\n",
    "logg = 5.21\n",
    "FeH = 0.04\n",
    "#g = ((const.G.to(u.cm**3/(u.g*u.s**2))*mass.to(u.g))/(radius.to(u.cm)**2))\n",
    "#print(g)\n",
    "#logg = np.log10(g.value)\n",
    "#print(logg)"
   ]
  },
  {
   "cell_type": "code",
   "execution_count": 4,
   "metadata": {},
   "outputs": [],
   "source": [
    "#star_params =  {'Teff':teff.value, 'logg': logg, 'FeH': 0.0, 'aM': 0}"
   ]
  },
  {
   "cell_type": "code",
   "execution_count": 5,
   "metadata": {},
   "outputs": [],
   "source": [
    "#wavefile= 'phoenix_fits/WAVE_PHOENIX-ACES-AGSS-COND-2011.fits'\n",
    "#savepath = ''\n",
    "#pw, pf =prepare_phoenix.make_phoenix_spectrum('trappist-1',wavefile, '.', 'phoenix_fits/', star_params, save_ecsv=True, plot=False)"
   ]
  },
  {
   "cell_type": "code",
   "execution_count": 6,
   "metadata": {},
   "outputs": [],
   "source": [
    "#plt.plot(pw, pf)"
   ]
  },
  {
   "cell_type": "markdown",
   "metadata": {},
   "source": [
    "Ok let's scale with distance and wavelength rather than fitting. Current = 1.59e-28 "
   ]
  },
  {
   "cell_type": "code",
   "execution_count": 7,
   "metadata": {},
   "outputs": [
    {
     "name": "stdout",
     "output_type": "stream",
     "text": [
      "4.675063607400832e-28\n"
     ]
    }
   ],
   "source": [
    "old_scale = 1.59e-28\n",
    "scale = ((radius.to(u.cm)/distance.to(u.cm))**2)*1e-8 #correcting to A\n",
    "print(scale)\n",
    "#mscale = 4.7527382752515984e-20"
   ]
  },
  {
   "cell_type": "code",
   "execution_count": 8,
   "metadata": {},
   "outputs": [
    {
     "ename": "NameError",
     "evalue": "name 'pw' is not defined",
     "output_type": "error",
     "traceback": [
      "\u001b[0;31m---------------------------------------------------------------------------\u001b[0m",
      "\u001b[0;31mNameError\u001b[0m                                 Traceback (most recent call last)",
      "\u001b[0;32m<ipython-input-8-3eca2a72c981>\u001b[0m in \u001b[0;36m<module>\u001b[0;34m\u001b[0m\n\u001b[0;32m----> 1\u001b[0;31m \u001b[0mplt\u001b[0m\u001b[0;34m.\u001b[0m\u001b[0mplot\u001b[0m\u001b[0;34m(\u001b[0m\u001b[0mpw\u001b[0m\u001b[0;34m,\u001b[0m \u001b[0mpf\u001b[0m\u001b[0;34m*\u001b[0m\u001b[0mscale\u001b[0m\u001b[0;34m)\u001b[0m\u001b[0;34m\u001b[0m\u001b[0;34m\u001b[0m\u001b[0m\n\u001b[0m",
      "\u001b[0;31mNameError\u001b[0m: name 'pw' is not defined"
     ]
    }
   ],
   "source": [
    "plt.plot(pw, pf*scale)"
   ]
  },
  {
   "cell_type": "code",
   "execution_count": null,
   "metadata": {},
   "outputs": [],
   "source": [
    "mpath = '/home/david/work/muscles/trappist-1/sp_models/'\n",
    "mods = os.listdir(mpath)\n",
    "for mod in mods[0:1]:\n",
    "    mw, mf = np.loadtxt(mpath+mod, unpack=True, skiprows=1)\n",
    "    plt.plot(mw, mf*scale/1e-8)\n",
    "plt.plot(pw,pf*scale, zorder=-1)\n",
    "plt.xlim(1000, 50000)\n",
    "plt.ylim(0, 3e-14)\n",
    "#plt.yscale('log')"
   ]
  },
  {
   "cell_type": "code",
   "execution_count": null,
   "metadata": {},
   "outputs": [],
   "source": [
    "#hdul = fits.open('phoenix_fits/lte02500-5.00-0.0.PHOENIX-ACES-AGSS-COND-2011-HiRes.fits')"
   ]
  },
  {
   "cell_type": "code",
   "execution_count": null,
   "metadata": {},
   "outputs": [],
   "source": [
    "#hdul[0].header"
   ]
  },
  {
   "cell_type": "markdown",
   "metadata": {},
   "source": [
    "Flux is in per cm not per A!!!!!!! Fixed above. How does that compare to STIS?"
   ]
  },
  {
   "cell_type": "code",
   "execution_count": null,
   "metadata": {},
   "outputs": [],
   "source": [
    "stis_opt = 'odlm41010_sx1.fits'\n",
    "data = fits.getdata('../combined/'+stis_opt,1)[0]\n",
    "wo = data['WAVELENGTH'][data['DQ']==0]\n",
    "fo = data['FLUX'][data['DQ']==0]\n",
    "eo = data['ERROR'][data['DQ']==0]\n",
    "mask = (fo>0) &  (wo <3355) | (wo > 3365) & (wo < 5321) | (wo > 5325) & (wo < 5476.5) | (wo > 5480.5) #cutting out overlap and cosmics\n",
    "wo, fo, eo = wo[mask], fo[mask], eo[mask]"
   ]
  },
  {
   "cell_type": "code",
   "execution_count": null,
   "metadata": {},
   "outputs": [],
   "source": [
    "plt.plot(pw, pf*scale)\n",
    "plt.plot(wo, fo)\n",
    "plt.xlim(wo[0], wo[-1])\n",
    "#plt.ylim(-0.1e-15, 0.3e-14)\n",
    "plt.yscale('log')\n",
    "plt.ylim(1e-30, 1e-13)"
   ]
  },
  {
   "cell_type": "markdown",
   "metadata": {},
   "source": [
    "Reasonable, I think this is the better way forward given the scaling is almost included by the choice of model. What about the ir data?"
   ]
  },
  {
   "cell_type": "code",
   "execution_count": null,
   "metadata": {},
   "outputs": [],
   "source": [
    "irpath = '/home/david/work/muscles/SEDs/trappist-1/ir_data/'\n",
    "#sps = os.listdir(irpath) \n",
    "sps = glob.glob(irpath+'*.fits')\n",
    "sps"
   ]
  },
  {
   "cell_type": "code",
   "execution_count": null,
   "metadata": {},
   "outputs": [],
   "source": [
    "for i, sp in enumerate(sps):\n",
    "  #  hdul = fits.open(sp, ignore_missing_end=True)\n",
    "    \n",
    "    #data = hdul[0].data\n",
    "    data = fits.getdata(sp,0)\n",
    "   # hdul.close()\n",
    "    w, f, e = data[0], data[1], data[2]\n",
    "    if i == 0:\n",
    "        e = e/f\n",
    "        f = (f *1e-3*u.Jy).to(u.erg / u.cm**2 / u.s / u.AA, equivalencies=u.spectral_density(w * u.AA)).value\n",
    "        #e = e*f\n",
    "        f /=10\n",
    "        e = e*f\n",
    "        #clip = 100\n",
    "        mask = (w > 4000)\n",
    "        #w, f, e = w[clip:], f[clip:], e[clip:]\n",
    "        w, f, e = w[mask], f[mask], e[mask]\n",
    "    if i > 0:\n",
    "        w *= 10000\n",
    "    if i == 1:\n",
    "        w, f, e, = w[:-10], f[:-10], e[:-10] #bad edge pixels\n",
    "    if i ==2:\n",
    "        f /=10 #erg/nm to erg/A I assume?\n",
    "    plt.plot(w,f)\n",
    "    name = os.path.split(sp)[1][:-5]\n",
    "    #print(name)\n",
    "    savedat = Table([w*u.AA, f*u.erg/u.cm**2/u.s/u.AA, e*u.erg/u.cm**2/u.s/u.A], names=['WAVELENGTH', 'FLUX', 'ERROR'])\n",
    "    ascii.write(savedat, irpath+name+'.ecsv', overwrite=True, format='ecsv')\n",
    "    #plt.plot(w,e)\n",
    "    #plt.plot(w, f/e)\n",
    "    #plt.xlim(3000, 4000)\n",
    "    plt.plot(pw, pf*scale, zorder=-1)\n",
    "    plt.show()\n",
    "    #hdul[0].header\n",
    "   "
   ]
  },
  {
   "cell_type": "code",
   "execution_count": null,
   "metadata": {},
   "outputs": [],
   "source": [
    "fits.getheader(sps[2])"
   ]
  },
  {
   "cell_type": "code",
   "execution_count": null,
   "metadata": {},
   "outputs": [],
   "source": [
    "from astropy.convolution import convolve_fft\n",
    "from astropy.convolution import Gaussian1DKernel\n",
    "\n",
    "def smear(w,f, R, w_sample=1):\n",
    "    '''\n",
    "    Smears a model spectrum with a gaussian kernel to the given resolution, R.\n",
    "    Adapeted from https://github.com/spacetelescope/pysynphot/issues/78\n",
    "\n",
    "    Parameters\n",
    "    -----------\n",
    "\n",
    "    w,f:  spectrum to smear\n",
    "\n",
    "    R: int\n",
    "        The resolution (dL/L) to smear to\n",
    "\n",
    "    w_sample: int\n",
    "        Oversampling factor for smoothing\n",
    "\n",
    "    Returns\n",
    "    -----------\n",
    "\n",
    "    sp: PySynphot Source Spectrum\n",
    "        The smeared spectrum\n",
    "    '''\n",
    "\n",
    "    # Save original wavelength grid and units\n",
    "    w_grid = w\n",
    "    \n",
    "\n",
    "    # Generate logarithmic wavelength grid for smoothing\n",
    "    w_logmin = np.log10(np.nanmin(w_grid))\n",
    "    w_logmax = np.log10(np.nanmax(w_grid))\n",
    "    n_w = np.size(w_grid)*w_sample\n",
    "    w_log = np.logspace(w_logmin, w_logmax, num=n_w)\n",
    "\n",
    "    # Find stddev of Gaussian kernel for smoothing\n",
    "    R_grid = (w_log[1:-1]+w_log[0:-2])/(w_log[1:-1]-w_log[0:-2])/2\n",
    "    sigma = np.median(R_grid)/R\n",
    "    if sigma < 1:\n",
    "        sigma = 1\n",
    "\n",
    "    # Interpolate on logarithmic grid\n",
    "    f_log = np.interp(w_log, w_grid, f)\n",
    "\n",
    "    # Smooth convolving with Gaussian kernel\n",
    "    gauss = Gaussian1DKernel(stddev=sigma)\n",
    "    f_conv = convolve_fft(f_log, gauss)\n",
    "\n",
    "    # Interpolate back on original wavelength grid\n",
    "    f_sm = np.interp(w_grid, w_log, f_conv)\n",
    "\n",
    "    # Write smoothed spectrum back into Spectrum object\n",
    "    return w_grid, f_sm"
   ]
  },
  {
   "cell_type": "code",
   "execution_count": null,
   "metadata": {},
   "outputs": [],
   "source": [
    "mage_res = 4100\n",
    "sxd_res = 2000\n",
    "prism_res = 200\n",
    "reses = [mage_res, sxd_res, prism_res]"
   ]
  },
  {
   "cell_type": "code",
   "execution_count": null,
   "metadata": {},
   "outputs": [],
   "source": [
    "for i, sp in enumerate(sps):\n",
    "  #  hdul = fits.open(sp, ignore_missing_end=True)\n",
    "    \n",
    "    #data = hdul[0].data\n",
    "    data = fits.getdata(sp,0)\n",
    "   # hdul.close()\n",
    "    w, f, e = data[0], data[1], data[2]\n",
    "    if i == 0:\n",
    "        e = e/f\n",
    "        f = (f *1e-3*u.Jy).to(u.erg / u.cm**2 / u.s / u.AA, equivalencies=u.spectral_density(w * u.AA)).value\n",
    "        e = e*f\n",
    "        f /=10\n",
    "        #clip = 100\n",
    "        mask = (w > 4000)\n",
    "        #w, f, e = w[clip:], f[clip:], e[clip:]\n",
    "        w, f, e = w[mask], f[mask], e[mask]\n",
    "    if i > 0:\n",
    "        w *= 10000\n",
    "    if i == 1:\n",
    "        w, f, e, = w[:-10], f[:-10], e[:-10] #bad edge pixels\n",
    "    if i ==2:\n",
    "        f /=10 #erg/nm to erg/A I assume?\n",
    "    plt.plot(w,f)\n",
    "    #plt.plot(w,e)\n",
    "    #plt.plot(w, f/e)\n",
    "    #plt.xlim(3000, 4000)\n",
    "    pmask = (pw >= w[0]) & (pw <= w[-1])\n",
    "    pwr, pfr = pw[pmask],(pf*scale)[pmask]\n",
    "    pwr, pfr = smear(pwr, pfr, reses[i])\n",
    "    plt.plot(pwr, pfr)\n",
    "    plt.plot(pwr, pfr*(old_scale/scale))\n",
    "    plt.show()\n",
    "    pfi = interp1d(pwr, pfr, fill_value='extrapolate')(w)\n",
    "    plt.plot(w, pfi/f)\n",
    "    plt.axhline(1, ls='--',c='k')\n",
    "    plt.ylim(0,10)\n",
    "    plt.show()\n",
    "    #hdul[0].heade"
   ]
  },
  {
   "cell_type": "markdown",
   "metadata": {},
   "source": [
    "A bit high in all three cases? A factor 2 missing somewhere? How do the three spectra compare themselves? Trying with different distance  \n",
    "\n",
    "Changed to G+ values, much better agreement. Scale radius to Gaia?"
   ]
  },
  {
   "cell_type": "code",
   "execution_count": null,
   "metadata": {},
   "outputs": [],
   "source": [
    "for i, sp in enumerate(sps):\n",
    "    data = fits.getdata(sp,0)\n",
    "    w, f, e = data[0], data[1], data[2]\n",
    "    if i == 0:\n",
    "        e = e/f\n",
    "        f = (f *1e-3*u.Jy).to(u.erg / u.cm**2 / u.s / u.AA, equivalencies=u.spectral_density(w * u.AA)).value\n",
    "        e = e*f\n",
    "        f /=10\n",
    "        #clip = 100\n",
    "        mask = (w > 4000)\n",
    "        #w, f, e = w[clip:], f[clip:], e[clip:]\n",
    "        w, f, e = w[mask], f[mask], e[mask]\n",
    "    if i > 0:\n",
    "        w *= 10000\n",
    "    if i == 1:\n",
    "        w, f, e, = w[:-10], f[:-10], e[:-10] #bad edge pixels\n",
    "    if i ==2:\n",
    "        f /=10 #erg/nm to erg/A I assume?\n",
    "    plt.plot(w,f)\n",
    "plt.plot(wo, fo)\n",
    "\n"
   ]
  },
  {
   "cell_type": "code",
   "execution_count": null,
   "metadata": {},
   "outputs": [],
   "source": [
    "shift = 1\n",
    "#plt.plot(w2fit, f2fit)\n",
    "plt.figure(figsize=(18,6))\n",
    "plt.subplot(121)\n",
    "pmask = (pw >= wo[0]) & (pw <= wo[-1])\n",
    "pwr, pfr = pw[pmask],(pf*scale)[pmask]\n",
    "pwr, pfr = smear(pwr, pfr,250)\n",
    "plt.step(pwr, pfr/shift, label='PHOENIX', where='mid')\n",
    "fob = convolve(fo,Box1DKernel(2))\n",
    "plt.step(wo, fob, where='mid', label='STIS G430L')\n",
    "plt.legend(loc=2)\n",
    "plt.xlabel('Wavelength (\\AA)')\n",
    "plt.ylabel('Flux (erg s$^{-1}$cm$^{-2}$\\AA$^{-1}$)')\n",
    "\n",
    "mscale = (((0.117*u.R_sun.to(u.cm))/(12.1*u.pc.to(u.cm)))**2)\n",
    "print(mscale)\n",
    "mwr, mfr = smear(mw[(mw >= wo[0]) & (mw <= wo[-1])], (mf*mscale)[(mw >= wo[0]) & (mw <= wo[-1])], 250)\n",
    "plt.plot(mwr, mfr, zorder=-1)\n",
    "\n",
    "\n",
    "\n",
    "plt.subplot(122)\n",
    "pfi = interp1d(pwr, pfr, fill_value='extrapolate')(wo)\n",
    "plt.step(wo, (pfi/shift)/fo, where='mid')\n",
    "plt.ylim(0,10)\n",
    "plt.axhline(1, ls='--',c='k')\n",
    "plt.tight_layout()"
   ]
  },
  {
   "cell_type": "markdown",
   "metadata": {},
   "source": [
    "Have a new cgs spectrum from MV"
   ]
  },
  {
   "cell_type": "code",
   "execution_count": null,
   "metadata": {},
   "outputs": [],
   "source": [
    "newspec = glob.glob(irpath+'*.txt')[0]\n",
    "newspec"
   ]
  },
  {
   "cell_type": "code",
   "execution_count": null,
   "metadata": {},
   "outputs": [],
   "source": [
    "wirn, firn = np.loadtxt(newspec, unpack=True)\n",
    "plt.plot(wirn[:-10], firn[:-10])"
   ]
  },
  {
   "cell_type": "code",
   "execution_count": null,
   "metadata": {},
   "outputs": [],
   "source": [
    "#fits.getheader('lte02500-5.00-0.0.PHOENIX-ACES-AGSS-COND-2011-HiRes.fits')"
   ]
  },
  {
   "cell_type": "code",
   "execution_count": null,
   "metadata": {},
   "outputs": [],
   "source": [
    "#plt.step(wo, fo, where='mid')\n",
    "#for smooth in (5,5):#, 10, 15, 20):\n",
    " #   plt.step(wo, convolve(fo,Box1DKernel(smooth)), where='mid', label=str(smooth))\n",
    "#plt.legend()"
   ]
  },
  {
   "cell_type": "code",
   "execution_count": null,
   "metadata": {},
   "outputs": [],
   "source": [
    "ca =[ 3933.6614, 3968.4673]\n",
    "plt.step(wo,  convolve(fo,Box1DKernel(2)), where='mid')\n",
    "[plt.axvline(line, c='r') for line in ca]"
   ]
  },
  {
   "cell_type": "markdown",
   "metadata": {},
   "source": [
    "Hey look Ca H&K lines! How does photometry compare?"
   ]
  },
  {
   "cell_type": "code",
   "execution_count": null,
   "metadata": {},
   "outputs": [],
   "source": [
    "phottab = 'trappist-1_vizer_photometry.vot'\n",
    "from astropy.io.votable import parse\n",
    "votable = parse(phottab)\n",
    "table = votable.get_first_table()\n",
    "data = table.array"
   ]
  },
  {
   "cell_type": "code",
   "execution_count": null,
   "metadata": {},
   "outputs": [],
   "source": [
    "mask = ~data['sed_eflux'].mask\n",
    "masked_data = data[mask].data\n",
    "\n",
    "wt, ft, et = masked_data['sed_freq']*u.GHz, masked_data['sed_flux']*u.Jy, masked_data['sed_eflux']*u.Jy\n",
    "#plt.errorbar(wt, ft, yerr=et, marker='o')\n",
    "et = et.value/ft.value\n",
    "wt = wt.to(u.AA, equivalencies=u.spectral())\n",
    "ft = ft.to(u.erg / u.cm**2 / u.s / u.AA, equivalencies=u.spectral_density(wt))\n",
    "et = et*ft\n",
    "\n",
    "#print(wt, ft, et)\n",
    "args = np.argsort(wt)\n",
    "wt, ft, et = wt[args], ft[args], et[args]\n",
    "plt.errorbar(wt.value, ft.value, yerr=et.value, marker='o')\n",
    "pwr, pft = smear(pw, pf*scale,2000)\n",
    "plt.plot(pwr, pft)"
   ]
  },
  {
   "cell_type": "markdown",
   "metadata": {},
   "source": [
    "Ok, looks like the model is a factor two out. How do we fix that? It's the model not the scaling, SP's model fits.  \n",
    "\n",
    "Checking this- compare with all three sets of parameters..."
   ]
  },
  {
   "cell_type": "code",
   "execution_count": null,
   "metadata": {},
   "outputs": [],
   "source": [
    "\n",
    "def find_logg(mass, radius):\n",
    "    g = (const.G.to(u.cm**3/(u.g*u.s**2))*mass.to(u.g))/(radius.to(u.cm)**2)\n",
    "    return np.log10(g.value)\n",
    "\n",
    "FeH = 0.04\n",
    "\n",
    "radii = []\n",
    "#b+m17\n",
    "teff = 2650*u.K\n",
    "bm_distance = 12.49*u.pc #~consistent with gaia\n",
    "mass = 0.080*u.M_sun\n",
    "radius = 0.121*u.R_sun\n",
    "radii.append(radius)\n",
    "logg = find_logg(mass, radius)\n",
    "print(logg)\n",
    "bm17_params = {'Teff':teff.value, 'logg': logg, 'FeH': FeH, 'aM': 0}\n",
    "\n",
    "\n",
    "#g+17\n",
    "teff = 2559*u.K\n",
    "g17_distance = 12.1*u.pc\n",
    "mass = 0.080*u.M_sun\n",
    "radius = 0.117*u.R_sun\n",
    "radii.append(radius)\n",
    "logg = find_logg(mass, radius)\n",
    "print(logg)\n",
    "g17_params = {'Teff':teff.value, 'logg': logg, 'FeH': FeH, 'aM': 0}\n",
    "\n",
    "\n",
    "#gonzales+19 w. gaia! https://arxiv.org/pdf/1909.13859.pdf\n",
    "teff = 2628*u.K\n",
    "g19_distance = 12.43*u.pc\n",
    "mass = 90*u.M_jup\n",
    "radius = 1.16*u.R_jup\n",
    "radii.append(radius)\n",
    "logg = 5.21\n",
    "g19_params = {'Teff':teff.value, 'logg': logg, 'FeH': FeH, 'aM': 0}\n",
    "\n",
    "params = [bm17_params, g17_params, g19_params]\n",
    "distances = [bm_distance, g17_distance, g19_distance]\n",
    "names = ['bm17', 'g17','g19']"
   ]
  },
  {
   "cell_type": "code",
   "execution_count": null,
   "metadata": {},
   "outputs": [],
   "source": [
    "def save_to_ecsv(star,wavelength, flux, save_path):\n",
    "    \"\"\"\n",
    "    save the new model to an ecsv file\n",
    "    \"\"\"\n",
    "    if os.path.exists(save_path) == False:\n",
    "        os.mkdir(save_path)\n",
    "    savedat = Table([wavelength*u.AA, flux*u.erg/u.cm**2/u.s/u.AA], names=['WAVELENGTH', 'FLUX'])\n",
    "    ascii.write(savedat, save_path+star+'_phoenix_interpolated.ecsv', overwrite=True, format='ecsv')\n",
    "\n",
    "wavefile= 'phoenix_fits/WAVE_PHOENIX-ACES-AGSS-COND-2011.fits'\n",
    "savepath = ''\n",
    "\n",
    "scales =[]\n",
    "for star_params, distance, name, radius in zip(params, distances, names, radii):\n",
    "    #pw, pf =prepare_phoenix.make_phoenix_spectrum('trappist-1',wavefile, '.', 'phoenix_fits/', star_params, save_ecsv=True, plot=False)\n",
    "    scale = ((radius.to(u.cm)/distance.to(u.cm))**2)*1e-8 #correcting to A\n",
    "    scales.append(scale)\n",
    "    #save_to_ecsv(name+'_trappist-1_scaled', pw, pf*scale, 'phoenix_spectra/')\n",
    "\n"
   ]
  },
  {
   "cell_type": "code",
   "execution_count": null,
   "metadata": {},
   "outputs": [],
   "source": [
    "scaled_sp = glob.glob('phoenix_spectra/'+'*.ecsv')\n",
    "#print(scaled_sp)\n",
    "pm = Table.read(scaled_sp[0])\n",
    "pw = pm['WAVELENGTH']\n",
    "pf1 = pm['FLUX']\n",
    "pm = Table.read(scaled_sp[1])\n",
    "pf2 = pm['FLUX']\n",
    "pm = Table.read(scaled_sp[2])\n",
    "pf3 = pm['FLUX']\n",
    "\n",
    "pfs = [pf1, pf2, pf3]\n",
    "#print(pfs)\n",
    "\n",
    "#for i, sp in enumerate(scaled_sp):\n",
    " #   pm = Table.read(sp)\n",
    "   # if i == 0:\n",
    "    #    pw = pm['WAVELENGTH']#np.stack(pws, pm['WAVELENGTH'])\n",
    "     #   pfs = np.array(pm['FLUX'])\n",
    "    #else:\n",
    "     #   pfs = np.stack(pfs,pm['FLUX'])print(pfs)\n",
    "#for pf in pfs:\n",
    " #   plt.plot(pw, pf)"
   ]
  },
  {
   "cell_type": "code",
   "execution_count": null,
   "metadata": {},
   "outputs": [],
   "source": [
    "#spex = Table.read(irpath+'spex_sxd-merge_2306-0502_151118.ecsv')\n",
    "spex = Table.read(irpath+'spex_prism_2306-0502_030905.ecsv')\n",
    "\"\"\"\n",
    "#labels = ['BM17', r'G+17', r'G+19'] \n",
    "labels = ['Burgasser \\& Mamajek 2017', 'Gillon et al. 2017', 'Gonzales et al. 2017']\n",
    "plt.figure(figsize=(20, 8))\n",
    "plt.subplot(121)\n",
    "fob = convolve(fo,Box1DKernel(2))\n",
    "plt.step(wo, fob, where='mid', label='STIS G430L', lw=2)\n",
    "for i, pf in enumerate(pfs):\n",
    "    \n",
    "    pmask = (pw >= wo[0]) & (pw <= wo[-1])\n",
    "    pwr, pfr = pw[pmask],(pf)[pmask]\n",
    "    pwr, pfr = smear(pwr, pfr,250)\n",
    "    plt.plot(pwr, pfr, label=labels[i], ls='--')\n",
    "\n",
    "\n",
    "plt.legend(loc=2)\n",
    "   \"\"\" \n",
    "plt.subplot(122)\n",
    "wir, fir, eir= spex['WAVELENGTH'], spex['FLUX'], spex['ERROR'] \n",
    "#firb = convolve(fir,Box1DKernel(2))\n",
    "#plt.plot(wir, fir, label='SPEX-Prism', lw=2)\n",
    "plt.errorbar(wir, fir, yerr=eir, label='SPEX-Prism', lw=2)\n",
    "#for i, pf in enumerate(pfs):\n",
    " #   pmask = (pw >= spex['WAVELENGTH'][0]) & (pw <= spex['WAVELENGTH'][-1])\n",
    "  #  pwr, pfr = pw[pmask],(pf)[pmask]\n",
    "  #  pwr, pfr = smear(pwr, pfr,prism_res)\n",
    "  #  plt.plot(pwr, pfr, label=labels[i], ls='--')\n",
    "    \n",
    "#plt.errorbar(wt.value, ft.value, yerr=et.value, marker='o')    \n",
    "#plt.legend(loc=1)"
   ]
  },
  {
   "cell_type": "code",
   "execution_count": null,
   "metadata": {},
   "outputs": [],
   "source": [
    "plt.plot(mwr, mfr)\n",
    "pwr, pf1r = smear(pw, pf2, 250)\n",
    "plt.plot(pwr, pf1r, zorder=-1)\n",
    "plt.xlim(3000, 6000)\n",
    "plt.ylim(0, 0.3e-15)"
   ]
  },
  {
   "cell_type": "markdown",
   "metadata": {},
   "source": [
    "Check if the Phoenix files are interpolating correctly."
   ]
  },
  {
   "cell_type": "code",
   "execution_count": null,
   "metadata": {},
   "outputs": [],
   "source": [
    "pmask = (pw >= wo[0]) & (pw <= wo[-1])\n",
    "pfits = fits.getdata('phoenix_fits/lte02600-5.00-0.0.PHOENIX-ACES-AGSS-COND-2011-HiRes.fits')\n",
    "\n",
    "pwr, pfr = smear(pw[pmask], pfits[pmask]*scales[0], 250) \n",
    "plt.plot(pwr, pfr)\n",
    "pfits = fits.getdata('phoenix_fits/lte02700-5.00-0.0.PHOENIX-ACES-AGSS-COND-2011-HiRes.fits')\n",
    "\n",
    "pwr, pfr = smear(pw[pmask], pfits[pmask]*scales[0], 250) \n",
    "plt.plot(pwr, pfr)\n",
    "\n",
    "pwr, pfr = smear(pw[pmask], pf1[pmask], 250) \n",
    "\n",
    "plt.plot(pwr, pfr)"
   ]
  },
  {
   "cell_type": "code",
   "execution_count": null,
   "metadata": {},
   "outputs": [],
   "source": [
    "print (scales)\n",
    "print(mscale)"
   ]
  },
  {
   "cell_type": "markdown",
   "metadata": {},
   "source": [
    "The fault is in our models. The Gottigen ones are out of date. Where do P+19 get theirs? Calculated by hand. Ok, let's take the G+19 ones and rescale them."
   ]
  },
  {
   "cell_type": "code",
   "execution_count": null,
   "metadata": {},
   "outputs": [],
   "source": [
    "from craftroom import resample"
   ]
  },
  {
   "cell_type": "code",
   "execution_count": null,
   "metadata": {},
   "outputs": [],
   "source": [
    "#fob = convolve(fo,Box1DKernel(2))\n",
    "plt.step(wo, fo, where='mid', label='STIS G430L', lw=2)\n",
    "\n",
    "pmask = (pw >= wo[0]) & (pw <= wo[-1])\n",
    "pwi, pfi = pw[pmask], pf3[pmask]\n",
    "pwi, pfi = resample.bintogrid(pwi, pfi, newx = wo)\n",
    "\n",
    "#pwr, pfr = pw[pmask],(pf2)[pmask]\n",
    "pwr, pfr = smear(pwi, pfi,250)\n",
    "plt.plot(pwr, pfr, label=labels[i], ls='--')\n",
    "plt.yscale('log')\n",
    "plt.show()\n",
    "#pwi, pfi = resample.bintogrid(pwr, pfr, newx = wo)\n",
    "plt.plot(wo, fo/pfr)\n",
    "plt.plot(wo, fo/pfi)\n",
    "plt.yscale('log')"
   ]
  },
  {
   "cell_type": "code",
   "execution_count": null,
   "metadata": {},
   "outputs": [],
   "source": [
    "ratios =[]\n",
    "bandwidth = 200\n",
    "bands = np.arange(wo[0], wo[-1], bandwidth)\n",
    "for band in bands[:-1]:\n",
    "    bmask = (wo > band) & (wo < band+bandwidth)\n",
    "    p_flux = np.trapz(pfi[bmask], wo[bmask])\n",
    "    o_flux = np.trapz(fo[bmask], wo[bmask])\n",
    "    ratios.append(o_flux/p_flux)\n",
    "    plt.errorbar(band+bandwidth/2, o_flux/p_flux, xerr=bandwidth/2, capsize=5)\n",
    "plt.show()\n",
    "#print(ratios)\n",
    "\n",
    "cut = 4000\n",
    "c_mask = (bands[:-1] > cut)\n",
    "mean_ratio = np.mean(np.array(ratios)[c_mask])\n",
    "print(mean_ratio)\n",
    "print(scales[2]*mean_ratio)\n",
    "print(old_scale)\n",
    "\n",
    "plt.step(wo, fo, where='mid', label='STIS G430L')\n",
    "\n",
    "pwr, pfr = smear(pwi, pfi,250)\n",
    "plt.plot(pwr, pfr*mean_ratio, label=labels[i], ls='--')\n",
    "#plt.yscale('log')\n",
    "plt.show()"
   ]
  },
  {
   "cell_type": "markdown",
   "metadata": {},
   "source": [
    "What about the IR?"
   ]
  },
  {
   "cell_type": "code",
   "execution_count": null,
   "metadata": {},
   "outputs": [],
   "source": [
    "#fob = convolve(fo,Box1DKernel(2))\n",
    "plt.plot(wir, fir, label='SPEX-Prism', lw=2)\n",
    "\n",
    "#plt.step(wo, fo, where='mid', label='STIS G430L', lw=2)\n",
    "\n",
    "pmask = (pw >= wir[0]) & (pw <= wir[-1])\n",
    "pwi, pfi = pw[pmask], pf3[pmask]\n",
    "pwi, pfi = resample.bintogrid(pwi, pfi, newx = wir)\n",
    "\n",
    "#pwr, pfr = pw[pmask],(pf2)[pmask]\n",
    "pwr, pfr = smear(pwi, pfi,prism_res)\n",
    "plt.plot(pwr, pfr, label=labels[i], ls='--')\n",
    "plt.yscale('log')\n",
    "plt.show()\n",
    "#pwi, pfi = resample.bintogrid(pwr, pfr, newx = wo)\n",
    "plt.plot(wir, fir/pfr)\n",
    "plt.plot(wir, fir/pfi)\n",
    "plt.yscale('log')"
   ]
  },
  {
   "cell_type": "code",
   "execution_count": null,
   "metadata": {},
   "outputs": [],
   "source": [
    "ratios =[]\n",
    "bandwidth = 500\n",
    "bands = np.arange(wir[0], wir[-1], bandwidth)\n",
    "for band in bands[:-1]:\n",
    "    bmask = (wir > band) & (wir < band+bandwidth)\n",
    "    p_flux = np.trapz(pfi[bmask], wir[bmask])\n",
    "    o_flux = np.trapz(fir[bmask], wir[bmask])\n",
    "    ratios.append(o_flux/p_flux)\n",
    "    plt.errorbar(band+bandwidth/2, o_flux/p_flux, xerr=bandwidth/2, capsize=5)\n",
    "plt.show()\n",
    "#print(ratios)\n",
    "\n",
    "cut = 12000\n",
    "c_mask = (bands[:-1] > cut)\n",
    "mean_ratio = np.mean(np.array(ratios)[c_mask])\n",
    "print(mean_ratio)\n",
    "\n",
    "\n",
    "plt.step(wir, fir, where='mid', label='SPEX-Prism')\n",
    "plt.axvline(cut)\n",
    "pwr, pfr = smear(pwi, pfi,prism_res)\n",
    "plt.plot(pwr, pfr*mean_ratio, label=labels[i], ls='--')\n",
    "#plt.yscale('log')\n",
    "plt.show()"
   ]
  },
  {
   "cell_type": "markdown",
   "metadata": {},
   "source": [
    "Got the spectra from Gonzales +2019."
   ]
  },
  {
   "cell_type": "code",
   "execution_count": null,
   "metadata": {},
   "outputs": [],
   "source": [
    "g19data = glob.glob(irpath+'PS_Gaia*')\n",
    "g19data"
   ]
  },
  {
   "cell_type": "code",
   "execution_count": null,
   "metadata": {},
   "outputs": [],
   "source": [
    "gw, gf, ge = np.loadtxt(g19data[0], unpack=True)\n",
    "gw *=10000\n",
    "gphot = np.genfromtxt(g19data[1], dtype=None, delimiter=',', names=True, encoding=None)\n",
    "gpn, gpw, gpf, gpe = gphot['Band'], gphot['Wavelength'], gphot['Flux'], gphot['Error'] \n",
    "gpw*=10000\n",
    "plt.plot(gw, gf)\n",
    "plt.errorbar(gpw, gpf, yerr=gpe, marker='o', ls='none')\n",
    "plt.plot(pwr, pfr, label=labels[i], ls='--')\n",
    "plt.step(wir, fir, where='mid', label='SPEX-Prism')\n",
    "\n",
    "plt.xlim(gw[0], gw[-1])\n",
    "print(gw[0])"
   ]
  },
  {
   "cell_type": "code",
   "execution_count": null,
   "metadata": {},
   "outputs": [],
   "source": [
    "plt.step(wo, fo, where='mid', label='STIS G430L', lw=2)\n",
    "\n",
    "pmask = (pw >= wo[0]) & (pw <= wo[-1])\n",
    "pwi, pfi = pw[pmask], pf3[pmask]\n",
    "pwi, pfi = resample.bintogrid(pwi, pfi, newx = wo)\n",
    "\n",
    "#pwr, pfr = pw[pmask],(pf2)[pmask]\n",
    "pwr, pfr = smear(pwi, pfi,250)\n",
    "plt.plot(pwr, pfr, label=labels[i], ls='--')\n",
    "plt.errorbar(gpw, gpf, yerr=gpe, marker='o', ls='none')\n",
    "plt.xlim(wo[0]-10, wo[-1]+10)\n",
    "plt.ylim(-0.9e-16, 5.9e-16)\n",
    "#[plt.annotate(name.replace('_',''), (gpwi, 4e-16)) for name, gpwi in zip(gpn, gpw)]\n",
    "#plt.yscale('log')\n",
    "plt.show()"
   ]
  },
  {
   "cell_type": "markdown",
   "metadata": {},
   "source": [
    "What if the spectrum is wrong? Bandpasses for PsG, Gaia BP?"
   ]
  },
  {
   "cell_type": "code",
   "execution_count": null,
   "metadata": {},
   "outputs": [],
   "source": [
    "psbp = Table.read('/home/david/work/muscles/panstarrs_bandpasses.txt', format='ascii')\n",
    "for band in ['gp1','rp1','ip1','zpi','yp1','wp1']:\n",
    "    plt.plot(psbp['Wavelength'],psbp[band])"
   ]
  },
  {
   "cell_type": "code",
   "execution_count": null,
   "metadata": {},
   "outputs": [],
   "source": [
    "g_bp = Table.read('/home/david/work/filters/gaia/Bp.dat', format='ascii')\n",
    "bpw, bpf = g_bp['col1'], g_bp['col2'] \n",
    "psw, psg = psbp['Wavelength']*10,psbp['gp1']\n",
    "plt.plot(bpw, bpf)\n",
    "plt.plot(psw, psg)\n"
   ]
  },
  {
   "cell_type": "code",
   "execution_count": null,
   "metadata": {},
   "outputs": [],
   "source": [
    "def make_phot(bp_w, bp_cc, w, f):\n",
    "    bb_cci = interp1d(bp_w, bp_cc, fill_value='extrapolate')(w)\n",
    "    return np.trapz(f*bb_cci, w)/np.trapz(bb_cci, w)\n",
    "\n",
    "def air_to_vac(wavelength):\n",
    "    \"\"\"\n",
    "    Implements the air to vacuum wavelength conversion described in eqn 65 of\n",
    "    Griesen 2006\n",
    "    \"\"\"\n",
    "    wlum = wavelength.to(u.um).value\n",
    "    return (1+1e-6*(287.6155+1.62887/wlum**2+0.01360/wlum**4)) * wavelength\n",
    "\n",
    "\n",
    "go = make_phot(psw, psg, wo, fo)\n",
    "bpo = make_phot(bpw, bpf, wo, fo)\n",
    "phot_w = [4775.62,5500]\n",
    "synphot = [go, bpo]\n",
    "\n",
    "plt.step(wo, fo, where='mid', label='STIS G430L', lw=2)\n",
    "\n",
    "pmask = (pw >= wo[0]) & (pw <= wo[-1])\n",
    "pwi, pfi = pw[pmask], pf3[pmask]\n",
    "pwi, pfi = resample.bintogrid(pwi, pfi, newx = wo)\n",
    "\n",
    "phot_w_v = air_to_vac(phot_w*u.AA).value\n",
    "gpw_v = air_to_vac(gpw*u.AA).value\n",
    "\n",
    "#pwr, pfr = pw[pmask],(pf2)[pmask]\n",
    "pwr, pfr = smear(pwi, pfi,250)\n",
    "plt.plot(pwr, pfr, label=labels[i], ls='--')\n",
    "plt.errorbar(gpw_v, gpf, yerr=gpe, marker='o', ls='none')\n",
    "plt.errorbar(phot_w_v, synphot, marker='o', ls='none')\n",
    "plt.errorbar(phot_w, synphot, marker='o', ls='none')\n",
    "plt.xlim(wo[0]-10, wo[-1]+10)\n",
    "plt.ylim(-0.9e-16, 5.9e-16)\n",
    "#[plt.annotate(name.replace('_',''), (gpwi, 4e-16)) for name, gpwi in zip(gpn, gpw)]\n",
    "#plt.yscale('log')\n",
    "plt.show()"
   ]
  },
  {
   "cell_type": "code",
   "execution_count": null,
   "metadata": {},
   "outputs": [],
   "source": [
    "synphot/np.array([gpf[5], gpf[3]])\n",
    "photscale = np.mean(synphot/np.array([gpf[5], gpf[3]]))\n",
    "print(photscale)"
   ]
  },
  {
   "cell_type": "code",
   "execution_count": null,
   "metadata": {},
   "outputs": [],
   "source": []
  },
  {
   "cell_type": "code",
   "execution_count": null,
   "metadata": {},
   "outputs": [],
   "source": []
  },
  {
   "cell_type": "code",
   "execution_count": null,
   "metadata": {},
   "outputs": [],
   "source": [
    "plt.step(wo, fo/photscale, where='mid', label='STIS G430L', lw=2)\n",
    "plt.plot(pwr, pfr, label=labels[i], ls='--')\n",
    "plt.xlim(4400, 5600)"
   ]
  },
  {
   "cell_type": "markdown",
   "metadata": {},
   "source": [
    "Arrrrggrghhhhhshshfhijsklamakmfklwk!!!!!!  \n",
    "\n",
    "How do you re-extract the ccd?"
   ]
  },
  {
   "cell_type": "code",
   "execution_count": null,
   "metadata": {},
   "outputs": [],
   "source": [
    "rcpath = '/home/david/work/muscles/SEDs/trappist-1/STIS/opt_recal/'"
   ]
  },
  {
   "cell_type": "code",
   "execution_count": null,
   "metadata": {},
   "outputs": [],
   "source": [
    "hdul = fits.open(rcpath+stis_opt)"
   ]
  },
  {
   "cell_type": "code",
   "execution_count": null,
   "metadata": {},
   "outputs": [],
   "source": [
    "hdul[1].data['A2Center']"
   ]
  },
  {
   "cell_type": "code",
   "execution_count": null,
   "metadata": {},
   "outputs": [],
   "source": [
    "import stistools\n",
    "os.environ['oref'] = rcpath\n",
    "#oref=\"${CRDS_PATH}/references/hst/oref/\"\n",
    "outpath = rcpath+'newcals/'"
   ]
  },
  {
   "cell_type": "code",
   "execution_count": null,
   "metadata": {},
   "outputs": [],
   "source": [
    "for fl in glob.glob(outpath+'*.fits'):\n",
    "    os.remove(fl)\n",
    "oflt = glob.glob(rcpath+'*flt*')[0]\n",
    "print(oflt)\n",
    "#stistools.x1d.x1d(oflt, output=outpath+\"test_sx1.fits\", verbose=True, trailer=outpath+\"test.trl\", bk1offst=15, bk2offst=15)\n",
    "stistools.calstis.calstis(oflt, outroot=outpath+\"test\", verbose=True, trailer=outpath+\"test.trl\")\n",
    "dt = fits.getdata(outpath+'test_sx1.fits',1)[0]\n",
    "wn, fn = dt['WAVELENGTH'][dt['DQ']==0], dt['FLUX'][dt['DQ']==0]\n",
    "mask = (wn <3355) | (wn > 3365)\n",
    "plt.plot(wn[mask], fn[mask])\n",
    "plt.plot(wo, fo)\n",
    "photmask = (gpw > wn[0]) & (gpw < wn[-1])\n",
    "plt.errorbar(gpw[photmask], gpf[photmask], marker='o', ls='none')\n",
    "plt.ylim(0, 5e-16)"
   ]
  },
  {
   "cell_type": "code",
   "execution_count": null,
   "metadata": {},
   "outputs": [],
   "source": [
    "from pylab import cm  \n",
    "from matplotlib.colors import LogNorm"
   ]
  },
  {
   "cell_type": "code",
   "execution_count": null,
   "metadata": {},
   "outputs": [],
   "source": [
    "h2d = fits.open(outpath+'test_sx2.fits')\n",
    "dt = h2d[1].data\n",
    "hdr1 = h2d[1].header\n",
    "ompic = hdr1['OMEGAPIX']\n",
    "dt = fits.getdata(outpath+'test_sx2.fits',1)\n",
    "plt.imshow(dt,cmap=cm.gray_r, norm = LogNorm())"
   ]
  },
  {
   "cell_type": "code",
   "execution_count": null,
   "metadata": {},
   "outputs": [],
   "source": [
    "x = np.arange(len(dt[0]))\n",
    "fx = []\n",
    "bk  = []\n",
    "col_mask = (x >= 980) & (x < 990)\n",
    "bk_mask = (x >= 970) & (x < 975) | (x >= 995) & (x < 1000)\n",
    "for xi in x:\n",
    "    col = dt[:,xi]\n",
    "    fxi = np.trapz(col[col_mask], x[col_mask])/10#*ompic\n",
    "    bki = np.trapz(col[bk_mask], x[col_mask])/10#*ompic\n",
    "    fx.append(fxi-bki)\n",
    "    bk.append(bki)\n",
    "plt.plot(x, np.array(fx))\n",
    "#plt.plot(wn[mask]-wn[0], fn[mask])\n",
    "plt.axhline(1.36671706682e-16, ls='--', c='k')\n",
    "plt.ylim(0, 1e-15)\n",
    "plt.show()\n",
    "#plt.plot(x, bk)"
   ]
  },
  {
   "cell_type": "code",
   "execution_count": null,
   "metadata": {},
   "outputs": [],
   "source": [
    "#h2d[1].header"
   ]
  },
  {
   "cell_type": "markdown",
   "metadata": {},
   "source": [
    "Trying new phoenix models from http://perso.ens-lyon.fr/france.allard/"
   ]
  },
  {
   "cell_type": "code",
   "execution_count": null,
   "metadata": {},
   "outputs": [],
   "source": [
    "npSpectra = glob.glob('lyon_phoenix/*spec.7')\n",
    "npSpectra"
   ]
  },
  {
   "cell_type": "code",
   "execution_count": null,
   "metadata": {},
   "outputs": [],
   "source": [
    "#nps = Table.read(npSpectra[0], format='ascii',  fast_reader={'exponent_style': 'D'})\n",
    "#nps = np.loadtxt(npSpectra[0], dtype=float)\n",
    "wavemin=500, # in angstroms\n",
    "wavemax=1000000\n",
    "DF = -8.\n",
    "\n",
    "ts = [2700.0, 2700.0, 2600.0, 2600.0]\n",
    "gs = [5.0, 5.5, 5.5, 5.0]\n",
    "waves = []\n",
    "fluxes = []\n",
    "spectra = []\n",
    "for i, sp in enumerate(npSpectra):\n",
    "    #params = {'Teff':ts[i], 'logg':gs[i], 'FeH':0.0, 'aM':0.0}\n",
    "    phoenixR = ascii.read(sp,format=\"fixed_width_no_header\",col_starts=(0,14),col_ends=(12,25),delimiter=\" \",names=('Wave','Spec'))\n",
    "    #print(len(phoenixR['Wave']))\n",
    "    ph1, jj = np.unique(np.array(phoenixR['Wave']),return_index=True)\n",
    "    phoenix = np.zeros((len(ph1),2))\n",
    "    for kk in range(len(jj)):\n",
    "        phoenix[kk,1] = np.float64(phoenixR['Spec'][jj[kk]].replace(\"D\",\"E\"))\n",
    "    phoenix[:,0] = ph1\n",
    "    ind = np.where( (phoenix[:,0] <= wavemax) & (phoenix[:,0] >= wavemin))[0]  \n",
    "    xraw = phoenix[ind,0]\n",
    "    yraw = np.power(10.,phoenix[ind,1] + DF)#.tolist()\n",
    "    waves.append(xraw)\n",
    "    fluxes.append(yraw)\n",
    "   # params.update({'flux':yraw})\n",
    "   # spectra.append(params)\n",
    "   # print(len(params['flux']))\n",
    "    #plt.plot(xraw, params['flux'])\n",
    "\n",
    "nwave = np.min([len(w) for w in waves])\n",
    "for w in waves:\n",
    "    if len(w) == nwave:\n",
    "        wav = w\n",
    "\n",
    "for i, sp in enumerate(npSpectra):\n",
    "    flux = fluxes[i]\n",
    "    if len(waves[i]) > nwave:\n",
    "        print(np.trapz(flux, waves[i]))\n",
    "        flux = interp1d(waves[i], flux, fill_value='extrapolate')(wav)\n",
    "        print(np.trapz(flux, wav))\n",
    "            #wav = waves[i]\n",
    "    params = {'Teff':ts[i], 'logg':gs[i], 'FeH':0.0, 'aM':0.0, 'flux': flux}\n",
    "    spectra.append(params)\n",
    "    plt.plot(wav, params['flux'])\n",
    "            \n",
    "            \n",
    " "
   ]
  },
  {
   "cell_type": "code",
   "execution_count": null,
   "metadata": {},
   "outputs": [],
   "source": [
    "from scipy.interpolate import griddata, interp1d\n",
    "\n",
    "\n",
    "\n",
    "def interp_flux(spectra, params_to_interp, star_params):\n",
    "    \"\"\"\n",
    "    build the new spectrum\n",
    "    \"\"\"\n",
    "    out_vals = [star_params[p] for p in params_to_interp]\n",
    "    in_vals = [[s[p] for p in params_to_interp] for s in spectra]\n",
    "    fluxes = [(s['flux']) for s in spectra]\n",
    "    #fluxes = [np.random.random(100) for s in spectra]\n",
    "   # print(type(fluxes[0]))\n",
    "    if len(params_to_interp) == 1:\n",
    "        in_vals = [s[params_to_interp[0]] for s in spectra]\n",
    "        new_flux = interp1d(in_vals, fluxes, axis=0, fill_value='extrapolate')(star_params[params_to_interp[0]])\n",
    "    else:\n",
    "     #   out_vals = [star_params[p] for p in params_to_interp]\n",
    "        in_vals = [[s[p] for p in params_to_interp] for s in spectra]\n",
    "        print(in_vals)\n",
    "        print(out_vals)\n",
    "        print(type(in_vals))\n",
    "        print(type(out_vals))\n",
    "        print(fluxes)\n",
    "        new_flux = griddata(in_vals, fluxes, out_vals)[0]\n",
    "    return new_flux\n",
    "\n",
    "star_params = g19_params\n",
    "print(star_params)\n",
    "params_to_interp = ['Teff', 'logg']\n",
    "nflux = interp_flux(spectra, params_to_interp, star_params)\n",
    "nwave = wav\n",
    "plt.plot(nwave, nflux)\n"
   ]
  },
  {
   "cell_type": "code",
   "execution_count": null,
   "metadata": {},
   "outputs": [],
   "source": [
    "#plt.plot(wo, fo)\n",
    "#print(len(nwave))\n",
    "pw, pf = nwave, nflux*scales[2]/1e-8\n",
    "#print(len(pw), len(pf))\n",
    "#plt.plot(pw, pf)\n",
    "#pmask = (pw >= wo[0]) & (pw <= wo[-1])\n",
    "#pwi, pfi = pw[pmask], pf[pmask]\n",
    "#plt.plot(pwi, pfi)\n",
    "#pwi, pfi = resample.bintogrid(pwi, pfi, newx = wo)\n",
    "#plt.plot(pwi, pfi)\n",
    "\n",
    "#pwr, pfr = smear(pwi, pfi,500)\n",
    "#plt.plot(pwr, pfr)\n"
   ]
  },
  {
   "cell_type": "code",
   "execution_count": null,
   "metadata": {},
   "outputs": [],
   "source": [
    "gw, gf, ge = np.loadtxt(g19data[0], unpack=True)\n",
    "gw *=10000\n",
    "gphot = np.genfromtxt(g19data[1], dtype=None, delimiter=',', names=True, encoding=None)\n",
    "gpn, gpw, gpf, gpe = gphot['Band'], gphot['Wavelength'], gphot['Flux'], gphot['Error'] \n",
    "gpw*=10000\n",
    "\n",
    "plt.figure(figsize= (12, 10))\n",
    "\n",
    "\n",
    "plt.subplot(211)\n",
    "#plt.plot(gw/10000, gf, label = 'Gonzales+19 Spectrum')\n",
    "plt.errorbar(gw/10000, gf, yerr=ge, label = 'Gonzales+19 Spectrum')\n",
    "plt.errorbar(gpw/10000, gpf, yerr=gpe, marker='o', ls='none', label = 'Gonzales+19 Photometry')\n",
    "#plt.plot(pwr, pfr, ls='--')\n",
    "#plt.step(wir/10000, fir, where='mid', label='SPEX-Prism')\n",
    "plt.errorbar(wir/10000, fir, yerr=eir, label='SPEX-Prism')\n",
    "#plt.plot(wirn[:-10], firn[:-10])\n",
    "pwr, pfr = smear(pw, pf,prism_res)\n",
    "plt.plot(pwr/10000, pfr, lw=2, label='PHOENIX', c='C3', zorder=100)\n",
    "\n",
    "#mwr, mfr = smear(mw, mf*scales[1]/1e-8,sxd_res)\n",
    "#plt.plot(mwr, mfr, ls='--')\n",
    "\n",
    "plt.xlim(gw[0]/10000, gw[-1]/10000)\n",
    "plt.ylim(1e-16, 2.5e-14)\n",
    "#print(gw[0])\n",
    "plt.yscale('log')\n",
    "plt.xscale('log')\n",
    "plt.legend(loc=4)\n",
    "#plt.xlabel('Wavelength (\\AA)', size=20)\n",
    "plt.ylabel('Flux (erg s$^{-1}$ cm$^{-2}$ \\AA$^{-1}$)', size=25)\n",
    "plt.xticks([1,2],['',''])\n",
    "\n",
    "plt.subplot(413)\n",
    "pwi, pfi = resample.bintogrid(pwr, pfr, newx = gw)\n",
    "plt.plot(gw/10000, gf/pfi)\n",
    "plt.axhline(1, ls ='--', c='0.5')\n",
    "plt.ylim(0.001, 3.1)\n",
    "plt.xscale('log')\n",
    "plt.ylabel('$F_{\\mathrm{G+19}}$/$F_{\\mathrm{PHX}}$', size=25)\n",
    "plt.xlim(gw[0]/10000, gw[-1]/10000)\n",
    "plt.xticks([1,2],['',''])\n",
    "plt.xticks(visible=False)\n",
    "\n",
    "plt.subplot(414)\n",
    "pwr, pfr = smear(pw, pf,prism_res)\n",
    "pwi, pfi = resample.bintogrid(pwr, pfr, newx = wir)\n",
    "plt.plot(wir/10000, fir/pfi, c='C2')\n",
    "plt.axhline(1, ls ='--', c='0.5')\n",
    "plt.xscale('log')\n",
    "plt.ylabel('$F_{\\mathrm{Prism}}$/$F_{\\mathrm{PHX}}$', size=25)\n",
    "plt.xlabel('Wavelength ($\\mu$m)', size=25)\n",
    "plt.xlim(gw[0]/10000, gw[-1]/10000)\n",
    "plt.xticks([0.7, 1,2],['0.7','1','2'])\n",
    "plt.tight_layout()\n",
    "plt.subplots_adjust(hspace=0.15)\n",
    "#plt.savefig('ir_compare_errors.png', dpi=150)"
   ]
  },
  {
   "cell_type": "code",
   "execution_count": null,
   "metadata": {},
   "outputs": [],
   "source": [
    "from matplotlib.gridspec import GridSpec\n",
    "\n",
    "fig = plt.figure(figsize=(12, 9))\n",
    "gs = GridSpec(3, 1, figure=fig)\n",
    "\n",
    "\n",
    "plt.subplot(gs[:-1, 0])\n",
    "plt.step(wo, fo, where='mid', label='STIS G430L', lw=2)\n",
    "plt.errorbar(wo[::10], fo[::10], yerr=eo[::10], ls='none', c='C1', capsize=5, zorder=10, lw=2)\n",
    "\n",
    "pmask = (pw >= wo[0]) & (pw <= wo[-1])\n",
    "pwi, pfi = pw[pmask], pf[pmask]\n",
    "pwi, pfi = resample.bintogrid(pwi, pfi, newx = wo)\n",
    "\n",
    "pwr, pfr = smear(pwi, pfi,250)\n",
    "plt.plot(pwr, pfr, lw=2, label='PHOENIX', c='C3',)\n",
    "plt.errorbar(gpw, gpf, yerr=gpe, marker='o', ls='none', c='C1', label = 'Gonzales+19 Photometry')\n",
    "plt.xlim(wo[0]-10, wo[-1]+10)\n",
    "plt.ylim(0.001e-16, 3.9e-16)\n",
    "plt.legend()\n",
    "plt.ylabel('Flux (erg s$^{-1}$ cm$^{-2}$ \\AA$^{-1}$)', size=25)\n",
    "plt.xticks(visible=False)\n",
    "\n",
    "plt.subplot(gs[2, 0])\n",
    "plt.plot(wo, fo/pfr)\n",
    "plt.ylabel('$F_{\\mathrm{G430L}}$/$F_{\\mathrm{PHX}}$', size=25)\n",
    "plt.xlabel('Wavelength (\\AA)', size=25)\n",
    "plt.ylim(0.0001, 2.5)\n",
    "plt.axhline(1, ls ='--', c='0.5')\n",
    "plt.annotate('(Chromosphere)', (3200, 0.5))\n",
    "plt.tight_layout()\n",
    "#plt.savefig('opt_compare_errors.png', dpi=150)"
   ]
  },
  {
   "cell_type": "code",
   "execution_count": null,
   "metadata": {},
   "outputs": [],
   "source": [
    "savedat = Table([nwave*u.AA, nflux*u.erg/u.s/u.cm**2/u.AA], names=['WAVELENGTH', 'FLUX'])\n",
    "ascii.write(savedat, 'lyon_phoenix_2628_5.21_100um.ecsv', format='ecsv', overwrite=True)"
   ]
  },
  {
   "cell_type": "code",
   "execution_count": null,
   "metadata": {},
   "outputs": [],
   "source": [
    "#hdul[0].header"
   ]
  },
  {
   "cell_type": "code",
   "execution_count": null,
   "metadata": {},
   "outputs": [],
   "source": [
    "plt.errorbar(wo, fo, yerr=eo)"
   ]
  },
  {
   "cell_type": "code",
   "execution_count": null,
   "metadata": {},
   "outputs": [],
   "source": [
    "plt.scatter(gpw, gpf/gpe)"
   ]
  },
  {
   "cell_type": "code",
   "execution_count": null,
   "metadata": {},
   "outputs": [],
   "source": [
    "print(g19_params)\n",
    "g19_errs = {'Teff': 42, 'logg': 0.06, 'FeH': 0.04, 'aM': 0}"
   ]
  },
  {
   "cell_type": "code",
   "execution_count": null,
   "metadata": {},
   "outputs": [],
   "source": [
    "p1 = g19_params\n",
    "p2 = {'Teff': 2628.0+42., 'logg': 5.21+0.06, 'FeH': 0.04, 'aM': 0}\n",
    "p3 = {'Teff': 2628.0+42., 'logg': 5.21-0.06, 'FeH': 0.04, 'aM': 0}\n",
    "p4 = {'Teff': 2628.0-42., 'logg': 5.21+0.06, 'FeH': 0.04, 'aM': 0}\n",
    "p5 = {'Teff': 2628.0-42., 'logg': 5.21-0.06, 'FeH': 0.04, 'aM': 0}\n",
    "\n",
    "for star_params in [p1, p2, p3, p4, p5]:\n",
    "    params_to_interp = ['Teff', 'logg']\n",
    "    mflux = interp_flux(spectra, params_to_interp, star_params)\n",
    "    plotw, plotf = smear(nwave, mflux, prism_res)\n",
    "    plt.plot(plotw, plotf*scales[2]*1e8)\n",
    "\n"
   ]
  },
  {
   "cell_type": "code",
   "execution_count": null,
   "metadata": {},
   "outputs": [],
   "source": [
    "scales[2]"
   ]
  },
  {
   "cell_type": "code",
   "execution_count": null,
   "metadata": {},
   "outputs": [],
   "source": []
  }
 ],
 "metadata": {
  "kernelspec": {
   "display_name": "Python 3",
   "language": "python",
   "name": "python3"
  },
  "language_info": {
   "codemirror_mode": {
    "name": "ipython",
    "version": 3
   },
   "file_extension": ".py",
   "mimetype": "text/x-python",
   "name": "python",
   "nbconvert_exporter": "python",
   "pygments_lexer": "ipython3",
   "version": "3.7.7"
  }
 },
 "nbformat": 4,
 "nbformat_minor": 4
}
