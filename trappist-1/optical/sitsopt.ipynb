{
 "cells": [
  {
   "cell_type": "markdown",
   "metadata": {},
   "source": [
    "Rescaling the Stis g430l spectrum and measuring the strength of the Ca H & K lines."
   ]
  },
  {
   "cell_type": "code",
   "execution_count": 1,
   "metadata": {},
   "outputs": [],
   "source": [
    "import numpy as np\n",
    "import matplotlib.pyplot as plt\n",
    "import astropy.io.fits as fits\n",
    "import os\n",
    "import glob\n",
    "from scipy.interpolate import interp1d\n",
    "from scipy.io.idl import readsav\n",
    "from astropy.table import Table\n",
    "from astropy.io import ascii\n",
    "import astropy.units as u\n",
    "from scipy.optimize import leastsq\n",
    "import astropy.constants as const\n",
    "from astropy.convolution import convolve, Box1DKernel\n",
    "from astropy.modeling import models, fitting\n",
    "from craftroom import resample\n",
    "\n",
    "#matplotlib set up\n",
    "%matplotlib inline\n",
    "from matplotlib import rcParams\n",
    "rcParams[\"figure.figsize\"] = (14, 5)\n",
    "rcParams[\"font.size\"] = 20"
   ]
  },
  {
   "cell_type": "code",
   "execution_count": 2,
   "metadata": {},
   "outputs": [
    {
     "data": {
      "text/plain": [
       "(-1e-16, 2e-16)"
      ]
     },
     "execution_count": 2,
     "metadata": {},
     "output_type": "execute_result"
    },
    {
     "data": {
      "image/png": "[encoded data removed]",
      "text/plain": [
       "<Figure size 1008x360 with 1 Axes>"
      ]
     },
     "metadata": {
      "needs_background": "light"
     },
     "output_type": "display_data"
    }
   ],
   "source": [
    "stis_opt = 'odlm41010_sx1.fits'\n",
    "data = fits.getdata('../combined/'+stis_opt,1)[0]\n",
    "wo = data['WAVELENGTH'][data['DQ']==0]\n",
    "fo = data['FLUX'][data['DQ']==0]\n",
    "eo = data['ERROR'][data['DQ']==0]\n",
    "plt.errorbar(wo, fo, yerr=eo, drawstyle='steps-mid')\n",
    "plt.xlim(3900, 4100)\n",
    "plt.ylim(-1e-16, 0.2e-15)"
   ]
  },
  {
   "cell_type": "code",
   "execution_count": 3,
   "metadata": {},
   "outputs": [],
   "source": [
    "mask = (fo>0) &  (wo <3355) | (wo > 3365) & (wo < 5321) | (wo > 5325) & (wo < 5476.5) | (wo > 5480.5) #cutting out overlap and cosmics\n",
    "wo, fo, eo , dqo= wo[mask], fo[mask], eo[mask], data['DQ'][data['DQ']==0][mask]"
   ]
  },
  {
   "cell_type": "code",
   "execution_count": 4,
   "metadata": {},
   "outputs": [],
   "source": [
    "from astropy.convolution import convolve_fft\n",
    "from astropy.convolution import Gaussian1DKernel\n",
    "\n",
    "def smear(w,f, R, w_sample=1):\n",
    "    '''\n",
    "    Smears a model spectrum with a gaussian kernel to the given resolution, R.\n",
    "    Adapeted from https://github.com/spacetelescope/pysynphot/issues/78\n",
    "\n",
    "    Parameters\n",
    "    -----------\n",
    "\n",
    "    w,f:  spectrum to smear\n",
    "\n",
    "    R: int\n",
    "        The resolution (dL/L) to smear to\n",
    "\n",
    "    w_sample: int\n",
    "        Oversampling factor for smoothing\n",
    "\n",
    "    Returns\n",
    "    -----------\n",
    "\n",
    "    sp: PySynphot Source Spectrum\n",
    "        The smeared spectrum\n",
    "    '''\n",
    "\n",
    "    # Save original wavelength grid and units\n",
    "    w_grid = w\n",
    "    \n",
    "\n",
    "    # Generate logarithmic wavelength grid for smoothing\n",
    "    w_logmin = np.log10(np.nanmin(w_grid))\n",
    "    w_logmax = np.log10(np.nanmax(w_grid))\n",
    "    n_w = np.size(w_grid)*w_sample\n",
    "    w_log = np.logspace(w_logmin, w_logmax, num=n_w)\n",
    "\n",
    "    # Find stddev of Gaussian kernel for smoothing\n",
    "    R_grid = (w_log[1:-1]+w_log[0:-2])/(w_log[1:-1]-w_log[0:-2])/2\n",
    "    sigma = np.median(R_grid)/R\n",
    "    if sigma < 1:\n",
    "        sigma = 1\n",
    "\n",
    "    # Interpolate on logarithmic grid\n",
    "    f_log = np.interp(w_log, w_grid, f)\n",
    "\n",
    "    # Smooth convolving with Gaussian kernel\n",
    "    gauss = Gaussian1DKernel(stddev=sigma)\n",
    "    f_conv = convolve_fft(f_log, gauss)\n",
    "\n",
    "    # Interpolate back on original wavelength grid\n",
    "    f_sm = np.interp(w_grid, w_log, f_conv)\n",
    "\n",
    "    # Write smoothed spectrum back into Spectrum object\n",
    "    return w_grid, f_sm"
   ]
  },
  {
   "cell_type": "code",
   "execution_count": 5,
   "metadata": {},
   "outputs": [],
   "source": [
    "g19data = glob.glob('../ir_data/PS_Gaia*')\n",
    "\n",
    "gphot = np.genfromtxt(g19data[1], dtype=None, delimiter=',', names=True, encoding=None)\n",
    "gpn, gpw, gpf, gpe = gphot['Band'], gphot['Wavelength'], gphot['Flux'], gphot['Error'] \n",
    "gpw*=10000\n",
    "#plt.errorbar(gpw, gpf, yerr=gpe, marker='o', ls='none')\n",
    "\n",
    "#plt.step(wo, fo, where ='mid')\n",
    "#plt.xlim(wo[0], wo[-1])\n",
    "#plt.ylim(0, np.max(fo)*1.1)"
   ]
  },
  {
   "cell_type": "code",
   "execution_count": 6,
   "metadata": {},
   "outputs": [],
   "source": [
    "psbp = Table.read('/home/david/work/muscles/panstarrs_bandpasses.txt', format='ascii')\n",
    "g_bp = Table.read('/home/david/work/filters/gaia/Bp.dat', format='ascii')\n",
    "bpw, bpf = g_bp['col1'], g_bp['col2'] \n",
    "psw, psg = psbp['Wavelength']*10,psbp['gp1']"
   ]
  },
  {
   "cell_type": "code",
   "execution_count": 7,
   "metadata": {},
   "outputs": [
    {
     "name": "stdout",
     "output_type": "stream",
     "text": [
      "[7.267397526787607e-17, 6.221705681914174e-17]\n"
     ]
    },
    {
     "data": {
      "text/plain": [
       "(-9e-17, 5.9e-16)"
      ]
     },
     "execution_count": 7,
     "metadata": {},
     "output_type": "execute_result"
    },
    {
     "data": {
      "image/png": "[encoded data removed]",
      "text/plain": [
       "<Figure size 1008x360 with 1 Axes>"
      ]
     },
     "metadata": {
      "needs_background": "light"
     },
     "output_type": "display_data"
    }
   ],
   "source": [
    "def make_phot(bp_w, bp_cc, w, f):\n",
    "    bb_cci = interp1d(bp_w, bp_cc, fill_value='extrapolate')(w)\n",
    "    return np.trapz(f*bb_cci, w)/np.trapz(bb_cci, w)\n",
    "\n",
    "def air_to_vac(wavelength):\n",
    "    \"\"\"\n",
    "    Implements the air to vacuum wavelength conversion described in eqn 65 of\n",
    "    Griesen 2006\n",
    "    \"\"\"\n",
    "    wlum = wavelength.to(u.um).value\n",
    "    return (1+1e-6*(287.6155+1.62887/wlum**2+0.01360/wlum**4)) * wavelength\n",
    "\n",
    "\n",
    "go = make_phot(psw, psg, wo, fo)\n",
    "bpo = make_phot(bpw, bpf, wo, fo)\n",
    "phot_w = [4775.62,5500]\n",
    "synphot = [go, bpo]\n",
    "print(synphot)\n",
    "\n",
    "plt.step(wo, fo, where='mid', label='STIS G430L', lw=2)\n",
    "\n",
    "\n",
    "phot_w_v = air_to_vac(phot_w*u.AA).value\n",
    "gpw_v = air_to_vac(gpw*u.AA).value\n",
    "\n",
    "plt.errorbar(gpw_v, gpf, yerr=gpe, marker='o', ls='none')\n",
    "plt.errorbar(phot_w_v, synphot, marker='o', ls='none')\n",
    "plt.errorbar(phot_w, synphot, marker='o', ls='none')\n",
    "plt.xlim(wo[0]-10, wo[-1]+10)\n",
    "plt.ylim(-0.9e-16, 5.9e-16)\n",
    "#[plt.annotate(name.replace('_',''), (gpwi, 4e-16)) for name, gpwi in zip(gpn, gpw)]\n",
    "#plt.yscale('log')\n",
    "#plt.show()"
   ]
  },
  {
   "cell_type": "code",
   "execution_count": 8,
   "metadata": {},
   "outputs": [
    {
     "name": "stdout",
     "output_type": "stream",
     "text": [
      "[0.53174119 0.37242325]\n",
      "0.4520822180518652\n"
     ]
    }
   ],
   "source": [
    "print(synphot/np.array([gpf[5], gpf[3]]))\n",
    "photscale = np.mean(synphot/np.array([gpf[5], gpf[3]]))\n",
    "print(photscale)"
   ]
  },
  {
   "cell_type": "code",
   "execution_count": 9,
   "metadata": {},
   "outputs": [
    {
     "ename": "FileNotFoundError",
     "evalue": "[Errno 2] No such file or directory: '../test_files/components/hlsp_muscles_model_phx_2mass-j23062928-0502285_na_v5_component-spec.ecsv'",
     "output_type": "error",
     "traceback": [
      "\u001b[0;31m---------------------------------------------------------------------------\u001b[0m",
      "\u001b[0;31mFileNotFoundError\u001b[0m                         Traceback (most recent call last)",
      "\u001b[0;32m<ipython-input-9-fdfa9d7ea176>\u001b[0m in \u001b[0;36m<module>\u001b[0;34m\u001b[0m\n\u001b[1;32m      1\u001b[0m \u001b[0;31m#add in the phoenix spectrum\u001b[0m\u001b[0;34m\u001b[0m\u001b[0;34m\u001b[0m\u001b[0;34m\u001b[0m\u001b[0m\n\u001b[0;32m----> 2\u001b[0;31m \u001b[0mphx\u001b[0m \u001b[0;34m=\u001b[0m \u001b[0mTable\u001b[0m\u001b[0;34m.\u001b[0m\u001b[0mread\u001b[0m\u001b[0;34m(\u001b[0m\u001b[0;34m'../test_files/components/hlsp_muscles_model_phx_2mass-j23062928-0502285_na_v5_component-spec.ecsv'\u001b[0m\u001b[0;34m)\u001b[0m\u001b[0;34m\u001b[0m\u001b[0;34m\u001b[0m\u001b[0m\n\u001b[0m\u001b[1;32m      3\u001b[0m \u001b[0mpw\u001b[0m\u001b[0;34m,\u001b[0m \u001b[0mpf\u001b[0m \u001b[0;34m=\u001b[0m \u001b[0mphx\u001b[0m\u001b[0;34m[\u001b[0m\u001b[0;34m'WAVELENGTH'\u001b[0m\u001b[0;34m]\u001b[0m\u001b[0;34m,\u001b[0m \u001b[0mphx\u001b[0m\u001b[0;34m[\u001b[0m\u001b[0;34m'FLUX'\u001b[0m\u001b[0;34m]\u001b[0m\u001b[0;34m\u001b[0m\u001b[0;34m\u001b[0m\u001b[0m\n\u001b[1;32m      4\u001b[0m \u001b[0mpscale\u001b[0m \u001b[0;34m=\u001b[0m \u001b[0mphx\u001b[0m\u001b[0;34m.\u001b[0m\u001b[0mmeta\u001b[0m\u001b[0;34m[\u001b[0m\u001b[0;34m'NORMFAC'\u001b[0m\u001b[0;34m]\u001b[0m\u001b[0;34m\u001b[0m\u001b[0;34m\u001b[0m\u001b[0m\n\u001b[1;32m      5\u001b[0m \u001b[0mpf\u001b[0m \u001b[0;34m*=\u001b[0m \u001b[0mpscale\u001b[0m\u001b[0;34m\u001b[0m\u001b[0;34m\u001b[0m\u001b[0m\n",
      "\u001b[0;32m~/anaconda3/lib/python3.7/site-packages/astropy/table/connect.py\u001b[0m in \u001b[0;36m__call__\u001b[0;34m(self, *args, **kwargs)\u001b[0m\n\u001b[1;32m     50\u001b[0m     \u001b[0;32mdef\u001b[0m \u001b[0m__call__\u001b[0m\u001b[0;34m(\u001b[0m\u001b[0mself\u001b[0m\u001b[0;34m,\u001b[0m \u001b[0;34m*\u001b[0m\u001b[0margs\u001b[0m\u001b[0;34m,\u001b[0m \u001b[0;34m**\u001b[0m\u001b[0mkwargs\u001b[0m\u001b[0;34m)\u001b[0m\u001b[0;34m:\u001b[0m\u001b[0;34m\u001b[0m\u001b[0;34m\u001b[0m\u001b[0m\n\u001b[1;32m     51\u001b[0m         \u001b[0mcls\u001b[0m \u001b[0;34m=\u001b[0m \u001b[0mself\u001b[0m\u001b[0;34m.\u001b[0m\u001b[0m_cls\u001b[0m\u001b[0;34m\u001b[0m\u001b[0;34m\u001b[0m\u001b[0m\n\u001b[0;32m---> 52\u001b[0;31m         \u001b[0mout\u001b[0m \u001b[0;34m=\u001b[0m \u001b[0mregistry\u001b[0m\u001b[0;34m.\u001b[0m\u001b[0mread\u001b[0m\u001b[0;34m(\u001b[0m\u001b[0mcls\u001b[0m\u001b[0;34m,\u001b[0m \u001b[0;34m*\u001b[0m\u001b[0margs\u001b[0m\u001b[0;34m,\u001b[0m \u001b[0;34m**\u001b[0m\u001b[0mkwargs\u001b[0m\u001b[0;34m)\u001b[0m\u001b[0;34m\u001b[0m\u001b[0;34m\u001b[0m\u001b[0m\n\u001b[0m\u001b[1;32m     53\u001b[0m \u001b[0;34m\u001b[0m\u001b[0m\n\u001b[1;32m     54\u001b[0m         \u001b[0;31m# For some readers (e.g., ascii.ecsv), the returned `out` class is not\u001b[0m\u001b[0;34m\u001b[0m\u001b[0;34m\u001b[0m\u001b[0;34m\u001b[0m\u001b[0m\n",
      "\u001b[0;32m~/anaconda3/lib/python3.7/site-packages/astropy/io/registry.py\u001b[0m in \u001b[0;36mread\u001b[0;34m(cls, format, *args, **kwargs)\u001b[0m\n\u001b[1;32m    506\u001b[0m                     \u001b[0;32mtry\u001b[0m\u001b[0;34m:\u001b[0m\u001b[0;34m\u001b[0m\u001b[0;34m\u001b[0m\u001b[0m\n\u001b[1;32m    507\u001b[0m                         \u001b[0mctx\u001b[0m \u001b[0;34m=\u001b[0m \u001b[0mget_readable_fileobj\u001b[0m\u001b[0;34m(\u001b[0m\u001b[0margs\u001b[0m\u001b[0;34m[\u001b[0m\u001b[0;36m0\u001b[0m\u001b[0;34m]\u001b[0m\u001b[0;34m,\u001b[0m \u001b[0mencoding\u001b[0m\u001b[0;34m=\u001b[0m\u001b[0;34m'binary'\u001b[0m\u001b[0;34m)\u001b[0m\u001b[0;34m\u001b[0m\u001b[0;34m\u001b[0m\u001b[0m\n\u001b[0;32m--> 508\u001b[0;31m                         \u001b[0mfileobj\u001b[0m \u001b[0;34m=\u001b[0m \u001b[0mctx\u001b[0m\u001b[0;34m.\u001b[0m\u001b[0m__enter__\u001b[0m\u001b[0;34m(\u001b[0m\u001b[0;34m)\u001b[0m\u001b[0;34m\u001b[0m\u001b[0;34m\u001b[0m\u001b[0m\n\u001b[0m\u001b[1;32m    509\u001b[0m                     \u001b[0;32mexcept\u001b[0m \u001b[0mOSError\u001b[0m\u001b[0;34m:\u001b[0m\u001b[0;34m\u001b[0m\u001b[0;34m\u001b[0m\u001b[0m\n\u001b[1;32m    510\u001b[0m                         \u001b[0;32mraise\u001b[0m\u001b[0;34m\u001b[0m\u001b[0;34m\u001b[0m\u001b[0m\n",
      "\u001b[0;32m~/anaconda3/lib/python3.7/contextlib.py\u001b[0m in \u001b[0;36m__enter__\u001b[0;34m(self)\u001b[0m\n\u001b[1;32m    110\u001b[0m         \u001b[0;32mdel\u001b[0m \u001b[0mself\u001b[0m\u001b[0;34m.\u001b[0m\u001b[0margs\u001b[0m\u001b[0;34m,\u001b[0m \u001b[0mself\u001b[0m\u001b[0;34m.\u001b[0m\u001b[0mkwds\u001b[0m\u001b[0;34m,\u001b[0m \u001b[0mself\u001b[0m\u001b[0;34m.\u001b[0m\u001b[0mfunc\u001b[0m\u001b[0;34m\u001b[0m\u001b[0;34m\u001b[0m\u001b[0m\n\u001b[1;32m    111\u001b[0m         \u001b[0;32mtry\u001b[0m\u001b[0;34m:\u001b[0m\u001b[0;34m\u001b[0m\u001b[0;34m\u001b[0m\u001b[0m\n\u001b[0;32m--> 112\u001b[0;31m             \u001b[0;32mreturn\u001b[0m \u001b[0mnext\u001b[0m\u001b[0;34m(\u001b[0m\u001b[0mself\u001b[0m\u001b[0;34m.\u001b[0m\u001b[0mgen\u001b[0m\u001b[0;34m)\u001b[0m\u001b[0;34m\u001b[0m\u001b[0;34m\u001b[0m\u001b[0m\n\u001b[0m\u001b[1;32m    113\u001b[0m         \u001b[0;32mexcept\u001b[0m \u001b[0mStopIteration\u001b[0m\u001b[0;34m:\u001b[0m\u001b[0;34m\u001b[0m\u001b[0;34m\u001b[0m\u001b[0m\n\u001b[1;32m    114\u001b[0m             \u001b[0;32mraise\u001b[0m \u001b[0mRuntimeError\u001b[0m\u001b[0;34m(\u001b[0m\u001b[0;34m\"generator didn't yield\"\u001b[0m\u001b[0;34m)\u001b[0m \u001b[0;32mfrom\u001b[0m \u001b[0;32mNone\u001b[0m\u001b[0;34m\u001b[0m\u001b[0;34m\u001b[0m\u001b[0m\n",
      "\u001b[0;32m~/anaconda3/lib/python3.7/site-packages/astropy/utils/data.py\u001b[0m in \u001b[0;36mget_readable_fileobj\u001b[0;34m(name_or_obj, encoding, cache, show_progress, remote_timeout, sources, http_headers)\u001b[0m\n\u001b[1;32m    235\u001b[0m                 \u001b[0mtimeout\u001b[0m\u001b[0;34m=\u001b[0m\u001b[0mremote_timeout\u001b[0m\u001b[0;34m,\u001b[0m \u001b[0msources\u001b[0m\u001b[0;34m=\u001b[0m\u001b[0msources\u001b[0m\u001b[0;34m,\u001b[0m\u001b[0;34m\u001b[0m\u001b[0;34m\u001b[0m\u001b[0m\n\u001b[1;32m    236\u001b[0m                 http_headers=http_headers)\n\u001b[0;32m--> 237\u001b[0;31m         \u001b[0mfileobj\u001b[0m \u001b[0;34m=\u001b[0m \u001b[0mio\u001b[0m\u001b[0;34m.\u001b[0m\u001b[0mFileIO\u001b[0m\u001b[0;34m(\u001b[0m\u001b[0mname_or_obj\u001b[0m\u001b[0;34m,\u001b[0m \u001b[0;34m'r'\u001b[0m\u001b[0;34m)\u001b[0m\u001b[0;34m\u001b[0m\u001b[0;34m\u001b[0m\u001b[0m\n\u001b[0m\u001b[1;32m    238\u001b[0m         \u001b[0;32mif\u001b[0m \u001b[0mis_url\u001b[0m \u001b[0;32mand\u001b[0m \u001b[0;32mnot\u001b[0m \u001b[0mcache\u001b[0m\u001b[0;34m:\u001b[0m\u001b[0;34m\u001b[0m\u001b[0;34m\u001b[0m\u001b[0m\n\u001b[1;32m    239\u001b[0m             \u001b[0mdelete_fds\u001b[0m\u001b[0;34m.\u001b[0m\u001b[0mappend\u001b[0m\u001b[0;34m(\u001b[0m\u001b[0mfileobj\u001b[0m\u001b[0;34m)\u001b[0m\u001b[0;34m\u001b[0m\u001b[0;34m\u001b[0m\u001b[0m\n",
      "\u001b[0;31mFileNotFoundError\u001b[0m: [Errno 2] No such file or directory: '../test_files/components/hlsp_muscles_model_phx_2mass-j23062928-0502285_na_v5_component-spec.ecsv'"
     ]
    }
   ],
   "source": [
    "#add in the phoenix spectrum\n",
    "phx = Table.read('../test_files/components/hlsp_muscles_model_phx_2mass-j23062928-0502285_na_v5_component-spec.ecsv')\n",
    "pw, pf = phx['WAVELENGTH'], phx['FLUX']\n",
    "pscale = phx.meta['NORMFAC']\n",
    "pf *= pscale\n",
    "\n",
    "pmask = (pw >= wo[0]) & (pw <= wo[-1])\n",
    "pwi, pfi = pw[pmask], pf[pmask]\n",
    "pwi, pfi = resample.bintogrid(pwi, pfi, newx = wo)\n",
    "\n",
    "pwr, pfr = smear(pwi, pfi,250)"
   ]
  },
  {
   "cell_type": "code",
   "execution_count": null,
   "metadata": {},
   "outputs": [],
   "source": [
    "opw, opf, ope = gpw_v[gpw_v < wo[-1]], gpf[gpw_v < wo[-1]], gpe[gpw_v < wo[-1]]\n",
    "\n",
    "plt.figure(figsize=(8,6))\n",
    "plt.errorbar(opw, opf, yerr=ope, marker='o', ls='none', c = 'C3', markersize=10, zorder=10, label='Photometry')\n",
    "#plt.errorbar(phot_w_v, synphot, marker='o', ls='none')\n",
    "#plt.errorbar(phot_w, synphot, marker='o', ls='none')\n",
    "plt.xlim(wo[0]-10, wo[-1]+10)\n",
    "plt.ylim(-0.5e-16, 5.9e-16)\n",
    "fob = convolve(fo,Box1DKernel(2))\n",
    "eob = convolve(eo,Box1DKernel(2))/(2**0.5)\n",
    "plt.step(wo, fob, where='mid', label='STIS G430L', c ='C0', alpha = 0.5)\n",
    "fob, eob = fob/photscale, eob/photscale\n",
    "plt.step(wo, fob, where='mid', label='Scaled STIS G430L', c='C0')\n",
    "plt.plot(pwr, pfr, ls ='--', c='C1', label = 'PHOENIX')\n",
    "plt.legend()\n",
    "plt.xlabel('Wavelength (\\AA)', size=20)\n",
    "plt.ylabel('Flux (erg s$^{-1}$ cm$^{-2}$ \\AA$^{-1}$)', size=20)\n",
    "plt.tight_layout()"
   ]
  },
  {
   "cell_type": "code",
   "execution_count": null,
   "metadata": {},
   "outputs": [],
   "source": [
    "def gauss_flux(amp, std, off, ae, se, oe):\n",
    "    \"\"\"\n",
    "    Calcualates the flux and error of a Gaussian with amplitude and stddev amp and std, with offset off\n",
    "    \"\"\"\n",
    "    #off = 0.0\n",
    "    off_err = 0\n",
    "    if off != 0.0:\n",
    "        amp += (-1*off)\n",
    "        off_err = (oe/off)**2\n",
    "        \n",
    "    flux = ((2*np.pi)**0.5) * amp * std\n",
    "    error = flux * (((ae/amp)**2)+((se/std)**2)+off_err)**0.5\n",
    "    return flux, error\n",
    "               \n",
    "\n",
    "fitter = fitting.LevMarLSQFitter()\n",
    "\n",
    "ca =[ 3933.6614, 3968.4673]\n",
    "plt.step(wo,  fob, where='mid')\n",
    "[plt.axvline(line, c='r') for line in ca]\n",
    "plt.xlim(3850,4050)\n",
    "plt.ylim(0.05e-16, 1.5e-16)\n",
    "\n",
    "#for line in ca:\n",
    "    #plt.axvline(line-40, c='r')\n",
    "    #plt.axvline(line+40, c='g')\n",
    " #   mask = (wo > line-60) & (wo < line+60)\n",
    "  #  gg_init = models.Const1D(0.0) + models.Gaussian1D(1e-16, line,1.0)\n",
    "  #  gg_fit = fitter(gg_init, wo[mask], fob[mask], weights =1/eo[mask])\n",
    "  #  plt.plot(wo[mask], gg_fit(wo[mask]))\n",
    "mask = (wo > 3850) & (wo < 4050)\n",
    "gg_init = models.Const1D(0.0)+models.Gaussian1D(1e-16, ca[0],10) + models.Gaussian1D(1e-16, ca[1],10)\n",
    "gg_fit = fitter(gg_init, wo[mask], fob[mask], weights =1/eob[mask], maxiter=10000)\n",
    "plt.plot(wo[mask], gg_fit(wo[mask]))\n",
    "#plt.plot(pwr, pfr, ls ='--', c='C1', label = 'PHOENIX')\n",
    "fit_e = np.sqrt(np.diag(fitter.fit_info['param_cov']))\n",
    "f1, e1 = gauss_flux(gg_fit[1].amplitude, gg_fit[1].stddev, gg_fit[0].amplitude, fit_e[1], fit_e[3], fit_e[0])\n",
    "f2, e2 = gauss_flux(gg_fit[2].amplitude, gg_fit[2].stddev, gg_fit[0].amplitude, fit_e[4], fit_e[6], fit_e[0])\n",
    "print(f1/1e-18, e1/1e-18)\n",
    "print(f2/1e-18, e2/1e-18)\n",
    "print(f1, e1)\n",
    "print(f2, e2)\n",
    "plt.savefig('hkzoom.png')"
   ]
  },
  {
   "cell_type": "code",
   "execution_count": null,
   "metadata": {},
   "outputs": [],
   "source": [
    "from matplotlib.gridspec import GridSpec\n",
    "import matplotlib.patches as patches\n",
    "\n",
    "fig = plt.figure(figsize=(14, 8))\n",
    "gs = GridSpec(6, 6, figure=fig)\n",
    "\n",
    "ax = plt.subplot(gs[:4, :-2])\n",
    "plt.errorbar(opw, opf, yerr=ope, marker='o', ls='none', c = 'C6', markersize=10, zorder=10, label='Photometry')\n",
    "#plt.errorbar(phot_w_v, synphot, marker='o', ls='none')\n",
    "#plt.errorbar(phot_w, synphot, marker='o', ls='none')\n",
    "plt.xlim(wo[0]-10, wo[-1]+10)\n",
    "plt.ylim(-0.5e-16, 5.9e-16)\n",
    "fob = convolve(fo,Box1DKernel(2))\n",
    "eob = convolve(eo,Box1DKernel(2))/(2**0.5)\n",
    "plt.step(wo, fob, where='mid', label='STIS G430L', c ='C0', alpha = 0.5)\n",
    "fob, eob = fob/photscale, eob/photscale\n",
    "plt.step(wo, fob, where='mid', label='Scaled STIS G430L', c='C0')\n",
    "plt.plot(pwr, pfr, ls ='--', c='C1', label = 'PHOENIX')\n",
    "plt.legend()\n",
    "#plt.xlabel('Wavelength (\\AA)', size=20)\n",
    "plt.ylabel('Flux (erg s$^{-1}$ cm$^{-2}$ \\AA$^{-1}$)', size=20)\n",
    "rect = patches.Rectangle((3801,0.1e-16),289,1.44e-16,linewidth=1,edgecolor='C3',facecolor='none', ls='--')\n",
    "ax.add_patch(rect)\n",
    "#plt.xticks(visible=False)\n",
    "\n",
    "plt.subplot(gs[4:,:-2])\n",
    "pwo, pfr = resample.bintogrid(pwr, pfr, newx=wo)\n",
    "plt.plot(wo, fob/pfr)\n",
    "plt.xlabel('Wavelength (\\AA)', size=20)\n",
    "plt.ylabel('F$_{\\mathrm{G430L}}$/F$_{\\mathrm{PHX}}$')\n",
    "plt.xlim(wo[0]-10, wo[-1]+10)\n",
    "plt.axhline(1.0, ls='--', c='0.7')\n",
    "plt.yscale('log')\n",
    "\n",
    "plt.subplot(gs[:4,-2:])\n",
    "plt.step(wo,  fob, where='mid')\n",
    "plt.errorbar(wo[::3], fob[::3], yerr=eob[::3], c='C0', ls='none', capsize=5, label = 'G430L')\n",
    "\n",
    "#[plt.axvline(line, c='r') for line in ca]\n",
    "[plt.annotate('',(line, 1.23e-16), xytext=(line, 1.33e-16), horizontalalignment='center', arrowprops=dict(arrowstyle='-')) for line in ca]\n",
    "plt.annotate('Ca\\,{\\sc ii}',(np.mean(ca), 6e-17), xytext=(np.mean(ca), 1.35e-16), horizontalalignment='center')\n",
    "\n",
    "plt.xlim(3851,4049)\n",
    "plt.ylim(0.1e-16, 1.49e-16)\n",
    "plt.plot(wo[mask], gg_fit(wo[mask]), lw=2, label='Model fit')\n",
    "#plt.legend()\n",
    "plt.xlabel('Wavelength (\\AA)', size=20)\n",
    "plt.tight_layout()\n",
    "plt.subplots_adjust(hspace=0.45)\n",
    "plt.savefig('../plots/t1_stis.png', dpi=150)\n",
    "plt.savefig('../plots/t1_stis.pdf', dpi=150)"
   ]
  },
  {
   "cell_type": "code",
   "execution_count": null,
   "metadata": {},
   "outputs": [],
   "source": [
    "savdat = Table([wo, fo/photscale, eo/photscale, dqo], names = ['WAVELENGTH', 'FLUX', 'ERROR', 'DQ'])\n",
    "ascii.write(savdat, 't1_g430m_edit.ecsv', format='ecsv', overwrite=True)"
   ]
  },
  {
   "cell_type": "code",
   "execution_count": null,
   "metadata": {},
   "outputs": [],
   "source": [
    "#f1, e1 = gauss_flux(gg_fit[1].amplitude, gg_fit[1].stddev, gg_fit[0].amplitude, fit_e[1], fit_e[3], fit_e[0])\n",
    "#f2, e2 = gauss_flux(gg_fit[2].amplitude, gg_fit[2].stddev, gg_fit[0].amplitude, fit_e[4], fit_e[6], fit_e[0])\n",
    "\n",
    "amps = [gg_fit[1].amplitude.value, gg_fit[2].amplitude.value]\n",
    "means = [gg_fit[1].mean.value, gg_fit[2].mean.value]\n",
    "stds = [gg_fit[1].stddev.value, gg_fit[2].stddev.value]\n",
    "offs = [gg_fit[0].amplitude.value, gg_fit[0].amplitude.value]\n",
    "\n",
    "lines_table = Table([amps[0], means[0], stds[0], offs[0]], names =['Amplitude', 'Mean', 'Stddev', 'Offset'])\n",
    "ascii.write(lines_table, '../paper/ca_emmision_lines_for.model.ecsv', format='ecsv', overwrite=True)     "
   ]
  },
  {
   "cell_type": "markdown",
   "metadata": {},
   "source": [
    "Balmer lines."
   ]
  },
  {
   "cell_type": "code",
   "execution_count": null,
   "metadata": {},
   "outputs": [],
   "source": [
    "blines = np.array([656.45377,486.13615, 434.0462, 410.174, 397.0072, 388.9049, 383.5384])*10\n",
    "names = ['alpha', 'beta', 'gamma', 'delta', 'epsilon', 'zeta', 'eta']\n",
    "plt.plot(wo, fob)\n",
    "[plt.axvline(line, c='r') for line in blines[1:]]\n",
    "plt.show()\n",
    "\n"
   ]
  },
  {
   "cell_type": "code",
   "execution_count": null,
   "metadata": {},
   "outputs": [],
   "source": [
    "fitter = fitting.LevMarLSQFitter()\n",
    "\n",
    "plt.figure(figsize=(5,5))\n",
    "plt.step(wo,  fob, where='mid')\n",
    "plt.xlim(4300, 4390)\n",
    "plt.ylim(0.05e-16, 1.7e-16)\n",
    "plt.axvline(blines[2], c='r')\n",
    "\n",
    "mask = (wo > 4200) & (wo < 4400)\n",
    "gg_init = models.Const1D(0.0)+models.Gaussian1D(1e-16, blines[2],10)\n",
    "gg_fit = fitter(gg_init, wo[mask], fob[mask], weights =1/eob[mask], maxiter=10000)\n",
    "plt.plot(wo[mask], gg_fit(wo[mask]))\n",
    "#plt.plot(pwr, pfr, ls ='--', c='C1', label = 'PHOENIX')\n",
    "fit_e = np.sqrt(np.diag(fitter.fit_info['param_cov']))\n",
    "f1, e1 = gauss_flux(gg_fit[1].amplitude, gg_fit[1].stddev, gg_fit[0].amplitude, fit_e[1], fit_e[3], fit_e[0])\n",
    "print(f1/1e-18, e1/1e-18)\n",
    "print(f1, e1)\n",
    "plt.tight_layout()\n",
    "plt.savefig('hgamma.png')"
   ]
  },
  {
   "cell_type": "code",
   "execution_count": null,
   "metadata": {},
   "outputs": [],
   "source": []
  }
 ],
 "metadata": {
  "kernelspec": {
   "display_name": "Python 3",
   "language": "python",
   "name": "python3"
  },
  "language_info": {
   "codemirror_mode": {
    "name": "ipython",
    "version": 3
   },
   "file_extension": ".py",
   "mimetype": "text/x-python",
   "name": "python",
   "nbconvert_exporter": "python",
   "pygments_lexer": "ipython3",
   "version": "3.7.7"
  }
 },
 "nbformat": 4,
 "nbformat_minor": 4
}
