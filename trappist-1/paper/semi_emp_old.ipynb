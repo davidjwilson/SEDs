{
 "cells": [
  {
   "cell_type": "code",
   "execution_count": 1,
   "metadata": {},
   "outputs": [],
   "source": [
    "import numpy as np\n",
    "import matplotlib.pyplot as plt\n",
    "import glob\n",
    "import astropy.io.fits as fits\n",
    "import os\n",
    "from scipy.io.idl import readsav\n",
    "from astropy.table import Table\n",
    "from astropy.io import ascii\n",
    "import astropy.units as u\n",
    "import astropy.constants as const\n",
    "from astropy.modeling import models, fitting\n",
    "from craftroom import resample\n",
    "from scipy.interpolate import interp1d\n",
    "\n",
    "\n",
    "%matplotlib inline\n",
    "from matplotlib import rcParams\n",
    "rcParams[\"figure.figsize\"] = (14, 5)\n",
    "rcParams[\"font.size\"] = 20"
   ]
  },
  {
   "cell_type": "code",
   "execution_count": 2,
   "metadata": {},
   "outputs": [],
   "source": [
    "#params = Table.read('line_fit_params.ecsv')\n",
    "#20191030 modifying for new fits\n",
    "params = Table.read('emmision_lines_for.model.ecsv')"
   ]
  },
  {
   "cell_type": "code",
   "execution_count": 3,
   "metadata": {},
   "outputs": [],
   "source": [
    "a, m, s, o= params['Amplitude'], params['Mean'], params['Stddev'], params['Offset']\n",
    "mask = a > 0\n",
    "a, m, s = a[mask], m[mask], s[mask]\n",
    "a += -1*o"
   ]
  },
  {
   "cell_type": "code",
   "execution_count": 4,
   "metadata": {},
   "outputs": [],
   "source": [
    "for i in range(len(a)):\n",
    "    if i == 0:\n",
    "        lines_mod = models.Gaussian1D(a[i], m[i], s[i])\n",
    "    else:\n",
    "        lines_mod = lines_mod + models.Gaussian1D(a[i], m[i], s[i])"
   ]
  },
  {
   "cell_type": "code",
   "execution_count": 5,
   "metadata": {},
   "outputs": [],
   "source": [
    "#seperate ciii1176 lines\n",
    "params = Table.read('ciii1176_lines_for.model.ecsv')\n",
    "a, m, s, o= params['Amplitude'], params['Mean'], params['Stddev'], params['Offset']\n",
    "mask = a > 0\n",
    "a, m, s, o = a[mask], m[mask], s[mask], o[mask]\n",
    "a += -1*o\n",
    "\n",
    "for i in range(len(a)):\n",
    "    lines_mod = lines_mod + models.Gaussian1D(a[i], m[i], s[i])"
   ]
  },
  {
   "cell_type": "code",
   "execution_count": 6,
   "metadata": {},
   "outputs": [],
   "source": [
    "mw = np.arange(1000, 3000, 0.01)"
   ]
  },
  {
   "cell_type": "code",
   "execution_count": 7,
   "metadata": {},
   "outputs": [
    {
     "data": {
      "text/plain": [
       "[<matplotlib.lines.Line2D at 0x7fceff2e17b8>]"
      ]
     },
     "execution_count": 7,
     "metadata": {},
     "output_type": "execute_result"
    },
    {
     "data": {
      "image/png": "[encoded data removed]",
      "text/plain": [
       "<Figure size 432x288 with 1 Axes>"
      ]
     },
     "metadata": {
      "needs_background": "light"
     },
     "output_type": "display_data"
    }
   ],
   "source": [
    "plt.plot(mw, lines_mod(mw))\n",
    "#plt.xlim(1170, 1180)"
   ]
  },
  {
   "cell_type": "markdown",
   "metadata": {},
   "source": [
    "Yay!"
   ]
  },
  {
   "cell_type": "code",
   "execution_count": 8,
   "metadata": {},
   "outputs": [],
   "source": [
    "hdul = fits.open('../dem/trappist-1_dem_spectra.fits')"
   ]
  },
  {
   "cell_type": "code",
   "execution_count": 9,
   "metadata": {},
   "outputs": [
    {
     "name": "stdout",
     "output_type": "stream",
     "text": [
      "Filename: ../dem/trappist-1_dem_spectra.fits\n",
      "No.    Name      Ver    Type      Cards   Dimensions   Format\n",
      "  0  PRIMARY       1 PrimaryHDU       4   ()      \n",
      "  1                1 BinTableHDU     20   400R x 4C   [D, D, D, D]   \n"
     ]
    }
   ],
   "source": [
    "hdul.info()"
   ]
  },
  {
   "cell_type": "code",
   "execution_count": 10,
   "metadata": {},
   "outputs": [],
   "source": [
    "data = hdul[1].data"
   ]
  },
  {
   "cell_type": "code",
   "execution_count": 11,
   "metadata": {},
   "outputs": [
    {
     "ename": "KeyError",
     "evalue": "\"Key 'Bin-Integrated Flux' does not exist.\"",
     "output_type": "error",
     "traceback": [
      "\u001b[0;31m---------------------------------------------------------------------------\u001b[0m",
      "\u001b[0;31mValueError\u001b[0m                                Traceback (most recent call last)",
      "\u001b[0;32m~/anaconda3/lib/python3.7/site-packages/astropy/io/fits/column.py\u001b[0m in \u001b[0;36m_get_index\u001b[0;34m(names, key)\u001b[0m\n\u001b[1;32m   2008\u001b[0m         \u001b[0;32mtry\u001b[0m\u001b[0;34m:\u001b[0m\u001b[0;34m\u001b[0m\u001b[0;34m\u001b[0m\u001b[0m\n\u001b[0;32m-> 2009\u001b[0;31m             \u001b[0mindx\u001b[0m \u001b[0;34m=\u001b[0m \u001b[0mnames\u001b[0m\u001b[0;34m.\u001b[0m\u001b[0mindex\u001b[0m\u001b[0;34m(\u001b[0m\u001b[0mkey\u001b[0m\u001b[0;34m.\u001b[0m\u001b[0mrstrip\u001b[0m\u001b[0;34m(\u001b[0m\u001b[0;34m)\u001b[0m\u001b[0;34m)\u001b[0m\u001b[0;34m\u001b[0m\u001b[0;34m\u001b[0m\u001b[0m\n\u001b[0m\u001b[1;32m   2010\u001b[0m         \u001b[0;32mexcept\u001b[0m \u001b[0mValueError\u001b[0m\u001b[0;34m:\u001b[0m\u001b[0;34m\u001b[0m\u001b[0;34m\u001b[0m\u001b[0m\n",
      "\u001b[0;31mValueError\u001b[0m: 'Bin-Integrated Flux' is not in list",
      "\nDuring handling of the above exception, another exception occurred:\n",
      "\u001b[0;31mKeyError\u001b[0m                                  Traceback (most recent call last)",
      "\u001b[0;32m<ipython-input-11-615ede20a487>\u001b[0m in \u001b[0;36m<module>\u001b[0;34m\u001b[0m\n\u001b[1;32m      1\u001b[0m \u001b[0;31m#w, f, e = data['Wavelength'], data['Bin-Integrated Flux'], data['Error']\u001b[0m\u001b[0;34m\u001b[0m\u001b[0;34m\u001b[0m\u001b[0;34m\u001b[0m\u001b[0m\n\u001b[0;32m----> 2\u001b[0;31m \u001b[0mw\u001b[0m\u001b[0;34m,\u001b[0m \u001b[0mf\u001b[0m\u001b[0;34m,\u001b[0m \u001b[0mbin_el\u001b[0m\u001b[0;34m,\u001b[0m \u001b[0mbin_eu\u001b[0m \u001b[0;34m=\u001b[0m \u001b[0mdata\u001b[0m\u001b[0;34m[\u001b[0m\u001b[0;34m'Wavelength'\u001b[0m\u001b[0;34m]\u001b[0m\u001b[0;34m,\u001b[0m \u001b[0mdata\u001b[0m\u001b[0;34m[\u001b[0m\u001b[0;34m'Bin-Integrated Flux'\u001b[0m\u001b[0;34m]\u001b[0m\u001b[0;34m,\u001b[0m \u001b[0mdata\u001b[0m\u001b[0;34m[\u001b[0m\u001b[0;34m'Lower_Error_16'\u001b[0m\u001b[0;34m]\u001b[0m\u001b[0;34m,\u001b[0m \u001b[0mdata\u001b[0m\u001b[0;34m[\u001b[0m\u001b[0;34m'Upper_Error_84'\u001b[0m\u001b[0;34m]\u001b[0m\u001b[0;34m\u001b[0m\u001b[0;34m\u001b[0m\u001b[0m\n\u001b[0m",
      "\u001b[0;32m~/anaconda3/lib/python3.7/site-packages/astropy/io/fits/fitsrec.py\u001b[0m in \u001b[0;36m__getitem__\u001b[0;34m(self, key)\u001b[0m\n\u001b[1;32m    485\u001b[0m \u001b[0;34m\u001b[0m\u001b[0m\n\u001b[1;32m    486\u001b[0m         \u001b[0;32mif\u001b[0m \u001b[0misinstance\u001b[0m\u001b[0;34m(\u001b[0m\u001b[0mkey\u001b[0m\u001b[0;34m,\u001b[0m \u001b[0mstr\u001b[0m\u001b[0;34m)\u001b[0m\u001b[0;34m:\u001b[0m\u001b[0;34m\u001b[0m\u001b[0;34m\u001b[0m\u001b[0m\n\u001b[0;32m--> 487\u001b[0;31m             \u001b[0;32mreturn\u001b[0m \u001b[0mself\u001b[0m\u001b[0;34m.\u001b[0m\u001b[0mfield\u001b[0m\u001b[0;34m(\u001b[0m\u001b[0mkey\u001b[0m\u001b[0;34m)\u001b[0m\u001b[0;34m\u001b[0m\u001b[0;34m\u001b[0m\u001b[0m\n\u001b[0m\u001b[1;32m    488\u001b[0m \u001b[0;34m\u001b[0m\u001b[0m\n\u001b[1;32m    489\u001b[0m         \u001b[0;31m# Have to view as a recarray then back as a FITS_rec, otherwise the\u001b[0m\u001b[0;34m\u001b[0m\u001b[0;34m\u001b[0m\u001b[0;34m\u001b[0m\u001b[0m\n",
      "\u001b[0;32m~/anaconda3/lib/python3.7/site-packages/astropy/io/fits/fitsrec.py\u001b[0m in \u001b[0;36mfield\u001b[0;34m(self, key)\u001b[0m\n\u001b[1;32m    675\u001b[0m         \u001b[0;31m# NOTE: The *column* index may not be the same as the field index in\u001b[0m\u001b[0;34m\u001b[0m\u001b[0;34m\u001b[0m\u001b[0;34m\u001b[0m\u001b[0m\n\u001b[1;32m    676\u001b[0m         \u001b[0;31m# the recarray, if the column is a phantom column\u001b[0m\u001b[0;34m\u001b[0m\u001b[0;34m\u001b[0m\u001b[0;34m\u001b[0m\u001b[0m\n\u001b[0;32m--> 677\u001b[0;31m         \u001b[0mcolumn\u001b[0m \u001b[0;34m=\u001b[0m \u001b[0mself\u001b[0m\u001b[0;34m.\u001b[0m\u001b[0mcolumns\u001b[0m\u001b[0;34m[\u001b[0m\u001b[0mkey\u001b[0m\u001b[0;34m]\u001b[0m\u001b[0;34m\u001b[0m\u001b[0;34m\u001b[0m\u001b[0m\n\u001b[0m\u001b[1;32m    678\u001b[0m         \u001b[0mname\u001b[0m \u001b[0;34m=\u001b[0m \u001b[0mcolumn\u001b[0m\u001b[0;34m.\u001b[0m\u001b[0mname\u001b[0m\u001b[0;34m\u001b[0m\u001b[0;34m\u001b[0m\u001b[0m\n\u001b[1;32m    679\u001b[0m         \u001b[0mformat\u001b[0m \u001b[0;34m=\u001b[0m \u001b[0mcolumn\u001b[0m\u001b[0;34m.\u001b[0m\u001b[0mformat\u001b[0m\u001b[0;34m\u001b[0m\u001b[0;34m\u001b[0m\u001b[0m\n",
      "\u001b[0;32m~/anaconda3/lib/python3.7/site-packages/astropy/io/fits/column.py\u001b[0m in \u001b[0;36m__getitem__\u001b[0;34m(self, key)\u001b[0m\n\u001b[1;32m   1614\u001b[0m     \u001b[0;32mdef\u001b[0m \u001b[0m__getitem__\u001b[0m\u001b[0;34m(\u001b[0m\u001b[0mself\u001b[0m\u001b[0;34m,\u001b[0m \u001b[0mkey\u001b[0m\u001b[0;34m)\u001b[0m\u001b[0;34m:\u001b[0m\u001b[0;34m\u001b[0m\u001b[0;34m\u001b[0m\u001b[0m\n\u001b[1;32m   1615\u001b[0m         \u001b[0;32mif\u001b[0m \u001b[0misinstance\u001b[0m\u001b[0;34m(\u001b[0m\u001b[0mkey\u001b[0m\u001b[0;34m,\u001b[0m \u001b[0mstr\u001b[0m\u001b[0;34m)\u001b[0m\u001b[0;34m:\u001b[0m\u001b[0;34m\u001b[0m\u001b[0;34m\u001b[0m\u001b[0m\n\u001b[0;32m-> 1616\u001b[0;31m             \u001b[0mkey\u001b[0m \u001b[0;34m=\u001b[0m \u001b[0m_get_index\u001b[0m\u001b[0;34m(\u001b[0m\u001b[0mself\u001b[0m\u001b[0;34m.\u001b[0m\u001b[0mnames\u001b[0m\u001b[0;34m,\u001b[0m \u001b[0mkey\u001b[0m\u001b[0;34m)\u001b[0m\u001b[0;34m\u001b[0m\u001b[0;34m\u001b[0m\u001b[0m\n\u001b[0m\u001b[1;32m   1617\u001b[0m \u001b[0;34m\u001b[0m\u001b[0m\n\u001b[1;32m   1618\u001b[0m         \u001b[0mx\u001b[0m \u001b[0;34m=\u001b[0m \u001b[0mself\u001b[0m\u001b[0;34m.\u001b[0m\u001b[0mcolumns\u001b[0m\u001b[0;34m[\u001b[0m\u001b[0mkey\u001b[0m\u001b[0;34m]\u001b[0m\u001b[0;34m\u001b[0m\u001b[0;34m\u001b[0m\u001b[0m\n",
      "\u001b[0;32m~/anaconda3/lib/python3.7/site-packages/astropy/io/fits/column.py\u001b[0m in \u001b[0;36m_get_index\u001b[0;34m(names, key)\u001b[0m\n\u001b[1;32m   2016\u001b[0m                 \u001b[0mindx\u001b[0m \u001b[0;34m=\u001b[0m \u001b[0mnames\u001b[0m\u001b[0;34m.\u001b[0m\u001b[0mindex\u001b[0m\u001b[0;34m(\u001b[0m\u001b[0m_key\u001b[0m\u001b[0;34m)\u001b[0m\u001b[0;34m\u001b[0m\u001b[0;34m\u001b[0m\u001b[0m\n\u001b[1;32m   2017\u001b[0m             \u001b[0;32melif\u001b[0m \u001b[0mcount\u001b[0m \u001b[0;34m==\u001b[0m \u001b[0;36m0\u001b[0m\u001b[0;34m:\u001b[0m\u001b[0;34m\u001b[0m\u001b[0;34m\u001b[0m\u001b[0m\n\u001b[0;32m-> 2018\u001b[0;31m                 \u001b[0;32mraise\u001b[0m \u001b[0mKeyError\u001b[0m\u001b[0;34m(\u001b[0m\u001b[0;34m\"Key '{}' does not exist.\"\u001b[0m\u001b[0;34m.\u001b[0m\u001b[0mformat\u001b[0m\u001b[0;34m(\u001b[0m\u001b[0mkey\u001b[0m\u001b[0;34m)\u001b[0m\u001b[0;34m)\u001b[0m\u001b[0;34m\u001b[0m\u001b[0;34m\u001b[0m\u001b[0m\n\u001b[0m\u001b[1;32m   2019\u001b[0m             \u001b[0;32melse\u001b[0m\u001b[0;34m:\u001b[0m              \u001b[0;31m# multiple match\u001b[0m\u001b[0;34m\u001b[0m\u001b[0;34m\u001b[0m\u001b[0m\n\u001b[1;32m   2020\u001b[0m                 \u001b[0;32mraise\u001b[0m \u001b[0mKeyError\u001b[0m\u001b[0;34m(\u001b[0m\u001b[0;34m\"Ambiguous key name '{}'.\"\u001b[0m\u001b[0;34m.\u001b[0m\u001b[0mformat\u001b[0m\u001b[0;34m(\u001b[0m\u001b[0mkey\u001b[0m\u001b[0;34m)\u001b[0m\u001b[0;34m)\u001b[0m\u001b[0;34m\u001b[0m\u001b[0;34m\u001b[0m\u001b[0m\n",
      "\u001b[0;31mKeyError\u001b[0m: \"Key 'Bin-Integrated Flux' does not exist.\""
     ]
    }
   ],
   "source": [
    "#w, f, e = data['Wavelength'], data['Bin-Integrated Flux'], data['Error']\n",
    "w, f, bin_el, bin_eu = data['Wavelength'], data['Bin-Integrated Flux'], data['Lower_Error_16'], data['Upper_Error_84']"
   ]
  },
  {
   "cell_type": "code",
   "execution_count": null,
   "metadata": {},
   "outputs": [],
   "source": [
    "#plt.figure(figsize=(8,5))\n",
    "plt.step(w,f/5, label = 'DEM')\n",
    "plt.plot(mw, lines_mod(mw), label ='Fit')\n",
    "plt.ylim(-0.1e-15, 0.4e-15)\n",
    "#plt.xlim(1170.1, 1179.9)\n",
    "plt.xlim(1190, 1210)\n",
    "plt.legend()\n",
    "plt.axhline(0, ls='--', c='k')\n",
    "plt.xlabel('Wavelength (\\AA)')\n",
    "plt.ylabel('Flux (erg s$^{-1}$cm$^{-2}$\\AA$^{-1}$)')\n",
    "plt.tight_layout()\n",
    "#plt.savefig('mod_eg.png', dpi=150)\n"
   ]
  },
  {
   "cell_type": "code",
   "execution_count": null,
   "metadata": {},
   "outputs": [],
   "source": [
    "plt.plot(w[:-1], np.diff(w) )"
   ]
  },
  {
   "cell_type": "code",
   "execution_count": null,
   "metadata": {},
   "outputs": [],
   "source": [
    "mf = lines_mod(mw)"
   ]
  },
  {
   "cell_type": "code",
   "execution_count": null,
   "metadata": {},
   "outputs": [],
   "source": [
    "mask = mf >0\n",
    "plt.step(mw[mask], mf[mask])"
   ]
  },
  {
   "cell_type": "code",
   "execution_count": null,
   "metadata": {},
   "outputs": [],
   "source": [
    "plt.step(w,f)\n",
    "#plt.xscale('log')\n",
    "plt.yscale('log')\n",
    "#plt.plot(mw[mask], mf[mask])"
   ]
  },
  {
   "cell_type": "code",
   "execution_count": null,
   "metadata": {},
   "outputs": [],
   "source": [
    "mw = np.arange(w[0], w[-1], 0.01)"
   ]
  },
  {
   "cell_type": "code",
   "execution_count": null,
   "metadata": {},
   "outputs": [],
   "source": [
    "mf = lines_mod(mw)"
   ]
  },
  {
   "cell_type": "code",
   "execution_count": null,
   "metadata": {},
   "outputs": [],
   "source": [
    "#mask = (w > mw[0]) & (w< mw[-1])\n",
    "#w2, f2 = w[mask], f[mask]\n",
    "w2, f2 = resample.bintogrid(w,f, newx=mw)"
   ]
  },
  {
   "cell_type": "code",
   "execution_count": null,
   "metadata": {},
   "outputs": [],
   "source": [
    "mf2 = f2+mf"
   ]
  },
  {
   "cell_type": "code",
   "execution_count": null,
   "metadata": {},
   "outputs": [],
   "source": [
    "plt.plot(mw, mf2)\n",
    "plt.ylim(-0.1e-15, 0.4e-15)\n",
    "plt.xlim(1237, 1243)"
   ]
  },
  {
   "cell_type": "markdown",
   "metadata": {},
   "source": [
    "Ok that's not going to work. Need to remove the lines from the DEM then add in the fitted lines."
   ]
  },
  {
   "cell_type": "code",
   "execution_count": null,
   "metadata": {},
   "outputs": [],
   "source": [
    "hdul[1].header"
   ]
  },
  {
   "cell_type": "code",
   "execution_count": null,
   "metadata": {},
   "outputs": [],
   "source": [
    "len(w)"
   ]
  },
  {
   "cell_type": "code",
   "execution_count": null,
   "metadata": {},
   "outputs": [],
   "source": [
    "demf = 1.790471003124503e-17\n",
    "fitf = 6.4e-17 #??"
   ]
  },
  {
   "cell_type": "code",
   "execution_count": null,
   "metadata": {},
   "outputs": [],
   "source": [
    "def wavelength_edges(w):\n",
    "    \"\"\"\n",
    "    Calulates w0 and w1\n",
    "    \"\"\"\n",
    "    diff = np.diff(w)\n",
    "    diff = np.concatenate((np.array([diff[0]]), diff)) #adds an extra value to make len(diff) = len(w)\n",
    "    w0 = w - diff/2.\n",
    "    w1 = w + diff/2.\n",
    "    return w0, w1\n"
   ]
  },
  {
   "cell_type": "code",
   "execution_count": null,
   "metadata": {},
   "outputs": [],
   "source": [
    "w0, w1 = wavelength_edges(w)"
   ]
  },
  {
   "cell_type": "code",
   "execution_count": null,
   "metadata": {},
   "outputs": [],
   "source": [
    "line_edges = [[1174.6,1176.1],[1198.4,1200.95],[1205.9,1206.8],[1238.2,1238.9],[1242.3,1242.75],[1288.5,1288.8],[1333.9, 1334.55],[1334.9,1335.9],[1526.8, 1527.2],[1547.65, 1548.3],[1550.25,1550.75]]"
   ]
  },
  {
   "cell_type": "code",
   "execution_count": null,
   "metadata": {},
   "outputs": [],
   "source": [
    "line_width = np.diff(line_edges)"
   ]
  },
  {
   "cell_type": "code",
   "execution_count": null,
   "metadata": {},
   "outputs": [],
   "source": [
    "flux_table = Table.read('int_flux_table.ecsv')"
   ]
  },
  {
   "cell_type": "code",
   "execution_count": null,
   "metadata": {},
   "outputs": [],
   "source": [
    "fluxes = flux_table['int_flux']\n",
    "#len(fluxes), len(line_edges)\n",
    "fluxes *=1e-16"
   ]
  },
  {
   "cell_type": "code",
   "execution_count": null,
   "metadata": {},
   "outputs": [],
   "source": [
    "f_nl = f"
   ]
  },
  {
   "cell_type": "code",
   "execution_count": null,
   "metadata": {},
   "outputs": [],
   "source": [
    "w_all = np.concatenate((w, w0))\n",
    "arg1inds = np.argsort(w_all)\n",
    "w_all = w_all[arg1inds]\n",
    "w_all[0:19]"
   ]
  },
  {
   "cell_type": "code",
   "execution_count": null,
   "metadata": {},
   "outputs": [],
   "source": [
    "changed_w = np.array([], dtype=float)\n",
    "fractions = []\n",
    "flux_fraction  = np.array([], dtype=float)\n",
    "for edges, flux in zip(line_edges,fluxes):\n",
    "    b, r = edges[0], edges[1]\n",
    "    w0_b = w0[w0 < b]\n",
    "    bv = np.where(w0 ==w0_b[-1])[0][0]\n",
    "    w1_r= w1[w1 > r]\n",
    "    rv = np.where(w1 ==w1_r[0])[0][0]\n",
    "    overlap_w = np.unique([w[bv], w[rv]])\n",
    "    changed_w = np.concatenate((changed_w, overlap_w))\n",
    "    if len(overlap_w) == 1:\n",
    "        fractions.append(1.0)\n",
    "        flux_add = [flux]\n",
    "    else:\n",
    "        frac1 = (w1[bv] - b)/(r-b)\n",
    "        frac2 = 1. - frac1\n",
    "        #print(frac1, frac2)\n",
    "        flux_add = [flux*frac1, flux*frac2]\n",
    "    flux_fraction = np.concatenate((flux_fraction, flux_add))\n",
    "    \n",
    "print(changed_w)\n",
    "print(flux_fraction)"
   ]
  },
  {
   "cell_type": "code",
   "execution_count": null,
   "metadata": {},
   "outputs": [],
   "source": [
    "f_nl = f/(w1-w0)\n",
    "for i in range(len(f_nl)):\n",
    "    j = 0\n",
    "    if w[i] in changed_w:\n",
    "        f_nl[i] = f_nl[i] - flux_fraction[j]\n",
    "        j+=1\n",
    "        "
   ]
  },
  {
   "cell_type": "code",
   "execution_count": null,
   "metadata": {},
   "outputs": [],
   "source": [
    "plt.step(w,f/(w1-w0))\n",
    "plt.step(w, f_nl)\n",
    "plt.ylim(-0.1e-15, 0.4e-15)\n",
    "plt.xlim(1170.1, 1179.9)\n",
    "#plt.xlim(1190, 1210)"
   ]
  },
  {
   "cell_type": "code",
   "execution_count": null,
   "metadata": {},
   "outputs": [],
   "source": [
    "w_new = np.arange(0,2000,1)"
   ]
  },
  {
   "cell_type": "code",
   "execution_count": null,
   "metadata": {},
   "outputs": [],
   "source": [
    "w_new, f_dem_new = resample.bintogrid(w, f_nl, newx=w_new)"
   ]
  },
  {
   "cell_type": "code",
   "execution_count": null,
   "metadata": {},
   "outputs": [],
   "source": [
    "f_lines = lines_mod(w_new)"
   ]
  },
  {
   "cell_type": "code",
   "execution_count": null,
   "metadata": {},
   "outputs": [],
   "source": [
    "f_new = f_dem_new + f_lines"
   ]
  },
  {
   "cell_type": "code",
   "execution_count": null,
   "metadata": {},
   "outputs": [],
   "source": [
    "plt.step(w_new, f_new)\n",
    "plt.plot(mw, lines_mod(mw), zorder=-1)\n",
    "plt.ylim(-0.1e-15, 0.4e-15)\n",
    "#plt.xlim(1170.1, 1179.9)\n",
    "plt.xlim(1190, 1210)"
   ]
  },
  {
   "cell_type": "markdown",
   "metadata": {},
   "source": [
    "Hasn't worked, negative values in the DEM. Replace with fit to points either side?"
   ]
  },
  {
   "cell_type": "markdown",
   "metadata": {},
   "source": [
    "Brief sidetrack - how does dem compare to Linsky? - Need Lya first."
   ]
  },
  {
   "cell_type": "code",
   "execution_count": null,
   "metadata": {},
   "outputs": [],
   "source": [
    "euv = Table.read('../combined/TRAPPIST-1_1Aeuv_estimate.ecsv')"
   ]
  },
  {
   "cell_type": "code",
   "execution_count": null,
   "metadata": {},
   "outputs": [],
   "source": [
    "linw, linf = euv['WAVELENGTH'], euv['FLUX']"
   ]
  },
  {
   "cell_type": "code",
   "execution_count": null,
   "metadata": {},
   "outputs": [],
   "source": [
    "plt.step(linw, linf)\n",
    "plt.step(w,f/(w1-w0))\n",
    "plt.xlim(linw[0], linw[-1])#\n",
    "#plt.ylim(, 1e-15)\n",
    "plt.yscale('log')"
   ]
  },
  {
   "cell_type": "markdown",
   "metadata": {},
   "source": [
    "So comparable."
   ]
  },
  {
   "cell_type": "markdown",
   "metadata": {},
   "source": [
    "What does the dem look like compared with Phoenix?"
   ]
  },
  {
   "cell_type": "code",
   "execution_count": null,
   "metadata": {},
   "outputs": [],
   "source": [
    "plt.plot(w,f/5)"
   ]
  },
  {
   "cell_type": "code",
   "execution_count": null,
   "metadata": {},
   "outputs": [],
   "source": [
    "pmod = Table.read('../optical/unscaled_02560-5.00-0.0_phoenix_trappist-1.ecsv')\n",
    "plt.plot(pmod['WAVELENGTH'], pmod['FLUX'])\n",
    "plt.yscale('log')\n",
    "plt.xlim(2000, 4000)"
   ]
  },
  {
   "cell_type": "code",
   "execution_count": null,
   "metadata": {},
   "outputs": [],
   "source": [
    "pw, pf = pmod['WAVELENGTH'], pmod['FLUX']*1.59e-28"
   ]
  },
  {
   "cell_type": "code",
   "execution_count": null,
   "metadata": {},
   "outputs": [],
   "source": [
    "stis_opt = 'odlm41010_sx1.fits'\n",
    "data = fits.getdata('../combined/'+stis_opt,1)[0]\n",
    "wo = data['WAVELENGTH']#[dt['DQ']==0]\n",
    "fo = data['FLUX']#[dt['DQ']==0]\n",
    "mask = (wo > 4500) & (wo < 5321) | (wo > 5325) & (wo < 5476.5) | (wo > 5480.5) #cutting out overlap and cosmics\n",
    "wo, fo = wo[mask], fo[mask]"
   ]
  },
  {
   "cell_type": "code",
   "execution_count": null,
   "metadata": {},
   "outputs": [],
   "source": [
    "plt.figure(figsize=(8,5))\n",
    "plt.step(w,f/5, where='mid', label='DEM')\n",
    "plt.plot(pw, pf, label='PHOENIX')\n",
    "#plt.step(wo, fo)\n",
    "plt.yscale('log')\n",
    "plt.xlim(1001,3999)\n",
    "plt.tight_layout()\n",
    "plt.legend()\n",
    "#plt.savefig('DEMvPHOENIX.png', dpi=150)"
   ]
  },
  {
   "cell_type": "markdown",
   "metadata": {},
   "source": [
    "So we have a gap."
   ]
  },
  {
   "cell_type": "markdown",
   "metadata": {},
   "source": [
    "Can I interpolate onto a 1A grid using scipy? Craftroom didn't work"
   ]
  },
  {
   "cell_type": "code",
   "execution_count": null,
   "metadata": {},
   "outputs": [],
   "source": [
    "w1 = np.arange(w[0], w[-1], 1.)\n",
    "#w1 = np.arange(0, 2001,1)\n",
    "print(len(w), len(w1))"
   ]
  },
  {
   "cell_type": "code",
   "execution_count": null,
   "metadata": {},
   "outputs": [],
   "source": [
    "f1 = interp1d(w, f/5, fill_value='extrapolate', kind='nearest')(w1)"
   ]
  },
  {
   "cell_type": "code",
   "execution_count": null,
   "metadata": {},
   "outputs": [],
   "source": [
    "plt.plot(w, f/5, 'x', zorder=10)\n",
    "plt.plot(w1, f1, 'o')\n",
    "plt.xlim(400,500)\n",
    "plt.ylim(-0.1e-16, 0.5e-16)"
   ]
  },
  {
   "cell_type": "markdown",
   "metadata": {},
   "source": [
    "Yay! Error - have to deal with in some other way as the spectral resolution is not representitive"
   ]
  },
  {
   "cell_type": "code",
   "execution_count": null,
   "metadata": {},
   "outputs": [],
   "source": [
    "#savedat = Table([w1*u.AA, f1*u.erg/u.s/u.cm**2/u.AA], names=['WAVELENGTH', 'FLUX'])\n",
    "#ascii.write(savedat, 'dem_1A.escv', format='ecsv', overwrite=True)"
   ]
  },
  {
   "cell_type": "code",
   "execution_count": null,
   "metadata": {},
   "outputs": [],
   "source": [
    "f_add = f1\n",
    "f_mod = lines_mod(w1)\n",
    "for i in range(len(w1)):\n",
    "    if f_mod[i] > 0.0:\n",
    "        f_add[i] = 0\n",
    "f_add += f_mod\n",
    "        "
   ]
  },
  {
   "cell_type": "code",
   "execution_count": null,
   "metadata": {},
   "outputs": [],
   "source": [
    "plt.step(w1, f_add)\n",
    "plt.plot(mw, lines_mod(mw))\n",
    "\n",
    "plt.ylim(-0.1e-15, 0.4e-15)\n",
    "#plt.xlim(1170.1, 1179.9)\n",
    "plt.xlim(1190, 1210)"
   ]
  },
  {
   "cell_type": "code",
   "execution_count": null,
   "metadata": {},
   "outputs": [],
   "source": [
    "hdul = fits.open('../xmm/Trappist-1.fits')"
   ]
  },
  {
   "cell_type": "code",
   "execution_count": null,
   "metadata": {},
   "outputs": [],
   "source": [
    "data = hdul[1].data\n",
    "mdata = hdul[2].data"
   ]
  },
  {
   "cell_type": "code",
   "execution_count": null,
   "metadata": {},
   "outputs": [],
   "source": [
    "plt.figure(figsize=(8,5))\n",
    "plt.errorbar(data['WAVE'], data['CFlux'], xerr=data['BIN_WIDTH']/2, yerr = data['CFLUX_err'], ls ='none', label='XMM')\n",
    "#plt.step(data['WAVE'], data['CFlux'], where='mid', label ='XMM')\n",
    "mask = mdata['WAVE'] > data['WAVE'][-1]\n",
    "plt.plot(mdata['WAVE'][mask], mdata['FLUX'][mask], label='APEC')\n",
    "plt.step(w,f/5, where='mid', label='DEM')\n",
    "plt.ylim(7e-19, 5e-15)\n",
    "plt.xlim(11, 179)\n",
    "plt.yscale('log')\n",
    "plt.legend()\n",
    "plt.tight_layout()\n",
    "#plt.savefig('DEMvXMM.png', dpi=150)"
   ]
  },
  {
   "cell_type": "code",
   "execution_count": null,
   "metadata": {},
   "outputs": [],
   "source": [
    "#plt.plot(w,f)\n",
    "g130m = fits.getdata('../COS/test_files/hlsp_muscles_hst_cos_2mass-j23062928-0502285_g130m_v1_component-spec.fits',1)\n",
    "\n",
    "from astropy.convolution import convolve, Box1DKernel\n"
   ]
  },
  {
   "cell_type": "code",
   "execution_count": null,
   "metadata": {},
   "outputs": [],
   "source": [
    "wc, fc = g130m['WAVELENGTH'], g130m['FLUX']\n",
    "fc = convolve(fc,Box1DKernel(5))\n",
    "plt.step(w,f, where='mid')\n",
    "plt.step(wc, fc, where='mid')\n",
    "plt.xlim(1235, 1245)\n",
    "plt.ylim(-0.1e-15, 0.3e-15)"
   ]
  },
  {
   "cell_type": "markdown",
   "metadata": {},
   "source": [
    "20190724 What if we fit a curve to the DEM, then added lines to that?"
   ]
  },
  {
   "cell_type": "code",
   "execution_count": null,
   "metadata": {},
   "outputs": [],
   "source": [
    "plt.plot(w,f)"
   ]
  },
  {
   "cell_type": "code",
   "execution_count": null,
   "metadata": {},
   "outputs": [],
   "source": [
    "#mask = (w < 1200) |(w > 1230)"
   ]
  },
  {
   "cell_type": "code",
   "execution_count": null,
   "metadata": {},
   "outputs": [],
   "source": [
    "#plt.plot(w[mask], f[mask])\n",
    "plt.step(w,f, where='mid')\n",
    "#plt.xscale('log')\n",
    "plt.yscale('log')\n",
    "#plt.plot(mw[mask], mf[mask])"
   ]
  },
  {
   "cell_type": "code",
   "execution_count": null,
   "metadata": {},
   "outputs": [],
   "source": [
    "from astropy.modeling import models, fitting\n",
    "fitter = fitting.LinearLSQFitter()\n",
    "n_init = models.Polynomial1D(4)"
   ]
  },
  {
   "cell_type": "code",
   "execution_count": null,
   "metadata": {},
   "outputs": [],
   "source": [
    "mask = w >1000\n",
    "\n",
    "nfit = fitter(n_init, w[mask],np.log10(f[mask]))"
   ]
  },
  {
   "cell_type": "code",
   "execution_count": null,
   "metadata": {},
   "outputs": [],
   "source": [
    "\n",
    "plt.step(w,f, where='mid')\n",
    "plt.plot(w[mask], 10**nfit(w[mask]))\n",
    "#plt.xscale('log')\n",
    "plt.yscale('log')"
   ]
  },
  {
   "cell_type": "code",
   "execution_count": null,
   "metadata": {},
   "outputs": [],
   "source": [
    "nfit"
   ]
  },
  {
   "cell_type": "code",
   "execution_count": null,
   "metadata": {},
   "outputs": [],
   "source": [
    "#c_new = models.Polynomial1D(2, c0=10**nfit.c0, c1=10**nfit.c1,c2=10**nfit.c2)"
   ]
  },
  {
   "cell_type": "code",
   "execution_count": null,
   "metadata": {},
   "outputs": [],
   "source": [
    "#newmod = lines_mod+c_new"
   ]
  },
  {
   "cell_type": "code",
   "execution_count": null,
   "metadata": {},
   "outputs": [],
   "source": [
    "plt.plot(mw, lines_mod(mw)+10**nfit(mw))\n",
    "plt.xlim(1090, 1230)"
   ]
  },
  {
   "cell_type": "code",
   "execution_count": null,
   "metadata": {},
   "outputs": [],
   "source": [
    "#plt.plot(mw, lines_mod(mw))"
   ]
  },
  {
   "cell_type": "code",
   "execution_count": null,
   "metadata": {},
   "outputs": [],
   "source": [
    "plt.figure(figsize=(8,5))\n",
    "#plt.step(w,f/5, where='mid', label='DEM')\n",
    "plt.plot(mw, lines_mod(mw)+10**nfit(mw))\n",
    "plt.plot(pw, pf, label='PHOENIX')\n",
    "#plt.step(wo, fo)\n",
    "plt.yscale('log')\n",
    "plt.xlim(1001,3999)\n",
    "plt.tight_layout()\n",
    "plt.legend()"
   ]
  },
  {
   "cell_type": "markdown",
   "metadata": {},
   "source": [
    "Hmmm...might have to fit to the COS data?"
   ]
  },
  {
   "cell_type": "code",
   "execution_count": null,
   "metadata": {},
   "outputs": [],
   "source": [
    "overlap_mask = (pw >=1000) & (pw <= 3000)\n",
    "overlap_model = lines_mod(pw[overlap_mask]) + 10**nfit(pw[overlap_mask])\n",
    "overlap_w, overlap_p = pw[overlap_mask], pf[overlap_mask]\n",
    "combined = overlap_model+overlap_p\n",
    "plt.plot(overlap_w, combined)\n",
    "#plt.plot(pw, pf, label='PHOENIX', zorder=-1)\n",
    "plt.yscale('log')\n",
    "plt.xlim(1001,3999)"
   ]
  },
  {
   "cell_type": "code",
   "execution_count": null,
   "metadata": {},
   "outputs": [],
   "source": [
    "#apec \n",
    "apec = fits.getdata('../xmm/Trappist-1.fits',2)\n",
    "plt.plot(apec['Wave'], apec['FLUX'])"
   ]
  },
  {
   "cell_type": "code",
   "execution_count": null,
   "metadata": {},
   "outputs": [],
   "source": [
    "lya = Table.read('../lya/Trappist-1_lya_simple.txt', format='ascii')\n",
    "plt.plot(lya['WAVELENGTH'], lya['FLUX'])\n",
    "lyaw, lyaf = lya['WAVELENGTH'], lya['FLUX'] "
   ]
  },
  {
   "cell_type": "code",
   "execution_count": null,
   "metadata": {},
   "outputs": [],
   "source": [
    "plt.step(apec['Wave'], apec['FLUX'], where='mid')\n",
    "dem_mask = (w > apec['Wave'][-1]) & (w < 1000)\n",
    "plt.step(w[dem_mask], f[dem_mask], where='mid')\n",
    "#lya_mask = (overlap_w < lyaw[0]) | (overlap_w > lyaw[-1])\n",
    "#plt.plot(overlap_w[lya_mask], combined[lya_mask])\n",
    "lya_f_new = interp1d(lyaw, lyaf, bounds_error=False, fill_value=0)(overlap_w)\n",
    "plt.plot(overlap_w, combined+lya_f_new)\n",
    "#plt.plot(lyaw, lyaf)\n",
    "p_mask = pw > 3000\n",
    "plt.plot(pw[p_mask], pf[p_mask])\n",
    "#plt.plot(w,f, zorder=-5)\n",
    "plt.xscale('log')\n",
    "plt.yscale('log')\n",
    "plt.xlim(90, 10000)"
   ]
  },
  {
   "cell_type": "code",
   "execution_count": null,
   "metadata": {},
   "outputs": [],
   "source": [
    "plt.plot(overlap_w, combined+lya_f_new)\n",
    "plt.plot(w,f)\n",
    "plt.xlim(1000, 2000)\n",
    "plt.ylim(-1e-16, 1e-15)"
   ]
  },
  {
   "cell_type": "markdown",
   "metadata": {},
   "source": [
    "What about the STIS CCD spectrum for the gap?"
   ]
  },
  {
   "cell_type": "code",
   "execution_count": null,
   "metadata": {},
   "outputs": [],
   "source": [
    "ccd = '../STIS/odlm41010_sx1.fits'\n",
    "data = fits.getdata(ccd)[0]"
   ]
  },
  {
   "cell_type": "code",
   "execution_count": null,
   "metadata": {},
   "outputs": [],
   "source": [
    "plt.plot(data['WAVELENGTH'], data['FLUX'])"
   ]
  },
  {
   "cell_type": "code",
   "execution_count": null,
   "metadata": {},
   "outputs": [],
   "source": [
    "plt.figure(figsize=(8,5))\n",
    "#plt.step(w,f/5, where='mid', label='DEM')\n",
    "plt.plot(mw, lines_mod(mw)+10**nfit(mw))\n",
    "plt.plot(pw, pf, label='PHOENIX')\n",
    "plt.plot(data['WAVELENGTH'], data['FLUX'])\n",
    "#plt.step(wo, fo)\n",
    "plt.yscale('log')\n",
    "plt.xlim(1001,3999)\n",
    "plt.tight_layout()\n",
    "plt.legend()"
   ]
  },
  {
   "cell_type": "code",
   "execution_count": null,
   "metadata": {},
   "outputs": [],
   "source": [
    "ws, fs, es, dqs= data['WAVELENGTH'], data['FLUX'], data['ERROR'], data['DQ']\n"
   ]
  },
  {
   "cell_type": "code",
   "execution_count": null,
   "metadata": {},
   "outputs": [],
   "source": [
    "plt.step(ws[dqs==0],fs[dqs==0], where='mid')\n",
    "plt.step(ws[dqs==0], es[dqs==0], where='mid')\n",
    "plt.xlim(2900, 4000)\n",
    "plt.ylim(0, 0.25e-15)"
   ]
  },
  {
   "cell_type": "markdown",
   "metadata": {},
   "source": [
    "Ok looks reasonable- can we fit to that?"
   ]
  },
  {
   "cell_type": "code",
   "execution_count": null,
   "metadata": {},
   "outputs": [],
   "source": [
    "plt.figure(figsize=(8,5))\n",
    "#plt.step(w,f/5, where='mid', label='DEM')\n",
    "plt.plot(mw, lines_mod(mw)+10**nfit(mw))\n",
    "plt.plot(pw, pf, label='PHOENIX')\n",
    "plt.step(ws[dqs==0],fs[dqs==0], where='mid')\n",
    "#plt.step(wo, fo)\n",
    "plt.yscale('log')\n",
    "plt.xlim(1001,3999)\n",
    "plt.tight_layout()\n",
    "plt.legend()"
   ]
  },
  {
   "cell_type": "code",
   "execution_count": null,
   "metadata": {},
   "outputs": [],
   "source": [
    "wclean, fclean = ws[dqs==0],fs[dqs==0]"
   ]
  },
  {
   "cell_type": "code",
   "execution_count": null,
   "metadata": {},
   "outputs": [],
   "source": [
    "#w, f, bin_el, bin_eu = data['Wavelength'], data['Bin-Integrated Flux'], data['Lower_Error_16'], data['Upper_Error_84']\n",
    "mask1 = w > 10\n",
    "mask2 = wclean < 4000 \n",
    "#nfit = fitter(n_init, w[mask],np.log10(f[mask]))\n",
    "w2fit, f2fit = np.concatenate((w[mask1], wclean[mask2])), np.concatenate((f[mask1]/5, fclean[mask2]))\n",
    "plt.plot(w2fit, f2fit)\n",
    "plt.yscale('log')"
   ]
  },
  {
   "cell_type": "code",
   "execution_count": null,
   "metadata": {},
   "outputs": [],
   "source": [
    "n_init = models.Polynomial1D(3)\n",
    "nfit = fitter(n_init, w2fit,np.log10(f2fit))\n"
   ]
  },
  {
   "cell_type": "code",
   "execution_count": null,
   "metadata": {},
   "outputs": [],
   "source": [
    "plt.plot(w2fit, f2fit)\n",
    "plt.plot(w2fit, 10**nfit(w2fit))\n",
    "plt.yscale('log')"
   ]
  },
  {
   "cell_type": "code",
   "execution_count": null,
   "metadata": {},
   "outputs": [],
   "source": [
    "overlap_mask = (pw >=1000) & (pw <= 3200)\n",
    "overlap_model = lines_mod(pw[overlap_mask]) + 10**nfit(pw[overlap_mask])\n",
    "overlap_w, overlap_p = pw[overlap_mask], pf[overlap_mask]\n",
    "combined = overlap_model+overlap_p\n",
    "plt.plot(overlap_w, combined)\n",
    "#plt.plot(pw, pf, label='PHOENIX', zorder=-1)\n",
    "plt.yscale('log')\n",
    "plt.xlim(1001,3999)"
   ]
  },
  {
   "cell_type": "code",
   "execution_count": null,
   "metadata": {},
   "outputs": [],
   "source": [
    "plt.step(apec['Wave'], apec['FLUX'], where='mid')\n",
    "dem_mask = (w > apec['Wave'][-1]) & (w < 1100)\n",
    "plt.step(w[dem_mask], f[dem_mask]/5, where='mid')\n",
    "#lya_mask = (overlap_w < lyaw[0]) | (overlap_w > lyaw[-1])\n",
    "#plt.plot(overlap_w[lya_mask], combined[lya_mask])\n",
    "lya_f_new = interp1d(lyaw, lyaf, bounds_error=False, fill_value=0)(overlap_w)\n",
    "plt.plot(overlap_w, combined+lya_f_new)\n",
    "#plt.plot(lyaw, lyaf)\n",
    "p_mask = pw > 3200\n",
    "plt.plot(pw[p_mask], pf[p_mask], zorder=-1)\n",
    "plt.step(w,f/5, zorder=-5, c='0.5', where='mid')\n",
    "plt.xscale('log')\n",
    "plt.yscale('log')\n",
    "plt.xlim(90, 10000)\n",
    "#plt.errorbar((15,60),(1e-13, 1e-13), yerr= [[5e-14,5e-14],[0,0]], c ='k')\n",
    "#plt.annotate('XMM', (20, 2e-13))\n",
    "\n",
    "plt.errorbar((60,120),(1e-13, 1e-13), yerr= [[5e-14,5e-14],[0,0]], c ='k')\n",
    "plt.annotate('APEC', (100, 2e-13))\n",
    "\n",
    "plt.errorbar((120,1060),(1e-13, 1e-13), yerr= [[5e-14,5e-14],[0,0]], c ='k')\n",
    "plt.annotate('DEM', (400, 2e-13))\n",
    "\n",
    "plt.errorbar((1068, 3200),(1e-13, 1e-13), yerr= [[5e-14,5e-14],[0,0]], c ='k')\n",
    "plt.annotate('SEmp Model', (1200, 2e-13))\n",
    "\n",
    "plt.errorbar((3200, 54963),(1e-13, 1e-13), yerr= [[0,5e-14],[0,0]], c ='k')\n",
    "plt.annotate('PHOENIX', (4000, 2e-13))\n",
    "\n",
    "plt.ylim(1e-23, 1e-11)\n",
    "#plt.savefig('SEmp_eg_w_comp.png', dpi= 150)"
   ]
  },
  {
   "cell_type": "code",
   "execution_count": null,
   "metadata": {},
   "outputs": [],
   "source": [
    "apec['WAVE'][-1]"
   ]
  },
  {
   "cell_type": "markdown",
   "metadata": {},
   "source": [
    "Making a nice version for exoupdate"
   ]
  },
  {
   "cell_type": "code",
   "execution_count": null,
   "metadata": {},
   "outputs": [],
   "source": [
    "pw1, pf1 = resample.bintogrid(pw, pf, dx=1)"
   ]
  },
  {
   "cell_type": "code",
   "execution_count": null,
   "metadata": {},
   "outputs": [],
   "source": []
  },
  {
   "cell_type": "code",
   "execution_count": null,
   "metadata": {},
   "outputs": [],
   "source": [
    "plt.figure(figsize=(13, 7))\n",
    "plt.step(apec['Wave'], apec['FLUX'], where='mid')\n",
    "dem_mask = (w > apec['Wave'][-1]) & (w < 1100)\n",
    "plt.step(w[dem_mask], f[dem_mask]/5, where='mid')\n",
    "#lya_mask = (overlap_w < lyaw[0]) | (overlap_w > lyaw[-1])\n",
    "#plt.plot(overlap_w[lya_mask], combined[lya_mask])\n",
    "lya_f_new = interp1d(lyaw, lyaf, bounds_error=False, fill_value=0)(overlap_w)\n",
    "sem_mask = overlap_w > 1100 \n",
    "plt.plot(overlap_w[sem_mask], (combined+lya_f_new)[sem_mask])\n",
    "#plt.plot(lyaw, lyaf)\n",
    "p_mask = pw1 > 3200\n",
    "plt.plot(pw1[p_mask], pf1[p_mask], zorder=-1)\n",
    "#plt.step(w,f/5, zorder=-5, c='0.5', where='mid')\n",
    "plt.xscale('log')\n",
    "plt.yscale('log')\n",
    "#plt.xlim(90, 10000)\n",
    "#plt.errorbar((15,60),(1e-13, 1e-13), yerr= [[5e-14,5e-14],[0,0]], c ='k')\n",
    "#plt.annotate('XMM', (20, 2e-13))\n",
    "\n",
    "plt.errorbar((5,120),(1e-13, 1e-13), yerr= [[5e-14,5e-14],[0,0]], c ='k')\n",
    "plt.annotate('APEC', (20, 2e-13))\n",
    "\n",
    "plt.errorbar((120,1060),(1e-13, 1e-13), yerr= [[5e-14,5e-14],[0,0]], c ='k')\n",
    "plt.annotate('DEM', (250, 2e-13))\n",
    "\n",
    "plt.errorbar((1068, 3200),(1e-13, 1e-13), yerr= [[5e-14,5e-14],[0,0]], c ='k')\n",
    "plt.annotate('SEmp Model', (1050, 2e-13))\n",
    "\n",
    "plt.errorbar((3200, 54963),(1e-13, 1e-13), yerr= [[0,5e-14],[0,0]], c ='k')\n",
    "plt.annotate('PHOENIX', (8000, 2e-13))\n",
    "\n",
    "sol_spec =  readsav('../../../stuff/Solar-data.idlsav')\n",
    "w_sol, f_sol = sol_spec['wave']*10, sol_spec['flux']*100\n",
    "d_t1 = 12.1*u.pc \n",
    "d_sun = 1*u.au.to(u.pc)\n",
    "\n",
    "#### scale by bolometric ps flux\n",
    "r_t1 = 0.117*u.Rsun\n",
    "#r_674 = 0.35*u.Rsun\n",
    "t_t1= 2560*u.K\n",
    "#t_674 = 3400*u.K\n",
    "t_sun = 5777*u.k\n",
    "bb_scale = (u.Rsun**2 * t_sun**4)/(r_t1**2 * t_t1**4)*(d_t1/d_sun)**2\n",
    "plt.step(w_sol[w_sol>5], f_sol[w_sol>5]/bb_scale, zorder=-100, c='k', label = 'Sun (scaled)' , where='mid', alpha=0.3)\n",
    "\n",
    "plt.ylim(1e-22, 1e-11)\n",
    "plt.xlabel('Wavelength (\\AA)')\n",
    "plt.ylabel('Flux (erg s$^{-1}$cm$^{-2}$\\AA$^{-1}$)')\n",
    "plt.legend()\n",
    "plt.tight_layout()\n",
    "plt.savefig('SEmp_v_sun.png', dpi= 150)\n",
    "plt.savefig('SEmp_v_sun.pdf', dpi= 150)"
   ]
  },
  {
   "cell_type": "markdown",
   "metadata": {},
   "source": [
    "Plots of components in the model."
   ]
  },
  {
   "cell_type": "code",
   "execution_count": null,
   "metadata": {},
   "outputs": [],
   "source": [
    "#plt.plot(w2fit, f2fit)\n",
    "plt.step(wclean[mask2], fclean[mask2], where='mid')\n",
    "plt.plot(ws, fs, zorder=-10, alpha=0.3, c='k')\n",
    "plt.step(w[10:], (f/5)[10:], where='mid')\n",
    "plt.plot(w2fit, 10**nfit(w2fit), )\n",
    "plt.plot(pw1, pf1)\n",
    "plt.ylim(1e-24, 1e-13)\n",
    "plt.xlim(10, 3500)\n",
    "plt.yscale('log')\n",
    "\n",
    "#plt.xscale('log')"
   ]
  },
  {
   "cell_type": "markdown",
   "metadata": {},
   "source": [
    "Building and saving the model. First let's get the 1A DEM."
   ]
  },
  {
   "cell_type": "code",
   "execution_count": null,
   "metadata": {},
   "outputs": [],
   "source": [
    "def dem_to_1A(w,f):\n",
    "    \"\"\"\n",
    "    Converts a DEM model at 5A resolution to 1A resolution\n",
    "    \"\"\"\n",
    "    w1 = np.arange(w[0], w[-1], 1.)\n",
    "    f1 = interp1d(w, f, fill_value='extrapolate', kind='nearest')(w1)\n",
    "    return w1, f1"
   ]
  },
  {
   "cell_type": "code",
   "execution_count": null,
   "metadata": {},
   "outputs": [],
   "source": [
    "wd, fd = dem_to_1A(w,f)"
   ]
  },
  {
   "cell_type": "code",
   "execution_count": null,
   "metadata": {},
   "outputs": [],
   "source": [
    "aw, af = apec['Wave'], apec['FLUX']\n",
    "dem_mask = (wd > aw[-1]) & (wd < 1100)\n",
    "dw, df = wd[dem_mask], (fd[dem_mask])/5\n",
    "sem_mask = overlap_w > 1100 \n",
    "semp_w, semp_f = overlap_w[sem_mask], (combined+lya_f_new)[sem_mask]\n",
    "\n",
    "p_mask = pw > 3200\n",
    "pwm, pfm = pw[p_mask], pf[p_mask]\n",
    "plt.plot(aw,af, dw, df, semp_w, semp_f, pwm, pfm)\n",
    "\n",
    "plt.xscale('log')\n",
    "plt.yscale('log')\n",
    "#plt.ylim(1e-24, 1e-13)\n",
    "#plt.xlim(10, 3500)"
   ]
  },
  {
   "cell_type": "code",
   "execution_count": null,
   "metadata": {},
   "outputs": [],
   "source": [
    "model_w = np.concatenate((aw, dw, semp_w, pwm))\n",
    "model_f = np.concatenate((af, df, semp_f, pfm))\n",
    "plt.plot(model_w, model_f)\n",
    "\n",
    "plt.xscale('log')\n",
    "plt.yscale('log')"
   ]
  },
  {
   "cell_type": "markdown",
   "metadata": {},
   "source": [
    "1A model"
   ]
  },
  {
   "cell_type": "code",
   "execution_count": null,
   "metadata": {},
   "outputs": [],
   "source": [
    "model_w_1A, model_f_1A = resample.bintogrid(model_w, model_f, dx=1)"
   ]
  },
  {
   "cell_type": "code",
   "execution_count": null,
   "metadata": {},
   "outputs": [],
   "source": [
    "plt.plot(model_w_1A, model_f_1A)\n",
    "\n",
    "plt.xscale('log')\n",
    "plt.yscale('log')"
   ]
  },
  {
   "cell_type": "markdown",
   "metadata": {},
   "source": [
    "Compare with SED 1A..."
   ]
  },
  {
   "cell_type": "code",
   "execution_count": null,
   "metadata": {},
   "outputs": [],
   "source": [
    "sed = Table.read('../combined/trappist-1_sed_var_res_v04.ecsv')"
   ]
  },
  {
   "cell_type": "code",
   "execution_count": null,
   "metadata": {},
   "outputs": [],
   "source": [
    "sedw1A, sedf1A = resample.bintogrid(sed['WAVELENGTH'], sed['FLUX'], dx=1)"
   ]
  },
  {
   "cell_type": "code",
   "execution_count": null,
   "metadata": {},
   "outputs": [],
   "source": [
    "plt.step(sed['WAVELENGTH'], sed['FLUX'])\n",
    "plt.step(model_w, model_f, zorder=-1)\n",
    "#plt.step(sedw1A[sedf1A > 0], sedf1A[sedf1A >0], where='mid')\n",
    "#plt.step(model_w_1A, model_f_1A, where ='mid')\n",
    "\n",
    "\n",
    "plt.xscale('log')\n",
    "plt.yscale('log')"
   ]
  },
  {
   "cell_type": "markdown",
   "metadata": {},
   "source": [
    "Why is the phoenix spectrum higher in the model? Phew- fixed- mix up over scalings.  \n",
    "\n",
    "As I have all the bits here, making a new STIS v PHOENIX plot."
   ]
  },
  {
   "cell_type": "code",
   "execution_count": null,
   "metadata": {},
   "outputs": [],
   "source": [
    "#plt.plot(w2fit, f2fit)\n",
    "plt.figure(figsize=(8,6))\n",
    "plt.step(pw, pf, label='PHOENIX', where='mid')\n",
    "mask = (wclean <3355) | (wclean > 3365)\n",
    "plt.step(wclean[mask], fclean[mask], where='mid', label='STIS G430L')\n",
    "#plt.plot(ws, fs, zorder=-10, alpha=0.3, c='k')\n",
    "#plt.plot(pw, pf)\n",
    "#plt.ylim(1e-18, 1e-13)\n",
    "plt.ylim(-0.09e-15, 0.69e-15)\n",
    "plt.xlim(2900, 5700)\n",
    "plt.legend()\n",
    "\n",
    "plt.xlabel('Wavelength (\\AA)')\n",
    "plt.ylabel('Flux (erg s$^{-1}$cm$^{-2}$\\AA$^{-1}$)')\n",
    "plt.tight_layout()\n",
    "#plt.xlim(3300, 3400)\n",
    "#plt.yscale('log')\n",
    "plt.savefig('../plots/t1_phoenix_scaling.pdf', dpi=150)"
   ]
  },
  {
   "cell_type": "markdown",
   "metadata": {},
   "source": [
    "Saving the semi-empirical models."
   ]
  },
  {
   "cell_type": "code",
   "execution_count": null,
   "metadata": {},
   "outputs": [],
   "source": [
    "savdat = Table([model_w, model_f], names=['WAVELENGTH', 'FLUX'])\n",
    "ascii.write(savdat, 'trappist-1_model_var_res_v01.ecsv', format='ecsv', overwrite=True)\n",
    "savdat = Table([model_w_1A, model_f_1A], names=['WAVELENGTH', 'FLUX'])\n",
    "ascii.write(savdat, 'trappist-1_model_const_res_v01.ecsv', format='ecsv', overwrite=True)"
   ]
  },
  {
   "cell_type": "code",
   "execution_count": null,
   "metadata": {},
   "outputs": [],
   "source": []
  }
 ],
 "metadata": {
  "kernelspec": {
   "display_name": "Python 3",
   "language": "python",
   "name": "python3"
  },
  "language_info": {
   "codemirror_mode": {
    "name": "ipython",
    "version": 3
   },
   "file_extension": ".py",
   "mimetype": "text/x-python",
   "name": "python",
   "nbconvert_exporter": "python",
   "pygments_lexer": "ipython3",
   "version": "3.7.3"
  }
 },
 "nbformat": 4,
 "nbformat_minor": 4
}
